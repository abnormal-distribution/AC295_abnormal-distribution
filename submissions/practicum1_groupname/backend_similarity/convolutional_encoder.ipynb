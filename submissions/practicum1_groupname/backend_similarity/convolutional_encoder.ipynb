{
 "cells": [
  {
   "cell_type": "code",
   "execution_count": 18,
   "metadata": {},
   "outputs": [],
   "source": [
    "import numpy as np\n",
    "import pandas as pd\n",
    "from PIL import Image\n",
    "\n",
    "from tensorflow.keras.layers import Input, Conv2D, MaxPooling2D, UpSampling2D\n",
    "from tensorflow.keras.models import Model\n",
    "from keras import backend as K\n",
    "from tensorflow.keras.models import load_model\n",
    "\n",
    "import matplotlib.pyplot as plt\n",
    "\n",
    "from gcsfs import GCSFileSystem"
   ]
  },
  {
   "cell_type": "code",
   "execution_count": 7,
   "metadata": {},
   "outputs": [],
   "source": [
    "meta = pd.read_csv('gap_images/metadata.csv')\n",
    "\n",
    "meta['id'] = meta['file_id'].str.slice(4,9)\n",
    "file_key = meta[['id','file_id']]\n",
    "\n",
    "# we would eventually have this as a database table\n",
    "file_key_short = file_key[:1000]\n",
    "\n",
    "#print(file_key_short)"
   ]
  },
  {
   "cell_type": "code",
   "execution_count": 8,
   "metadata": {},
   "outputs": [],
   "source": [
    "# the resize_bw function is Rohit's code\n",
    "def resize_bw(image_in, size, img=None, save=False):\n",
    "    \"\"\"This functions re-sizes a color/grayscale image into new size and grayscale\"\"\"\n",
    "\n",
    "    image = image_in.convert('L').resize(size)\n",
    "\n",
    "    if save:\n",
    "        image.save(PATH_IMAGES_RESIZE_BW + img + '.jpg')\n",
    "        return None\n",
    "    else:\n",
    "        return image"
   ]
  },
  {
   "cell_type": "code",
   "execution_count": 9,
   "metadata": {},
   "outputs": [
    {
     "data": {
      "text/plain": [
       "(9294, 128, 128, 1)"
      ]
     },
     "execution_count": 9,
     "metadata": {},
     "output_type": "execute_result"
    }
   ],
   "source": [
    "image_folder = 'gap_images/gap_images/'\n",
    "SIZE = 128, 128\n",
    "images_array = np.zeros([len(file_key),SIZE[0],SIZE[0],1])\n",
    "\n",
    "for i in range(len(file_key)):\n",
    "    image = Image.open(image_folder + file_key['file_id'][i])\n",
    "    img_bw = resize_bw(image, size=SIZE)\n",
    "    img_bw = np.asarray(img_bw).reshape((SIZE[0], SIZE[1], 1))\n",
    "    images_array[i,:,:,:] = img_bw / 255.\n",
    "\n",
    "    \n",
    "images_array.shape"
   ]
  },
  {
   "cell_type": "code",
   "execution_count": 123,
   "metadata": {},
   "outputs": [],
   "source": [
    "# train and validation data \n",
    "# train on the first 8000 images\n",
    "images_array_train = images_array[:8000,:,:,:]\n",
    "images_array_test = images_array[8000:,:,:,:]\n"
   ]
  },
  {
   "cell_type": "code",
   "execution_count": 65,
   "metadata": {},
   "outputs": [
    {
     "data": {
      "text/plain": [
       "array([[[0.16078431],\n",
       "        [0.11764706],\n",
       "        [0.09803922],\n",
       "        [0.10196078],\n",
       "        [0.09019608]],\n",
       "\n",
       "       [[0.13333333],\n",
       "        [0.14509804],\n",
       "        [0.12156863],\n",
       "        [0.10196078],\n",
       "        [0.11764706]],\n",
       "\n",
       "       [[0.12156863],\n",
       "        [0.08627451],\n",
       "        [0.1372549 ],\n",
       "        [0.1254902 ],\n",
       "        [0.1254902 ]],\n",
       "\n",
       "       [[0.12156863],\n",
       "        [0.1372549 ],\n",
       "        [0.15686275],\n",
       "        [0.14509804],\n",
       "        [0.16862745]],\n",
       "\n",
       "       [[0.14117647],\n",
       "        [0.1372549 ],\n",
       "        [0.11764706],\n",
       "        [0.1372549 ],\n",
       "        [0.16078431]]])"
      ]
     },
     "execution_count": 65,
     "metadata": {},
     "output_type": "execute_result"
    }
   ],
   "source": [
    "images_array_train[53,:5,:5,:]"
   ]
  },
  {
   "cell_type": "code",
   "execution_count": 124,
   "metadata": {},
   "outputs": [],
   "source": [
    "# Creating the model\n",
    "input_img = Input(shape=(128, 128, 1))  \n",
    "\n",
    "x = Conv2D(32, (3, 3), activation='relu', padding='same')(input_img)\n",
    "x = MaxPooling2D((2, 2), padding='same')(x)\n",
    "x = Conv2D(16, (3, 3), activation='relu', padding='same')(x)\n",
    "x = MaxPooling2D((2, 2), padding='same')(x)\n",
    "x = Conv2D(8, (3, 3), activation='relu', padding='same')(x)\n",
    "x = MaxPooling2D((2, 2), padding='same')(x)\n",
    "x = Conv2D(8, (3, 3), activation='relu', padding='same')(x)\n",
    "encoded = MaxPooling2D((2, 2), padding='same')(x)\n",
    "encoder = Model(input_img,encoded)\n",
    "\n",
    "x = Conv2D(8, (3, 3), activation='relu', padding='same')(encoded)\n",
    "x = UpSampling2D((2, 2))(x)\n",
    "x = Conv2D(8, (3, 3), activation='relu', padding='same')(x)\n",
    "x = UpSampling2D((2, 2))(x)\n",
    "x = Conv2D(16, (3, 3), activation='relu', padding='same')(x)\n",
    "x = UpSampling2D((2, 2))(x)\n",
    "x = Conv2D(32, (3, 3), activation='relu', padding='same')(x)\n",
    "x = UpSampling2D((2, 2))(x)\n",
    "decoded = Conv2D(1, (3, 3), activation='sigmoid', padding='same')(x)\n",
    "\n",
    "autoencoder = Model(input_img, decoded)\n",
    "autoencoder.compile(optimizer='adam', loss='binary_crossentropy')\n",
    "\n"
   ]
  },
  {
   "cell_type": "code",
   "execution_count": 125,
   "metadata": {},
   "outputs": [
    {
     "name": "stdout",
     "output_type": "stream",
     "text": [
      "Model: \"functional_79\"\n",
      "_________________________________________________________________\n",
      "Layer (type)                 Output Shape              Param #   \n",
      "=================================================================\n",
      "input_20 (InputLayer)        [(None, 128, 128, 1)]     0         \n",
      "_________________________________________________________________\n",
      "conv2d_177 (Conv2D)          (None, 128, 128, 32)      320       \n",
      "_________________________________________________________________\n",
      "max_pooling2d_79 (MaxPooling (None, 64, 64, 32)        0         \n",
      "_________________________________________________________________\n",
      "conv2d_178 (Conv2D)          (None, 64, 64, 16)        4624      \n",
      "_________________________________________________________________\n",
      "max_pooling2d_80 (MaxPooling (None, 32, 32, 16)        0         \n",
      "_________________________________________________________________\n",
      "conv2d_179 (Conv2D)          (None, 32, 32, 8)         1160      \n",
      "_________________________________________________________________\n",
      "max_pooling2d_81 (MaxPooling (None, 16, 16, 8)         0         \n",
      "_________________________________________________________________\n",
      "conv2d_180 (Conv2D)          (None, 16, 16, 8)         584       \n",
      "_________________________________________________________________\n",
      "max_pooling2d_82 (MaxPooling (None, 8, 8, 8)           0         \n",
      "_________________________________________________________________\n",
      "conv2d_181 (Conv2D)          (None, 8, 8, 8)           584       \n",
      "_________________________________________________________________\n",
      "up_sampling2d_79 (UpSampling (None, 16, 16, 8)         0         \n",
      "_________________________________________________________________\n",
      "conv2d_182 (Conv2D)          (None, 16, 16, 8)         584       \n",
      "_________________________________________________________________\n",
      "up_sampling2d_80 (UpSampling (None, 32, 32, 8)         0         \n",
      "_________________________________________________________________\n",
      "conv2d_183 (Conv2D)          (None, 32, 32, 16)        1168      \n",
      "_________________________________________________________________\n",
      "up_sampling2d_81 (UpSampling (None, 64, 64, 16)        0         \n",
      "_________________________________________________________________\n",
      "conv2d_184 (Conv2D)          (None, 64, 64, 32)        4640      \n",
      "_________________________________________________________________\n",
      "up_sampling2d_82 (UpSampling (None, 128, 128, 32)      0         \n",
      "_________________________________________________________________\n",
      "conv2d_185 (Conv2D)          (None, 128, 128, 1)       289       \n",
      "=================================================================\n",
      "Total params: 13,953\n",
      "Trainable params: 13,953\n",
      "Non-trainable params: 0\n",
      "_________________________________________________________________\n"
     ]
    }
   ],
   "source": [
    "autoencoder.summary()"
   ]
  },
  {
   "cell_type": "code",
   "execution_count": 126,
   "metadata": {},
   "outputs": [
    {
     "name": "stdout",
     "output_type": "stream",
     "text": [
      "Epoch 1/10\n",
      "32/32 [==============================] - 133s 4s/step - loss: 0.6564 - val_loss: 0.6342\n",
      "Epoch 2/10\n",
      "32/32 [==============================] - 134s 4s/step - loss: 0.5963 - val_loss: 0.6022\n",
      "Epoch 3/10\n",
      "32/32 [==============================] - 136s 4s/step - loss: 0.5772 - val_loss: 0.5774\n",
      "Epoch 4/10\n",
      "32/32 [==============================] - 135s 4s/step - loss: 0.5697 - val_loss: 0.5751\n",
      "Epoch 5/10\n",
      "32/32 [==============================] - 134s 4s/step - loss: 0.5675 - val_loss: 0.5737\n",
      "Epoch 6/10\n",
      "32/32 [==============================] - 134s 4s/step - loss: 0.5664 - val_loss: 0.5726\n",
      "Epoch 7/10\n",
      "32/32 [==============================] - 134s 4s/step - loss: 0.5655 - val_loss: 0.5723\n",
      "Epoch 8/10\n",
      "32/32 [==============================] - 134s 4s/step - loss: 0.5646 - val_loss: 0.5712\n",
      "Epoch 9/10\n",
      "32/32 [==============================] - 135s 4s/step - loss: 0.5642 - val_loss: 0.5711\n",
      "Epoch 10/10\n",
      "32/32 [==============================] - 137s 4s/step - loss: 0.5639 - val_loss: 0.5707\n"
     ]
    },
    {
     "data": {
      "text/plain": [
       "<tensorflow.python.keras.callbacks.History at 0x2418c573128>"
      ]
     },
     "execution_count": 126,
     "metadata": {},
     "output_type": "execute_result"
    }
   ],
   "source": [
    "# training the model\n",
    "autoencoder.fit(images_array_train,images_array_train, epochs=10,\n",
    "                batch_size=256,\n",
    "                shuffle=True,\n",
    "                validation_data=(images_array_test, images_array_test))\n",
    "                "
   ]
  },
  {
   "cell_type": "code",
   "execution_count": 106,
   "metadata": {},
   "outputs": [
    {
     "data": {
      "image/png": "[encoded data removed]",
      "text/plain": [
       "<Figure size 432x288 with 1 Axes>"
      ]
     },
     "metadata": {
      "needs_background": "light"
     },
     "output_type": "display_data"
    }
   ],
   "source": [
    "# Examining sample encoding\n",
    "image = Image.open(image_folder + file_key_short['file_id'][53])\n",
    "img_bw = resize_bw(image, size=SIZE)\n",
    "img_bw = np.asarray(img_bw).reshape((SIZE[0], SIZE[1], 1))\n",
    "\n",
    "img_bw3 = np.zeros([SIZE[0],SIZE[1],3])\n",
    "for i in range(3):\n",
    "    img_bw3[:,:,i] = img_bw[:,:,0] / 255.\n",
    "    \n",
    "    \n",
    "#img_bw3.shape\n",
    "\n",
    "plt.imshow(img_bw3);"
   ]
  },
  {
   "cell_type": "code",
   "execution_count": 127,
   "metadata": {},
   "outputs": [
    {
     "data": {
      "image/png": "[encoded data removed]",
      "text/plain": [
       "<Figure size 432x288 with 1 Axes>"
      ]
     },
     "metadata": {
      "needs_background": "light"
     },
     "output_type": "display_data"
    }
   ],
   "source": [
    "pred = autoencoder.predict(img_bw.reshape([1,128,128,1]) / 255.)\n",
    "\n",
    "pred.shape\n",
    "\n",
    "pred_img = np.zeros([SIZE[0],SIZE[1],3])\n",
    "for i in range(3):\n",
    "    pred_img[:,:,i] = pred[0,:,:,0]\n",
    "\n",
    "plt.imshow(pred_img);"
   ]
  },
  {
   "cell_type": "code",
   "execution_count": 128,
   "metadata": {},
   "outputs": [],
   "source": [
    "enc = encoder.predict(images_array)"
   ]
  },
  {
   "cell_type": "code",
   "execution_count": 129,
   "metadata": {},
   "outputs": [
    {
     "data": {
      "text/plain": [
       "(9294, 8, 8, 8)"
      ]
     },
     "execution_count": 129,
     "metadata": {},
     "output_type": "execute_result"
    }
   ],
   "source": [
    "enc.shape"
   ]
  },
  {
   "cell_type": "code",
   "execution_count": 132,
   "metadata": {},
   "outputs": [],
   "source": [
    "# saving the model and encoding\n",
    "\n",
    "encoder.save('conv_encoder.h5')\n",
    "autoencoder.save('conv_encoder_decoder.h5')\n",
    "\n",
    "with open('conv_encoding.npy', 'wb') as f1:\n",
    "    np.save(f1, enc)\n",
    "    "
   ]
  },
  {
   "cell_type": "code",
   "execution_count": 143,
   "metadata": {},
   "outputs": [],
   "source": [
    "# Write encodings to Google Cloud bucket - but don't have permission\n",
    "#gcs = GCSFileSystem(project='practicum1-abnormal-distribution')\n",
    "#gcs.ls('practicum1-abnormal-distribution/data')\n",
    "#\n",
    "#with gcs.open('data/conv_encoding.npy', 'wb') as f2:\n",
    "#    np.save(f2, enc)"
   ]
  },
  {
   "cell_type": "markdown",
   "metadata": {},
   "source": [
    "### In order to use the encoded representation:\n",
    "### - load the model in the conv_encoder.h5 file\n",
    "### - run the model's predict function on an image prepared as follows:\n",
    "###     -- 128x128x1 such as created by the resize_bw function\n",
    "###     -- add an 4th dimension e.g. reshape([1,128,128,1])\n",
    "###     -- rescale by dividing by 255. so values are between 0 and 1 (and noninteger)"
   ]
  },
  {
   "cell_type": "code",
   "execution_count": 23,
   "metadata": {},
   "outputs": [
    {
     "name": "stdout",
     "output_type": "stream",
     "text": [
      "WARNING:tensorflow:No training configuration found in the save file, so the model was *not* compiled. Compile it manually.\n"
     ]
    }
   ],
   "source": [
    "image = Image.open(image_folder + file_key['file_id'][53])\n",
    "img_bw = resize_bw(image, size=SIZE)\n",
    "img_bw = np.asarray(img_bw).reshape((SIZE[0], SIZE[1], 1))\n",
    "\n",
    "conv_encoder = load_model('conv_encoder.h5')\n",
    "conv_encoder_decoder = load_model('conv_encoder_decoder.h5')\n",
    "\n",
    "#pred = autoencoder.predict(img_bw.reshape([1,128,128,1]) / 255.)"
   ]
  },
  {
   "cell_type": "code",
   "execution_count": 25,
   "metadata": {},
   "outputs": [
    {
     "data": {
      "image/png": "[encoded data removed]",
      "text/plain": [
       "<Figure size 432x288 with 1 Axes>"
      ]
     },
     "metadata": {
      "needs_background": "light"
     },
     "output_type": "display_data"
    }
   ],
   "source": [
    "pred = conv_encoder_decoder.predict(img_bw.reshape([1,128,128,1]) / 255.)\n",
    "pred.shape\n",
    "\n",
    "pred_img = np.zeros([SIZE[0],SIZE[1],3])\n",
    "for i in range(3):\n",
    "    pred_img[:,:,i] = pred[0,:,:,0]\n",
    "\n",
    "plt.imshow(pred_img);"
   ]
  },
  {
   "cell_type": "code",
   "execution_count": 26,
   "metadata": {},
   "outputs": [
    {
     "data": {
      "text/plain": [
       "array([[[[0.268023  , 1.0061646 , 0.        , 0.6802024 , 0.4706757 ,\n",
       "          0.7527358 , 0.25358295, 0.        ],\n",
       "         [0.06941168, 1.0088513 , 0.        , 0.66800386, 0.24091704,\n",
       "          0.7333852 , 0.11133149, 0.        ],\n",
       "         [0.06687052, 0.9732602 , 0.        , 0.6883022 , 0.21247545,\n",
       "          0.7355861 , 0.11024286, 0.        ],\n",
       "         [0.06797476, 0.95053965, 0.        , 0.73899925, 0.19136964,\n",
       "          0.72957987, 0.12515591, 0.        ],\n",
       "         [0.06684317, 0.9563502 , 0.        , 0.69751173, 0.1967191 ,\n",
       "          0.73062104, 0.11944027, 0.        ],\n",
       "         [0.06497218, 0.9775729 , 0.        , 0.65730274, 0.21126933,\n",
       "          0.72411036, 0.10804771, 0.        ],\n",
       "         [0.05753104, 0.9548916 , 0.        , 0.66754854, 0.2060432 ,\n",
       "          0.7099122 , 0.103701  , 0.        ],\n",
       "         [0.06459171, 0.95960844, 0.        , 0.66156125, 0.22297248,\n",
       "          0.83249366, 0.11325949, 0.        ]],\n",
       "\n",
       "        [[0.11118592, 1.1161201 , 0.        , 0.7243862 , 0.5262757 ,\n",
       "          0.7795548 , 0.11151183, 0.        ],\n",
       "         [0.05675153, 1.0897362 , 0.        , 0.70484245, 0.25148436,\n",
       "          0.77010834, 0.02538094, 0.        ],\n",
       "         [0.        , 0.88776535, 0.        , 0.80729246, 0.00869845,\n",
       "          0.6603525 , 0.0517074 , 0.        ],\n",
       "         [0.        , 0.6262077 , 0.        , 0.80776644, 0.        ,\n",
       "          0.34660423, 0.12209195, 0.        ],\n",
       "         [0.0118125 , 0.73083824, 0.        , 0.78200454, 0.32542124,\n",
       "          0.42807305, 0.16363193, 0.        ],\n",
       "         [0.0076395 , 0.9313219 , 0.        , 0.70198   , 0.22559449,\n",
       "          0.6185131 , 0.04814507, 0.        ],\n",
       "         [0.03120043, 0.93531   , 0.        , 0.70022017, 0.1820495 ,\n",
       "          0.59474134, 0.00834601, 0.        ],\n",
       "         [0.04475803, 0.94216835, 0.        , 0.6903527 , 0.2113097 ,\n",
       "          0.8170526 , 0.05188405, 0.        ]],\n",
       "\n",
       "        [[0.06925619, 1.1581532 , 0.        , 0.78066516, 0.5286111 ,\n",
       "          0.7740574 , 0.08831577, 0.        ],\n",
       "         [0.01839352, 1.0987016 , 0.        , 0.7542176 , 0.18265723,\n",
       "          0.7855521 , 0.07914923, 0.        ],\n",
       "         [0.18994564, 0.6194234 , 0.        , 0.6332583 , 0.01499617,\n",
       "          0.59594965, 0.23572147, 0.        ],\n",
       "         [0.18519449, 0.16544706, 0.        , 0.3578848 , 0.12690926,\n",
       "          0.3101    , 0.28020945, 0.        ],\n",
       "         [0.18223329, 0.5085677 , 0.        , 0.42108864, 0.42329937,\n",
       "          0.36499912, 0.22966406, 0.        ],\n",
       "         [0.01899734, 0.7265586 , 0.        , 0.671527  , 0.33156514,\n",
       "          0.4885112 , 0.08352429, 0.        ],\n",
       "         [0.04975692, 0.7491496 , 0.        , 0.6606157 , 0.14928707,\n",
       "          0.4424664 , 0.05754781, 0.        ],\n",
       "         [0.05580033, 0.7908492 , 0.        , 0.6656535 , 0.17756535,\n",
       "          0.6787243 , 0.09120902, 0.        ]],\n",
       "\n",
       "        [[0.04337708, 1.1115115 , 0.        , 0.7751142 , 0.49556452,\n",
       "          0.73520434, 0.07028386, 0.        ],\n",
       "         [0.08715417, 1.021344  , 0.        , 0.75473666, 0.1215625 ,\n",
       "          0.71940243, 0.07215823, 0.        ],\n",
       "         [0.18046919, 0.70674163, 0.        , 0.6149344 , 0.06674032,\n",
       "          0.6047419 , 0.20298678, 0.        ],\n",
       "         [0.15709788, 0.34382895, 0.        , 0.46035326, 0.08176655,\n",
       "          0.39907822, 0.20422858, 0.        ],\n",
       "         [0.12918033, 0.5252507 , 0.        , 0.42464012, 0.35698974,\n",
       "          0.41763356, 0.20637292, 0.        ],\n",
       "         [0.05686068, 0.6365994 , 0.        , 0.5925397 , 0.24372482,\n",
       "          0.508796  , 0.11984898, 0.        ],\n",
       "         [0.08481453, 0.609212  , 0.        , 0.5514742 , 0.17425239,\n",
       "          0.42240995, 0.0869544 , 0.        ],\n",
       "         [0.09638388, 0.6447126 , 0.        , 0.54546326, 0.18926533,\n",
       "          0.609295  , 0.0978635 , 0.        ]],\n",
       "\n",
       "        [[0.05623574, 1.0071539 , 0.        , 0.73794305, 0.47224605,\n",
       "          0.72171664, 0.07338026, 0.        ],\n",
       "         [0.0768108 , 0.9167065 , 0.        , 0.72499865, 0.08547962,\n",
       "          0.65741146, 0.05668795, 0.        ],\n",
       "         [0.18252024, 0.68083125, 0.        , 0.581047  , 0.17595176,\n",
       "          0.52970797, 0.1961841 , 0.        ],\n",
       "         [0.27318358, 0.4506671 , 0.        , 0.50133127, 0.15939388,\n",
       "          0.55846834, 0.20161536, 0.        ],\n",
       "         [0.03343133, 0.51805735, 0.        , 0.5228693 , 0.3140083 ,\n",
       "          0.38130116, 0.22866689, 0.        ],\n",
       "         [0.12263853, 0.6136916 , 0.        , 0.5600937 , 0.30839875,\n",
       "          0.6048986 , 0.22220187, 0.        ],\n",
       "         [0.1023527 , 0.6436993 , 0.        , 0.5301921 , 0.2291437 ,\n",
       "          0.559246  , 0.10365219, 0.        ],\n",
       "         [0.09889816, 0.64034086, 0.        , 0.525041  , 0.1963952 ,\n",
       "          0.62401915, 0.10144868, 0.        ]],\n",
       "\n",
       "        [[0.04949304, 0.90892136, 0.        , 0.7223614 , 0.39267355,\n",
       "          0.684013  , 0.07744831, 0.        ],\n",
       "         [0.11673135, 0.8155903 , 0.        , 0.66980857, 0.22750926,\n",
       "          0.56524724, 0.09298553, 0.        ],\n",
       "         [0.15909383, 0.7533179 , 0.        , 0.5647458 , 0.23263565,\n",
       "          0.55275166, 0.09690328, 0.        ],\n",
       "         [0.27314034, 0.7445386 , 0.        , 0.5578498 , 0.23337938,\n",
       "          0.6284521 , 0.23712933, 0.        ],\n",
       "         [0.2906532 , 0.61335146, 0.        , 0.52272254, 0.32986078,\n",
       "          0.57758594, 0.25763303, 0.        ],\n",
       "         [0.1604211 , 0.8165382 , 0.        , 0.6472279 , 0.587041  ,\n",
       "          0.6590528 , 0.274269  , 0.        ],\n",
       "         [0.12192477, 0.86855954, 0.        , 0.5952046 , 0.16842131,\n",
       "          0.82074285, 0.12903489, 0.        ],\n",
       "         [0.12969197, 0.76719886, 0.        , 0.5392629 , 0.26630318,\n",
       "          0.75150263, 0.1121709 , 0.        ]],\n",
       "\n",
       "        [[0.09911526, 0.8682212 , 0.        , 0.6714619 , 0.3920795 ,\n",
       "          0.61104435, 0.09354389, 0.        ],\n",
       "         [0.11448248, 0.88936573, 0.        , 0.6203061 , 0.29903743,\n",
       "          0.6250394 , 0.10135579, 0.        ],\n",
       "         [0.09482415, 0.8791924 , 0.        , 0.59821063, 0.24601859,\n",
       "          0.6844029 , 0.07194076, 0.        ],\n",
       "         [0.1215046 , 0.8763191 , 0.        , 0.6130154 , 0.24619333,\n",
       "          0.6197489 , 0.16541003, 0.        ],\n",
       "         [0.2476218 , 0.86300457, 0.        , 0.5722765 , 0.25840256,\n",
       "          0.6251018 , 0.1542913 , 0.        ],\n",
       "         [0.0232477 , 1.0308557 , 0.        , 0.7105025 , 0.44530714,\n",
       "          0.6656284 , 0.09879476, 0.        ],\n",
       "         [0.15462676, 1.0053408 , 0.        , 0.7569177 , 0.23971193,\n",
       "          0.76598126, 0.07740289, 0.        ],\n",
       "         [0.11764017, 0.9796858 , 0.        , 0.6581096 , 0.28791466,\n",
       "          0.88556725, 0.0860849 , 0.        ]],\n",
       "\n",
       "        [[0.121347  , 0.9006427 , 0.        , 0.82896644, 0.41007063,\n",
       "          0.63968533, 0.10237113, 0.        ],\n",
       "         [0.07123869, 0.9736832 , 0.        , 0.8338283 , 0.31010213,\n",
       "          0.6406624 , 0.05834855, 0.        ],\n",
       "         [0.0850754 , 0.9683577 , 0.        , 0.86593544, 0.25166366,\n",
       "          0.6878426 , 0.04380472, 0.        ],\n",
       "         [0.06851561, 0.9114542 , 0.        , 0.83654237, 0.25719053,\n",
       "          0.6345001 , 0.04784063, 0.        ],\n",
       "         [0.08914154, 0.9441475 , 0.        , 0.825232  , 0.26307234,\n",
       "          0.6380812 , 0.05403186, 0.        ],\n",
       "         [0.04285821, 1.0603865 , 0.        , 0.8681846 , 0.29782996,\n",
       "          0.66040313, 0.02569111, 0.        ],\n",
       "         [0.07201026, 1.0707797 , 0.        , 0.9165368 , 0.274455  ,\n",
       "          0.7095742 , 0.01808444, 0.        ],\n",
       "         [0.05595481, 1.0469049 , 0.        , 0.89797026, 0.2329208 ,\n",
       "          0.896828  , 0.035609  , 0.        ]]]], dtype=float32)"
      ]
     },
     "execution_count": 26,
     "metadata": {},
     "output_type": "execute_result"
    }
   ],
   "source": [
    "pred_encoding = conv_encoder.predict(img_bw.reshape([1,128,128,1]) / 255.)\n",
    "\n",
    "pred_encoding"
   ]
  }
 ],
 "metadata": {
  "kernelspec": {
   "display_name": "Python 3",
   "language": "python",
   "name": "python3"
  },
  "language_info": {
   "codemirror_mode": {
    "name": "ipython",
    "version": 3
   },
   "file_extension": ".py",
   "mimetype": "text/x-python",
   "name": "python",
   "nbconvert_exporter": "python",
   "pygments_lexer": "ipython3",
   "version": "3.7.3"
  }
 },
 "nbformat": 4,
 "nbformat_minor": 2
}
