{
  "nbformat": 4,
  "nbformat_minor": 0,
  "metadata": {
    "colab": {
      "name": "TFRecords.ipynb",
      "provenance": [],
      "collapsed_sections": [],
      "toc_visible": true
    },
    "kernelspec": {
      "name": "python3",
      "display_name": "Python 3"
    }
  },
  "cells": [
    {
      "cell_type": "markdown",
      "metadata": {
        "id": "Ch6vpxrwQdcc"
      },
      "source": [
        "<h1 style=\"padding-top: 25px;padding-bottom: 25px;text-align: left; padding-left: 10px; background-color: #DDDDDD; \n",
        "    color: black;\"> <img style=\"float: left; padding-right: 10px; width: 45px\" src=\"https://raw.githubusercontent.com/Harvard-IACS/2018-CS109A/master/content/styles/iacs.png\"> AC295: Advanced Practical Data Science </h1>\n",
        "\n",
        "## Practicum 2: Visual Question Answering\n",
        "\n",
        "**Harvard University, Fall 2020**  \n",
        "**Instructors**: Pavlos Protopapas  \n",
        "\n",
        "### **Team: $\\alpha\\beta normal$ $Distri\\beta ution$**\n",
        "#### **Roht Beri, Eduardo Peynetti, Jessica Wijaya, Stuart Neilson**"
      ]
    },
    {
      "cell_type": "markdown",
      "metadata": {
        "id": "86zGynCVRsdD"
      },
      "source": [
        "## Creating TFRecords Datasets"
      ]
    },
    {
      "cell_type": "markdown",
      "metadata": {
        "id": "86C4-p4lR6jE"
      },
      "source": [
        "### Imports"
      ]
    },
    {
      "cell_type": "code",
      "metadata": {
        "id": "dXHPXTLpQZ4V"
      },
      "source": [
        "import os\n",
        "import requests\n",
        "import tempfile\n",
        "import zipfile\n",
        "import shutil\n",
        "import json\n",
        "import time\n",
        "import sys\n",
        "import cv2\n",
        "import numpy as np\n",
        "import pandas as pd\n",
        "from collections import Counter\n",
        "from glob import glob\n",
        "from google.colab import drive\n",
        "from tqdm.notebook import trange, tqdm\n",
        "import subprocess\n",
        "import matplotlib.pyplot as plt\n",
        "%matplotlib inline\n",
        "\n",
        "import tensorflow as tf\n",
        "import tensorflow_addons as tfa\n",
        "import tensorflow_hub as hub\n",
        "from tensorflow import keras\n",
        "from tensorflow.python.keras import backend as K\n",
        "from tensorflow.keras.models import Model, Sequential\n",
        "from tensorflow.keras import layers\n",
        "from tensorflow.keras import activations\n",
        "from tensorflow.keras import optimizers\n",
        "from tensorflow.keras import losses\n",
        "from tensorflow.keras import metrics\n",
        "from tensorflow.keras import initializers\n",
        "from tensorflow.keras import regularizers\n",
        "from tensorflow.keras.utils import to_categorical\n",
        "from keras.utils.layer_utils import count_params\n",
        "from tensorflow_addons.metrics import F1Score\n",
        "\n",
        "from sklearn.model_selection import train_test_split"
      ],
      "execution_count": 1,
      "outputs": []
    },
    {
      "cell_type": "markdown",
      "metadata": {
        "id": "EDHE_Nd6SCy7"
      },
      "source": [
        "### Utils"
      ]
    },
    {
      "cell_type": "code",
      "metadata": {
        "id": "UG29KGghUgqZ"
      },
      "source": [
        "# Paths to big and small datasets\n",
        "PATHS_BIG = [\n",
        "    'https://public-dataset-store.s3.amazonaws.com/visualqa_2017/train2014.zip',\n",
        "    'https://public-dataset-store.s3.amazonaws.com/visualqa_2017/v2_Questions_Train_mscoco.zip',\n",
        "    'https://s3.amazonaws.com/cvmlp/vqa/mscoco/vqa/v2_Annotations_Train_mscoco.zip',\n",
        "    'https://public-dataset-store.s3.amazonaws.com/visualqa_2017/val2014.zip',\n",
        "    'https://public-dataset-store.s3.amazonaws.com/visualqa_2017/v2_Questions_Val_mscoco.zip',\n",
        "    'https://s3.amazonaws.com/cvmlp/vqa/mscoco/vqa/v2_Annotations_Val_mscoco.zip'\n",
        "]\n",
        "\n",
        "PATHS_SMALL = [\n",
        "    'https://storage.googleapis.com/ac295-data-store/visualqa_2017_small/train2014.zip',\n",
        "    'https://public-dataset-store.s3.amazonaws.com/visualqa_2017/v2_Questions_Train_mscoco.zip',\n",
        "    'https://s3.amazonaws.com/cvmlp/vqa/mscoco/vqa/v2_Annotations_Train_mscoco.zip',\n",
        "    'https://storage.googleapis.com/ac295-data-store/visualqa_2017_small/val2014.zip',\n",
        "    'https://public-dataset-store.s3.amazonaws.com/visualqa_2017/v2_Questions_Val_mscoco.zip',\n",
        "    'https://s3.amazonaws.com/cvmlp/vqa/mscoco/vqa/v2_Annotations_Val_mscoco.zip'\n",
        "]"
      ],
      "execution_count": 2,
      "outputs": []
    },
    {
      "cell_type": "code",
      "metadata": {
        "id": "torr3VlTSA8n"
      },
      "source": [
        "# Download Data \n",
        "# Credit: https://github.com/arya46/portfolio_notebooks/blob/master/Visual%20Question%20Answering/VQA%203%20Model.ipynb\n",
        "def download_vqa_data(paths):\n",
        "    Questions_Train_mscoco = tf.keras.utils.get_file(\n",
        "        'v2_Questions_Train_mscoco.zip',\n",
        "        cache_subdir=os.path.abspath('/content/data'),\n",
        "        origin = paths[1],\n",
        "        extract = True\n",
        "    )\n",
        "    print(\"Training Question Extracted\")\n",
        "\n",
        "    Questions_Val_mscoco = tf.keras.utils.get_file('v2_Questions_Val_mscoco.zip',\n",
        "        cache_subdir=os.path.abspath('/content/data'),\n",
        "        origin = paths[4],\n",
        "        extract = True\n",
        "    )\n",
        "    print(\"Validation Question Extracted\")\n",
        "\n",
        "    Annotations_Train_mscoco = tf.keras.utils.get_file(\n",
        "        'v2_Annotations_Train_mscoco.zip',\n",
        "        cache_subdir=os.path.abspath('/content/data'),\n",
        "        origin = paths[2],\n",
        "        extract = True\n",
        "    )\n",
        "    print(\"Training Annotations Extracted\")\n",
        "\n",
        "    Annotations_Val_mscoco = tf.keras.utils.get_file(\n",
        "        'v2_Annotations_Val_mscoco.zip',\n",
        "        cache_subdir=os.path.abspath('/content/data'),\n",
        "        origin = paths[5],\n",
        "        extract = True\n",
        "    )\n",
        "    print(\"Validation Annotations Extracted\")\n",
        "\n",
        "    image_train = tf.keras.utils.get_file(\n",
        "        'train2014.zip',\n",
        "        cache_subdir=os.path.abspath('/content/data'),\n",
        "        origin = paths[0],\n",
        "        extract = True\n",
        "    )\n",
        "    print(\"Training Images Extracted\")\n",
        "\n",
        "    image_val = tf.keras.utils.get_file(\n",
        "        'val2014.zip',\n",
        "        cache_subdir=os.path.abspath('/content/data'),\n",
        "        origin = paths[3],\n",
        "        extract = True\n",
        "    )\n",
        "    print(\"Validation Images Extracted\")\n",
        "\n",
        "    # Remove the zip files\n",
        "    os.remove(Questions_Train_mscoco)\n",
        "    os.remove(Questions_Val_mscoco)\n",
        "    os.remove(Annotations_Train_mscoco)\n",
        "    os.remove(Annotations_Val_mscoco)\n",
        "    os.remove(image_train)\n",
        "    os.remove(image_val)"
      ],
      "execution_count": 3,
      "outputs": []
    },
    {
      "cell_type": "code",
      "metadata": {
        "id": "_TbePIRhYPDw"
      },
      "source": [
        "# The following functions can be used to convert a value to a type compatible\n",
        "# with tf.train.Example.\n",
        "# Credit: https://www.tensorflow.org/tutorials/load_data/tfrecord\n",
        "\n",
        "def _bytes_feature(value):\n",
        "  \"\"\"Returns a bytes_list from a string / byte.\"\"\"\n",
        "  if isinstance(value, type(tf.constant(0))):\n",
        "    value = value.numpy() # BytesList won't unpack a string from an EagerTensor.\n",
        "  return tf.train.Feature(bytes_list=tf.train.BytesList(value=[value]))\n",
        "\n",
        "def _float_feature(value):\n",
        "  \"\"\"Returns a float_list from a float / double.\"\"\"\n",
        "  return tf.train.Feature(float_list=tf.train.FloatList(value=[value]))\n",
        "\n",
        "def _int64_feature(value):\n",
        "  \"\"\"Returns an int64_list from a bool / enum / int / uint.\"\"\"\n",
        "  return tf.train.Feature(int64_list=tf.train.Int64List(value=[value]))"
      ],
      "execution_count": 4,
      "outputs": []
    },
    {
      "cell_type": "code",
      "metadata": {
        "id": "o36jlGgUhVQU"
      },
      "source": [
        "# Function to create TFRecords for the dataset\n",
        "# Credit: http://warmspringwinds.github.io/tensorflow/tf-slim/2016/12/21/tfrecords-guide/\n",
        "# Credit: https://github.com/shiyangdaisy23/QTA-in-VQA/blob/master/Datapreprocess/textpreprocess.py\n",
        "def credit_TFRecords(subset, resize=False):\n",
        "    \"\"\"\n",
        "    Creates a TFRecords file whose elements are (image_path, question, answer)\n",
        "\n",
        "    Input:\n",
        "      subset: subset can be train2014 or val2014\n",
        "    \"\"\"\n",
        "    anno = json.load(open(f'/content/data/v2_mscoco_{subset}_annotations.json', 'r'))\n",
        "    ques = json.load(open(f'/content/data/v2_OpenEnded_mscoco_{subset}_questions.json', 'r'))\n",
        "    imdir='data/%s/COCO_%s_%012d.jpg' ## COCO_train2014_000000291417.jpg\n",
        "    \n",
        "    # TFRecord writer initialized\n",
        "    writer = tf.io.TFRecordWriter(f'/content/data/vqa_raw_{subset}.tfrecords')\n",
        "\n",
        "    answers = []\n",
        "\n",
        "    for i in trange(len(anno['annotations'])):\n",
        "        image_path = imdir%(subset, subset, anno['annotations'][i]['image_id'])\n",
        "        question = ques['questions'][i]['question']\n",
        "        answer = anno['annotations'][i]['multiple_choice_answer']\n",
        "        \n",
        "        answers.append(answer)\n",
        "\n",
        "        \"\"\"\n",
        "        # Read and resize the image\n",
        "        img = cv2.imread(image_path)\n",
        "        if resize:\n",
        "            img = cv2.resize(img, dsize=(224,224), interpolation=cv2.INTER_AREA)\n",
        "        img = np.asarray(img)\n",
        "        \n",
        "        # Convert the image to string\n",
        "        img_raw = img.tostring()\n",
        "        \"\"\"\n",
        "\n",
        "        # Create tf.train.Example\n",
        "        example = tf.train.Example(\n",
        "            features=tf.train.Features(\n",
        "                feature={\n",
        "                    # 'image_raw': _bytes_feature(img_raw),\n",
        "                    'image_path': _bytes_feature(image_path.encode('utf-8')), \n",
        "                    'question': _bytes_feature(question.encode('utf-8')), \n",
        "                    'answer': _bytes_feature(answer.encode('utf-8'))\n",
        "                }\n",
        "            )\n",
        "        )\n",
        "\n",
        "        # Wrtie the TFRecord\n",
        "        writer.write(example.SerializeToString())\n",
        "\n",
        "    # Close the TFRecord file\n",
        "    writer.close()\n",
        "\n",
        "    # Cleanup\n",
        "    os.remove(f'/content/data/v2_mscoco_{subset}_annotations.json')\n",
        "    os.remove(f'/content/data/v2_OpenEnded_mscoco_{subset}_questions.json')\n",
        "\n",
        "    return answers"
      ],
      "execution_count": 5,
      "outputs": []
    },
    {
      "cell_type": "code",
      "metadata": {
        "id": "JuwkKT1RcneB"
      },
      "source": [
        "# Save the answers in descending frequency order\n",
        "def answers_data(train, valid):\n",
        "    answers = train + valid\n",
        "    answers = Counter(answers)\n",
        "    answers = pd.Series(answers, name=\"frequency\")\n",
        "    answers = answers.to_frame().sort_values(\"frequency\", axis=0, ascending=False)\n",
        "    print(answers.head())\n",
        "    answers.to_csv(\"/content/data/answers.csv\")\n",
        "    "
      ],
      "execution_count": 25,
      "outputs": []
    },
    {
      "cell_type": "markdown",
      "metadata": {
        "id": "i8BtTtqLlxPS"
      },
      "source": [
        "### Download Data"
      ]
    },
    {
      "cell_type": "code",
      "metadata": {
        "id": "ztexdNA0lxtH",
        "outputId": "aae1e34a-b5ed-47d4-d3ad-b5ace63908f8",
        "colab": {
          "base_uri": "https://localhost:8080/"
        }
      },
      "source": [
        "# Set the paths\n",
        "paths, resize = PATHS_SMALL, False\n",
        "# paths, resize = PATHS_BIG, True\n",
        "\n",
        "# Download data\n",
        "download_vqa_data(paths)"
      ],
      "execution_count": 7,
      "outputs": [
        {
          "output_type": "stream",
          "text": [
            "Downloading data from https://public-dataset-store.s3.amazonaws.com/visualqa_2017/v2_Questions_Train_mscoco.zip\n",
            "7241728/7239401 [==============================] - 1s 0us/step\n",
            "Training Question Extracted\n",
            "Downloading data from https://public-dataset-store.s3.amazonaws.com/visualqa_2017/v2_Questions_Val_mscoco.zip\n",
            "3497984/3494929 [==============================] - 0s 0us/step\n",
            "Validation Question Extracted\n",
            "Downloading data from https://s3.amazonaws.com/cvmlp/vqa/mscoco/vqa/v2_Annotations_Train_mscoco.zip\n",
            "21716992/21708861 [==============================] - 1s 0us/step\n",
            "Training Annotations Extracted\n",
            "Downloading data from https://s3.amazonaws.com/cvmlp/vqa/mscoco/vqa/v2_Annotations_Val_mscoco.zip\n",
            "10526720/10518930 [==============================] - 1s 0us/step\n",
            "Validation Annotations Extracted\n",
            "Downloading data from https://storage.googleapis.com/ac295-data-store/visualqa_2017_small/train2014.zip\n",
            "2464112640/2464111946 [==============================] - 27s 0us/step\n",
            "Training Images Extracted\n",
            "Downloading data from https://storage.googleapis.com/ac295-data-store/visualqa_2017_small/val2014.zip\n",
            "1208401920/1208400616 [==============================] - 15s 0us/step\n",
            "Validation Images Extracted\n"
          ],
          "name": "stdout"
        }
      ]
    },
    {
      "cell_type": "markdown",
      "metadata": {
        "id": "5FKm8Sral-Nj"
      },
      "source": [
        "### Create TFRecords Dataset"
      ]
    },
    {
      "cell_type": "code",
      "metadata": {
        "id": "MfjCkJEXl-ek"
      },
      "source": [
        "ans_train = credit_TFRecords('train2014')\n",
        "ans_val = credit_TFRecords('val2014')\n",
        "answers_data(ans_train, ans_val)"
      ],
      "execution_count": 13,
      "outputs": []
    },
    {
      "cell_type": "markdown",
      "metadata": {
        "id": "SPWyyDZ90yFT"
      },
      "source": [
        "### Read TFRecords Dataset"
      ]
    },
    {
      "cell_type": "code",
      "metadata": {
        "id": "nbEY61HinbFk",
        "outputId": "7ca598d1-5ee9-46ec-d65e-4a0bef5d1fb4",
        "colab": {
          "base_uri": "https://localhost:8080/"
        }
      },
      "source": [
        "filenames = ['/content/data/vqa_raw_val2014.tfrecords']\n",
        "raw_dataset = tf.data.TFRecordDataset(filenames)\n",
        "raw_dataset"
      ],
      "execution_count": 14,
      "outputs": [
        {
          "output_type": "execute_result",
          "data": {
            "text/plain": [
              "<TFRecordDatasetV2 shapes: (), types: tf.string>"
            ]
          },
          "metadata": {
            "tags": []
          },
          "execution_count": 14
        }
      ]
    },
    {
      "cell_type": "code",
      "metadata": {
        "id": "TU9ZEjJgxzLb",
        "outputId": "e985440f-3984-494e-a44e-818b159b0a88",
        "colab": {
          "base_uri": "https://localhost:8080/"
        }
      },
      "source": [
        "for raw_record in raw_dataset.take(1):\n",
        "    example = tf.train.Example()\n",
        "    example.ParseFromString(raw_record.numpy())\n",
        "    print(example)"
      ],
      "execution_count": 15,
      "outputs": [
        {
          "output_type": "stream",
          "text": [
            "features {\n",
            "  feature {\n",
            "    key: \"answer\"\n",
            "    value {\n",
            "      bytes_list {\n",
            "        value: \"down\"\n",
            "      }\n",
            "    }\n",
            "  }\n",
            "  feature {\n",
            "    key: \"image_path\"\n",
            "    value {\n",
            "      bytes_list {\n",
            "        value: \"data/val2014/COCO_val2014_000000262148.jpg\"\n",
            "      }\n",
            "    }\n",
            "  }\n",
            "  feature {\n",
            "    key: \"question\"\n",
            "    value {\n",
            "      bytes_list {\n",
            "        value: \"Where is he looking?\"\n",
            "      }\n",
            "    }\n",
            "  }\n",
            "}\n",
            "\n"
          ],
          "name": "stdout"
        }
      ]
    },
    {
      "cell_type": "code",
      "metadata": {
        "id": "YhRN5pKG3so2",
        "outputId": "c2ba885e-5ba4-472b-8612-3cb60f6587fb",
        "colab": {
          "base_uri": "https://localhost:8080/"
        }
      },
      "source": [
        "# Create a dictionary describing the features.\n",
        "image_feature_description = {\n",
        "    'image_path': tf.io.FixedLenFeature([], tf.string),\n",
        "    'question': tf.io.FixedLenFeature([], tf.string),\n",
        "    'answer': tf.io.FixedLenFeature([], tf.string)\n",
        "}\n",
        "\n",
        "def _parse_image_function(example_proto):\n",
        "  # Parse the input tf.train.Example proto using the dictionary above.\n",
        "  return tf.io.parse_single_example(example_proto, image_feature_description)\n",
        "\n",
        "parsed_image_dataset = raw_dataset.map(_parse_image_function)\n",
        "parsed_image_dataset"
      ],
      "execution_count": 16,
      "outputs": [
        {
          "output_type": "execute_result",
          "data": {
            "text/plain": [
              "<MapDataset shapes: {answer: (), image_path: (), question: ()}, types: {answer: tf.string, image_path: tf.string, question: tf.string}>"
            ]
          },
          "metadata": {
            "tags": []
          },
          "execution_count": 16
        }
      ]
    },
    {
      "cell_type": "code",
      "metadata": {
        "id": "qaURptBM5TwT",
        "outputId": "3f0ea0c0-06ef-47f3-9706-48bd088a2765",
        "colab": {
          "base_uri": "https://localhost:8080/",
          "height": 295
        }
      },
      "source": [
        "for image_features in parsed_image_dataset:\n",
        "    image_path = image_features['image_path'].numpy()\n",
        "    img = cv2.imread(image_path.decode('utf-8'))\n",
        "    plt.imshow(img)\n",
        "    plt.title(image_features['question'].numpy().decode('utf-8'))\n",
        "    plt.xlabel(image_features['answer'].numpy().decode('utf-8'))\n",
        "    break"
      ],
      "execution_count": 18,
      "outputs": [
        {
          "output_type": "display_data",
          "data": {
            "image/png": "[encoded data removed]",
            "text/plain": [
              "<Figure size 432x288 with 1 Axes>"
            ]
          },
          "metadata": {
            "tags": [],
            "needs_background": "light"
          }
        }
      ]
    },
    {
      "cell_type": "code",
      "metadata": {
        "id": "U6OYgZCQkMyg"
      },
      "source": [
        ""
      ],
      "execution_count": null,
      "outputs": []
    }
  ]
}