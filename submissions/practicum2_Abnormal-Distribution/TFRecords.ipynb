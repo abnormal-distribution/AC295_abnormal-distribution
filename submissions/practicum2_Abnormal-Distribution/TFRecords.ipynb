{
  "nbformat": 4,
  "nbformat_minor": 0,
  "metadata": {
    "colab": {
      "name": "TFRecords.ipynb",
      "provenance": [],
      "collapsed_sections": [],
      "toc_visible": true
    },
    "kernelspec": {
      "name": "python3",
      "display_name": "Python 3"
    },
    "widgets": {
      "application/vnd.jupyter.widget-state+json": {
        "ddf1044a175e4577ba3ae586e94dc17c": {
          "model_module": "@jupyter-widgets/controls",
          "model_name": "HBoxModel",
          "state": {
            "_view_name": "HBoxView",
            "_dom_classes": [],
            "_model_name": "HBoxModel",
            "_view_module": "@jupyter-widgets/controls",
            "_model_module_version": "1.5.0",
            "_view_count": null,
            "_view_module_version": "1.5.0",
            "box_style": "",
            "layout": "IPY_MODEL_790a7c0912484b72b4ebb94d962ecbae",
            "_model_module": "@jupyter-widgets/controls",
            "children": [
              "IPY_MODEL_687a7982a28543e08898cb6e665c7c3e",
              "IPY_MODEL_e960a452e757459fb35f7e5474bde719"
            ]
          }
        },
        "790a7c0912484b72b4ebb94d962ecbae": {
          "model_module": "@jupyter-widgets/base",
          "model_name": "LayoutModel",
          "state": {
            "_view_name": "LayoutView",
            "grid_template_rows": null,
            "right": null,
            "justify_content": null,
            "_view_module": "@jupyter-widgets/base",
            "overflow": null,
            "_model_module_version": "1.2.0",
            "_view_count": null,
            "flex_flow": null,
            "width": null,
            "min_width": null,
            "border": null,
            "align_items": null,
            "bottom": null,
            "_model_module": "@jupyter-widgets/base",
            "top": null,
            "grid_column": null,
            "overflow_y": null,
            "overflow_x": null,
            "grid_auto_flow": null,
            "grid_area": null,
            "grid_template_columns": null,
            "flex": null,
            "_model_name": "LayoutModel",
            "justify_items": null,
            "grid_row": null,
            "max_height": null,
            "align_content": null,
            "visibility": null,
            "align_self": null,
            "height": null,
            "min_height": null,
            "padding": null,
            "grid_auto_rows": null,
            "grid_gap": null,
            "max_width": null,
            "order": null,
            "_view_module_version": "1.2.0",
            "grid_template_areas": null,
            "object_position": null,
            "object_fit": null,
            "grid_auto_columns": null,
            "margin": null,
            "display": null,
            "left": null
          }
        },
        "687a7982a28543e08898cb6e665c7c3e": {
          "model_module": "@jupyter-widgets/controls",
          "model_name": "FloatProgressModel",
          "state": {
            "_view_name": "ProgressView",
            "style": "IPY_MODEL_dae77da7a0f24831bda8b273209f1a31",
            "_dom_classes": [],
            "description": "100%",
            "_model_name": "FloatProgressModel",
            "bar_style": "success",
            "max": 11,
            "_view_module": "@jupyter-widgets/controls",
            "_model_module_version": "1.5.0",
            "value": 11,
            "_view_count": null,
            "_view_module_version": "1.5.0",
            "orientation": "horizontal",
            "min": 0,
            "description_tooltip": null,
            "_model_module": "@jupyter-widgets/controls",
            "layout": "IPY_MODEL_5234b07439f24b9692d88c78a7ae1c88"
          }
        },
        "e960a452e757459fb35f7e5474bde719": {
          "model_module": "@jupyter-widgets/controls",
          "model_name": "HTMLModel",
          "state": {
            "_view_name": "HTMLView",
            "style": "IPY_MODEL_c467e9e964eb4f39a8111932007a38d0",
            "_dom_classes": [],
            "description": "",
            "_model_name": "HTMLModel",
            "placeholder": "​",
            "_view_module": "@jupyter-widgets/controls",
            "_model_module_version": "1.5.0",
            "value": " 11/11 [11:26&lt;00:00, 62.41s/it]",
            "_view_count": null,
            "_view_module_version": "1.5.0",
            "description_tooltip": null,
            "_model_module": "@jupyter-widgets/controls",
            "layout": "IPY_MODEL_4b4b569ec3b14d6d859f3979ff13cd2f"
          }
        },
        "dae77da7a0f24831bda8b273209f1a31": {
          "model_module": "@jupyter-widgets/controls",
          "model_name": "ProgressStyleModel",
          "state": {
            "_view_name": "StyleView",
            "_model_name": "ProgressStyleModel",
            "description_width": "initial",
            "_view_module": "@jupyter-widgets/base",
            "_model_module_version": "1.5.0",
            "_view_count": null,
            "_view_module_version": "1.2.0",
            "bar_color": null,
            "_model_module": "@jupyter-widgets/controls"
          }
        },
        "5234b07439f24b9692d88c78a7ae1c88": {
          "model_module": "@jupyter-widgets/base",
          "model_name": "LayoutModel",
          "state": {
            "_view_name": "LayoutView",
            "grid_template_rows": null,
            "right": null,
            "justify_content": null,
            "_view_module": "@jupyter-widgets/base",
            "overflow": null,
            "_model_module_version": "1.2.0",
            "_view_count": null,
            "flex_flow": null,
            "width": null,
            "min_width": null,
            "border": null,
            "align_items": null,
            "bottom": null,
            "_model_module": "@jupyter-widgets/base",
            "top": null,
            "grid_column": null,
            "overflow_y": null,
            "overflow_x": null,
            "grid_auto_flow": null,
            "grid_area": null,
            "grid_template_columns": null,
            "flex": null,
            "_model_name": "LayoutModel",
            "justify_items": null,
            "grid_row": null,
            "max_height": null,
            "align_content": null,
            "visibility": null,
            "align_self": null,
            "height": null,
            "min_height": null,
            "padding": null,
            "grid_auto_rows": null,
            "grid_gap": null,
            "max_width": null,
            "order": null,
            "_view_module_version": "1.2.0",
            "grid_template_areas": null,
            "object_position": null,
            "object_fit": null,
            "grid_auto_columns": null,
            "margin": null,
            "display": null,
            "left": null
          }
        },
        "c467e9e964eb4f39a8111932007a38d0": {
          "model_module": "@jupyter-widgets/controls",
          "model_name": "DescriptionStyleModel",
          "state": {
            "_view_name": "StyleView",
            "_model_name": "DescriptionStyleModel",
            "description_width": "",
            "_view_module": "@jupyter-widgets/base",
            "_model_module_version": "1.5.0",
            "_view_count": null,
            "_view_module_version": "1.2.0",
            "_model_module": "@jupyter-widgets/controls"
          }
        },
        "4b4b569ec3b14d6d859f3979ff13cd2f": {
          "model_module": "@jupyter-widgets/base",
          "model_name": "LayoutModel",
          "state": {
            "_view_name": "LayoutView",
            "grid_template_rows": null,
            "right": null,
            "justify_content": null,
            "_view_module": "@jupyter-widgets/base",
            "overflow": null,
            "_model_module_version": "1.2.0",
            "_view_count": null,
            "flex_flow": null,
            "width": null,
            "min_width": null,
            "border": null,
            "align_items": null,
            "bottom": null,
            "_model_module": "@jupyter-widgets/base",
            "top": null,
            "grid_column": null,
            "overflow_y": null,
            "overflow_x": null,
            "grid_auto_flow": null,
            "grid_area": null,
            "grid_template_columns": null,
            "flex": null,
            "_model_name": "LayoutModel",
            "justify_items": null,
            "grid_row": null,
            "max_height": null,
            "align_content": null,
            "visibility": null,
            "align_self": null,
            "height": null,
            "min_height": null,
            "padding": null,
            "grid_auto_rows": null,
            "grid_gap": null,
            "max_width": null,
            "order": null,
            "_view_module_version": "1.2.0",
            "grid_template_areas": null,
            "object_position": null,
            "object_fit": null,
            "grid_auto_columns": null,
            "margin": null,
            "display": null,
            "left": null
          }
        },
        "0c012da4be1a4b50bef08a5c34ef6a55": {
          "model_module": "@jupyter-widgets/controls",
          "model_name": "HBoxModel",
          "state": {
            "_view_name": "HBoxView",
            "_dom_classes": [],
            "_model_name": "HBoxModel",
            "_view_module": "@jupyter-widgets/controls",
            "_model_module_version": "1.5.0",
            "_view_count": null,
            "_view_module_version": "1.5.0",
            "box_style": "",
            "layout": "IPY_MODEL_0b7830900aa44da7986857c845e764aa",
            "_model_module": "@jupyter-widgets/controls",
            "children": [
              "IPY_MODEL_b021504fff364c1c8ec845b5fd089102",
              "IPY_MODEL_e9ad8d7cfb63401d92c0ec8f770e24de"
            ]
          }
        },
        "0b7830900aa44da7986857c845e764aa": {
          "model_module": "@jupyter-widgets/base",
          "model_name": "LayoutModel",
          "state": {
            "_view_name": "LayoutView",
            "grid_template_rows": null,
            "right": null,
            "justify_content": null,
            "_view_module": "@jupyter-widgets/base",
            "overflow": null,
            "_model_module_version": "1.2.0",
            "_view_count": null,
            "flex_flow": null,
            "width": null,
            "min_width": null,
            "border": null,
            "align_items": null,
            "bottom": null,
            "_model_module": "@jupyter-widgets/base",
            "top": null,
            "grid_column": null,
            "overflow_y": null,
            "overflow_x": null,
            "grid_auto_flow": null,
            "grid_area": null,
            "grid_template_columns": null,
            "flex": null,
            "_model_name": "LayoutModel",
            "justify_items": null,
            "grid_row": null,
            "max_height": null,
            "align_content": null,
            "visibility": null,
            "align_self": null,
            "height": null,
            "min_height": null,
            "padding": null,
            "grid_auto_rows": null,
            "grid_gap": null,
            "max_width": null,
            "order": null,
            "_view_module_version": "1.2.0",
            "grid_template_areas": null,
            "object_position": null,
            "object_fit": null,
            "grid_auto_columns": null,
            "margin": null,
            "display": null,
            "left": null
          }
        },
        "b021504fff364c1c8ec845b5fd089102": {
          "model_module": "@jupyter-widgets/controls",
          "model_name": "FloatProgressModel",
          "state": {
            "_view_name": "ProgressView",
            "style": "IPY_MODEL_140c5d336ac2426981c3773571ab3286",
            "_dom_classes": [],
            "description": "100%",
            "_model_name": "FloatProgressModel",
            "bar_style": "success",
            "max": 44375,
            "_view_module": "@jupyter-widgets/controls",
            "_model_module_version": "1.5.0",
            "value": 44375,
            "_view_count": null,
            "_view_module_version": "1.5.0",
            "orientation": "horizontal",
            "min": 0,
            "description_tooltip": null,
            "_model_module": "@jupyter-widgets/controls",
            "layout": "IPY_MODEL_a15d793c2d8f4bdc8a7bcbbdc3351ddf"
          }
        },
        "e9ad8d7cfb63401d92c0ec8f770e24de": {
          "model_module": "@jupyter-widgets/controls",
          "model_name": "HTMLModel",
          "state": {
            "_view_name": "HTMLView",
            "style": "IPY_MODEL_8ae56211c5de434d80bf321d56d25388",
            "_dom_classes": [],
            "description": "",
            "_model_name": "HTMLModel",
            "placeholder": "​",
            "_view_module": "@jupyter-widgets/controls",
            "_model_module_version": "1.5.0",
            "value": " 44375/44375 [02:27&lt;00:00, 300.41it/s]",
            "_view_count": null,
            "_view_module_version": "1.5.0",
            "description_tooltip": null,
            "_model_module": "@jupyter-widgets/controls",
            "layout": "IPY_MODEL_8e3d1462344741f7ad9fbf5c60df8023"
          }
        },
        "140c5d336ac2426981c3773571ab3286": {
          "model_module": "@jupyter-widgets/controls",
          "model_name": "ProgressStyleModel",
          "state": {
            "_view_name": "StyleView",
            "_model_name": "ProgressStyleModel",
            "description_width": "initial",
            "_view_module": "@jupyter-widgets/base",
            "_model_module_version": "1.5.0",
            "_view_count": null,
            "_view_module_version": "1.2.0",
            "bar_color": null,
            "_model_module": "@jupyter-widgets/controls"
          }
        },
        "a15d793c2d8f4bdc8a7bcbbdc3351ddf": {
          "model_module": "@jupyter-widgets/base",
          "model_name": "LayoutModel",
          "state": {
            "_view_name": "LayoutView",
            "grid_template_rows": null,
            "right": null,
            "justify_content": null,
            "_view_module": "@jupyter-widgets/base",
            "overflow": null,
            "_model_module_version": "1.2.0",
            "_view_count": null,
            "flex_flow": null,
            "width": null,
            "min_width": null,
            "border": null,
            "align_items": null,
            "bottom": null,
            "_model_module": "@jupyter-widgets/base",
            "top": null,
            "grid_column": null,
            "overflow_y": null,
            "overflow_x": null,
            "grid_auto_flow": null,
            "grid_area": null,
            "grid_template_columns": null,
            "flex": null,
            "_model_name": "LayoutModel",
            "justify_items": null,
            "grid_row": null,
            "max_height": null,
            "align_content": null,
            "visibility": null,
            "align_self": null,
            "height": null,
            "min_height": null,
            "padding": null,
            "grid_auto_rows": null,
            "grid_gap": null,
            "max_width": null,
            "order": null,
            "_view_module_version": "1.2.0",
            "grid_template_areas": null,
            "object_position": null,
            "object_fit": null,
            "grid_auto_columns": null,
            "margin": null,
            "display": null,
            "left": null
          }
        },
        "8ae56211c5de434d80bf321d56d25388": {
          "model_module": "@jupyter-widgets/controls",
          "model_name": "DescriptionStyleModel",
          "state": {
            "_view_name": "StyleView",
            "_model_name": "DescriptionStyleModel",
            "description_width": "",
            "_view_module": "@jupyter-widgets/base",
            "_model_module_version": "1.5.0",
            "_view_count": null,
            "_view_module_version": "1.2.0",
            "_model_module": "@jupyter-widgets/controls"
          }
        },
        "8e3d1462344741f7ad9fbf5c60df8023": {
          "model_module": "@jupyter-widgets/base",
          "model_name": "LayoutModel",
          "state": {
            "_view_name": "LayoutView",
            "grid_template_rows": null,
            "right": null,
            "justify_content": null,
            "_view_module": "@jupyter-widgets/base",
            "overflow": null,
            "_model_module_version": "1.2.0",
            "_view_count": null,
            "flex_flow": null,
            "width": null,
            "min_width": null,
            "border": null,
            "align_items": null,
            "bottom": null,
            "_model_module": "@jupyter-widgets/base",
            "top": null,
            "grid_column": null,
            "overflow_y": null,
            "overflow_x": null,
            "grid_auto_flow": null,
            "grid_area": null,
            "grid_template_columns": null,
            "flex": null,
            "_model_name": "LayoutModel",
            "justify_items": null,
            "grid_row": null,
            "max_height": null,
            "align_content": null,
            "visibility": null,
            "align_self": null,
            "height": null,
            "min_height": null,
            "padding": null,
            "grid_auto_rows": null,
            "grid_gap": null,
            "max_width": null,
            "order": null,
            "_view_module_version": "1.2.0",
            "grid_template_areas": null,
            "object_position": null,
            "object_fit": null,
            "grid_auto_columns": null,
            "margin": null,
            "display": null,
            "left": null
          }
        },
        "45e45b1953ba4890942ecd58351b5178": {
          "model_module": "@jupyter-widgets/controls",
          "model_name": "HBoxModel",
          "state": {
            "_view_name": "HBoxView",
            "_dom_classes": [],
            "_model_name": "HBoxModel",
            "_view_module": "@jupyter-widgets/controls",
            "_model_module_version": "1.5.0",
            "_view_count": null,
            "_view_module_version": "1.5.0",
            "box_style": "",
            "layout": "IPY_MODEL_3d78cb9aabd44861a5234fb27a218326",
            "_model_module": "@jupyter-widgets/controls",
            "children": [
              "IPY_MODEL_1518020e823f45dca7d221f3c021664f",
              "IPY_MODEL_763559f750ce49129b922d0401f14acb"
            ]
          }
        },
        "3d78cb9aabd44861a5234fb27a218326": {
          "model_module": "@jupyter-widgets/base",
          "model_name": "LayoutModel",
          "state": {
            "_view_name": "LayoutView",
            "grid_template_rows": null,
            "right": null,
            "justify_content": null,
            "_view_module": "@jupyter-widgets/base",
            "overflow": null,
            "_model_module_version": "1.2.0",
            "_view_count": null,
            "flex_flow": null,
            "width": null,
            "min_width": null,
            "border": null,
            "align_items": null,
            "bottom": null,
            "_model_module": "@jupyter-widgets/base",
            "top": null,
            "grid_column": null,
            "overflow_y": null,
            "overflow_x": null,
            "grid_auto_flow": null,
            "grid_area": null,
            "grid_template_columns": null,
            "flex": null,
            "_model_name": "LayoutModel",
            "justify_items": null,
            "grid_row": null,
            "max_height": null,
            "align_content": null,
            "visibility": null,
            "align_self": null,
            "height": null,
            "min_height": null,
            "padding": null,
            "grid_auto_rows": null,
            "grid_gap": null,
            "max_width": null,
            "order": null,
            "_view_module_version": "1.2.0",
            "grid_template_areas": null,
            "object_position": null,
            "object_fit": null,
            "grid_auto_columns": null,
            "margin": null,
            "display": null,
            "left": null
          }
        },
        "1518020e823f45dca7d221f3c021664f": {
          "model_module": "@jupyter-widgets/controls",
          "model_name": "FloatProgressModel",
          "state": {
            "_view_name": "ProgressView",
            "style": "IPY_MODEL_a1994abd4662417ab6e473dfa1677786",
            "_dom_classes": [],
            "description": "100%",
            "_model_name": "FloatProgressModel",
            "bar_style": "success",
            "max": 44375,
            "_view_module": "@jupyter-widgets/controls",
            "_model_module_version": "1.5.0",
            "value": 44375,
            "_view_count": null,
            "_view_module_version": "1.5.0",
            "orientation": "horizontal",
            "min": 0,
            "description_tooltip": null,
            "_model_module": "@jupyter-widgets/controls",
            "layout": "IPY_MODEL_a64d7722c5814381bd2d5c7735cfa119"
          }
        },
        "763559f750ce49129b922d0401f14acb": {
          "model_module": "@jupyter-widgets/controls",
          "model_name": "HTMLModel",
          "state": {
            "_view_name": "HTMLView",
            "style": "IPY_MODEL_5acdee03d1c34276a0a03a570e3ccb37",
            "_dom_classes": [],
            "description": "",
            "_model_name": "HTMLModel",
            "placeholder": "​",
            "_view_module": "@jupyter-widgets/controls",
            "_model_module_version": "1.5.0",
            "value": " 44375/44375 [01:13&lt;00:00, 607.46it/s]",
            "_view_count": null,
            "_view_module_version": "1.5.0",
            "description_tooltip": null,
            "_model_module": "@jupyter-widgets/controls",
            "layout": "IPY_MODEL_8373e132c346467d908c96dc3b2ac8ce"
          }
        },
        "a1994abd4662417ab6e473dfa1677786": {
          "model_module": "@jupyter-widgets/controls",
          "model_name": "ProgressStyleModel",
          "state": {
            "_view_name": "StyleView",
            "_model_name": "ProgressStyleModel",
            "description_width": "initial",
            "_view_module": "@jupyter-widgets/base",
            "_model_module_version": "1.5.0",
            "_view_count": null,
            "_view_module_version": "1.2.0",
            "bar_color": null,
            "_model_module": "@jupyter-widgets/controls"
          }
        },
        "a64d7722c5814381bd2d5c7735cfa119": {
          "model_module": "@jupyter-widgets/base",
          "model_name": "LayoutModel",
          "state": {
            "_view_name": "LayoutView",
            "grid_template_rows": null,
            "right": null,
            "justify_content": null,
            "_view_module": "@jupyter-widgets/base",
            "overflow": null,
            "_model_module_version": "1.2.0",
            "_view_count": null,
            "flex_flow": null,
            "width": null,
            "min_width": null,
            "border": null,
            "align_items": null,
            "bottom": null,
            "_model_module": "@jupyter-widgets/base",
            "top": null,
            "grid_column": null,
            "overflow_y": null,
            "overflow_x": null,
            "grid_auto_flow": null,
            "grid_area": null,
            "grid_template_columns": null,
            "flex": null,
            "_model_name": "LayoutModel",
            "justify_items": null,
            "grid_row": null,
            "max_height": null,
            "align_content": null,
            "visibility": null,
            "align_self": null,
            "height": null,
            "min_height": null,
            "padding": null,
            "grid_auto_rows": null,
            "grid_gap": null,
            "max_width": null,
            "order": null,
            "_view_module_version": "1.2.0",
            "grid_template_areas": null,
            "object_position": null,
            "object_fit": null,
            "grid_auto_columns": null,
            "margin": null,
            "display": null,
            "left": null
          }
        },
        "5acdee03d1c34276a0a03a570e3ccb37": {
          "model_module": "@jupyter-widgets/controls",
          "model_name": "DescriptionStyleModel",
          "state": {
            "_view_name": "StyleView",
            "_model_name": "DescriptionStyleModel",
            "description_width": "",
            "_view_module": "@jupyter-widgets/base",
            "_model_module_version": "1.5.0",
            "_view_count": null,
            "_view_module_version": "1.2.0",
            "_model_module": "@jupyter-widgets/controls"
          }
        },
        "8373e132c346467d908c96dc3b2ac8ce": {
          "model_module": "@jupyter-widgets/base",
          "model_name": "LayoutModel",
          "state": {
            "_view_name": "LayoutView",
            "grid_template_rows": null,
            "right": null,
            "justify_content": null,
            "_view_module": "@jupyter-widgets/base",
            "overflow": null,
            "_model_module_version": "1.2.0",
            "_view_count": null,
            "flex_flow": null,
            "width": null,
            "min_width": null,
            "border": null,
            "align_items": null,
            "bottom": null,
            "_model_module": "@jupyter-widgets/base",
            "top": null,
            "grid_column": null,
            "overflow_y": null,
            "overflow_x": null,
            "grid_auto_flow": null,
            "grid_area": null,
            "grid_template_columns": null,
            "flex": null,
            "_model_name": "LayoutModel",
            "justify_items": null,
            "grid_row": null,
            "max_height": null,
            "align_content": null,
            "visibility": null,
            "align_self": null,
            "height": null,
            "min_height": null,
            "padding": null,
            "grid_auto_rows": null,
            "grid_gap": null,
            "max_width": null,
            "order": null,
            "_view_module_version": "1.2.0",
            "grid_template_areas": null,
            "object_position": null,
            "object_fit": null,
            "grid_auto_columns": null,
            "margin": null,
            "display": null,
            "left": null
          }
        },
        "d0c55f1c9a0849a08f472e6b831b93a9": {
          "model_module": "@jupyter-widgets/controls",
          "model_name": "HBoxModel",
          "state": {
            "_view_name": "HBoxView",
            "_dom_classes": [],
            "_model_name": "HBoxModel",
            "_view_module": "@jupyter-widgets/controls",
            "_model_module_version": "1.5.0",
            "_view_count": null,
            "_view_module_version": "1.5.0",
            "box_style": "",
            "layout": "IPY_MODEL_8b630b7b85164c96b85d878851fe4e8a",
            "_model_module": "@jupyter-widgets/controls",
            "children": [
              "IPY_MODEL_101a0ed399ea4dbcb5918af65bc7fe9e",
              "IPY_MODEL_f61ea503cf364283a0422299d516befe"
            ]
          }
        },
        "8b630b7b85164c96b85d878851fe4e8a": {
          "model_module": "@jupyter-widgets/base",
          "model_name": "LayoutModel",
          "state": {
            "_view_name": "LayoutView",
            "grid_template_rows": null,
            "right": null,
            "justify_content": null,
            "_view_module": "@jupyter-widgets/base",
            "overflow": null,
            "_model_module_version": "1.2.0",
            "_view_count": null,
            "flex_flow": null,
            "width": null,
            "min_width": null,
            "border": null,
            "align_items": null,
            "bottom": null,
            "_model_module": "@jupyter-widgets/base",
            "top": null,
            "grid_column": null,
            "overflow_y": null,
            "overflow_x": null,
            "grid_auto_flow": null,
            "grid_area": null,
            "grid_template_columns": null,
            "flex": null,
            "_model_name": "LayoutModel",
            "justify_items": null,
            "grid_row": null,
            "max_height": null,
            "align_content": null,
            "visibility": null,
            "align_self": null,
            "height": null,
            "min_height": null,
            "padding": null,
            "grid_auto_rows": null,
            "grid_gap": null,
            "max_width": null,
            "order": null,
            "_view_module_version": "1.2.0",
            "grid_template_areas": null,
            "object_position": null,
            "object_fit": null,
            "grid_auto_columns": null,
            "margin": null,
            "display": null,
            "left": null
          }
        },
        "101a0ed399ea4dbcb5918af65bc7fe9e": {
          "model_module": "@jupyter-widgets/controls",
          "model_name": "FloatProgressModel",
          "state": {
            "_view_name": "ProgressView",
            "style": "IPY_MODEL_7ebf84f6ef954245b6644c4daf828902",
            "_dom_classes": [],
            "description": "100%",
            "_model_name": "FloatProgressModel",
            "bar_style": "success",
            "max": 44375,
            "_view_module": "@jupyter-widgets/controls",
            "_model_module_version": "1.5.0",
            "value": 44375,
            "_view_count": null,
            "_view_module_version": "1.5.0",
            "orientation": "horizontal",
            "min": 0,
            "description_tooltip": null,
            "_model_module": "@jupyter-widgets/controls",
            "layout": "IPY_MODEL_0230592b8d2c47beb7b5b15682096c85"
          }
        },
        "f61ea503cf364283a0422299d516befe": {
          "model_module": "@jupyter-widgets/controls",
          "model_name": "HTMLModel",
          "state": {
            "_view_name": "HTMLView",
            "style": "IPY_MODEL_14045841eba64826be541e54f2abab6e",
            "_dom_classes": [],
            "description": "",
            "_model_name": "HTMLModel",
            "placeholder": "​",
            "_view_module": "@jupyter-widgets/controls",
            "_model_module_version": "1.5.0",
            "value": " 44375/44375 [01:08&lt;00:00, 648.21it/s]",
            "_view_count": null,
            "_view_module_version": "1.5.0",
            "description_tooltip": null,
            "_model_module": "@jupyter-widgets/controls",
            "layout": "IPY_MODEL_cc5dd9579dc04b4a88782bab721953eb"
          }
        },
        "7ebf84f6ef954245b6644c4daf828902": {
          "model_module": "@jupyter-widgets/controls",
          "model_name": "ProgressStyleModel",
          "state": {
            "_view_name": "StyleView",
            "_model_name": "ProgressStyleModel",
            "description_width": "initial",
            "_view_module": "@jupyter-widgets/base",
            "_model_module_version": "1.5.0",
            "_view_count": null,
            "_view_module_version": "1.2.0",
            "bar_color": null,
            "_model_module": "@jupyter-widgets/controls"
          }
        },
        "0230592b8d2c47beb7b5b15682096c85": {
          "model_module": "@jupyter-widgets/base",
          "model_name": "LayoutModel",
          "state": {
            "_view_name": "LayoutView",
            "grid_template_rows": null,
            "right": null,
            "justify_content": null,
            "_view_module": "@jupyter-widgets/base",
            "overflow": null,
            "_model_module_version": "1.2.0",
            "_view_count": null,
            "flex_flow": null,
            "width": null,
            "min_width": null,
            "border": null,
            "align_items": null,
            "bottom": null,
            "_model_module": "@jupyter-widgets/base",
            "top": null,
            "grid_column": null,
            "overflow_y": null,
            "overflow_x": null,
            "grid_auto_flow": null,
            "grid_area": null,
            "grid_template_columns": null,
            "flex": null,
            "_model_name": "LayoutModel",
            "justify_items": null,
            "grid_row": null,
            "max_height": null,
            "align_content": null,
            "visibility": null,
            "align_self": null,
            "height": null,
            "min_height": null,
            "padding": null,
            "grid_auto_rows": null,
            "grid_gap": null,
            "max_width": null,
            "order": null,
            "_view_module_version": "1.2.0",
            "grid_template_areas": null,
            "object_position": null,
            "object_fit": null,
            "grid_auto_columns": null,
            "margin": null,
            "display": null,
            "left": null
          }
        },
        "14045841eba64826be541e54f2abab6e": {
          "model_module": "@jupyter-widgets/controls",
          "model_name": "DescriptionStyleModel",
          "state": {
            "_view_name": "StyleView",
            "_model_name": "DescriptionStyleModel",
            "description_width": "",
            "_view_module": "@jupyter-widgets/base",
            "_model_module_version": "1.5.0",
            "_view_count": null,
            "_view_module_version": "1.2.0",
            "_model_module": "@jupyter-widgets/controls"
          }
        },
        "cc5dd9579dc04b4a88782bab721953eb": {
          "model_module": "@jupyter-widgets/base",
          "model_name": "LayoutModel",
          "state": {
            "_view_name": "LayoutView",
            "grid_template_rows": null,
            "right": null,
            "justify_content": null,
            "_view_module": "@jupyter-widgets/base",
            "overflow": null,
            "_model_module_version": "1.2.0",
            "_view_count": null,
            "flex_flow": null,
            "width": null,
            "min_width": null,
            "border": null,
            "align_items": null,
            "bottom": null,
            "_model_module": "@jupyter-widgets/base",
            "top": null,
            "grid_column": null,
            "overflow_y": null,
            "overflow_x": null,
            "grid_auto_flow": null,
            "grid_area": null,
            "grid_template_columns": null,
            "flex": null,
            "_model_name": "LayoutModel",
            "justify_items": null,
            "grid_row": null,
            "max_height": null,
            "align_content": null,
            "visibility": null,
            "align_self": null,
            "height": null,
            "min_height": null,
            "padding": null,
            "grid_auto_rows": null,
            "grid_gap": null,
            "max_width": null,
            "order": null,
            "_view_module_version": "1.2.0",
            "grid_template_areas": null,
            "object_position": null,
            "object_fit": null,
            "grid_auto_columns": null,
            "margin": null,
            "display": null,
            "left": null
          }
        },
        "7ce4e39ca5c447dbb6c1f64775db8b9f": {
          "model_module": "@jupyter-widgets/controls",
          "model_name": "HBoxModel",
          "state": {
            "_view_name": "HBoxView",
            "_dom_classes": [],
            "_model_name": "HBoxModel",
            "_view_module": "@jupyter-widgets/controls",
            "_model_module_version": "1.5.0",
            "_view_count": null,
            "_view_module_version": "1.5.0",
            "box_style": "",
            "layout": "IPY_MODEL_94793d41d65c44889c8341ccbb6065cc",
            "_model_module": "@jupyter-widgets/controls",
            "children": [
              "IPY_MODEL_e39ee9dc130945a8b8570f8e5a0a1f9c",
              "IPY_MODEL_c263464576624f8eb819dfa89299ab85"
            ]
          }
        },
        "94793d41d65c44889c8341ccbb6065cc": {
          "model_module": "@jupyter-widgets/base",
          "model_name": "LayoutModel",
          "state": {
            "_view_name": "LayoutView",
            "grid_template_rows": null,
            "right": null,
            "justify_content": null,
            "_view_module": "@jupyter-widgets/base",
            "overflow": null,
            "_model_module_version": "1.2.0",
            "_view_count": null,
            "flex_flow": null,
            "width": null,
            "min_width": null,
            "border": null,
            "align_items": null,
            "bottom": null,
            "_model_module": "@jupyter-widgets/base",
            "top": null,
            "grid_column": null,
            "overflow_y": null,
            "overflow_x": null,
            "grid_auto_flow": null,
            "grid_area": null,
            "grid_template_columns": null,
            "flex": null,
            "_model_name": "LayoutModel",
            "justify_items": null,
            "grid_row": null,
            "max_height": null,
            "align_content": null,
            "visibility": null,
            "align_self": null,
            "height": null,
            "min_height": null,
            "padding": null,
            "grid_auto_rows": null,
            "grid_gap": null,
            "max_width": null,
            "order": null,
            "_view_module_version": "1.2.0",
            "grid_template_areas": null,
            "object_position": null,
            "object_fit": null,
            "grid_auto_columns": null,
            "margin": null,
            "display": null,
            "left": null
          }
        },
        "e39ee9dc130945a8b8570f8e5a0a1f9c": {
          "model_module": "@jupyter-widgets/controls",
          "model_name": "FloatProgressModel",
          "state": {
            "_view_name": "ProgressView",
            "style": "IPY_MODEL_f71a5b5bcd5f4626b8c3359507ece27e",
            "_dom_classes": [],
            "description": "100%",
            "_model_name": "FloatProgressModel",
            "bar_style": "success",
            "max": 44375,
            "_view_module": "@jupyter-widgets/controls",
            "_model_module_version": "1.5.0",
            "value": 44375,
            "_view_count": null,
            "_view_module_version": "1.5.0",
            "orientation": "horizontal",
            "min": 0,
            "description_tooltip": null,
            "_model_module": "@jupyter-widgets/controls",
            "layout": "IPY_MODEL_d688bc44087c4a39a9a9e9d415915472"
          }
        },
        "c263464576624f8eb819dfa89299ab85": {
          "model_module": "@jupyter-widgets/controls",
          "model_name": "HTMLModel",
          "state": {
            "_view_name": "HTMLView",
            "style": "IPY_MODEL_5726ed7ee86c45a5922e3dba6bef31eb",
            "_dom_classes": [],
            "description": "",
            "_model_name": "HTMLModel",
            "placeholder": "​",
            "_view_module": "@jupyter-widgets/controls",
            "_model_module_version": "1.5.0",
            "value": " 44375/44375 [03:20&lt;00:00, 221.08it/s]",
            "_view_count": null,
            "_view_module_version": "1.5.0",
            "description_tooltip": null,
            "_model_module": "@jupyter-widgets/controls",
            "layout": "IPY_MODEL_82694cea03aa4d4792ccda2f2a40fbfa"
          }
        },
        "f71a5b5bcd5f4626b8c3359507ece27e": {
          "model_module": "@jupyter-widgets/controls",
          "model_name": "ProgressStyleModel",
          "state": {
            "_view_name": "StyleView",
            "_model_name": "ProgressStyleModel",
            "description_width": "initial",
            "_view_module": "@jupyter-widgets/base",
            "_model_module_version": "1.5.0",
            "_view_count": null,
            "_view_module_version": "1.2.0",
            "bar_color": null,
            "_model_module": "@jupyter-widgets/controls"
          }
        },
        "d688bc44087c4a39a9a9e9d415915472": {
          "model_module": "@jupyter-widgets/base",
          "model_name": "LayoutModel",
          "state": {
            "_view_name": "LayoutView",
            "grid_template_rows": null,
            "right": null,
            "justify_content": null,
            "_view_module": "@jupyter-widgets/base",
            "overflow": null,
            "_model_module_version": "1.2.0",
            "_view_count": null,
            "flex_flow": null,
            "width": null,
            "min_width": null,
            "border": null,
            "align_items": null,
            "bottom": null,
            "_model_module": "@jupyter-widgets/base",
            "top": null,
            "grid_column": null,
            "overflow_y": null,
            "overflow_x": null,
            "grid_auto_flow": null,
            "grid_area": null,
            "grid_template_columns": null,
            "flex": null,
            "_model_name": "LayoutModel",
            "justify_items": null,
            "grid_row": null,
            "max_height": null,
            "align_content": null,
            "visibility": null,
            "align_self": null,
            "height": null,
            "min_height": null,
            "padding": null,
            "grid_auto_rows": null,
            "grid_gap": null,
            "max_width": null,
            "order": null,
            "_view_module_version": "1.2.0",
            "grid_template_areas": null,
            "object_position": null,
            "object_fit": null,
            "grid_auto_columns": null,
            "margin": null,
            "display": null,
            "left": null
          }
        },
        "5726ed7ee86c45a5922e3dba6bef31eb": {
          "model_module": "@jupyter-widgets/controls",
          "model_name": "DescriptionStyleModel",
          "state": {
            "_view_name": "StyleView",
            "_model_name": "DescriptionStyleModel",
            "description_width": "",
            "_view_module": "@jupyter-widgets/base",
            "_model_module_version": "1.5.0",
            "_view_count": null,
            "_view_module_version": "1.2.0",
            "_model_module": "@jupyter-widgets/controls"
          }
        },
        "82694cea03aa4d4792ccda2f2a40fbfa": {
          "model_module": "@jupyter-widgets/base",
          "model_name": "LayoutModel",
          "state": {
            "_view_name": "LayoutView",
            "grid_template_rows": null,
            "right": null,
            "justify_content": null,
            "_view_module": "@jupyter-widgets/base",
            "overflow": null,
            "_model_module_version": "1.2.0",
            "_view_count": null,
            "flex_flow": null,
            "width": null,
            "min_width": null,
            "border": null,
            "align_items": null,
            "bottom": null,
            "_model_module": "@jupyter-widgets/base",
            "top": null,
            "grid_column": null,
            "overflow_y": null,
            "overflow_x": null,
            "grid_auto_flow": null,
            "grid_area": null,
            "grid_template_columns": null,
            "flex": null,
            "_model_name": "LayoutModel",
            "justify_items": null,
            "grid_row": null,
            "max_height": null,
            "align_content": null,
            "visibility": null,
            "align_self": null,
            "height": null,
            "min_height": null,
            "padding": null,
            "grid_auto_rows": null,
            "grid_gap": null,
            "max_width": null,
            "order": null,
            "_view_module_version": "1.2.0",
            "grid_template_areas": null,
            "object_position": null,
            "object_fit": null,
            "grid_auto_columns": null,
            "margin": null,
            "display": null,
            "left": null
          }
        },
        "f2c0f643f2cb4e05a526337d05d8d237": {
          "model_module": "@jupyter-widgets/controls",
          "model_name": "HBoxModel",
          "state": {
            "_view_name": "HBoxView",
            "_dom_classes": [],
            "_model_name": "HBoxModel",
            "_view_module": "@jupyter-widgets/controls",
            "_model_module_version": "1.5.0",
            "_view_count": null,
            "_view_module_version": "1.5.0",
            "box_style": "",
            "layout": "IPY_MODEL_b5a622ceb06944afbc513a17eb6c2f88",
            "_model_module": "@jupyter-widgets/controls",
            "children": [
              "IPY_MODEL_160c810cd85e4d02a7302f84f8984e35",
              "IPY_MODEL_f74f1433b9994c97bfd5ecc1531045f1"
            ]
          }
        },
        "b5a622ceb06944afbc513a17eb6c2f88": {
          "model_module": "@jupyter-widgets/base",
          "model_name": "LayoutModel",
          "state": {
            "_view_name": "LayoutView",
            "grid_template_rows": null,
            "right": null,
            "justify_content": null,
            "_view_module": "@jupyter-widgets/base",
            "overflow": null,
            "_model_module_version": "1.2.0",
            "_view_count": null,
            "flex_flow": null,
            "width": null,
            "min_width": null,
            "border": null,
            "align_items": null,
            "bottom": null,
            "_model_module": "@jupyter-widgets/base",
            "top": null,
            "grid_column": null,
            "overflow_y": null,
            "overflow_x": null,
            "grid_auto_flow": null,
            "grid_area": null,
            "grid_template_columns": null,
            "flex": null,
            "_model_name": "LayoutModel",
            "justify_items": null,
            "grid_row": null,
            "max_height": null,
            "align_content": null,
            "visibility": null,
            "align_self": null,
            "height": null,
            "min_height": null,
            "padding": null,
            "grid_auto_rows": null,
            "grid_gap": null,
            "max_width": null,
            "order": null,
            "_view_module_version": "1.2.0",
            "grid_template_areas": null,
            "object_position": null,
            "object_fit": null,
            "grid_auto_columns": null,
            "margin": null,
            "display": null,
            "left": null
          }
        },
        "160c810cd85e4d02a7302f84f8984e35": {
          "model_module": "@jupyter-widgets/controls",
          "model_name": "FloatProgressModel",
          "state": {
            "_view_name": "ProgressView",
            "style": "IPY_MODEL_380c0fd40faf4b8891b6170d8859fd6c",
            "_dom_classes": [],
            "description": "100%",
            "_model_name": "FloatProgressModel",
            "bar_style": "success",
            "max": 44375,
            "_view_module": "@jupyter-widgets/controls",
            "_model_module_version": "1.5.0",
            "value": 44375,
            "_view_count": null,
            "_view_module_version": "1.5.0",
            "orientation": "horizontal",
            "min": 0,
            "description_tooltip": null,
            "_model_module": "@jupyter-widgets/controls",
            "layout": "IPY_MODEL_9ca703b854db4f6fb14deb340d1a03c1"
          }
        },
        "f74f1433b9994c97bfd5ecc1531045f1": {
          "model_module": "@jupyter-widgets/controls",
          "model_name": "HTMLModel",
          "state": {
            "_view_name": "HTMLView",
            "style": "IPY_MODEL_6a6b0012c0454fe88f54d8aab37390be",
            "_dom_classes": [],
            "description": "",
            "_model_name": "HTMLModel",
            "placeholder": "​",
            "_view_module": "@jupyter-widgets/controls",
            "_model_module_version": "1.5.0",
            "value": " 44375/44375 [02:13&lt;00:00, 332.29it/s]",
            "_view_count": null,
            "_view_module_version": "1.5.0",
            "description_tooltip": null,
            "_model_module": "@jupyter-widgets/controls",
            "layout": "IPY_MODEL_ff973474df1d4744afd4738563e404eb"
          }
        },
        "380c0fd40faf4b8891b6170d8859fd6c": {
          "model_module": "@jupyter-widgets/controls",
          "model_name": "ProgressStyleModel",
          "state": {
            "_view_name": "StyleView",
            "_model_name": "ProgressStyleModel",
            "description_width": "initial",
            "_view_module": "@jupyter-widgets/base",
            "_model_module_version": "1.5.0",
            "_view_count": null,
            "_view_module_version": "1.2.0",
            "bar_color": null,
            "_model_module": "@jupyter-widgets/controls"
          }
        },
        "9ca703b854db4f6fb14deb340d1a03c1": {
          "model_module": "@jupyter-widgets/base",
          "model_name": "LayoutModel",
          "state": {
            "_view_name": "LayoutView",
            "grid_template_rows": null,
            "right": null,
            "justify_content": null,
            "_view_module": "@jupyter-widgets/base",
            "overflow": null,
            "_model_module_version": "1.2.0",
            "_view_count": null,
            "flex_flow": null,
            "width": null,
            "min_width": null,
            "border": null,
            "align_items": null,
            "bottom": null,
            "_model_module": "@jupyter-widgets/base",
            "top": null,
            "grid_column": null,
            "overflow_y": null,
            "overflow_x": null,
            "grid_auto_flow": null,
            "grid_area": null,
            "grid_template_columns": null,
            "flex": null,
            "_model_name": "LayoutModel",
            "justify_items": null,
            "grid_row": null,
            "max_height": null,
            "align_content": null,
            "visibility": null,
            "align_self": null,
            "height": null,
            "min_height": null,
            "padding": null,
            "grid_auto_rows": null,
            "grid_gap": null,
            "max_width": null,
            "order": null,
            "_view_module_version": "1.2.0",
            "grid_template_areas": null,
            "object_position": null,
            "object_fit": null,
            "grid_auto_columns": null,
            "margin": null,
            "display": null,
            "left": null
          }
        },
        "6a6b0012c0454fe88f54d8aab37390be": {
          "model_module": "@jupyter-widgets/controls",
          "model_name": "DescriptionStyleModel",
          "state": {
            "_view_name": "StyleView",
            "_model_name": "DescriptionStyleModel",
            "description_width": "",
            "_view_module": "@jupyter-widgets/base",
            "_model_module_version": "1.5.0",
            "_view_count": null,
            "_view_module_version": "1.2.0",
            "_model_module": "@jupyter-widgets/controls"
          }
        },
        "ff973474df1d4744afd4738563e404eb": {
          "model_module": "@jupyter-widgets/base",
          "model_name": "LayoutModel",
          "state": {
            "_view_name": "LayoutView",
            "grid_template_rows": null,
            "right": null,
            "justify_content": null,
            "_view_module": "@jupyter-widgets/base",
            "overflow": null,
            "_model_module_version": "1.2.0",
            "_view_count": null,
            "flex_flow": null,
            "width": null,
            "min_width": null,
            "border": null,
            "align_items": null,
            "bottom": null,
            "_model_module": "@jupyter-widgets/base",
            "top": null,
            "grid_column": null,
            "overflow_y": null,
            "overflow_x": null,
            "grid_auto_flow": null,
            "grid_area": null,
            "grid_template_columns": null,
            "flex": null,
            "_model_name": "LayoutModel",
            "justify_items": null,
            "grid_row": null,
            "max_height": null,
            "align_content": null,
            "visibility": null,
            "align_self": null,
            "height": null,
            "min_height": null,
            "padding": null,
            "grid_auto_rows": null,
            "grid_gap": null,
            "max_width": null,
            "order": null,
            "_view_module_version": "1.2.0",
            "grid_template_areas": null,
            "object_position": null,
            "object_fit": null,
            "grid_auto_columns": null,
            "margin": null,
            "display": null,
            "left": null
          }
        },
        "68254b2067f94d0882b783efb73852ac": {
          "model_module": "@jupyter-widgets/controls",
          "model_name": "HBoxModel",
          "state": {
            "_view_name": "HBoxView",
            "_dom_classes": [],
            "_model_name": "HBoxModel",
            "_view_module": "@jupyter-widgets/controls",
            "_model_module_version": "1.5.0",
            "_view_count": null,
            "_view_module_version": "1.5.0",
            "box_style": "",
            "layout": "IPY_MODEL_61e6c453bcaa46aba3954ec55efb028b",
            "_model_module": "@jupyter-widgets/controls",
            "children": [
              "IPY_MODEL_e5b20b2da56f4f868f24327b0c8e9ce1",
              "IPY_MODEL_365a137f63154627bb4f6d2e137ab412"
            ]
          }
        },
        "61e6c453bcaa46aba3954ec55efb028b": {
          "model_module": "@jupyter-widgets/base",
          "model_name": "LayoutModel",
          "state": {
            "_view_name": "LayoutView",
            "grid_template_rows": null,
            "right": null,
            "justify_content": null,
            "_view_module": "@jupyter-widgets/base",
            "overflow": null,
            "_model_module_version": "1.2.0",
            "_view_count": null,
            "flex_flow": null,
            "width": null,
            "min_width": null,
            "border": null,
            "align_items": null,
            "bottom": null,
            "_model_module": "@jupyter-widgets/base",
            "top": null,
            "grid_column": null,
            "overflow_y": null,
            "overflow_x": null,
            "grid_auto_flow": null,
            "grid_area": null,
            "grid_template_columns": null,
            "flex": null,
            "_model_name": "LayoutModel",
            "justify_items": null,
            "grid_row": null,
            "max_height": null,
            "align_content": null,
            "visibility": null,
            "align_self": null,
            "height": null,
            "min_height": null,
            "padding": null,
            "grid_auto_rows": null,
            "grid_gap": null,
            "max_width": null,
            "order": null,
            "_view_module_version": "1.2.0",
            "grid_template_areas": null,
            "object_position": null,
            "object_fit": null,
            "grid_auto_columns": null,
            "margin": null,
            "display": null,
            "left": null
          }
        },
        "e5b20b2da56f4f868f24327b0c8e9ce1": {
          "model_module": "@jupyter-widgets/controls",
          "model_name": "FloatProgressModel",
          "state": {
            "_view_name": "ProgressView",
            "style": "IPY_MODEL_fd4aa282fe28428ba927fda87e2d19d9",
            "_dom_classes": [],
            "description": "100%",
            "_model_name": "FloatProgressModel",
            "bar_style": "success",
            "max": 44375,
            "_view_module": "@jupyter-widgets/controls",
            "_model_module_version": "1.5.0",
            "value": 44375,
            "_view_count": null,
            "_view_module_version": "1.5.0",
            "orientation": "horizontal",
            "min": 0,
            "description_tooltip": null,
            "_model_module": "@jupyter-widgets/controls",
            "layout": "IPY_MODEL_4e93c554521a46a3ab4085c14d871849"
          }
        },
        "365a137f63154627bb4f6d2e137ab412": {
          "model_module": "@jupyter-widgets/controls",
          "model_name": "HTMLModel",
          "state": {
            "_view_name": "HTMLView",
            "style": "IPY_MODEL_822ea0d3199743069f95e12271de3a39",
            "_dom_classes": [],
            "description": "",
            "_model_name": "HTMLModel",
            "placeholder": "​",
            "_view_module": "@jupyter-widgets/controls",
            "_model_module_version": "1.5.0",
            "value": " 44375/44375 [01:07&lt;00:00, 654.58it/s]",
            "_view_count": null,
            "_view_module_version": "1.5.0",
            "description_tooltip": null,
            "_model_module": "@jupyter-widgets/controls",
            "layout": "IPY_MODEL_3347790b7fbc496b9eb8289fed2a54be"
          }
        },
        "fd4aa282fe28428ba927fda87e2d19d9": {
          "model_module": "@jupyter-widgets/controls",
          "model_name": "ProgressStyleModel",
          "state": {
            "_view_name": "StyleView",
            "_model_name": "ProgressStyleModel",
            "description_width": "initial",
            "_view_module": "@jupyter-widgets/base",
            "_model_module_version": "1.5.0",
            "_view_count": null,
            "_view_module_version": "1.2.0",
            "bar_color": null,
            "_model_module": "@jupyter-widgets/controls"
          }
        },
        "4e93c554521a46a3ab4085c14d871849": {
          "model_module": "@jupyter-widgets/base",
          "model_name": "LayoutModel",
          "state": {
            "_view_name": "LayoutView",
            "grid_template_rows": null,
            "right": null,
            "justify_content": null,
            "_view_module": "@jupyter-widgets/base",
            "overflow": null,
            "_model_module_version": "1.2.0",
            "_view_count": null,
            "flex_flow": null,
            "width": null,
            "min_width": null,
            "border": null,
            "align_items": null,
            "bottom": null,
            "_model_module": "@jupyter-widgets/base",
            "top": null,
            "grid_column": null,
            "overflow_y": null,
            "overflow_x": null,
            "grid_auto_flow": null,
            "grid_area": null,
            "grid_template_columns": null,
            "flex": null,
            "_model_name": "LayoutModel",
            "justify_items": null,
            "grid_row": null,
            "max_height": null,
            "align_content": null,
            "visibility": null,
            "align_self": null,
            "height": null,
            "min_height": null,
            "padding": null,
            "grid_auto_rows": null,
            "grid_gap": null,
            "max_width": null,
            "order": null,
            "_view_module_version": "1.2.0",
            "grid_template_areas": null,
            "object_position": null,
            "object_fit": null,
            "grid_auto_columns": null,
            "margin": null,
            "display": null,
            "left": null
          }
        },
        "822ea0d3199743069f95e12271de3a39": {
          "model_module": "@jupyter-widgets/controls",
          "model_name": "DescriptionStyleModel",
          "state": {
            "_view_name": "StyleView",
            "_model_name": "DescriptionStyleModel",
            "description_width": "",
            "_view_module": "@jupyter-widgets/base",
            "_model_module_version": "1.5.0",
            "_view_count": null,
            "_view_module_version": "1.2.0",
            "_model_module": "@jupyter-widgets/controls"
          }
        },
        "3347790b7fbc496b9eb8289fed2a54be": {
          "model_module": "@jupyter-widgets/base",
          "model_name": "LayoutModel",
          "state": {
            "_view_name": "LayoutView",
            "grid_template_rows": null,
            "right": null,
            "justify_content": null,
            "_view_module": "@jupyter-widgets/base",
            "overflow": null,
            "_model_module_version": "1.2.0",
            "_view_count": null,
            "flex_flow": null,
            "width": null,
            "min_width": null,
            "border": null,
            "align_items": null,
            "bottom": null,
            "_model_module": "@jupyter-widgets/base",
            "top": null,
            "grid_column": null,
            "overflow_y": null,
            "overflow_x": null,
            "grid_auto_flow": null,
            "grid_area": null,
            "grid_template_columns": null,
            "flex": null,
            "_model_name": "LayoutModel",
            "justify_items": null,
            "grid_row": null,
            "max_height": null,
            "align_content": null,
            "visibility": null,
            "align_self": null,
            "height": null,
            "min_height": null,
            "padding": null,
            "grid_auto_rows": null,
            "grid_gap": null,
            "max_width": null,
            "order": null,
            "_view_module_version": "1.2.0",
            "grid_template_areas": null,
            "object_position": null,
            "object_fit": null,
            "grid_auto_columns": null,
            "margin": null,
            "display": null,
            "left": null
          }
        },
        "ed5d98bc58164129b47fbaf39b70cb80": {
          "model_module": "@jupyter-widgets/controls",
          "model_name": "HBoxModel",
          "state": {
            "_view_name": "HBoxView",
            "_dom_classes": [],
            "_model_name": "HBoxModel",
            "_view_module": "@jupyter-widgets/controls",
            "_model_module_version": "1.5.0",
            "_view_count": null,
            "_view_module_version": "1.5.0",
            "box_style": "",
            "layout": "IPY_MODEL_be65c3b847de4ca58a8892188f5bd610",
            "_model_module": "@jupyter-widgets/controls",
            "children": [
              "IPY_MODEL_9d7d63af5d76485481f2e77a53b4d3be",
              "IPY_MODEL_ff32471272cd4b98957e64579060adf7"
            ]
          }
        },
        "be65c3b847de4ca58a8892188f5bd610": {
          "model_module": "@jupyter-widgets/base",
          "model_name": "LayoutModel",
          "state": {
            "_view_name": "LayoutView",
            "grid_template_rows": null,
            "right": null,
            "justify_content": null,
            "_view_module": "@jupyter-widgets/base",
            "overflow": null,
            "_model_module_version": "1.2.0",
            "_view_count": null,
            "flex_flow": null,
            "width": null,
            "min_width": null,
            "border": null,
            "align_items": null,
            "bottom": null,
            "_model_module": "@jupyter-widgets/base",
            "top": null,
            "grid_column": null,
            "overflow_y": null,
            "overflow_x": null,
            "grid_auto_flow": null,
            "grid_area": null,
            "grid_template_columns": null,
            "flex": null,
            "_model_name": "LayoutModel",
            "justify_items": null,
            "grid_row": null,
            "max_height": null,
            "align_content": null,
            "visibility": null,
            "align_self": null,
            "height": null,
            "min_height": null,
            "padding": null,
            "grid_auto_rows": null,
            "grid_gap": null,
            "max_width": null,
            "order": null,
            "_view_module_version": "1.2.0",
            "grid_template_areas": null,
            "object_position": null,
            "object_fit": null,
            "grid_auto_columns": null,
            "margin": null,
            "display": null,
            "left": null
          }
        },
        "9d7d63af5d76485481f2e77a53b4d3be": {
          "model_module": "@jupyter-widgets/controls",
          "model_name": "FloatProgressModel",
          "state": {
            "_view_name": "ProgressView",
            "style": "IPY_MODEL_b21c9e0f9fe84212b6aafe8f08afdf07",
            "_dom_classes": [],
            "description": "100%",
            "_model_name": "FloatProgressModel",
            "bar_style": "success",
            "max": 44375,
            "_view_module": "@jupyter-widgets/controls",
            "_model_module_version": "1.5.0",
            "value": 44375,
            "_view_count": null,
            "_view_module_version": "1.5.0",
            "orientation": "horizontal",
            "min": 0,
            "description_tooltip": null,
            "_model_module": "@jupyter-widgets/controls",
            "layout": "IPY_MODEL_9409e10b0bc84525baa98de323dfdb49"
          }
        },
        "ff32471272cd4b98957e64579060adf7": {
          "model_module": "@jupyter-widgets/controls",
          "model_name": "HTMLModel",
          "state": {
            "_view_name": "HTMLView",
            "style": "IPY_MODEL_65850fd9fe0d47fb9980cacfb7f8db11",
            "_dom_classes": [],
            "description": "",
            "_model_name": "HTMLModel",
            "placeholder": "​",
            "_view_module": "@jupyter-widgets/controls",
            "_model_module_version": "1.5.0",
            "value": " 44375/44375 [01:06&lt;00:00, 664.79it/s]",
            "_view_count": null,
            "_view_module_version": "1.5.0",
            "description_tooltip": null,
            "_model_module": "@jupyter-widgets/controls",
            "layout": "IPY_MODEL_2b40afd37c4e4824a068923c5927c5c8"
          }
        },
        "b21c9e0f9fe84212b6aafe8f08afdf07": {
          "model_module": "@jupyter-widgets/controls",
          "model_name": "ProgressStyleModel",
          "state": {
            "_view_name": "StyleView",
            "_model_name": "ProgressStyleModel",
            "description_width": "initial",
            "_view_module": "@jupyter-widgets/base",
            "_model_module_version": "1.5.0",
            "_view_count": null,
            "_view_module_version": "1.2.0",
            "bar_color": null,
            "_model_module": "@jupyter-widgets/controls"
          }
        },
        "9409e10b0bc84525baa98de323dfdb49": {
          "model_module": "@jupyter-widgets/base",
          "model_name": "LayoutModel",
          "state": {
            "_view_name": "LayoutView",
            "grid_template_rows": null,
            "right": null,
            "justify_content": null,
            "_view_module": "@jupyter-widgets/base",
            "overflow": null,
            "_model_module_version": "1.2.0",
            "_view_count": null,
            "flex_flow": null,
            "width": null,
            "min_width": null,
            "border": null,
            "align_items": null,
            "bottom": null,
            "_model_module": "@jupyter-widgets/base",
            "top": null,
            "grid_column": null,
            "overflow_y": null,
            "overflow_x": null,
            "grid_auto_flow": null,
            "grid_area": null,
            "grid_template_columns": null,
            "flex": null,
            "_model_name": "LayoutModel",
            "justify_items": null,
            "grid_row": null,
            "max_height": null,
            "align_content": null,
            "visibility": null,
            "align_self": null,
            "height": null,
            "min_height": null,
            "padding": null,
            "grid_auto_rows": null,
            "grid_gap": null,
            "max_width": null,
            "order": null,
            "_view_module_version": "1.2.0",
            "grid_template_areas": null,
            "object_position": null,
            "object_fit": null,
            "grid_auto_columns": null,
            "margin": null,
            "display": null,
            "left": null
          }
        },
        "65850fd9fe0d47fb9980cacfb7f8db11": {
          "model_module": "@jupyter-widgets/controls",
          "model_name": "DescriptionStyleModel",
          "state": {
            "_view_name": "StyleView",
            "_model_name": "DescriptionStyleModel",
            "description_width": "",
            "_view_module": "@jupyter-widgets/base",
            "_model_module_version": "1.5.0",
            "_view_count": null,
            "_view_module_version": "1.2.0",
            "_model_module": "@jupyter-widgets/controls"
          }
        },
        "2b40afd37c4e4824a068923c5927c5c8": {
          "model_module": "@jupyter-widgets/base",
          "model_name": "LayoutModel",
          "state": {
            "_view_name": "LayoutView",
            "grid_template_rows": null,
            "right": null,
            "justify_content": null,
            "_view_module": "@jupyter-widgets/base",
            "overflow": null,
            "_model_module_version": "1.2.0",
            "_view_count": null,
            "flex_flow": null,
            "width": null,
            "min_width": null,
            "border": null,
            "align_items": null,
            "bottom": null,
            "_model_module": "@jupyter-widgets/base",
            "top": null,
            "grid_column": null,
            "overflow_y": null,
            "overflow_x": null,
            "grid_auto_flow": null,
            "grid_area": null,
            "grid_template_columns": null,
            "flex": null,
            "_model_name": "LayoutModel",
            "justify_items": null,
            "grid_row": null,
            "max_height": null,
            "align_content": null,
            "visibility": null,
            "align_self": null,
            "height": null,
            "min_height": null,
            "padding": null,
            "grid_auto_rows": null,
            "grid_gap": null,
            "max_width": null,
            "order": null,
            "_view_module_version": "1.2.0",
            "grid_template_areas": null,
            "object_position": null,
            "object_fit": null,
            "grid_auto_columns": null,
            "margin": null,
            "display": null,
            "left": null
          }
        },
        "49ea72461a674a5f9339175b8ad2339e": {
          "model_module": "@jupyter-widgets/controls",
          "model_name": "HBoxModel",
          "state": {
            "_view_name": "HBoxView",
            "_dom_classes": [],
            "_model_name": "HBoxModel",
            "_view_module": "@jupyter-widgets/controls",
            "_model_module_version": "1.5.0",
            "_view_count": null,
            "_view_module_version": "1.5.0",
            "box_style": "",
            "layout": "IPY_MODEL_e83fd78c96044751b9af8b5b309e1667",
            "_model_module": "@jupyter-widgets/controls",
            "children": [
              "IPY_MODEL_a5efa80baf6847d69ddfd0b8c86f0fdd",
              "IPY_MODEL_daa80ba0076a4c44acbcbd98f149e918"
            ]
          }
        },
        "e83fd78c96044751b9af8b5b309e1667": {
          "model_module": "@jupyter-widgets/base",
          "model_name": "LayoutModel",
          "state": {
            "_view_name": "LayoutView",
            "grid_template_rows": null,
            "right": null,
            "justify_content": null,
            "_view_module": "@jupyter-widgets/base",
            "overflow": null,
            "_model_module_version": "1.2.0",
            "_view_count": null,
            "flex_flow": null,
            "width": null,
            "min_width": null,
            "border": null,
            "align_items": null,
            "bottom": null,
            "_model_module": "@jupyter-widgets/base",
            "top": null,
            "grid_column": null,
            "overflow_y": null,
            "overflow_x": null,
            "grid_auto_flow": null,
            "grid_area": null,
            "grid_template_columns": null,
            "flex": null,
            "_model_name": "LayoutModel",
            "justify_items": null,
            "grid_row": null,
            "max_height": null,
            "align_content": null,
            "visibility": null,
            "align_self": null,
            "height": null,
            "min_height": null,
            "padding": null,
            "grid_auto_rows": null,
            "grid_gap": null,
            "max_width": null,
            "order": null,
            "_view_module_version": "1.2.0",
            "grid_template_areas": null,
            "object_position": null,
            "object_fit": null,
            "grid_auto_columns": null,
            "margin": null,
            "display": null,
            "left": null
          }
        },
        "a5efa80baf6847d69ddfd0b8c86f0fdd": {
          "model_module": "@jupyter-widgets/controls",
          "model_name": "FloatProgressModel",
          "state": {
            "_view_name": "ProgressView",
            "style": "IPY_MODEL_8e2ea2950f1e4c6b9488f112a4e71ee7",
            "_dom_classes": [],
            "description": "100%",
            "_model_name": "FloatProgressModel",
            "bar_style": "success",
            "max": 44375,
            "_view_module": "@jupyter-widgets/controls",
            "_model_module_version": "1.5.0",
            "value": 44375,
            "_view_count": null,
            "_view_module_version": "1.5.0",
            "orientation": "horizontal",
            "min": 0,
            "description_tooltip": null,
            "_model_module": "@jupyter-widgets/controls",
            "layout": "IPY_MODEL_16b73d31bcc54a84896a15e1474d6de8"
          }
        },
        "daa80ba0076a4c44acbcbd98f149e918": {
          "model_module": "@jupyter-widgets/controls",
          "model_name": "HTMLModel",
          "state": {
            "_view_name": "HTMLView",
            "style": "IPY_MODEL_a122fda470594b46b630cc9ca92cdabb",
            "_dom_classes": [],
            "description": "",
            "_model_name": "HTMLModel",
            "placeholder": "​",
            "_view_module": "@jupyter-widgets/controls",
            "_model_module_version": "1.5.0",
            "value": " 44375/44375 [03:22&lt;00:00, 218.78it/s]",
            "_view_count": null,
            "_view_module_version": "1.5.0",
            "description_tooltip": null,
            "_model_module": "@jupyter-widgets/controls",
            "layout": "IPY_MODEL_7fbc39e0a7064924bbbff610c1920871"
          }
        },
        "8e2ea2950f1e4c6b9488f112a4e71ee7": {
          "model_module": "@jupyter-widgets/controls",
          "model_name": "ProgressStyleModel",
          "state": {
            "_view_name": "StyleView",
            "_model_name": "ProgressStyleModel",
            "description_width": "initial",
            "_view_module": "@jupyter-widgets/base",
            "_model_module_version": "1.5.0",
            "_view_count": null,
            "_view_module_version": "1.2.0",
            "bar_color": null,
            "_model_module": "@jupyter-widgets/controls"
          }
        },
        "16b73d31bcc54a84896a15e1474d6de8": {
          "model_module": "@jupyter-widgets/base",
          "model_name": "LayoutModel",
          "state": {
            "_view_name": "LayoutView",
            "grid_template_rows": null,
            "right": null,
            "justify_content": null,
            "_view_module": "@jupyter-widgets/base",
            "overflow": null,
            "_model_module_version": "1.2.0",
            "_view_count": null,
            "flex_flow": null,
            "width": null,
            "min_width": null,
            "border": null,
            "align_items": null,
            "bottom": null,
            "_model_module": "@jupyter-widgets/base",
            "top": null,
            "grid_column": null,
            "overflow_y": null,
            "overflow_x": null,
            "grid_auto_flow": null,
            "grid_area": null,
            "grid_template_columns": null,
            "flex": null,
            "_model_name": "LayoutModel",
            "justify_items": null,
            "grid_row": null,
            "max_height": null,
            "align_content": null,
            "visibility": null,
            "align_self": null,
            "height": null,
            "min_height": null,
            "padding": null,
            "grid_auto_rows": null,
            "grid_gap": null,
            "max_width": null,
            "order": null,
            "_view_module_version": "1.2.0",
            "grid_template_areas": null,
            "object_position": null,
            "object_fit": null,
            "grid_auto_columns": null,
            "margin": null,
            "display": null,
            "left": null
          }
        },
        "a122fda470594b46b630cc9ca92cdabb": {
          "model_module": "@jupyter-widgets/controls",
          "model_name": "DescriptionStyleModel",
          "state": {
            "_view_name": "StyleView",
            "_model_name": "DescriptionStyleModel",
            "description_width": "",
            "_view_module": "@jupyter-widgets/base",
            "_model_module_version": "1.5.0",
            "_view_count": null,
            "_view_module_version": "1.2.0",
            "_model_module": "@jupyter-widgets/controls"
          }
        },
        "7fbc39e0a7064924bbbff610c1920871": {
          "model_module": "@jupyter-widgets/base",
          "model_name": "LayoutModel",
          "state": {
            "_view_name": "LayoutView",
            "grid_template_rows": null,
            "right": null,
            "justify_content": null,
            "_view_module": "@jupyter-widgets/base",
            "overflow": null,
            "_model_module_version": "1.2.0",
            "_view_count": null,
            "flex_flow": null,
            "width": null,
            "min_width": null,
            "border": null,
            "align_items": null,
            "bottom": null,
            "_model_module": "@jupyter-widgets/base",
            "top": null,
            "grid_column": null,
            "overflow_y": null,
            "overflow_x": null,
            "grid_auto_flow": null,
            "grid_area": null,
            "grid_template_columns": null,
            "flex": null,
            "_model_name": "LayoutModel",
            "justify_items": null,
            "grid_row": null,
            "max_height": null,
            "align_content": null,
            "visibility": null,
            "align_self": null,
            "height": null,
            "min_height": null,
            "padding": null,
            "grid_auto_rows": null,
            "grid_gap": null,
            "max_width": null,
            "order": null,
            "_view_module_version": "1.2.0",
            "grid_template_areas": null,
            "object_position": null,
            "object_fit": null,
            "grid_auto_columns": null,
            "margin": null,
            "display": null,
            "left": null
          }
        },
        "7ebee95f3c4040e5b731c6ac5d6b5940": {
          "model_module": "@jupyter-widgets/controls",
          "model_name": "HBoxModel",
          "state": {
            "_view_name": "HBoxView",
            "_dom_classes": [],
            "_model_name": "HBoxModel",
            "_view_module": "@jupyter-widgets/controls",
            "_model_module_version": "1.5.0",
            "_view_count": null,
            "_view_module_version": "1.5.0",
            "box_style": "",
            "layout": "IPY_MODEL_b8474e212c004f7fb59e09c6714d83f8",
            "_model_module": "@jupyter-widgets/controls",
            "children": [
              "IPY_MODEL_df165e1d23434d589b7af66790c623cd",
              "IPY_MODEL_7709a11d8959472e8021c1cdf51ee9c9"
            ]
          }
        },
        "b8474e212c004f7fb59e09c6714d83f8": {
          "model_module": "@jupyter-widgets/base",
          "model_name": "LayoutModel",
          "state": {
            "_view_name": "LayoutView",
            "grid_template_rows": null,
            "right": null,
            "justify_content": null,
            "_view_module": "@jupyter-widgets/base",
            "overflow": null,
            "_model_module_version": "1.2.0",
            "_view_count": null,
            "flex_flow": null,
            "width": null,
            "min_width": null,
            "border": null,
            "align_items": null,
            "bottom": null,
            "_model_module": "@jupyter-widgets/base",
            "top": null,
            "grid_column": null,
            "overflow_y": null,
            "overflow_x": null,
            "grid_auto_flow": null,
            "grid_area": null,
            "grid_template_columns": null,
            "flex": null,
            "_model_name": "LayoutModel",
            "justify_items": null,
            "grid_row": null,
            "max_height": null,
            "align_content": null,
            "visibility": null,
            "align_self": null,
            "height": null,
            "min_height": null,
            "padding": null,
            "grid_auto_rows": null,
            "grid_gap": null,
            "max_width": null,
            "order": null,
            "_view_module_version": "1.2.0",
            "grid_template_areas": null,
            "object_position": null,
            "object_fit": null,
            "grid_auto_columns": null,
            "margin": null,
            "display": null,
            "left": null
          }
        },
        "df165e1d23434d589b7af66790c623cd": {
          "model_module": "@jupyter-widgets/controls",
          "model_name": "FloatProgressModel",
          "state": {
            "_view_name": "ProgressView",
            "style": "IPY_MODEL_6d65d8c9e1c84f109ad859ea7fd5de41",
            "_dom_classes": [],
            "description": "100%",
            "_model_name": "FloatProgressModel",
            "bar_style": "success",
            "max": 44375,
            "_view_module": "@jupyter-widgets/controls",
            "_model_module_version": "1.5.0",
            "value": 44375,
            "_view_count": null,
            "_view_module_version": "1.5.0",
            "orientation": "horizontal",
            "min": 0,
            "description_tooltip": null,
            "_model_module": "@jupyter-widgets/controls",
            "layout": "IPY_MODEL_bb7e5062616a478e8fe6b50b4ee734e1"
          }
        },
        "7709a11d8959472e8021c1cdf51ee9c9": {
          "model_module": "@jupyter-widgets/controls",
          "model_name": "HTMLModel",
          "state": {
            "_view_name": "HTMLView",
            "style": "IPY_MODEL_0755567e33ad4d02852faa4ae2e5103e",
            "_dom_classes": [],
            "description": "",
            "_model_name": "HTMLModel",
            "placeholder": "​",
            "_view_module": "@jupyter-widgets/controls",
            "_model_module_version": "1.5.0",
            "value": " 44375/44375 [02:14&lt;00:00, 329.02it/s]",
            "_view_count": null,
            "_view_module_version": "1.5.0",
            "description_tooltip": null,
            "_model_module": "@jupyter-widgets/controls",
            "layout": "IPY_MODEL_cc024e36d224432ca4c2cac8cddec811"
          }
        },
        "6d65d8c9e1c84f109ad859ea7fd5de41": {
          "model_module": "@jupyter-widgets/controls",
          "model_name": "ProgressStyleModel",
          "state": {
            "_view_name": "StyleView",
            "_model_name": "ProgressStyleModel",
            "description_width": "initial",
            "_view_module": "@jupyter-widgets/base",
            "_model_module_version": "1.5.0",
            "_view_count": null,
            "_view_module_version": "1.2.0",
            "bar_color": null,
            "_model_module": "@jupyter-widgets/controls"
          }
        },
        "bb7e5062616a478e8fe6b50b4ee734e1": {
          "model_module": "@jupyter-widgets/base",
          "model_name": "LayoutModel",
          "state": {
            "_view_name": "LayoutView",
            "grid_template_rows": null,
            "right": null,
            "justify_content": null,
            "_view_module": "@jupyter-widgets/base",
            "overflow": null,
            "_model_module_version": "1.2.0",
            "_view_count": null,
            "flex_flow": null,
            "width": null,
            "min_width": null,
            "border": null,
            "align_items": null,
            "bottom": null,
            "_model_module": "@jupyter-widgets/base",
            "top": null,
            "grid_column": null,
            "overflow_y": null,
            "overflow_x": null,
            "grid_auto_flow": null,
            "grid_area": null,
            "grid_template_columns": null,
            "flex": null,
            "_model_name": "LayoutModel",
            "justify_items": null,
            "grid_row": null,
            "max_height": null,
            "align_content": null,
            "visibility": null,
            "align_self": null,
            "height": null,
            "min_height": null,
            "padding": null,
            "grid_auto_rows": null,
            "grid_gap": null,
            "max_width": null,
            "order": null,
            "_view_module_version": "1.2.0",
            "grid_template_areas": null,
            "object_position": null,
            "object_fit": null,
            "grid_auto_columns": null,
            "margin": null,
            "display": null,
            "left": null
          }
        },
        "0755567e33ad4d02852faa4ae2e5103e": {
          "model_module": "@jupyter-widgets/controls",
          "model_name": "DescriptionStyleModel",
          "state": {
            "_view_name": "StyleView",
            "_model_name": "DescriptionStyleModel",
            "description_width": "",
            "_view_module": "@jupyter-widgets/base",
            "_model_module_version": "1.5.0",
            "_view_count": null,
            "_view_module_version": "1.2.0",
            "_model_module": "@jupyter-widgets/controls"
          }
        },
        "cc024e36d224432ca4c2cac8cddec811": {
          "model_module": "@jupyter-widgets/base",
          "model_name": "LayoutModel",
          "state": {
            "_view_name": "LayoutView",
            "grid_template_rows": null,
            "right": null,
            "justify_content": null,
            "_view_module": "@jupyter-widgets/base",
            "overflow": null,
            "_model_module_version": "1.2.0",
            "_view_count": null,
            "flex_flow": null,
            "width": null,
            "min_width": null,
            "border": null,
            "align_items": null,
            "bottom": null,
            "_model_module": "@jupyter-widgets/base",
            "top": null,
            "grid_column": null,
            "overflow_y": null,
            "overflow_x": null,
            "grid_auto_flow": null,
            "grid_area": null,
            "grid_template_columns": null,
            "flex": null,
            "_model_name": "LayoutModel",
            "justify_items": null,
            "grid_row": null,
            "max_height": null,
            "align_content": null,
            "visibility": null,
            "align_self": null,
            "height": null,
            "min_height": null,
            "padding": null,
            "grid_auto_rows": null,
            "grid_gap": null,
            "max_width": null,
            "order": null,
            "_view_module_version": "1.2.0",
            "grid_template_areas": null,
            "object_position": null,
            "object_fit": null,
            "grid_auto_columns": null,
            "margin": null,
            "display": null,
            "left": null
          }
        },
        "33321090996d48df9a291e03f2a98f30": {
          "model_module": "@jupyter-widgets/controls",
          "model_name": "HBoxModel",
          "state": {
            "_view_name": "HBoxView",
            "_dom_classes": [],
            "_model_name": "HBoxModel",
            "_view_module": "@jupyter-widgets/controls",
            "_model_module_version": "1.5.0",
            "_view_count": null,
            "_view_module_version": "1.5.0",
            "box_style": "",
            "layout": "IPY_MODEL_0c83de5683af4ed19fae803e9f44d33a",
            "_model_module": "@jupyter-widgets/controls",
            "children": [
              "IPY_MODEL_980b853a03d5487792290a102ba77b81",
              "IPY_MODEL_d367a818a5024bd791ad31cf0870b76c"
            ]
          }
        },
        "0c83de5683af4ed19fae803e9f44d33a": {
          "model_module": "@jupyter-widgets/base",
          "model_name": "LayoutModel",
          "state": {
            "_view_name": "LayoutView",
            "grid_template_rows": null,
            "right": null,
            "justify_content": null,
            "_view_module": "@jupyter-widgets/base",
            "overflow": null,
            "_model_module_version": "1.2.0",
            "_view_count": null,
            "flex_flow": null,
            "width": null,
            "min_width": null,
            "border": null,
            "align_items": null,
            "bottom": null,
            "_model_module": "@jupyter-widgets/base",
            "top": null,
            "grid_column": null,
            "overflow_y": null,
            "overflow_x": null,
            "grid_auto_flow": null,
            "grid_area": null,
            "grid_template_columns": null,
            "flex": null,
            "_model_name": "LayoutModel",
            "justify_items": null,
            "grid_row": null,
            "max_height": null,
            "align_content": null,
            "visibility": null,
            "align_self": null,
            "height": null,
            "min_height": null,
            "padding": null,
            "grid_auto_rows": null,
            "grid_gap": null,
            "max_width": null,
            "order": null,
            "_view_module_version": "1.2.0",
            "grid_template_areas": null,
            "object_position": null,
            "object_fit": null,
            "grid_auto_columns": null,
            "margin": null,
            "display": null,
            "left": null
          }
        },
        "980b853a03d5487792290a102ba77b81": {
          "model_module": "@jupyter-widgets/controls",
          "model_name": "FloatProgressModel",
          "state": {
            "_view_name": "ProgressView",
            "style": "IPY_MODEL_06fe1dc869fd48f5a50a0a1fb06b8501",
            "_dom_classes": [],
            "description": "100%",
            "_model_name": "FloatProgressModel",
            "bar_style": "success",
            "max": 44375,
            "_view_module": "@jupyter-widgets/controls",
            "_model_module_version": "1.5.0",
            "value": 44375,
            "_view_count": null,
            "_view_module_version": "1.5.0",
            "orientation": "horizontal",
            "min": 0,
            "description_tooltip": null,
            "_model_module": "@jupyter-widgets/controls",
            "layout": "IPY_MODEL_32a974c277494e1bbea91a8dbcfee71e"
          }
        },
        "d367a818a5024bd791ad31cf0870b76c": {
          "model_module": "@jupyter-widgets/controls",
          "model_name": "HTMLModel",
          "state": {
            "_view_name": "HTMLView",
            "style": "IPY_MODEL_c52ddc015415479ea5a68cc9d92114a5",
            "_dom_classes": [],
            "description": "",
            "_model_name": "HTMLModel",
            "placeholder": "​",
            "_view_module": "@jupyter-widgets/controls",
            "_model_module_version": "1.5.0",
            "value": " 44375/44375 [01:07&lt;00:00, 658.26it/s]",
            "_view_count": null,
            "_view_module_version": "1.5.0",
            "description_tooltip": null,
            "_model_module": "@jupyter-widgets/controls",
            "layout": "IPY_MODEL_8b47ece9c563405cbbb60b3052874f83"
          }
        },
        "06fe1dc869fd48f5a50a0a1fb06b8501": {
          "model_module": "@jupyter-widgets/controls",
          "model_name": "ProgressStyleModel",
          "state": {
            "_view_name": "StyleView",
            "_model_name": "ProgressStyleModel",
            "description_width": "initial",
            "_view_module": "@jupyter-widgets/base",
            "_model_module_version": "1.5.0",
            "_view_count": null,
            "_view_module_version": "1.2.0",
            "bar_color": null,
            "_model_module": "@jupyter-widgets/controls"
          }
        },
        "32a974c277494e1bbea91a8dbcfee71e": {
          "model_module": "@jupyter-widgets/base",
          "model_name": "LayoutModel",
          "state": {
            "_view_name": "LayoutView",
            "grid_template_rows": null,
            "right": null,
            "justify_content": null,
            "_view_module": "@jupyter-widgets/base",
            "overflow": null,
            "_model_module_version": "1.2.0",
            "_view_count": null,
            "flex_flow": null,
            "width": null,
            "min_width": null,
            "border": null,
            "align_items": null,
            "bottom": null,
            "_model_module": "@jupyter-widgets/base",
            "top": null,
            "grid_column": null,
            "overflow_y": null,
            "overflow_x": null,
            "grid_auto_flow": null,
            "grid_area": null,
            "grid_template_columns": null,
            "flex": null,
            "_model_name": "LayoutModel",
            "justify_items": null,
            "grid_row": null,
            "max_height": null,
            "align_content": null,
            "visibility": null,
            "align_self": null,
            "height": null,
            "min_height": null,
            "padding": null,
            "grid_auto_rows": null,
            "grid_gap": null,
            "max_width": null,
            "order": null,
            "_view_module_version": "1.2.0",
            "grid_template_areas": null,
            "object_position": null,
            "object_fit": null,
            "grid_auto_columns": null,
            "margin": null,
            "display": null,
            "left": null
          }
        },
        "c52ddc015415479ea5a68cc9d92114a5": {
          "model_module": "@jupyter-widgets/controls",
          "model_name": "DescriptionStyleModel",
          "state": {
            "_view_name": "StyleView",
            "_model_name": "DescriptionStyleModel",
            "description_width": "",
            "_view_module": "@jupyter-widgets/base",
            "_model_module_version": "1.5.0",
            "_view_count": null,
            "_view_module_version": "1.2.0",
            "_model_module": "@jupyter-widgets/controls"
          }
        },
        "8b47ece9c563405cbbb60b3052874f83": {
          "model_module": "@jupyter-widgets/base",
          "model_name": "LayoutModel",
          "state": {
            "_view_name": "LayoutView",
            "grid_template_rows": null,
            "right": null,
            "justify_content": null,
            "_view_module": "@jupyter-widgets/base",
            "overflow": null,
            "_model_module_version": "1.2.0",
            "_view_count": null,
            "flex_flow": null,
            "width": null,
            "min_width": null,
            "border": null,
            "align_items": null,
            "bottom": null,
            "_model_module": "@jupyter-widgets/base",
            "top": null,
            "grid_column": null,
            "overflow_y": null,
            "overflow_x": null,
            "grid_auto_flow": null,
            "grid_area": null,
            "grid_template_columns": null,
            "flex": null,
            "_model_name": "LayoutModel",
            "justify_items": null,
            "grid_row": null,
            "max_height": null,
            "align_content": null,
            "visibility": null,
            "align_self": null,
            "height": null,
            "min_height": null,
            "padding": null,
            "grid_auto_rows": null,
            "grid_gap": null,
            "max_width": null,
            "order": null,
            "_view_module_version": "1.2.0",
            "grid_template_areas": null,
            "object_position": null,
            "object_fit": null,
            "grid_auto_columns": null,
            "margin": null,
            "display": null,
            "left": null
          }
        },
        "fdedc27f156c488699552a57892cb690": {
          "model_module": "@jupyter-widgets/controls",
          "model_name": "HBoxModel",
          "state": {
            "_view_name": "HBoxView",
            "_dom_classes": [],
            "_model_name": "HBoxModel",
            "_view_module": "@jupyter-widgets/controls",
            "_model_module_version": "1.5.0",
            "_view_count": null,
            "_view_module_version": "1.5.0",
            "box_style": "",
            "layout": "IPY_MODEL_90d3fef168a1453785e8c18562818002",
            "_model_module": "@jupyter-widgets/controls",
            "children": [
              "IPY_MODEL_215e4ff56d5f40d1a42c02f60a8b18f0",
              "IPY_MODEL_4e285307456e4935ab8cf1423031a00c"
            ]
          }
        },
        "90d3fef168a1453785e8c18562818002": {
          "model_module": "@jupyter-widgets/base",
          "model_name": "LayoutModel",
          "state": {
            "_view_name": "LayoutView",
            "grid_template_rows": null,
            "right": null,
            "justify_content": null,
            "_view_module": "@jupyter-widgets/base",
            "overflow": null,
            "_model_module_version": "1.2.0",
            "_view_count": null,
            "flex_flow": null,
            "width": null,
            "min_width": null,
            "border": null,
            "align_items": null,
            "bottom": null,
            "_model_module": "@jupyter-widgets/base",
            "top": null,
            "grid_column": null,
            "overflow_y": null,
            "overflow_x": null,
            "grid_auto_flow": null,
            "grid_area": null,
            "grid_template_columns": null,
            "flex": null,
            "_model_name": "LayoutModel",
            "justify_items": null,
            "grid_row": null,
            "max_height": null,
            "align_content": null,
            "visibility": null,
            "align_self": null,
            "height": null,
            "min_height": null,
            "padding": null,
            "grid_auto_rows": null,
            "grid_gap": null,
            "max_width": null,
            "order": null,
            "_view_module_version": "1.2.0",
            "grid_template_areas": null,
            "object_position": null,
            "object_fit": null,
            "grid_auto_columns": null,
            "margin": null,
            "display": null,
            "left": null
          }
        },
        "215e4ff56d5f40d1a42c02f60a8b18f0": {
          "model_module": "@jupyter-widgets/controls",
          "model_name": "FloatProgressModel",
          "state": {
            "_view_name": "ProgressView",
            "style": "IPY_MODEL_3ca335b4795148f4a0fe6871648037dc",
            "_dom_classes": [],
            "description": "100%",
            "_model_name": "FloatProgressModel",
            "bar_style": "success",
            "max": 7,
            "_view_module": "@jupyter-widgets/controls",
            "_model_module_version": "1.5.0",
            "value": 7,
            "_view_count": null,
            "_view_module_version": "1.5.0",
            "orientation": "horizontal",
            "min": 0,
            "description_tooltip": null,
            "_model_module": "@jupyter-widgets/controls",
            "layout": "IPY_MODEL_443473d277b2447cb29e6f21c3444ba8"
          }
        },
        "4e285307456e4935ab8cf1423031a00c": {
          "model_module": "@jupyter-widgets/controls",
          "model_name": "HTMLModel",
          "state": {
            "_view_name": "HTMLView",
            "style": "IPY_MODEL_c9eb123d067c4194a51267dae65f98b8",
            "_dom_classes": [],
            "description": "",
            "_model_name": "HTMLModel",
            "placeholder": "​",
            "_view_module": "@jupyter-widgets/controls",
            "_model_module_version": "1.5.0",
            "value": " 7/7 [00:00&lt;00:00, 134.02it/s]",
            "_view_count": null,
            "_view_module_version": "1.5.0",
            "description_tooltip": null,
            "_model_module": "@jupyter-widgets/controls",
            "layout": "IPY_MODEL_51fa9c1a759f4258833c35e35f782f2d"
          }
        },
        "3ca335b4795148f4a0fe6871648037dc": {
          "model_module": "@jupyter-widgets/controls",
          "model_name": "ProgressStyleModel",
          "state": {
            "_view_name": "StyleView",
            "_model_name": "ProgressStyleModel",
            "description_width": "initial",
            "_view_module": "@jupyter-widgets/base",
            "_model_module_version": "1.5.0",
            "_view_count": null,
            "_view_module_version": "1.2.0",
            "bar_color": null,
            "_model_module": "@jupyter-widgets/controls"
          }
        },
        "443473d277b2447cb29e6f21c3444ba8": {
          "model_module": "@jupyter-widgets/base",
          "model_name": "LayoutModel",
          "state": {
            "_view_name": "LayoutView",
            "grid_template_rows": null,
            "right": null,
            "justify_content": null,
            "_view_module": "@jupyter-widgets/base",
            "overflow": null,
            "_model_module_version": "1.2.0",
            "_view_count": null,
            "flex_flow": null,
            "width": null,
            "min_width": null,
            "border": null,
            "align_items": null,
            "bottom": null,
            "_model_module": "@jupyter-widgets/base",
            "top": null,
            "grid_column": null,
            "overflow_y": null,
            "overflow_x": null,
            "grid_auto_flow": null,
            "grid_area": null,
            "grid_template_columns": null,
            "flex": null,
            "_model_name": "LayoutModel",
            "justify_items": null,
            "grid_row": null,
            "max_height": null,
            "align_content": null,
            "visibility": null,
            "align_self": null,
            "height": null,
            "min_height": null,
            "padding": null,
            "grid_auto_rows": null,
            "grid_gap": null,
            "max_width": null,
            "order": null,
            "_view_module_version": "1.2.0",
            "grid_template_areas": null,
            "object_position": null,
            "object_fit": null,
            "grid_auto_columns": null,
            "margin": null,
            "display": null,
            "left": null
          }
        },
        "c9eb123d067c4194a51267dae65f98b8": {
          "model_module": "@jupyter-widgets/controls",
          "model_name": "DescriptionStyleModel",
          "state": {
            "_view_name": "StyleView",
            "_model_name": "DescriptionStyleModel",
            "description_width": "",
            "_view_module": "@jupyter-widgets/base",
            "_model_module_version": "1.5.0",
            "_view_count": null,
            "_view_module_version": "1.2.0",
            "_model_module": "@jupyter-widgets/controls"
          }
        },
        "51fa9c1a759f4258833c35e35f782f2d": {
          "model_module": "@jupyter-widgets/base",
          "model_name": "LayoutModel",
          "state": {
            "_view_name": "LayoutView",
            "grid_template_rows": null,
            "right": null,
            "justify_content": null,
            "_view_module": "@jupyter-widgets/base",
            "overflow": null,
            "_model_module_version": "1.2.0",
            "_view_count": null,
            "flex_flow": null,
            "width": null,
            "min_width": null,
            "border": null,
            "align_items": null,
            "bottom": null,
            "_model_module": "@jupyter-widgets/base",
            "top": null,
            "grid_column": null,
            "overflow_y": null,
            "overflow_x": null,
            "grid_auto_flow": null,
            "grid_area": null,
            "grid_template_columns": null,
            "flex": null,
            "_model_name": "LayoutModel",
            "justify_items": null,
            "grid_row": null,
            "max_height": null,
            "align_content": null,
            "visibility": null,
            "align_self": null,
            "height": null,
            "min_height": null,
            "padding": null,
            "grid_auto_rows": null,
            "grid_gap": null,
            "max_width": null,
            "order": null,
            "_view_module_version": "1.2.0",
            "grid_template_areas": null,
            "object_position": null,
            "object_fit": null,
            "grid_auto_columns": null,
            "margin": null,
            "display": null,
            "left": null
          }
        }
      }
    }
  },
  "cells": [
    {
      "cell_type": "markdown",
      "metadata": {
        "id": "Ch6vpxrwQdcc"
      },
      "source": [
        "<h1 style=\"padding-top: 25px;padding-bottom: 25px;text-align: left; padding-left: 10px; background-color: #DDDDDD; \n",
        "    color: black;\"> <img style=\"float: left; padding-right: 10px; width: 45px\" src=\"https://raw.githubusercontent.com/Harvard-IACS/2018-CS109A/master/content/styles/iacs.png\"> AC295: Advanced Practical Data Science </h1>\n",
        "\n",
        "## Practicum 2: Visual Question Answering\n",
        "\n",
        "**Harvard University, Fall 2020**  \n",
        "**Instructors**: Pavlos Protopapas  \n",
        "\n",
        "### **Team: $\\alpha\\beta normal$ $Distri\\beta ution$**\n",
        "#### **Roht Beri, Eduardo Peynetti, Jessica Wijaya, Stuart Neilson**"
      ]
    },
    {
      "cell_type": "markdown",
      "metadata": {
        "id": "86zGynCVRsdD"
      },
      "source": [
        "## Creating TFRecords Datasets"
      ]
    },
    {
      "cell_type": "code",
      "metadata": {
        "id": "IjIZStJn9NyP",
        "outputId": "4d82d0be-c04e-48b5-8b9c-f8671224817d",
        "colab": {
          "base_uri": "https://localhost:8080/"
        }
      },
      "source": [
        "!pip3 install transformers"
      ],
      "execution_count": 31,
      "outputs": [
        {
          "output_type": "stream",
          "text": [
            "Collecting transformers\n",
            "\u001b[?25l  Downloading https://files.pythonhosted.org/packages/9c/34/fb092588df61bf33f113ade030d1cbe74fb73a0353648f8dd938a223dce7/transformers-3.5.0-py3-none-any.whl (1.3MB)\n",
            "\r\u001b[K     |▎                               | 10kB 13.8MB/s eta 0:00:01\r\u001b[K     |▌                               | 20kB 17.3MB/s eta 0:00:01\r\u001b[K     |▊                               | 30kB 8.2MB/s eta 0:00:01\r\u001b[K     |█                               | 40kB 3.1MB/s eta 0:00:01\r\u001b[K     |█▎                              | 51kB 3.7MB/s eta 0:00:01\r\u001b[K     |█▌                              | 61kB 4.0MB/s eta 0:00:01\r\u001b[K     |█▊                              | 71kB 4.4MB/s eta 0:00:01\r\u001b[K     |██                              | 81kB 4.9MB/s eta 0:00:01\r\u001b[K     |██▎                             | 92kB 4.9MB/s eta 0:00:01\r\u001b[K     |██▌                             | 102kB 5.3MB/s eta 0:00:01\r\u001b[K     |██▊                             | 112kB 5.3MB/s eta 0:00:01\r\u001b[K     |███                             | 122kB 5.3MB/s eta 0:00:01\r\u001b[K     |███▎                            | 133kB 5.3MB/s eta 0:00:01\r\u001b[K     |███▌                            | 143kB 5.3MB/s eta 0:00:01\r\u001b[K     |███▉                            | 153kB 5.3MB/s eta 0:00:01\r\u001b[K     |████                            | 163kB 5.3MB/s eta 0:00:01\r\u001b[K     |████▎                           | 174kB 5.3MB/s eta 0:00:01\r\u001b[K     |████▌                           | 184kB 5.3MB/s eta 0:00:01\r\u001b[K     |████▉                           | 194kB 5.3MB/s eta 0:00:01\r\u001b[K     |█████                           | 204kB 5.3MB/s eta 0:00:01\r\u001b[K     |█████▎                          | 215kB 5.3MB/s eta 0:00:01\r\u001b[K     |█████▌                          | 225kB 5.3MB/s eta 0:00:01\r\u001b[K     |█████▉                          | 235kB 5.3MB/s eta 0:00:01\r\u001b[K     |██████                          | 245kB 5.3MB/s eta 0:00:01\r\u001b[K     |██████▎                         | 256kB 5.3MB/s eta 0:00:01\r\u001b[K     |██████▌                         | 266kB 5.3MB/s eta 0:00:01\r\u001b[K     |██████▉                         | 276kB 5.3MB/s eta 0:00:01\r\u001b[K     |███████                         | 286kB 5.3MB/s eta 0:00:01\r\u001b[K     |███████▎                        | 296kB 5.3MB/s eta 0:00:01\r\u001b[K     |███████▋                        | 307kB 5.3MB/s eta 0:00:01\r\u001b[K     |███████▉                        | 317kB 5.3MB/s eta 0:00:01\r\u001b[K     |████████                        | 327kB 5.3MB/s eta 0:00:01\r\u001b[K     |████████▎                       | 337kB 5.3MB/s eta 0:00:01\r\u001b[K     |████████▋                       | 348kB 5.3MB/s eta 0:00:01\r\u001b[K     |████████▉                       | 358kB 5.3MB/s eta 0:00:01\r\u001b[K     |█████████                       | 368kB 5.3MB/s eta 0:00:01\r\u001b[K     |█████████▎                      | 378kB 5.3MB/s eta 0:00:01\r\u001b[K     |█████████▋                      | 389kB 5.3MB/s eta 0:00:01\r\u001b[K     |█████████▉                      | 399kB 5.3MB/s eta 0:00:01\r\u001b[K     |██████████                      | 409kB 5.3MB/s eta 0:00:01\r\u001b[K     |██████████▎                     | 419kB 5.3MB/s eta 0:00:01\r\u001b[K     |██████████▋                     | 430kB 5.3MB/s eta 0:00:01\r\u001b[K     |██████████▉                     | 440kB 5.3MB/s eta 0:00:01\r\u001b[K     |███████████                     | 450kB 5.3MB/s eta 0:00:01\r\u001b[K     |███████████▍                    | 460kB 5.3MB/s eta 0:00:01\r\u001b[K     |███████████▋                    | 471kB 5.3MB/s eta 0:00:01\r\u001b[K     |███████████▉                    | 481kB 5.3MB/s eta 0:00:01\r\u001b[K     |████████████                    | 491kB 5.3MB/s eta 0:00:01\r\u001b[K     |████████████▍                   | 501kB 5.3MB/s eta 0:00:01\r\u001b[K     |████████████▋                   | 512kB 5.3MB/s eta 0:00:01\r\u001b[K     |████████████▉                   | 522kB 5.3MB/s eta 0:00:01\r\u001b[K     |█████████████                   | 532kB 5.3MB/s eta 0:00:01\r\u001b[K     |█████████████▍                  | 542kB 5.3MB/s eta 0:00:01\r\u001b[K     |█████████████▋                  | 552kB 5.3MB/s eta 0:00:01\r\u001b[K     |█████████████▉                  | 563kB 5.3MB/s eta 0:00:01\r\u001b[K     |██████████████                  | 573kB 5.3MB/s eta 0:00:01\r\u001b[K     |██████████████▍                 | 583kB 5.3MB/s eta 0:00:01\r\u001b[K     |██████████████▋                 | 593kB 5.3MB/s eta 0:00:01\r\u001b[K     |██████████████▉                 | 604kB 5.3MB/s eta 0:00:01\r\u001b[K     |███████████████▏                | 614kB 5.3MB/s eta 0:00:01\r\u001b[K     |███████████████▍                | 624kB 5.3MB/s eta 0:00:01\r\u001b[K     |███████████████▋                | 634kB 5.3MB/s eta 0:00:01\r\u001b[K     |███████████████▉                | 645kB 5.3MB/s eta 0:00:01\r\u001b[K     |████████████████▏               | 655kB 5.3MB/s eta 0:00:01\r\u001b[K     |████████████████▍               | 665kB 5.3MB/s eta 0:00:01\r\u001b[K     |████████████████▋               | 675kB 5.3MB/s eta 0:00:01\r\u001b[K     |████████████████▉               | 686kB 5.3MB/s eta 0:00:01\r\u001b[K     |█████████████████▏              | 696kB 5.3MB/s eta 0:00:01\r\u001b[K     |█████████████████▍              | 706kB 5.3MB/s eta 0:00:01\r\u001b[K     |█████████████████▋              | 716kB 5.3MB/s eta 0:00:01\r\u001b[K     |██████████████████              | 727kB 5.3MB/s eta 0:00:01\r\u001b[K     |██████████████████▏             | 737kB 5.3MB/s eta 0:00:01\r\u001b[K     |██████████████████▍             | 747kB 5.3MB/s eta 0:00:01\r\u001b[K     |██████████████████▋             | 757kB 5.3MB/s eta 0:00:01\r\u001b[K     |███████████████████             | 768kB 5.3MB/s eta 0:00:01\r\u001b[K     |███████████████████▏            | 778kB 5.3MB/s eta 0:00:01\r\u001b[K     |███████████████████▍            | 788kB 5.3MB/s eta 0:00:01\r\u001b[K     |███████████████████▋            | 798kB 5.3MB/s eta 0:00:01\r\u001b[K     |████████████████████            | 808kB 5.3MB/s eta 0:00:01\r\u001b[K     |████████████████████▏           | 819kB 5.3MB/s eta 0:00:01\r\u001b[K     |████████████████████▍           | 829kB 5.3MB/s eta 0:00:01\r\u001b[K     |████████████████████▋           | 839kB 5.3MB/s eta 0:00:01\r\u001b[K     |█████████████████████           | 849kB 5.3MB/s eta 0:00:01\r\u001b[K     |█████████████████████▏          | 860kB 5.3MB/s eta 0:00:01\r\u001b[K     |█████████████████████▍          | 870kB 5.3MB/s eta 0:00:01\r\u001b[K     |█████████████████████▊          | 880kB 5.3MB/s eta 0:00:01\r\u001b[K     |██████████████████████          | 890kB 5.3MB/s eta 0:00:01\r\u001b[K     |██████████████████████▏         | 901kB 5.3MB/s eta 0:00:01\r\u001b[K     |██████████████████████▍         | 911kB 5.3MB/s eta 0:00:01\r\u001b[K     |██████████████████████▊         | 921kB 5.3MB/s eta 0:00:01\r\u001b[K     |███████████████████████         | 931kB 5.3MB/s eta 0:00:01\r\u001b[K     |███████████████████████▏        | 942kB 5.3MB/s eta 0:00:01\r\u001b[K     |███████████████████████▍        | 952kB 5.3MB/s eta 0:00:01\r\u001b[K     |███████████████████████▊        | 962kB 5.3MB/s eta 0:00:01\r\u001b[K     |████████████████████████        | 972kB 5.3MB/s eta 0:00:01\r\u001b[K     |████████████████████████▏       | 983kB 5.3MB/s eta 0:00:01\r\u001b[K     |████████████████████████▍       | 993kB 5.3MB/s eta 0:00:01\r\u001b[K     |████████████████████████▊       | 1.0MB 5.3MB/s eta 0:00:01\r\u001b[K     |█████████████████████████       | 1.0MB 5.3MB/s eta 0:00:01\r\u001b[K     |█████████████████████████▏      | 1.0MB 5.3MB/s eta 0:00:01\r\u001b[K     |█████████████████████████▌      | 1.0MB 5.3MB/s eta 0:00:01\r\u001b[K     |█████████████████████████▊      | 1.0MB 5.3MB/s eta 0:00:01\r\u001b[K     |██████████████████████████      | 1.1MB 5.3MB/s eta 0:00:01\r\u001b[K     |██████████████████████████▏     | 1.1MB 5.3MB/s eta 0:00:01\r\u001b[K     |██████████████████████████▌     | 1.1MB 5.3MB/s eta 0:00:01\r\u001b[K     |██████████████████████████▊     | 1.1MB 5.3MB/s eta 0:00:01\r\u001b[K     |███████████████████████████     | 1.1MB 5.3MB/s eta 0:00:01\r\u001b[K     |███████████████████████████▏    | 1.1MB 5.3MB/s eta 0:00:01\r\u001b[K     |███████████████████████████▌    | 1.1MB 5.3MB/s eta 0:00:01\r\u001b[K     |███████████████████████████▊    | 1.1MB 5.3MB/s eta 0:00:01\r\u001b[K     |████████████████████████████    | 1.1MB 5.3MB/s eta 0:00:01\r\u001b[K     |████████████████████████████▏   | 1.1MB 5.3MB/s eta 0:00:01\r\u001b[K     |████████████████████████████▌   | 1.2MB 5.3MB/s eta 0:00:01\r\u001b[K     |████████████████████████████▊   | 1.2MB 5.3MB/s eta 0:00:01\r\u001b[K     |█████████████████████████████   | 1.2MB 5.3MB/s eta 0:00:01\r\u001b[K     |█████████████████████████████▎  | 1.2MB 5.3MB/s eta 0:00:01\r\u001b[K     |█████████████████████████████▌  | 1.2MB 5.3MB/s eta 0:00:01\r\u001b[K     |█████████████████████████████▊  | 1.2MB 5.3MB/s eta 0:00:01\r\u001b[K     |██████████████████████████████  | 1.2MB 5.3MB/s eta 0:00:01\r\u001b[K     |██████████████████████████████▎ | 1.2MB 5.3MB/s eta 0:00:01\r\u001b[K     |██████████████████████████████▌ | 1.2MB 5.3MB/s eta 0:00:01\r\u001b[K     |██████████████████████████████▊ | 1.2MB 5.3MB/s eta 0:00:01\r\u001b[K     |███████████████████████████████ | 1.3MB 5.3MB/s eta 0:00:01\r\u001b[K     |███████████████████████████████▎| 1.3MB 5.3MB/s eta 0:00:01\r\u001b[K     |███████████████████████████████▌| 1.3MB 5.3MB/s eta 0:00:01\r\u001b[K     |███████████████████████████████▊| 1.3MB 5.3MB/s eta 0:00:01\r\u001b[K     |████████████████████████████████| 1.3MB 5.3MB/s eta 0:00:01\r\u001b[K     |████████████████████████████████| 1.3MB 5.3MB/s \n",
            "\u001b[?25hRequirement already satisfied: tqdm>=4.27 in /usr/local/lib/python3.6/dist-packages (from transformers) (4.41.1)\n",
            "Requirement already satisfied: filelock in /usr/local/lib/python3.6/dist-packages (from transformers) (3.0.12)\n",
            "Collecting sentencepiece==0.1.91\n",
            "\u001b[?25l  Downloading https://files.pythonhosted.org/packages/d4/a4/d0a884c4300004a78cca907a6ff9a5e9fe4f090f5d95ab341c53d28cbc58/sentencepiece-0.1.91-cp36-cp36m-manylinux1_x86_64.whl (1.1MB)\n",
            "\u001b[K     |████████████████████████████████| 1.1MB 24.9MB/s \n",
            "\u001b[?25hRequirement already satisfied: dataclasses; python_version < \"3.7\" in /usr/local/lib/python3.6/dist-packages (from transformers) (0.7)\n",
            "Requirement already satisfied: packaging in /usr/local/lib/python3.6/dist-packages (from transformers) (20.4)\n",
            "Requirement already satisfied: requests in /usr/local/lib/python3.6/dist-packages (from transformers) (2.23.0)\n",
            "Collecting tokenizers==0.9.3\n",
            "\u001b[?25l  Downloading https://files.pythonhosted.org/packages/4c/34/b39eb9994bc3c999270b69c9eea40ecc6f0e97991dba28282b9fd32d44ee/tokenizers-0.9.3-cp36-cp36m-manylinux1_x86_64.whl (2.9MB)\n",
            "\u001b[K     |████████████████████████████████| 2.9MB 33.5MB/s \n",
            "\u001b[?25hRequirement already satisfied: numpy in /usr/local/lib/python3.6/dist-packages (from transformers) (1.18.5)\n",
            "Requirement already satisfied: protobuf in /usr/local/lib/python3.6/dist-packages (from transformers) (3.12.4)\n",
            "Requirement already satisfied: regex!=2019.12.17 in /usr/local/lib/python3.6/dist-packages (from transformers) (2019.12.20)\n",
            "Collecting sacremoses\n",
            "\u001b[?25l  Downloading https://files.pythonhosted.org/packages/7d/34/09d19aff26edcc8eb2a01bed8e98f13a1537005d31e95233fd48216eed10/sacremoses-0.0.43.tar.gz (883kB)\n",
            "\u001b[K     |████████████████████████████████| 890kB 35.2MB/s \n",
            "\u001b[?25hRequirement already satisfied: pyparsing>=2.0.2 in /usr/local/lib/python3.6/dist-packages (from packaging->transformers) (2.4.7)\n",
            "Requirement already satisfied: six in /usr/local/lib/python3.6/dist-packages (from packaging->transformers) (1.15.0)\n",
            "Requirement already satisfied: certifi>=2017.4.17 in /usr/local/lib/python3.6/dist-packages (from requests->transformers) (2020.6.20)\n",
            "Requirement already satisfied: idna<3,>=2.5 in /usr/local/lib/python3.6/dist-packages (from requests->transformers) (2.10)\n",
            "Requirement already satisfied: chardet<4,>=3.0.2 in /usr/local/lib/python3.6/dist-packages (from requests->transformers) (3.0.4)\n",
            "Requirement already satisfied: urllib3!=1.25.0,!=1.25.1,<1.26,>=1.21.1 in /usr/local/lib/python3.6/dist-packages (from requests->transformers) (1.24.3)\n",
            "Requirement already satisfied: setuptools in /usr/local/lib/python3.6/dist-packages (from protobuf->transformers) (50.3.2)\n",
            "Requirement already satisfied: click in /usr/local/lib/python3.6/dist-packages (from sacremoses->transformers) (7.1.2)\n",
            "Requirement already satisfied: joblib in /usr/local/lib/python3.6/dist-packages (from sacremoses->transformers) (0.17.0)\n",
            "Building wheels for collected packages: sacremoses\n",
            "  Building wheel for sacremoses (setup.py) ... \u001b[?25l\u001b[?25hdone\n",
            "  Created wheel for sacremoses: filename=sacremoses-0.0.43-cp36-none-any.whl size=893257 sha256=16093073838877086613f4abdcc01e12b21e0f9122d90b2899804a4cce46eff6\n",
            "  Stored in directory: /root/.cache/pip/wheels/29/3c/fd/7ce5c3f0666dab31a50123635e6fb5e19ceb42ce38d4e58f45\n",
            "Successfully built sacremoses\n",
            "Installing collected packages: sentencepiece, tokenizers, sacremoses, transformers\n",
            "Successfully installed sacremoses-0.0.43 sentencepiece-0.1.91 tokenizers-0.9.3 transformers-3.5.0\n"
          ],
          "name": "stdout"
        }
      ]
    },
    {
      "cell_type": "markdown",
      "metadata": {
        "id": "86C4-p4lR6jE"
      },
      "source": [
        "### Imports"
      ]
    },
    {
      "cell_type": "code",
      "metadata": {
        "id": "dXHPXTLpQZ4V"
      },
      "source": [
        "import os\n",
        "import requests\n",
        "import tempfile\n",
        "import zipfile\n",
        "import shutil\n",
        "import json\n",
        "import time\n",
        "import sys\n",
        "import cv2\n",
        "import numpy as np\n",
        "import pandas as pd\n",
        "from collections import Counter\n",
        "from glob import glob\n",
        "from google.colab import drive\n",
        "from tqdm.notebook import trange, tqdm\n",
        "import subprocess\n",
        "import matplotlib.pyplot as plt\n",
        "%matplotlib inline\n",
        "\n",
        "import tensorflow as tf\n",
        "\n",
        "from transformers import BertTokenizer"
      ],
      "execution_count": 46,
      "outputs": []
    },
    {
      "cell_type": "markdown",
      "metadata": {
        "id": "EDHE_Nd6SCy7"
      },
      "source": [
        "### Utils"
      ]
    },
    {
      "cell_type": "code",
      "metadata": {
        "id": "UG29KGghUgqZ"
      },
      "source": [
        "# Paths to big and small datasets\n",
        "PATHS_BIG = [\n",
        "    'https://public-dataset-store.s3.amazonaws.com/visualqa_2017/train2014.zip',\n",
        "    'https://public-dataset-store.s3.amazonaws.com/visualqa_2017/v2_Questions_Train_mscoco.zip',\n",
        "    'https://s3.amazonaws.com/cvmlp/vqa/mscoco/vqa/v2_Annotations_Train_mscoco.zip',\n",
        "    'https://public-dataset-store.s3.amazonaws.com/visualqa_2017/val2014.zip',\n",
        "    'https://public-dataset-store.s3.amazonaws.com/visualqa_2017/v2_Questions_Val_mscoco.zip',\n",
        "    'https://s3.amazonaws.com/cvmlp/vqa/mscoco/vqa/v2_Annotations_Val_mscoco.zip'\n",
        "]\n",
        "\n",
        "PATHS_SMALL = [\n",
        "    'https://storage.googleapis.com/ac295-data-store/visualqa_2017_small/train2014.zip',\n",
        "    'https://public-dataset-store.s3.amazonaws.com/visualqa_2017/v2_Questions_Train_mscoco.zip',\n",
        "    'https://s3.amazonaws.com/cvmlp/vqa/mscoco/vqa/v2_Annotations_Train_mscoco.zip',\n",
        "    'https://storage.googleapis.com/ac295-data-store/visualqa_2017_small/val2014.zip',\n",
        "    'https://public-dataset-store.s3.amazonaws.com/visualqa_2017/v2_Questions_Val_mscoco.zip',\n",
        "    'https://s3.amazonaws.com/cvmlp/vqa/mscoco/vqa/v2_Annotations_Val_mscoco.zip'\n",
        "]"
      ],
      "execution_count": 47,
      "outputs": []
    },
    {
      "cell_type": "code",
      "metadata": {
        "id": "torr3VlTSA8n"
      },
      "source": [
        "# Download Data \n",
        "# Credit: https://github.com/arya46/portfolio_notebooks/blob/master/Visual%20Question%20Answering/VQA%203%20Model.ipynb\n",
        "def download_vqa_data(paths):\n",
        "    Questions_Train_mscoco = tf.keras.utils.get_file(\n",
        "        'v2_Questions_Train_mscoco.zip',\n",
        "        cache_subdir=os.path.abspath('/content/data'),\n",
        "        origin = paths[1],\n",
        "        extract = True\n",
        "    )\n",
        "    print(\"Training Question Extracted\")\n",
        "\n",
        "    Questions_Val_mscoco = tf.keras.utils.get_file('v2_Questions_Val_mscoco.zip',\n",
        "        cache_subdir=os.path.abspath('/content/data'),\n",
        "        origin = paths[4],\n",
        "        extract = True\n",
        "    )\n",
        "    print(\"Validation Question Extracted\")\n",
        "\n",
        "    Annotations_Train_mscoco = tf.keras.utils.get_file(\n",
        "        'v2_Annotations_Train_mscoco.zip',\n",
        "        cache_subdir=os.path.abspath('/content/data'),\n",
        "        origin = paths[2],\n",
        "        extract = True\n",
        "    )\n",
        "    print(\"Training Annotations Extracted\")\n",
        "\n",
        "    Annotations_Val_mscoco = tf.keras.utils.get_file(\n",
        "        'v2_Annotations_Val_mscoco.zip',\n",
        "        cache_subdir=os.path.abspath('/content/data'),\n",
        "        origin = paths[5],\n",
        "        extract = True\n",
        "    )\n",
        "    print(\"Validation Annotations Extracted\")\n",
        "\n",
        "    image_train = tf.keras.utils.get_file(\n",
        "        'train2014.zip',\n",
        "        cache_subdir=os.path.abspath('/content/data'),\n",
        "        origin = paths[0],\n",
        "        extract = True\n",
        "    )\n",
        "    print(\"Training Images Extracted\")\n",
        "\n",
        "    image_val = tf.keras.utils.get_file(\n",
        "        'val2014.zip',\n",
        "        cache_subdir=os.path.abspath('/content/data'),\n",
        "        origin = paths[3],\n",
        "        extract = True\n",
        "    )\n",
        "    print(\"Validation Images Extracted\")\n",
        "\n",
        "    # Remove the zip files\n",
        "    os.remove(Questions_Train_mscoco)\n",
        "    os.remove(Questions_Val_mscoco)\n",
        "    os.remove(Annotations_Train_mscoco)\n",
        "    os.remove(Annotations_Val_mscoco)\n",
        "    os.remove(image_train)\n",
        "    os.remove(image_val)"
      ],
      "execution_count": 48,
      "outputs": []
    },
    {
      "cell_type": "code",
      "metadata": {
        "id": "_TbePIRhYPDw"
      },
      "source": [
        "# The following functions can be used to convert a value to a type compatible\n",
        "# with tf.train.Example.\n",
        "# Credit: https://www.tensorflow.org/tutorials/load_data/tfrecord\n",
        "\n",
        "def _bytes_feature(value):\n",
        "  \"\"\"Returns a bytes_list from a string / byte.\"\"\"\n",
        "  if isinstance(value, type(tf.constant(0))):\n",
        "    value = value.numpy() # BytesList won't unpack a string from an EagerTensor.\n",
        "  return tf.train.Feature(bytes_list=tf.train.BytesList(value=[value]))\n",
        "\n",
        "def _float_feature(value):\n",
        "  \"\"\"Returns a float_list from a float / double.\"\"\"\n",
        "  return tf.train.Feature(float_list=tf.train.FloatList(value=[value]))\n",
        "\n",
        "def _int64_feature(value):\n",
        "  \"\"\"Returns an int64_list from a bool / enum / int / uint.\"\"\"\n",
        "  return tf.train.Feature(int64_list=tf.train.Int64List(value=[value]))"
      ],
      "execution_count": 49,
      "outputs": []
    },
    {
      "cell_type": "code",
      "metadata": {
        "id": "eJPPDivY9hR9"
      },
      "source": [
        "# Get Top K answers\n",
        "def get_top_K_answers(k):\n",
        "    anno_train = json.load(open(f'/content/data/v2_mscoco_train2014_annotations.json', 'r'))\n",
        "    anno_val = json.load(open(f'/content/data/v2_mscoco_val2014_annotations.json', 'r'))\n",
        "    answers = []\n",
        "\n",
        "    for i in range(len(anno_train['annotations'])):\n",
        "        answers.append(anno_train['annotations'][i]['multiple_choice_answer'])\n",
        "\n",
        "    for i in range(len(anno_val['annotations'])):\n",
        "        answers.append(anno_val['annotations'][i]['multiple_choice_answer'])\n",
        "\n",
        "    answers = Counter(answers)\n",
        "    answers = pd.Series(answers, name=\"frequency\")\n",
        "    answers = answers.to_frame().sort_values(\"frequency\", axis=0, ascending=False)\n",
        "    answers.iloc[:k].to_csv(\"/content/data/answers.csv\")\n",
        "    answers = answers.index[:k]\n",
        "\n",
        "    return list(answers)"
      ],
      "execution_count": 50,
      "outputs": []
    },
    {
      "cell_type": "code",
      "metadata": {
        "id": "o36jlGgUhVQU"
      },
      "source": [
        "IMG_CHANNELS = 3\n",
        "IMG_HEIGHT = 224\n",
        "IMG_WIDTH = 224\n",
        "NUM_SHARDS = 10\n",
        "\n",
        "# Function to create TFRecords for the dataset\n",
        "# Credit: http://warmspringwinds.github.io/tensorflow/tf-slim/2016/12/21/tfrecords-guide/\n",
        "# Credit: https://github.com/shiyangdaisy23/QTA-in-VQA/blob/master/Datapreprocess/textpreprocess.py\n",
        "def create_TFRecords(subset, top_answers):\n",
        "    \"\"\"\n",
        "    Creates a TFRecords file whose elements are (image_path, question, answer)\n",
        "\n",
        "    Input:\n",
        "      subset: subset can be train2014 or val2014\n",
        "    \"\"\"\n",
        "    anno = json.load(open(f'/content/data/v2_mscoco_{subset}_annotations.json', 'r'))\n",
        "    ques = json.load(open(f'/content/data/v2_OpenEnded_mscoco_{subset}_questions.json', 'r'))\n",
        "    imdir='/content/data/%s/COCO_%s_%012d.jpg' ## COCO_train2014_000000291417.jpg\n",
        "\n",
        "    num_annotations = len(anno['annotations'])\n",
        "    shard_size = num_annotations//NUM_SHARDS\n",
        "    num_shards = NUM_SHARDS + (num_annotations%NUM_SHARDS > 0)\n",
        "\n",
        "    if not os.path.exists(f'/content/data/{subset}_tf'):\n",
        "        os.mkdir(f'/content/data/{subset}_tf')\n",
        "    \n",
        "    path = \"/content/data/{}_tf/vaq_raw_{}_{}-of-{}.records\"\n",
        "\n",
        "    tokenizer = BertTokenizer.from_pretrained('bert-base-uncased',do_lower_case=True)\n",
        "\n",
        "    for j in trange(num_shards):\n",
        "    # TFRecord writer initialized\n",
        "        shard_path = path.format(subset, subset, '%.2d'%(j), '%.2d'%(num_shards-1))\n",
        "        writer = tf.io.TFRecordWriter(shard_path)\n",
        "\n",
        "        for i in trange(j*shard_size, min((j+1)*shard_size, num_annotations)):\n",
        "\n",
        "            answer = anno['annotations'][i]['multiple_choice_answer']\n",
        "\n",
        "            if answer in top_answers:\n",
        "                answer = top_answers.index(answer)\n",
        "\n",
        "                question = ques['questions'][i]['question']\n",
        "                question_token = tokenizer.encode_plus(\n",
        "                    question, \n",
        "                    add_special_tokens = True, # add [CLS], [SEP]\n",
        "                    max_length = 24, # max length of the text that can go to BERT (<=512)\n",
        "                    padding='max_length',\n",
        "                    return_attention_mask = True, # add attention mask to not focus on pad tokens\n",
        "                    truncation='longest_first',\n",
        "                    return_tensors=\"tf\"\n",
        "                )\n",
        "                question_input = question_token['input_ids'].numpy().tostring()\n",
        "                question_type = question_token['token_type_ids'].numpy().tostring()\n",
        "                question_attention = question_token['attention_mask'].numpy().tostring()\n",
        "                \n",
        "                # Read and resize the image\n",
        "                image_path = imdir%(subset, subset, anno['annotations'][i]['image_id'])\n",
        "                img = cv2.imread(image_path)\n",
        "                img = cv2.resize(img, (IMG_HEIGHT, IMG_WIDTH))\n",
        "                img = np.asarray(img)\n",
        "                img = tf.constant(img)\n",
        "                img_raw = tf.io.encode_jpeg(img)\n",
        "\n",
        "                # Create tf.train.Example\n",
        "                feature={\n",
        "                    'image_raw': _bytes_feature(img_raw), \n",
        "                    'question' : _bytes_feature(question.encode('utf-8')),\n",
        "                    'input_ids': _bytes_feature(question_input),\n",
        "                    'token_type_ids': _bytes_feature(question_type),\n",
        "                    'attention_mask': _bytes_feature(question_attention), \n",
        "                    'answer': _int64_feature(answer)\n",
        "                }\n",
        "                features=tf.train.Features(feature=feature)\n",
        "                example = tf.train.Example(features=features)\n",
        "\n",
        "                # Wrtie the TFRecord\n",
        "                writer.write(example.SerializeToString())\n",
        "\n",
        "        # Close the TFRecord file\n",
        "        writer.close()\n",
        "\n",
        "    # Cleanup\n",
        "    os.remove(f'/content/data/v2_mscoco_{subset}_annotations.json')\n",
        "    os.remove(f'/content/data/v2_OpenEnded_mscoco_{subset}_questions.json')\n",
        "    shutil.rmtree(f'/content/data/{subset}')"
      ],
      "execution_count": 58,
      "outputs": []
    },
    {
      "cell_type": "markdown",
      "metadata": {
        "id": "i8BtTtqLlxPS"
      },
      "source": [
        "### Download Data"
      ]
    },
    {
      "cell_type": "code",
      "metadata": {
        "id": "ztexdNA0lxtH",
        "outputId": "7a1f43c9-904b-4d36-89d1-789d8b43b02c",
        "colab": {
          "base_uri": "https://localhost:8080/"
        }
      },
      "source": [
        "# Set the paths\n",
        "paths, resize = PATHS_SMALL, False\n",
        "# paths, resize = PATHS_BIG, True\n",
        "\n",
        "# Download data\n",
        "download_vqa_data(paths)"
      ],
      "execution_count": 53,
      "outputs": [
        {
          "output_type": "stream",
          "text": [
            "Downloading data from https://public-dataset-store.s3.amazonaws.com/visualqa_2017/v2_Questions_Train_mscoco.zip\n",
            "7241728/7239401 [==============================] - 2s 0us/step\n",
            "Training Question Extracted\n",
            "Downloading data from https://public-dataset-store.s3.amazonaws.com/visualqa_2017/v2_Questions_Val_mscoco.zip\n",
            "3497984/3494929 [==============================] - 1s 0us/step\n",
            "Validation Question Extracted\n",
            "Downloading data from https://s3.amazonaws.com/cvmlp/vqa/mscoco/vqa/v2_Annotations_Train_mscoco.zip\n",
            "21716992/21708861 [==============================] - 3s 0us/step\n",
            "Training Annotations Extracted\n",
            "Downloading data from https://s3.amazonaws.com/cvmlp/vqa/mscoco/vqa/v2_Annotations_Val_mscoco.zip\n",
            "10526720/10518930 [==============================] - 2s 0us/step\n",
            "Validation Annotations Extracted\n",
            "Downloading data from https://storage.googleapis.com/ac295-data-store/visualqa_2017_small/train2014.zip\n",
            "2464112640/2464111946 [==============================] - 40s 0us/step\n",
            "Training Images Extracted\n",
            "Downloading data from https://storage.googleapis.com/ac295-data-store/visualqa_2017_small/val2014.zip\n",
            "1208401920/1208400616 [==============================] - 22s 0us/step\n",
            "Validation Images Extracted\n"
          ],
          "name": "stdout"
        }
      ]
    },
    {
      "cell_type": "markdown",
      "metadata": {
        "id": "YY_bTUWC-6J8"
      },
      "source": [
        "### Get Top Answers"
      ]
    },
    {
      "cell_type": "code",
      "metadata": {
        "id": "MAczlI6g-5fQ"
      },
      "source": [
        "K = 10\n",
        "top_answers = get_top_K_answers(K)"
      ],
      "execution_count": 54,
      "outputs": []
    },
    {
      "cell_type": "markdown",
      "metadata": {
        "id": "5FKm8Sral-Nj"
      },
      "source": [
        "### Create TFRecords Dataset"
      ]
    },
    {
      "cell_type": "code",
      "metadata": {
        "id": "MfjCkJEXl-ek",
        "outputId": "4ea8a389-1299-4322-cff1-16a97229a4ca",
        "colab": {
          "base_uri": "https://localhost:8080/",
          "height": 608,
          "referenced_widgets": [
            "ddf1044a175e4577ba3ae586e94dc17c",
            "790a7c0912484b72b4ebb94d962ecbae",
            "687a7982a28543e08898cb6e665c7c3e",
            "e960a452e757459fb35f7e5474bde719",
            "dae77da7a0f24831bda8b273209f1a31",
            "5234b07439f24b9692d88c78a7ae1c88",
            "c467e9e964eb4f39a8111932007a38d0",
            "4b4b569ec3b14d6d859f3979ff13cd2f",
            "0c012da4be1a4b50bef08a5c34ef6a55",
            "0b7830900aa44da7986857c845e764aa",
            "b021504fff364c1c8ec845b5fd089102",
            "e9ad8d7cfb63401d92c0ec8f770e24de",
            "140c5d336ac2426981c3773571ab3286",
            "a15d793c2d8f4bdc8a7bcbbdc3351ddf",
            "8ae56211c5de434d80bf321d56d25388",
            "8e3d1462344741f7ad9fbf5c60df8023",
            "45e45b1953ba4890942ecd58351b5178",
            "3d78cb9aabd44861a5234fb27a218326",
            "1518020e823f45dca7d221f3c021664f",
            "763559f750ce49129b922d0401f14acb",
            "a1994abd4662417ab6e473dfa1677786",
            "a64d7722c5814381bd2d5c7735cfa119",
            "5acdee03d1c34276a0a03a570e3ccb37",
            "8373e132c346467d908c96dc3b2ac8ce",
            "d0c55f1c9a0849a08f472e6b831b93a9",
            "8b630b7b85164c96b85d878851fe4e8a",
            "101a0ed399ea4dbcb5918af65bc7fe9e",
            "f61ea503cf364283a0422299d516befe",
            "7ebf84f6ef954245b6644c4daf828902",
            "0230592b8d2c47beb7b5b15682096c85",
            "14045841eba64826be541e54f2abab6e",
            "cc5dd9579dc04b4a88782bab721953eb",
            "7ce4e39ca5c447dbb6c1f64775db8b9f",
            "94793d41d65c44889c8341ccbb6065cc",
            "e39ee9dc130945a8b8570f8e5a0a1f9c",
            "c263464576624f8eb819dfa89299ab85",
            "f71a5b5bcd5f4626b8c3359507ece27e",
            "d688bc44087c4a39a9a9e9d415915472",
            "5726ed7ee86c45a5922e3dba6bef31eb",
            "82694cea03aa4d4792ccda2f2a40fbfa",
            "f2c0f643f2cb4e05a526337d05d8d237",
            "b5a622ceb06944afbc513a17eb6c2f88",
            "160c810cd85e4d02a7302f84f8984e35",
            "f74f1433b9994c97bfd5ecc1531045f1",
            "380c0fd40faf4b8891b6170d8859fd6c",
            "9ca703b854db4f6fb14deb340d1a03c1",
            "6a6b0012c0454fe88f54d8aab37390be",
            "ff973474df1d4744afd4738563e404eb",
            "68254b2067f94d0882b783efb73852ac",
            "61e6c453bcaa46aba3954ec55efb028b",
            "e5b20b2da56f4f868f24327b0c8e9ce1",
            "365a137f63154627bb4f6d2e137ab412",
            "fd4aa282fe28428ba927fda87e2d19d9",
            "4e93c554521a46a3ab4085c14d871849",
            "822ea0d3199743069f95e12271de3a39",
            "3347790b7fbc496b9eb8289fed2a54be",
            "ed5d98bc58164129b47fbaf39b70cb80",
            "be65c3b847de4ca58a8892188f5bd610",
            "9d7d63af5d76485481f2e77a53b4d3be",
            "ff32471272cd4b98957e64579060adf7",
            "b21c9e0f9fe84212b6aafe8f08afdf07",
            "9409e10b0bc84525baa98de323dfdb49",
            "65850fd9fe0d47fb9980cacfb7f8db11",
            "2b40afd37c4e4824a068923c5927c5c8",
            "49ea72461a674a5f9339175b8ad2339e",
            "e83fd78c96044751b9af8b5b309e1667",
            "a5efa80baf6847d69ddfd0b8c86f0fdd",
            "daa80ba0076a4c44acbcbd98f149e918",
            "8e2ea2950f1e4c6b9488f112a4e71ee7",
            "16b73d31bcc54a84896a15e1474d6de8",
            "a122fda470594b46b630cc9ca92cdabb",
            "7fbc39e0a7064924bbbff610c1920871",
            "7ebee95f3c4040e5b731c6ac5d6b5940",
            "b8474e212c004f7fb59e09c6714d83f8",
            "df165e1d23434d589b7af66790c623cd",
            "7709a11d8959472e8021c1cdf51ee9c9",
            "6d65d8c9e1c84f109ad859ea7fd5de41",
            "bb7e5062616a478e8fe6b50b4ee734e1",
            "0755567e33ad4d02852faa4ae2e5103e",
            "cc024e36d224432ca4c2cac8cddec811",
            "33321090996d48df9a291e03f2a98f30",
            "0c83de5683af4ed19fae803e9f44d33a",
            "980b853a03d5487792290a102ba77b81",
            "d367a818a5024bd791ad31cf0870b76c",
            "06fe1dc869fd48f5a50a0a1fb06b8501",
            "32a974c277494e1bbea91a8dbcfee71e",
            "c52ddc015415479ea5a68cc9d92114a5",
            "8b47ece9c563405cbbb60b3052874f83",
            "fdedc27f156c488699552a57892cb690",
            "90d3fef168a1453785e8c18562818002",
            "215e4ff56d5f40d1a42c02f60a8b18f0",
            "4e285307456e4935ab8cf1423031a00c",
            "3ca335b4795148f4a0fe6871648037dc",
            "443473d277b2447cb29e6f21c3444ba8",
            "c9eb123d067c4194a51267dae65f98b8",
            "51fa9c1a759f4258833c35e35f782f2d"
          ]
        }
      },
      "source": [
        "create_TFRecords('train2014', top_answers)\n",
        "create_TFRecords('val2014', top_answers)"
      ],
      "execution_count": 73,
      "outputs": [
        {
          "output_type": "display_data",
          "data": {
            "application/vnd.jupyter.widget-view+json": {
              "model_id": "ddf1044a175e4577ba3ae586e94dc17c",
              "version_minor": 0,
              "version_major": 2
            },
            "text/plain": [
              "HBox(children=(FloatProgress(value=0.0, max=11.0), HTML(value='')))"
            ]
          },
          "metadata": {
            "tags": []
          }
        },
        {
          "output_type": "display_data",
          "data": {
            "application/vnd.jupyter.widget-view+json": {
              "model_id": "0c012da4be1a4b50bef08a5c34ef6a55",
              "version_minor": 0,
              "version_major": 2
            },
            "text/plain": [
              "HBox(children=(FloatProgress(value=0.0, max=44375.0), HTML(value='')))"
            ]
          },
          "metadata": {
            "tags": []
          }
        },
        {
          "output_type": "stream",
          "text": [
            "\n"
          ],
          "name": "stdout"
        },
        {
          "output_type": "display_data",
          "data": {
            "application/vnd.jupyter.widget-view+json": {
              "model_id": "45e45b1953ba4890942ecd58351b5178",
              "version_minor": 0,
              "version_major": 2
            },
            "text/plain": [
              "HBox(children=(FloatProgress(value=0.0, max=44375.0), HTML(value='')))"
            ]
          },
          "metadata": {
            "tags": []
          }
        },
        {
          "output_type": "stream",
          "text": [
            "\n"
          ],
          "name": "stdout"
        },
        {
          "output_type": "display_data",
          "data": {
            "application/vnd.jupyter.widget-view+json": {
              "model_id": "d0c55f1c9a0849a08f472e6b831b93a9",
              "version_minor": 0,
              "version_major": 2
            },
            "text/plain": [
              "HBox(children=(FloatProgress(value=0.0, max=44375.0), HTML(value='')))"
            ]
          },
          "metadata": {
            "tags": []
          }
        },
        {
          "output_type": "stream",
          "text": [
            "\n"
          ],
          "name": "stdout"
        },
        {
          "output_type": "display_data",
          "data": {
            "application/vnd.jupyter.widget-view+json": {
              "model_id": "7ce4e39ca5c447dbb6c1f64775db8b9f",
              "version_minor": 0,
              "version_major": 2
            },
            "text/plain": [
              "HBox(children=(FloatProgress(value=0.0, max=44375.0), HTML(value='')))"
            ]
          },
          "metadata": {
            "tags": []
          }
        },
        {
          "output_type": "stream",
          "text": [
            "\n"
          ],
          "name": "stdout"
        },
        {
          "output_type": "display_data",
          "data": {
            "application/vnd.jupyter.widget-view+json": {
              "model_id": "f2c0f643f2cb4e05a526337d05d8d237",
              "version_minor": 0,
              "version_major": 2
            },
            "text/plain": [
              "HBox(children=(FloatProgress(value=0.0, max=44375.0), HTML(value='')))"
            ]
          },
          "metadata": {
            "tags": []
          }
        },
        {
          "output_type": "stream",
          "text": [
            "\n"
          ],
          "name": "stdout"
        },
        {
          "output_type": "display_data",
          "data": {
            "application/vnd.jupyter.widget-view+json": {
              "model_id": "68254b2067f94d0882b783efb73852ac",
              "version_minor": 0,
              "version_major": 2
            },
            "text/plain": [
              "HBox(children=(FloatProgress(value=0.0, max=44375.0), HTML(value='')))"
            ]
          },
          "metadata": {
            "tags": []
          }
        },
        {
          "output_type": "stream",
          "text": [
            "\n"
          ],
          "name": "stdout"
        },
        {
          "output_type": "display_data",
          "data": {
            "application/vnd.jupyter.widget-view+json": {
              "model_id": "ed5d98bc58164129b47fbaf39b70cb80",
              "version_minor": 0,
              "version_major": 2
            },
            "text/plain": [
              "HBox(children=(FloatProgress(value=0.0, max=44375.0), HTML(value='')))"
            ]
          },
          "metadata": {
            "tags": []
          }
        },
        {
          "output_type": "stream",
          "text": [
            "\n"
          ],
          "name": "stdout"
        },
        {
          "output_type": "display_data",
          "data": {
            "application/vnd.jupyter.widget-view+json": {
              "model_id": "49ea72461a674a5f9339175b8ad2339e",
              "version_minor": 0,
              "version_major": 2
            },
            "text/plain": [
              "HBox(children=(FloatProgress(value=0.0, max=44375.0), HTML(value='')))"
            ]
          },
          "metadata": {
            "tags": []
          }
        },
        {
          "output_type": "stream",
          "text": [
            "\n"
          ],
          "name": "stdout"
        },
        {
          "output_type": "display_data",
          "data": {
            "application/vnd.jupyter.widget-view+json": {
              "model_id": "7ebee95f3c4040e5b731c6ac5d6b5940",
              "version_minor": 0,
              "version_major": 2
            },
            "text/plain": [
              "HBox(children=(FloatProgress(value=0.0, max=44375.0), HTML(value='')))"
            ]
          },
          "metadata": {
            "tags": []
          }
        },
        {
          "output_type": "stream",
          "text": [
            "\n"
          ],
          "name": "stdout"
        },
        {
          "output_type": "display_data",
          "data": {
            "application/vnd.jupyter.widget-view+json": {
              "model_id": "33321090996d48df9a291e03f2a98f30",
              "version_minor": 0,
              "version_major": 2
            },
            "text/plain": [
              "HBox(children=(FloatProgress(value=0.0, max=44375.0), HTML(value='')))"
            ]
          },
          "metadata": {
            "tags": []
          }
        },
        {
          "output_type": "stream",
          "text": [
            "\n"
          ],
          "name": "stdout"
        },
        {
          "output_type": "display_data",
          "data": {
            "application/vnd.jupyter.widget-view+json": {
              "model_id": "fdedc27f156c488699552a57892cb690",
              "version_minor": 0,
              "version_major": 2
            },
            "text/plain": [
              "HBox(children=(FloatProgress(value=0.0, max=7.0), HTML(value='')))"
            ]
          },
          "metadata": {
            "tags": []
          }
        },
        {
          "output_type": "stream",
          "text": [
            "\n",
            "\n"
          ],
          "name": "stdout"
        }
      ]
    },
    {
      "cell_type": "markdown",
      "metadata": {
        "id": "SPWyyDZ90yFT"
      },
      "source": [
        "### Read TFRecords Dataset"
      ]
    },
    {
      "cell_type": "code",
      "metadata": {
        "id": "nbEY61HinbFk",
        "outputId": "030e82d7-201b-406d-856f-83ca182b3d72",
        "colab": {
          "base_uri": "https://localhost:8080/"
        }
      },
      "source": [
        "filenames = ['/content/data/val2014_tf/vaq_raw_val2014_00-of-10.records']\n",
        "raw_dataset = tf.data.TFRecordDataset(filenames)\n",
        "raw_dataset"
      ],
      "execution_count": 62,
      "outputs": [
        {
          "output_type": "execute_result",
          "data": {
            "text/plain": [
              "<TFRecordDatasetV2 shapes: (), types: tf.string>"
            ]
          },
          "metadata": {
            "tags": []
          },
          "execution_count": 62
        }
      ]
    },
    {
      "cell_type": "code",
      "metadata": {
        "id": "TU9ZEjJgxzLb",
        "outputId": "1f0c93b4-13d8-4d9e-f4b3-26bb37fd64b3",
        "colab": {
          "base_uri": "https://localhost:8080/"
        }
      },
      "source": [
        "for raw_record in raw_dataset.take(1):\n",
        "    example = tf.train.Example()\n",
        "    example.ParseFromString(raw_record.numpy())\n",
        "    print(example)"
      ],
      "execution_count": 63,
      "outputs": [
        {
          "output_type": "stream",
          "text": [
            "features {\n",
            "  feature {\n",
            "    key: \"answer\"\n",
            "    value {\n",
            "      int64_list {\n",
            "        value: 1\n",
            "      }\n",
            "    }\n",
            "  }\n",
            "  feature {\n",
            "    key: \"attention_mask\"\n",
            "    value {\n",
            "      bytes_list {\n",
            "        value: \"\\001\\000\\000\\000\\001\\000\\000\\000\\001\\000\\000\\000\\001\\000\\000\\000\\001\\000\\000\\000\\001\\000\\000\\000\\001\\000\\000\\000\\001\\000\\000\\000\\000\\000\\000\\000\\000\\000\\000\\000\\000\\000\\000\\000\\000\\000\\000\\000\\000\\000\\000\\000\\000\\000\\000\\000\\000\\000\\000\\000\\000\\000\\000\\000\\000\\000\\000\\000\\000\\000\\000\\000\\000\\000\\000\\000\\000\\000\\000\\000\\000\\000\\000\\000\\000\\000\\000\\000\\000\\000\\000\\000\\000\\000\\000\\000\"\n",
            "      }\n",
            "    }\n",
            "  }\n",
            "  feature {\n",
            "    key: \"image_raw\"\n",
            "    value {\n",
            "      bytes_list {\n",
            "        value: \"\\377\\330\\377\\340\\000\\020JFIF\\000\\001\\001\\001\\001,\\001,\\000\\000\\377\\333\\000C\\000\\002\\001\\001\\001\\001\\001\\002\\001\\001\\001\\002\\002\\002\\002\\002\\004\\003\\002\\002\\002\\002\\005\\004\\004\\003\\004\\006\\005\\006\\006\\006\\005\\006\\006\\006\\007\\t\\010\\006\\007\\t\\007\\006\\006\\010\\013\\010\\t\\n\\n\\n\\n\\n\\006\\010\\013\\014\\013\\n\\014\\t\\n\\n\\n\\377\\333\\000C\\001\\002\\002\\002\\002\\002\\002\\005\\003\\003\\005\\n\\007\\006\\007\\n\\n\\n\\n\\n\\n\\n\\n\\n\\n\\n\\n\\n\\n\\n\\n\\n\\n\\n\\n\\n\\n\\n\\n\\n\\n\\n\\n\\n\\n\\n\\n\\n\\n\\n\\n\\n\\n\\n\\n\\n\\n\\n\\n\\n\\n\\n\\n\\n\\n\\377\\300\\000\\021\\010\\000\\340\\000\\340\\003\\001\\\"\\000\\002\\021\\001\\003\\021\\001\\377\\304\\000\\037\\000\\000\\001\\005\\001\\001\\001\\001\\001\\001\\000\\000\\000\\000\\000\\000\\000\\000\\001\\002\\003\\004\\005\\006\\007\\010\\t\\n\\013\\377\\304\\000\\265\\020\\000\\002\\001\\003\\003\\002\\004\\003\\005\\005\\004\\004\\000\\000\\001}\\001\\002\\003\\000\\004\\021\\005\\022!1A\\006\\023Qa\\007\\\"q\\0242\\201\\221\\241\\010#B\\261\\301\\025R\\321\\360$3br\\202\\t\\n\\026\\027\\030\\031\\032%&\\'()*456789:CDEFGHIJSTUVWXYZcdefghijstuvwxyz\\203\\204\\205\\206\\207\\210\\211\\212\\222\\223\\224\\225\\226\\227\\230\\231\\232\\242\\243\\244\\245\\246\\247\\250\\251\\252\\262\\263\\264\\265\\266\\267\\270\\271\\272\\302\\303\\304\\305\\306\\307\\310\\311\\312\\322\\323\\324\\325\\326\\327\\330\\331\\332\\341\\342\\343\\344\\345\\346\\347\\350\\351\\352\\361\\362\\363\\364\\365\\366\\367\\370\\371\\372\\377\\304\\000\\037\\001\\000\\003\\001\\001\\001\\001\\001\\001\\001\\001\\001\\000\\000\\000\\000\\000\\000\\001\\002\\003\\004\\005\\006\\007\\010\\t\\n\\013\\377\\304\\000\\265\\021\\000\\002\\001\\002\\004\\004\\003\\004\\007\\005\\004\\004\\000\\001\\002w\\000\\001\\002\\003\\021\\004\\005!1\\006\\022AQ\\007aq\\023\\\"2\\201\\010\\024B\\221\\241\\261\\301\\t#3R\\360\\025br\\321\\n\\026$4\\341%\\361\\027\\030\\031\\032&\\'()*56789:CDEFGHIJSTUVWXYZcdefghijstuvwxyz\\202\\203\\204\\205\\206\\207\\210\\211\\212\\222\\223\\224\\225\\226\\227\\230\\231\\232\\242\\243\\244\\245\\246\\247\\250\\251\\252\\262\\263\\264\\265\\266\\267\\270\\271\\272\\302\\303\\304\\305\\306\\307\\310\\311\\312\\322\\323\\324\\325\\326\\327\\330\\331\\332\\342\\343\\344\\345\\346\\347\\350\\351\\352\\362\\363\\364\\365\\366\\367\\370\\371\\372\\377\\332\\000\\014\\003\\001\\000\\002\\021\\003\\021\\000?\\000\\367\\253\\013+K}\\036\\363Eyq\\344\\261tU\\371\\260;\\237\\327\\364\\255\\257\\r\\3531O\\341\\245\\222\\326$\\014\\212Wt\\237x\\034\\365\\305W\\323|\\'r\\3763\\222Al^;\\2500\\3058\\311\\365\\372s^\\301\\373=~\\313\\336!\\326\\314\\267\\372\\374-o\\246<\\305\\220\\263\\000\\362\\373\\257\\0353\\337\\323\\245}\\3067\\025B\\205\\027)\\276\\314\\370\\014&\\032\\265j\\312\\020\\217u\\362\\350y\\217\\204\\274\\005\\343o\\210\\223\\2353\\303\\372=\\314\\317\\274\\0375\\361\\2660{\\237\\300\\327\\270\\374;\\375\\213t\\313(a\\276\\370\\215\\250\\265\\314\\310\\001\\026\\226\\344\\254K\\354{\\267\\326\\275\\327\\303\\036\\010\\360\\327\\202t\\265\\322|=\\245\\307m\\022\\177\\014c\\226>\\244\\365\\'\\334\\325\\253\\353K\\277\\261\\275\\374\\245U\\020\\361\\271\\361\\237`;\\365\\257\\223\\306\\347\\330\\232\\367\\215/v?\\211\\364\\370L\\217\\017F\\322\\255\\357K\\360\\377\\000\\202s\\232~\\215\\243xf\\305t\\375\\036\\315!\\2121\\205D\\025\\233\\255kb\\030\\230\\253\\014\\177:\\261\\256j\\211\\n\\260F\\311\\372\\327\\t\\342mnM\\256\\306M\\277S^\\025\\247RWg\\2539\\302\\234l\\264D\\036\\\"\\361r*\\226,3\\365\\256\\027\\\\\\361\\200bB\\270\\031\\3655\\027\\210u\\270\\206U\\346\\316z\\014\\361\\\\\\216\\251\\256\\331\\207?1\\030\\3645\\262\\242\\267<\\332\\270\\226Z\\324|Qv\\262\\035\\231\\372\\201\\315gK\\342;\\306\\313\\020\\303\\'?v\\263\\356\\274K\\002\\035\\302M\\270<s\\322\\252I\\3428I;\\346 w\\346\\251P8\\336\\'\\314\\332_\\024O\\027\\\"B0z\\364\\251\\243\\361\\215\\322\\260\\224\\267?\\336\\315s\\213\\256\\300X\\371\\24088\\'\\345\\240]\\351\\216\\273\\030\\262\\263w\\244\\360\\303X\\2373\\321|5\\361\\237\\304^\\037q\\366y\\303\\306xh\\235r\\010\\364\\367\\256\\306\\317\\307\\236\\t\\370\\203\\021\\261\\324\\224\\350\\327r\\021\\373\\370\\306\\350\\334\\373\\203\\323\\360\\257\\021\\222\\316\\352(\\376\\323\\247L\\263\\247S\\261\\362\\337\\225%\\266\\271\\\"\\021\\013\\310\\310\\300\\214\\006\\343\\360\\245Fu\\260\\263\\346\\246\\355\\371}\\306\\336\\3265c\\3135u\\375l\\317R\\361?\\201\\365k?\\025\\307\\366\\353@\\360<A\\364\\375B\\335\\367E$\\213\\325Cz\\343\\234u\\255\\275_J}kD\\213\\\\\\373O\\224`_&\\3565\\034\\347\\327\\374\\372\\327\\037\\360\\333\\343%\\377\\000\\205n\\005\\246\\240\\302\\353M\\221\\301\\236\\322u\\336\\247\\350\\t\\340\\327\\255h\\360x\\177\\304\\352\\372\\367\\204\\202O\\245_E\\213\\273Rr\\326\\262\\366\\310<\\205<\\214\\363\\330W\\325\\340s\\270\\342b\\251U\\367d\\266\\354\\377\\000\\340\\2366#.\\225\\032\\316\\265\\'t\\367]W\\237\\231\\347\\266\\315m\\013n\\323\\254\\244\\221\\327\\215\\355\\320\\237\\307\\255J\\366W\\376kKu:B\\203\\252F3Z\\332\\225\\233hWMkq\\373\\277,\\235\\252\\007Q\\223\\212\\252\\301\\247\\220\\371\\020\\220\\255\\3131\\343\\326\\275F\\364%$\\204\\216;\\034+\\307\\026[\\033\\231\\313\\362j\\013\\251\\026\\346\\006\\265\\224\\206\\022\\002\\n\\364\\343\\322\\244\\266\\266U\\225V\\345\\367\\023\\367\\224q\\370U\\246H\\241\\213y\\\" [\\'v:\\177\\234Ts$U\\231\\362_\\307\\317\\206\\027\\276\\t\\361%\\276\\263\\345\\261\\262YL\\221\\205\\030 g\\203\\370\\037_Z\\372\\217\\366\\020\\375\\240!\\361.\\202|\\031\\256J\\022\\352\\331\\266\\304\\037\\202\\313\\236\\017\\364\\374+\\003\\342\\246\\233\\245\\370\\337\\302\\327\\272\\036\\233\\002\\317z\\261\\226\\207+\\300#\\327<c\\212\\371\\273\\341\\037\\210<E\\360\\257\\342D\\020j\\017\\366i\\203\\346(\\303\\220YG\\0309\\364>\\275\\261]\\230\\254?\\366\\226\\005\\306K\\336[\\035\\231v%P\\251\\354\\357\\243\\376\\277\\003\\364\\353\\305\\036\\025\\323<{\\341\\331\\274=\\251D\\036)W\\202k\\360\\343\\376\\n\\233\\373\\010j\\177\\263\\367\\304\\333\\235wE\\323\\337\\373\\'Q\\225\\344\\265|\\034#\\034\\226\\214\\377\\0001\\377\\000\\3265\\373I\\360\\033\\342u\\207\\217\\3741\\005\\344W\\252\\323,`H\\243\\250\\254\\217\\332\\353\\366l\\360\\247\\355\\037\\360\\302\\367\\303\\232\\366\\223\\034\\356\\320?\\224\\307\\206F\\332@`ppA\\257\\205\\2257NN\\214\\317ni\\306J\\244w_\\212?\\232\\031\\264v\\303*)\\310\\354z\\377\\000\\372\\352\\225\\316\\2034\\204\\354B\\337\\322\\276\\200\\370\\367\\3738x\\237\\341\\017\\304\\375K\\301\\332\\356\\221$r[\\3352\\235\\335\\030d\\355a\\307B\\016G\\345\\\\\\355\\277\\303\\211J\\3566\\271\\364\\343\\255x5\\347:\\025\\034dz\\364}\\235zjkfx\\275\\317\\206g*\\031\\320\\216s\\370\\326\\016\\247\\341\\371!s\\2710:(\\\"\\275\\363U\\370y(V1\\332r\\275\\353\\215\\361\\007\\204d\\215\\216\\370:\\016\\374\\212\\316\\225dm*1z#\\372G\\370\\027\\37392E\\017\\212>!\\331\\250\\231\\006m\\254\\216\\010\\210v-\\216\\247\\333\\265{Z\\331\\303k\\010\\212\\030\\325cA\\205\\n\\270\\253\\362\\332,x\\005B\\340co\\245Q\\3242\\353\\301\\332\\007j\\365q8\\232\\270\\252\\234\\323\\177\\360\\0177\\r\\207\\245\\205\\207,\\027\\317\\253\\3653\\357n\\205\\276L`\\023\\330\\236\\325\\315\\353W\\363J\\305\\345\\220\\223\\352Mkj\\3671\\306\\244\\006\\347=\\253\\210\\361F\\273\\035\\272\\035\\322c\\257\\000V1\\2073\\320u*F*\\354\\305\\361n\\260\\220\\026X\\230\\214\\016\\271\\305yw\\214<TQ\\\\,\\271\\031\\3115\\263\\343?\\024\\030\\022I\\356\\244T\\214\\014\\371\\214\\325\\363o\\306\\317\\332O\\341\\217\\204#\\237\\373g\\304i+\\200\\177u\\014\\231\\376U\\351a0UkJ\\311_\\323S\\301\\307f4h\\253\\311\\244\\274\\335\\215\\337\\032\\374I\\264\\322\\225\\276\\321q\\313\\022\\024/9\\256b\\357\\305\\332\\236\\265\\240K\\342]>\\023%\\264\\t\\276\\345\\221\\206Qs\\214\\221\\351\\375+\\343\\317\\214\\337\\267,\\027\\327\\217g\\341\\r,\\210\\374\\303\\261\\235\\362[\\257\\000{\\327\\322\\177\\262\\246\\267c\\341\\337\\331\\366\\363\\307W:\\225\\264\\272\\205\\306\\270\\266\\332\\2347\\223\\356\\206KfUc\\t\\007\\0370\\0220\\034s\\316+\\332YD\\351\\256j\\211\\243\\300\\243\\230\\303\\031Q\\306\\022\\275\\273\\177\\301\\334\\216\\363\\342,\\205\\022[Ys\\013\\223\\373\\334\\360\\017o~\\377\\000\\255\\021x\\312\\370\\234\\\\\\243\\000\\255\\216\\016G\\265|\\235\\373M\\374x\\361\\017\\302\\257\\216\\227\\376\\032\\360\\246\\253k6\\211xV\\377\\000LKE*\\221\\303)$FA\\344m \\217\\247\\322\\237\\243~\\3357\\320%\\274Z\\207\\205#\\270\\332?xR\\374\\203 \\3060\\001\\\\\\017\\\\\\363\\322\\272\\277\\262j{4\\341\\024\\357\\347\\251\\346T\\314\\241\\n\\262\\215I4\\326\\233h}yk\\342\\2434\\221\\304\\222c\\214\\236:\\201\\322\\265\\255\\274W&\\340\\014\\243\\035q\\212\\371*_\\333\\237\\302\\002$\\232/\\017_\\301;F\\271\\206R\\216\\200\\364b\\034rzz\\n\\352\\374\\031\\373W|<\\326\\334$\\376!1\\035\\303cH0\\t\\307\\'\\247\\255aS)\\305(s83JY\\266\\026R\\345\\347W\\365\\261\\364\\276\\227\\3437\\264\\231\\227q!\\206\\340\\311\\301\\025\\277\\017\\211\\354ue\\020\\352Q\\202G\\335\\221F\\030\\177\\215x~\\235\\361\\006\\307QAq\\247]$\\361\\22064N\\010\\301=\\353sM\\361\\247\\227\\303\\315\\323\\250\\r^]\\\\$\\267\\261\\353\\320\\304\\267\\242g\\256I\\034\\266\\311\\366\\233i\\374\\3703\\3636p\\313\\365\\025\\325|6\\370\\243\\257x\\007V\\217R\\322.\\331\\010\\341\\343\\376\\027\\\\t#\\275y\\017\\207\\374u%\\274\\312\\245\\362\\017S\\234\\347\\372b\\272\\213-Z\\013\\345\\373E\\203\\374\\370\\371\\340\\0149\\365#\\374+\\206\\266\\025\\305]\\036\\235\\032\\353t\\365>\\250\\327.\\364\\257\\210\\376\\021\\213\\342W\\207,\\304o\\036\\027P\\266\\307\\372\\246#9\\036\\335\\177\\316+\\212\\324u\\253\\0339D\\0277\\005\\313\\r\\345QO\\345\\\\\\217\\301O\\213\\327^\\002\\325J\\312\\004\\326\\027i\\345^\\331\\311\\367dB@#\\037J\\365\\017\\021x\\007I\\262Xn4\\0263i\\327h.\\264\\373\\246\\033\\213\\'\\037!?\\336S\\301\\374\\017\\031\\257w\\'\\307F\\264}\\215g\\357-\\274\\327\\371\\257\\304\\313\\027COkIh\\367]\\231\\315Cw\\254\\352\\3155\\255\\255\\252\\333a\\013\\226l\\023\\217\\245%\\237\\207?\\265-\\325\\257.\\032[\\250\\210.\\254H\\030\\007\\323\\247j\\335\\264\\267\\202x\\226\\3465\\002t\\300\\221W\\214\\001\\216*\\334V\\354\\2525\\253E\\333\\346\\r\\262(\\000\\374\\265\\355N|\\277\\n\\261\\307\\030s+\\267s>\\035\\t<\\265\\326-#\\nH\\010\\3500~\\\\s\\375k\\311\\177j/\\2016>*\\320%\\361\\237\\206\\341H\\256\\355\\2246\\360\\230<\\177\\026?\\023\\370g\\232\\367\\033\\251m\\254\\n^C\\207\\266\\233\\3449\\343\\004\\367\\375j\\255\\355\\306\\227c9\\322\\256\\017\\235mp\\230D\\013\\270n=\\277ZTk\\324\\247QI\\177Hr\\246\\237\\227\\371\\237;\\376\\313\\037\\036u?\\207\\336(\\032v\\251;\\237/\\021M\\030l\\207#\\030a\\365\\311\\257\\276<1\\342\\213m\\177H\\267\\325l\\312\\262J\\200\\221\\216\\225\\371\\317\\373Ex\\022\\373\\341\\267\\304h\\274Ca\\002[\\330]8\\362\\204c\\005X\\223\\362\\372g\\346$\\016\\274\\232\\372O\\3665\\370\\344\\367z|^\\016\\327\\347\\\"Vl\\303\\270\\203\\307\\034W6y\\200\\215Zk\\021Iz\\236\\336_\\210\\366\\324\\371%\\2729\\037\\370)\\277\\354/a\\361\\177A\\377\\000\\205\\241\\340\\3738\\323U\\260\\267f*\\000\\002d\\310%\\017\\364\\257\\203<)\\360=5\\2558\\310\\261.\\350\\311V\\014\\2709\\007\\035\\353\\366\\371\\240\\262\\325,\\336\\306\\372%x\\244]\\254\\2543\\301\\257\\317_\\332\\377\\000\\340\\275\\347\\354\\363\\361\\032\\367\\305\\332f\\223\\237\\016\\352\\223n\\314I\\205\\202g\\353\\234\\016\\025\\217\\177S\\216\\342\\276\\0131\\303}f\\232\\232\\336;\\372\\036\\306\\022\\247\\260\\233]\\037\\340\\377\\000\\340\\237\\024\\370\\337\\341\\245\\236\\213\\024\\2604\\013\\362\\223\\310\\257\\032\\361g\\204a\\226g\\013\\020\\300\\3109\\025\\364\\277\\304\\013\\2505\\273\\271\\'\\213\\210\\335\\216\\335\\274\\376\\007\\337\\245y\\336\\273\\341\\273\\021n\\356\\360\\215\\304\\036\\203\\245|\\375>nk#\\333\\\\\\266\\273?\\241{\\355\\256\\354\\3120\\t5\\215\\252L\\221\\251\\301\\372\\326\\255\\323\\200\\207\\'\\232\\343\\274e\\342\\013\\r\\\"\\316MKR\\273Ha\\211N\\363!\\300\\257\\246\\2057)r\\243\\306\\253V4\\243vc\\370\\207P\\216M\\30296\\250\\316Z\\274\\007\\343g\\355\\035\\340\\037\\206\\222\\317\\003jq\\334^\\2059\\265\\216L\\340\\343<\\327\\023\\373I\\376\\332\\227(.\\364\\037\\005\\312!X\\231\\225\\356W<\\200\\017C\\376zW\\303_\\022\\276%k\\232\\345\\355\\305\\304\\367^d\\2621\\335\\363\\026$\\236}y\\351\\372\\327\\331e\\\\9)/k\\211\\321v\\352\\375O\\317s\\216)\\212\\237\\262\\302ZR\\352\\373zw;o\\332?\\366\\305\\361/\\215~\\321m\\t{x\\260@H\\244l0\\344\\202{\\0168\\257\\216\\276$\\370\\253X\\327.\\245e\\232i\\004\\234\\222_8\\'\\260\\364\\025\\364w\\201\\276\\013]x\\343\\312\\274\\361\\002>\\311\\023\\252\\001\\271\\217L~\\177\\240\\255\\3353\\340^\\227\\341=rk&\\320m\\256\\204\\205\\002\\231\\343\\005\\242\\\\\\340\\260\\372.x\\257\\257\\214hai\\373:i%\\330\\370\\271S\\304\\343j\\373J\\255\\267\\346|\\027\\246Y^M\\343\\030\\374\\322\\025\\\"a(\\363:\\261\\035\\261\\3378\\257\\257~\\002\\370[Y\\361/\\354\\321\\251\\263h\\272\\204\\362h\\276 \\212\\363Iu\\237%eX\\331C8\\301\\371\\000rOr\\024\\343$\\201^w\\361\\223\\302\\376\\026\\265\\370\\270\\217`\\320e!(cDT\\345IQ\\22003\\353_W~\\313\\336\\022\\370\\251\\240|\\n\\327u=\\027D\\217\\3731\\255\\315\\303\\031\\010\\037 \\332\\031\\201o\\275\\362\\253\\022\\007\\367\\253\\206\\275F\\251\\335=\\332\\335\\330\\3660T#J\\275\\265\\265\\233\\323\\323\\261\\360\\357\\304\\277\\200\\276,\\361W\\304yd\\324\\365%\\226g!ZT}\\312\\212F\\340\\001\\036\\200\\326O\\214>\\007\\352\\236\\027\\220\\274\\014e\\216\\\"\\0022\\257\\017\\216\\342\\275\\353\\342<\\022\\331\\336O\\252=\\306$\\231\\367H\\240m(0@\\037\\220\\351\\372W\\223x\\343\\342v\\253\\035\\231\\200\\337\\256bFT\\004\\002>\\234\\212\\'\\207\\255{\\247\\261\\223\\255\\207\\226\\222[\\365<\\333\\304\\372f\\241\\246\\3510\\3175\\241P\\203\\221 \\344\\014\\346\\271\\270\\365\\177-\\274\\360\\343r\\267\\n\\217\\317\\377\\000\\253\\232\\277\\257x\\223\\304~(\\270{{\\231\\336\\342%\\220\\230\\211\\\\\\003\\3108?\\220\\257u\\377\\000\\202t~\\304v\\037\\265\\367\\307T\\320<iy5\\217\\206t\\313Cs\\254\\275\\273l\\232BA\\021\\304\\204\\375\\335\\317\\325\\260xS\\216H5\\327\\207\\257*\\024\\\\\\252t<\\274F\\006\\030\\274DaIk+%~\\346\\177\\354k\\340\\217\\332\\037\\343\\027\\211\\247\\265\\370Me$\\366Zm\\273M\\254j7\\263\\264v\\226\\321\\217\\371\\350\\374\\344\\347\\242\\214\\261\\344\\343\\000\\221\\357\\032o\\210\\374S\\341\\371\\314^)\\320]\\031\\030\\003ua7\\237n\\304\\223\\236W\\225?Z\\373K\\366\\222\\360<\\037\\262\\257\\302\\215\\013\\341/\\354\\373\\341\\2553K\\322\\365\\006\\225u(ml\\3660\\211@9\\030\\3062X\\362s\\223\\327\\223\\232\\370kS\\360\\245\\337\\203\\017\\210\\274qe\\251N\\255u\\'\\332\\341P\\305W\\004\\023\\224\\031\\301\\350{s]X|\\241g8o\\254\\273EK\\340\\356\\354\\354\\357\\333]\\217Q\\305d\\222T\\024\\234\\245\\035e\\265\\225\\325\\325\\257\\253G\\242h\\2365\\265\\277\\220\\013{\\225,Tm*z\\203\\377\\000\\352\\256\\327\\302~.t\\224H\\3562:a\\216G\\371\\377\\0008\\257\\231\\264/\\210\\366\\237\\333\\303YY\\361\\r\\362\\010\\331\\227\\200\\244{z\\216s\\355\\364\\257O\\360\\327\\212\\226YHK\\325\\'h*\\304\\375\\341\\217\\361\\315|\\306a\\224O\\0077Nh\\367\\262\\374t1PM?\\353\\241\\364U\\226\\252.\\343\\027\\320(=\\014\\212\\275\\277\\332\\372z\\327\\321_\\263g\\214l\\374q\\341\\211~\\030\\352N\\r\\3342\\375\\243Hvl\\2370\\002Lc=\\003\\001\\217NA=+\\344?\\003\\370\\224\\273\\242\\211\\007\\373j\\017\\371\\342\\275C\\341\\247\\213\\246\\360\\177\\213l\\265\\213\\031\\312,S,\\210\\371=3\\310\\374?\\255|v\\\"\\224\\260\\225\\224\\341\\272>\\213\\017>u\\313-\\236\\214\\367M{\\305\\376\\034\\360\\326\\257\\027\\332\\265Ha\\027\\215\\363\\2438\\312\\216E#\\370\\225m\\265G[\\010Zk[\\301\\262\\031G\\n\\01799\\351_\\035\\177\\301F\\356\\365\\237\\205_\\266N\\225\\361?\\373r\\362\\177\\rx\\277J\\203Q\\264\\267\\227\\3146\\366\\2629h\\347\\211K\\0343y\\250\\322\\034cj\\314\\213\\2001\\237r\\3705\\361*\\017\\210^\\023]\\022=I\\021\\341\\203\\314\\212Do\\233\\333\\223\\365\\257\\322\\226Q\\355r\\212x\\352r\\272\\222M\\371\\'\\372\\255\\231\\362Q\\316\\024sZ\\230*\\221\\345i\\264\\235\\367\\267\\371\\243\\322\\022o\\262\\335I\\341\\235n\\370,rG\\272\\337\\007\\357\\037N\\177\\245&\\233\\006\\241\\250\\351\\362\\3501Y\\264sY\\r\\302Y\\001\\033\\207lw=(O\\354\\333\\315\\032\\035KM\\215no\\264\\362\\036f\\r\\222N9\\004\\237\\257j\\267\\177{4\\253i\\342y.\\202y\\216>\\326\\221\\234\\000\\236\\347\\277_\\322\\274I6\\235\\227\\364\\327\\371\\236\\364#\\337\\372G\\035\\361\\247\\341\\214?\\024\\376\\031\\033{\\311C\\352\\326dK\\n\\005\\311W^\\370\\375>\\206\\274\\007\\301\\377\\000\\020\\365\\277\\014\\335\\351\\276&\\267\\263\\222)\\255\\257|\\233\\353vS\\2306\\276\\016\\355\\247\\2509\\037J\\372\\256]V[-Uo\\364\\233\\024kK\\344\\021\\371\\2140\\275\\t\\374y\\376u\\363o\\307\\337\\r\\377\\000\\302\\251\\370\\305&\\263z\\376f\\217\\342eX\\034H1\\034W\\034`\\200:\\002=}+\\277\\tj\\220t\\247\\263\\325~\\250t\\353*\\025\\324\\226\\227\\321\\372\\364\\373\\317\\276>\\016\\374A\\260\\370\\221\\340\\233MZ\\302\\341Y\\3321\\270\\006\\3178\\253\\037\\033~\\023h\\177\\032\\376\\032j\\036\\t\\325\\255\\321\\376\\325j\\310\\254\\350\\016\\0168<\\216\\265\\361\\347\\354[\\361sQ\\360\\'\\304\\353\\317\\004j\\232\\254\\206\\322\\341\\326K8g=\\\"\\303|\\300\\343\\236H\\007\\255}\\317\\242\\336\\213\\322\\263G *\\343*A\\257\\213\\314\\360r\\301bZ[t>\\236\\234\\343V\\t\\367?\\027~=|6\\361g\\300\\177\\036\\337x\\033\\3066\\214\\215\\003\\261\\266\\235\\201\\013<Y\\371\\\\\\037\\346;\\037\\316\\274\\207\\304\\336(\\212;Vh\\246 \\014\\347\\'\\374\\377\\000\\221_\\255\\177\\360S\\217\\331F\\333\\343\\217\\303)\\374Y\\341\\3157v\\271\\244F\\363[4(7I\\300\\334\\235G\\014\\007\\340p{W\\342\\207\\305i5?\\014M=\\205\\312\\274xf\\030u+\\202\\016\\017\\035E|\\314\\362\\364\\253\\251\\307fz\\2241W\\247\\313-\\321\\375(\\370\\257\\305VZ,F\\366\\346E\\010\\231\\014\\214~\\376;\\n\\370{\\366\\331\\375\\247\\256\\374O\\177\\375\\215\\341\\371\\022\\336\\3228\\303K\\r\\274\\207\\3576\\016\\326>\\2438#\\261\\030\\342\\272\\237\\332\\353\\366\\247\\266\\271\\333\\341\\337\\t\\314|\\370Y\\301u\\344r\\254\\t\\035\\210*\\330\\365\\034\\037J\\371b=\\017S\\361U\\371\\032\\201*w3;3\\034\\203\\320\\377\\000*\\375\\' \\311\\243F\\330\\252\\352\\335\\223\\374\\317\\312x\\227>\\226&\\370<3\\275\\367h\\363\\217\\025\\256\\251\\342Y\\325\\241\\232F\\363\\267\\026\\330O\\356\\371\\306O`{\\325\\255G\\366w\\326\\3747\\247\\247\\2125\\255.i\\355\\244\\303y\\226\\352Y\\023\\241\\345\\207O\\345^\\205\\342\\017\\207\\223i\\202\\322\\307L\\265\\363%\\232\\340`\\004\\317\\2461\\355\\375k\\351\\257\\003\\352\\376\\030\\320|\\021o\\341\\337\\031i,\\022x\\266L\\262\\257\\nq\\307N\\325\\356\\343\\263\\005B\\316\\013\\232\\375\\017\\234\\313\\362\\357j\\344\\246\\371l\\267{\\\\\\371K\\302\\336!\\320\\264\\333E\\273\\265\\302\\250\\267\\013\\260\\001\\301\\340\\361\\357Y\\276:\\361\\314\\013b/t\\347h\\214S3\\007f=[\\201\\222z\\014q^\\303\\373Q\\374\\005\\360\\306\\217\\341{\\237\\030x-\\343\\205\\242A\\'\\226\\217\\220\\343\\004c\\362\\305p\\377\\000\\263g\\301\\213\\017\\035\\352\\261\\335\\370\\375%\\222\\330\\200\\302\\327v\\305Q\\236\\247\\034\\237\\351]\\030XS\\306Ru\\322\\321\\017\\027Zx\\032\\221\\240\\344\\223\\225\\255\\376~G\\303\\037\\023|\\031\\343-7\\342\\027\\374$\\272\\316\\207{\\024\\023L\\257\\010hJ\\264\\210N\\340\\303>\\277\\245}X~:\\353\\321\\374\\027\\267\\360\\237\\204\\364i\\255\\227\\354\\273.\\020\\006\\177-0\\252\\347\\236\\355\\216~\\265\\365\\267\\217\\277d\\357\\010\\374J\\266mGD\\263\\005,QVe\\225\\016Tt\\031\\037\\341Sh\\037\\262\\267\\200\\256<\\t\\257\\246\\210\\216\\223\\307jc\\005\\243\\302\\261\\013\\236\\336\\274\\324N\\256]N\\232r\\327U\\245\\266~f\\224\\351fuj\\315%\\313\\243\\263Mj\\255\\255\\276{\\237\\232\\032\\354z\\337\\211\\245\\221\\315\\243e\\245\\344\\0059<\\014c\\363\\346\\256|)\\375\\211\\265\\237\\213>,\\201\\365\\231\\315\\265\\2032\\371\\207n\\030\\203\\214\\217\\323\\257\\377\\000\\252\\276\\215\\361?\\300\\224\\360\\346\\241*\\333\\300\\316\\261Jd\\010\\017\\335c\\200\\177\\364\\021Z>\\014\\361\\266\\237\\341\\333\\310a\\267\\341\\221\\360p?O\\326\\272\\261T\\247:O\\331-O\\036\\216%B\\244UWes\\317>)\\377\\000\\301<\\376\\022\\370\\016x\\357\\2743\\341\\213\\211\\r\\254\\001\\256w\\\\\\226\\014\\007\\361\\020N\\016}\\275+\\334\\377\\000\\340\\237_\\0174\\177\\010\\370 \\352:e\\202Au\\255\\277\\332$P\\240m@\\314\\250?!\\234z\\261\\365\\254\\277\\211\\377\\000\\026\\264\\215\\177\\302\\232\\205\\364\\016Ri`\\332\\352\\335\\200\\340\\326\\217\\354\\275\\361\\002\\302\\323\\301\\3725\\312\\\\\\256\\021$\\266_\\230uF \\003\\370-x\\312\\2369\\345\\376\\374l\\356\\227\\341\\177\\314\\372\\034\\276\\256\\005\\346\\327\\214\\257\\245\\327\\340\\217b\\375\\253\\374)\\342\\277\\022G\\341\\353\\253\\rz;\\030\\336\\302\\3425\\0270\\tQ\\246f@q\\223\\327j\\364\\340w\\347\\234~j\\376\\321\\277\\026\\255<85\\017\\005j\\032\\230\\227Ik\\351-#\\275\\0214hn\\001o1\\020\\236\\200\\024\\'\\031 o\\340\\220F?W<O\\341Q\\361\\277\\300\\261\\370N\\333\\305\\r\\246\\\\\\300\\342k\\013\\310\\221\\\\\\253`\\202\\270?\\237\\343_,\\353\\377\\000\\002\\364\\037\\013\\330j\\177\\010\\276!\\3744\\216\\336w\\222\\346K)\\245\\220<w\\3614H\\214P\\344\\220x\\311\\007\\346\\034u\\353_S\\222\\346\\270Hd\\316\\234\\222\\225Zz\\250\\253&\\225\\356\\345\\256\\256\\311\\353m\\215\\263\\214\\006&\\246=N\\027\\366sZ\\267\\266\\211{\\266\\351~\\375z\\037\\003~\\322~,\\360l~\\031\\323n<9u\\025\\226\\240\\270\\2368\\243\\352\\300z\\372\\2028\\374)\\337\\000\\376-\\311\\257\\025\\321.n\\224O\\014[\\242%\\261\\333%s\\232\\352\\276&~\\316\\377\\000\\003\\376\\022\\370d\\351\\237\\023|O\\250^^4>M\\245\\304\\321yG\\000\\236U@$\\3439\\344\\363\\351\\315|\\245\\240x\\322/\\002\\370\\361\\347\\323\\243i\\255\\003\\356Tw(Xv\\031\\031?\\225tc\\226\\0371\\313\\257M6\\327V\\267\\364\\356x\\230z\\225\\260\\271\\212\\346\\222J\\332\\305;\\333\\325-\\276G\\350\\207\\200\\274a4j\\201\\244\\004\\014\\020C{\\327\\264\\370KZ]F\\325\\0326\\371\\223\\014\\2709\\347\\035?\\247\\345_\\033|\\006\\370\\237o\\342=\\\"\\013\\266\\271S \\332\\'U?\\305\\221\\317\\322\\276\\227\\370]\\342dy\\0262\\3127m-\\203\\215\\276\\374W\\345\\331\\236\\r\\305J2Z\\243\\357\\360\\230\\210\\325\\202\\234^\\214\\367\\277\\332\\237\\341\\002\\376\\325?\\260=\\324:U\\244sx\\227\\300W\\r\\250\\351Lc&W\\200\\200\\263@\\207\\257\\315\\3627`Z\\024\\364\\343\\345\\017\\330\\223\\3435\\266\\223%\\225\\227\\212\\265\\025\\200\\333\\270\\217\\315\\225\\260$PO\\257\\250\\257\\275\\377\\000b\\rY\\'\\361-\\337\\203nT}\\237S\\260\\226\\r\\255\\337*?\\241\\375+\\340\\217\\333O\\366t\\324\\177go\\216\\372\\236\\211en\\343K\\325\\356$\\272\\320\\346\\037u\\225\\210,\\203\\335Y\\200\\307\\246\\332\\373?\\r\\261\\224\\361\\270:\\271mg\\360\\335\\307\\321\\356\\276O_\\274\\371N8\\241<6\\\"\\216cJ;\\331?U\\325\\372\\350}\\341\\341mbK\\347\\206\\373L\\270\\210i\\372\\212\\356i3\\273\\217\\247A\\300\\255-&\\033=\\033V\\270\\322.\\231\\356\\343\\273!-\\335\\216\\340\\247\\034\\363\\320t\\257:\\375\\230|5\\250\\307\\3603N\\321\\365\\333\\2463\\255\\242\\013U<g(=9=\\377\\000*\\364\\350\\231.\\354JD\\212\\223i\\351\\270\\203\\301\\334px\\037\\215x\\330\\3521\\241\\212\\251N/D\\332\\373\\266g\\322\\340\\253J\\276\\026\\025\\032\\263i;z\\255Qf\\322\\312Ks\\'\\207\\365\\020\\026;t\\315\\261\\007\\256y\\306\\177\\n\\301\\361\\307\\302M\\027\\342\\257\\205\\246\\360\\'\\211-\\223\\375K\\023$\\215\\216\\271\\000\\372\\237\\\\\\327C\\243\\311\\250\\370\\256\\326\\320\\330\\333\\261\\277\\200\\356\\2351\\222\\007\\247\\267z\\334\\276\\370m\\343;\\250\\277\\341!\\373\\033G4\\234<`\\214\\355\\364\\376u\\347<L0\\363W\\222R\\375\\177\\311\\235\\312\\204\\353A\\332-\\257C\\343\\213\\253]k\\300\\321\\267\\206\\357\\335WW\\360\\325\\263$W\\255\\367\\356`\\031\\n\\344\\036\\273\\200\\347\\334w\\351_\\\\\\376\\304\\177\\036\\037\\342?\\302=6\\367\\3057q\\307{q$\\213\\034E\\301`\\241\\210\\031\\367\\306+\\307\\277lO\\202\\272\\276\\267\\243\\017\\034\\370gK\\234^iP\\346h\\333\\345Y\\227\\215\\353\\376\\321\\306\\340\\007\\275yg\\302O\\037\\\\\\370SJ\\0360\\322\\013\\275\\263\\337F\\260\\\"\\377\\000\\3139\\325\\300d9\\351\\316F=~\\265\\327\\213\\243K3\\301)G\\177\\327\\261\\350`+\\312\\234\\335*\\235\\027\\336\\272\\037\\246F\\332\\013\\313g\\265\\274\\214<S)WS\\320\\203_\\223\\237\\360Y_\\370\\'\\371\\360{\\315\\361\\177\\300ZN4\\353\\351\\031\\257\\222$\\377\\000S+\\022C\\373\\003\\234\\037|z\\327\\352\\027\\303?\\033Zx\\303\\303\\226\\227\\273\\302\\314\\320\\257\\235\\021<\\253w\\037\\236i\\337\\032>\\022xw\\343w\\303MO\\341\\307\\211a\\022A}h\\361\\365 \\3621\\326\\276\\032Q\\2259\\270H\\366\\254\\357\\314\\217\\314\\215b\\376]CR\\022\\357WQ\\367\\203\\222I\\365\\'\\364\\034T\\366\\376&\\217K\\270[]>!4\\262\\035\\220\\304\\207\\364\\344\\327\\'\\343\\315GU\\360M\\322\\330\\335\\304\\336c\\002w7L\\023\\355\\377\\000\\327\\252\\036\\004\\361\\210\\217\\304\\253q$\\356\\245\\224\\220\\312\\301\\210?\\217\\250\\310\\257\\324\\353I\\325\\205\\317\\305\\360\\324\\275\\205D\\236\\347\\263]j\\236$\\322e\\321\\364\\373\\3559\\026\\345n\\304\\262\\243\\260\\003f\\354\\347 \\343\\2055\\337\\374O\\361V\\215\\255\\370]4\\373\\013\\245\\222\\340&P/Pz\\343\\3645\\363\\327\\306\\017\\021\\337\\315\\244\\307\\252]j\\256\\310\\\"d\\336\\262r\\025\\263\\300\\307\\247\\\"\\273\\317\\330sL\\360\\327\\305\\r\\002\\377\\000\\355\\236*\\270\\237R\\323\\256\\244O\\262\\\\\\277\\310!h\\303$\\200\\3439\\'\\314\\030\\311\\373\\243\\201\\337\\303\\234a\\006\\252T\\323\\224\\366\\357:\\223t\\351\\365\\323R\\257\\207<K\\253\\370\\333V\\203\\303Z\\336\\241\\022\\332\\007e)<\\200oa\\321H\\317\\322\\273\\177\\207\\026^)\\360\\257\\212n.,\\264+\\277\\232d\\215l\\343B]\\220\\234`\\201\\317\\277\\370\\327A\\007\\374\\023\\353\\303\\0362G\\237P\\370\\265}ou5\\330\\226\\330Y\\330*\\244y \\220Il\\267C\\203\\307n+\\350\\317\\003~\\317\\236\\r\\3705\\341\\241c\\245<\\267n\\252\\022K\\213\\351ZI\\016I$\\226bz\\344\\2360\\001\\'\\201^\\356#\\212\\262\\\\\\277\\003\\313A\\373IKG\\036V\\222\\327{\\351\\277\\222\\276\\207\\314\\322\\341\\014\\3735\\3149\\253~\\356\\020w\\214\\324\\223o\\242\\\\\\275>\\363+\\300\\036\\030\\361d\\236!Mm,\\336=$\\331K\\366\\250\\3320\\245\\177v\\303\\237\\314u\\347\\203\\\\\\375\\247\\213to\\r\\352>&\\322\\254\\346(\\223\\333\\371\\361\\271\\000\\205e\\013\\270c\\324\\340}y\\257P\\360\\274w\\0325\\373\\334\\307\\034\\277d\\220\\037.\\\"\\344\\206\\344g#\\350j\\374\\337\\t|\\'\\343];P[;8\\021\\365\\010X\\\\#E\\226F#n\\345\\'\\247@z\\347\\\"\\276B\\226u\\206\\253U\\373x\\350\\322Zy;\\353\\335\\237}<\\227\\023N\\212Xy^J\\367\\276\\267\\272\\331=-\\350|\\033\\255\\370\\242\\335\\274s,w\\312\\236M\\317\\231\\204\\333\\307\\250\\376X\\255\\237\\203\\037\\262n\\237o~\\237\\024u\\311ZQq1\\237M\\261\\r\\362\\306\\2708g\\030\\353\\234\\025\\301\\300\\357\\315z_\\307\\277\\330S[\\320\\256m<C\\341K\\245k8m\\203\\335\\033\\231~g\\227~\\031Sj\\360\\n\\221\\214\\372\\034\\236Et\\037\\r\\276\\027x\\327J\\323\\237\\355\\326\\246;(a\\036C\\231A\\334\\270\\366&\\276\\2538\\315pu2\\365S\\005U.eg\\337N\\207\\303d\\271>aK3\\225<\\302\\213vwOuwg\\363J\\314\\370s\\366\\321\\325|)\\360\\377\\000\\307Ri\\266W\\320[\\265\\352\\021-\\263L\\024\\263\\364%A\\373\\307\\346\\\\\\343\\372\\327\\212\\374%\\375\\241n\\374%\\250\\017\\010_\\224x\\032\\350\\264\\014\\315\\206\\210\\237\\363\\374\\353\\267\\375\\256t\\270|]\\361\\236\\363M\\326m\\232x\\\"\\273\\314\\314\\231\\316\\t\\345W\\n\\330%Cs\\202\\007\\247 \\037\\000\\370\\301\\340\\253o\\002I\\244\\315\\366\\313\\337\\267j\\026\\206\\362X&\\232)\\004\\021\\231dH\\306\\350\\324ob#\\03708\\371\\272\\016\\203\\364\\274\\247 O\\207\\251U\\253\\252kw\\325\\332\\352\\335{\\237\\t\\231\\3468\\210\\347\\225*\\341\\332\\217+w^M\\372u?M\\377\\000eo\\210\\376%\\361\\377\\000\\202\\337[\\322m\\247\\232]2\\3568\\000\\213n\\030\\004s#\\214\\234\\341q\\030\\317\\373g\\373\\247\\025?m_\\027?\\215>\\035A/\\230\\326\\232\\367\\207\\265\\273\\033\\230e\\333\\214\\226\\231ABr2\\031C\\002\\007\\336P\\303\\236\\225\\332~\\302?\\016\\364T\\375\\224\\364H\\254\\243\\227I\\326\\277\\341\\033\\333p\\034\\2261O\\\"\\0371\\317?0gv|g\\370\\277\\n\\370o\\366\\362\\370\\325{\\343/\\027j_\\r\\265f\\202\\327Y\\261\\235\\241\\212\\372\\021\\265\\255\\247H\\224\\253\\203\\234\\230\\335\\267\\251\\004\\000B\\203\\367\\260\\027\\3402\\334\\277\\373C=\\253<,m\\354]\\337t\\257g\\246\\315>\\247\\353\\030\\214|\\2609\\005\\'\\210wu\\022\\265\\236\\215\\332\\351_{\\246x\\247\\374\\024k\\343_\\206\\374A\\342\\215/\\302\\332u\\344f\\356\\335\\335\\356cU\\301\\2102\\216\\017=\\306\\016=\\205|\\227\\342\\255&\\332H\\240\\324t\\342%g\\221\\267\\363\\323\\337\\217b*\\317\\214_Z>3\\277\\233\\305\\222\\312\\367\\242p\\227-q(v\\014\\001\\357\\320\\377\\000\\2061\\356!\\216K\\250\\346v\\304d\\002\\261\\347\\004s\\307\\323\\377\\000\\255\\332\\276\\253\\331Q\\302`#B.\\366>s\\331\\317\\023\\213x\\231\\2537\\323\\372\\354zO\\354\\251\\342\\343\\245\\370\\211\\364K\\351\\312\\245\\314;UK\\016[\\370?S_j|*\\361\\007\\315n\\346R\\301X\\022H\\373\\243\\217\\351_\\236\\021\\336\\315\\244kP\\352\\326W&1\\346\\250\\334\\230\\\\2\\343\\004w\\367\\257\\262\\376\\013x\\242}WJ\\263\\324%|;\\306\\t\\005q\\265\\200\\301\\004\\177\\2743_\\023\\237\\341n\\375\\252\\352{\\271\\006+\\225\\312\\204\\272j\\275\\031\\372!\\373 \\353\\322X|Y\\321\\2308\\333$\\200d\\214d\\220A\\376u\\352\\277\\037\\376\\030xC\\342\\377\\000\\204\\365\\010\\037E\\216\\377\\000U\\360V\\253?\\330C\\000_bH\\311\\201\\236\\277(\\307=\\361^\\t\\373\\'\\3365\\307\\216<7pe\\334E\\314`\\347\\257\\314A\\376\\225\\364\\317\\217\\204\\337\\014\\2763\\217\\025[\\311\\273N\\327\\256d\\212\\356\\\"x\\022g\\r\\307\\277\\'\\360\\367\\257\\217\\310\\034\\350\\343\\352{7i-W\\235\\257u\\363W>\\2277q\\226\\006\\233\\234o\\026\\335\\372\\332\\366\\263\\373\\3177\\273\\275[{\\013\\rk\\302\\326\\333R\\302\\020\\263\\304\\203\\375\\223\\301\\374\\253N\\307H\\270\\216m;V\\270|5\\323\\223}\\034d\\200z\\216s\\327\\260\\253\\3764\\322m>\\036x\\317\\376\\021\\245\\001,5\\274\\334\\333\\3109\\307L\\214v\\365\\374j\\347\\302\\t,u/\\210px^\\362Cpn.B\\301\\273\\234(9?\\312\\275\\274U^JN\\247D\\233\\365\\377\\000\\206\\026\\032\\034\\363\\214{\\264\\275\\017{\\370M\\360\\232\\303A\\320\\017\\212\\016\\236\\252\\367\\2001\\310\\344\\016\\337\\347\\336\\233\\342\\311\\245\\265v0\\234\\016\\304W\\254YZ\\300\\332*\\351b \\002B\\023\\030\\355\\212\\363\\017\\031Zm,\\033\\260 \\327\\346\\230\\331Jr\\366\\215\\352\\317\\277\\302\\3024\\341\\310\\226\\210\\343\\226\\373I\\326\\\"\\237F\\361\\nFc\\231H%\\327\\031\\036\\231\\257\\232\\376)\\376\\307p\\3516\\032\\225\\367\\301H\\302\\331\\337]\\033\\333\\315-d\\371D\\371\\316\\364\\007\\356\\222@\\310\\004\\003\\222z\\363_C\\311\\246I\\250Mrbq\\233t.\\340\\232\\317\\265{\\213\\031\\276\\323m)\\014\\277\\221\\372\\322\\313\\363\\214^_V\\361w]\\236\\314\\212\\370J5\\235\\332\\325u\\352|\\335\\373\\033|c\\361\\224?\\027u\\253?\\033\\352R\\332\\331\\331\\312\\2605\\255\\307\\313\\310\\310\\335\\216\\307\\216\\203\\246\\017\\034\\346\\276\\341\\322\\357\\340\\275\\205/m\\246\\r\\033\\256U\\201\\257\\226\\277j\\017\\202z6\\255\\341\\371\\3762x\\\"\\315\\255o\\255\\n\\277\\210m\\255\\220\\017\\264\\300:\\260\\365#\\031\\367\\003\\035pk\\274\\375\\226>(\\317\\255h\\221\\370cR\\230\\267\\227\\022\\213GrIe\\003\\030\\375;\\327\\324c\\035\\034\\312\\202\\306P\\323\\243]\\254q\\323\\214\\351\\277f\\365k\\257s\\342_\\214\\336\\024\\233U\\321&\\275\\324t63\\245\\2711I\\n\\226\\362\\316}Fq\\237\\363\\353_1A\\342A\\246jMg)xIf\\031 \\250#$\\037\\310\\202?\\003_a|7\\370\\275q\\342\\207\\272\\360\\234\\272\\\"\\352\\222\\335\\336\\2746w6\\212\\301Q\\212\\236\\n9\\'\\031\\000\\375\\341\\234\\364\\031\\257\\032\\375\\241\\277a\\217\\035\\247\\210o\\274]m\\342\\315=?\\264.^Qk7\\356\\322\\324\\231>dg\\334{\\226|\\252\\220N\\356\\347\\'\\352\\236*\\245:\\234\\262V\\276\\307\\346\\222\\302Qq\\346\\214\\257m\\356\\254x\\207\\305\\177\\214\\261\\315\\243\\246\\227\\246\\3373\\202\\n\\371{\\372q\\212\\354\\277\\340\\237\\177\\037\\323\\300>+\\324_T\\263Fd\\323\\345\\225\\202>\\030\\355F\\332\\344t$\\206e\\347\\'\\346\\355\\201\\236\\217\\376\\035\\322t\\373M\\'Y\\361n\\263\\177\\251\\035N\\330Klt\\313<@\\300\\2229s\\270\\361\\323\\220\\0169\\305z\\014\\177\\360O\\037\\204\\332U\\374\\027\\026\\2767\\026\\200D\\202\\341vG\\346\\251 d\\223\\270`\\023\\2369\\343\\214\\222\\rG\\267\\245&\\325M\\244\\232\\352e:rQ\\375\\337\\304\\232ko\\221\\365_\\301_\\217\\237\\017\\376 xn\\332\\357\\303~ \\211\\230\\306\\001\\211\\237\\346R\\007\\245z^\\237\\361\\036\\307O\\266\\236;\\355cr\\260\\336c\\363Gl\\201\\324\\361\\3015\\361e\\257\\354\\277\\360\\232?\\025\\r\\023\\341\\336\\2715\\246\\237m\\022\\274\\202\\303k0\\210`1iA\\331\\275\\310\\317|z\\020\\244\\327\\322>\\t\\370\\235\\360\\313\\301\\026\\026>\\034\\271\\320ld\\212\\324*\\304\\367%\\013\\253/\\001\\313?\\314_\\251\\334y$\\223\\236k\\347\\361\\271^\\026R\\347\\241)>mym\\252\\371\\377\\000\\300=l\\2734\\305\\323\\3671\\tE-\\023N\\351\\374\\221\\321h_\\037\\374:\\232\\213Z\\332j\\220\\312\\253)C\\262@\\347w@1\\334\\377\\000\\201\\3645\\261o\\373C\\037\\rk\\255\\177t\\251oe$\\213\\363\\231\\201\\\\\\223\\306H<g\\337\\256qS\\352\\2327\\302\\217\\215\\332R\\351:\\265\\2747\\016\\200\\276\\237<\\321\\253Mc!\\030\\337\\014\\235A\\301\\332v\\343*YI \\232\\360/\\214\\037\\014\\265\\277\\202\\372\\254z-\\226\\203y\\251[H\\310g\\272k\\375\\377\\000\\271s\\203(\\213\\031\\331\\205e\\300\\037xrN+L\\006\\007\\001^^\\316I\\251>\\217\\364w_\\221X\\354fc\\206\\202\\251\\026\\245\\004\\357u}\\037f\\225\\335\\217\\264|/\\361C\\302\\237\\021m>\\315\\r\\354L\\356\\231\\021\\226\\0047N\\231\\377\\000<T\\037\\020|\\037\\342\\375w\\302W\\326~\\022\\373\\'\\332\\344\\205\\204\\002i\\n\\203\\220}\\001\\307\\371\\346\\277/\\264\\217\\217\\237\\021\\177c\\177\\214:\\237\\2035\\0139\\356\\364\\033\\rbE\\265\\363.\\314_g\\216F\\\\ \\004\\234\\200\\010\\300\\306pI\\3062\\325\\372e\\360\\243\\343\\226\\221\\343/\\007\\351^\\'\\202S\\030\\274\\264\\216R\\254y\\001\\224\\036y\\374\\351g|=\\210\\310\\375\\225zo\\236\\234\\365\\213\\373\\235\\232\\351\\240p\\347\\026`\\370\\212u\\260\\265b\\351\\326\\247u%\\257{]]Z\\335\\217\\311o\\213:\\007\\305\\357\\206?\\0335=\\037\\305ZS\\351\\236!\\216\\373\\315\\026s\\200\\3554R\\0003\\031\\301Le\\017\\316\\033\\237\\242\\344\\320\\361\\367\\354\\377\\000\\341o\\215\\037i\\370\\217\\340M>X<U\\245\\210\\245\\325|6\\037x\\277\\205@&h\\227\\357\\t\\000\\347\\000\\235\\330<\\026 \\237\\260?\\340\\257\\376\\007\\320\\265\\315[E\\370\\313\\341\\263+_\\370~\\306y.\\274\\270\\311+o\\205iX\\225\\345\\200U-\\217\\366H8\\014H\\361\\357\\202_\\016\\274_\\341_\\032\\247\\305m\\tb\\361\\035\\212\\351\\354B\\330\\334\\217<8P\\300\\025||\\317\\223\\217\\230\\367\\035\\353\\372[!\\342\\034\\2737\\340\\2523\\233T\\352\\250\\265m\\223\\222\\350\\333\\322\\315m}o\\261\\370Nq\\3039\\266]\\306\\025(\\322N\\245\\t4\\344\\367i=\\245\\325\\335k{i\\335\\037P|\\000\\361\\326\\216\\337\\016\\274?\\004\\363Fo\\357,\\343\\232x\\343\\224\\000\\200\\246~\\362\\022\\037\\234\\016\\016\\323\\234\\363_\\005\\177\\301f\\376\\025x>\\307\\342N\\207\\342\\377\\000\\016h\\321Z^\\\\\\255\\303j\\032\\204(\\300\\\\\\002\\025\\3201\\340\\023\\220\\340w\\312\\267`k\\3344o\\022\\374R\\327\\365\\355{\\304_\\t\\374+2\\351\\367p\\305,\\013\\252N\\350\\354ca\\346\\210\\321Xyk\\214\\205\\r\\271NNBeJ\\374\\231\\373Y\\370{\\342\\027\\305\\335n\\373\\304\\036(\\361<W?f\\273\\2221\\247%\\303(UC\\264\\242\\356\\003\\034\\344\\343\\241\\334z\\0265\\360\\331\\026A\\211\\3128\\222X\\217ih\\270\\276h\\337\\371\\226\\315.\\327\\353\\330\\375\\0138\\316\\351c\\362\\010\\341\\3256\\345ugm,\\264m6\\226\\353_\\231\\362g\\304\\357\\017\\333x\\303\\303\\303\\304\\372|\\312\\267\\026\\316\\251x\\032B7\\343\\001_\\035\\310\\034~5\\347\\266\\366S@R9\\231\\230\\2563\\201\\200y\\377\\000\\365\\372W\\260\\315\\243\\010t\\275ZH\\255\\333\\313\\212#\\275z\\355$\\367\\317N}k\\316n\\264\\347\\373aH\\262U\\345\\310U\\036\\277\\347\\003\\257\\177Nz\\2638F\\216.J&x\\n\\362\\236\\022<\\373\\376e9\\340\\232K_.Y\\230\\220\\244\\340\\362x\\351\\317\\323\\212\\372W\\366Y\\361\\024\\223xI\\021\\235\\330C>\\335\\314\\335\\210\\004\\037\\317?\\225|\\371if\\367,T\\333\\250\\nK>\\321\\301\\357\\357\\364\\372\\001^\\261\\373*^\\2546w\\326\\354\\303\\013*l^\\331\\311\\367\\342\\276o3\\212\\251\\203~V:\\262\\372\\334\\231\\234-\\366\\225\\277\\003\\365?\\366\\036\\211\\365\\037\\024xf23\\233\\220s\\3549\\257\\244\\274A{\\377\\000\\013\\036\\353\\305\\376\\000\\236L^\\330k7ri\\244\\236C\\307;\\214~8\\351^\\025\\377\\000\\004\\342\\360\\324\\332\\247\\213\\364\\034DO\\331\\3402\\034\\016\\370\\030\\376u\\267\\341O\\215ZN\\261\\361\\347[\\361\\016\\223v\\245.5\\311\\356\\2260\\334\\371rJ\\3142>\\206\\276\\013%\\2459\\343k\\324\\206\\361\\263\\374\\177S\\3553y\\250`iF[I\\264\\375,\\277&v^4Mo\\343G\\300\\013\\353}\\025Xx\\227\\303\\221\\371\\326H\\033\\017 Q\\206\\217\\353\\214\\217c^o\\373\\032|h\\322\\265\\017\\332;\\302\\336\\037\\326\\365{x\\357\\247y\\022\\030\\003\\200]\\366\\226<}\\001?\\376\\252\\366&\\271\\203\\341\\177\\306(|Gl\\201\\364\\237\\021)\\224`\\360\\030\\360\\353\\351\\334\\037~k\\344\\017\\332G\\302~\\025\\375\\206\\277o_\\013\\374\\\\6\\322M\\245k\\272\\262\\352\\032e\\302\\200\\022\\005b#\\271Q\\216~]\\345\\370\\307\\022c\\261\\257{\\021F\\025\\360\\265h\\307\\355E\\312?5\\252\\3713\\311\\313\\361S\\245Z\\234\\346\\376\\031%/\\223\\321\\237\\261\\366\\327\\001\\017\\232\\307\\n\\353\\311\\374+\\312\\376)x\\237I\\360\\314~~\\2458E\\226b\\221\\223\\352k\\267\\360g\\212\\254<e\\340\\233\\rwL\\235f\\206\\352\\3229\\021\\220\\347 \\214\\327\\017\\361W\\303\\332n\\257\\246H\\272\\242)\\362\\262\\352\\\\\\014\\0023\\3175\\371./\\332J\\n1\\321\\371\\376\\247\\352\\360o\\225\\270\\036K\\377\\000\\tTv\\332\\245\\324CR\\304\\2273\\025\\332\\033\\031\\030\\373\\265f\\013\\301)\\312\\277N\\240\\327\\tw\\023k\\336+\\212igKh-\\'\\336\\356\\247\\357\\037\\\\\\375+\\24770\\305v%\\266\\270Y\\\"s\\362\\262\\236\\rs\\342\\360X\\234\\'+\\233N\\351;\\255\\265\\350iI\\311\\246\\244tZM\\374V\\227\\202)\\342\\r\\004\\303e\\304m\\310d=k\\300\\257\\374?\\257\\374\\020\\370\\367\\377\\000\\010\\374z\\2016q<\\272\\216\\220c$/\\220\\335\\\"\\307|a\\207>\\200\\363\\232\\367\\030\\233~\\037\\034\\260\\342\\270\\017\\332\\377\\000G\\217S\\360\\317\\206|q\\344M\\347i\\267\\022\\332\\311$#\\'\\375^\\360\\033\\000\\234\\035\\230\\003\\324\\212\\366\\370g\\022\\343\\213xy|3O\\357\\261\\317\\212\\212\\214T\\372\\247\\371\\237(~\\301w2\\\\|I\\3265MSQyl4x\\236H\\347e\\302\\274\\230E+\\365Uc\\307l\\212\\366\\277\\014|.\\321>\\'x\\242\\347\\306\\336<\\232y\\336Y]\\355t\\347`\\026\\331\\010\\340c\\373\\347\\000\\237C\\324\\034W9\\373<\\353>\\007\\322\\276\\036C\\246\\370/\\3416\\233-\\374m8\\324b\\267\\274\\'\\313\\014\\344\\306\\031\\266\\203+\\224\\332\\035\\207\\033\\301\\003\\2001\\354>\\006\\360\\255\\346\\277\\360\\367Q\\361\\205\\307\\200\\237C\\273\\261\\274\\216;8`\\231\\334O\\273;\\267\\251\\034\\000\\007_R\\006}~\\367\\035Rpr\\251\\312\\343\\264wWZ\\366\\275\\365}O\\3110Q\\247VQ\\246\\345\\315\\273\\265\\237O\\300\\177\\207\\364}6\\307J\\223\\301\\032\\355\\314s\\333\\332\\271\\222\\306C\\200\\366\\371\\317\\312\\303\\256\\017\\257L\\217\\302\\271]O\\302\\366\\276#\\325F\\223cfT\\357\\002I\\333s$jN7e\\034s\\350:\\223\\305r\\277\\023\\265_\\023j\\332\\204\\026Vv\\263Zj\\342`\\272l\\351.\\337\\264E\\220\\033%y\\332\\254A\\347 \\002OJ\\351V\\371<7\\341\\361\\240i\\262\\377\\000hj\\222\\000/n\\321\\027\\017!\\00031\\350\\203\\035\\001\\340\\344\\016r\\340\\371\\325!8\\311O\\233Yt\\375{\\035\\264\\345\\t^\\233\\217\\272\\272\\275\\374\\221\\017\\304K=\\007\\341\\327\\205f\\265\\322f\\217O\\265R\\246}B\\356^]\\317B\\t\\346F\\350\\006\\323\\214\\2361\\367\\217\\306\\276(\\370\\265\\342\\277\\024\\370\\242\\357M\\370qf\\267\\020G#+\\352\\227n@V\\00411\\261`\\252@V\\0309\\033Kq\\220\\031~\\320\\207\\306zo\\206/|\\357\\026\\370\\354\\332\\335\\262\\356x\\264\\375)\\246}\\274uv\\031?(\\353\\201\\323\\203\\351\\344?\\027$\\360_\\355W\\253\\303\\247x;\\307wz\\324ZN\\253k6\\255\\245Z\\370V\\362Ye\\2169\\225\\332\\007h\\243e1\\310#dp\\033\\3563\\003\\324\\343\\273.\\254\\360\\263\\274\\342\\332{\\312\\316\\313\\327M~\\363\\213\\033\\207\\2166\\312\\022\\344\\266\\226\\322\\355}\\377\\000\\241\\225\\360{\\343\\027\\307\\017\\203\\277\\021\\256<\\017\\361{\\302\\362iV\\242+6\\262\\277\\220\\260\\212\\352I\\24222\\303\\270e\\2265\\362\\325\\237$\\031\\032E\\034G\\223\\365\\336\\267\\036\\205\\361\\373\\341\\365\\263^\\302\\262j\\232T\\336u\\253\\203\\313&Aq\\377\\000\\216\\256q\\317\\nz\\023\\237\\235~#xC\\\\\\375\\260|o\\246_\\350\\tc\\250E\\341\\315:+Hb\\322`\\226\\023o&\\323\\276I\\332H\\324\\027s\\237\\224\\310\\210\\002\\005U\\310f\\177a\\370S\\360\\267\\305\\377\\000\\nt{a\\257k\\341\\256\\343\\332\\321\\230\\356\\320m\\300\\302\\345@\\223\\221\\352\\034\\347\\271\\\"\\260\\305\\316\\224\\351B\\243\\225\\253\\'}\\255\\327N\\335,\\231\\327\\204\\243^\\225i\\322Qn\\205\\225\\235\\375/\\277[\\236o\\373X\\376\\312\\207\\304_\\024S\\342>\\215#I\\247\\370\\225\\342\\207[\\265\\221F\\333{\\221\\026m\\356\\023\\277-\\037\\227\\323\\252u\\301\\000f\\374\\007\\370\\375\\253h\\376\\016\\263\\360\\316\\265\\244\\260\\272\\323\\245\\362\\344\\215\\227\\210\\312`\\003\\234\\234\\221\\363\\0020>\\357\\276\\007\\323\\372\\236\\265\\341\\377\\000\\024hcJ\\325\\245\\216\\333q\\014\\354\\214T+\\3441)\\270\\017\\342Un\\370 \\214`\\234\\370\\217\\305\\037\\206\\376\\000\\360<z\\307\\215$\\361M\\204Q9\\226\\352X\\344B\\033,K\\025]\\271\\311$\\340c\\222q\\337\\257^\\003\\037S\\035J8*\\260rz(\\255o\\331m\\353\\370#\\227\\027\\223\\321\\300\\342\\245\\217\\303\\317\\226\\367s~[\\377\\000\\237\\336\\316\\003\\366\\216\\370\\323\\247\\374@\\360\\345\\377\\000\\203\\374Mq\\021\\227Q\\210\\303mk\\225f`p8\\000g\\277^:\\037C\\217\\226?e\\357\\213\\237\\031>\\nk\\351\\026\\267\\342\\253\\033\\215\\016\\335\\232\\332\\336\\3226\\036sB\\247\\t#m%\\t\\300#\\031\\311\\333\\333&\\252|O\\370\\267\\257x\\326\\345\\226\\336\\361\\325\\241\\2742\\306\\252\\270M\\314Fc \\001\\374;{(8\\35223\\304\\307g\\342\\253\\311./\\256%3\\264\\227sJ\\024.\\300\\026Nv\\360y\\033@>\\331>\\204\\017\\352>\\025\\360\\327\\017\\226\\344\\322\\243\\216\\222\\375\\346\\361\\262\\262v\\351u\\370\\350~\\005\\304\\036\\\"\\3431\\231\\202\\257\\203j\\034\\216\\311\\273\\267%~\\253K/\\321\\237wx?\\343\\237\\206\\274E\\252\\305/\\2055\\203e4\\353,\\2424\\200l\\225\\244m\\316[+\\362\\261\\'8n\\271l\\014\\327\\317\\337\\264G\\303o\\021\\370w\\303z\\206\\247v\\317\\250K\\177{<\\341\\240\\262h\\314d`\\347j\\223\\220\\340d\\223\\306\\356{\\200<\\031|s\\342\\037\\014\\335.\\241\\363\\304\\361\\347\\313\\2306\\00098\\031-\\307\\004\\364\\307\\335\\355\\311\\031\\177\\025~5\\370\\373\\304\\326\\t\\246\\352~)\\270{;\\214y\\276m\\333\\340\\266\\345!\\\\\\003\\215\\274\\253\\014\\343\\346Q\\327\\255|\\376{\\302X\\316\\036n\\276\\036i\\322v\\346\\272\\273\\321\\273k\\333^\\347\\325\\344\\374_G\\210c\\032\\030\\252.5\\026\\251\\305\\373\\267\\262OO3\\224\\361\\\\7z7\\201\\356l\\256\\231!\\226iU6\\274{^E\\301vb}7\\221\\306;\\223\\236\\265\\344\\323\\351\\241.\\030\\314\\204e\\216\\033gS\\216\\230\\317\\257z\\364K\\355Z\\313U\\224K{w\\035\\3140F\\026$V#\\201\\317\\'\\334\\222j\\204\\226\\336\\034\\327\\354\\256\\226\\313K[K\\353H\\214\\261\\010\\337r\\314\\253\\202\\353\\203\\374[r\\303\\035pA\\257\\315\\261\\225\\335Z\\362\\250\\372\\237aJ\\034\\220\\344Oc\\205\\216-\\205\\243F*\\027$\\252\\257S\\214\\0163\\217\\362k\\276\\375\\226ek\\217\\021\\\\\\351\\n\\244\\211\\356bU=O2m\\354O\\257\\351\\327\\327\\203\\273\\270\\211]\\300\\331 \\353\\270\\036\\276\\343\\365\\257n\\377\\000\\202u\\374>\\274\\361\\237\\304X\\345kVxc\\273G\\223\\321\\200\\017\\236{\\020\\333N>\\274\\361^naR4\\3605\\'-\\222\\036\\002\\022\\251\\231\\321Q\\335\\267\\371\\037\\260\\177\\261&\\227\\250x\\037\\340\\367\\211>\\'\\351\\351\\024\\027z?\\207n\\036\\315\\356p#\\363\\222\\022\\321\\356\\372\\311\\264\\036\\225\\361\\007\\203|S\\340\\217\\202\\377\\000\\031\\355\\277\\262<Q-\\353\\334\\316\\2667\\262M)(\\244\\266\\024t\\344\\203\\307\\343_l\\376\\325\\027V\\037\\004\\277`\\333\\037\\002]x\\216\\333J\\274\\361\\226\\241\\022\\\\I,\\214\\262\\245\\254L\\267\\022<`rO\\230\\220!\\0350\\355_\\237\\2360\\325<-\\241X\\246\\233\\360\\337\\303\\203T\\324$c$\\372\\225\\302e\\203\\372\\252\\372\\203\\337\\240\\365\\257\\003\\203\\250\\313\\352\\225j\\265\\374G\\370.\\357\\324\\373^$\\222r\\247E?\\205k\\352\\377\\000\\253\\237\\244Z,\\215\\361/\\341=\\326\\231\\030\\363o\\264\\265\\027\\232f9-\\264r\\243=\\212\\344~5\\302\\376\\323\\276\\005\\270\\375\\245?c\\rr\\333D\\262[\\317\\024xF\\335\\365/\\017\\3420\\362HUI1\\200H\\311e,\\243\\320\\220q\\305r\\037\\260_\\307M_Y\\360\\335\\205\\367\\211mM\\266\\245h\\026\\035J\\335\\272\\364\\000\\266=\\017Z\\355\\376?\\374s\\360W\\354O\\361+L\\361o\\212/$\\032\\007\\212/b\\266\\322-a\\214\\225\\222I\\234$\\221\\234z3\\006$\\360\\025\\211\\350\\t\\256\\232\\35687.wnOy?%\\272<:\\024\\352\\327\\2349\\\"\\337?\\270\\322\\336\\375\\037\\310\\223\\376\\010\\211\\373e\\352~;\\370_\\'\\354\\375\\361cS\\216\\037\\020\\370|\\177\\242\\303p\\373e\\236\\314\\375\\306\\333\\376\\317(\\177\\335\\004\\365\\257\\266\\374q\\240ZkP=\\255\\322\\026IA\\350k\\360\\203\\366\\242\\032\\327\\354\\325\\373d\\337~\\326\\037\\n\\374G&\\207c\\252^\\177hx~\\326\\031L\\202\\352)T\\031\\34288+\\346\\026\\312\\202B\\2221\\320\\n\\375S\\377\\000\\202v\\177\\301G\\276\\027~\\333\\177\\n \\274\\376\\322\\216\\327Z\\267\\375\\305\\375\\224\\3167\\244\\243\\202=\\306z\\032\\370\\036\\\"\\313\\351i\\215\\303\\353J\\246\\253\\311\\275\\321\\3726A\\215\\223\\213\\300\\342U\\252CF\\237U\\323\\3600\\276.|>\\323\\364/\\023\\215).\\345\\201\\356\\301H\\243V\\300\\332x\\245\\370{\\244\\336i>\\023M&\\352\\354\\313%\\254\\354\\210\\314r\\314\\271\\340\\232\\364\\317\\217\\037\\013\\365/\\020x\\202\\337\\\\\\334M\\255\\272\\022|\\261\\310>\\271\\257\\025\\370\\243\\343\\273\\337\\001xq\\374I\\245irL\\360^$7(\\275J\\367o\\245|f+<\\314+saj[\\331\\2535\\246\\326\\354}\\024\\027\\325\\350N\\265K\\331;|\\264\\324\\365m\\001\\226\\343\\313\\014y\\035E\\037\\023\\274\\005u\\361G\\341N\\265\\340\\253\\013\\237&\\344\\2747V\\323\\200\\016\\306\\215\\262z\\236\\204p}\\215c\\374.\\361\\003\\370\\203C\\262\\327d\\2671\\375\\246\\335d\\331\\216\\231\\355]\\256\\207q\\014wm\\005\\343\\237&\\3426\\202v\\007\\030W\\030\\317\\340pj\\362\\334O\\261\\304\\323\\252\\2724\\302\\264U|;K\\252\\377\\000\\206>\\031\\360w\\307O\\207\\232\\226\\255i\\340\\257\\004h\\215\\342\\035JI\\202\\307\\376\\2640#\\235\\300\\355\\n\\000\\306K`\\000:\\361\\315}g\\340\\355f\\367\\303\\336\\025\\261\\262H\\242\\323\\314{\\236f\\311m\\32262\\027\\327\\000\\001\\370v\\357\\363w\\354\\177\\360\\357\\303\\277\\010~\\031\\277\\2145\\235/\\376&\\267\\362\\0173\\021\\026p3\\210\\321\\210\\034q\\264\\343\\240-\\307\\'\\236\\377\\000X\\370\\311\\016\\2313\\276\\264\\222\\303\\362e \\206\\331\\346\\230\\2562\\016\\310\\362T\\034\\034\\003\\327\\3235\\372\\356eAV\\251\\354\\250\\305\\265\\027\\253z\\266\\372\\331m\\247\\241\\370\\346]\\212xx{Z\\323I\\264\\254\\222J\\313\\317\\315\\333\\251\\355\\t\\342\\241$\\246Y yd\\231\\267\\031\\014\\033\\013\\037R\\024g\\361\\315i\\330\\353\\372t\\277.\\243\\024\\'\\234\\0143\\034s\\323$\\327\\313\\323~\\323\\213\\250jRi\\036\\017\\022\\305\\345\\310b\\224\\\\Z\\224s  `\\007\\302\\216\\275z\\034ps\\327v\\333\\305\\036<\\266\\322\\377\\000\\264u\\031\\355f\\000\\222\\301\\244s\\274`da\\272w\\344b\\274\\272\\231%h[\\236\\321\\277N\\247\\251\\207\\317\\251U\\277\\262\\274\\222\\275\\332\\333\\357\\353\\251\\365\\024V~\\032\\273P\\0369`\\334>Ic\\220\\020\\177\\036\\237\\326\\271\\215WD\\234x\\302\\010tY`%%\\33534\\2429\\002\\0007\\020\\245\\006\\343\\216\\300\\2369\\351\\232\\362\\257\\007|q\\323\\345\\264k{\\253\\311-\\334\\017\\231&\\225x\\366\\016\\tV\\3721\\317\\275mi^8\\324\\265\\357\\031iqI\\344\\345\\\\\\264s\\022\\310\\331V\\005W\\375\\322I$\\002A\\307l\\232\\347\\216YZ\\234\\334_D\\367\\364\\376\\272\\235\\2175\\241Z\\234Z]V\\333\\357o\\227\\346zW\\214u\\t\\341\\323!\\232\\326\\316\\324]\\266VG\\270-\\265\\010\\030\\r\\261\\0079\\354\\t\\355\\332\\274\\357\\342\\024\\327\\032\\335\\237\\231v\\327\\027\\027\\013\\030\\0144\\360\\261\\007\\307BL\\204\\257L\\017\\240\\037Z\\364\\257\\034\\333i\\323\\350\\277h\\206\\366/6/\\230G\\321\\261\\216\\274\\214\\036\\t\\350s^U\\255kk\\014\\014Zp\\252W\\014[\\030\\367\\375s\\\\\\330X\\267\\025+l\\316\\334SJ\\247+\\226\\215\\177_3\\312\\276!|D\\361\\'\\203\\254\\025\\364\\237\\004}\\256\\325\\033\\023yz\\220v@\\177\\210\\244m\\315|\\317\\373D\\376\\321\\361\\374F\\265\\177\\016\\330]\\300--\\234<\\211o\\013,\\212\\374\\3408\\354@\\347i\\316N:\\034W\\253\\376\\320\\2673>\\2754\\326\\327\\263\\371FB\\306a!b\\031\\271\\'\\345\\341y\\351\\323=9\\305|q\\343o\\021\\335j\\2369\\326\\214\\322)*\\\",\\361I\\270\\266\\013\\202z\\362AR;\\362\\270\\315~\\363\\341VM\\204\\306g\\224\\352\\324\\206\\260NK}\\372n\\337~\\226?\\030\\361#\\035\\215\\243\\222U\\245Nn\\315\\244\\327uut\\232\\326\\314\\331\\265X\\236\\306]r\\365cw\\213d\\037\\271\\332\\213\\205\\033\\007+\\201\\323\\033\\233\\370\\217\\'$\\346\\261u\\235Z\\353U\\2676\\361mW\\267\\'j\\2059\\344\\343h\\003\\031\\306:\\365\\371\\211=3Z\\032\\025\\343[xA\\026\\023\\265\\035\\376v \\020@\\003#\\003\\2562G\\241\\307\\245C\\245\\313me\\257F\\327\\222\\304\\270\\233j\\356\\335\\265c\\341GO\\230\\215\\244\\372z\\222y\\257\\350\\\\\\316\\274\\260\\362j=6\\371\\037\\314\\330Zj\\256.^\\321\\375\\255\\336\\272u\\334\\3445\\315Z\\307S\\321\\344\\323u2\\253*e\\241\\2325>c\\020=w`c\\n3\\216y<\\225\\000\\371/\\304\\277\\024_\\353\\302\\376\\323\\305\\001\\244\\231s.\\237\\231\\021\\002\\\\\\263ng(F\\n2\\211\\020\\221\\264)p\\331\\371B\\277\\241\\374G\\327^\\316\\352x\\254.\\005\\244kt\\315\\024\\034\\220\\016\\322\\271\\333\\222\\001<\\200G\\247 pO\\216\\374ak\\270\\274F\\261Ij\\320\\314F\\311\\243|\\243+\\356m\\301\\367\\037\\224\\365\\3438\\037\\255x\\330\\331\\3030\\313\\247J\\242\\335?\\221\\372\\207\\014Q\\225\\034D\\\\\\036\\233\\374\\327\\374\\002?\\t\\352\\\"KIe\\014X0\\373\\354\\270\\'\\360\\354x\\255-.\\362\\343O\\206\\353T\\232E@a1D$\\340;\\2368>\\303?\\230\\353\\322\\271o\\017j)g\\347$13d\\006`@\\302\\223\\370\\3609\\357\\216\\264\\355KS\\271\\272\\n\\355\\312DC\\r\\3350}\\207n{u\\310\\257\\347\\274}\\037cZP\\354\\354~\\305\\206\\224\\252\\305M\\365(j\\0272\\333\\243\\304Qr\\315\\261NN3\\236y\\357\\371W\\351\\307\\374\\0217\\366i\\324\\374O\\245\\331\\370\\212{7h\\357.\\325\\343\\220#\\014\\304\\271\\307^\\271%\\261\\216\\010#\\034r\\1779~\\035\\374;\\327>+\\374E\\320\\374\\003\\341\\333W\\222\\353S\\275DV\\214\\035\\321\\250\\300g8\\352\\006I$\\216\\303\\034q_\\321\\037\\354\\203\\360\\223L\\375\\230\\377\\000g\\010u\\025D\\262\\324&\\263[m%\\345`\\314&)\\264Hw}\\341\\030&V>\\213\\236z\\037\\205\\342\\254o\\263\\302G\\013\\017\\212o\\360G\\325p\\246]\\355\\261\\362\\304\\311{\\261V\\371\\237$\\177\\301U\\257u\\017\\210\\337\\2658\\360\\263\\353Qi\\276\\037\\360N\\207o\\246#\\317 &y\\266\\274\\362K\\032\\344\\360L\\3013\\337\\313\\036\\200\\327\\315\\272\\017\\304\\037\\014xn\\026\\321<\\r\\241\\317q\\253L\\276X\\273\\235\\013\\263g\\030`\\275\\270\\365\\364\\255\\237\\214\\036\\033\\323\\374Q\\361\\177\\305^:\\361\\347\\216\\243\\212\\316o\\021\\335\\375\\231 \\270\\313\\311\\002\\314\\302 \\203\\004\\204\\362\\302\\205\\351\\306+\\234\\217\\342bX\\\\\\r\\033\\340\\257\\205\\327|Cj\\262\\301\\276y\\006\\010\\344\\223\\301\\317s\\217\\306\\276\\217\\001Ea04\\350\\257\\262\\227\\222\\277_\\275\\230\\343k<F2s}d\\374\\364\\277\\371\\035\\327\\354\\347y\\343\\257\\201\\277\\026\\215\\347\\304\\rj\\322\\033_\\022\\242D\\266\\222\\312\\014\\253(l\\3568\\034\\r\\244\\216{\\343\\255u\\277\\267o\\355c\\360\\333\\366\\241\\320\\223\\3664\\370Y\\360\\367\\304>,\\361\\327\\205.\\227\\\\\\264\\273\\322-\\324\\303f\\221\\304\\355>I`]\\204\\014\\370\\001H\\334Tr\\305A\\362\\035C\\341\\255\\240\\322\\207\\215><x\\226H/\\322a5\\255\\255\\265\\316n\\035\\327\\014\\002\\200\\t\\034\\366\\310\\252\\177\\002\\277h\\315#\\366r\\370\\203\\244x\\267\\302VWs\\352\\332T7V\\336,\\216\\361\\343\\373N\\253\\247\\317$J\\226\\310I\\003vv\\270,W\\346\\n\\t\\303\\020~O\\215\\353U\\247\\227\\306\\245=\\233\\264\\235\\257\\247T\\227v\\272\\237C\\3028J3\\314d\\346\\233i]-\\265\\326\\317\\345\\330\\363\\215\\037\\366\\215\\370q\\373G\\374.\\267\\370I\\361\\005\\356\\327R\\360m\\373\\177a\\317\\014?\\361\\371m\\\"\\271\\2206~\\356\\031S\\203\\334\\365\\307\\003\\220\\370w\\361\\373\\342\\177\\300?\\213V\\336#\\375\\237<#r\\266\\220\\334\\205\\274\\265E.dP\\300\\226bx\\316\\007oJ\\367\\357\\n|,\\375\\216<O\\373l\\370w\\343\\'\\302m\\002\\361\\274\\032\\367\\267\\263x\\237N\\324\\347xf\\270\\274\\232\\321%\\267\\266\\216& \\264\\213pnA^\\207\\312`\\013\\014g\\013\\366\\277\\370a\\343\\377\\000\\207\\277\\031\\346\\370w\\360\\203A\\232\\313C\\325t\\333}_L_)\\005\\304\\226\\367(H\\363J\\214!\\016\\035v\\365\\033G\\034\\344\\374\\317\\006b\\252\\327\\303U\\300\\342e\\031\\322z\\323~N\\315\\257\\223z|\\317\\240\\343\\n\\024\\251\\342i\\343p\\361q\\250\\222SOK[g\\363\\377\\000#\\364\\263\\366;\\377\\000\\202\\244\\374/\\375\\240\\374(<3\\342\\235N+}J\\025\\362\\'%\\206c|`\\207\\035\\216k\\246\\370\\317\\360\\227_\\327tY\\365\\377\\000\\njq\\313\\r\\304\\310w\\333/\\230\\206>2H\\352\\017Z\\374F\\323|\\037w\\3734F\\376;\\036/\\226\\327\\304\\023\\035\\362\\351\\226w\\005\\204\\314@\\377\\000X\\243\\352{\\346\\276\\302\\375\\207?\\340\\251Z\\316\\255\\005\\277\\206o\\265\\251\\340\\324\\341-\\366\\2556\\3566\\362\\331\\0062T\\222F?\\036)\\346|-8K\\236\\202\\323\\372\\320\\346\\301\\347\\324\\361T\\375\\235}\\037\\221\\372\\027\\340\\006\\275\\261\\321\\355 \\324\\0265\\2228\\202\\270\\215\\276^=+\\253\\216\\3465\\263\\221\\335\\277\\206\\270\\177\\004|h\\360\\007\\304\\235.\\rF\\371?\\263\\347\\270\\\\\\307<J\\024;{\\214\\234\\375kz\\373J\\327#\\262k\\273\\027\\212\\366\\333\\250\\226\\325\\367`{\\216\\242\\276:\\256\\023\\021\\205\\237,\\243c\\352\\250\\326\\245V>\\344\\256|\\177c\\342\\3315\\215e\\227J\\235\\226+(\\3131,p\\243\\214\\3629\\344\\367\\353\\300\\372\\213z\\217\\355\\035\\252iw\\221h\\320\\352\\021\\030\\227\\001\\343\\222\\311d_O\\273\\301\\333\\236\\331$\\236\\343\\006\\252| \\370;\\343h\\254\\246mZ\\033\\030E\\323n&\\366\\365p\\243\\035\\300\\0078\\301\\355\\375\\rt\\037\\360\\313:~\\262\\322\\305\\254\\370\\227LX\\345a\\275\\354\\005\\303\\272\\221\\355\\0368\\351\\355\\355_\\275\\324\\255\\200\\214\\355V\\315/\\237\\371\\237\\316\\320\\303f2\\213to\\031=\\365\\323\\313\\344i\\352\\036\\t\\360\\257\\304/\\021X\\353WI&\\231{\\000\\216\\342\\033\\3556V1]\\302\\255\\335z\\343<\\025\\371\\266\\364\\030\\034\\236\\237\\304\\276\\020\\370\\261\\246h\\021]\\370:\\316\\323W]\\254v\\301 Fc\\3060I\\000t\\350}>\\271\\311\\360o\\303\\377\\000\\010\\374(\\263M\\032\\377\\000\\306~!\\324-wd-\\366\\233\\\"B\\207=w4,\\300\\214u\\004z\\346\\257j\\177\\2647\\303\\257\\017\\263E\\244\\333\\335\\\\\\2649\\001\\317\\332$\\331\\311\\340\\356\\300\\007\\251\\307\\327\\353^\\005h\\342jTJ\\212s\\212\\332\\351\\333\\361\\263_\\221\\364XJ\\230Z0\\275v\\2417\\275\\236\\267\\371]~\\007\\213x\\367\\341\\317\\304\\235OZ:\\226\\275\\340\\275GBl\\200\\317ix\\300\\263v;#;\\030s\\352\\t\\307\\335#\\257I\\360l\\370\\333\\303z\\3046\\367^&\\324d\\265T2Lo\\n\\354\\001Nr>@\\331\\316?\\207\\003\\2578\\254\\317\\037~\\320\\315\\342=p\\370k\\303\\237\\333Rj\\363|\\321\\330>\\236b\\210\\362\\010(Y\\311\\234\\236\\006\\320\\002\\340\\220F9\\031\\236\\036\\370_\\373Fj\\266F\\366\\342\\021emp\\376`\\237_\\335\\004\\235@\\000\\251\\375\\346\\346\\003\\253\\306\\307\\371\\327\\245\\032\\365\\325\\005\\n\\326\\212\\331\\'\\372\\034\\177T\\241<C\\251EI\\264\\357\\243\\267\\371/\\300\\372\\353\\300\\337\\025\\323\\305wk\\341\\353\\262#\\274x\\313@\\356\\207a\\3562\\177\\2079\\340\\376\\207\\034s\\332\\244\\237\\330\\276=m2\\362\\035\\372\\220\\014\\367qy\\314\\311n\\3162\\033\\346\\311v\\344\\236\\3122q\\310\\025\\3617\\305\\177\\332\\223\\306?\\263\\367\\213\\244\\360tZ\\304f\\372\\326\\3224\\222\\346)\\037<\\252\\356*N\\n\\344\\236x\\007\\364\\255?\\207\\337\\360T\\317\\027\\336\\305ma\\343o\\017\\351\\372\\334V\\331h\\346\\271\\217l\\321(\\003;$R6\\364\\004\\360A\\3479\\034W\\332\\320\\360\\203\\211\\36188\\343p\\221\\214\\2418\\247nk7ut\\365I|\\256|\\362\\3613)\\245VTq1\\251\\027\\t[\\231\\306\\353Gg\\326\\373\\256\\207\\321\\177\\264g\\201%>\\030}r\\356\\375\\314\\215#<\\240\\344\\000\\203n\\316\\007BIn\\277\\335\\0352k\\363\\013\\306^ M7\\366\\201\\3264\\333\\227y\\241\\277\\010\\253#J1\\270\\000\\312\\001\\003\\325\\234`\\216\\343\\203\\212\\3759\\370e\\373m\\374\\001\\370\\311\\247\\215\\'\\306zSi\\362N\\025\\001hD\\274\\036\\010b\\006$\\310\\353\\271G\\267<\\327\\304\\237\\360T\\357\\331\\221~\\020|M\\217\\342\\277\\205o\\214\\226\\232\\214\\337k\\017\\313n\\334\\333\\214\\252\\304\\222P\\2619\\007\\225bA-\\3037\\277\\341\\305\\034\\307\\2058\\205`\\263ZR\\2459&\\243u\\243\\332\\3515t\\355\\344\\316>+\\305\\345<U\\225}c.\\253\\032\\221ZI+\\3367\\331\\264\\365Z\\234\\217\\201\\265/>\\332\\347C\\277|\\312X<;\\206\\345/\\301\\\\\\234\\367\\365\\'\\240#\\320\\232\\362\\317e=\\373E\\253j_b\\215m\\345x\\344\\020o\\006T\\211\\312&\\336\\240<\\236Z\\223\\236\\003\\347\\004\\r\\265\\310\\247\\213\\346\\323\\356\\340\\361\\025\\2361q\\nJH;A\\030\\313\\003\\201\\214\\3659\\356O<\\234\\325\\235{\\342W\\205\\365Kc>\\242\\026Ip\\n\\204\\223a2\\014\\365\\343\\221\\323>\\300r:\\217\\335\\263l5LB\\347\\207]\\355\\320\\374\\006\\031uzX\\336u\\016h\\266\\233^k\\1774\\237\\251\\313\\370\\356\\366\\326\\373O.n,b\\232\\336E\\202;h\\222u\\236\\354\\026\\221\\314\\344\\341\\223)\\205\\214\\345\\227#\\313\\332\\217\\211\\030x\\327\\304\\253\\341\\035\\362\\241p\\376Z\\010\\200\\357\\307\\241\\317^3\\232\\356\\374s\\343[\\010\\320\\317\\035\\344\\323J\\310\\261\\241\\226L\\262\\\"(U\\003\\236\\200\\000\\000\\354\\000\\003\\030\\257#\\277\\236\\177\\020\\353J\\241Y\\231\\244\\3066\\365\\372\\n\\371|B\\226\\032\\214\\223{\\237\\254p\\376\\025\\245\\031\\270\\332)}\\377\\000\\326\\306\\367\\204\\364\\235kP\\263\\223P\\261\\320\\376\\325\\005\\256Z\\347\\367\\245Lq\\344e\\327\\221\\223\\236\\234\\343\\217pEI.\\255n\\230}\\222C \\317\\317 PN\\357\\274W8\\035\\373\\221\\337\\363\\367O\\210\\032\\216\\241\\360\\267\\366@\\322\\374-\\253X\\241\\274\\327o\\026Ky\\014\\271tUq#\\023\\223\\236\\212\\253\\301\\340?c\\221]\\357\\374\\022\\227\\376\\t\\243\\342o\\332\\313\\342\\027\\374,\\037\\210\\032,\\320\\370>\\306}\\304I\\2205\\t@\\030\\215y\\316\\305\\343q\\356F\\001\\305~5\\304y\\206\\002\\206\\002x\\212\\211E\\306M];\\271[\\376\\016\\207\\351Yn\\007\\021\\210\\304S\\241J\\367i7\\246\\327\\350\\375\\021\\365\\177\\374\\020\\347\\376\\t\\374\\177\\262\\323\\366\\200\\361\\335\\240k\\255V$m1$9\\020Z\\3448ob\\347\\346?\\354\\205\\367\\257\\270\\376>x\\376\\367Q\\321\\365\\rG\\303zR\\335Y\\330,\\372n\\205\\003\\314b\\210\\303\\000\\335y6\\345Rw\\273\\017(&A`\\235Tna\\351\\276\\020\\360\\216\\211\\360\\333\\302\\220x\\003\\301\\326\\361[\\255\\275\\270K\\206\\267@\\002\\014`\\'\\035?\\247\\343^E\\373a\\353\\366~\\006\\370)>\\213\\241]\\334G9\\236\\030\\240\\026\\221o\\235\\337\\314Fl\\214\\345\\311\\005\\262Oy\\203\\023\\326\\277\\006\\245\\210\\253\\232f\\321\\251=\\345%\\362W\\333\\374\\317\\326!\\205\\245\\225\\345\\274\\260\\332)\\267\\346\\355\\376g\\345\\257\\305\\037\\004\\'\\303\\217\\210\\223\\317\\361\\036\\371\\241\\261\\2304\\226\\266V\\314e\\271\\220\\036FOE\\350Gj\\302\\217\\342\\366\\253\\245\\335\\301\\340\\277\\207\\036\\030]\\025\\357\\030*\\375\\235VK\\246R\\304d\\267E\\353\\236\\177Z\\367_\\332\\'\\340\\254^%\\370}\\027\\216|Q\\251\\266\\203<\\221$\\327!\\177}\\250\\316\\010\\001\\343\\007\\235\\2376O\\035=k\\303\\227\\342kx~\\335\\364?\\203>\\001\\026\\267\\322\\2573y~}\\374\\354\\030nc\\375\\316[9$pk\\3658\\326\\366\\224SJ\\355o}\\256\\217\\317\\245K\\222\\246\\347\\240\\370/\\341+xz\\346\\037\\024\\374k\\361g\\227\\004h\\245t\\370\\2442\\317&T\\360X\\364\\351\\333\\037\\215r_\\0254\\217\\206\\236&\\370\\213\\245\\370\\257@\\370r\\266:dz|\\326\\263+9\\017*H\\320\\315\\035\\303\\0258R\\257\\017\\312z\\215\\335*\\347\\206~\\032\\265\\273\\305\\342O\\332\\033\\306\\007My\\244M\\226\\251rd\\270\\223\\347>\\207\\345\\030=\\0061\\203\\326\\273\\355K\\307Z\\'\\215|\\023?\\301\\017\\204\\376\\010F\\212\\356\\321\\240\\273\\235\\227}\\323++\\016\\007\\360\\216\\001\\334H\\355\\327\\245x\\271\\246\\035c\\360\\323\\242\\3272k\\321#\\330\\312\\361O\\007\\210\\215H\\2734\\365\\266\\277\\326\\207\\202\\374J\\370]\\250\\374A\\375\\236<e\\257x\\n)\\257<K\\340\\301\\007\\210#\\270\\323\\037\\354\\362-\\255\\264\\327\\020\\334\\272\\025\\00091\\316\\314{\\203j\\235K\\344G\\373\\027\\352\\277\\020\\377\\000h\\317\\200~7\\272O\\2147z\\207\\215|-\\245-\\326\\335^\\342Yf\\276\\323a\\002!m\\013\\266B\\262)\\014=w\\217F#\\322\\377\\000go\\206\\337\\034~\\017x+\\305\\237\\032|9\\1775\\337\\212\\264K\\235WO\\270\\360\\014,e\\232\\372\\332Y-S\\014\\000&D\\303\\31560\\016$\\007\\250\\004|\\373\\340?\\207\\327>\\000\\375\\267\\274%\\360\\363\\366l\\277\\206m7\\3047\\361K\\'\\313\\272;\\215\\026Gg/&\\354\\001\\262\\037\\264@\\352\\244\\022a8#p\\257\\302\\\\q9&cM\\302>\\36597\\030\\337\\342M\\331\\332\\336m\\351\\350~\\313)\\3413\\214\\266\\252\\234\\227,\\222M\\333Ud\\254\\335\\366\\331|\\316\\276\\317\\340\\207\\207<9:\\337\\374[\\361\\013\\334\\352\\022\\035\\317\\242\\331\\222\\356\\304\\216\\025\\334\\347\\277a\\237j\\364\\257\\201?\\006\\265o\\214:\\221\\321|1\\340\\3104\\350I0\\304\\266[T\\250 }\\371:\\236G8\\317\\326\\273?\\210_\\263\\027\\302\\357\\206?\\024\\365\\215c_\\361\\334\\232\\266\\235-\\333\\266\\206\\226\\000\\275\\315\\374\\014\\241W~9\\014\\031J\\021\\234nF\\033G\\177l\\3708u\\375Z\\376\\303\\302\\177\\014t\\310t\\333\\004P\\355aj\\240\\314\\340:\\237\\3368\\341x\\'#\\236\\225\\373\\275,J\\255\\207\\215Xl\\325\\356\\366G\\342O\\013\\354+\\270O\\243\\265\\226\\354\\367\\017\\207\\037\\t\\276\\024|1\\360\\345\\217\\203\\265+\\311\\265\\033\\335?N\\362\\344E\\220\\252\\303\\225\\034\\347\\217\\\\\\223\\327\\361\\256\\213\\341\\255\\227\\212\\256\\343\\267\\324\\276\\034\\337\\310\\221l\\0175\\315\\324\\205be+\\221\\216\\016k\\237\\265\\322\\274/\\341\\270\\246\\270\\370\\203y\\036\\243y9\\304\\032\\036\\234\\333\\211 m`\\355\\337\\033\\001\\366\\347\\232\\350\\264\\255_\\306\\237\\020\\257\\243\\360\\316\\201`\\272~\\231g\\033y\\220\\332e\\\"NWhg\\037{\\003=88\\353\\332\\274\\214N\\026\\225x\\276}S\\335\\275\\276K\\362=\\314-z\\224\\332\\345v\\266\\313\\257\\315\\372\\034G\\207b\\267\\323\\355c\\237R\\232\\326\\331S\\004o\\207q\\037\\255kj\\277\\030\\274\\021\\341\\013@ou\\013\\211\\303\\177\\020\\264!\\177\\016@\\257\\234,?j\\237\\213:w\\210\\023G\\323tk\\035F\\036\\017\\223-\\221|\\251\\351\\320\\344}N\\177\\036\\225\\351:7\\307\\210\\356\\304)\\342\\217\\203\\026\\026\\215#\\017>\\355,\\313\\005\\\\\\014\\235\\234n t\\\\\\363\\352+\\327\\253\\224\\327\\234\\271\\247\\033\\257&\\227\\346\\256|\\0143|,\\023P\\227+\\332\\3556\\277\\017\\324\\357|3\\361\\365\\374k{\\366?\\207\\276\\020\\276\\2771q4\\245V\\010\\243#\\263;`\\017\\317<\\032\\356\\364\\317\\213\\232\\016\\233\\233}cW\\323\\205\\322\\214I\\005\\253\\264\\373\\033\\034\\202\\307\\003\\257\\362\\317\\323\\346\\037\\214\\037\\027|S|\\247H\\360\\366\\266\\243J\\215~_\\263X\\375\\231GPF\\315\\307\\365\\353\\236\\007J\\362\\rK\\305\\0360\\322\\277\\342y\\247jf\\376-\\307p\\273\\205%X\\307\\031\\302\\260\\333\\372\\023\\327\\232\\355\\207\\014P\\305\\320RmC\\262\\325\\277\\233v\\373\\254y\\177\\353v\\'\\005\\211\\344\\214}\\246\\272\\275\\022^\\226\\327\\357g\\332\\277\\020\\177h\\317\\005\\351\\260J\\027^\\262\\201\\317B\\322\\004$\\376\\031\\257\\237<}\\373Nx*\\316+\\207\\227\\306\\277hb\\371\\037cb{\\037\\342\\343\\217_\\227<u\\353_5\\374A\\375\\244/\\340\\211\\341\\266\\322t\\263#\\177\\001\\263\\200\\0048<\\340\\247\\3501\\370W\\316?\\021\\376\\'\\374@\\203Q]V\\303[}2H\\245\\022[\\315\\247K\\3452\\021\\321\\225\\220\\344\\020y\\004\\021\\203\\322\\275|\\257\\204\\260\\264\\225\\345\\'\\370\\177\\221\\206a\\305\\230\\312\\322J1I|\\364\\277\\340\\316\\303\\366\\231\\361\\244^?\\370\\277\\253k\\360\\274q\\300]b\\000\\310K!DUeb;\\202\\247 \\327\\031\\244\\352\\020_\\244\\226\\332u\\310\\363b\\033\\230d\\2160y\\377\\000\\307M`|?\\322\\247\\361\\005\\216\\245e\\253\\352\\267\\026\\361\\252\\313x\\377\\000*\\261r\\n 99\\306\\342[\\223\\306\\023#\\256k\\240\\360\\236\\255\\242xw\\302Z\\344\\226\\226p\\227K\\007\\215f\\224/\\232]\\316\\321\\363c$\\344\\364\\036\\230\\257\\351\\356\\032\\314\\361T\\362\\232q\\206\\221\\247\\024\\276\\344\\221\\371ng\\005,EKk\\'+\\333e\\357>\\277y\\351?\\263\\327\\304\\353}/\\304\\321\\351\\372\\255\\320\\202%\\014w.rN\\013\\001\\307L\\234.{\\003\\355_P\\376\\336\\376:\\360w\\215?d\\377\\000\\017\\370z\\337T\\226\\377\\000[\\264\\272t\\323gX\\274\\277>\\006\\267S\\\"\\262\\222q\\267}\\277\\361`8f\\356\\271\\370\\037\\301:\\343\\303\\254Zj1\\025\\r0\\031\\335\\330\\216\\275\\253\\351_\\033x{\\305\\177\\032\\376\\010\\334Y|?\\326c\\324u\\257\\r\\\\G\\1776\\203\\014ag6f\\025W\\236#\\221\\274\\3465\\014\\200\\026 \\0022z\\234k\\227\\345\\370\\372\\270<\\302\\244\\371\\024d\\233}\\023z]\\273h\\265\\263\\273\\2619:\\304e\\331\\215|6\\026\\t\\272\\360wN\\375\\035\\337U\\257n\\247\\202\\370;\\301\\272\\345\\205\\223i\\236 \\361\\024Q\\304\\300\\010\\240!\\213F7\\003\\301\\014;\\214c\\030\\003\\246q\\232\\346\\374\\177\\340_\\024xn\\322O\\021%\\214\\267Zr\\310b\\213P\\212\\026x\\262Am\\271\\307\\r\\206\\351\\307\\250\\343\\004\\321\\326<G\\342)5\\206\\266\\200J\\362a\\234\\252\\356\\316\\305\\004\\226\\357\\300\\nN{\\001\\355_XO\\343X\\354?e\\215\\'\\340~\\217\\253\\331\\351\\242\\376\\346\\335\\356o/\\024\\354\\206wuq$\\273\\317\\222\\253\\2764/\\277\\242\\202z\\003\\\\\\234C\\217\\226MJ\\214h>g7g\\256\\211u}v\\354{\\231\\016I\\211\\306bj\\325\\2534\\227+vKw\\265\\277\\341\\317\\317\\177\\022\\370\\322\\302\\334\\274\\022\\310\\3626q\\200\\017a\\236\\277\\360,\\361^\\215\\373&\\370\\037A\\361\\217\\212\\355|Y\\343u{m2\\336V\\220\\243\\215\\242E\\\\`\\202\\177\\332\\'\\237@@\\256#S\\360\\204\\377\\000\\021>!Z\\301\\243\\350Q\\333\\276\\242aG\\263\\260F\\302\\270X\\322GUbIgm\\316W\\240g!UWj/\\351\\307\\374\\023\\317\\376\\t\\r\\342_\\023\\352zw\\217>:[\\335Z\\370~\\306\\322%\\261\\321%\\205U\\356\\002\\340\\257\\230s\\220\\203\\000\\355\\300$\\347\\'\\265~/\\305\\334W<\\272\\215O\\254T\\345z\\244\\226\\355\\371\\037\\251dY4q\\234\\212\\234o\\263w\\333C\\225\\360w\\354C\\342\\357\\370(G\\306\\355\\nk\\013\\tl\\274\\003\\341\\350\\243}GR*\\000\\274\\270;K\\303\\020\\332\\006>P\\t9\\300\\300\\352+\\365k\\300\\376\\030\\370{\\373(\\3740\\261\\360\\227\\206\\364\\330!\\373%\\262[ZZ[D\\240\\356\\306\\025@\\000e\\217\\370\\223\\320\\323n/|\\r\\3603\\302)\\243\\370\\037I\\206&\\266\\210\\342\\033H\\307\\312\\000\\'\\000(\\256G\\341\\204\\253\\361\\347D\\323\\276.\\337\\031\\326\\346=Na\\246[3ec^c\\337\\264\\217\\230\\261+\\222G\\000\\340c\\234\\377\\000=fY\\20637\\202s\\367iCD\\274\\337W\\335\\263\\365\\014\\026\\027\\013\\227Vq\\216\\265g\\253~J\\313O%\\242:\\237\\203\\236:\\325\\274Ju\\017\\210W\\347\\312\\360\\364\\t%\\255\\255\\310\\230\\267\\366\\205\\321\\225w\\272.>e\\336\\014i\\214\\223\\200\\000\\311 yO\\306\\237\\217\\032w\\212\\265\\313o\\007\\351\\227qCs\\252\\351\\357w\\002]\\027k\\230\\343l\\235\\261E\\200\\3711*I\\214\\017\\275\\203\\322\\275s\\306\\232.\\233\\342\\035_\\376\\021KH\\342\\265\\321\\2749`n&K}\\261\\25472\\222\\261I\\206]\\207\\313\\217\\316\\224\\036\\316\\253\\236\\302\\276~\\361\\356\\273\\341\\017\\001x\\366\\343\\342G\\2034{\\013(\\256\\343T\\237_\\324\\t;\\202\\240\\214G\\020b\\016\\324\\t\\030\\000p\\006+\\247\\207\\260\\220nM\\335\\317\\243\\363\\354\\031\\246*\\370k+%{z\\245\\243~Z\\376G\\225\\334\\3743\\361&\\242\\332\\305\\227\\304\\031c\\3214\\311\\304\\242+\\373\\231\\267]\\277\\336WT_\\341\\334\\257\\221\\214\\236=k\\346\\177\\025jV\\277\\0055\\035K\\301\\177\\n\\2748,c\\324%)\\026\\251|\\237\\351wY\\311\\014\\210\\243q$\\021\\202}\\253\\353\\177\\210\\336\\022\\361w\\211e\\266\\361\\324\\227RZX\\222g\\271\\361\\006\\254\\252\\033\\313\\362\\226E1D\\370\\362\\373\\247#9^\\225\\342\\337\\265w\\331\\241\\323\\377\\000\\3417\\370y\\243\\333X[\\031v]x\\303P\\2662O66\\355X\\203c\\'\\344\\306pq\\201\\3075\\3678i\\305\\311_^o\\2715\\375z\\237\\035\\212\\203\\345i+[\\361]v<b/\\206^*\\272\\270\\377\\000\\204\\217\\342\\256\\256\\272]\\202>\\341%\\314\\333\\357n\\016s\\362.~L\\223\\234s\\324\\363]/\\206>2x\\177\\301\\226I\\341\\357\\203\\376\\036\\226\\312{\\267(/n \\315\\304\\334\\362\\312\\253\\202G\\271 dW9\\340\\317\\207\\372\\277\\213\\344_\\020\\370\\303\\304\\227Zn\\232\\354<\\335oW\\2204\\363g\\370Q\\037\\375^I8\\343?0\\364\\255\\215S\\305:_\\303\\203r\\337\\0104\\301$h\\241f\\361\\026\\240\\276d\\3621\\\\\\202\\201\\306K\\006\\351\\200z\\036*\\3611nV\\335\\255{#\\236\\203\\345W\\276\\235{\\235\\005\\337\\214\\374e\\3737Y\\337\\374l\\272\\325\\255\\346\\361\\025\\316\\201sm\\240i\\372\\275\\351\\315\\325\\314\\363A\\3477\\312F\\327\\021\\306\\245\\027\\';\\010\\317C_;\\352\\237\\007\\247\\324\\277dKO\\332k\\340\\306\\275\\250\\\\\\353\\337\\017<[\\375\\247ug\\004\\255\\035\\376\\237\\242H\\217\\366\\230\\314\\312r\\341e\\201fB\\002\\215\\206RAf8\\364-W\\300\\032\\247\\305\\317\\004j\\372\\227\\305=U\\264hn\\314\\217\\026\\263\\251\\276\\371\\374\\305d\\221Z\\020H\\331\\206\\\\\\340\\014\\364\\301\\031\\025\\211\\373;\\370\\357\\306>\\010\\361m\\306\\245\\037\\207o\\244\\360?\\211\\240\\272\\323\\265\\315\\026[\\363\\022\\307r\\321\\211m\\256\\344\\215@d\\212I\\\"\\222\\337{/\\224\\001\\233q\\0039\\374\\237\\215p\\016\\030\\232x\\266\\257\\025}\\257\\243z7\\247\\310\\375?\\2041\\220\\251\\205\\251\\206\\275\\233\\266\\3734\\272jz\\327\\201\\177n?\\331\\367\\366\\212\\370\\217\\246|\\035>\\035\\270\\360\\305\\236\\203u<\\220\\337<q\\264\\232\\302\\334\\313\\035\\3166\\24667\\230\\362\\036\\254\\031X\\266y\\\"\\276\\255\\370\\177\\342\\355cV\\321\\3564?\\207\\336\\020\\223E\\264\\233\\026\\361M\\002\\356\\276\\270\\311x\\313\\025P<\\261\\225\\007,GN\\225\\371\\215\\361\\033\\301\\372\\027\\300)\\274\\003\\342\\353o\\206\\262i\\363xOW\\227@\\3616\\256\\262<7\\027\\320]Ao.\\231p\\340\\341\\233u\\264\\222\\242\\3102\\027j\\214\\374\\265\\372\\307\\360?\\342\\367\\205\\274M\\360\\233C\\327>\\006E\\032h\\367\\222\\260mNh\\177\\323&p\\352\\314\\014g\\346W \\263\\020FG\\245v\\360\\326i\\211\\223\\236\\026\\273RzJ\\237D\\242\\367V\\362\\177\\231\\307\\237e\\330x\\306\\030\\212\\t\\244\\257\\031\\365\\273N\\311\\267\\346\\216\\237@\\370)\\244\\351\\003H\\233\\306\\272\\260\\266)!\\2214\\250$\\3375\\303\\023\\346\\001+\\177\\021\\300l\\347\\326\\273\\3353\\304\\272\\227\\211.o|5\\016\\205\\366[H\\310\\206(l\\337\\346e\\344\\002\\354>U\\3528\\344\\364\\351\\\\\\372i\\332n\\217\\035\\337\\215\\376!]\\235*\\325\\021\\000\\017&f\\230\\215\\351\\311\\344\\200C\\216\\007\\0353\\355\\317\\352\\337\\025u\\r{I\\264\\360\\347\\203\\340\\223KK\\243\\271\\355\\255\\377\\000\\327\\272\\3549\\336\\334\\354\\033\\207_ON\\265\\364\\222U1\\016\\355\\336\\335z.\\256\\307\\207\\016ZVIo\\323\\253^f\\247\\304\\217\\331w\\340\\347\\355\\013\\030\\370\\241\\360\\'Z\\263\\321u\\271#$\\254\\000y\\027y\\301\\371\\200\\373\\247#\\250\\3659\\006\\276m\\370\\245\\341\\377\\000\\3327\\340N\\2644\\317\\020xr\\346$\\177\\335\\307t\\350f\\265\\227\\251\\335\\346`\\20003\\216\\017\\265|;\\373:\\177\\301J\\3764~\\306Z\\225\\276\\227\\256\\333\\313\\177\\242\\244\\3463\\023\\306\\013F\\001\\352\\033\\034\\216z\\037\\323\\212\\375(\\375\\232\\177\\340\\260\\237\\263\\237\\355\\007\\341\\350t\\257\\025\\352\\026\\321O,c\\315\\263\\274 \\020q\\310\\347\\255y\\370,\\3471\\313\\022\\204\\222\\253Mt{\\257\\236\\377\\000~\\207&a\\222e\\231\\244\\234\\342\\335*\\217v\\276\\026\\373\\265\\267\\342p\\351yc\\251\\350\\237\\332z\\317\\206\\220\\254\\210|\\313\\213(r\\033\\345\\353\\216q\\323\\275pz\\372x\\177R\\370m\\255Z\\350:K\\201k\\275\\325I\\031\\225r\\031\\261\\216\\244u\\374k\\354\\273o\\205\\277\\263\\357\\215c:\\267\\303\\237\\025\\256\\230nX\\310R\\031\\225\\343$\\362N\\0338\\3741\\\\\\365\\327\\354_o\\250\\370\\256\\326sqesk\\346\\356\\270\\270\\201\\314bE<\\020\\311\\310\\344\\014d\\032\\367i\\361V_7{\\270\\371?/\\303\\361<\\030\\360\\216>\\022J\\321kk\\253k~\\275\\317\\310o\\036A\\247__\\265\\364\\244\\252\\254\\230*\\037\\320t\\374\\253\\311\\276$i:\\345\\376\\265\\345Zi\\327V\\253!\\342\\031c`#\\007\\324\\343${\\343\\234W\\351g\\355\\245\\377\\000\\004\\273\\370\\227\\341O\\024Zx\\263\\366q\\370\\177\\377\\000\\t\\025\\206\\245\\032\\313{\\242\\311u\\261\\264\\331\\225\\201\\332\\255\\346&\\364`\\n\\367#\\'\\034\\340\\257\\207k?\\2627\\355K,E5\\217\\330\\323\\305\\t&\\335\\252\\372w\\210\\240!pOi#\\220\\220r8\\334:u\\353_\\253\\344\\230\\314\\203\\035\\200\\205w\\212\\212r\\373.QMz\\246\\323?:\\315\\362\\216&\\302fN\\215<+\\224W[6\\237g\\242g\\314\\032\\205\\255\\257\\201\\274\\023ogm4\\222^\\336\\204\\216\\375v>\\350\\334\\'\\310\\234d\\001\\215\\300\\014\\223\\225|\\340m\\254\\013\\375XYx2\\342\\003!\\017{q\\034h\\027\\246\\003\\006\\'\\037\\205}\\\"\\337\\360L\\257\\332g\\3077fD\\370{\\342\\235:Y\\031\\231\\023T\\320\\340\\020\\306\\177\\204\\031b\\271w\\3542\\302\\\"y<U\\177\\010\\377\\000\\301\\'\\177\\340\\241:\\267\\210,\\265\\270\\276\\017\\256\\231-\\215\\322Ok&\\243\\177jU$G\\014\\013\\250g\\r\\310\\031\\030 \\216\\240\\362+\\3647\\306\\\\3\\227\\340>\\257\\014\\\\/\\326\\362K\\376\\037\\344saxS:\\223\\214\\352a\\344\\333|\\315\\333\\265\\255\\323\\320\\360\\017\\t]I\\344Z\\2530\\302\\312r8\\310\\340~=\\315z\\227\\204\\276&\\370\\223\\341o\\215\\243\\370\\221,\\317oe=\\255\\314\\026Q\\313\\225\\373dJ\\0323\\260c%<\\300\\351\\270d\\026\\211\\307T5\\357\\277\\r\\177\\340\\205?\\265F\\245|\\263x\\317\\305\\336\\036\\321-C\\206+\\014\\217;\\003\\327\\356\\205P?\\003\\305}#\\341\\037\\370#\\037\\303\\253+\\257\\017\\337|]\\370\\275w\\253G\\341\\230Q4\\353\\030`\\212\\030\\225E\\314\\227N\\214v\\356ei\\347\\270l\\023\\220\\262\\005\\311\\333\\232\\3608\\237\\305n\\025\\245\\223\\303\\013N\\272\\250\\376\\322\\212oKw\\265\\257{\\036\\306W\\341\\376w\\210\\314>\\261:|\\226\\3256\\322\\353}\\267\\331\\037\\220\\327\\263x\\336\\367\\304\\026GG\\360\\376\\243,\\272\\231qe=\\275\\224\\205nX|\\256\\221\\020\\017\\231\\214\\341\\202\\347\\357\\340\\343\\245}\\277\\360_\\376\\t\\311\\373^\\376\\323~\\026\\260]sM\\227\\300\\366\\023X\\210n\\257o\\301\\363dF\\217k\\021\\026\\003n*\\354\\247v0s\\324u\\375/\\036/\\375\\237\\276\\rxnM\\037X\\237G\\216\\332\\332V\\222\\327\\000\\017(\\226\\334@\\311\\365\\257\\033\\370\\271\\377\\000\\005R\\370e\\341{\\013\\210~\\037Y\\377\\000h4j@\\2222\\002\\006\\340\\001\\223\\306I#\\036\\265\\370\\326e\\342\\226{\\230\\323\\266\\026\\212\\215\\257\\3577{/F\\222\\374\\317\\3212\\356\\n\\312\\362\\347z\\325/\\245\\232Z_\\356\\3634\\377\\000fO\\370&\\217\\354\\237\\373\\025\\330\\307\\342\\355PC\\251kP\\300<\\335kVeg\\004g%\\027\\356\\3069\\306\\024\\016\\005z\\256\\233\\373@i\\377\\000\\021\\257\\247\\360\\367\\303\\313w\\217N\\265\\033g\\277T\\302\\271=\\025O~9\\317\\270\\257\\215\\257\\376%|W\\375\\242t\\027\\325|iz\\366q\\337\\2050i\\366x\\006\\336<\\344\\311+\\234\\201\\237\\224\\005\\353\\300\\372W\\275\\374\\027\\361\\227\\303?\\205\\372\\035\\266\\221\\342\\277\\036\\351\\226r\\314<\\270-n.U\\035D@\\251\\310\\'9\\340\\344\\234t\\257\\3161\\365\\353\\343$\\361x\\332\\256s}_O\\362\\362>\\307\\t\\354h\\245G\\017\\005\\030\\256\\210\\365_\\022\\350\\032\\376\\267\\242\\217\\nxf\\324\\213\\235O\\3673\\352\\r\\367m\\\"n\\035\\311\\352X\\214\\200\\0079\\366\\256\\303\\303\\036\\t\\360\\247\\301\\177\\007@4\\253{\\271\\241\\323\\324\\255\\245\\252\\271w\\232Wf\\n\\024z\\263Hx\\3508\\'\\204\\030\\263\\340\\353\\273;\\313h\\356\\354\\'\\216h\\231C\\244\\261\\266U\\203c\\004\\021\\355\\202=\\215t\\022\\335Ak\\000\\222YB\\254M\\273,2{\\364\\374\\315y\\356s\\250\\271:\\035q\\241N\\025]e\\273V\\277e\\273K\\325\\236g\\361\\212\\333\\304>\\014\\370=7\\207t-cO\\267\\324o\\235\\3565\\375V\\360\\005DW\\004\\312\\330\\0341\\306\\325\\000\\361\\265Ny\\353\\342h,\\274W\\341\\213\\'\\262\\323S^\\276\\323P\\031\\374C\\254E\\345\\333[\\262\\242\\356\\362\\324\\340\\341\\226,q\\301\\3329=k{\\306>3\\260\\370\\313\\361KP\\262\\260\\261\\227R\\203O\\227\\375\\024K\\'\\225k\\017\\226\\350\\262\\006`7;2\\310\\355\\200\\0160\\240\\343\\0319~\\025\\323m\\364Mr\\356?\\021x\\201u\\313\\327\\2224\\201\\022\\037\\\"\\312\\007\\016H\\035y\\341\\221\\262Ku=1\\212\\373\\274\\277\\014\\360xE\\026\\275\\377\\000\\213n\\376\\177\\322>S\\025UV\\257h\\374+D\\223\\351\\323~\\346&\\231\\251j?\\024|1}m{\\233\\210\\354\\202\\307\\016\\263\\251\\257\\223j\\214\\027!\\322\\036\\256A\\013\\203\\323\\346<\\234W\\230Km\\247K\\245\\315\\243\\317)\\273\\270\\2167\\221\\365\\377\\000\\021\\000\\226\\360\\202\\201\\244h\\242$\\017\\224\\003\\300\\003\\356\\367\\315z~\\261\\251\\3527^;\\213O\\261\\323\\244\\325RY\\022v\\221P\\307a\\024d\\207a\\274\\017\\235\\224HP\\221\\236Glf\\274\\373\\342n\\245\\340\\257\\014x\\342\\343\\306\\332\\215\\304\\336\\\"\\277\\016\\362\\333[B\\213\\016\\237d\\345[s\\031\\017\\007\\007\\034e\\233\\346\\350+\\330\\242\\233mAi-W\\251\\347\\327kNg\\266\\217\\315o\\271\\363\\035\\316\\203\\342\\035w\\306\\032\\205\\205\\364\\263-\\235\\204\\222\\031<C\\342\\0041A\\021\\016\\244\\371\\020\\360\\n\\220\\331Rp:u\\351L\\227\\307\\037\\r<\\033\\034:\\037\\201\\t\\3265\\253\\251\\322\\027\\327\\265\\340\\005\\270bHU\\211G,rF6\\214|\\370\\3115\\330~\\322\\036\\t\\361\\327\\306-_F\\361o\\201\\345Mz\\006&W\\274\\210\\264ZM\\204~Z\\314\\256_\\031\\235\\3366\\003\\0038h\\3108\\310\\246\\370C\\303_\\n~\\030\\370\\221u\\353g>/\\361\\r\\264\\036\\\\7\\261\\270\\212\\306\\3017\\222\\001a\\221\\302\\226\\000\\374\\314J\\200q]\\225jBT\\324\\343v\\373y\\365\\271\\300\\240\\3416\\245d\\277\\246r\\032w\\300_\\214\\177\\032\\365\\364\\361O\\217o\\376\\315\\242\\307k\\210\\365=`\\030\\202\\346\\333\\345\\362`$\\004#\\313\\007\\346\\344\\230\\317\\0075\\300|g\\370Q\\250\\037\\212\\260x\\247\\341o\\306g\\3234\\275+J\\270\\237N\\325ncc,\\332\\224b[\\246\\265\\266D\\345\\325\\313\\006\\000\\202\\253\\227\\341\\201\\333_@\\3057\\215\\376(\\337y\\357~o\\344\\363\\243Qo\\014^U\\215\\273/\\232\\001\\336F\\\\\\341\\375\\362$\\301\\306+\\013\\366\\200\\360\\327\\204t\\177\\006I\\246\\370w\\\\]K\\307\\366W\\\"\\347F{\\031\\002[i\\327i\\272\\025GnT\\177\\317&\\'$\\222\\017\\030\\030\\371\\254\\337\\007\\034~\\032Tg\\255\\365I\\177_-\\317\\242\\311\\261\\2650x\\210U\\216\\235\\033z\\336\\347\\313\\337\\266\\337\\306D\\370\\241\\246xW\\342O\\210|;.\\247\\242\\301\\247\\377\\000f\\352\\032U\\304\\201V\\336\\006\\002\\346(\\243p\\001\\210\\300\\267\\266\\362\\304\\312\\010HfT%\\3660\\037O\\177\\301#\\177i?\\206_\\010<\\025\\244\\370#B\\326\\236+\\315j\\331\\345\\275Mv\\350L\\326\\227\\256\\316\\261\\230\\270PX\\253F\\205Tr\\0323\\301V\\317\\222~\\312\\376\\026\\370a\\246\\334\\352\\337\\004\\277i\\357\\n\\351W\\377\\000\\360\\263\\274\\025\\341\\273}.\\316\\377\\000U\\362,\\'\\026\\341\\240\\332\\227\\260\\235\\320]\\273\\\"F\\020pN\\374\\234\\001^+\\360\\252H\\377\\000e\\257\\333K\\303\\272\\217\\207\\374[?\\3049\\2747\\342mk\\303ri\\232>\\232Z\\341\\364\\305[\\270\\377\\000\\264 d>\\\\\\344\\332\\314gT8\\313)R\\002\\000\\307\\362<*\\304\\340\\353F\\264\\265qz\\'\\272Zh\\373\\351}\\021\\372v\\'\\352\\230\\252\\016\\234/f\\265kT\\335\\256\\274\\225\\231\\373#\\246\\331\\370\\333\\305\\227\\220X\\370\\257\\304\\rn\\372\\306\\327\\333p\\013]I\\276\\024\\033@\\306 _0\\025\\357\\325y5\\337\\351\\3260\\3747\\361\\024\\367\\016\\226\\323[\\302\\017\\227k\\010\\007w\\233\\270\\2171\\377\\000\\277\\27620:\\357$\\014\\3267\\303O\\033\\237\\332\\'\\303\\257\\342\\237\\003\\350\\361\\332\\336ik5\\246\\247\\366\\350\\332)c\\277\\216f\\363\\241\\221X\\223\\016\\331\\355\\272|\\307\\016\\247\\220sRi>0\\360\\376\\225\\341;\\275\\007QKI\\257n]\\257-5\\002v\\305\\024K\\017\\332\\225\\333\\237\\231\\343\\314\\277*\\223\\237/\\257 W\\352T\\253\\254m\\005V:\\305\\244\\332[$\\372\\237\\235\\312\\233\\302Ut\\347\\243M\\244\\376~\\247\\342\\306\\202\\366\\255\\341\\035M~#\\335\\307\\250\\330\\333Dd\\016\\361\\357\\220.\\306V$\\001\\221\\312\\216y\\353\\370\\014-W\\341\\035\\337\\210|?k\\253\\374\\016\\361\\022\\2350\\311\\346[\\3712s\\363\\014\\260\\3163\\301\\317\\004\\361Tc\\277\\322\\274(\\347\\341\\367\\2115\\227\\232\\302\\371\\332-?P\\206\\344\\221\\031`\\273VM\\243 \\003\\345\\375U\\033 r+\\017B\\233\\305\\336\\032\\325o#\\370E\\257]Esat\\337m\\322\\236pc\\222e\\334\\033\\345n\\010;s\\327\\221\\310\\354\\0061\\301$\\337+\\263\\350\\337o1Rp\\253\\013/\\370\\007\\262\\374.\\370\\327\\373D\\374\\034\\323\\305\\234\\237\\026/\\355\\246\\205\\310\\3735\\371c\\031\\003\\240\\004\\203\\374\\353\\330\\376\\022\\177\\301g\\2766iz\\234>\\031\\325\\005\\305\\355\\302\\313\\261\\032\\013RC\\021\\327\\253W\\007\\360\\343\\342O\\204\\276/\\350\\351i{c\\024z\\274Q\\211o\\264\\251\\300/\\003d+s\\320\\374\\330\\351\\2363[\\321|\\007\\370s\\253_}\\2414\\306\\267\\226NE\\305\\251\\333\\206\\365\\366\\365\\374\\275k\\212t\\240\\2528\\327\\205\\331Q\\224\\351;j\\217\\247t\\177\\370.L\\032<\\261\\351\\3363\\322e\\266\\237pWY-\\200l\\237\\370\\031\\256\\343J\\377\\000\\202\\327\\3741\\273\\375\\325\\322\\312\\262\\355\\316\\303h\\303\\0353\\337\\336\\276\\t\\277\\375\\221<\\'\\255\\336\\247\\211\\244\\326.\\032\\344\\344\\253\\316Km\\306q\\370\\344b\\254\\317\\3731\\210\\255\\231\\344\\325\\342\\001c,\\223\\024\\347\\030\\035\\305d\\360X\\t}\\226\\277\\257So\\255\\342c\\264\\256}\\317\\251\\377\\000\\301i\\276\\032&B\\352\\253\\020?p\\275\\263\\014\\376f\\260\\365\\037\\370-\\006\\201z\\257\\026\\211q$\\356\\016\\024Ck\\273\\'\\r\\376\\327\\034\\214s\\353_\\027\\\\~\\315v\\177\\330\\202\\363W\\326m\\245\\265TfW1\\002F0\\t\\036\\374\\017\\363\\232\\271\\360\\337\\366a\\360\\326\\241e\\375\\271\\246k\\322\\210\\245\\014c\\335\\016\\334\\201\\305/\\250a\\243-#u\\334\\205\\216\\255%g-O\\246\\374A\\377\\000\\005Y\\370\\271\\254\\331\\311>\\205g-\\270\\034\\346\\346 \\234z\\201\\234\\377\\000N\\225\\341\\3365\\377\\000\\202\\220~\\322>>\\324\\277\\262\\264\\235jX\\217\\314\\2622\\304@\\031\\004q\\223\\370\\347\\332\\2674\\217\\331\\343\\302\\366\\251os\\250\\336^\\316\\320\\250\\212=\\362\\234\\021\\317\\030\\372\\377\\000*\\355\\374;\\360\\263\\300\\372\\004\\323\\233m\\002\\3363\\n\\256%u\\311=9\\315tB\\206\\036\\237\\303M\\030V\\236\\\"\\242\\267;\\261\\343\\272m\\237\\306o\\213V\\311\\r\\337\\366\\205\\354\\322\\266f\\276\\272v\\001N~\\342\\347\\201\\337\\267s\\364\\257g\\360\\'\\354\\341\\340\\317\\013\\307\\244]|F\\213\\355S,\\221\\245\\255\\215\\273\\345\\013\\261\\373\\344z\\003\\222I<V\\304~3\\323\\356\\257\\265\\017\\207^\\017\\224[\\3530\\331\\254\\266\\263\\313\\026#,c$\\221\\216\\244\\002\\247\\237QR\\370\\216\\377\\000\\304\\276\\020\\360sx\\327\\3425\\305\\254QX\\305$\\357!s4\\206E\\313,\\273@\\013\\225\\\\ay\\033\\261\\320\\234\\325\\326\\366\\325W\\263\\331>\\235\\307B4i\\256y\\273\\332\\367\\362\\261\\356>\\006\\3224\\237\\020x\\266\\r\\027C\\260D\\321\\364,Iz\\251\\026\\026k\\240\\024\\305\\037\\243l\\316\\343\\376\\326\\337z\\310\\370W\\373\\'x\\223R\\370\\307\\254|C\\326\\254o,F\\255\\252I<\\367?i\\330\\250\\206C\\235\\243\\007\\222\\277t\\216\\017\\004\\325\\257\\330?\\3046\\336/\\370\\005\\241\\370\\226\\020Y\\257\\032\\352I\\274\\302K\\274\\246\\346]\\300\\236\\347vrk\\351\\037\\016\\314\\252PM\\222X\\362\\304\\234\\034\\017n\\303 \\375;W\\203\\232a#\\210\\232\\245+\\332/e\\326\\335\\317g\\003R.\\n\\254:\\257\\272\\366:\\217\\001\\370oB\\360n\\213\\016\\201\\240X%\\255\\255\\270,\\210\\271<\\223\\234\\222y$\\362rz\\326\\017\\305\\337\\212z\\027\\207\\314~\\033\\2329\\256\\256n\\\"\\337-\\265\\272n\\331\\037A\\274\\344\\005\\007\\234d\\363\\264\\214dQ\\343O\\036Zx3\\303\\223k\\227\\026\\2557\\223n\\362%\\254l\\025\\345*\\245\\366\\344\\221\\214\\200Ny\\300\\317\\245xO\\307\\177\\020Dl\\255u\\317\\035\\353rE=\\323\\024\\032>\\204\\262;4\\215lp\\205\\370w\\002db\\255\\373\\265\\n\\373X\\034f\\275\\314\\223+\\236&\\272\\234\\327\\273\\372\\234Y\\256cO\\017I\\323\\213\\325\\330\\265\\343\\315OP\\262\\326\\214\\253mqy}p\\262\\021\\245\\351\\356\\026\\013|\\010\\362d\\301\\031;c\\215\\300bN\\326\\312\\216ME\\361B?\\004\\351Z\\255\\255\\377\\000\\212\\344\\273\\324n\\240,a\\360\\366\\221\\0316\\350<\\3571\\026L\\000\\274&\\345\\r)\\n\\336X\\003\\236\\274\\326\\265\\343\\035[\\306\\376\\023XV\\031\\3648a\\266\\272M/\\303\\032 W\\274\\274\\021$h\\3604\\2106\\304\\032;\\230\\310(T+G\\2173\\025\\253\\341\\237\\002\\353\\376!\\370G+|U\\270\\217\\303\\366\\032\\204\\256m\\364m\\025\\326K\\251\\301xLB[\\200\\013\\027\\363VN# \\021;\\002\\307\\255}j\\214(\\362\\312OX\\273;y\\377\\000\\300\\377\\000\\207>{\\232U\\023IY5u}}>z\\377\\000\\3001\\376\\'\\337x\\313\\342O\\204<\\355>6\\277\\271\\214\\243E\\341\\355\\036M\\261G\\001s\\223;\\202\\000\\330\\360\\206+\\270\\035\\254\\270V\\350SS\\370[\\340\\375[\\341\\256\\225\\341\\317\\213\\326\\313\\257\\352\\366\\t\\004\\277\\360\\212h\\321\\250\\212\\031\\001\\307\\314\\203\\033\\261\\036\\025\\214\\255\\267\\367{\\200\\004Wu\\341x,4\\257\\016\\301\\340\\211\\322\\037\\n\\350\\363\\273\\307o\\246Y\\r\\367\\223$\\205\\231\\223t|+\\210\\3136\\020\\261\\314g\\347\\347\\214\\355\\\"\\013\\317\\005=\\325\\226\\247gm\\341}*@P\\033vI.\\256\\345/\\033\\266X\\003\\206m\\370f\\005\\211\\022\\037\\230g5\\016\\264\\346\\271!\\366]\\327M\\037\\346?g\\030.g\\325$\\372\\376\\03558\\237\\031\\351\\263\\370\\367\\301\\362xk\\305V*\\315on\\005\\217\\205\\264S\\225|#\\025\\022\\220@+\\362\\355%\\210L\\260<\\221\\307\\316\\276!\\376\\306\\360E\\334\\207\\342t1\\375\\261K>\\235\\341\\215\\'\\224H\\267p\\322\\250\\000\\020\\ng,v\\214\\022;\\347\\332<y\\361\\036\\303\\340\\346\\264<)g\\242M\\245Z\\3533)X\\255\\t\\233Q\\276\\215\\262\\301\\3039\\013\\031*\\347\\251$\\021\\313.q^?\\342\\377\\000\\202z\\277\\305\\337\\026Kc\\245Z5\\232\\264-5\\306\\235crTH\\334#\\313<\\347\\r\\265\\311,Pd\\341\\235Aj\\355\\240\\224S\\277\\302\\325\\323\\375>g\\237])\\313\\315h\\373\\376G\\013\\361\\023\\343\\347\\214|m\\025\\307\\2064\\355\\\"K[-:\\003\\366\\2353GO.\\013|\\001\\225\\236\\\\\\362\\273\\311\\\\\\003\\306\\365\\030\\003\\232\\303\\360\\345\\202\\353>\\030\\273\\361\\\\\\372\\262^],\\222\\004\\373K\\221om<r\\303.\\334\\017\\277\\2766VR2C\\304\\334\\363\\203\\325\\315\\341M?\\340TZ\\226\\205\\342\\253\\253-F\\336\\t\\025Z\\010\\203%\\215\\221\\332C\\356\\300\\r.U\\220\\025 \\363\\030=@\\307+\\361\\033\\300\\3360\\360\\326\\246\\236&\\361f\\257e\\244\\370\\\\]\\031\\'\\017\\010\\0178vQ$QB\\007\\313\\311`\\217\\311o,\\034.ED\\350\\363.U\\247U\\346\\020\\304rk\\277K\\276\\227\\377\\000\\200`\\335|]\\3605\\327\\300\\337\\212\\177\\016\\374U\\255N4\\304\\322n/bm(2Mo{-\\3142\\351\\262!\\000|\\202\\375\\202\\234\\220\\025v\\366\\316<\\243A\\360\\365\\343\\305\\245~\\324Z&\\273\\005\\266\\203\\342=!4?\\2127Z\\177\\232\\207B\\272\\232x\\325\\257\\340X\\325Le&kp\\354\\240\\252\\013\\251\\\"Eh\\324\\032\\346\\377\\000l[]>\\337N\\217Y\\360\\256\\232\\220\\333j\\362\\304B\\362\\327\\227\\2133\\312\\022\\345\\333\\270\\023[M\\274\\000\\n\\230}\\010\\257_\\377\\000\\202Sx/T\\370\\261\\341\\255f\\035_\\305>\\023\\266\\320uI!\\360\\306\\241m\\251\\312m\\357\\376\\317u/\\231p#\\234F\\341\\024\\306f\\222<\\r\\342tF\\004\\200\\321M\\3717\\024\\341\\252\\320\\315\\241R\\232\\337\\267\\343\\367.\\207\\352|7\\211\\243S%\\251\\031\\313v\\223]5\\262O\\324\\372s\\376\\t\\317\\373U\\3741\\370\\213\\243\\353\\336\\024\\370/\\3438\\256\\265-[T\\322m-\\364\\033\\3339\\354\\347\\273\\275[\\006O>\\340)\\362\\374\\235\\360\\220Y\\tv-#I\\270\\224\\317\\333\\336&\\370y\\340o\\000x\\323K\\361\\235\\366\\215>\\271\\257\\332\\302\\221\\330i6\\207\\3676\\200I\\034bC\\234*b&\\2272HK0R\\006\\343\\301\\374\\304\\377\\000\\202L\\376\\316Z_\\354\\373\\373`]x\\243\\343\\205\\230\\326\\274R\\236#\\324\\264-O\\3020\\334n\\263\\267\\270\\262\\273\\362\\356.\\347`v\\334\\01768\\256\\\"\\310\\332\\256\\310\\312\\014\\212\\254\\237\\254\\272\\327\\303\\217\\0206\\237\\342?\\003YL\\336\\031\\322t\\373\\271\\022M_rO{|J\\333\\316\\256\\2226\\340\\210\\024\\270fm\\316L\\322cn\\320\\307\\337\\310\\260\\371\\206\\017\\n\\225x\\245NM\\270\\245}b\\335\\335\\325\\333\\337e\\331\\236\\016i\\213\\313\\361X\\311F\\203npII\\265\\263[5\\247c\\371\\376\\361\\246\\201\\340?\\r\\331K\\241\\370\\203^mgS\\221W\\313\\260\\260\\215Z\\332\\007\\031\\316J\\356;\\200\\340\\205nA\\351N\\360\\227\\302_\\017]ko\\257\\307\\177\\177\\021h\\200H\\240\\224\\037<\\005e\\332I\\306\\3426\\206\\000\\220\\007\\226{|\\251\\255\\250|>\\360\\177\\303\\273\\305\\270\\370\\263\\342X\\244\\232\\334\\217\\'B\\321\\344\\016\\323\\026\\300P\\374\\006(Iq\\363\\010\\307N\\274f\\244?\\023tk\\275n\\326\\303\\303\\036\\020\\376\\316\\264q\\276\\322\\306\\316\\026\\226\\341\\300 \\207X\\343\\\\F\\240\\\"\\034\\000pNK\\366\\257\\241\\237<\\241h\\277V|\\256\\027\\027*Si\\354\\312\\177\\t\\276\\030|E\\270\\370\\250\\367\\355\\177o`\\372U\\342\\274w\\246\\035\\313x\\247!\\242#pt\\312\\0258`;\\001\\234\\003^\\377\\000\\340\\177\\214\\332M\\307\\213\\356>\\035\\370\\221E\\226\\260&x\\355cc\\373\\273\\241\\214\\207S\\330\\220\\024\\340\\373s\\203\\232\\362/\\037\\301\\342H\\356\\364\\377\\000\\032x*\\t\\006\\243fD:\\225\\222\\022\\236t9$1\\0346T\\202\\024\\234\\220\\214G\\360\\232\\350\\376#xv]SN\\321\\3762*\\031/|6\\320\\335\\335Y\\313\\n\\213\\211bW\\016cf\\031V p:\\016\\243\\270\\'\\315\\306\\316\\275W\\031;i\\243\\323\\247s\\330\\216!V\\223Mt\\320\\356\\374I\\361\\276\\317\\301\\377\\000\\021%\\360\\007\\210l\\026\\r:\\356\\335<\\233\\324b\\0367|\\3478\\376\\037\\274\\271\\034\\214\\020{\\212\\345\\274y\\361\\367\\304\\177\\010l\\356\\264\\235b\\332\\342\\365\\330\\307\\026\\2234\\370\\362\\2322\\030\\211<\\317\\342\\033v\\236\\374\\367\\256+\\343\\317\\212\\264\\277\\212~\\030\\321\\374o\\245\\370z\\365l\\355\\256\\325/uk0\\262\\230c \\346\\'\\003\\016\\216\\034\\257\\336P2\\177\\332\\000\\367\\336\\024\\360?\\303\\317\\217\\036\\r\\236m7\\305\\ry$\\032\\\\v\\326\\366s\\017-lYF\\020\\224n\\244l\\306\\365nK`\\014\\235\\243\\237\\013S\\226\\254\\243;5\\323\\271\\030\\232r\\235\\037\\335\\266\\237\\352r\\237\\005>\\\"k7\\322\\017\\207\\023\\332\\031[X\\324\\\"\\232\\022\\327*\\261\\252\\217\\231\\207\\315\\2007\\020\\0069\\353\\200\\r}E\\360\\363\\303\\227^\\035\\322_L\\232E\\226]\\314\\\\\\242\\345\\021\\331\\211\\307|u\\306~\\276\\365\\363W\\303\\377\\000\\331LE\\342\\031c\\272\\326\\356\\354\\365X\\021nme\\231\\326x\\001W\\033[+\\203\\202\\334q\\3163\\300\\301\\257\\252\\264H\\257\\316\\200\\221^\\204\\023J\\252\\216\\226\\341\\231\\2061\\3118\\345r\\000\\347\\034\\343\\255z\\025\\354\\325\\242y\\231e<E(r\\327\\325\\255\\237\\221\\243\\004\\223\\030\\266\\371\\255\\226_\\220\\253\\014\\000\\007#\\223\\301\\350\\177:\\371\\247\\343\\027\\304\\237\\037Yy\\336\\005\\360\\377\\000\\304\\211\\257\\236\\327Yo\\355=In\\242\\201\\014$\\261Xw\\347\\n\\352\\010\\334\\243$c=\\305}\\025\\256\\350+\\342\\0352=\\035\\346\\232\\027be\\334P\\027*~S\\236A\\\\\\021\\337\\373\\331\\347#??\\313\\373\\035\\374:\\360o\\214\\227@\\213U\\324\\256\\265]R;\\267\\2647je\\21290\\001\\221H\\033C\\364;\\211\\300*\\007$\\212\\352\\313c\\207\\203r\\251/{\\242\\265\\327\\251\\353BT\\343.i\\235W\\300\\017\\032X\\3746\\370\\225q\\037\\214<Gs\\253\\337\\0338\\326\\312\\350I\\366\\230\\243.2\\312^1\\271\\366\\240\\215s\\217\\341?\\207\\324\\0369\\370K\\244\\376\\320\\177\\t[\\302\\366\\236\\'\\214I\\250\\030$\\217PD,\\200$\\253)M\\240\\217\\224m#nr\\t\\3162\\t\\257,\\375\\224\\377\\000gH\\376\\025x^\\343F\\361\\276\\241i\\254\\336j\\227qM(6\\241\\314@)*\\024\\022r~\\3618<\\026>\\365\\364O\\204\\255\\3544\\253X\\264\\255.\\322;x\\202\\357{kr\\250\\024g\\3149n\\006\\0019\\352\\001\\317\\360\\236k\\217\\0378J\\275\\351\\275U\\265\\350\\376V/\\331B|\\321\\226\\261km\\267\\334\\263\\373*|\\000o\\331\\377\\000K}\\\"\\327\\306\\267W\\221\\335(-k\\\"\\004\\2027\\350LK\\363\\025\\'\\243\\020H\\343=y>\\331\\253\\370\\357H\\360f\\200\\372\\306\\271|\\220\\333@\\201\\336]\\273\\206:\\r\\252\\006\\\\\\363\\2009,\\307\\n\\t5\\347\\027\\3367\\321|-\\341\\333\\235k[\\271\\206\\030\\255\\340-=\\314\\354Ub\\211G\\314\\006F@\\346C\\264\\002\\314\\000\\300^Mbx\\'\\306^(\\375\\241\\364\\373\\303\\240xe\\264}&$0\\256\\247\\257\\333\\272\\255\\324S[\\316\\302\\342;\\\\\\251s\\034\\206\\316H\\244r\\250cy\\000\\'\\025\\317G/\\255\\214\\251\\355j|*\\327c\\366\\370|\\r\\030\\321\\243\\246\\232-_\\3367\\342\\037\\306\\275c\\342\\277\\205\\376\\326\\026\\347\\303\\032|\\336jC\\014\\302;\\235V\\362Aj\\363\\033x\\241\\214H\\013\\311\\014w@m\\313\\026\\210\\200\\001\\301\\252\\377\\000\\006<\\016<I\\340]SX\\370\\204\\267\\036\\031\\323\\231\\322\\013}o_\\325~\\321\\251]C$q0%\\344,\\221\\222E\\273)%\\330\\026\\221J!jO\\331\\233A_\\002\\305\\253\\245\\225\\205\\327\\211\\265\\353\\311\\244\\023\\370\\253W\\205b\\211\\314m2\\255\\264r\\034;\\306\\256\\256\\310\\250\\246<\\\\\\214H\\304\\266:\\017\\006\\\\iQ|I\\261\\223J\\321\\237\\304\\267Z\\210\\210\\215WPm\\266\\326\\326R\\300\\323,\\020\\260\\\\\\205[\\1775TF\\254\\241\\342\\332\\357\\234\\232\\372v\\343F\\022\\241Ei\\035U\\264\\333\\177\\353S\\305JS\\250\\252\\325z\\275\\035\\373\\277/.\\305\\217\\206^g\\303\\3352\\347K\\360\\366\\225o\\243Z\\334;K&\\271\\2579\\373M\\343\\254)\\270\\010\\330\\206\\2141Y6y\\214\\010.\\203\\313\\031\\305K\\341\\315>_\\nx\\236\\346\\307L\\232\\342%\\211\\035n\\374i\\34293$\\233`1\\254\\310\\262`}\\305\\336\\274*\\002\\231\\332pA\\313\\361_\\210`\\360\\227\\304\\350<H\\260\\\\\\370\\343[yC\\314\\3602[\\330i\\3224s$\\273Y\\267,`K\\024y\\215L\\222\\215\\344\\2361\\234_\\212\\267\\032\\257\\211\\365\\2357\\307\\020\\315g\\250\\3523\\313kid\\222\\334l\\261\\323\\214\\314\\005\\274\\252\\030\\220f?mhX\\256X28;A\\002\\245S\\225i\\336O\\342Z\\372\\371\\377\\000^\\203\\224\\375\\234m\\025\\263\\371\\330\\335\\361_\\213\\364\\017\\207Z\\245\\357\\215tiQU\\226B\\336\\\"\\326\\346\\371\\031\\031\\262\\311\\014JC>\\035HQ\\362.\\037\\345\\r\\300>w\\361V\\317Y\\361\\346\\253e\\250\\370(_5\\376\\241e\\\"\\334j\\032\\245\\273}\\270\\376\\3544Kmm\\217\\335\\263.\\325\\223pM\\262/\\335`A\\036\\223\\242\\374<\\361O\\304\\253M7P\\361\\315\\222Aa\\0046\\223\\311w\\254\\333\\262\\030\\3420\\304\\0328\\255\\337kE\\346$\\036[\\006\\303\\357\\344\\253WA\\341\\275F\\333I\\276\\324\\364\\337\\206\\177\\r/\\345\\236Y\\022)5\\273\\330\\2205\\344\\222\\375\\241\\031\\224\\344m\\000\\345\\203\\261U\\\\(\\000\\222\\005J\\252\\351$\\343\\253\\216\\372\\253yj\\377\\000!r*\\215\\335?.\\372\\0341\\37095\\256\\273/\\217\\376\\\"_3][(\\333\\276\\355%\\324\\357C\\313$\\201K\\034\\010Syy\\000M\\252\\2730\\n\\217\\224\\320\\207\\303\\276*\\370\\223\\340\\3314\\217\\206\\236\\000\\267\\321\\264[\\325*\\322[\\\\\\205\\r\\034\\261@\\341\\336e\\007{\\022\\304\\017+<\\207\\014\\300\\360:\\275gD\\370a\\360\\222\\367K\\260\\370\\2016\\255\\256k\\267\\327P\\317u\\247\\351\\370\\230\\254r\\005&[\\206\\223he\\021\\014\\200\\335\\362\\006K\\001\\\\O\\214\\374Y\\361S\\343\\235\\370\\320\\374?\\241\\311\\\"}\\231D~\\037\\322\\031\\376\\305\\014\\351\\n\\223%\\315\\343\\201\\032\\252Nb\\221A\\013!\\214\\277\\226\\216\\321\\214\\2706\\375\\353\\332+U&\\254\\227\\242\\276\\276D\\316+m\\333\\321\\244\\365}u};\\036]\\361w\\301?\\006\\374\\027\\341X\\242\\262H<M\\252\\351\\026\\202k\\275e\\313.\\231h\\030\\020\\322\\250V\\\"F\\022L\\214\\033s8%G\\2300\\005y?\\213\\374=\\342\\237\\332\\213\\301\\267\\332\\364\\266\\2676{]\\204\\036)\\324\\243\\362\\321\\0244L\\217i\\001;\\230\\030\\376\\322\\244\\235\\250\\301\\241`\\356T\\347\\351\\013o\\201_\\017\\376\\rM\\037\\211>6\\370\\201|c\\342\\275@[>\\227\\340k\\010\\305\\315\\235\\244\\343\\355\\n\\255o\\004\\237z]\\342D\\373L\\333\\001\\r\\016\\0262\\3377\\211|m\\327\\356uO\\034Z\\377\\000\\302\\365\\361\\014zV\\205\\253\\356\\263\\321<\\035\\241\\007\\232I\\305\\303\\273[\\335\\025O\\236yBI\\013\\371j\\241\\000\\\\\\035\\343\\346\\256\\230\\326Ui\\276K\\273k\\314\\367}\\354\\272#\\232t\\234e\\357Y^\\312\\313[\\177\\231\\362\\335\\307\\206\\374\\025y\\241]x\\027\\341\\216\\241\\r\\315\\315\\225\\2217~-\\325\\330\\312\\032%m\\363<$\\201\\346${\\245\\234\\242l\\214(\\220\\347!\\263\\310~\\301?\\264\\316\\241c\\361CC\\375\\231\\343\\370ms\\342\\251-\\374c\\016\\265\\243=\\246\\247\\035\\253E\\253[<A\\356\\236W\\216D0\\307\\005\\232|\\252\\244\\203\\031\\031!\\231\\017y\\361\\217\\341\\272\\370\\207\\305\\227\\337\\024~3\\352c\\300\\376\\035\\275\\226Y\\241\\360\\204wh%\\021\\314\\000x.e_\\222%\\314\\214\\242$\\014v\\200\\013\\014\\340y\\327\\303\\177\\023\\277\\302\\237\\217\\361j\\266~\\030:U\\246\\243\\241\\335i\\272V\\2466\\3335\\262<\\350\\305\\3220\\271R\\014\\000\\256\\354\\023\\346\\243ck\\006>>;*\\216mR0o\\2256\\277\\035\\035\\277S\\321\\302\\346\\222\\313p\\365*F.M&\\354\\237T\\264\\371\\237\\244~:\\375\\231\\264\\317\\331\\353Q\\320\\377\\000n\\177\\t|G\\271\\327\\365\\177\\023\\370\\201\\223\\342\\214Z~\\222\\260i\\266\\367w\\022\\311%\\254\\260\\240\\335\\366x\\243c%\\241\\016\\357\\271\\346\\200\\215\\247r\\267\\330>=\\361-\\277\\305\\177\\016\\370g\\342\\022I\\255k\\326\\232\\265\\254:Z\\370gNDh~\\334#\\222H.\\237\\205\\347\\205\\334\\322?\\226\\005\\252\\214\\006o\\233\\347\\037\\331\\313\\301\\366?\\265\\027\\354?\\343\\277\\331r\\333ZKMZ\\377\\000I\\206\\363F\\220\\034G\\035\\345\\245\\302][p?\\207\\314\\211\\001\\3078\\'\\275C\\377\\000\\004\\357\\375\\267R\\304h\\036\\020\\232\\335\\237H\\276h\\316\\265\\251HL\\237e\\221\\320\\037%Tp\\322\\202T\\221\\374 \\200r\\304\\003\\354G\\'\\215<\\271\\320\\303^N\\203k[\\337\\225\\253\\257=\\356\\222]\\217\\237\\245\\235\\324y\\212\\304\\342\\332\\214k\\244\\333]$\\235\\276ZZ\\354\\374\\327\\360\\037\\300\\317\\003\\370\\037\\300\\021\\370\\253\\366\\236\\275\\323\\364+k\\353)/-m$\\324\\330\\334\\336\\306%\\2225\\216\\330\\301\\223\\366\\215\\366\\362\\206vY\\021\\004\\221\\034/\\336\\252\\367\\372\\037\\303\\373;\\235F\\037\\205>)K\\r\\026\\317K\\376\\322\\233\\304P\\350Ms5\\304\\003\\\\M0M\\022\\264\\301\\234\\264R\\264\\331|\\261\\007g\\007\\016-\\3703\\302Zt\\336\\001\\317\\355U\\004\\366\\321Ah\\326\\272]\\325\\371\\212{\\317 I,\\253\\024S$\\351\\366Y\\274\\313\\213\\207R\\377\\000lY7\\000\\326\\307\\354\\350$MS\\366\\200\\370c\\240h\\332\\266\\213\\340o\\2076P[\\334\\350\\322i\\267z\\236\\247,\\221[\\301n\\372\\240\\324<\\270\\243$:*J\\254\\201K\\307\\205 \\201\\316O\\201\\357=\\265\\374\\217a{=9\\273t\\357\\347\\372\\025\\374\\003\\3738\\371v\\367\\377\\000\\020\\257~9\\353\\366\\226\\2666\\261_j\\257\\256xIF\\350\\336Kh\\204\\3061xLH~\\320\\204\\223\\363\\203\\034\\237.\\002n\\352/\\342\\360=\\256\\265\\017\\205\\027\\305\\3677z,\\367\\006\\307R\\324d\\321\\036\\021n\\355uyl\\310\\2409Y\\301[I]|\\267\\301\\033\\200\\301\\014\\243\\317lu/\\212\\177\\020\\365\\035~\\352\\307C\\272\\276\\265\\3264x\\264\\313{\\215n\\367\\310\\267\\206$\\226\\322ex\\242\\330<\\311\\014\\266\\253\\206\\n\\221\\224\\221\\306\\374\\340\\257=\\343\\337\\025|2\\321u\\355WX\\261\\265\\270\\3617\\211\\365{\\251\\010\\271\\206}\\366\\266\\260\\312\\262E$aJ\\371{q:|\\344H\\361\\230\\376V\\376*\\236Ok+7sj8\\210\\303C\\351O\\204?\\263O\\2004-\\016\\332\\356\\313\\305\\332\\214\\362\\353\\332\\014\\232\\226\\247\\034\\332By0C\\004\\227+p\\251\\272`\\256\\310\\266\\363\\311\\206\\332\\034.\\320\\303\\200\\332~\\032\\375\\233\\374+\\247\\353\\332}\\367\\204\\257\\2564\\273\\215RH\\3554ccb\\306\\035J\\341\\341>d\\007\\315eUX\\3460\\303&\\326\\332\\032M\\340\\220\\270\\037*\\351_\\265\\357\\355\\007\\027\\212\\364\\373\\355\\004E\\177-\\246\\237\\177isn\\020\\312\\223Cusp\\363\\2233\\363\\034\\333/&M\\373\\233\\200\\245UNs\\351\\332G\\374\\024A\\276\\036\\330YK\\343?\\n\\0356M2\\3626\\360\\365\\225\\236\\255\\375\\243%\\225\\304q\\306\\246wG\\0007\\\"9\\016\\350\\3232\\005(U\\003FrX%\\026\\254\\226\\233\\035\\261\\305)|\\367>\\237\\323>\\023\\330jI%\\306\\233\\342\\231\\025lt\\367\\227Ts\\244\\242}\\237\\375\\002{\\350\\220\\240\\231\\214\\212\\342\\031\\320\\223\\263n\\007\\312\\300\\200:\\275+\\340\\257\\206u\\037\\031\\315\\340\\353?\\037\\314\\317d\\350eY<>\\177w\\346\\\\Z[\\243\\210\\304\\340:\\263\\334\\034\\200\\031\\261\\0160\\305\\206~y\\360\\357\\374\\024/\\340~\\237\\245\\334\\337\\307\\257\\\\i0j:z\\333\\204\\324\\354\\'Y%aesd\\035q\\021gq\\025\\304\\215\\220\\303,:\\220\\024/a\\245~\\331\\377\\000\\014\\'\\276\\324\\274[\\240k\\320\\3016\\253h\\317s\\250_\\013\\250\\036(\\255\\331.\\377\\000v\\310\\212\\340\\004\\262\\007\\206\\007\\226\\013\\203\\265\\227G\\205\\255}\\020*\\364SI\\365~g\\242\\370+\\300Px\\253]\\323\\264W\\326%\\207\\355\\232\\333i\\263Kknf\\206\\003\\210\\326\\'\\334\\243c\\t\\003I\\217\\234\\347\\310c\\236kkI\\370}\\243\\351\\376\\032\\275\\327o\\265\\033\\230\\'\\323\\357ml\\356\\355f\\260$\\254\\256%,$\\375\\3622*\\010\\335X\\205-\\234\\340\\020\\006|WI\\377\\000\\202\\201\\374*\\203\\3052\\352\\326^0\\376\\326\\226\\307]\\265\\324\\237O\\323,g\\026\\353q\\r\\304\\363\\017,\\311\\020\\217\\312\\r4\\240l|\\001!\\371\\230\\020W\\320|\\027\\373Bj?\\033\\374#s}\\360\\273\\341\\235\\306\\247\\366\\304\\212V\\326umG\\373>\\033\\253\\353l\\307\\373\\326\\2103\\\\\\244\\260\\335\\\\y\\222\\300\\\\\\271\\203a\\362\\344\\220\\314\\244\\260\\265\\242\\223kF\\312\\205Jm\\264\\236\\247qi\\340\\2215\\376\\203\\246\\351\\372\\273\\310u\\253\\210-c\\216\\346\\325mYgf\\t\\367\\025\\230\\274d\\311\\030\\337\\201\\270\\253\\001\\310&\\272\\257\\000x\\\"O\\212\\016\\222|7\\361dw6\\\"\\345t\\326\\324\\r\\236\\321g|\\3532\\242I\\207#\\367b\\030\\314\\201dy\\020\\311\\0308\\007+\\347\\337\\002\\376\\\"\\333\\303\\341m?\\305~>\\261}[T\\323\\345\\212\\353MM=d[;h\\r\\244Wol\\341p\\267*\\202K\\226tv\\227\\347\\022\\034+*\\242w\\037\\014\\365i~\\036H\\277\\0074\\202\\354l\\346\\211\\346\\3204\\3512\\320\\336YY\\213h\\304\\263\\267O\\231`2\\241e%\\020\\355\\214\\022Ct}M\\301J\\373\\245\\245\\254\\375}>d*\\352\\351mw\\257\\371\\027\\276\\037xM<\\033\\r\\366\\275\\342H\\356|C\\250\\177\\302?g\\342=\\n9\\254\\310\\202\\334Ml\\3174P:\\346 \\3613]\\307\\274fb\\210\\253#1ecGf\\231o\\255\\267\\200fS\\342mR\\336C\\245\\313\\243Z]\\0104\\353y#\\016\\270p\\273\\241\\211\\243Vi@r\\3238\\200\\000[h#K\\307\\037\\022\\365\\r?\\305M\\340\\237\\036=\\270\\322ax%\\265\\360\\217\\207Y\\335\\232\\007\\266\\227\\312\\216Gr\\245\\221&\\262U\\014\\306(\\330\\\\H\\031O\\230\\026\\270\\337\\211\\277\\026#\\262\\273\\265\\3264\\315:\\343L\\263k\\230\\364\\375>\\307\\303\\345\\004\\263\\355\\205\\232\\'\\023e<\\210e\\266\\324b)\\237/s1P\\315\\212\\353\\204eV|\\266K\\231-\\264\\326\\332\\177\\3010\\235HF.]\\236\\267\\327\\251\\332\\370\\312\\342O\\016x\\316\\317[\\361\\325\\344:\\335\\301\\202\\013\\210t->\\310\\301f\\'\\215H\\222o\\231\\235Q|\\321\\014\\312$f`C\\371{\\210\\300\\312\\370\\235\\342\\213\\237\\024Gi4\\261G{%\\314\\220\\305\\026\\203\\247]\\024\\267S\\215\\251\\347J\\240\\206q,\\263\\303\\264\\234n\\217\\036^Mc\\350~\\021\\370\\207\\361+P\\260\\322d\\265]:I/,\\256u\\013]9Y\\016LQ5\\323I; m\\322\\302\\246EP\\251\\264\\001\\202\\303$\\366\\336\\022\\360W\\302\\217\\006}\\233E\\361.\\275\\007\\210.t\\213{cubB\\230\\225\\224:\\231]\\244\\310f\\363\\242\\337\\320\\266\\365o\\273N\\\\\\264\\271[\\326Il\\273t\\333DBn\\243im}\\337s\\234\\360\\277\\204\\357>)i\\372.\\235\\250h\\353%\\224Oop\\326\\266\\270\\206\\325ce\\215\\274\\266T\\310\\224\\371\\021,G9\\000\\304N\\330\\337p\\256\\273D\\272\\370u\\340\\326\\216\\307B\\232]kS\\323\\341\\266\\267\\213Q0\\023\\010\\224\\tc\\332\\261\\240\\303\\310\\346\\'`\\252O\\315\\021\\'8\\305k\\035\\023\\307z\\236\\233}\\342\\377\\000\\032x\\256\\317J\\360\\370\\206)\\302\\013m\\211o\\014R\\335n\\227\\0143\\237$\\300\\312N\\356K\\000\\000<\\343\\370\\207\\342w\\202\\376\\022h\\362\\350\\236\\025\\266\\266\\323\\\\Z\\346\\373\\305z\\316\\300\\321\\306.\\277{r\\212\\376c4qMv\\362(\\223j/\\231\\225R\\244\\212\\315M\\327n\\2355~\\3117o;\\273k\\350>^E\\3177kn\\355w\\333\\344i\\330\\3706\\362\\323\\303S\\374E\\370\\303\\342\\233\\253v\\235X\\305i\\274y\\362\\306\\263\\3342\\252\\024 \\0172\\026\\203\\010\\212$\\r\\027\\336$\\2209\\377\\000\\022|[\\261\\321\\332\\317\\302\\032\\035\\332x\\177NMi\\r\\244ZTm-\\366\\246\\361\\336\\251F\\2124\\033\\344c\\022\\275\\303\\306\\001r\\021\\224\\344\\006\\315\\r\\037\\341\\367\\305\\317\\212\\032\\224^,\\362\\223C\\263\\014\\363\\235k\\305V\\317qz\\360y\\301\\313\\333\\302\\316\\004E.v\\240Y\\207\\226\\212~Tu!j\\366\\217\\342\\277\\004|2\\262\\271\\262\\370\\'\\341;\\235wS{uK\\337\\030\\3537!m\\357\\243&\\t\\021\\326p\\237\\277|4\\370\\216\\004X\\003\\0343DMM\\342\\245\\253\\347\\225\\372|1\\377\\000\\206\\362\\273\\0134\\225\\275\\325oV\\377\\000\\256\\244~\\016\\370C\\2546\\204\\376<\\370\\327\\255\\037\\013\\351\\360\\306\\2636\\227\\r\\314qL\\217\\024\\3600in\\201,\\214\\t\\213\\036S\\207\\304\\247\\346\\034\\212\\245?\\304\\233\\375\\177@\\237\\303\\337\\0134\\270<\\025\\340\\250\\003\\001\\257&\\233\\233\\273\\350\\002\\304\\346Kh\\234\\017$\\2435\\324E\\245G\\371\\220|\\204\\014\\325\\033\\305\\217\\342\\017\\212\\257t\\273o\\023\\315\\343\\277\\024Y3\\333j\\017f\\245l4\\246\\036_\\357!\\340\\303\\000hLW`\\356\\226\\345\\2432\\0043y;\\007M\\343\\177\\014xg\\341\\336\\245&\\243\\373EjC\\3047\\215%\\323h\\237\\017\\364[d\\202\\315\\244U2\\233\\177,\\2372\\351Z@\\341\\232w\\362\\000\\237q\\2156\\251\\030\\324\\233r\\265OzW\\272KKz-\\276l\\332\\tE&\\264OF\\336\\267\\371\\356p\\276\\033\\370e\\254x\\362\\362[O\\200\\372\\204q[\\315+\\215K\\342V\\253jnci\\341\\225\\341K\\210\\213\\225\\027\\315\\275!!\\203\\010\\343\\022p\\177w\\345\\2374\\370\\375\\254x\\003\\340^\\257t\\237\\0164)<a\\343i\\344k}o\\304:\\265\\337\\233-\\23666\\'\\224\\000\\220\\252\\241\\371m!\\362\\376V\\005W\\034\\327\\241\\374}\\370\\273{\\342\\315*\\346\\316\\363[\\177\\017hww\\022\\333i\\336\\034\\322\\257]n\\365$L+\\333\\274\\260\\340\\237\\335\\335[\\277\\225\\010\\007\\344s\\346:\\243\\001\\301x\\203\\366u\\361~\\243\\360\\335\\365\\317\\216\\032\\365\\267\\303O\\010\\306\\277h\\213M\\267\\t\\005\\364\\250\\246F\\006\\352i\\001[O\\336Mp\\nG\\231\\031^<\\264N\\225\\2656\\251MJ\\274\\265{Eo\\353\\347\\257W\\241\\225D\\247\\027\\032J\\311-_K=\\277\\255\\317\\216\\376?\\350z\\237\\304\\306\\265\\277\\360\\344R\\370\\213\\305+\\345N\\352\\240\\2104\\370\\2453G&\\340?uj\\211%\\241\\221K~\\365\\226\\345Ag\\332\\246\\256\\335\\374&\\360\\267\\204\\364\\335&O\\212\\232\\315\\337\\2135X$\\211\\342\\321\\342M\\252\\020$\\0201\\212\\334u\\331\\014Q~\\365\\362\\027\\313V\\312\\214c\\323<Oy\\246_xz_\\006|.\\322\\242\\360\\007\\203\\340iU5\\rZ\\022\\232\\205\\3142J\\312\\327I\\003\\202\\312\\313\\275]\\236r\\3222\\211\\t\\007n\\343\\346\\237\\005\\256\\265\\213\\264\\324m~\\033\\370mM\\216\\241\\\"\\275\\327\\2115\\271]\\342\\232E\\231D\\222\\003\\273}\\3334Ms\\001\\nvbf\\033\\324\\201]qn\\375\\354\\377\\000\\007\\347\\273\\371hr\\257uk\\242\\356\\274\\227o3\\351/\\330\\267\\342\\336\\267\\340\\037\\030\\351\\276#\\326\\264\\373})^\\004\\222\\342\\336\\033\\242\\360\\300\\010\\303\\240s\\330s\\364\\343\\265w\\377\\000\\264\\'\\300\\375\\037\\340\\357\\305\\035\\017\\366\\243\\370-\\250\\264>\\003\\3615\\365\\365\\355\\356\\225{p\\221\\333\\351z\\304\\203\\355\\022J\\205\\335]\\341\\270\\217\\317\\221Sn 0\\311\\207\\021\\312\\250\\237-\\351\\332^\\223\\341}\\002\\361,u\\355S_\\274\\322n\\021\\265\\307h\\312\\332\\201\\030\\310\\200\\020v\\200\\357,YH\\225\\202\\3713y\\230\\030\\317\\326\\377\\000\\003\\264\\375#\\366\\304\\375\\237\\245\\370#\\343\\357\\032C\\245\\353rj\\226\\027zn\\255$-<qMm*L \\020\\211\\020\\312\\222*<m\\031=\\030\\261\\334V\\275\\252n\\024\\232\\305s;|3K[\\253uK\\252\\336\\375\\017\\230\\304\\306\\242\\255,\\\"\\212\\263jQoKl\\364\\374\\177\\340\\037\\377\\331\"\n",
            "      }\n",
            "    }\n",
            "  }\n",
            "  feature {\n",
            "    key: \"input_ids\"\n",
            "    value {\n",
            "      bytes_list {\n",
            "        value: \"e\\000\\000\\000\\323\\007\\000\\000\\347\\007\\000\\000\\r\\004\\000\\000\\307_\\000\\000V,\\000\\000\\005\\004\\000\\000f\\000\\000\\000\\000\\000\\000\\000\\000\\000\\000\\000\\000\\000\\000\\000\\000\\000\\000\\000\\000\\000\\000\\000\\000\\000\\000\\000\\000\\000\\000\\000\\000\\000\\000\\000\\000\\000\\000\\000\\000\\000\\000\\000\\000\\000\\000\\000\\000\\000\\000\\000\\000\\000\\000\\000\\000\\000\\000\\000\\000\\000\\000\\000\\000\\000\\000\\000\"\n",
            "      }\n",
            "    }\n",
            "  }\n",
            "  feature {\n",
            "    key: \"question\"\n",
            "    value {\n",
            "      bytes_list {\n",
            "        value: \"Is this a creamy soup?\"\n",
            "      }\n",
            "    }\n",
            "  }\n",
            "  feature {\n",
            "    key: \"token_type_ids\"\n",
            "    value {\n",
            "      bytes_list {\n",
            "        value: \"\\000\\000\\000\\000\\000\\000\\000\\000\\000\\000\\000\\000\\000\\000\\000\\000\\000\\000\\000\\000\\000\\000\\000\\000\\000\\000\\000\\000\\000\\000\\000\\000\\000\\000\\000\\000\\000\\000\\000\\000\\000\\000\\000\\000\\000\\000\\000\\000\\000\\000\\000\\000\\000\\000\\000\\000\\000\\000\\000\\000\\000\\000\\000\\000\\000\\000\\000\\000\\000\\000\\000\\000\\000\\000\\000\\000\\000\\000\\000\\000\\000\\000\\000\\000\\000\\000\\000\\000\\000\\000\\000\\000\\000\\000\\000\\000\"\n",
            "      }\n",
            "    }\n",
            "  }\n",
            "}\n",
            "\n"
          ],
          "name": "stdout"
        }
      ]
    },
    {
      "cell_type": "code",
      "metadata": {
        "id": "YhRN5pKG3so2",
        "outputId": "67fdefd2-fe8a-44f6-c0c0-6aa21afdc4bc",
        "colab": {
          "base_uri": "https://localhost:8080/"
        }
      },
      "source": [
        "# Create a dictionary describing the features.\n",
        "image_features={\n",
        "    'image_raw': tf.io.FixedLenFeature([], tf.string), \n",
        "    'question' : tf.io.FixedLenFeature([], tf.string),\n",
        "    'input_ids': tf.io.FixedLenFeature([], tf.string),\n",
        "    'token_type_ids': tf.io.FixedLenFeature([], tf.string),\n",
        "    'attention_mask': tf.io.FixedLenFeature([], tf.string), \n",
        "    'answer': tf.io.FixedLenFeature([], tf.int64)\n",
        "}\n",
        "\n",
        "def _parse_image_function(example_proto):\n",
        "  # Parse the input tf.train.Example proto using the dictionary above.\n",
        "  return tf.io.parse_single_example(example_proto, image_features)\n",
        "\n",
        "parsed_image_dataset = raw_dataset.map(_parse_image_function)\n",
        "parsed_image_dataset"
      ],
      "execution_count": 66,
      "outputs": [
        {
          "output_type": "execute_result",
          "data": {
            "text/plain": [
              "<MapDataset shapes: {answer: (), attention_mask: (), image_raw: (), input_ids: (), question: (), token_type_ids: ()}, types: {answer: tf.int64, attention_mask: tf.string, image_raw: tf.string, input_ids: tf.string, question: tf.string, token_type_ids: tf.string}>"
            ]
          },
          "metadata": {
            "tags": []
          },
          "execution_count": 66
        }
      ]
    },
    {
      "cell_type": "code",
      "metadata": {
        "id": "qaURptBM5TwT",
        "outputId": "3f04cfc5-5dc9-459b-d937-4ca87c29e19d",
        "colab": {
          "base_uri": "https://localhost:8080/",
          "height": 295
        }
      },
      "source": [
        "for image_features in parsed_image_dataset:\n",
        "    img = tf.io.decode_jpeg(image_features['image_raw'], 3)\n",
        "    plt.imshow(img)\n",
        "    plt.title(image_features['question'].numpy().decode('utf-8'))\n",
        "    plt.xlabel(top_answers[image_features['answer'].numpy()])\n",
        "    break"
      ],
      "execution_count": 67,
      "outputs": [
        {
          "output_type": "display_data",
          "data": {
            "image/png": "[encoded data removed]",
            "text/plain": [
              "<Figure size 432x288 with 1 Axes>"
            ]
          },
          "metadata": {
            "tags": [],
            "needs_background": "light"
          }
        }
      ]
    },
    {
      "cell_type": "code",
      "metadata": {
        "id": "9zFzIWhfs55B",
        "outputId": "d825b432-5039-483d-8272-ea90bd16ac2d",
        "colab": {
          "base_uri": "https://localhost:8080/"
        }
      },
      "source": [
        "type(image_features['question']) #.numpy().decode('utf-8'))"
      ],
      "execution_count": 68,
      "outputs": [
        {
          "output_type": "execute_result",
          "data": {
            "text/plain": [
              "tensorflow.python.framework.ops.EagerTensor"
            ]
          },
          "metadata": {
            "tags": []
          },
          "execution_count": 68
        }
      ]
    },
    {
      "cell_type": "code",
      "metadata": {
        "id": "sjTucqPJtFzu",
        "outputId": "4323c18a-fd37-4032-fd9d-460008a4d63f",
        "colab": {
          "base_uri": "https://localhost:8080/"
        }
      },
      "source": [
        "from google.colab import drive\n",
        "drive.mount('/content/drive', force_remount=False)"
      ],
      "execution_count": 69,
      "outputs": [
        {
          "output_type": "stream",
          "text": [
            "Drive already mounted at /content/drive; to attempt to forcibly remount, call drive.mount(\"/content/drive\", force_remount=True).\n"
          ],
          "name": "stdout"
        }
      ]
    },
    {
      "cell_type": "code",
      "metadata": {
        "id": "CUO-GCbxtGyo"
      },
      "source": [
        "!cp -r /content/data/train2014_tf \"/content/drive/My Drive/Practicum2Data\"\n",
        "#!cp -r /content/data/val2014_tf \"/content/drive/My Drive/Practicum2Data\""
      ],
      "execution_count": 74,
      "outputs": []
    },
    {
      "cell_type": "code",
      "metadata": {
        "id": "ZdQZWmnP-5iw"
      },
      "source": [
        "#shutil.rmtree('/content/data/train2014_tf')\n",
        "#shutil.rmtree('/content/data/val2014_tf')\n"
      ],
      "execution_count": 59,
      "outputs": []
    },
    {
      "cell_type": "code",
      "metadata": {
        "id": "mcoFmQCjBrtr"
      },
      "source": [
        "#shutil.rmtree('/content/drive/My Drive/Practicum2Data/val2014_tf')\n",
        "#shutil.rmtree('/content/drive/My Drive/Practicum2Data/train2014_tf')"
      ],
      "execution_count": 71,
      "outputs": []
    },
    {
      "cell_type": "code",
      "metadata": {
        "id": "5oDdwwsCEjnj"
      },
      "source": [
        ""
      ],
      "execution_count": null,
      "outputs": []
    }
  ]
}