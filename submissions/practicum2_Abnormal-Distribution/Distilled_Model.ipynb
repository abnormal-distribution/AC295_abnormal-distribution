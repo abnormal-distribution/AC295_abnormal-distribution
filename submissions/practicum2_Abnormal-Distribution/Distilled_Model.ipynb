{
  "nbformat": 4,
  "nbformat_minor": 0,
  "metadata": {
    "colab": {
      "name": "Distilled_Model.ipynb",
      "provenance": [],
      "collapsed_sections": [
        "86C4-p4lR6jE",
        "3idRbhCy12h9",
        "tAIWevAc2XYI",
        "SPWyyDZ90yFT"
      ],
      "toc_visible": true,
      "machine_shape": "hm"
    },
    "kernelspec": {
      "name": "python3",
      "display_name": "Python 3"
    },
    "accelerator": "GPU",
    "widgets": {
      "application/vnd.jupyter.widget-state+json": {
        "5a4dc1d36f0d46658ae0295261ba6f3e": {
          "model_module": "@jupyter-widgets/controls",
          "model_name": "HBoxModel",
          "state": {
            "_view_name": "HBoxView",
            "_dom_classes": [],
            "_model_name": "HBoxModel",
            "_view_module": "@jupyter-widgets/controls",
            "_model_module_version": "1.5.0",
            "_view_count": null,
            "_view_module_version": "1.5.0",
            "box_style": "",
            "layout": "IPY_MODEL_a3de2c666ef848fa84849bad3f37769c",
            "_model_module": "@jupyter-widgets/controls",
            "children": [
              "IPY_MODEL_8cdc3126a23e413fae58dfb6197a9a13",
              "IPY_MODEL_d4f3dac8d5564ea98b30d898ffd2a2fc"
            ]
          }
        },
        "a3de2c666ef848fa84849bad3f37769c": {
          "model_module": "@jupyter-widgets/base",
          "model_name": "LayoutModel",
          "state": {
            "_view_name": "LayoutView",
            "grid_template_rows": null,
            "right": null,
            "justify_content": null,
            "_view_module": "@jupyter-widgets/base",
            "overflow": null,
            "_model_module_version": "1.2.0",
            "_view_count": null,
            "flex_flow": null,
            "width": null,
            "min_width": null,
            "border": null,
            "align_items": null,
            "bottom": null,
            "_model_module": "@jupyter-widgets/base",
            "top": null,
            "grid_column": null,
            "overflow_y": null,
            "overflow_x": null,
            "grid_auto_flow": null,
            "grid_area": null,
            "grid_template_columns": null,
            "flex": null,
            "_model_name": "LayoutModel",
            "justify_items": null,
            "grid_row": null,
            "max_height": null,
            "align_content": null,
            "visibility": null,
            "align_self": null,
            "height": null,
            "min_height": null,
            "padding": null,
            "grid_auto_rows": null,
            "grid_gap": null,
            "max_width": null,
            "order": null,
            "_view_module_version": "1.2.0",
            "grid_template_areas": null,
            "object_position": null,
            "object_fit": null,
            "grid_auto_columns": null,
            "margin": null,
            "display": null,
            "left": null
          }
        },
        "8cdc3126a23e413fae58dfb6197a9a13": {
          "model_module": "@jupyter-widgets/controls",
          "model_name": "FloatProgressModel",
          "state": {
            "_view_name": "ProgressView",
            "style": "IPY_MODEL_8029f166d08e47b8b83168cb97f5592f",
            "_dom_classes": [],
            "description": "Downloading: 100%",
            "_model_name": "FloatProgressModel",
            "bar_style": "success",
            "max": 433,
            "_view_module": "@jupyter-widgets/controls",
            "_model_module_version": "1.5.0",
            "value": 433,
            "_view_count": null,
            "_view_module_version": "1.5.0",
            "orientation": "horizontal",
            "min": 0,
            "description_tooltip": null,
            "_model_module": "@jupyter-widgets/controls",
            "layout": "IPY_MODEL_1c1d0be6d81d4aca9a580326f8e3efc4"
          }
        },
        "d4f3dac8d5564ea98b30d898ffd2a2fc": {
          "model_module": "@jupyter-widgets/controls",
          "model_name": "HTMLModel",
          "state": {
            "_view_name": "HTMLView",
            "style": "IPY_MODEL_980d22bb703146c8a294f13920705d86",
            "_dom_classes": [],
            "description": "",
            "_model_name": "HTMLModel",
            "placeholder": "​",
            "_view_module": "@jupyter-widgets/controls",
            "_model_module_version": "1.5.0",
            "value": " 433/433 [00:07&lt;00:00, 60.4B/s]",
            "_view_count": null,
            "_view_module_version": "1.5.0",
            "description_tooltip": null,
            "_model_module": "@jupyter-widgets/controls",
            "layout": "IPY_MODEL_3d6d8ca60de8431fa7688d17e444ca92"
          }
        },
        "8029f166d08e47b8b83168cb97f5592f": {
          "model_module": "@jupyter-widgets/controls",
          "model_name": "ProgressStyleModel",
          "state": {
            "_view_name": "StyleView",
            "_model_name": "ProgressStyleModel",
            "description_width": "initial",
            "_view_module": "@jupyter-widgets/base",
            "_model_module_version": "1.5.0",
            "_view_count": null,
            "_view_module_version": "1.2.0",
            "bar_color": null,
            "_model_module": "@jupyter-widgets/controls"
          }
        },
        "1c1d0be6d81d4aca9a580326f8e3efc4": {
          "model_module": "@jupyter-widgets/base",
          "model_name": "LayoutModel",
          "state": {
            "_view_name": "LayoutView",
            "grid_template_rows": null,
            "right": null,
            "justify_content": null,
            "_view_module": "@jupyter-widgets/base",
            "overflow": null,
            "_model_module_version": "1.2.0",
            "_view_count": null,
            "flex_flow": null,
            "width": null,
            "min_width": null,
            "border": null,
            "align_items": null,
            "bottom": null,
            "_model_module": "@jupyter-widgets/base",
            "top": null,
            "grid_column": null,
            "overflow_y": null,
            "overflow_x": null,
            "grid_auto_flow": null,
            "grid_area": null,
            "grid_template_columns": null,
            "flex": null,
            "_model_name": "LayoutModel",
            "justify_items": null,
            "grid_row": null,
            "max_height": null,
            "align_content": null,
            "visibility": null,
            "align_self": null,
            "height": null,
            "min_height": null,
            "padding": null,
            "grid_auto_rows": null,
            "grid_gap": null,
            "max_width": null,
            "order": null,
            "_view_module_version": "1.2.0",
            "grid_template_areas": null,
            "object_position": null,
            "object_fit": null,
            "grid_auto_columns": null,
            "margin": null,
            "display": null,
            "left": null
          }
        },
        "980d22bb703146c8a294f13920705d86": {
          "model_module": "@jupyter-widgets/controls",
          "model_name": "DescriptionStyleModel",
          "state": {
            "_view_name": "StyleView",
            "_model_name": "DescriptionStyleModel",
            "description_width": "",
            "_view_module": "@jupyter-widgets/base",
            "_model_module_version": "1.5.0",
            "_view_count": null,
            "_view_module_version": "1.2.0",
            "_model_module": "@jupyter-widgets/controls"
          }
        },
        "3d6d8ca60de8431fa7688d17e444ca92": {
          "model_module": "@jupyter-widgets/base",
          "model_name": "LayoutModel",
          "state": {
            "_view_name": "LayoutView",
            "grid_template_rows": null,
            "right": null,
            "justify_content": null,
            "_view_module": "@jupyter-widgets/base",
            "overflow": null,
            "_model_module_version": "1.2.0",
            "_view_count": null,
            "flex_flow": null,
            "width": null,
            "min_width": null,
            "border": null,
            "align_items": null,
            "bottom": null,
            "_model_module": "@jupyter-widgets/base",
            "top": null,
            "grid_column": null,
            "overflow_y": null,
            "overflow_x": null,
            "grid_auto_flow": null,
            "grid_area": null,
            "grid_template_columns": null,
            "flex": null,
            "_model_name": "LayoutModel",
            "justify_items": null,
            "grid_row": null,
            "max_height": null,
            "align_content": null,
            "visibility": null,
            "align_self": null,
            "height": null,
            "min_height": null,
            "padding": null,
            "grid_auto_rows": null,
            "grid_gap": null,
            "max_width": null,
            "order": null,
            "_view_module_version": "1.2.0",
            "grid_template_areas": null,
            "object_position": null,
            "object_fit": null,
            "grid_auto_columns": null,
            "margin": null,
            "display": null,
            "left": null
          }
        },
        "2674b4ec392340319361b57157ba3639": {
          "model_module": "@jupyter-widgets/controls",
          "model_name": "HBoxModel",
          "state": {
            "_view_name": "HBoxView",
            "_dom_classes": [],
            "_model_name": "HBoxModel",
            "_view_module": "@jupyter-widgets/controls",
            "_model_module_version": "1.5.0",
            "_view_count": null,
            "_view_module_version": "1.5.0",
            "box_style": "",
            "layout": "IPY_MODEL_033cc92e09874d36b7968b9760813708",
            "_model_module": "@jupyter-widgets/controls",
            "children": [
              "IPY_MODEL_9cf95f1567fb48da8957bc2336144bf6",
              "IPY_MODEL_7fa844c8e8cf472694a126556355b12c"
            ]
          }
        },
        "033cc92e09874d36b7968b9760813708": {
          "model_module": "@jupyter-widgets/base",
          "model_name": "LayoutModel",
          "state": {
            "_view_name": "LayoutView",
            "grid_template_rows": null,
            "right": null,
            "justify_content": null,
            "_view_module": "@jupyter-widgets/base",
            "overflow": null,
            "_model_module_version": "1.2.0",
            "_view_count": null,
            "flex_flow": null,
            "width": null,
            "min_width": null,
            "border": null,
            "align_items": null,
            "bottom": null,
            "_model_module": "@jupyter-widgets/base",
            "top": null,
            "grid_column": null,
            "overflow_y": null,
            "overflow_x": null,
            "grid_auto_flow": null,
            "grid_area": null,
            "grid_template_columns": null,
            "flex": null,
            "_model_name": "LayoutModel",
            "justify_items": null,
            "grid_row": null,
            "max_height": null,
            "align_content": null,
            "visibility": null,
            "align_self": null,
            "height": null,
            "min_height": null,
            "padding": null,
            "grid_auto_rows": null,
            "grid_gap": null,
            "max_width": null,
            "order": null,
            "_view_module_version": "1.2.0",
            "grid_template_areas": null,
            "object_position": null,
            "object_fit": null,
            "grid_auto_columns": null,
            "margin": null,
            "display": null,
            "left": null
          }
        },
        "9cf95f1567fb48da8957bc2336144bf6": {
          "model_module": "@jupyter-widgets/controls",
          "model_name": "FloatProgressModel",
          "state": {
            "_view_name": "ProgressView",
            "style": "IPY_MODEL_f4b4df1914144815aa46186b84fa75e3",
            "_dom_classes": [],
            "description": "Downloading: 100%",
            "_model_name": "FloatProgressModel",
            "bar_style": "success",
            "max": 536063208,
            "_view_module": "@jupyter-widgets/controls",
            "_model_module_version": "1.5.0",
            "value": 536063208,
            "_view_count": null,
            "_view_module_version": "1.5.0",
            "orientation": "horizontal",
            "min": 0,
            "description_tooltip": null,
            "_model_module": "@jupyter-widgets/controls",
            "layout": "IPY_MODEL_67f160001b824e7ba624c4373840eaa5"
          }
        },
        "7fa844c8e8cf472694a126556355b12c": {
          "model_module": "@jupyter-widgets/controls",
          "model_name": "HTMLModel",
          "state": {
            "_view_name": "HTMLView",
            "style": "IPY_MODEL_3656bdbbd4de49d28e8600fad1ba6d86",
            "_dom_classes": [],
            "description": "",
            "_model_name": "HTMLModel",
            "placeholder": "​",
            "_view_module": "@jupyter-widgets/controls",
            "_model_module_version": "1.5.0",
            "value": " 536M/536M [00:06&lt;00:00, 80.1MB/s]",
            "_view_count": null,
            "_view_module_version": "1.5.0",
            "description_tooltip": null,
            "_model_module": "@jupyter-widgets/controls",
            "layout": "IPY_MODEL_25d40a130d1c4e58a73c0c302603054d"
          }
        },
        "f4b4df1914144815aa46186b84fa75e3": {
          "model_module": "@jupyter-widgets/controls",
          "model_name": "ProgressStyleModel",
          "state": {
            "_view_name": "StyleView",
            "_model_name": "ProgressStyleModel",
            "description_width": "initial",
            "_view_module": "@jupyter-widgets/base",
            "_model_module_version": "1.5.0",
            "_view_count": null,
            "_view_module_version": "1.2.0",
            "bar_color": null,
            "_model_module": "@jupyter-widgets/controls"
          }
        },
        "67f160001b824e7ba624c4373840eaa5": {
          "model_module": "@jupyter-widgets/base",
          "model_name": "LayoutModel",
          "state": {
            "_view_name": "LayoutView",
            "grid_template_rows": null,
            "right": null,
            "justify_content": null,
            "_view_module": "@jupyter-widgets/base",
            "overflow": null,
            "_model_module_version": "1.2.0",
            "_view_count": null,
            "flex_flow": null,
            "width": null,
            "min_width": null,
            "border": null,
            "align_items": null,
            "bottom": null,
            "_model_module": "@jupyter-widgets/base",
            "top": null,
            "grid_column": null,
            "overflow_y": null,
            "overflow_x": null,
            "grid_auto_flow": null,
            "grid_area": null,
            "grid_template_columns": null,
            "flex": null,
            "_model_name": "LayoutModel",
            "justify_items": null,
            "grid_row": null,
            "max_height": null,
            "align_content": null,
            "visibility": null,
            "align_self": null,
            "height": null,
            "min_height": null,
            "padding": null,
            "grid_auto_rows": null,
            "grid_gap": null,
            "max_width": null,
            "order": null,
            "_view_module_version": "1.2.0",
            "grid_template_areas": null,
            "object_position": null,
            "object_fit": null,
            "grid_auto_columns": null,
            "margin": null,
            "display": null,
            "left": null
          }
        },
        "3656bdbbd4de49d28e8600fad1ba6d86": {
          "model_module": "@jupyter-widgets/controls",
          "model_name": "DescriptionStyleModel",
          "state": {
            "_view_name": "StyleView",
            "_model_name": "DescriptionStyleModel",
            "description_width": "",
            "_view_module": "@jupyter-widgets/base",
            "_model_module_version": "1.5.0",
            "_view_count": null,
            "_view_module_version": "1.2.0",
            "_model_module": "@jupyter-widgets/controls"
          }
        },
        "25d40a130d1c4e58a73c0c302603054d": {
          "model_module": "@jupyter-widgets/base",
          "model_name": "LayoutModel",
          "state": {
            "_view_name": "LayoutView",
            "grid_template_rows": null,
            "right": null,
            "justify_content": null,
            "_view_module": "@jupyter-widgets/base",
            "overflow": null,
            "_model_module_version": "1.2.0",
            "_view_count": null,
            "flex_flow": null,
            "width": null,
            "min_width": null,
            "border": null,
            "align_items": null,
            "bottom": null,
            "_model_module": "@jupyter-widgets/base",
            "top": null,
            "grid_column": null,
            "overflow_y": null,
            "overflow_x": null,
            "grid_auto_flow": null,
            "grid_area": null,
            "grid_template_columns": null,
            "flex": null,
            "_model_name": "LayoutModel",
            "justify_items": null,
            "grid_row": null,
            "max_height": null,
            "align_content": null,
            "visibility": null,
            "align_self": null,
            "height": null,
            "min_height": null,
            "padding": null,
            "grid_auto_rows": null,
            "grid_gap": null,
            "max_width": null,
            "order": null,
            "_view_module_version": "1.2.0",
            "grid_template_areas": null,
            "object_position": null,
            "object_fit": null,
            "grid_auto_columns": null,
            "margin": null,
            "display": null,
            "left": null
          }
        }
      }
    }
  },
  "cells": [
    {
      "cell_type": "markdown",
      "metadata": {
        "id": "Ch6vpxrwQdcc"
      },
      "source": [
        "<h1 style=\"padding-top: 25px;padding-bottom: 25px;text-align: left; padding-left: 10px; background-color: #DDDDDD; \n",
        "    color: black;\"> <img style=\"float: left; padding-right: 10px; width: 45px\" src=\"https://raw.githubusercontent.com/Harvard-IACS/2018-CS109A/master/content/styles/iacs.png\"> AC295: Advanced Practical Data Science </h1>\n",
        "\n",
        "## Practicum 2: Visual Question Answering\n",
        "\n",
        "**Harvard University, Fall 2020**  \n",
        "**Instructors**: Pavlos Protopapas  \n",
        "\n",
        "### **Team: $\\alpha\\beta normal$ $Distri\\beta ution$**\n",
        "#### **Roht Beri, Eduardo Peynetti, Jessica Wijaya, Stuart Neilson**"
      ]
    },
    {
      "cell_type": "markdown",
      "metadata": {
        "id": "86zGynCVRsdD"
      },
      "source": [
        "## Basic Model for Training"
      ]
    },
    {
      "cell_type": "markdown",
      "metadata": {
        "id": "86C4-p4lR6jE"
      },
      "source": [
        "### Install Packages"
      ]
    },
    {
      "cell_type": "code",
      "metadata": {
        "id": "LyGrRhuBwNJb",
        "outputId": "c9225b4d-994e-4338-f45d-29b7ebb45207",
        "colab": {
          "base_uri": "https://localhost:8080/"
        }
      },
      "source": [
        "!pip3 install transformers"
      ],
      "execution_count": 1,
      "outputs": [
        {
          "output_type": "stream",
          "text": [
            "Collecting transformers\n",
            "\u001b[?25l  Downloading https://files.pythonhosted.org/packages/3a/83/e74092e7f24a08d751aa59b37a9fc572b2e4af3918cb66f7766c3affb1b4/transformers-3.5.1-py3-none-any.whl (1.3MB)\n",
            "\r\u001b[K     |▎                               | 10kB 18.5MB/s eta 0:00:01\r\u001b[K     |▌                               | 20kB 24.6MB/s eta 0:00:01\r\u001b[K     |▊                               | 30kB 24.5MB/s eta 0:00:01\r\u001b[K     |█                               | 40kB 19.2MB/s eta 0:00:01\r\u001b[K     |█▎                              | 51kB 16.0MB/s eta 0:00:01\r\u001b[K     |█▌                              | 61kB 15.3MB/s eta 0:00:01\r\u001b[K     |█▊                              | 71kB 14.1MB/s eta 0:00:01\r\u001b[K     |██                              | 81kB 13.9MB/s eta 0:00:01\r\u001b[K     |██▎                             | 92kB 14.6MB/s eta 0:00:01\r\u001b[K     |██▌                             | 102kB 13.2MB/s eta 0:00:01\r\u001b[K     |██▊                             | 112kB 13.2MB/s eta 0:00:01\r\u001b[K     |███                             | 122kB 13.2MB/s eta 0:00:01\r\u001b[K     |███▎                            | 133kB 13.2MB/s eta 0:00:01\r\u001b[K     |███▌                            | 143kB 13.2MB/s eta 0:00:01\r\u001b[K     |███▉                            | 153kB 13.2MB/s eta 0:00:01\r\u001b[K     |████                            | 163kB 13.2MB/s eta 0:00:01\r\u001b[K     |████▎                           | 174kB 13.2MB/s eta 0:00:01\r\u001b[K     |████▌                           | 184kB 13.2MB/s eta 0:00:01\r\u001b[K     |████▉                           | 194kB 13.2MB/s eta 0:00:01\r\u001b[K     |█████                           | 204kB 13.2MB/s eta 0:00:01\r\u001b[K     |█████▎                          | 215kB 13.2MB/s eta 0:00:01\r\u001b[K     |█████▌                          | 225kB 13.2MB/s eta 0:00:01\r\u001b[K     |█████▉                          | 235kB 13.2MB/s eta 0:00:01\r\u001b[K     |██████                          | 245kB 13.2MB/s eta 0:00:01\r\u001b[K     |██████▎                         | 256kB 13.2MB/s eta 0:00:01\r\u001b[K     |██████▌                         | 266kB 13.2MB/s eta 0:00:01\r\u001b[K     |██████▉                         | 276kB 13.2MB/s eta 0:00:01\r\u001b[K     |███████                         | 286kB 13.2MB/s eta 0:00:01\r\u001b[K     |███████▎                        | 296kB 13.2MB/s eta 0:00:01\r\u001b[K     |███████▋                        | 307kB 13.2MB/s eta 0:00:01\r\u001b[K     |███████▉                        | 317kB 13.2MB/s eta 0:00:01\r\u001b[K     |████████                        | 327kB 13.2MB/s eta 0:00:01\r\u001b[K     |████████▎                       | 337kB 13.2MB/s eta 0:00:01\r\u001b[K     |████████▋                       | 348kB 13.2MB/s eta 0:00:01\r\u001b[K     |████████▉                       | 358kB 13.2MB/s eta 0:00:01\r\u001b[K     |█████████                       | 368kB 13.2MB/s eta 0:00:01\r\u001b[K     |█████████▎                      | 378kB 13.2MB/s eta 0:00:01\r\u001b[K     |█████████▋                      | 389kB 13.2MB/s eta 0:00:01\r\u001b[K     |█████████▉                      | 399kB 13.2MB/s eta 0:00:01\r\u001b[K     |██████████                      | 409kB 13.2MB/s eta 0:00:01\r\u001b[K     |██████████▎                     | 419kB 13.2MB/s eta 0:00:01\r\u001b[K     |██████████▋                     | 430kB 13.2MB/s eta 0:00:01\r\u001b[K     |██████████▉                     | 440kB 13.2MB/s eta 0:00:01\r\u001b[K     |███████████                     | 450kB 13.2MB/s eta 0:00:01\r\u001b[K     |███████████▍                    | 460kB 13.2MB/s eta 0:00:01\r\u001b[K     |███████████▋                    | 471kB 13.2MB/s eta 0:00:01\r\u001b[K     |███████████▉                    | 481kB 13.2MB/s eta 0:00:01\r\u001b[K     |████████████                    | 491kB 13.2MB/s eta 0:00:01\r\u001b[K     |████████████▍                   | 501kB 13.2MB/s eta 0:00:01\r\u001b[K     |████████████▋                   | 512kB 13.2MB/s eta 0:00:01\r\u001b[K     |████████████▉                   | 522kB 13.2MB/s eta 0:00:01\r\u001b[K     |█████████████                   | 532kB 13.2MB/s eta 0:00:01\r\u001b[K     |█████████████▍                  | 542kB 13.2MB/s eta 0:00:01\r\u001b[K     |█████████████▋                  | 552kB 13.2MB/s eta 0:00:01\r\u001b[K     |█████████████▉                  | 563kB 13.2MB/s eta 0:00:01\r\u001b[K     |██████████████                  | 573kB 13.2MB/s eta 0:00:01\r\u001b[K     |██████████████▍                 | 583kB 13.2MB/s eta 0:00:01\r\u001b[K     |██████████████▋                 | 593kB 13.2MB/s eta 0:00:01\r\u001b[K     |██████████████▉                 | 604kB 13.2MB/s eta 0:00:01\r\u001b[K     |███████████████▏                | 614kB 13.2MB/s eta 0:00:01\r\u001b[K     |███████████████▍                | 624kB 13.2MB/s eta 0:00:01\r\u001b[K     |███████████████▋                | 634kB 13.2MB/s eta 0:00:01\r\u001b[K     |███████████████▉                | 645kB 13.2MB/s eta 0:00:01\r\u001b[K     |████████████████▏               | 655kB 13.2MB/s eta 0:00:01\r\u001b[K     |████████████████▍               | 665kB 13.2MB/s eta 0:00:01\r\u001b[K     |████████████████▋               | 675kB 13.2MB/s eta 0:00:01\r\u001b[K     |████████████████▉               | 686kB 13.2MB/s eta 0:00:01\r\u001b[K     |█████████████████▏              | 696kB 13.2MB/s eta 0:00:01\r\u001b[K     |█████████████████▍              | 706kB 13.2MB/s eta 0:00:01\r\u001b[K     |█████████████████▋              | 716kB 13.2MB/s eta 0:00:01\r\u001b[K     |██████████████████              | 727kB 13.2MB/s eta 0:00:01\r\u001b[K     |██████████████████▏             | 737kB 13.2MB/s eta 0:00:01\r\u001b[K     |██████████████████▍             | 747kB 13.2MB/s eta 0:00:01\r\u001b[K     |██████████████████▋             | 757kB 13.2MB/s eta 0:00:01\r\u001b[K     |███████████████████             | 768kB 13.2MB/s eta 0:00:01\r\u001b[K     |███████████████████▏            | 778kB 13.2MB/s eta 0:00:01\r\u001b[K     |███████████████████▍            | 788kB 13.2MB/s eta 0:00:01\r\u001b[K     |███████████████████▋            | 798kB 13.2MB/s eta 0:00:01\r\u001b[K     |████████████████████            | 808kB 13.2MB/s eta 0:00:01\r\u001b[K     |████████████████████▏           | 819kB 13.2MB/s eta 0:00:01\r\u001b[K     |████████████████████▍           | 829kB 13.2MB/s eta 0:00:01\r\u001b[K     |████████████████████▋           | 839kB 13.2MB/s eta 0:00:01\r\u001b[K     |█████████████████████           | 849kB 13.2MB/s eta 0:00:01\r\u001b[K     |█████████████████████▏          | 860kB 13.2MB/s eta 0:00:01\r\u001b[K     |█████████████████████▍          | 870kB 13.2MB/s eta 0:00:01\r\u001b[K     |█████████████████████▊          | 880kB 13.2MB/s eta 0:00:01\r\u001b[K     |██████████████████████          | 890kB 13.2MB/s eta 0:00:01\r\u001b[K     |██████████████████████▏         | 901kB 13.2MB/s eta 0:00:01\r\u001b[K     |██████████████████████▍         | 911kB 13.2MB/s eta 0:00:01\r\u001b[K     |██████████████████████▊         | 921kB 13.2MB/s eta 0:00:01\r\u001b[K     |███████████████████████         | 931kB 13.2MB/s eta 0:00:01\r\u001b[K     |███████████████████████▏        | 942kB 13.2MB/s eta 0:00:01\r\u001b[K     |███████████████████████▍        | 952kB 13.2MB/s eta 0:00:01\r\u001b[K     |███████████████████████▊        | 962kB 13.2MB/s eta 0:00:01\r\u001b[K     |████████████████████████        | 972kB 13.2MB/s eta 0:00:01\r\u001b[K     |████████████████████████▏       | 983kB 13.2MB/s eta 0:00:01\r\u001b[K     |████████████████████████▍       | 993kB 13.2MB/s eta 0:00:01\r\u001b[K     |████████████████████████▊       | 1.0MB 13.2MB/s eta 0:00:01\r\u001b[K     |█████████████████████████       | 1.0MB 13.2MB/s eta 0:00:01\r\u001b[K     |█████████████████████████▏      | 1.0MB 13.2MB/s eta 0:00:01\r\u001b[K     |█████████████████████████▌      | 1.0MB 13.2MB/s eta 0:00:01\r\u001b[K     |█████████████████████████▊      | 1.0MB 13.2MB/s eta 0:00:01\r\u001b[K     |██████████████████████████      | 1.1MB 13.2MB/s eta 0:00:01\r\u001b[K     |██████████████████████████▏     | 1.1MB 13.2MB/s eta 0:00:01\r\u001b[K     |██████████████████████████▌     | 1.1MB 13.2MB/s eta 0:00:01\r\u001b[K     |██████████████████████████▊     | 1.1MB 13.2MB/s eta 0:00:01\r\u001b[K     |███████████████████████████     | 1.1MB 13.2MB/s eta 0:00:01\r\u001b[K     |███████████████████████████▏    | 1.1MB 13.2MB/s eta 0:00:01\r\u001b[K     |███████████████████████████▌    | 1.1MB 13.2MB/s eta 0:00:01\r\u001b[K     |███████████████████████████▊    | 1.1MB 13.2MB/s eta 0:00:01\r\u001b[K     |████████████████████████████    | 1.1MB 13.2MB/s eta 0:00:01\r\u001b[K     |████████████████████████████▏   | 1.1MB 13.2MB/s eta 0:00:01\r\u001b[K     |████████████████████████████▌   | 1.2MB 13.2MB/s eta 0:00:01\r\u001b[K     |████████████████████████████▊   | 1.2MB 13.2MB/s eta 0:00:01\r\u001b[K     |█████████████████████████████   | 1.2MB 13.2MB/s eta 0:00:01\r\u001b[K     |█████████████████████████████▎  | 1.2MB 13.2MB/s eta 0:00:01\r\u001b[K     |█████████████████████████████▌  | 1.2MB 13.2MB/s eta 0:00:01\r\u001b[K     |█████████████████████████████▊  | 1.2MB 13.2MB/s eta 0:00:01\r\u001b[K     |██████████████████████████████  | 1.2MB 13.2MB/s eta 0:00:01\r\u001b[K     |██████████████████████████████▎ | 1.2MB 13.2MB/s eta 0:00:01\r\u001b[K     |██████████████████████████████▌ | 1.2MB 13.2MB/s eta 0:00:01\r\u001b[K     |██████████████████████████████▊ | 1.2MB 13.2MB/s eta 0:00:01\r\u001b[K     |███████████████████████████████ | 1.3MB 13.2MB/s eta 0:00:01\r\u001b[K     |███████████████████████████████▎| 1.3MB 13.2MB/s eta 0:00:01\r\u001b[K     |███████████████████████████████▌| 1.3MB 13.2MB/s eta 0:00:01\r\u001b[K     |███████████████████████████████▊| 1.3MB 13.2MB/s eta 0:00:01\r\u001b[K     |████████████████████████████████| 1.3MB 13.2MB/s eta 0:00:01\r\u001b[K     |████████████████████████████████| 1.3MB 13.2MB/s \n",
            "\u001b[?25hRequirement already satisfied: tqdm>=4.27 in /usr/local/lib/python3.6/dist-packages (from transformers) (4.41.1)\n",
            "Requirement already satisfied: packaging in /usr/local/lib/python3.6/dist-packages (from transformers) (20.4)\n",
            "Collecting sentencepiece==0.1.91\n",
            "\u001b[?25l  Downloading https://files.pythonhosted.org/packages/d4/a4/d0a884c4300004a78cca907a6ff9a5e9fe4f090f5d95ab341c53d28cbc58/sentencepiece-0.1.91-cp36-cp36m-manylinux1_x86_64.whl (1.1MB)\n",
            "\u001b[K     |████████████████████████████████| 1.1MB 45.1MB/s \n",
            "\u001b[?25hRequirement already satisfied: numpy in /usr/local/lib/python3.6/dist-packages (from transformers) (1.18.5)\n",
            "Requirement already satisfied: protobuf in /usr/local/lib/python3.6/dist-packages (from transformers) (3.12.4)\n",
            "Requirement already satisfied: requests in /usr/local/lib/python3.6/dist-packages (from transformers) (2.23.0)\n",
            "Requirement already satisfied: regex!=2019.12.17 in /usr/local/lib/python3.6/dist-packages (from transformers) (2019.12.20)\n",
            "Requirement already satisfied: dataclasses; python_version < \"3.7\" in /usr/local/lib/python3.6/dist-packages (from transformers) (0.7)\n",
            "Collecting tokenizers==0.9.3\n",
            "\u001b[?25l  Downloading https://files.pythonhosted.org/packages/4c/34/b39eb9994bc3c999270b69c9eea40ecc6f0e97991dba28282b9fd32d44ee/tokenizers-0.9.3-cp36-cp36m-manylinux1_x86_64.whl (2.9MB)\n",
            "\u001b[K     |████████████████████████████████| 2.9MB 53.5MB/s \n",
            "\u001b[?25hCollecting sacremoses\n",
            "\u001b[?25l  Downloading https://files.pythonhosted.org/packages/7d/34/09d19aff26edcc8eb2a01bed8e98f13a1537005d31e95233fd48216eed10/sacremoses-0.0.43.tar.gz (883kB)\n",
            "\u001b[K     |████████████████████████████████| 890kB 58.7MB/s \n",
            "\u001b[?25hRequirement already satisfied: filelock in /usr/local/lib/python3.6/dist-packages (from transformers) (3.0.12)\n",
            "Requirement already satisfied: six in /usr/local/lib/python3.6/dist-packages (from packaging->transformers) (1.15.0)\n",
            "Requirement already satisfied: pyparsing>=2.0.2 in /usr/local/lib/python3.6/dist-packages (from packaging->transformers) (2.4.7)\n",
            "Requirement already satisfied: setuptools in /usr/local/lib/python3.6/dist-packages (from protobuf->transformers) (50.3.2)\n",
            "Requirement already satisfied: chardet<4,>=3.0.2 in /usr/local/lib/python3.6/dist-packages (from requests->transformers) (3.0.4)\n",
            "Requirement already satisfied: idna<3,>=2.5 in /usr/local/lib/python3.6/dist-packages (from requests->transformers) (2.10)\n",
            "Requirement already satisfied: certifi>=2017.4.17 in /usr/local/lib/python3.6/dist-packages (from requests->transformers) (2020.6.20)\n",
            "Requirement already satisfied: urllib3!=1.25.0,!=1.25.1,<1.26,>=1.21.1 in /usr/local/lib/python3.6/dist-packages (from requests->transformers) (1.24.3)\n",
            "Requirement already satisfied: click in /usr/local/lib/python3.6/dist-packages (from sacremoses->transformers) (7.1.2)\n",
            "Requirement already satisfied: joblib in /usr/local/lib/python3.6/dist-packages (from sacremoses->transformers) (0.17.0)\n",
            "Building wheels for collected packages: sacremoses\n",
            "  Building wheel for sacremoses (setup.py) ... \u001b[?25l\u001b[?25hdone\n",
            "  Created wheel for sacremoses: filename=sacremoses-0.0.43-cp36-none-any.whl size=893257 sha256=c6f68a47fbd64fa122c9dbac95a4297c9ad2362228841ee7cd903a6605042df8\n",
            "  Stored in directory: /root/.cache/pip/wheels/29/3c/fd/7ce5c3f0666dab31a50123635e6fb5e19ceb42ce38d4e58f45\n",
            "Successfully built sacremoses\n",
            "Installing collected packages: sentencepiece, tokenizers, sacremoses, transformers\n",
            "Successfully installed sacremoses-0.0.43 sentencepiece-0.1.91 tokenizers-0.9.3 transformers-3.5.1\n"
          ],
          "name": "stdout"
        }
      ]
    },
    {
      "cell_type": "markdown",
      "metadata": {
        "id": "3idRbhCy12h9"
      },
      "source": [
        "### Imports"
      ]
    },
    {
      "cell_type": "code",
      "metadata": {
        "id": "dXHPXTLpQZ4V"
      },
      "source": [
        "import os\n",
        "import requests\n",
        "import tempfile\n",
        "import zipfile\n",
        "import shutil\n",
        "import json\n",
        "import time\n",
        "import sys\n",
        "import cv2\n",
        "import numpy as np\n",
        "import pandas as pd\n",
        "from collections import Counter\n",
        "from glob import glob\n",
        "from google.colab import drive\n",
        "from tqdm.notebook import trange, tqdm\n",
        "import subprocess\n",
        "import matplotlib.pyplot as plt\n",
        "%matplotlib inline\n",
        "\n",
        "import tensorflow as tf\n",
        "import tensorflow_addons as tfa\n",
        "import tensorflow_hub as hub\n",
        "from tensorflow import keras\n",
        "from tensorflow.python.keras import backend as K\n",
        "from tensorflow.keras.models import Model, Sequential\n",
        "from tensorflow.keras import layers\n",
        "from tensorflow.keras import activations\n",
        "from tensorflow.keras import optimizers\n",
        "from tensorflow.keras import losses\n",
        "from tensorflow.keras import metrics\n",
        "from tensorflow.keras import initializers\n",
        "from tensorflow.keras import regularizers\n",
        "from tensorflow.keras.utils import to_categorical\n",
        "from keras.utils.layer_utils import count_params\n",
        "from tensorflow_addons.metrics import F1Score\n",
        "\n",
        "from transformers import BertTokenizer, TFBertModel"
      ],
      "execution_count": 2,
      "outputs": []
    },
    {
      "cell_type": "markdown",
      "metadata": {
        "id": "tAIWevAc2XYI"
      },
      "source": [
        "### Download Data"
      ]
    },
    {
      "cell_type": "code",
      "metadata": {
        "id": "lpYGZYyPucLA",
        "outputId": "2c216b9d-3bc4-4541-e0db-27426e874007",
        "colab": {
          "base_uri": "https://localhost:8080/"
        }
      },
      "source": [
        "if not os.path.exists('/content/data'):\n",
        "    os.mkdir('/content/data')\n",
        "\n",
        "!gsutil cp -r gs://practicum2-abnormal-distribution/big2 /content/data"
      ],
      "execution_count": 3,
      "outputs": [
        {
          "output_type": "stream",
          "text": [
            "Copying gs://practicum2-abnormal-distribution/big2/answers.csv...\n",
            "Copying gs://practicum2-abnormal-distribution/big2/functional_1.h5...\n",
            "Copying gs://practicum2-abnormal-distribution/big2/train2014_tf/vaq_raw_train2014_00-of-10.records...\n",
            "/ [3 files][  1.2 GiB/  1.2 GiB]  117.8 MiB/s                                   \n",
            "==> NOTE: You are performing a sequence of gsutil operations that may\n",
            "run significantly faster if you instead use gsutil -m cp ... Please\n",
            "see the -m section under \"gsutil help options\" for further information\n",
            "about when gsutil -m can be advantageous.\n",
            "\n",
            "Copying gs://practicum2-abnormal-distribution/big2/train2014_tf/vaq_raw_train2014_01-of-10.records...\n",
            "Copying gs://practicum2-abnormal-distribution/big2/train2014_tf/vaq_raw_train2014_02-of-10.records...\n",
            "Copying gs://practicum2-abnormal-distribution/big2/train2014_tf/vaq_raw_train2014_03-of-10.records...\n",
            "Copying gs://practicum2-abnormal-distribution/big2/train2014_tf/vaq_raw_train2014_04-of-10.records...\n",
            "Copying gs://practicum2-abnormal-distribution/big2/train2014_tf/vaq_raw_train2014_05-of-10.records...\n",
            "Copying gs://practicum2-abnormal-distribution/big2/train2014_tf/vaq_raw_train2014_06-of-10.records...\n",
            "Copying gs://practicum2-abnormal-distribution/big2/train2014_tf/vaq_raw_train2014_07-of-10.records...\n",
            "Copying gs://practicum2-abnormal-distribution/big2/train2014_tf/vaq_raw_train2014_08-of-10.records...\n",
            "Copying gs://practicum2-abnormal-distribution/big2/train2014_tf/vaq_raw_train2014_09-of-10.records...\n",
            "Copying gs://practicum2-abnormal-distribution/big2/train2014_tf/vaq_raw_train2014_10-of-10.records...\n",
            "Copying gs://practicum2-abnormal-distribution/big2/val2014_tf/vaq_raw_val2014_00-of-10.records...\n",
            "Copying gs://practicum2-abnormal-distribution/big2/val2014_tf/vaq_raw_val2014_01-of-10.records...\n",
            "Copying gs://practicum2-abnormal-distribution/big2/val2014_tf/vaq_raw_val2014_02-of-10.records...\n",
            "Copying gs://practicum2-abnormal-distribution/big2/val2014_tf/vaq_raw_val2014_03-of-10.records...\n",
            "Copying gs://practicum2-abnormal-distribution/big2/val2014_tf/vaq_raw_val2014_04-of-10.records...\n",
            "Copying gs://practicum2-abnormal-distribution/big2/val2014_tf/vaq_raw_val2014_05-of-10.records...\n",
            "Copying gs://practicum2-abnormal-distribution/big2/val2014_tf/vaq_raw_val2014_06-of-10.records...\n",
            "Copying gs://practicum2-abnormal-distribution/big2/val2014_tf/vaq_raw_val2014_07-of-10.records...\n",
            "Copying gs://practicum2-abnormal-distribution/big2/val2014_tf/vaq_raw_val2014_08-of-10.records...\n",
            "Copying gs://practicum2-abnormal-distribution/big2/val2014_tf/vaq_raw_val2014_09-of-10.records...\n",
            "Copying gs://practicum2-abnormal-distribution/big2/val2014_tf/vaq_raw_val2014_10-of-10.records...\n",
            "Copying gs://practicum2-abnormal-distribution/big2/vqa_model.h5...\n",
            "| [25 files][  9.7 GiB/  9.7 GiB]  123.2 MiB/s                                  \n",
            "==> NOTE: You are performing a sequence of gsutil operations that may\n",
            "run significantly faster if you instead use gsutil -m cp ... Please\n",
            "see the -m section under \"gsutil help options\" for further information\n",
            "about when gsutil -m can be advantageous.\n",
            "\n",
            "\n",
            "Operation completed over 25 objects/9.7 GiB.                                     \n"
          ],
          "name": "stdout"
        }
      ]
    },
    {
      "cell_type": "code",
      "metadata": {
        "id": "7hN9E7Lw4czk"
      },
      "source": [
        "#drive.mount('/content/drive', force_remount=False)\n",
        "# if not os.path.exists('/content/data'):\n",
        "#     os.mkdir('/content/data')\n",
        "\n",
        "#!cp -r '/content/drive/My Drive/Practicum2Data/big2' /content/data"
      ],
      "execution_count": 4,
      "outputs": []
    },
    {
      "cell_type": "markdown",
      "metadata": {
        "id": "EDHE_Nd6SCy7"
      },
      "source": [
        "### Utils"
      ]
    },
    {
      "cell_type": "code",
      "metadata": {
        "id": "EJhxKghA_lci"
      },
      "source": [
        "# we use the following to save the models\n",
        "class JsonEncoder(json.JSONEncoder):\n",
        "  def default(self, obj):\n",
        "    if isinstance(obj, np.integer):\n",
        "        return int(obj)\n",
        "    elif isinstance(obj, np.floating):\n",
        "        return float(obj)\n",
        "    elif isinstance(obj, decimal.Decimal):\n",
        "        return float(obj)\n",
        "    elif isinstance(obj, np.ndarray):\n",
        "        return obj.tolist()\n",
        "    else:\n",
        "        return super(JsonEncoder, self).default(obj)\n",
        "\n",
        "# save_model saves everything. weights, statuses and results. \n",
        "def save_model(model,training_results,execution_time, learning_rate, epochs, optimizer, evaluation_results,path=\"models\"):\n",
        "  model_name=model.name\n",
        "  # Get the model train history\n",
        "  model_train_history = training_results.history\n",
        "\n",
        "  # Ensure path exists\n",
        "  if not os.path.exists(path):\n",
        "      os.mkdir(path)\n",
        "\n",
        "  # Save the enitire model (structure + weights)\n",
        "  model.save(os.path.join(path,model_name+\".hdf5\"))\n",
        "\n",
        "  # Save only the weights\n",
        "  model.save_weights(os.path.join(path,model_name+\".h5\"))\n",
        "\n",
        "  # Save the structure only\n",
        "  model_json = model.to_json()\n",
        "  with open(os.path.join(path,model_name+\".json\"), \"w\") as json_file:\n",
        "      json_file.write(model_json)\n",
        "    \n",
        "  model_size = get_model_size(model_name=model_name)\n",
        "\n",
        "  # Save model history\n",
        "  with open(os.path.join(\"models\",model_name+\"_train_history.json\"), \"w\") as json_file:\n",
        "      json_file.write(json.dumps(model_train_history,cls=JsonEncoder))\n",
        "\n",
        "  trainable_parameters = count_params(model.trainable_weights)\n",
        "  non_trainable_parameters = count_params(model.non_trainable_weights)\n",
        "  total_params = trainable_parameters + non_trainable_parameters\n",
        "\n",
        "  # Save model metrics\n",
        "  metrics ={\n",
        "      \"total_params\":total_params,\n",
        "      \"execution_time\":execution_time,\n",
        "      \"loss\":evaluation_results[0],\n",
        "      \"accuracy\":evaluation_results[1],\n",
        "      \"model_size\":model_size,\n",
        "      \"learning_rate\":learning_rate,\n",
        "      \"epochs\":epochs,\n",
        "      \"optimizer\":type(optimizer).__name__,\n",
        "      \"name\": model_name,\n",
        "      \"id\": int(time.time())\n",
        "  }\n",
        "\n",
        "  with open(os.path.join(\"models\",model.name+\"_metrics.json\"), \"w\") as json_file:\n",
        "      json_file.write(json.dumps(metrics,cls=JsonEncoder))\n",
        "\n",
        "def get_model_size(path=\"models\",model_name=\"model01\"):\n",
        "  model_size = os.stat(os.path.join(path,model_name+\".hdf5\")).st_size\n",
        "  return model_size\n",
        "\n",
        "def evaluate_model(model,test_data, training_results,execution_time, learning_rate, epochs, \n",
        "                   optimizer,save=True, \n",
        "                   loss_metrics=[\"loss\",\"val_loss\"],\n",
        "                   acc_metrics=[\"accuracy\",\"val_accuracy\"]):\n",
        "    \n",
        "  # Get the model train history\n",
        "  model_train_history = training_results.history\n",
        "  # Get the number of epochs the training was run for\n",
        "  num_epochs = len(model_train_history[loss_metrics[0]])\n",
        "\n",
        "  # Plot training results\n",
        "  fig = plt.figure(figsize=(15,5))\n",
        "  axs = fig.add_subplot(1,2,1)\n",
        "  axs.set_title('Loss')\n",
        "  # Plot all metrics\n",
        "  for metric in loss_metrics:\n",
        "      axs.plot(np.arange(0, num_epochs), model_train_history[metric], label=metric)\n",
        "  axs.legend()\n",
        "  \n",
        "  axs = fig.add_subplot(1,2,2)\n",
        "  axs.set_title('Accuracy')\n",
        "  # Plot all metrics\n",
        "  for metric in acc_metrics:\n",
        "      axs.plot(np.arange(0, num_epochs), model_train_history[metric], label=metric)\n",
        "  axs.legend()\n",
        "\n",
        "  plt.show()\n",
        "  \n",
        "  # Evaluate on test data\n",
        "  evaluation_results = model.evaluate(test_data, return_dict=True)\n",
        "  print(evaluation_results)\n",
        "\n",
        "  evaluation_results = [evaluation_results[loss_metrics[0]], evaluation_results[acc_metrics[0]]]\n",
        "  \n",
        "  if save:\n",
        "      # Save model\n",
        "      save_model(model,training_results,execution_time, learning_rate, epochs, optimizer, evaluation_results)\n",
        "  \n",
        "  return evaluation_results"
      ],
      "execution_count": 5,
      "outputs": []
    },
    {
      "cell_type": "code",
      "metadata": {
        "id": "hBj_9MC2l8o_"
      },
      "source": [
        "# Get Top K answers\n",
        "def get_top_K_answers(k):\n",
        "    answers = pd.read_csv(\"/content/data/big2/answers.csv\", index_col=0)\n",
        "    answers = answers.iloc[:k]\n",
        "    return answers"
      ],
      "execution_count": 6,
      "outputs": []
    },
    {
      "cell_type": "code",
      "metadata": {
        "id": "RKnRAy5WHxkf"
      },
      "source": [
        "# Function to parse data features\n",
        "def _parse_features_function(example):\n",
        "    # Parse the input tf.train.Example proto using the dictionary above.\n",
        "    tf_records_features = {\n",
        "        'image_raw': tf.io.FixedLenFeature([], tf.string), \n",
        "        'question' : tf.io.FixedLenFeature([], tf.string),\n",
        "        'input_ids': tf.io.FixedLenFeature([], tf.string),\n",
        "        'token_type_ids': tf.io.FixedLenFeature([], tf.string),\n",
        "        'attention_mask': tf.io.FixedLenFeature([], tf.string), \n",
        "        'answer': tf.io.FixedLenFeature([], tf.int64)\n",
        "    }\n",
        "    return tf.io.parse_single_example(example, tf_records_features)\n",
        "\n",
        "\n",
        "# Filter if answer is no\n",
        "def filter_fn(x):\n",
        "    return x['answer'] < k\n",
        "\n",
        "\n",
        "# Read image and resize it\n",
        "def read_and_decode(img):\n",
        "    img = tf.image.decode_jpeg(img, channels=IMG_CHANNELS)\n",
        "    img = tf.cast(img, tf.float32)/255.0\n",
        "    return img\n",
        "\n",
        "\n",
        "# Structure the data for training\n",
        "def structure_data(data):\n",
        "    image = data['image_raw']\n",
        "    image = read_and_decode(image)\n",
        "    \n",
        "    input_ids = tf.io.decode_raw(data['input_ids'], tf.int32)\n",
        "    attention_mask = tf.io.decode_raw(data['attention_mask'], tf.int32)\n",
        "    token_type_ids = tf.io.decode_raw(data['token_type_ids'], tf.int32)\n",
        "    \n",
        "    answer = data['answer']\n",
        "\n",
        "    return ((image, (input_ids, token_type_ids, attention_mask)), answer)"
      ],
      "execution_count": 7,
      "outputs": []
    },
    {
      "cell_type": "markdown",
      "metadata": {
        "id": "rOEndUuiaz7u"
      },
      "source": [
        "### Important Variables and Constants"
      ]
    },
    {
      "cell_type": "code",
      "metadata": {
        "id": "UG29KGghUgqZ"
      },
      "source": [
        "# Constants\n",
        "IMG_WIDTH = 224\n",
        "IMG_HEIGHT = 224\n",
        "IMG_CHANNELS = 3\n",
        "\n",
        "AUTOTUNE = tf.data.experimental.AUTOTUNE\n",
        "\n",
        "# Pipeline variables\n",
        "k = 10\n",
        "batch_size = 32\n",
        "train_buffer_size = 32\n",
        "val_buffer_size = 32\n",
        "prefetch = AUTOTUNE"
      ],
      "execution_count": 8,
      "outputs": []
    },
    {
      "cell_type": "markdown",
      "metadata": {
        "id": "fR7pciUW5__z"
      },
      "source": [
        "### Get Top Answers"
      ]
    },
    {
      "cell_type": "code",
      "metadata": {
        "id": "BTFiNYkr6APs"
      },
      "source": [
        "top_answers = get_top_K_answers(k)\n",
        "TOP_ANSWERS = tf.constant(top_answers)"
      ],
      "execution_count": 9,
      "outputs": []
    },
    {
      "cell_type": "markdown",
      "metadata": {
        "id": "SPWyyDZ90yFT"
      },
      "source": [
        "### Build Pipeline"
      ]
    },
    {
      "cell_type": "code",
      "metadata": {
        "id": "nbEY61HinbFk"
      },
      "source": [
        "# ############## #\n",
        "# # Train data # #\n",
        "# ############## #\n",
        "tfrecords_pattern_path = \"/content/data/big2/train2014_tf/vaq_raw_train2014_*-of-*.records\"\n",
        "train_files = tf.io.matching_files(tfrecords_pattern_path)\n",
        "train_files = tf.random.shuffle(train_files)\n",
        "train_shards = tf.data.Dataset.from_tensor_slices(train_files)\n",
        "\n",
        "train = train_shards.interleave(tf.data.TFRecordDataset)\n",
        "train = train.map(_parse_features_function, num_parallel_calls=AUTOTUNE)\n",
        "train = train.filter(filter_fn)\n",
        "train = train.map(structure_data, num_parallel_calls=AUTOTUNE)\n",
        "#train = train.shuffle(buffer_size=train_buffer_size)\n",
        "train = train.batch(batch_size)\n",
        "#train = train.cache().prefetch(prefetch)\n",
        "\n",
        "# ################### #\n",
        "# # Validation data # #\n",
        "# ################### #\n",
        "tfrecords_pattern_path = \"/content/data/big2/val2014_tf/vaq_raw_val2014_*-of-*.records\"\n",
        "val_files = tf.io.matching_files(tfrecords_pattern_path)\n",
        "val_files = tf.random.shuffle(val_files)\n",
        "val_shards = tf.data.Dataset.from_tensor_slices(val_files)\n",
        "\n",
        "valid = val_shards.interleave(tf.data.TFRecordDataset)\n",
        "valid = valid.map(_parse_features_function, num_parallel_calls=AUTOTUNE)\n",
        "valid = valid.filter(filter_fn)\n",
        "valid = valid.map(structure_data, num_parallel_calls=AUTOTUNE)\n",
        "#valid = valid.shuffle(buffer_size=val_buffer_size)\n",
        "valid = valid.batch(batch_size)\n",
        "#valid = valid.cache().prefetch(prefetch)"
      ],
      "execution_count": 10,
      "outputs": []
    },
    {
      "cell_type": "markdown",
      "metadata": {
        "id": "i2QaSsOR6G6b"
      },
      "source": [
        "### Build Model"
      ]
    },
    {
      "cell_type": "markdown",
      "metadata": {
        "id": "GRj6Qk9dzB69"
      },
      "source": [
        ""
      ]
    },
    {
      "cell_type": "code",
      "metadata": {
        "id": "_phW9OwF_RwC"
      },
      "source": [
        "def build_vqa_model(image_height, image_width, num_channels, num_classes):\n",
        "    # Handle to pretrained model (Use a different model here)\n",
        "    input_shape=[image_height, image_width, num_channels]\n",
        "    resnet = keras.applications.VGG19(\n",
        "        include_top=False, \n",
        "        weights='imagenet', \n",
        "        input_shape=input_shape\n",
        "    )\n",
        "    resnet.trainable = False\n",
        "    image_hidden_states = layers.Flatten()(resnet.output)\n",
        "    image_hs = layers.Lambda(lambda x: K.l2_normalize(x,axis=1))(image_hidden_states)\n",
        "\n",
        "    input_ids = layers.Input(shape=(24,), dtype=tf.int32)\n",
        "    token_type_ids = layers.Input(shape=(24,), dtype=tf.int32)\n",
        "    attention_mask = layers.Input(shape=(24,), dtype=tf.int32)\n",
        "\n",
        "    bert = TFBertModel.from_pretrained('bert-base-uncased', return_dict=True)\n",
        "    bert.trainable = False\n",
        "    question = bert(\n",
        "        input_ids, \n",
        "        token_type_ids=token_type_ids, \n",
        "        attention_mask=attention_mask\n",
        "    )\n",
        "    question_hs = layers.Flatten()(question[1])\n",
        "    #question_hs = layers.Lambda(lambda x: K.l2_normalize(x,axis=1))(question_hs)\n",
        "\n",
        "    cross_hs = layers.concatenate([image_hs, question_hs])\n",
        "\n",
        "    x = layers.Dense(1024, activation='relu')(cross_hs)\n",
        "\n",
        "    output = layers.Dense(units=num_classes)(x)\n",
        "\n",
        "    model = Model(inputs=[resnet.input, (input_ids, token_type_ids, attention_mask)], outputs=output)\n",
        "\n",
        "    return model"
      ],
      "execution_count": 11,
      "outputs": []
    },
    {
      "cell_type": "code",
      "metadata": {
        "id": "BHRYgNHP1X4w",
        "outputId": "fa59eb31-bb0a-4174-b0ba-964290f7f7c5",
        "colab": {
          "base_uri": "https://localhost:8080/",
          "height": 257,
          "referenced_widgets": [
            "5a4dc1d36f0d46658ae0295261ba6f3e",
            "a3de2c666ef848fa84849bad3f37769c",
            "8cdc3126a23e413fae58dfb6197a9a13",
            "d4f3dac8d5564ea98b30d898ffd2a2fc",
            "8029f166d08e47b8b83168cb97f5592f",
            "1c1d0be6d81d4aca9a580326f8e3efc4",
            "980d22bb703146c8a294f13920705d86",
            "3d6d8ca60de8431fa7688d17e444ca92",
            "2674b4ec392340319361b57157ba3639",
            "033cc92e09874d36b7968b9760813708",
            "9cf95f1567fb48da8957bc2336144bf6",
            "7fa844c8e8cf472694a126556355b12c",
            "f4b4df1914144815aa46186b84fa75e3",
            "67f160001b824e7ba624c4373840eaa5",
            "3656bdbbd4de49d28e8600fad1ba6d86",
            "25d40a130d1c4e58a73c0c302603054d"
          ]
        }
      },
      "source": [
        "K.clear_session()\n",
        "\n",
        "model = build_vqa_model(IMG_HEIGHT, IMG_WIDTH, IMG_CHANNELS, k)\n",
        "\n",
        "# Optimizer\n",
        "learning_rate = 0.001\n",
        "optimizer = optimizers.Adam(lr=learning_rate)\n",
        "\n",
        "# Loss\n",
        "loss = losses.SparseCategoricalCrossentropy(from_logits=True)\n",
        "\n",
        "# Compile\n",
        "model.compile( loss=loss, optimizer=optimizer, metrics=['accuracy'])"
      ],
      "execution_count": 12,
      "outputs": [
        {
          "output_type": "stream",
          "text": [
            "Downloading data from https://storage.googleapis.com/tensorflow/keras-applications/vgg19/vgg19_weights_tf_dim_ordering_tf_kernels_notop.h5\n",
            "80142336/80134624 [==============================] - 3s 0us/step\n"
          ],
          "name": "stdout"
        },
        {
          "output_type": "display_data",
          "data": {
            "application/vnd.jupyter.widget-view+json": {
              "model_id": "5a4dc1d36f0d46658ae0295261ba6f3e",
              "version_minor": 0,
              "version_major": 2
            },
            "text/plain": [
              "HBox(children=(FloatProgress(value=0.0, description='Downloading', max=433.0, style=ProgressStyle(description_…"
            ]
          },
          "metadata": {
            "tags": []
          }
        },
        {
          "output_type": "stream",
          "text": [
            "\n"
          ],
          "name": "stdout"
        },
        {
          "output_type": "display_data",
          "data": {
            "application/vnd.jupyter.widget-view+json": {
              "model_id": "2674b4ec392340319361b57157ba3639",
              "version_minor": 0,
              "version_major": 2
            },
            "text/plain": [
              "HBox(children=(FloatProgress(value=0.0, description='Downloading', max=536063208.0, style=ProgressStyle(descri…"
            ]
          },
          "metadata": {
            "tags": []
          }
        },
        {
          "output_type": "stream",
          "text": [
            "\n"
          ],
          "name": "stdout"
        },
        {
          "output_type": "stream",
          "text": [
            "Some layers from the model checkpoint at bert-base-uncased were not used when initializing TFBertModel: ['mlm___cls', 'nsp___cls']\n",
            "- This IS expected if you are initializing TFBertModel from the checkpoint of a model trained on another task or with another architecture (e.g. initializing a BertForSequenceClassification model from a BertForPreTraining model).\n",
            "- This IS NOT expected if you are initializing TFBertModel from the checkpoint of a model that you expect to be exactly identical (initializing a BertForSequenceClassification model from a BertForSequenceClassification model).\n",
            "All the layers of TFBertModel were initialized from the model checkpoint at bert-base-uncased.\n",
            "If your task is similar to the task the model of the checkpoint was trained on, you can already use TFBertModel for predictions without further training.\n"
          ],
          "name": "stderr"
        }
      ]
    },
    {
      "cell_type": "markdown",
      "metadata": {
        "id": "JoMKbG_g6Hij"
      },
      "source": [
        "### Train Model"
      ]
    },
    {
      "cell_type": "code",
      "metadata": {
        "id": "C-jMYcRlMXXh",
        "outputId": "0dd84f49-c9b3-4bad-e9aa-5fe7b8af49fc",
        "colab": {
          "base_uri": "https://localhost:8080/"
        }
      },
      "source": [
        "K.clear_session()\n",
        "\n",
        "# build model architecture\n",
        "model = build_vqa_model(IMG_HEIGHT, IMG_WIDTH, IMG_CHANNELS, k)\n",
        "# Optimizer\n",
        "learning_rate = 0.001\n",
        "optimizer = optimizers.Adam(lr=learning_rate)\n",
        "# Loss\n",
        "loss = losses.SparseCategoricalCrossentropy(from_logits=True)\n",
        "# Compile\n",
        "model.compile( loss=loss, optimizer=optimizer, metrics=['accuracy'])\n",
        "\n",
        "# load model weights\n",
        "model.load_weights('/content/data/big2/vqa_model.h5')\n",
        "\n",
        "# Evaluate on test data\n",
        "evaluation_results = model.evaluate(valid, return_dict=True)\n",
        "print(evaluation_results)"
      ],
      "execution_count": 13,
      "outputs": [
        {
          "output_type": "stream",
          "text": [
            "Some layers from the model checkpoint at bert-base-uncased were not used when initializing TFBertModel: ['mlm___cls', 'nsp___cls']\n",
            "- This IS expected if you are initializing TFBertModel from the checkpoint of a model trained on another task or with another architecture (e.g. initializing a BertForSequenceClassification model from a BertForPreTraining model).\n",
            "- This IS NOT expected if you are initializing TFBertModel from the checkpoint of a model that you expect to be exactly identical (initializing a BertForSequenceClassification model from a BertForSequenceClassification model).\n",
            "All the layers of TFBertModel were initialized from the model checkpoint at bert-base-uncased.\n",
            "If your task is similar to the task the model of the checkpoint was trained on, you can already use TFBertModel for predictions without further training.\n"
          ],
          "name": "stderr"
        },
        {
          "output_type": "stream",
          "text": [
            "3441/3441 [==============================] - 263s 77ms/step - loss: 0.8569 - accuracy: 0.5095\n",
            "{'loss': 0.8569248914718628, 'accuracy': 0.509472668170929}\n"
          ],
          "name": "stdout"
        }
      ]
    },
    {
      "cell_type": "markdown",
      "metadata": {
        "id": "C4TfXT23K2We"
      },
      "source": [
        "### Distillation"
      ]
    },
    {
      "cell_type": "code",
      "metadata": {
        "id": "AuALdIWwK1pE"
      },
      "source": [
        "class Distiller(Model):\n",
        "    def __init__(self, teacher, student):\n",
        "        super(Distiller, self).__init__()\n",
        "        self.teacher = teacher\n",
        "        self.student = student\n",
        "\n",
        "    def compile(self,optimizer,metrics,student_loss_fn,distillation_loss_fn,alpha=0.1,temperature=3):\n",
        "      \"\"\"\n",
        "      optimizer: Keras optimizer for the student weights\n",
        "      metrics: Keras metrics for evaluation\n",
        "      student_loss_fn: Loss function of difference between student predictions and ground-truth\n",
        "      distillation_loss_fn: Loss function of difference between soft student predictions and soft teacher predictions\n",
        "      alpha: weight to student_loss_fn and 1-alpha to distillation_loss_fn\n",
        "      temperature: Temperature for softening probability distributions. Larger temperature gives softer distributions.\n",
        "      \"\"\"\n",
        "      super(Distiller, self).compile(optimizer=optimizer, metrics=metrics)\n",
        "      self.student_loss_fn = student_loss_fn\n",
        "      self.distillation_loss_fn = distillation_loss_fn\n",
        "      self.alpha = alpha\n",
        "      self.temperature = temperature\n",
        "\n",
        "    def train_step(self, data):\n",
        "        # Unpack data\n",
        "        x, y = data\n",
        "\n",
        "        # Forward pass of teacher\n",
        "        teacher_predictions = self.teacher(x, training=False)\n",
        "\n",
        "        with tf.GradientTape() as tape:\n",
        "            # Forward pass of student\n",
        "            student_predictions = self.student(x, training=True)\n",
        "\n",
        "            # Compute losses\n",
        "            student_loss = self.student_loss_fn(y, student_predictions)\n",
        "            distillation_loss = self.distillation_loss_fn(\n",
        "                tf.nn.softmax(teacher_predictions / self.temperature, axis=1),\n",
        "                tf.nn.softmax(student_predictions / self.temperature, axis=1),\n",
        "            )\n",
        "            loss = self.alpha * student_loss + (1 - self.alpha) * distillation_loss\n",
        "\n",
        "        # Compute gradients\n",
        "        trainable_vars = self.student.trainable_variables\n",
        "        gradients = tape.gradient(loss, trainable_vars)\n",
        "\n",
        "        # Update weights\n",
        "        self.optimizer.apply_gradients(zip(gradients, trainable_vars))\n",
        "\n",
        "        # Update the metrics configured in `compile()`.\n",
        "        self.compiled_metrics.update_state(y, student_predictions)\n",
        "\n",
        "        # Return a dict of performance\n",
        "        results = {m.name: m.result() for m in self.metrics}\n",
        "        results.update(\n",
        "            {\"student_loss\": student_loss, \"distillation_loss\": distillation_loss}\n",
        "        )\n",
        "        return results\n",
        "\n",
        "    def test_step(self, data):\n",
        "        # Unpack the data\n",
        "        x, y = data\n",
        "\n",
        "        # Compute predictions\n",
        "        y_prediction = self.student(x, training=False)\n",
        "\n",
        "        # Calculate the loss\n",
        "        student_loss = self.student_loss_fn(y, y_prediction)\n",
        "\n",
        "        # Update the metrics.\n",
        "        self.compiled_metrics.update_state(y, y_prediction)\n",
        "\n",
        "        # Return a dict of performance\n",
        "        results = {m.name: m.result() for m in self.metrics}\n",
        "        results.update({\"student_loss\": student_loss})\n",
        "        return results"
      ],
      "execution_count": 15,
      "outputs": []
    },
    {
      "cell_type": "code",
      "metadata": {
        "id": "u0PPmp624ZSp"
      },
      "source": [
        "from transformers import TFDistilBertModel\n",
        "\n",
        "def build_student_model(image_height, image_width, num_channels, num_classes, model_name='student'):\n",
        "  # Model input\n",
        "  input_shape = [image_height, image_width, num_channels]  # height, width, channels\n",
        "  model_name =  model_name +\"_\"+ str(int(time.time()))\n",
        "\n",
        "  image_input = layers.Input(shape=input_shape)\n",
        "  distill_img = layers.Conv2D(filters=32, kernel_size=(3, 3), strides=(2, 2), padding=\"same\", activation='relu')(image_input)\n",
        "  distill_img = layers.MaxPooling2D(pool_size=(2, 2), strides=(2, 2), padding=\"same\")(distill_img)\n",
        "  distill_img = layers.Conv2D(filters=32, kernel_size=(3, 3), strides=(2, 2), padding=\"same\", activation='relu')(distill_img)\n",
        "  distill_img = layers.MaxPooling2D(pool_size=(2, 2), strides=(2, 2), padding=\"same\")(distill_img)\n",
        "\n",
        "  image_hidden_states = layers.Flatten()(distill_img)\n",
        "  image_hs = layers.Lambda(lambda x: K.l2_normalize(x,axis=1))(image_hidden_states)\n",
        "\n",
        "  input_ids = layers.Input(shape=(24,), dtype=tf.int32)\n",
        "  token_type_ids = layers.Input(shape=(24,), dtype=tf.int32)\n",
        "  attention_mask = layers.Input(shape=(24,), dtype=tf.int32)\n",
        "\n",
        "  distill_bert = TFDistilBertModel.from_pretrained('distilbert-base-uncased', return_dict=True)\n",
        "  distill_bert.trainable = False\n",
        "  question = distill_bert(\n",
        "      input_ids, \n",
        "      # token_type_ids=token_type_ids, \n",
        "      attention_mask=attention_mask\n",
        "    )\n",
        "  question_hs = layers.Flatten()(question[0])\n",
        "  \n",
        "  cross_hs = layers.concatenate([image_hs, question_hs])\n",
        "  x = layers.Dense(32, activation='relu')(cross_hs)\n",
        "  output = layers.Dense(units=num_classes)(x)\n",
        "\n",
        "  model = Model(inputs=[image_input, (input_ids, token_type_ids, attention_mask)], outputs=output)\n",
        "\n",
        "  return model"
      ],
      "execution_count": 27,
      "outputs": []
    },
    {
      "cell_type": "code",
      "metadata": {
        "id": "9IsIY_xqQsmM",
        "outputId": "14358ebf-10af-4281-f2ab-d922957d99df",
        "colab": {
          "base_uri": "https://localhost:8080/"
        }
      },
      "source": [
        "############################\n",
        "# Training Params\n",
        "############################\n",
        "learning_rate = 0.001\n",
        "epochs = 10\n",
        "alpha = 0.1 # alphas = [0.1, 0.2, 0.3, 0.5, 1]\n",
        "temperature = 5 # temperatures = [1,5,10,15,30] \n",
        "\n",
        "# Optimizer\n",
        "optimizer = optimizers.Adam(lr=learning_rate)\n",
        "# Loss\n",
        "student_loss = losses.SparseCategoricalCrossentropy(from_logits=True)\n",
        "distillation_loss = losses.KLDivergence()\n",
        "\n",
        "# Free up memory\n",
        "K.clear_session()\n",
        "\n",
        "# Build Student model\n",
        "student_model = build_student_model(IMG_HEIGHT, IMG_WIDTH, IMG_CHANNELS, k, model_name='student_distill')\n",
        "\n",
        "# Build the distiller model\n",
        "distiller_model = Distiller(teacher=model, student=student_model)\n",
        "\n",
        "# Compile\n",
        "distiller_model.compile(optimizer=optimizer, student_loss_fn=student_loss, distillation_loss_fn=distillation_loss, metrics=[metrics.SparseCategoricalAccuracy()],\n",
        "                        alpha=alpha, temperature=temperature)\n",
        "\n",
        "# Distill teacher to student\n",
        "start_time = time.time()\n",
        "training_results = distiller_model.fit(train, validation_data=valid, epochs=epochs, verbose=1)\n",
        "execution_time = (time.time() - start_time)/60.0"
      ],
      "execution_count": 28,
      "outputs": [
        {
          "output_type": "stream",
          "text": [
            "Some layers from the model checkpoint at distilbert-base-uncased were not used when initializing TFDistilBertModel: ['vocab_transform', 'vocab_layer_norm', 'vocab_projector', 'activation_13']\n",
            "- This IS expected if you are initializing TFDistilBertModel from the checkpoint of a model trained on another task or with another architecture (e.g. initializing a BertForSequenceClassification model from a BertForPreTraining model).\n",
            "- This IS NOT expected if you are initializing TFDistilBertModel from the checkpoint of a model that you expect to be exactly identical (initializing a BertForSequenceClassification model from a BertForSequenceClassification model).\n",
            "All the layers of TFDistilBertModel were initialized from the model checkpoint at distilbert-base-uncased.\n",
            "If your task is similar to the task the model of the checkpoint was trained on, you can already use TFDistilBertModel for predictions without further training.\n"
          ],
          "name": "stderr"
        },
        {
          "output_type": "stream",
          "text": [
            "Epoch 1/10\n",
            "7138/7138 [==============================] - 716s 100ms/step - sparse_categorical_accuracy: 0.4779 - student_loss: 0.8811 - distillation_loss: 0.0274 - val_sparse_categorical_accuracy: 0.4954 - val_student_loss: 0.7503\n",
            "Epoch 2/10\n",
            "7138/7138 [==============================] - 715s 100ms/step - sparse_categorical_accuracy: 0.4884 - student_loss: 0.8495 - distillation_loss: 0.0173 - val_sparse_categorical_accuracy: 0.4997 - val_student_loss: 0.7701\n",
            "Epoch 3/10\n",
            "7138/7138 [==============================] - 715s 100ms/step - sparse_categorical_accuracy: 0.4940 - student_loss: 0.8439 - distillation_loss: 0.0164 - val_sparse_categorical_accuracy: 0.5003 - val_student_loss: 0.7640\n",
            "Epoch 4/10\n",
            "7138/7138 [==============================] - 721s 101ms/step - sparse_categorical_accuracy: 0.4980 - student_loss: 0.8400 - distillation_loss: 0.0159 - val_sparse_categorical_accuracy: 0.5071 - val_student_loss: 0.7668\n",
            "Epoch 5/10\n",
            "7138/7138 [==============================] - 726s 102ms/step - sparse_categorical_accuracy: 0.5019 - student_loss: 0.8372 - distillation_loss: 0.0156 - val_sparse_categorical_accuracy: 0.5072 - val_student_loss: 0.7939\n",
            "Epoch 6/10\n",
            "7138/7138 [==============================] - 726s 102ms/step - sparse_categorical_accuracy: 0.5036 - student_loss: 0.8351 - distillation_loss: 0.0154 - val_sparse_categorical_accuracy: 0.5106 - val_student_loss: 0.7978\n",
            "Epoch 7/10\n",
            "7138/7138 [==============================] - 726s 102ms/step - sparse_categorical_accuracy: 0.5070 - student_loss: 0.8330 - distillation_loss: 0.0152 - val_sparse_categorical_accuracy: 0.5117 - val_student_loss: 0.8050\n",
            "Epoch 8/10\n",
            "7138/7138 [==============================] - 728s 102ms/step - sparse_categorical_accuracy: 0.5082 - student_loss: 0.8319 - distillation_loss: 0.0151 - val_sparse_categorical_accuracy: 0.5096 - val_student_loss: 0.7962\n",
            "Epoch 9/10\n",
            "7138/7138 [==============================] - 726s 102ms/step - sparse_categorical_accuracy: 0.5094 - student_loss: 0.8307 - distillation_loss: 0.0149 - val_sparse_categorical_accuracy: 0.5137 - val_student_loss: 0.8058\n",
            "Epoch 10/10\n",
            "7138/7138 [==============================] - 725s 102ms/step - sparse_categorical_accuracy: 0.5109 - student_loss: 0.8295 - distillation_loss: 0.0149 - val_sparse_categorical_accuracy: 0.5126 - val_student_loss: 0.8031\n"
          ],
          "name": "stdout"
        }
      ]
    },
    {
      "cell_type": "code",
      "metadata": {
        "id": "IJ7CLtTDPFTS",
        "outputId": "ca6c6a1b-ae80-43d4-a473-35bbec4f6fdb",
        "colab": {
          "base_uri": "https://localhost:8080/",
          "height": 370
        }
      },
      "source": [
        "# Evaluate model\n",
        "evaluation_results = evaluate_model(distiller_model, valid, training_results, execution_time, learning_rate, epochs, optimizer, save=False, \n",
        "                                    loss_metrics=[\"student_loss\",\"distillation_loss\",\"val_student_loss\"], \n",
        "                                    acc_metrics=[\"sparse_categorical_accuracy\",\"val_sparse_categorical_accuracy\"])\n"
      ],
      "execution_count": 43,
      "outputs": [
        {
          "output_type": "display_data",
          "data": {
            "image/png": "[encoded data removed]",
            "text/plain": [
              "<Figure size 1080x360 with 2 Axes>"
            ]
          },
          "metadata": {
            "tags": [],
            "needs_background": "light"
          }
        },
        {
          "output_type": "stream",
          "text": [
            "3441/3441 [==============================] - 99s 29ms/step - sparse_categorical_accuracy: 0.5126 - student_loss: 0.8364\n",
            "{'sparse_categorical_accuracy': 0.51258784532547, 'student_loss': 0.8031418323516846}\n"
          ],
          "name": "stdout"
        }
      ]
    },
    {
      "cell_type": "code",
      "metadata": {
        "id": "4GbGl2kgkcjK",
        "outputId": "c1af81a4-a2d7-46e1-97dc-0ef433d700dd",
        "colab": {
          "base_uri": "https://localhost:8080/"
        }
      },
      "source": [
        "\n",
        "# Evaluate on test data\n",
        "evaluation_results = distiller_model.evaluate(valid, return_dict=True)\n",
        "print(evaluation_results)"
      ],
      "execution_count": 29,
      "outputs": [
        {
          "output_type": "stream",
          "text": [
            "3441/3441 [==============================] - 103s 30ms/step - sparse_categorical_accuracy: 0.5126 - student_loss: 0.8364\n",
            "{'sparse_categorical_accuracy': 0.51258784532547, 'student_loss': 0.8031418323516846}\n"
          ],
          "name": "stdout"
        }
      ]
    },
    {
      "cell_type": "code",
      "metadata": {
        "id": "RtmdQnjVLadQ",
        "outputId": "82e3d846-e43f-4997-f53b-06600c92dd9c",
        "colab": {
          "base_uri": "https://localhost:8080/"
        }
      },
      "source": [
        "import time\n",
        "start = time.time()\n",
        "evaluation_results = distiller_model.evaluate(valid, return_dict=True)\n",
        "duration = time.time() - start\n",
        "print(duration)"
      ],
      "execution_count": 30,
      "outputs": [
        {
          "output_type": "stream",
          "text": [
            "3441/3441 [==============================] - 102s 30ms/step - sparse_categorical_accuracy: 0.5126 - student_loss: 0.8364\n",
            "102.01628470420837\n"
          ],
          "name": "stdout"
        }
      ]
    },
    {
      "cell_type": "code",
      "metadata": {
        "id": "94OxP-hONMmG"
      },
      "source": [
        "student_model.save_weights(\"student_model.h5\")"
      ],
      "execution_count": 38,
      "outputs": []
    },
    {
      "cell_type": "code",
      "metadata": {
        "id": "yWdTuAEpOQJD",
        "outputId": "cfcdafce-4952-45cb-8cfd-0c5c252ad79f",
        "colab": {
          "base_uri": "https://localhost:8080/"
        }
      },
      "source": [
        "# distilled model\n",
        "with zipfile.ZipFile('/content/student_model.zip', \"w\", compression=zipfile.ZIP_DEFLATED) as f:\n",
        "    f.write('/content/student_model.h5')\n",
        "print(\"Distilled model before zipping: %.2f Kb\"% (os.path.getsize('/content/student_model.h5') / float(1000)))\n",
        "print(\"Distilled model after zipping: %.2f Kb\"% (os.path.getsize('/content/student_model.zip') / float(1000)))"
      ],
      "execution_count": 40,
      "outputs": [
        {
          "output_type": "stream",
          "text": [
            "Distilled model before zipping: 268795.08 Kb\n",
            "Distilled model after zipping: 247808.26 Kb\n"
          ],
          "name": "stdout"
        }
      ]
    },
    {
      "cell_type": "code",
      "metadata": {
        "id": "3u8PWgx0OmFu",
        "outputId": "732c74b2-89e2-41d4-f117-cec1cfceb4aa",
        "colab": {
          "base_uri": "https://localhost:8080/"
        }
      },
      "source": [
        "# Original model\n",
        "with zipfile.ZipFile('/content/data/big2/vqa_model.zip', \"w\", compression=zipfile.ZIP_DEFLATED) as f:\n",
        "    f.write('/content/data/big2/vqa_model.h5')\n",
        "print(\"Original model before zipping: %.2f Kb\"% (os.path.getsize('/content/data/big2/vqa_model.h5') / float(1000)))\n",
        "print(\"Original model after zipping: %.2f Kb\"% (os.path.getsize('/content/data/big2/vqa_model.zip') / float(1000)))"
      ],
      "execution_count": 42,
      "outputs": [
        {
          "output_type": "stream",
          "text": [
            "Original model before zipping: 624304.14 Kb\n",
            "Original model after zipping: 578842.27 Kb\n"
          ],
          "name": "stdout"
        }
      ]
    }
  ]
}