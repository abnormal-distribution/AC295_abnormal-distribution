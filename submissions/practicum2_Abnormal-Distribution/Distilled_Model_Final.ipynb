{
  "nbformat": 4,
  "nbformat_minor": 0,
  "metadata": {
    "colab": {
      "name": "Distilled_Model_Final.ipynb",
      "provenance": [],
      "collapsed_sections": [
        "86C4-p4lR6jE",
        "3idRbhCy12h9",
        "tAIWevAc2XYI",
        "EDHE_Nd6SCy7",
        "rOEndUuiaz7u",
        "fR7pciUW5__z",
        "SPWyyDZ90yFT",
        "i2QaSsOR6G6b",
        "JoMKbG_g6Hij",
        "C4TfXT23K2We",
        "Qznwjjb0SpJK",
        "Pn5Qfef_WivV",
        "DtvsuZtlTJjh",
        "qK1at5mO1ZCY"
      ],
      "toc_visible": true,
      "machine_shape": "hm"
    },
    "kernelspec": {
      "name": "python3",
      "display_name": "Python 3"
    },
    "accelerator": "GPU",
    "widgets": {
      "application/vnd.jupyter.widget-state+json": {
        "5dade8761b8749728b5c06d676e4d453": {
          "model_module": "@jupyter-widgets/controls",
          "model_name": "HBoxModel",
          "state": {
            "_view_name": "HBoxView",
            "_dom_classes": [],
            "_model_name": "HBoxModel",
            "_view_module": "@jupyter-widgets/controls",
            "_model_module_version": "1.5.0",
            "_view_count": null,
            "_view_module_version": "1.5.0",
            "box_style": "",
            "layout": "IPY_MODEL_f885ac69ea03498285969d6b59c5b88f",
            "_model_module": "@jupyter-widgets/controls",
            "children": [
              "IPY_MODEL_bfd9e893e4dd489f87d20c5da064fa54",
              "IPY_MODEL_b841a5ac7ae649c6be169b6adf8aa3a1"
            ]
          }
        },
        "f885ac69ea03498285969d6b59c5b88f": {
          "model_module": "@jupyter-widgets/base",
          "model_name": "LayoutModel",
          "state": {
            "_view_name": "LayoutView",
            "grid_template_rows": null,
            "right": null,
            "justify_content": null,
            "_view_module": "@jupyter-widgets/base",
            "overflow": null,
            "_model_module_version": "1.2.0",
            "_view_count": null,
            "flex_flow": null,
            "width": null,
            "min_width": null,
            "border": null,
            "align_items": null,
            "bottom": null,
            "_model_module": "@jupyter-widgets/base",
            "top": null,
            "grid_column": null,
            "overflow_y": null,
            "overflow_x": null,
            "grid_auto_flow": null,
            "grid_area": null,
            "grid_template_columns": null,
            "flex": null,
            "_model_name": "LayoutModel",
            "justify_items": null,
            "grid_row": null,
            "max_height": null,
            "align_content": null,
            "visibility": null,
            "align_self": null,
            "height": null,
            "min_height": null,
            "padding": null,
            "grid_auto_rows": null,
            "grid_gap": null,
            "max_width": null,
            "order": null,
            "_view_module_version": "1.2.0",
            "grid_template_areas": null,
            "object_position": null,
            "object_fit": null,
            "grid_auto_columns": null,
            "margin": null,
            "display": null,
            "left": null
          }
        },
        "bfd9e893e4dd489f87d20c5da064fa54": {
          "model_module": "@jupyter-widgets/controls",
          "model_name": "FloatProgressModel",
          "state": {
            "_view_name": "ProgressView",
            "style": "IPY_MODEL_e253ddba8e0c412c972388478b4bf60c",
            "_dom_classes": [],
            "description": "Downloading: 100%",
            "_model_name": "FloatProgressModel",
            "bar_style": "success",
            "max": 433,
            "_view_module": "@jupyter-widgets/controls",
            "_model_module_version": "1.5.0",
            "value": 433,
            "_view_count": null,
            "_view_module_version": "1.5.0",
            "orientation": "horizontal",
            "min": 0,
            "description_tooltip": null,
            "_model_module": "@jupyter-widgets/controls",
            "layout": "IPY_MODEL_36569e9bcf384aa092d5418eb5a08406"
          }
        },
        "b841a5ac7ae649c6be169b6adf8aa3a1": {
          "model_module": "@jupyter-widgets/controls",
          "model_name": "HTMLModel",
          "state": {
            "_view_name": "HTMLView",
            "style": "IPY_MODEL_c001c0d82ea445b3834829c10a058ee5",
            "_dom_classes": [],
            "description": "",
            "_model_name": "HTMLModel",
            "placeholder": "​",
            "_view_module": "@jupyter-widgets/controls",
            "_model_module_version": "1.5.0",
            "value": " 433/433 [00:07&lt;00:00, 57.9B/s]",
            "_view_count": null,
            "_view_module_version": "1.5.0",
            "description_tooltip": null,
            "_model_module": "@jupyter-widgets/controls",
            "layout": "IPY_MODEL_bece841392ec4d75a980e55f2c22dadf"
          }
        },
        "e253ddba8e0c412c972388478b4bf60c": {
          "model_module": "@jupyter-widgets/controls",
          "model_name": "ProgressStyleModel",
          "state": {
            "_view_name": "StyleView",
            "_model_name": "ProgressStyleModel",
            "description_width": "initial",
            "_view_module": "@jupyter-widgets/base",
            "_model_module_version": "1.5.0",
            "_view_count": null,
            "_view_module_version": "1.2.0",
            "bar_color": null,
            "_model_module": "@jupyter-widgets/controls"
          }
        },
        "36569e9bcf384aa092d5418eb5a08406": {
          "model_module": "@jupyter-widgets/base",
          "model_name": "LayoutModel",
          "state": {
            "_view_name": "LayoutView",
            "grid_template_rows": null,
            "right": null,
            "justify_content": null,
            "_view_module": "@jupyter-widgets/base",
            "overflow": null,
            "_model_module_version": "1.2.0",
            "_view_count": null,
            "flex_flow": null,
            "width": null,
            "min_width": null,
            "border": null,
            "align_items": null,
            "bottom": null,
            "_model_module": "@jupyter-widgets/base",
            "top": null,
            "grid_column": null,
            "overflow_y": null,
            "overflow_x": null,
            "grid_auto_flow": null,
            "grid_area": null,
            "grid_template_columns": null,
            "flex": null,
            "_model_name": "LayoutModel",
            "justify_items": null,
            "grid_row": null,
            "max_height": null,
            "align_content": null,
            "visibility": null,
            "align_self": null,
            "height": null,
            "min_height": null,
            "padding": null,
            "grid_auto_rows": null,
            "grid_gap": null,
            "max_width": null,
            "order": null,
            "_view_module_version": "1.2.0",
            "grid_template_areas": null,
            "object_position": null,
            "object_fit": null,
            "grid_auto_columns": null,
            "margin": null,
            "display": null,
            "left": null
          }
        },
        "c001c0d82ea445b3834829c10a058ee5": {
          "model_module": "@jupyter-widgets/controls",
          "model_name": "DescriptionStyleModel",
          "state": {
            "_view_name": "StyleView",
            "_model_name": "DescriptionStyleModel",
            "description_width": "",
            "_view_module": "@jupyter-widgets/base",
            "_model_module_version": "1.5.0",
            "_view_count": null,
            "_view_module_version": "1.2.0",
            "_model_module": "@jupyter-widgets/controls"
          }
        },
        "bece841392ec4d75a980e55f2c22dadf": {
          "model_module": "@jupyter-widgets/base",
          "model_name": "LayoutModel",
          "state": {
            "_view_name": "LayoutView",
            "grid_template_rows": null,
            "right": null,
            "justify_content": null,
            "_view_module": "@jupyter-widgets/base",
            "overflow": null,
            "_model_module_version": "1.2.0",
            "_view_count": null,
            "flex_flow": null,
            "width": null,
            "min_width": null,
            "border": null,
            "align_items": null,
            "bottom": null,
            "_model_module": "@jupyter-widgets/base",
            "top": null,
            "grid_column": null,
            "overflow_y": null,
            "overflow_x": null,
            "grid_auto_flow": null,
            "grid_area": null,
            "grid_template_columns": null,
            "flex": null,
            "_model_name": "LayoutModel",
            "justify_items": null,
            "grid_row": null,
            "max_height": null,
            "align_content": null,
            "visibility": null,
            "align_self": null,
            "height": null,
            "min_height": null,
            "padding": null,
            "grid_auto_rows": null,
            "grid_gap": null,
            "max_width": null,
            "order": null,
            "_view_module_version": "1.2.0",
            "grid_template_areas": null,
            "object_position": null,
            "object_fit": null,
            "grid_auto_columns": null,
            "margin": null,
            "display": null,
            "left": null
          }
        },
        "ef687359b28f4fa5b61e1e9b9889978e": {
          "model_module": "@jupyter-widgets/controls",
          "model_name": "HBoxModel",
          "state": {
            "_view_name": "HBoxView",
            "_dom_classes": [],
            "_model_name": "HBoxModel",
            "_view_module": "@jupyter-widgets/controls",
            "_model_module_version": "1.5.0",
            "_view_count": null,
            "_view_module_version": "1.5.0",
            "box_style": "",
            "layout": "IPY_MODEL_189d1cef11854d11abacad573744b39d",
            "_model_module": "@jupyter-widgets/controls",
            "children": [
              "IPY_MODEL_f1b43806dd25474290669c1598fdb540",
              "IPY_MODEL_3b0d753043af4b7baf49d4cd46747bda"
            ]
          }
        },
        "189d1cef11854d11abacad573744b39d": {
          "model_module": "@jupyter-widgets/base",
          "model_name": "LayoutModel",
          "state": {
            "_view_name": "LayoutView",
            "grid_template_rows": null,
            "right": null,
            "justify_content": null,
            "_view_module": "@jupyter-widgets/base",
            "overflow": null,
            "_model_module_version": "1.2.0",
            "_view_count": null,
            "flex_flow": null,
            "width": null,
            "min_width": null,
            "border": null,
            "align_items": null,
            "bottom": null,
            "_model_module": "@jupyter-widgets/base",
            "top": null,
            "grid_column": null,
            "overflow_y": null,
            "overflow_x": null,
            "grid_auto_flow": null,
            "grid_area": null,
            "grid_template_columns": null,
            "flex": null,
            "_model_name": "LayoutModel",
            "justify_items": null,
            "grid_row": null,
            "max_height": null,
            "align_content": null,
            "visibility": null,
            "align_self": null,
            "height": null,
            "min_height": null,
            "padding": null,
            "grid_auto_rows": null,
            "grid_gap": null,
            "max_width": null,
            "order": null,
            "_view_module_version": "1.2.0",
            "grid_template_areas": null,
            "object_position": null,
            "object_fit": null,
            "grid_auto_columns": null,
            "margin": null,
            "display": null,
            "left": null
          }
        },
        "f1b43806dd25474290669c1598fdb540": {
          "model_module": "@jupyter-widgets/controls",
          "model_name": "FloatProgressModel",
          "state": {
            "_view_name": "ProgressView",
            "style": "IPY_MODEL_0b53f3ba29504cbbaaf8117d0b851916",
            "_dom_classes": [],
            "description": "Downloading: 100%",
            "_model_name": "FloatProgressModel",
            "bar_style": "success",
            "max": 536063208,
            "_view_module": "@jupyter-widgets/controls",
            "_model_module_version": "1.5.0",
            "value": 536063208,
            "_view_count": null,
            "_view_module_version": "1.5.0",
            "orientation": "horizontal",
            "min": 0,
            "description_tooltip": null,
            "_model_module": "@jupyter-widgets/controls",
            "layout": "IPY_MODEL_00ef41527ee34deea710fe45d57873dd"
          }
        },
        "3b0d753043af4b7baf49d4cd46747bda": {
          "model_module": "@jupyter-widgets/controls",
          "model_name": "HTMLModel",
          "state": {
            "_view_name": "HTMLView",
            "style": "IPY_MODEL_4ccf01e2be1a4011a776bbb14ef9b783",
            "_dom_classes": [],
            "description": "",
            "_model_name": "HTMLModel",
            "placeholder": "​",
            "_view_module": "@jupyter-widgets/controls",
            "_model_module_version": "1.5.0",
            "value": " 536M/536M [00:07&lt;00:00, 76.5MB/s]",
            "_view_count": null,
            "_view_module_version": "1.5.0",
            "description_tooltip": null,
            "_model_module": "@jupyter-widgets/controls",
            "layout": "IPY_MODEL_7fb72bcf4c98421ca784e30c3fc3307d"
          }
        },
        "0b53f3ba29504cbbaaf8117d0b851916": {
          "model_module": "@jupyter-widgets/controls",
          "model_name": "ProgressStyleModel",
          "state": {
            "_view_name": "StyleView",
            "_model_name": "ProgressStyleModel",
            "description_width": "initial",
            "_view_module": "@jupyter-widgets/base",
            "_model_module_version": "1.5.0",
            "_view_count": null,
            "_view_module_version": "1.2.0",
            "bar_color": null,
            "_model_module": "@jupyter-widgets/controls"
          }
        },
        "00ef41527ee34deea710fe45d57873dd": {
          "model_module": "@jupyter-widgets/base",
          "model_name": "LayoutModel",
          "state": {
            "_view_name": "LayoutView",
            "grid_template_rows": null,
            "right": null,
            "justify_content": null,
            "_view_module": "@jupyter-widgets/base",
            "overflow": null,
            "_model_module_version": "1.2.0",
            "_view_count": null,
            "flex_flow": null,
            "width": null,
            "min_width": null,
            "border": null,
            "align_items": null,
            "bottom": null,
            "_model_module": "@jupyter-widgets/base",
            "top": null,
            "grid_column": null,
            "overflow_y": null,
            "overflow_x": null,
            "grid_auto_flow": null,
            "grid_area": null,
            "grid_template_columns": null,
            "flex": null,
            "_model_name": "LayoutModel",
            "justify_items": null,
            "grid_row": null,
            "max_height": null,
            "align_content": null,
            "visibility": null,
            "align_self": null,
            "height": null,
            "min_height": null,
            "padding": null,
            "grid_auto_rows": null,
            "grid_gap": null,
            "max_width": null,
            "order": null,
            "_view_module_version": "1.2.0",
            "grid_template_areas": null,
            "object_position": null,
            "object_fit": null,
            "grid_auto_columns": null,
            "margin": null,
            "display": null,
            "left": null
          }
        },
        "4ccf01e2be1a4011a776bbb14ef9b783": {
          "model_module": "@jupyter-widgets/controls",
          "model_name": "DescriptionStyleModel",
          "state": {
            "_view_name": "StyleView",
            "_model_name": "DescriptionStyleModel",
            "description_width": "",
            "_view_module": "@jupyter-widgets/base",
            "_model_module_version": "1.5.0",
            "_view_count": null,
            "_view_module_version": "1.2.0",
            "_model_module": "@jupyter-widgets/controls"
          }
        },
        "7fb72bcf4c98421ca784e30c3fc3307d": {
          "model_module": "@jupyter-widgets/base",
          "model_name": "LayoutModel",
          "state": {
            "_view_name": "LayoutView",
            "grid_template_rows": null,
            "right": null,
            "justify_content": null,
            "_view_module": "@jupyter-widgets/base",
            "overflow": null,
            "_model_module_version": "1.2.0",
            "_view_count": null,
            "flex_flow": null,
            "width": null,
            "min_width": null,
            "border": null,
            "align_items": null,
            "bottom": null,
            "_model_module": "@jupyter-widgets/base",
            "top": null,
            "grid_column": null,
            "overflow_y": null,
            "overflow_x": null,
            "grid_auto_flow": null,
            "grid_area": null,
            "grid_template_columns": null,
            "flex": null,
            "_model_name": "LayoutModel",
            "justify_items": null,
            "grid_row": null,
            "max_height": null,
            "align_content": null,
            "visibility": null,
            "align_self": null,
            "height": null,
            "min_height": null,
            "padding": null,
            "grid_auto_rows": null,
            "grid_gap": null,
            "max_width": null,
            "order": null,
            "_view_module_version": "1.2.0",
            "grid_template_areas": null,
            "object_position": null,
            "object_fit": null,
            "grid_auto_columns": null,
            "margin": null,
            "display": null,
            "left": null
          }
        },
        "f4fe876671ad4d459fea638118873fad": {
          "model_module": "@jupyter-widgets/controls",
          "model_name": "HBoxModel",
          "state": {
            "_view_name": "HBoxView",
            "_dom_classes": [],
            "_model_name": "HBoxModel",
            "_view_module": "@jupyter-widgets/controls",
            "_model_module_version": "1.5.0",
            "_view_count": null,
            "_view_module_version": "1.5.0",
            "box_style": "",
            "layout": "IPY_MODEL_1e80856797ba4afabe7512f58ed14f89",
            "_model_module": "@jupyter-widgets/controls",
            "children": [
              "IPY_MODEL_68896813bf8f449cb49cba2762ae850f",
              "IPY_MODEL_93971ce2304f4a3f97a6b4efa22835fc"
            ]
          }
        },
        "1e80856797ba4afabe7512f58ed14f89": {
          "model_module": "@jupyter-widgets/base",
          "model_name": "LayoutModel",
          "state": {
            "_view_name": "LayoutView",
            "grid_template_rows": null,
            "right": null,
            "justify_content": null,
            "_view_module": "@jupyter-widgets/base",
            "overflow": null,
            "_model_module_version": "1.2.0",
            "_view_count": null,
            "flex_flow": null,
            "width": null,
            "min_width": null,
            "border": null,
            "align_items": null,
            "bottom": null,
            "_model_module": "@jupyter-widgets/base",
            "top": null,
            "grid_column": null,
            "overflow_y": null,
            "overflow_x": null,
            "grid_auto_flow": null,
            "grid_area": null,
            "grid_template_columns": null,
            "flex": null,
            "_model_name": "LayoutModel",
            "justify_items": null,
            "grid_row": null,
            "max_height": null,
            "align_content": null,
            "visibility": null,
            "align_self": null,
            "height": null,
            "min_height": null,
            "padding": null,
            "grid_auto_rows": null,
            "grid_gap": null,
            "max_width": null,
            "order": null,
            "_view_module_version": "1.2.0",
            "grid_template_areas": null,
            "object_position": null,
            "object_fit": null,
            "grid_auto_columns": null,
            "margin": null,
            "display": null,
            "left": null
          }
        },
        "68896813bf8f449cb49cba2762ae850f": {
          "model_module": "@jupyter-widgets/controls",
          "model_name": "FloatProgressModel",
          "state": {
            "_view_name": "ProgressView",
            "style": "IPY_MODEL_992ef8a396cb46689f5c5caa316d726a",
            "_dom_classes": [],
            "description": "Downloading: 100%",
            "_model_name": "FloatProgressModel",
            "bar_style": "success",
            "max": 442,
            "_view_module": "@jupyter-widgets/controls",
            "_model_module_version": "1.5.0",
            "value": 442,
            "_view_count": null,
            "_view_module_version": "1.5.0",
            "orientation": "horizontal",
            "min": 0,
            "description_tooltip": null,
            "_model_module": "@jupyter-widgets/controls",
            "layout": "IPY_MODEL_0f7fe7be1943489fb0be0e84438b0769"
          }
        },
        "93971ce2304f4a3f97a6b4efa22835fc": {
          "model_module": "@jupyter-widgets/controls",
          "model_name": "HTMLModel",
          "state": {
            "_view_name": "HTMLView",
            "style": "IPY_MODEL_b50cc95fbaf941e78ed715eb94d8f388",
            "_dom_classes": [],
            "description": "",
            "_model_name": "HTMLModel",
            "placeholder": "​",
            "_view_module": "@jupyter-widgets/controls",
            "_model_module_version": "1.5.0",
            "value": " 442/442 [00:00&lt;00:00, 15.5kB/s]",
            "_view_count": null,
            "_view_module_version": "1.5.0",
            "description_tooltip": null,
            "_model_module": "@jupyter-widgets/controls",
            "layout": "IPY_MODEL_9f1eb5b7cdeb40479e38ea5b9edbfc1f"
          }
        },
        "992ef8a396cb46689f5c5caa316d726a": {
          "model_module": "@jupyter-widgets/controls",
          "model_name": "ProgressStyleModel",
          "state": {
            "_view_name": "StyleView",
            "_model_name": "ProgressStyleModel",
            "description_width": "initial",
            "_view_module": "@jupyter-widgets/base",
            "_model_module_version": "1.5.0",
            "_view_count": null,
            "_view_module_version": "1.2.0",
            "bar_color": null,
            "_model_module": "@jupyter-widgets/controls"
          }
        },
        "0f7fe7be1943489fb0be0e84438b0769": {
          "model_module": "@jupyter-widgets/base",
          "model_name": "LayoutModel",
          "state": {
            "_view_name": "LayoutView",
            "grid_template_rows": null,
            "right": null,
            "justify_content": null,
            "_view_module": "@jupyter-widgets/base",
            "overflow": null,
            "_model_module_version": "1.2.0",
            "_view_count": null,
            "flex_flow": null,
            "width": null,
            "min_width": null,
            "border": null,
            "align_items": null,
            "bottom": null,
            "_model_module": "@jupyter-widgets/base",
            "top": null,
            "grid_column": null,
            "overflow_y": null,
            "overflow_x": null,
            "grid_auto_flow": null,
            "grid_area": null,
            "grid_template_columns": null,
            "flex": null,
            "_model_name": "LayoutModel",
            "justify_items": null,
            "grid_row": null,
            "max_height": null,
            "align_content": null,
            "visibility": null,
            "align_self": null,
            "height": null,
            "min_height": null,
            "padding": null,
            "grid_auto_rows": null,
            "grid_gap": null,
            "max_width": null,
            "order": null,
            "_view_module_version": "1.2.0",
            "grid_template_areas": null,
            "object_position": null,
            "object_fit": null,
            "grid_auto_columns": null,
            "margin": null,
            "display": null,
            "left": null
          }
        },
        "b50cc95fbaf941e78ed715eb94d8f388": {
          "model_module": "@jupyter-widgets/controls",
          "model_name": "DescriptionStyleModel",
          "state": {
            "_view_name": "StyleView",
            "_model_name": "DescriptionStyleModel",
            "description_width": "",
            "_view_module": "@jupyter-widgets/base",
            "_model_module_version": "1.5.0",
            "_view_count": null,
            "_view_module_version": "1.2.0",
            "_model_module": "@jupyter-widgets/controls"
          }
        },
        "9f1eb5b7cdeb40479e38ea5b9edbfc1f": {
          "model_module": "@jupyter-widgets/base",
          "model_name": "LayoutModel",
          "state": {
            "_view_name": "LayoutView",
            "grid_template_rows": null,
            "right": null,
            "justify_content": null,
            "_view_module": "@jupyter-widgets/base",
            "overflow": null,
            "_model_module_version": "1.2.0",
            "_view_count": null,
            "flex_flow": null,
            "width": null,
            "min_width": null,
            "border": null,
            "align_items": null,
            "bottom": null,
            "_model_module": "@jupyter-widgets/base",
            "top": null,
            "grid_column": null,
            "overflow_y": null,
            "overflow_x": null,
            "grid_auto_flow": null,
            "grid_area": null,
            "grid_template_columns": null,
            "flex": null,
            "_model_name": "LayoutModel",
            "justify_items": null,
            "grid_row": null,
            "max_height": null,
            "align_content": null,
            "visibility": null,
            "align_self": null,
            "height": null,
            "min_height": null,
            "padding": null,
            "grid_auto_rows": null,
            "grid_gap": null,
            "max_width": null,
            "order": null,
            "_view_module_version": "1.2.0",
            "grid_template_areas": null,
            "object_position": null,
            "object_fit": null,
            "grid_auto_columns": null,
            "margin": null,
            "display": null,
            "left": null
          }
        },
        "26e8412a3411452797066306c47c3711": {
          "model_module": "@jupyter-widgets/controls",
          "model_name": "HBoxModel",
          "state": {
            "_view_name": "HBoxView",
            "_dom_classes": [],
            "_model_name": "HBoxModel",
            "_view_module": "@jupyter-widgets/controls",
            "_model_module_version": "1.5.0",
            "_view_count": null,
            "_view_module_version": "1.5.0",
            "box_style": "",
            "layout": "IPY_MODEL_9ee01caadfc14908bfac1600562d60cc",
            "_model_module": "@jupyter-widgets/controls",
            "children": [
              "IPY_MODEL_004baf421055467fb4029ef35fea3acb",
              "IPY_MODEL_cbe508ff209441309ccce8536132ee96"
            ]
          }
        },
        "9ee01caadfc14908bfac1600562d60cc": {
          "model_module": "@jupyter-widgets/base",
          "model_name": "LayoutModel",
          "state": {
            "_view_name": "LayoutView",
            "grid_template_rows": null,
            "right": null,
            "justify_content": null,
            "_view_module": "@jupyter-widgets/base",
            "overflow": null,
            "_model_module_version": "1.2.0",
            "_view_count": null,
            "flex_flow": null,
            "width": null,
            "min_width": null,
            "border": null,
            "align_items": null,
            "bottom": null,
            "_model_module": "@jupyter-widgets/base",
            "top": null,
            "grid_column": null,
            "overflow_y": null,
            "overflow_x": null,
            "grid_auto_flow": null,
            "grid_area": null,
            "grid_template_columns": null,
            "flex": null,
            "_model_name": "LayoutModel",
            "justify_items": null,
            "grid_row": null,
            "max_height": null,
            "align_content": null,
            "visibility": null,
            "align_self": null,
            "height": null,
            "min_height": null,
            "padding": null,
            "grid_auto_rows": null,
            "grid_gap": null,
            "max_width": null,
            "order": null,
            "_view_module_version": "1.2.0",
            "grid_template_areas": null,
            "object_position": null,
            "object_fit": null,
            "grid_auto_columns": null,
            "margin": null,
            "display": null,
            "left": null
          }
        },
        "004baf421055467fb4029ef35fea3acb": {
          "model_module": "@jupyter-widgets/controls",
          "model_name": "FloatProgressModel",
          "state": {
            "_view_name": "ProgressView",
            "style": "IPY_MODEL_7fadf380f98444c4b6e0912175f0565d",
            "_dom_classes": [],
            "description": "Downloading: 100%",
            "_model_name": "FloatProgressModel",
            "bar_style": "success",
            "max": 363423424,
            "_view_module": "@jupyter-widgets/controls",
            "_model_module_version": "1.5.0",
            "value": 363423424,
            "_view_count": null,
            "_view_module_version": "1.5.0",
            "orientation": "horizontal",
            "min": 0,
            "description_tooltip": null,
            "_model_module": "@jupyter-widgets/controls",
            "layout": "IPY_MODEL_69f3edc60c2d487692d1bd7817363f36"
          }
        },
        "cbe508ff209441309ccce8536132ee96": {
          "model_module": "@jupyter-widgets/controls",
          "model_name": "HTMLModel",
          "state": {
            "_view_name": "HTMLView",
            "style": "IPY_MODEL_a4cdd59d220a41faa1c1f4d3f315f85f",
            "_dom_classes": [],
            "description": "",
            "_model_name": "HTMLModel",
            "placeholder": "​",
            "_view_module": "@jupyter-widgets/controls",
            "_model_module_version": "1.5.0",
            "value": " 363M/363M [00:04&lt;00:00, 77.6MB/s]",
            "_view_count": null,
            "_view_module_version": "1.5.0",
            "description_tooltip": null,
            "_model_module": "@jupyter-widgets/controls",
            "layout": "IPY_MODEL_12a7b091e9cd4c8198c47f7b8fbdf947"
          }
        },
        "7fadf380f98444c4b6e0912175f0565d": {
          "model_module": "@jupyter-widgets/controls",
          "model_name": "ProgressStyleModel",
          "state": {
            "_view_name": "StyleView",
            "_model_name": "ProgressStyleModel",
            "description_width": "initial",
            "_view_module": "@jupyter-widgets/base",
            "_model_module_version": "1.5.0",
            "_view_count": null,
            "_view_module_version": "1.2.0",
            "bar_color": null,
            "_model_module": "@jupyter-widgets/controls"
          }
        },
        "69f3edc60c2d487692d1bd7817363f36": {
          "model_module": "@jupyter-widgets/base",
          "model_name": "LayoutModel",
          "state": {
            "_view_name": "LayoutView",
            "grid_template_rows": null,
            "right": null,
            "justify_content": null,
            "_view_module": "@jupyter-widgets/base",
            "overflow": null,
            "_model_module_version": "1.2.0",
            "_view_count": null,
            "flex_flow": null,
            "width": null,
            "min_width": null,
            "border": null,
            "align_items": null,
            "bottom": null,
            "_model_module": "@jupyter-widgets/base",
            "top": null,
            "grid_column": null,
            "overflow_y": null,
            "overflow_x": null,
            "grid_auto_flow": null,
            "grid_area": null,
            "grid_template_columns": null,
            "flex": null,
            "_model_name": "LayoutModel",
            "justify_items": null,
            "grid_row": null,
            "max_height": null,
            "align_content": null,
            "visibility": null,
            "align_self": null,
            "height": null,
            "min_height": null,
            "padding": null,
            "grid_auto_rows": null,
            "grid_gap": null,
            "max_width": null,
            "order": null,
            "_view_module_version": "1.2.0",
            "grid_template_areas": null,
            "object_position": null,
            "object_fit": null,
            "grid_auto_columns": null,
            "margin": null,
            "display": null,
            "left": null
          }
        },
        "a4cdd59d220a41faa1c1f4d3f315f85f": {
          "model_module": "@jupyter-widgets/controls",
          "model_name": "DescriptionStyleModel",
          "state": {
            "_view_name": "StyleView",
            "_model_name": "DescriptionStyleModel",
            "description_width": "",
            "_view_module": "@jupyter-widgets/base",
            "_model_module_version": "1.5.0",
            "_view_count": null,
            "_view_module_version": "1.2.0",
            "_model_module": "@jupyter-widgets/controls"
          }
        },
        "12a7b091e9cd4c8198c47f7b8fbdf947": {
          "model_module": "@jupyter-widgets/base",
          "model_name": "LayoutModel",
          "state": {
            "_view_name": "LayoutView",
            "grid_template_rows": null,
            "right": null,
            "justify_content": null,
            "_view_module": "@jupyter-widgets/base",
            "overflow": null,
            "_model_module_version": "1.2.0",
            "_view_count": null,
            "flex_flow": null,
            "width": null,
            "min_width": null,
            "border": null,
            "align_items": null,
            "bottom": null,
            "_model_module": "@jupyter-widgets/base",
            "top": null,
            "grid_column": null,
            "overflow_y": null,
            "overflow_x": null,
            "grid_auto_flow": null,
            "grid_area": null,
            "grid_template_columns": null,
            "flex": null,
            "_model_name": "LayoutModel",
            "justify_items": null,
            "grid_row": null,
            "max_height": null,
            "align_content": null,
            "visibility": null,
            "align_self": null,
            "height": null,
            "min_height": null,
            "padding": null,
            "grid_auto_rows": null,
            "grid_gap": null,
            "max_width": null,
            "order": null,
            "_view_module_version": "1.2.0",
            "grid_template_areas": null,
            "object_position": null,
            "object_fit": null,
            "grid_auto_columns": null,
            "margin": null,
            "display": null,
            "left": null
          }
        }
      }
    }
  },
  "cells": [
    {
      "cell_type": "markdown",
      "metadata": {
        "id": "Ch6vpxrwQdcc"
      },
      "source": [
        "<h1 style=\"padding-top: 25px;padding-bottom: 25px;text-align: left; padding-left: 10px; background-color: #DDDDDD; \n",
        "    color: black;\"> <img style=\"float: left; padding-right: 10px; width: 45px\" src=\"https://raw.githubusercontent.com/Harvard-IACS/2018-CS109A/master/content/styles/iacs.png\"> AC295: Advanced Practical Data Science </h1>\n",
        "\n",
        "## Practicum 2: Visual Question Answering\n",
        "\n",
        "**Harvard University, Fall 2020**  \n",
        "**Instructors**: Pavlos Protopapas  \n",
        "\n",
        "### **Team: $\\alpha\\beta normal$ $Distri\\beta ution$**\n",
        "#### **Roht Beri, Eduardo Peynetti, Jessica Wijaya, Stuart Neilson**"
      ]
    },
    {
      "cell_type": "markdown",
      "metadata": {
        "id": "86zGynCVRsdD"
      },
      "source": [
        "## Model Distillation"
      ]
    },
    {
      "cell_type": "markdown",
      "metadata": {
        "id": "86C4-p4lR6jE"
      },
      "source": [
        "### Install Packages"
      ]
    },
    {
      "cell_type": "code",
      "metadata": {
        "id": "LyGrRhuBwNJb",
        "outputId": "778208cf-50d3-4c8e-99e9-1bd96c36855c",
        "colab": {
          "base_uri": "https://localhost:8080/"
        }
      },
      "source": [
        "!pip3 install transformers"
      ],
      "execution_count": 1,
      "outputs": [
        {
          "output_type": "stream",
          "text": [
            "Collecting transformers\n",
            "\u001b[?25l  Downloading https://files.pythonhosted.org/packages/3a/83/e74092e7f24a08d751aa59b37a9fc572b2e4af3918cb66f7766c3affb1b4/transformers-3.5.1-py3-none-any.whl (1.3MB)\n",
            "\u001b[K     |████████████████████████████████| 1.3MB 13.4MB/s \n",
            "\u001b[?25hCollecting sentencepiece==0.1.91\n",
            "\u001b[?25l  Downloading https://files.pythonhosted.org/packages/d4/a4/d0a884c4300004a78cca907a6ff9a5e9fe4f090f5d95ab341c53d28cbc58/sentencepiece-0.1.91-cp36-cp36m-manylinux1_x86_64.whl (1.1MB)\n",
            "\u001b[K     |████████████████████████████████| 1.1MB 44.9MB/s \n",
            "\u001b[?25hRequirement already satisfied: regex!=2019.12.17 in /usr/local/lib/python3.6/dist-packages (from transformers) (2019.12.20)\n",
            "Collecting sacremoses\n",
            "\u001b[?25l  Downloading https://files.pythonhosted.org/packages/7d/34/09d19aff26edcc8eb2a01bed8e98f13a1537005d31e95233fd48216eed10/sacremoses-0.0.43.tar.gz (883kB)\n",
            "\u001b[K     |████████████████████████████████| 890kB 49.0MB/s \n",
            "\u001b[?25hRequirement already satisfied: numpy in /usr/local/lib/python3.6/dist-packages (from transformers) (1.18.5)\n",
            "Requirement already satisfied: filelock in /usr/local/lib/python3.6/dist-packages (from transformers) (3.0.12)\n",
            "Collecting tokenizers==0.9.3\n",
            "\u001b[?25l  Downloading https://files.pythonhosted.org/packages/4c/34/b39eb9994bc3c999270b69c9eea40ecc6f0e97991dba28282b9fd32d44ee/tokenizers-0.9.3-cp36-cp36m-manylinux1_x86_64.whl (2.9MB)\n",
            "\u001b[K     |████████████████████████████████| 2.9MB 56.9MB/s \n",
            "\u001b[?25hRequirement already satisfied: protobuf in /usr/local/lib/python3.6/dist-packages (from transformers) (3.12.4)\n",
            "Requirement already satisfied: requests in /usr/local/lib/python3.6/dist-packages (from transformers) (2.23.0)\n",
            "Requirement already satisfied: dataclasses; python_version < \"3.7\" in /usr/local/lib/python3.6/dist-packages (from transformers) (0.7)\n",
            "Requirement already satisfied: packaging in /usr/local/lib/python3.6/dist-packages (from transformers) (20.4)\n",
            "Requirement already satisfied: tqdm>=4.27 in /usr/local/lib/python3.6/dist-packages (from transformers) (4.41.1)\n",
            "Requirement already satisfied: six in /usr/local/lib/python3.6/dist-packages (from sacremoses->transformers) (1.15.0)\n",
            "Requirement already satisfied: click in /usr/local/lib/python3.6/dist-packages (from sacremoses->transformers) (7.1.2)\n",
            "Requirement already satisfied: joblib in /usr/local/lib/python3.6/dist-packages (from sacremoses->transformers) (0.17.0)\n",
            "Requirement already satisfied: setuptools in /usr/local/lib/python3.6/dist-packages (from protobuf->transformers) (50.3.2)\n",
            "Requirement already satisfied: urllib3!=1.25.0,!=1.25.1,<1.26,>=1.21.1 in /usr/local/lib/python3.6/dist-packages (from requests->transformers) (1.24.3)\n",
            "Requirement already satisfied: idna<3,>=2.5 in /usr/local/lib/python3.6/dist-packages (from requests->transformers) (2.10)\n",
            "Requirement already satisfied: chardet<4,>=3.0.2 in /usr/local/lib/python3.6/dist-packages (from requests->transformers) (3.0.4)\n",
            "Requirement already satisfied: certifi>=2017.4.17 in /usr/local/lib/python3.6/dist-packages (from requests->transformers) (2020.6.20)\n",
            "Requirement already satisfied: pyparsing>=2.0.2 in /usr/local/lib/python3.6/dist-packages (from packaging->transformers) (2.4.7)\n",
            "Building wheels for collected packages: sacremoses\n",
            "  Building wheel for sacremoses (setup.py) ... \u001b[?25l\u001b[?25hdone\n",
            "  Created wheel for sacremoses: filename=sacremoses-0.0.43-cp36-none-any.whl size=893257 sha256=437c3021a3fff4de570b9bbffc8e207feb361d5a5c3111aca5018a539ec85871\n",
            "  Stored in directory: /root/.cache/pip/wheels/29/3c/fd/7ce5c3f0666dab31a50123635e6fb5e19ceb42ce38d4e58f45\n",
            "Successfully built sacremoses\n",
            "Installing collected packages: sentencepiece, sacremoses, tokenizers, transformers\n",
            "Successfully installed sacremoses-0.0.43 sentencepiece-0.1.91 tokenizers-0.9.3 transformers-3.5.1\n"
          ],
          "name": "stdout"
        }
      ]
    },
    {
      "cell_type": "markdown",
      "metadata": {
        "id": "3idRbhCy12h9"
      },
      "source": [
        "### Imports"
      ]
    },
    {
      "cell_type": "code",
      "metadata": {
        "id": "dXHPXTLpQZ4V"
      },
      "source": [
        "import os\n",
        "import requests\n",
        "import tempfile\n",
        "import zipfile\n",
        "import shutil\n",
        "import json\n",
        "import time\n",
        "import sys\n",
        "import cv2\n",
        "import numpy as np\n",
        "import pandas as pd\n",
        "from collections import Counter\n",
        "from glob import glob\n",
        "from google.colab import drive\n",
        "from tqdm.notebook import trange, tqdm\n",
        "import subprocess\n",
        "import matplotlib.pyplot as plt\n",
        "%matplotlib inline\n",
        "\n",
        "import tensorflow as tf\n",
        "import tensorflow_addons as tfa\n",
        "import tensorflow_hub as hub\n",
        "from tensorflow import keras\n",
        "from tensorflow.python.keras import backend as K\n",
        "from tensorflow.keras.models import Model, Sequential\n",
        "from tensorflow.keras import layers\n",
        "from tensorflow.keras import activations\n",
        "from tensorflow.keras import optimizers\n",
        "from tensorflow.keras import losses\n",
        "from tensorflow.keras import metrics\n",
        "from tensorflow.keras import initializers\n",
        "from tensorflow.keras import regularizers\n",
        "from tensorflow.keras.utils import to_categorical\n",
        "from keras.utils.layer_utils import count_params\n",
        "from tensorflow_addons.metrics import F1Score\n",
        "\n",
        "from transformers import BertTokenizer, TFBertModel, TFDistilBertModel"
      ],
      "execution_count": 2,
      "outputs": []
    },
    {
      "cell_type": "markdown",
      "metadata": {
        "id": "tAIWevAc2XYI"
      },
      "source": [
        "### Download Data"
      ]
    },
    {
      "cell_type": "code",
      "metadata": {
        "id": "lpYGZYyPucLA",
        "outputId": "662c9475-23ac-4718-fb3f-71834a8199dc",
        "colab": {
          "base_uri": "https://localhost:8080/"
        }
      },
      "source": [
        "if not os.path.exists('/content/data'):\n",
        "    os.mkdir('/content/data')\n",
        "\n",
        "!gsutil cp -r gs://practicum2-abnormal-distribution/big2 /content/data"
      ],
      "execution_count": 3,
      "outputs": [
        {
          "output_type": "stream",
          "text": [
            "Copying gs://practicum2-abnormal-distribution/big2/answers.csv...\n",
            "Copying gs://practicum2-abnormal-distribution/big2/functional_1.h5...\n",
            "Copying gs://practicum2-abnormal-distribution/big2/train2014_tf/vaq_raw_train2014_00-of-10.records...\n",
            "- [3 files][  1.2 GiB/  1.2 GiB]  107.8 MiB/s                                   \n",
            "==> NOTE: You are performing a sequence of gsutil operations that may\n",
            "run significantly faster if you instead use gsutil -m cp ... Please\n",
            "see the -m section under \"gsutil help options\" for further information\n",
            "about when gsutil -m can be advantageous.\n",
            "\n",
            "Copying gs://practicum2-abnormal-distribution/big2/train2014_tf/vaq_raw_train2014_01-of-10.records...\n",
            "Copying gs://practicum2-abnormal-distribution/big2/train2014_tf/vaq_raw_train2014_02-of-10.records...\n",
            "Copying gs://practicum2-abnormal-distribution/big2/train2014_tf/vaq_raw_train2014_03-of-10.records...\n",
            "Copying gs://practicum2-abnormal-distribution/big2/train2014_tf/vaq_raw_train2014_04-of-10.records...\n",
            "Copying gs://practicum2-abnormal-distribution/big2/train2014_tf/vaq_raw_train2014_05-of-10.records...\n",
            "Copying gs://practicum2-abnormal-distribution/big2/train2014_tf/vaq_raw_train2014_06-of-10.records...\n",
            "Copying gs://practicum2-abnormal-distribution/big2/train2014_tf/vaq_raw_train2014_07-of-10.records...\n",
            "Copying gs://practicum2-abnormal-distribution/big2/train2014_tf/vaq_raw_train2014_08-of-10.records...\n",
            "Copying gs://practicum2-abnormal-distribution/big2/train2014_tf/vaq_raw_train2014_09-of-10.records...\n",
            "Copying gs://practicum2-abnormal-distribution/big2/train2014_tf/vaq_raw_train2014_10-of-10.records...\n",
            "Copying gs://practicum2-abnormal-distribution/big2/val2014_tf/vaq_raw_val2014_00-of-10.records...\n",
            "Copying gs://practicum2-abnormal-distribution/big2/val2014_tf/vaq_raw_val2014_01-of-10.records...\n",
            "Copying gs://practicum2-abnormal-distribution/big2/val2014_tf/vaq_raw_val2014_02-of-10.records...\n",
            "Copying gs://practicum2-abnormal-distribution/big2/val2014_tf/vaq_raw_val2014_03-of-10.records...\n",
            "Copying gs://practicum2-abnormal-distribution/big2/val2014_tf/vaq_raw_val2014_04-of-10.records...\n",
            "Copying gs://practicum2-abnormal-distribution/big2/val2014_tf/vaq_raw_val2014_05-of-10.records...\n",
            "Copying gs://practicum2-abnormal-distribution/big2/val2014_tf/vaq_raw_val2014_06-of-10.records...\n",
            "Copying gs://practicum2-abnormal-distribution/big2/val2014_tf/vaq_raw_val2014_07-of-10.records...\n",
            "Copying gs://practicum2-abnormal-distribution/big2/val2014_tf/vaq_raw_val2014_08-of-10.records...\n",
            "Copying gs://practicum2-abnormal-distribution/big2/val2014_tf/vaq_raw_val2014_09-of-10.records...\n",
            "Copying gs://practicum2-abnormal-distribution/big2/val2014_tf/vaq_raw_val2014_10-of-10.records...\n",
            "Copying gs://practicum2-abnormal-distribution/big2/vqa_model.h5...\n",
            "- [25 files][  9.7 GiB/  9.7 GiB]  118.0 MiB/s                                  \n",
            "==> NOTE: You are performing a sequence of gsutil operations that may\n",
            "run significantly faster if you instead use gsutil -m cp ... Please\n",
            "see the -m section under \"gsutil help options\" for further information\n",
            "about when gsutil -m can be advantageous.\n",
            "\n",
            "\n",
            "Operation completed over 25 objects/9.7 GiB.                                     \n"
          ],
          "name": "stdout"
        }
      ]
    },
    {
      "cell_type": "code",
      "metadata": {
        "id": "7hN9E7Lw4czk"
      },
      "source": [
        "#drive.mount('/content/drive', force_remount=False)\n",
        "# if not os.path.exists('/content/data'):\n",
        "#     os.mkdir('/content/data')\n",
        "\n",
        "#!cp -r '/content/drive/My Drive/Practicum2Data/big2' /content/data"
      ],
      "execution_count": 4,
      "outputs": []
    },
    {
      "cell_type": "markdown",
      "metadata": {
        "id": "EDHE_Nd6SCy7"
      },
      "source": [
        "### Utils"
      ]
    },
    {
      "cell_type": "code",
      "metadata": {
        "id": "EJhxKghA_lci"
      },
      "source": [
        "# we use the following to save the models\n",
        "class JsonEncoder(json.JSONEncoder):\n",
        "  def default(self, obj):\n",
        "    if isinstance(obj, np.integer):\n",
        "        return int(obj)\n",
        "    elif isinstance(obj, np.floating):\n",
        "        return float(obj)\n",
        "    elif isinstance(obj, decimal.Decimal):\n",
        "        return float(obj)\n",
        "    elif isinstance(obj, np.ndarray):\n",
        "        return obj.tolist()\n",
        "    else:\n",
        "        return super(JsonEncoder, self).default(obj)\n",
        "\n",
        "# save_model saves everything. weights, statuses and results. \n",
        "def save_model(model,training_results,execution_time, learning_rate, epochs, optimizer, evaluation_results,path=\"models\"):\n",
        "  model_name=model.name\n",
        "  # Get the model train history\n",
        "  model_train_history = training_results.history\n",
        "\n",
        "  # Ensure path exists\n",
        "  if not os.path.exists(path):\n",
        "      os.mkdir(path)\n",
        "\n",
        "  # Save the enitire model (structure + weights)\n",
        "  model.save(os.path.join(path,model_name+\".hdf5\"))\n",
        "\n",
        "  # Save only the weights\n",
        "  model.save_weights(os.path.join(path,model_name+\".h5\"))\n",
        "\n",
        "  # Save the structure only\n",
        "  model_json = model.to_json()\n",
        "  with open(os.path.join(path,model_name+\".json\"), \"w\") as json_file:\n",
        "      json_file.write(model_json)\n",
        "    \n",
        "  model_size = get_model_size(model_name=model_name)\n",
        "\n",
        "  # Save model history\n",
        "  with open(os.path.join(\"models\",model_name+\"_train_history.json\"), \"w\") as json_file:\n",
        "      json_file.write(json.dumps(model_train_history,cls=JsonEncoder))\n",
        "\n",
        "  trainable_parameters = count_params(model.trainable_weights)\n",
        "  non_trainable_parameters = count_params(model.non_trainable_weights)\n",
        "  total_params = trainable_parameters + non_trainable_parameters\n",
        "\n",
        "  # Save model metrics\n",
        "  metrics ={\n",
        "      \"total_params\":total_params,\n",
        "      \"execution_time\":execution_time,\n",
        "      \"loss\":evaluation_results[0],\n",
        "      \"accuracy\":evaluation_results[1],\n",
        "      \"model_size\":model_size,\n",
        "      \"learning_rate\":learning_rate,\n",
        "      \"epochs\":epochs,\n",
        "      \"optimizer\":type(optimizer).__name__,\n",
        "      \"name\": model_name,\n",
        "      \"id\": int(time.time())\n",
        "  }\n",
        "\n",
        "  with open(os.path.join(\"models\",model.name+\"_metrics.json\"), \"w\") as json_file:\n",
        "      json_file.write(json.dumps(metrics,cls=JsonEncoder))\n",
        "\n",
        "def get_model_size(path=\"models\",model_name=\"model01\"):\n",
        "  model_size = os.stat(os.path.join(path,model_name+\".hdf5\")).st_size\n",
        "  return model_size\n",
        "\n",
        "def evaluate_model(model,test_data, training_results,execution_time, learning_rate, epochs, \n",
        "                   optimizer,save=True, \n",
        "                   loss_metrics=[\"loss\",\"val_loss\"],\n",
        "                   acc_metrics=[\"accuracy\",\"val_accuracy\"]):\n",
        "    \n",
        "  # Get the model train history\n",
        "  model_train_history = training_results.history\n",
        "  # Get the number of epochs the training was run for\n",
        "  num_epochs = len(model_train_history[loss_metrics[0]])\n",
        "\n",
        "  # Plot training results\n",
        "  fig = plt.figure(figsize=(15,5))\n",
        "  axs = fig.add_subplot(1,2,1)\n",
        "  axs.set_title('Loss')\n",
        "  # Plot all metrics\n",
        "  for metric in loss_metrics:\n",
        "      axs.plot(np.arange(0, num_epochs), model_train_history[metric], label=metric)\n",
        "  axs.legend()\n",
        "  \n",
        "  axs = fig.add_subplot(1,2,2)\n",
        "  axs.set_title('Accuracy')\n",
        "  # Plot all metrics\n",
        "  for metric in acc_metrics:\n",
        "      axs.plot(np.arange(0, num_epochs), model_train_history[metric], label=metric)\n",
        "  axs.legend()\n",
        "\n",
        "  plt.show()\n",
        "  \n",
        "  # Evaluate on test data\n",
        "  evaluation_results = model.evaluate(test_data, return_dict=True)\n",
        "  print(evaluation_results)\n",
        "\n",
        "  evaluation_results = [evaluation_results[loss_metrics[0]], evaluation_results[acc_metrics[0]]]\n",
        "  \n",
        "  if save:\n",
        "      # Save model\n",
        "      save_model(model,training_results,execution_time, learning_rate, epochs, optimizer, evaluation_results)\n",
        "  \n",
        "  return evaluation_results"
      ],
      "execution_count": 5,
      "outputs": []
    },
    {
      "cell_type": "code",
      "metadata": {
        "id": "hBj_9MC2l8o_"
      },
      "source": [
        "# Get Top K answers\n",
        "def get_top_K_answers(k):\n",
        "    answers = pd.read_csv(\"/content/data/big2/answers.csv\", index_col=0)\n",
        "    answers = answers.iloc[:k]\n",
        "    return answers"
      ],
      "execution_count": 6,
      "outputs": []
    },
    {
      "cell_type": "code",
      "metadata": {
        "id": "RKnRAy5WHxkf"
      },
      "source": [
        "# Function to parse data features\n",
        "def _parse_features_function(example):\n",
        "    # Parse the input tf.train.Example proto using the dictionary above.\n",
        "    tf_records_features = {\n",
        "        'image_raw': tf.io.FixedLenFeature([], tf.string), \n",
        "        'question' : tf.io.FixedLenFeature([], tf.string),\n",
        "        'input_ids': tf.io.FixedLenFeature([], tf.string),\n",
        "        'token_type_ids': tf.io.FixedLenFeature([], tf.string),\n",
        "        'attention_mask': tf.io.FixedLenFeature([], tf.string), \n",
        "        'answer': tf.io.FixedLenFeature([], tf.int64)\n",
        "    }\n",
        "    return tf.io.parse_single_example(example, tf_records_features)\n",
        "\n",
        "\n",
        "# Filter if answer is no\n",
        "def filter_fn(x):\n",
        "    return x['answer'] < k\n",
        "\n",
        "\n",
        "# Read image and resize it\n",
        "def read_and_decode(img):\n",
        "    img = tf.image.decode_jpeg(img, channels=IMG_CHANNELS)\n",
        "    img = tf.cast(img, tf.float32)/255.0\n",
        "    return img\n",
        "\n",
        "\n",
        "# Structure the data for training\n",
        "def structure_data(data):\n",
        "    image = data['image_raw']\n",
        "    image = read_and_decode(image)\n",
        "    \n",
        "    input_ids = tf.io.decode_raw(data['input_ids'], tf.int32)\n",
        "    attention_mask = tf.io.decode_raw(data['attention_mask'], tf.int32)\n",
        "    token_type_ids = tf.io.decode_raw(data['token_type_ids'], tf.int32)\n",
        "    \n",
        "    answer = data['answer']\n",
        "\n",
        "    return ((image, (input_ids, token_type_ids, attention_mask)), answer)"
      ],
      "execution_count": 7,
      "outputs": []
    },
    {
      "cell_type": "markdown",
      "metadata": {
        "id": "rOEndUuiaz7u"
      },
      "source": [
        "### Important Variables and Constants"
      ]
    },
    {
      "cell_type": "code",
      "metadata": {
        "id": "UG29KGghUgqZ"
      },
      "source": [
        "# Constants\n",
        "IMG_WIDTH = 224\n",
        "IMG_HEIGHT = 224\n",
        "IMG_CHANNELS = 3\n",
        "\n",
        "AUTOTUNE = tf.data.experimental.AUTOTUNE\n",
        "\n",
        "# Pipeline variables\n",
        "k = 10\n",
        "batch_size = 32\n",
        "train_buffer_size = 32\n",
        "val_buffer_size = 32\n",
        "prefetch = AUTOTUNE"
      ],
      "execution_count": 8,
      "outputs": []
    },
    {
      "cell_type": "markdown",
      "metadata": {
        "id": "fR7pciUW5__z"
      },
      "source": [
        "### Get Top Answers"
      ]
    },
    {
      "cell_type": "code",
      "metadata": {
        "id": "BTFiNYkr6APs"
      },
      "source": [
        "top_answers = get_top_K_answers(k)\n",
        "TOP_ANSWERS = tf.constant(top_answers)"
      ],
      "execution_count": 9,
      "outputs": []
    },
    {
      "cell_type": "markdown",
      "metadata": {
        "id": "SPWyyDZ90yFT"
      },
      "source": [
        "### Build Pipeline"
      ]
    },
    {
      "cell_type": "code",
      "metadata": {
        "id": "nbEY61HinbFk"
      },
      "source": [
        "# ############## #\n",
        "# # Train data # #\n",
        "# ############## #\n",
        "tfrecords_pattern_path = \"/content/data/big2/train2014_tf/vaq_raw_train2014_*-of-*.records\"\n",
        "train_files = tf.io.matching_files(tfrecords_pattern_path)\n",
        "train_files = tf.random.shuffle(train_files)\n",
        "train_shards = tf.data.Dataset.from_tensor_slices(train_files)\n",
        "\n",
        "train = train_shards.interleave(tf.data.TFRecordDataset)\n",
        "train = train.map(_parse_features_function, num_parallel_calls=AUTOTUNE)\n",
        "train = train.filter(filter_fn)\n",
        "train = train.map(structure_data, num_parallel_calls=AUTOTUNE)\n",
        "#train = train.shuffle(buffer_size=train_buffer_size)\n",
        "train = train.batch(batch_size)\n",
        "#train = train.cache().prefetch(prefetch)\n",
        "\n",
        "# ################### #\n",
        "# # Validation data # #\n",
        "# ################### #\n",
        "tfrecords_pattern_path = \"/content/data/big2/val2014_tf/vaq_raw_val2014_*-of-*.records\"\n",
        "val_files = tf.io.matching_files(tfrecords_pattern_path)\n",
        "val_files = tf.random.shuffle(val_files)\n",
        "val_shards = tf.data.Dataset.from_tensor_slices(val_files)\n",
        "\n",
        "valid = val_shards.interleave(tf.data.TFRecordDataset)\n",
        "valid = valid.map(_parse_features_function, num_parallel_calls=AUTOTUNE)\n",
        "valid = valid.filter(filter_fn)\n",
        "valid = valid.map(structure_data, num_parallel_calls=AUTOTUNE)\n",
        "#valid = valid.shuffle(buffer_size=val_buffer_size)\n",
        "valid = valid.batch(batch_size)\n",
        "#valid = valid.cache().prefetch(prefetch)"
      ],
      "execution_count": 10,
      "outputs": []
    },
    {
      "cell_type": "markdown",
      "metadata": {
        "id": "i2QaSsOR6G6b"
      },
      "source": [
        "### Build Model"
      ]
    },
    {
      "cell_type": "markdown",
      "metadata": {
        "id": "GRj6Qk9dzB69"
      },
      "source": [
        ""
      ]
    },
    {
      "cell_type": "code",
      "metadata": {
        "id": "_phW9OwF_RwC"
      },
      "source": [
        "def build_vqa_model(image_height, image_width, num_channels, num_classes):\n",
        "    # Handle to pretrained model (Use a different model here)\n",
        "    input_shape=[image_height, image_width, num_channels]\n",
        "    resnet = keras.applications.VGG19(\n",
        "        include_top=False, \n",
        "        weights='imagenet', \n",
        "        input_shape=input_shape\n",
        "    )\n",
        "    resnet.trainable = False\n",
        "    image_hidden_states = layers.Flatten()(resnet.output)\n",
        "    image_hs = layers.Lambda(lambda x: K.l2_normalize(x,axis=1))(image_hidden_states)\n",
        "\n",
        "    input_ids = layers.Input(shape=(24,), dtype=tf.int32)\n",
        "    token_type_ids = layers.Input(shape=(24,), dtype=tf.int32)\n",
        "    attention_mask = layers.Input(shape=(24,), dtype=tf.int32)\n",
        "\n",
        "    bert = TFBertModel.from_pretrained('bert-base-uncased', return_dict=True)\n",
        "    bert.trainable = False\n",
        "    question = bert(\n",
        "        input_ids, \n",
        "        token_type_ids=token_type_ids, \n",
        "        attention_mask=attention_mask\n",
        "    )\n",
        "    question_hs = layers.Flatten()(question[1])\n",
        "    #question_hs = layers.Lambda(lambda x: K.l2_normalize(x,axis=1))(question_hs)\n",
        "\n",
        "    cross_hs = layers.concatenate([image_hs, question_hs])\n",
        "\n",
        "    x = layers.Dense(1024, activation='relu')(cross_hs)\n",
        "\n",
        "    output = layers.Dense(units=num_classes)(x)\n",
        "\n",
        "    model = Model(inputs=[resnet.input, (input_ids, token_type_ids, attention_mask)], outputs=output)\n",
        "\n",
        "    return model"
      ],
      "execution_count": 11,
      "outputs": []
    },
    {
      "cell_type": "code",
      "metadata": {
        "id": "BHRYgNHP1X4w",
        "outputId": "23763964-93cc-4701-af50-32c4623c0809",
        "colab": {
          "base_uri": "https://localhost:8080/",
          "height": 0,
          "referenced_widgets": [
            "5dade8761b8749728b5c06d676e4d453",
            "f885ac69ea03498285969d6b59c5b88f",
            "bfd9e893e4dd489f87d20c5da064fa54",
            "b841a5ac7ae649c6be169b6adf8aa3a1",
            "e253ddba8e0c412c972388478b4bf60c",
            "36569e9bcf384aa092d5418eb5a08406",
            "c001c0d82ea445b3834829c10a058ee5",
            "bece841392ec4d75a980e55f2c22dadf",
            "ef687359b28f4fa5b61e1e9b9889978e",
            "189d1cef11854d11abacad573744b39d",
            "f1b43806dd25474290669c1598fdb540",
            "3b0d753043af4b7baf49d4cd46747bda",
            "0b53f3ba29504cbbaaf8117d0b851916",
            "00ef41527ee34deea710fe45d57873dd",
            "4ccf01e2be1a4011a776bbb14ef9b783",
            "7fb72bcf4c98421ca784e30c3fc3307d"
          ]
        }
      },
      "source": [
        "K.clear_session()\n",
        "\n",
        "model = build_vqa_model(IMG_HEIGHT, IMG_WIDTH, IMG_CHANNELS, k)\n",
        "\n",
        "# Optimizer\n",
        "learning_rate = 0.001\n",
        "optimizer = optimizers.Adam(lr=learning_rate)\n",
        "\n",
        "# Loss\n",
        "loss = losses.SparseCategoricalCrossentropy(from_logits=True)\n",
        "\n",
        "# Compile\n",
        "model.compile( loss=loss, optimizer=optimizer, metrics=['accuracy'])"
      ],
      "execution_count": 12,
      "outputs": [
        {
          "output_type": "stream",
          "text": [
            "Downloading data from https://storage.googleapis.com/tensorflow/keras-applications/vgg19/vgg19_weights_tf_dim_ordering_tf_kernels_notop.h5\n",
            "80142336/80134624 [==============================] - 3s 0us/step\n"
          ],
          "name": "stdout"
        },
        {
          "output_type": "display_data",
          "data": {
            "application/vnd.jupyter.widget-view+json": {
              "model_id": "5dade8761b8749728b5c06d676e4d453",
              "version_minor": 0,
              "version_major": 2
            },
            "text/plain": [
              "HBox(children=(FloatProgress(value=0.0, description='Downloading', max=433.0, style=ProgressStyle(description_…"
            ]
          },
          "metadata": {
            "tags": []
          }
        },
        {
          "output_type": "stream",
          "text": [
            "\n"
          ],
          "name": "stdout"
        },
        {
          "output_type": "display_data",
          "data": {
            "application/vnd.jupyter.widget-view+json": {
              "model_id": "ef687359b28f4fa5b61e1e9b9889978e",
              "version_minor": 0,
              "version_major": 2
            },
            "text/plain": [
              "HBox(children=(FloatProgress(value=0.0, description='Downloading', max=536063208.0, style=ProgressStyle(descri…"
            ]
          },
          "metadata": {
            "tags": []
          }
        },
        {
          "output_type": "stream",
          "text": [
            "\n"
          ],
          "name": "stdout"
        },
        {
          "output_type": "stream",
          "text": [
            "Some layers from the model checkpoint at bert-base-uncased were not used when initializing TFBertModel: ['mlm___cls', 'nsp___cls']\n",
            "- This IS expected if you are initializing TFBertModel from the checkpoint of a model trained on another task or with another architecture (e.g. initializing a BertForSequenceClassification model from a BertForPreTraining model).\n",
            "- This IS NOT expected if you are initializing TFBertModel from the checkpoint of a model that you expect to be exactly identical (initializing a BertForSequenceClassification model from a BertForSequenceClassification model).\n",
            "All the layers of TFBertModel were initialized from the model checkpoint at bert-base-uncased.\n",
            "If your task is similar to the task the model of the checkpoint was trained on, you can already use TFBertModel for predictions without further training.\n"
          ],
          "name": "stderr"
        }
      ]
    },
    {
      "cell_type": "markdown",
      "metadata": {
        "id": "JoMKbG_g6Hij"
      },
      "source": [
        "### Load Trained Model"
      ]
    },
    {
      "cell_type": "code",
      "metadata": {
        "id": "C-jMYcRlMXXh",
        "outputId": "5f5f4755-f02e-49ab-88c6-32c32f2a5135",
        "colab": {
          "base_uri": "https://localhost:8080/"
        }
      },
      "source": [
        "K.clear_session()\n",
        "\n",
        "# build model architecture\n",
        "model = build_vqa_model(IMG_HEIGHT, IMG_WIDTH, IMG_CHANNELS, k)\n",
        "# Optimizer\n",
        "learning_rate = 0.001\n",
        "optimizer = optimizers.Adam(lr=learning_rate)\n",
        "# Loss\n",
        "loss = losses.SparseCategoricalCrossentropy(from_logits=True)\n",
        "# Compile\n",
        "model.compile( loss=loss, optimizer=optimizer, metrics=['accuracy'])\n",
        "\n",
        "# load model weights\n",
        "model.load_weights('/content/data/big2/vqa_model.h5')\n",
        "\n",
        "# Evaluate on test data\n",
        "evaluation_results = model.evaluate(valid, return_dict=True)\n",
        "print(evaluation_results)"
      ],
      "execution_count": 13,
      "outputs": [
        {
          "output_type": "stream",
          "text": [
            "Some layers from the model checkpoint at bert-base-uncased were not used when initializing TFBertModel: ['mlm___cls', 'nsp___cls']\n",
            "- This IS expected if you are initializing TFBertModel from the checkpoint of a model trained on another task or with another architecture (e.g. initializing a BertForSequenceClassification model from a BertForPreTraining model).\n",
            "- This IS NOT expected if you are initializing TFBertModel from the checkpoint of a model that you expect to be exactly identical (initializing a BertForSequenceClassification model from a BertForSequenceClassification model).\n",
            "All the layers of TFBertModel were initialized from the model checkpoint at bert-base-uncased.\n",
            "If your task is similar to the task the model of the checkpoint was trained on, you can already use TFBertModel for predictions without further training.\n"
          ],
          "name": "stderr"
        },
        {
          "output_type": "stream",
          "text": [
            "3441/3441 [==============================] - 265s 77ms/step - loss: 0.8569 - accuracy: 0.5095\n",
            "{'loss': 0.8569246530532837, 'accuracy': 0.509472668170929}\n"
          ],
          "name": "stdout"
        }
      ]
    },
    {
      "cell_type": "markdown",
      "metadata": {
        "id": "C4TfXT23K2We"
      },
      "source": [
        "### Distillation"
      ]
    },
    {
      "cell_type": "code",
      "metadata": {
        "id": "AuALdIWwK1pE"
      },
      "source": [
        "class Distiller(Model):\n",
        "    def __init__(self, teacher, student):\n",
        "        super(Distiller, self).__init__()\n",
        "        self.teacher = teacher\n",
        "        self.student = student\n",
        "\n",
        "    def compile(self,optimizer,metrics,student_loss_fn,distillation_loss_fn,alpha=0.1,temperature=3):\n",
        "      \"\"\"\n",
        "      optimizer: Keras optimizer for the student weights\n",
        "      metrics: Keras metrics for evaluation\n",
        "      student_loss_fn: Loss function of difference between student predictions and ground-truth\n",
        "      distillation_loss_fn: Loss function of difference between soft student predictions and soft teacher predictions\n",
        "      alpha: weight to student_loss_fn and 1-alpha to distillation_loss_fn\n",
        "      temperature: Temperature for softening probability distributions. Larger temperature gives softer distributions.\n",
        "      \"\"\"\n",
        "      super(Distiller, self).compile(optimizer=optimizer, metrics=metrics)\n",
        "      self.student_loss_fn = student_loss_fn\n",
        "      self.distillation_loss_fn = distillation_loss_fn\n",
        "      self.alpha = alpha\n",
        "      self.temperature = temperature\n",
        "\n",
        "    def train_step(self, data):\n",
        "        # Unpack data\n",
        "        x, y = data\n",
        "\n",
        "        # Forward pass of teacher\n",
        "        teacher_predictions = self.teacher(x, training=False)\n",
        "\n",
        "        with tf.GradientTape() as tape:\n",
        "            # Forward pass of student\n",
        "            student_predictions = self.student(x, training=True)\n",
        "\n",
        "            # Compute losses\n",
        "            student_loss = self.student_loss_fn(y, student_predictions)\n",
        "            distillation_loss = self.distillation_loss_fn(\n",
        "                tf.nn.softmax(teacher_predictions / self.temperature, axis=1),\n",
        "                tf.nn.softmax(student_predictions / self.temperature, axis=1),\n",
        "            )\n",
        "            loss = self.alpha * student_loss + (1 - self.alpha) * distillation_loss\n",
        "\n",
        "        # Compute gradients\n",
        "        trainable_vars = self.student.trainable_variables\n",
        "        gradients = tape.gradient(loss, trainable_vars)\n",
        "\n",
        "        # Update weights\n",
        "        self.optimizer.apply_gradients(zip(gradients, trainable_vars))\n",
        "\n",
        "        # Update the metrics configured in `compile()`.\n",
        "        self.compiled_metrics.update_state(y, student_predictions)\n",
        "\n",
        "        # Return a dict of performance\n",
        "        results = {m.name: m.result() for m in self.metrics}\n",
        "        results.update(\n",
        "            {\"student_loss\": student_loss, \"distillation_loss\": distillation_loss}\n",
        "        )\n",
        "        return results\n",
        "\n",
        "    def test_step(self, data):\n",
        "        # Unpack the data\n",
        "        x, y = data\n",
        "\n",
        "        # Compute predictions\n",
        "        y_prediction = self.student(x, training=False)\n",
        "\n",
        "        # Calculate the loss\n",
        "        student_loss = self.student_loss_fn(y, y_prediction)\n",
        "\n",
        "        # Update the metrics.\n",
        "        self.compiled_metrics.update_state(y, y_prediction)\n",
        "\n",
        "        # Return a dict of performance\n",
        "        results = {m.name: m.result() for m in self.metrics}\n",
        "        results.update({\"student_loss\": student_loss})\n",
        "        return results"
      ],
      "execution_count": 14,
      "outputs": []
    },
    {
      "cell_type": "code",
      "metadata": {
        "id": "u0PPmp624ZSp"
      },
      "source": [
        "def build_student_model(image_height, image_width, num_channels, num_classes, model_name='student'):\n",
        "  # Model input\n",
        "  input_shape = [image_height, image_width, num_channels]  # height, width, channels\n",
        "  model_name =  model_name +\"_\"+ str(int(time.time()))\n",
        "\n",
        "  image_input = layers.Input(shape=input_shape)\n",
        "  distill_img = layers.Conv2D(filters=32, kernel_size=(3, 3), strides=(2, 2), padding=\"same\", activation='relu')(image_input)\n",
        "  distill_img = layers.MaxPooling2D(pool_size=(2, 2), strides=(2, 2), padding=\"same\")(distill_img)\n",
        "  distill_img = layers.Conv2D(filters=32, kernel_size=(3, 3), strides=(2, 2), padding=\"same\", activation='relu')(distill_img)\n",
        "  distill_img = layers.MaxPooling2D(pool_size=(2, 2), strides=(2, 2), padding=\"same\")(distill_img)\n",
        "\n",
        "  image_hidden_states = layers.Flatten()(distill_img)\n",
        "  image_hs = layers.Lambda(lambda x: K.l2_normalize(x,axis=1))(image_hidden_states)\n",
        "\n",
        "  input_ids = layers.Input(shape=(24,), dtype=tf.int32)\n",
        "  token_type_ids = layers.Input(shape=(24,), dtype=tf.int32)\n",
        "  attention_mask = layers.Input(shape=(24,), dtype=tf.int32)\n",
        "\n",
        "  distill_bert = TFDistilBertModel.from_pretrained('distilbert-base-uncased', return_dict=True)\n",
        "  distill_bert.trainable = False\n",
        "  question = distill_bert(\n",
        "      input_ids, \n",
        "      # token_type_ids=token_type_ids, \n",
        "      attention_mask=attention_mask\n",
        "    )\n",
        "  question_hs = layers.Flatten()(question[0])\n",
        "  \n",
        "  cross_hs = layers.concatenate([image_hs, question_hs])\n",
        "  x = layers.Dense(32, activation='relu')(cross_hs)\n",
        "  output = layers.Dense(units=num_classes)(x)\n",
        "\n",
        "  model = Model(inputs=[image_input, (input_ids, token_type_ids, attention_mask)], outputs=output)\n",
        "\n",
        "  return model"
      ],
      "execution_count": 15,
      "outputs": []
    },
    {
      "cell_type": "markdown",
      "metadata": {
        "id": "Qznwjjb0SpJK"
      },
      "source": [
        "### Train Distillation Model"
      ]
    },
    {
      "cell_type": "code",
      "metadata": {
        "id": "9IsIY_xqQsmM",
        "outputId": "84278e18-15f0-4c8c-ca85-ecd1a310f24c",
        "colab": {
          "base_uri": "https://localhost:8080/",
          "height": 567,
          "referenced_widgets": [
            "f4fe876671ad4d459fea638118873fad",
            "1e80856797ba4afabe7512f58ed14f89",
            "68896813bf8f449cb49cba2762ae850f",
            "93971ce2304f4a3f97a6b4efa22835fc",
            "992ef8a396cb46689f5c5caa316d726a",
            "0f7fe7be1943489fb0be0e84438b0769",
            "b50cc95fbaf941e78ed715eb94d8f388",
            "9f1eb5b7cdeb40479e38ea5b9edbfc1f",
            "26e8412a3411452797066306c47c3711",
            "9ee01caadfc14908bfac1600562d60cc",
            "004baf421055467fb4029ef35fea3acb",
            "cbe508ff209441309ccce8536132ee96",
            "7fadf380f98444c4b6e0912175f0565d",
            "69f3edc60c2d487692d1bd7817363f36",
            "a4cdd59d220a41faa1c1f4d3f315f85f",
            "12a7b091e9cd4c8198c47f7b8fbdf947"
          ]
        }
      },
      "source": [
        "############################\n",
        "# Training Params\n",
        "############################\n",
        "learning_rate = 0.001\n",
        "epochs = 10\n",
        "alpha = 0.1 # alphas = [0.1, 0.2, 0.3, 0.5, 1]\n",
        "temperature = 5 # temperatures = [1,5,10,15,30] \n",
        "\n",
        "# Optimizer\n",
        "optimizer = optimizers.Adam(lr=learning_rate)\n",
        "# Loss\n",
        "student_loss = losses.SparseCategoricalCrossentropy(from_logits=True)\n",
        "distillation_loss = losses.KLDivergence()\n",
        "\n",
        "# Free up memory\n",
        "K.clear_session()\n",
        "\n",
        "# Build Student model\n",
        "student_model = build_student_model(IMG_HEIGHT, IMG_WIDTH, IMG_CHANNELS, k, model_name='student_distill')\n",
        "\n",
        "# Build the distiller model\n",
        "distiller_model = Distiller(teacher=model, student=student_model)\n",
        "\n",
        "# Compile\n",
        "distiller_model.compile(\n",
        "    optimizer=optimizer, \n",
        "    student_loss_fn=student_loss, \n",
        "    distillation_loss_fn=distillation_loss, \n",
        "    metrics=[metrics.SparseCategoricalAccuracy()],\n",
        "    alpha=alpha, \n",
        "    temperature=temperature\n",
        ")\n",
        "\n",
        "# Distill teacher to student\n",
        "start_time = time.time()\n",
        "\n",
        "training_results = distiller_model.fit(\n",
        "    train, \n",
        "    validation_data=valid, \n",
        "    epochs=epochs, \n",
        "    verbose=1\n",
        ")\n",
        "execution_time = (time.time() - start_time)/60.0"
      ],
      "execution_count": 16,
      "outputs": [
        {
          "output_type": "display_data",
          "data": {
            "application/vnd.jupyter.widget-view+json": {
              "model_id": "f4fe876671ad4d459fea638118873fad",
              "version_minor": 0,
              "version_major": 2
            },
            "text/plain": [
              "HBox(children=(FloatProgress(value=0.0, description='Downloading', max=442.0, style=ProgressStyle(description_…"
            ]
          },
          "metadata": {
            "tags": []
          }
        },
        {
          "output_type": "stream",
          "text": [
            "\n"
          ],
          "name": "stdout"
        },
        {
          "output_type": "display_data",
          "data": {
            "application/vnd.jupyter.widget-view+json": {
              "model_id": "26e8412a3411452797066306c47c3711",
              "version_minor": 0,
              "version_major": 2
            },
            "text/plain": [
              "HBox(children=(FloatProgress(value=0.0, description='Downloading', max=363423424.0, style=ProgressStyle(descri…"
            ]
          },
          "metadata": {
            "tags": []
          }
        },
        {
          "output_type": "stream",
          "text": [
            "\n"
          ],
          "name": "stdout"
        },
        {
          "output_type": "stream",
          "text": [
            "Some layers from the model checkpoint at distilbert-base-uncased were not used when initializing TFDistilBertModel: ['vocab_projector', 'vocab_layer_norm', 'vocab_transform', 'activation_13']\n",
            "- This IS expected if you are initializing TFDistilBertModel from the checkpoint of a model trained on another task or with another architecture (e.g. initializing a BertForSequenceClassification model from a BertForPreTraining model).\n",
            "- This IS NOT expected if you are initializing TFDistilBertModel from the checkpoint of a model that you expect to be exactly identical (initializing a BertForSequenceClassification model from a BertForSequenceClassification model).\n",
            "All the layers of TFDistilBertModel were initialized from the model checkpoint at distilbert-base-uncased.\n",
            "If your task is similar to the task the model of the checkpoint was trained on, you can already use TFDistilBertModel for predictions without further training.\n"
          ],
          "name": "stderr"
        },
        {
          "output_type": "stream",
          "text": [
            "Epoch 1/10\n",
            "7138/7138 [==============================] - 723s 101ms/step - sparse_categorical_accuracy: 0.4790 - student_loss: 0.8759 - distillation_loss: 0.0263 - val_sparse_categorical_accuracy: 0.5027 - val_student_loss: 0.7699\n",
            "Epoch 2/10\n",
            "7138/7138 [==============================] - 721s 101ms/step - sparse_categorical_accuracy: 0.4937 - student_loss: 0.8456 - distillation_loss: 0.0164 - val_sparse_categorical_accuracy: 0.5044 - val_student_loss: 0.7581\n",
            "Epoch 3/10\n",
            "7138/7138 [==============================] - 720s 101ms/step - sparse_categorical_accuracy: 0.4998 - student_loss: 0.8403 - distillation_loss: 0.0158 - val_sparse_categorical_accuracy: 0.5046 - val_student_loss: 0.7506\n",
            "Epoch 4/10\n",
            "7138/7138 [==============================] - 719s 101ms/step - sparse_categorical_accuracy: 0.5032 - student_loss: 0.8374 - distillation_loss: 0.0155 - val_sparse_categorical_accuracy: 0.5104 - val_student_loss: 0.7535\n",
            "Epoch 5/10\n",
            "7138/7138 [==============================] - 722s 101ms/step - sparse_categorical_accuracy: 0.5059 - student_loss: 0.8351 - distillation_loss: 0.0152 - val_sparse_categorical_accuracy: 0.5086 - val_student_loss: 0.7526\n",
            "Epoch 6/10\n",
            "7138/7138 [==============================] - 721s 101ms/step - sparse_categorical_accuracy: 0.5090 - student_loss: 0.8330 - distillation_loss: 0.0150 - val_sparse_categorical_accuracy: 0.5141 - val_student_loss: 0.7609\n",
            "Epoch 7/10\n",
            "7138/7138 [==============================] - 719s 101ms/step - sparse_categorical_accuracy: 0.5096 - student_loss: 0.8314 - distillation_loss: 0.0148 - val_sparse_categorical_accuracy: 0.5153 - val_student_loss: 0.7622\n",
            "Epoch 8/10\n",
            "7138/7138 [==============================] - 720s 101ms/step - sparse_categorical_accuracy: 0.5125 - student_loss: 0.8299 - distillation_loss: 0.0147 - val_sparse_categorical_accuracy: 0.5143 - val_student_loss: 0.7565\n",
            "Epoch 9/10\n",
            "7138/7138 [==============================] - 721s 101ms/step - sparse_categorical_accuracy: 0.5144 - student_loss: 0.8285 - distillation_loss: 0.0146 - val_sparse_categorical_accuracy: 0.5149 - val_student_loss: 0.7410\n",
            "Epoch 10/10\n",
            "7138/7138 [==============================] - 722s 101ms/step - sparse_categorical_accuracy: 0.5159 - student_loss: 0.8272 - distillation_loss: 0.0145 - val_sparse_categorical_accuracy: 0.5177 - val_student_loss: 0.7420\n"
          ],
          "name": "stdout"
        }
      ]
    },
    {
      "cell_type": "markdown",
      "metadata": {
        "id": "Pn5Qfef_WivV"
      },
      "source": [
        "### Save and Evaluate Model"
      ]
    },
    {
      "cell_type": "code",
      "metadata": {
        "id": "IJ7CLtTDPFTS",
        "outputId": "4d251b19-fcaa-43f2-e5ae-2550a1439193",
        "colab": {
          "base_uri": "https://localhost:8080/",
          "height": 371
        }
      },
      "source": [
        "# Save and Evaluate model\n",
        "student_model.save_weights(\"student_model.h5\")\n",
        "\n",
        "evaluation_results = evaluate_model(\n",
        "    distiller_model, \n",
        "    valid, \n",
        "    training_results, \n",
        "    execution_time, \n",
        "    learning_rate, \n",
        "    epochs, \n",
        "    optimizer, \n",
        "    save=False, \n",
        "    loss_metrics=[\"student_loss\",\"distillation_loss\",\"val_student_loss\"], \n",
        "    acc_metrics=[\"sparse_categorical_accuracy\",\"val_sparse_categorical_accuracy\"]\n",
        ")"
      ],
      "execution_count": 17,
      "outputs": [
        {
          "output_type": "display_data",
          "data": {
            "image/png": "[encoded data removed]",
            "text/plain": [
              "<Figure size 1080x360 with 2 Axes>"
            ]
          },
          "metadata": {
            "tags": [],
            "needs_background": "light"
          }
        },
        {
          "output_type": "stream",
          "text": [
            "3441/3441 [==============================] - 112s 33ms/step - sparse_categorical_accuracy: 0.5177 - student_loss: 0.8298\n",
            "{'sparse_categorical_accuracy': 0.5177102088928223, 'student_loss': 0.7419548034667969}\n"
          ],
          "name": "stdout"
        }
      ]
    },
    {
      "cell_type": "markdown",
      "metadata": {
        "id": "DtvsuZtlTJjh"
      },
      "source": [
        "### Size Comparison of Original vs Distilled Model"
      ]
    },
    {
      "cell_type": "code",
      "metadata": {
        "id": "yWdTuAEpOQJD",
        "outputId": "5a52e7bd-9e66-4ef2-9ed6-2cd03c8b8f16",
        "colab": {
          "base_uri": "https://localhost:8080/"
        }
      },
      "source": [
        "# distilled model\n",
        "with zipfile.ZipFile('/content/student_model.zip', \"w\", compression=zipfile.ZIP_DEFLATED) as f:\n",
        "    f.write('/content/student_model.h5')\n",
        "print(\"Distilled model before zipping: %.2f Kb\"% (os.path.getsize('/content/student_model.h5') / float(1000)))\n",
        "print(\"Distilled model after zipping: %.2f Kb\"% (os.path.getsize('/content/student_model.zip') / float(1000)))"
      ],
      "execution_count": 18,
      "outputs": [
        {
          "output_type": "stream",
          "text": [
            "Distilled model before zipping: 268795.08 Kb\n",
            "Distilled model after zipping: 247810.66 Kb\n"
          ],
          "name": "stdout"
        }
      ]
    },
    {
      "cell_type": "code",
      "metadata": {
        "id": "3u8PWgx0OmFu",
        "outputId": "b28a4186-a53b-4745-cf87-7794e34e4947",
        "colab": {
          "base_uri": "https://localhost:8080/"
        }
      },
      "source": [
        "# Original model\n",
        "with zipfile.ZipFile('/content/data/big2/vqa_model.zip', \"w\", compression=zipfile.ZIP_DEFLATED) as f:\n",
        "    f.write('/content/data/big2/vqa_model.h5')\n",
        "print(\"Original model before zipping: %.2f Kb\"% (os.path.getsize('/content/data/big2/vqa_model.h5') / float(1000)))\n",
        "print(\"Original model after zipping: %.2f Kb\"% (os.path.getsize('/content/data/big2/vqa_model.zip') / float(1000)))"
      ],
      "execution_count": 19,
      "outputs": [
        {
          "output_type": "stream",
          "text": [
            "Original model before zipping: 624304.14 Kb\n",
            "Original model after zipping: 578842.27 Kb\n"
          ],
          "name": "stdout"
        }
      ]
    },
    {
      "cell_type": "markdown",
      "metadata": {
        "id": "qK1at5mO1ZCY"
      },
      "source": [
        "### Save the weights in Google Drive"
      ]
    },
    {
      "cell_type": "code",
      "metadata": {
        "id": "II4MNBk0vTdB",
        "outputId": "5474fddf-e82b-4a88-dd4c-8d0a97339542",
        "colab": {
          "base_uri": "https://localhost:8080/"
        }
      },
      "source": [
        "from google.colab import drive\n",
        "drive.mount('/content/drive', force_remount=False)\n",
        "\n",
        "!cp student_model.h5 \"/content/drive/My Drive/Practicum2Data\""
      ],
      "execution_count": 24,
      "outputs": [
        {
          "output_type": "stream",
          "text": [
            "Drive already mounted at /content/drive; to attempt to forcibly remount, call drive.mount(\"/content/drive\", force_remount=True).\n"
          ],
          "name": "stdout"
        }
      ]
    }
  ]
}