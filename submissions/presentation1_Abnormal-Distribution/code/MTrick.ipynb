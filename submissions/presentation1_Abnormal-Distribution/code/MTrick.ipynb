{
 "cells": [
  {
   "cell_type": "code",
   "execution_count": 1,
   "metadata": {},
   "outputs": [],
   "source": [
    "# setup for running this notebook:\n",
    "# Matlab installed\n",
    "# Python Matlab engine installed by navigating to the matlab root in a console with admin access\n",
    "# then going to /extern/engine/python/\n",
    "# then running python setup.py install\n",
    "# the matlab cade in Mtrick_enterfunc.m needs to be available (I put it in the same folder as the notebook)\n",
    "# you also need all of the other matlab programs that are called from within Mtrick to be there (there are several)"
   ]
  },
  {
   "cell_type": "code",
   "execution_count": 2,
   "metadata": {},
   "outputs": [],
   "source": [
    "import sys\n",
    "import os\n",
    "import joblib\n",
    "import json\n",
    "\n",
    "import numpy as np\n",
    "import matlab\n",
    "import matlab.engine\n",
    "import scipy.io as sio\n",
    "\n",
    "import warnings\n",
    "from sklearn.exceptions import ConvergenceWarning\n",
    "warnings.filterwarnings(\"ignore\", category=RuntimeWarning) \n",
    "warnings.filterwarnings(\"ignore\", category=ConvergenceWarning)\n",
    "\n",
    "from sklearn.metrics import accuracy_score\n",
    "\n",
    "basepath = \"\""
   ]
  },
  {
   "cell_type": "code",
   "execution_count": 3,
   "metadata": {},
   "outputs": [],
   "source": [
    "# MTrick class code taken from the Transfer-Learning-Toolkit github repo, by FuzhenZhuang\n",
    "\n",
    "class Mtrick:\n",
    "    def __init__(self, alpha=2.4, beta=2.4, numCluster=15, maxIter=200):\n",
    "        self.alpha = alpha\n",
    "        self.beta = beta\n",
    "        self.numCluster = numCluster\n",
    "        self.maxIter = maxIter\n",
    "        return\n",
    "\n",
    "    def fit_predict(self, Xs, Xt, Ys):\n",
    "        inputPath = 'data.mat'\n",
    "        eng = matlab.engine.start_matlab()\n",
    "        sio.savemat('data.mat',{'TrainData': Xs.T, 'TrainLabel': Ys, 'TestData': Xt.T})\n",
    "        Y_pred = eng.MTrick_enterFunc(self.alpha, self.beta, self.numCluster, self.maxIter, inputPath)\n",
    "        eng.exit()\n",
    "        Y_pred = np.asarray(Y_pred)\n",
    "        Y_pred = np.reshape(Y_pred, (Y_pred.shape[1],)) \n",
    "        return Y_pred"
   ]
  },
  {
   "cell_type": "code",
   "execution_count": 4,
   "metadata": {},
   "outputs": [
    {
     "name": "stdout",
     "output_type": "stream",
     "text": [
      "K D 0.737\n",
      "K B 0.689\n",
      "K E 0.819\n",
      "D K 0.753\n",
      "D B 0.715\n",
      "D E 0.7565\n",
      "B K 0.802\n",
      "B D 0.784\n",
      "B E 0.786\n",
      "E K 0.808\n",
      "E D 0.7265\n",
      "E B 0.7055\n"
     ]
    }
   ],
   "source": [
    "# Processed Amazon review data should be in the current folder as B-D.pkl, B-E.pkl etc.\n",
    "\n",
    "datasets = ['K', 'D', 'B', 'E']\n",
    "\n",
    "results = {}\n",
    "for dataset1 in datasets:\n",
    "    for dataset2 in datasets:\n",
    "        if dataset1 == dataset2:\n",
    "            continue\n",
    "        [Xs, Ys, X_test, Y_test, Xt]=joblib.load(\n",
    "                    os.path.join(basepath, dataset1+'-'+dataset2+'.pkl'))\n",
    "        Xs = Xs.astype('float')\n",
    "        X_test = X_test.astype('float')\n",
    "        Xt = Xt.astype('float')\n",
    "        model = Mtrick()\n",
    "        Y_pred = model.fit_predict(Xs, X_test, Ys)\n",
    "        acc = accuracy_score(Y_pred,Y_test)\n",
    "        print(dataset1, dataset2, acc)\n",
    "        results[dataset1+dataset2] = acc\n",
    "\n",
    "with open(\"Mtrick_record.json\",'w') as json_file:\n",
    "        json.dump(results, json_file)"
   ]
  }
 ],
 "metadata": {
  "kernelspec": {
   "display_name": "Python 3",
   "language": "python",
   "name": "python3"
  },
  "language_info": {
   "codemirror_mode": {
    "name": "ipython",
    "version": 3
   },
   "file_extension": ".py",
   "mimetype": "text/x-python",
   "name": "python",
   "nbconvert_exporter": "python",
   "pygments_lexer": "ipython3",
   "version": "3.7.3"
  }
 },
 "nbformat": 4,
 "nbformat_minor": 2
}
