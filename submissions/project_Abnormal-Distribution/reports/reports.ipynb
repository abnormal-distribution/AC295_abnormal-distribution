{
 "cells": [
  {
   "cell_type": "code",
   "execution_count": 1,
   "metadata": {},
   "outputs": [],
   "source": [
    "import pandas as pd\n",
    "\n",
    "from sec_helper import download_docs\n"
   ]
  },
  {
   "cell_type": "code",
   "execution_count": 2,
   "metadata": {},
   "outputs": [],
   "source": [
    "# Read all ciks\n",
    "ciks = pd.read_csv('cik_data/ciks.csv', dtype = 'str', index_col='ticker', usecols=['ticker', 'cik'])\n",
    "ciks.cik = ciks.cik.str.rjust(10, '0') # Adding padding of 0's to the left to cik is length 10\n",
    "\n",
    "# Read ciks from sp-500\n",
    "sp500 = pd.read_csv('cik_data/sp-components.csv', dtype = 'str', index_col='ticker', usecols=['ticker', 'cik'])\n",
    "sp500.cik = sp500.cik.str.rjust(10, '0')\n",
    "\n",
    "# Read stocks removed from sp500 since 2000\n",
    "sp500_removed = pd.read_csv('cik_data/sp-removed.csv', dtype = 'str', index_col='ticker', usecols=['ticker'])\n",
    "# Some components cant be found through ciks anymore as their names changed\n",
    "sp500_removed[sp500_removed.index.isin(ciks.index)]\n",
    "# ciks from removed sp-500 companies\n",
    "sp500_removed = ciks.loc[sp500_removed[sp500_removed.index.isin(ciks.index)].index]\n"
   ]
  },
  {
   "cell_type": "code",
   "execution_count": 3,
   "metadata": {},
   "outputs": [
    {
     "data": {
      "text/html": [
       "<div>\n",
       "<style scoped>\n",
       "    .dataframe tbody tr th:only-of-type {\n",
       "        vertical-align: middle;\n",
       "    }\n",
       "\n",
       "    .dataframe tbody tr th {\n",
       "        vertical-align: top;\n",
       "    }\n",
       "\n",
       "    .dataframe thead th {\n",
       "        text-align: right;\n",
       "    }\n",
       "</style>\n",
       "<table border=\"1\" class=\"dataframe\">\n",
       "  <thead>\n",
       "    <tr style=\"text-align: right;\">\n",
       "      <th></th>\n",
       "      <th>cik</th>\n",
       "    </tr>\n",
       "    <tr>\n",
       "      <th>ticker</th>\n",
       "      <th></th>\n",
       "    </tr>\n",
       "  </thead>\n",
       "  <tbody>\n",
       "    <tr>\n",
       "      <th>MMM</th>\n",
       "      <td>0000066740</td>\n",
       "    </tr>\n",
       "    <tr>\n",
       "      <th>ABT</th>\n",
       "      <td>0000001800</td>\n",
       "    </tr>\n",
       "    <tr>\n",
       "      <th>ABBV</th>\n",
       "      <td>0001551152</td>\n",
       "    </tr>\n",
       "    <tr>\n",
       "      <th>ABMD</th>\n",
       "      <td>0000815094</td>\n",
       "    </tr>\n",
       "    <tr>\n",
       "      <th>ACN</th>\n",
       "      <td>0001467373</td>\n",
       "    </tr>\n",
       "  </tbody>\n",
       "</table>\n",
       "</div>"
      ],
      "text/plain": [
       "               cik\n",
       "ticker            \n",
       "MMM     0000066740\n",
       "ABT     0000001800\n",
       "ABBV    0001551152\n",
       "ABMD    0000815094\n",
       "ACN     0001467373"
      ]
     },
     "metadata": {},
     "output_type": "display_data"
    },
    {
     "data": {
      "text/html": [
       "<div>\n",
       "<style scoped>\n",
       "    .dataframe tbody tr th:only-of-type {\n",
       "        vertical-align: middle;\n",
       "    }\n",
       "\n",
       "    .dataframe tbody tr th {\n",
       "        vertical-align: top;\n",
       "    }\n",
       "\n",
       "    .dataframe thead th {\n",
       "        text-align: right;\n",
       "    }\n",
       "</style>\n",
       "<table border=\"1\" class=\"dataframe\">\n",
       "  <thead>\n",
       "    <tr style=\"text-align: right;\">\n",
       "      <th></th>\n",
       "      <th>cik</th>\n",
       "    </tr>\n",
       "    <tr>\n",
       "      <th>ticker</th>\n",
       "      <th></th>\n",
       "    </tr>\n",
       "  </thead>\n",
       "  <tbody>\n",
       "    <tr>\n",
       "      <th>NBL</th>\n",
       "      <td>0000072207</td>\n",
       "    </tr>\n",
       "    <tr>\n",
       "      <th>ETFC</th>\n",
       "      <td>0001015780</td>\n",
       "    </tr>\n",
       "    <tr>\n",
       "      <th>HRB</th>\n",
       "      <td>0000012659</td>\n",
       "    </tr>\n",
       "    <tr>\n",
       "      <th>COTY</th>\n",
       "      <td>0001024305</td>\n",
       "    </tr>\n",
       "    <tr>\n",
       "      <th>KSS</th>\n",
       "      <td>0000885639</td>\n",
       "    </tr>\n",
       "  </tbody>\n",
       "</table>\n",
       "</div>"
      ],
      "text/plain": [
       "               cik\n",
       "ticker            \n",
       "NBL     0000072207\n",
       "ETFC    0001015780\n",
       "HRB     0000012659\n",
       "COTY    0001024305\n",
       "KSS     0000885639"
      ]
     },
     "metadata": {},
     "output_type": "display_data"
    }
   ],
   "source": [
    "display(sp500.head())\n",
    "display(sp500_removed.head())"
   ]
  },
  {
   "cell_type": "code",
   "execution_count": 4,
   "metadata": {},
   "outputs": [
    {
     "data": {
      "text/plain": [
       "Index(['MMM'], dtype='object', name='ticker')"
      ]
     },
     "execution_count": 4,
     "metadata": {},
     "output_type": "execute_result"
    }
   ],
   "source": [
    "ticker_index = sp500.index[0:1]\n",
    "ticker_index"
   ]
  },
  {
   "cell_type": "code",
   "execution_count": 5,
   "metadata": {},
   "outputs": [
    {
     "name": "stderr",
     "output_type": "stream",
     "text": [
      "Downloading MMM 10-Q Fillings: 100%|██████████| 40/40 [00:57<00:00,  1.45s/filling]\n",
      "Downloading MMM 10-K Fillings: 100%|██████████| 31/31 [00:29<00:00,  1.06filling/s]\n"
     ]
    }
   ],
   "source": [
    "ticker_index = sp500.index[0:1]\n",
    "\n",
    "doc_types = ['10-Q', '10-K']\n",
    "\n",
    "for doc_type in doc_types:\n",
    "    \n",
    "    docs = download_docs(ticker_index, sp500, doc_type)\n",
    "\n",
    "    for ticker in docs.keys():\n",
    "        for date in docs[ticker].keys():\n",
    "\n",
    "            text_file = open(\"{}/{}-{}-{}.txt\".format(doc_type, ticker, doc_type, date), \"w\")\n",
    "            _ = text_file.write(docs[ticker][date])\n",
    "            text_file.close()\n",
    "        \n",
    "\n",
    "        "
   ]
  }
 ],
 "metadata": {
  "kernelspec": {
   "display_name": "Python 3",
   "language": "python",
   "name": "python3"
  },
  "language_info": {
   "codemirror_mode": {
    "name": "ipython",
    "version": 3
   },
   "file_extension": ".py",
   "mimetype": "text/x-python",
   "name": "python",
   "nbconvert_exporter": "python",
   "pygments_lexer": "ipython3",
   "version": "3.7.8"
  }
 },
 "nbformat": 4,
 "nbformat_minor": 4
}
