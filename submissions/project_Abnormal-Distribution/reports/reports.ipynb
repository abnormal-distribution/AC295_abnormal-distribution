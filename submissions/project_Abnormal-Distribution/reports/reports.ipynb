{
  "nbformat": 4,
  "nbformat_minor": 0,
  "metadata": {
    "kernelspec": {
      "display_name": "Python 3",
      "language": "python",
      "name": "python3"
    },
    "language_info": {
      "codemirror_mode": {
        "name": "ipython",
        "version": 3
      },
      "file_extension": ".py",
      "mimetype": "text/x-python",
      "name": "python",
      "nbconvert_exporter": "python",
      "pygments_lexer": "ipython3",
      "version": "3.7.8"
    },
    "colab": {
      "name": "reports.ipynb",
      "provenance": [],
      "collapsed_sections": []
    }
  },
  "cells": [
    {
      "cell_type": "code",
      "metadata": {
        "colab": {
          "base_uri": "https://localhost:8080/"
        },
        "id": "pnB7UUd5fQkB",
        "outputId": "3156e725-6e9a-405d-eb4d-896eff843eea"
      },
      "source": [
        "!pip3 install ratelimit"
      ],
      "execution_count": 9,
      "outputs": [
        {
          "output_type": "stream",
          "text": [
            "Requirement already satisfied: ratelimit in /usr/local/lib/python3.6/dist-packages (2.2.1)\n"
          ],
          "name": "stdout"
        }
      ]
    },
    {
      "cell_type": "code",
      "metadata": {
        "id": "VhdSrtg-fS61"
      },
      "source": [
        "import pandas as pd\n",
        "\n",
        "import requests\n",
        "from ratelimit import limits, sleep_and_retry\n",
        "from bs4 import BeautifulSoup\n",
        "\n",
        "from tqdm import tqdm"
      ],
      "execution_count": 2,
      "outputs": []
    },
    {
      "cell_type": "code",
      "metadata": {
        "id": "DHyUDyfHfQkB"
      },
      "source": [
        "class SecAPI:\n",
        "    \"\"\"\n",
        "    Helper class that caches data from the SEC and avoids exceeding # of calls allowed per second to the website.\n",
        "    \"\"\"\n",
        "    SEC_CALL_LIMIT = {'calls': 10, 'seconds': 1}\n",
        "\n",
        "    @staticmethod\n",
        "    @sleep_and_retry\n",
        "    # Dividing the call limit by half to avoid coming close to the limit\n",
        "    @limits(calls=SEC_CALL_LIMIT['calls'] / 2, period=SEC_CALL_LIMIT['seconds'])\n",
        "    def _call_sec(url):\n",
        "        return requests.get(url)\n",
        "\n",
        "    def get(self, url):\n",
        "        return self._call_sec(url).text\n",
        "\n",
        "\n",
        "def get_sec_data(cik, doc_type, date='2020-12-31', start=0, count=60):\n",
        "    \"\"\"\n",
        "\n",
        "    Parameters\n",
        "    ----------\n",
        "    cik: str\n",
        "        CIK of SEC document. 10 character string\n",
        "    doc_type: str\n",
        "        Type of SEC document. ('10-K' or '10-Q')\n",
        "    date: str\n",
        "    start: int\n",
        "    count: int\n",
        "\n",
        "    Returns\n",
        "    -------\n",
        "    List of tuples containing ('filing-href', 'filing-type', 'filing-date')\n",
        "\n",
        "    \"\"\"\n",
        "\n",
        "    # instantiate SecAPI object to help with call limits to SEC website\n",
        "    sec_api = SecAPI()\n",
        "\n",
        "    final_date = pd.to_datetime(date)\n",
        "    rss_url = 'https://www.sec.gov/cgi-bin/browse-edgar?action=getcompany' \\\n",
        "        '&CIK={}&type={}&start={}&count={}&owner=exclude&output=atom' \\\n",
        "        .format(cik, doc_type, start, count)\n",
        "    # get data\n",
        "    sec_data = sec_api.get(rss_url)\n",
        "    # convert to BeautifulSoup object for parsing\n",
        "    feed = BeautifulSoup(sec_data.encode('ascii'), 'xml').feed\n",
        "    # list of tuples containing ('filing-href', 'filing-type', 'filing-date')\n",
        "    entries = [\n",
        "        (\n",
        "            entry.content.find('filing-href').getText(),\n",
        "            entry.content.find('filing-type').getText(),\n",
        "            entry.content.find('filing-date').getText())\n",
        "        # recursive = False will restrict the search to the first found element and its child only\n",
        "        for entry in feed.find_all('entry', recursive=False)\n",
        "        # restrict to files before supplied date\n",
        "        if pd.to_datetime(entry.content.find('filing-date').getText()) <= final_date]\n",
        "\n",
        "    return entries\n",
        "\n",
        "def download_docs(ticker_index, ciks, doc_type):\n",
        "\n",
        "    sec_api = SecAPI()\n",
        "    sec_data = {}\n",
        "\n",
        "    for ticker in ticker_index:\n",
        "        sec_data[ticker] = get_sec_data(ciks.loc[ticker].values[0], doc_type)\n",
        "\n",
        "    raw_fillings_by_ticker = {}\n",
        "\n",
        "    for ticker, data in sec_data.items():\n",
        "        raw_fillings_by_ticker[ticker] = {}\n",
        "        for index_url, file_type, file_date in tqdm(data,\n",
        "                                                    desc='Downloading {} {} Fillings'.format(ticker, doc_type),\n",
        "                                                    unit='filling'):\n",
        "            if file_type == doc_type:\n",
        "                file_url = index_url.replace('-index.htm', '.txt').replace('.txtl', '.txt')\n",
        "\n",
        "                raw_fillings_by_ticker[ticker][file_date] = sec_api.get(file_url)\n",
        "\n",
        "    return raw_fillings_by_ticker\n"
      ],
      "execution_count": 3,
      "outputs": []
    },
    {
      "cell_type": "code",
      "metadata": {
        "colab": {
          "base_uri": "https://localhost:8080/"
        },
        "id": "Gr0QJzmHfQkB",
        "outputId": "2cfaa260-1d38-46ad-caf5-d235f6424807"
      },
      "source": [
        "from google.colab import drive\n",
        "\n",
        "drive.mount('/content/drive')"
      ],
      "execution_count": 4,
      "outputs": [
        {
          "output_type": "stream",
          "text": [
            "Mounted at /content/drive\n"
          ],
          "name": "stdout"
        }
      ]
    },
    {
      "cell_type": "code",
      "metadata": {
        "id": "3h9ZBNMlfQkC"
      },
      "source": [
        "# Read all ciks\n",
        "ciks = pd.read_csv('/content/drive/MyDrive/abnormal-distribution-project-data/cik_data/ciks.csv', dtype = 'str', index_col='ticker', usecols=['ticker', 'cik'])\n",
        "ciks.cik = ciks.cik.str.rjust(10, '0') # Adding padding of 0's to the left to cik is length 10\n",
        "\n",
        "# Read ciks from sp-500\n",
        "sp500 = pd.read_csv('/content/drive/MyDrive/abnormal-distribution-project-data/cik_data/sp-components.csv', dtype = 'str', index_col='ticker', usecols=['ticker', 'cik'])\n",
        "sp500.cik = sp500.cik.str.rjust(10, '0')\n",
        "\n",
        "# Read stocks removed from sp500 since 2000\n",
        "sp500_removed = pd.read_csv('/content/drive/MyDrive/abnormal-distribution-project-data/cik_data/sp-removed.csv', dtype = 'str', index_col='ticker', usecols=['ticker'])\n",
        "# Some components cant be found through ciks anymore as their names changed\n",
        "sp500_removed[sp500_removed.index.isin(ciks.index)]\n",
        "# ciks from removed sp-500 companies\n",
        "sp500_removed = ciks.loc[sp500_removed[sp500_removed.index.isin(ciks.index)].index]\n"
      ],
      "execution_count": 5,
      "outputs": []
    },
    {
      "cell_type": "code",
      "metadata": {
        "colab": {
          "base_uri": "https://localhost:8080/",
          "height": 453
        },
        "id": "HO871a1MfQkC",
        "outputId": "3aa29b9a-b1da-4e7c-ce33-a44694a4c416"
      },
      "source": [
        "display(sp500.head())\n",
        "display(sp500_removed.head())"
      ],
      "execution_count": 6,
      "outputs": [
        {
          "output_type": "display_data",
          "data": {
            "text/html": [
              "<div>\n",
              "<style scoped>\n",
              "    .dataframe tbody tr th:only-of-type {\n",
              "        vertical-align: middle;\n",
              "    }\n",
              "\n",
              "    .dataframe tbody tr th {\n",
              "        vertical-align: top;\n",
              "    }\n",
              "\n",
              "    .dataframe thead th {\n",
              "        text-align: right;\n",
              "    }\n",
              "</style>\n",
              "<table border=\"1\" class=\"dataframe\">\n",
              "  <thead>\n",
              "    <tr style=\"text-align: right;\">\n",
              "      <th></th>\n",
              "      <th>cik</th>\n",
              "    </tr>\n",
              "    <tr>\n",
              "      <th>ticker</th>\n",
              "      <th></th>\n",
              "    </tr>\n",
              "  </thead>\n",
              "  <tbody>\n",
              "    <tr>\n",
              "      <th>MMM</th>\n",
              "      <td>0000066740</td>\n",
              "    </tr>\n",
              "    <tr>\n",
              "      <th>ABT</th>\n",
              "      <td>0000001800</td>\n",
              "    </tr>\n",
              "    <tr>\n",
              "      <th>ABBV</th>\n",
              "      <td>0001551152</td>\n",
              "    </tr>\n",
              "    <tr>\n",
              "      <th>ABMD</th>\n",
              "      <td>0000815094</td>\n",
              "    </tr>\n",
              "    <tr>\n",
              "      <th>ACN</th>\n",
              "      <td>0001467373</td>\n",
              "    </tr>\n",
              "  </tbody>\n",
              "</table>\n",
              "</div>"
            ],
            "text/plain": [
              "               cik\n",
              "ticker            \n",
              "MMM     0000066740\n",
              "ABT     0000001800\n",
              "ABBV    0001551152\n",
              "ABMD    0000815094\n",
              "ACN     0001467373"
            ]
          },
          "metadata": {
            "tags": []
          }
        },
        {
          "output_type": "display_data",
          "data": {
            "text/html": [
              "<div>\n",
              "<style scoped>\n",
              "    .dataframe tbody tr th:only-of-type {\n",
              "        vertical-align: middle;\n",
              "    }\n",
              "\n",
              "    .dataframe tbody tr th {\n",
              "        vertical-align: top;\n",
              "    }\n",
              "\n",
              "    .dataframe thead th {\n",
              "        text-align: right;\n",
              "    }\n",
              "</style>\n",
              "<table border=\"1\" class=\"dataframe\">\n",
              "  <thead>\n",
              "    <tr style=\"text-align: right;\">\n",
              "      <th></th>\n",
              "      <th>cik</th>\n",
              "    </tr>\n",
              "    <tr>\n",
              "      <th>ticker</th>\n",
              "      <th></th>\n",
              "    </tr>\n",
              "  </thead>\n",
              "  <tbody>\n",
              "    <tr>\n",
              "      <th>NBL</th>\n",
              "      <td>0000072207</td>\n",
              "    </tr>\n",
              "    <tr>\n",
              "      <th>ETFC</th>\n",
              "      <td>0001015780</td>\n",
              "    </tr>\n",
              "    <tr>\n",
              "      <th>HRB</th>\n",
              "      <td>0000012659</td>\n",
              "    </tr>\n",
              "    <tr>\n",
              "      <th>COTY</th>\n",
              "      <td>0001024305</td>\n",
              "    </tr>\n",
              "    <tr>\n",
              "      <th>KSS</th>\n",
              "      <td>0000885639</td>\n",
              "    </tr>\n",
              "  </tbody>\n",
              "</table>\n",
              "</div>"
            ],
            "text/plain": [
              "               cik\n",
              "ticker            \n",
              "NBL     0000072207\n",
              "ETFC    0001015780\n",
              "HRB     0000012659\n",
              "COTY    0001024305\n",
              "KSS     0000885639"
            ]
          },
          "metadata": {
            "tags": []
          }
        }
      ]
    },
    {
      "cell_type": "code",
      "metadata": {
        "id": "heAwWlJ9fQkD"
      },
      "source": [
        "\n",
        "ticker_eduardo = sp500.index[:125]\n",
        "ticker_rohit = sp500.index[125:250]\n",
        "ticker_jessica = sp500.index[250:375]\n",
        "ticker_stuart = sp500.index[375:]\n",
        "\n",
        "ticker_removed1 = sp500_removed.index[:125]\n",
        "ticker_removed2 = sp500_removed.index[125:]\n",
        "\n",
        "doc_types = ['10-Q', '10-K']\n",
        "\n",
        "def download_files(ticker_index):\n",
        "\n",
        "    for doc_type in doc_types:\n",
        "\n",
        "        for download_ticker in ticker_index:\n",
        "\n",
        "          docs = download_docs([download_ticker], sp500, doc_type)\n",
        "\n",
        "          for ticker in docs.keys():\n",
        "            \n",
        "              for date in docs[ticker].keys():\n",
        "\n",
        "                  text_file = open(\"/content/drive/MyDrive/abnormal-distribution-project-data/{}/{}-{}-{}.txt\".format(doc_type, ticker, doc_type, date), \"w\")\n",
        "                  _ = text_file.write(docs[ticker][date])\n",
        "                  text_file.close()\n",
        "        \n",
        "\n",
        "download_files(ticker_eduardo) \n",
        "      "
      ],
      "execution_count": 15,
      "outputs": []
    }
  ]
}