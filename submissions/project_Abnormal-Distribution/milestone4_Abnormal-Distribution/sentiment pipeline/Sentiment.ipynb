{
  "nbformat": 4,
  "nbformat_minor": 0,
  "metadata": {
    "colab": {
      "name": "Sentiment.ipynb",
      "provenance": [],
      "machine_shape": "hm"
    },
    "kernelspec": {
      "name": "python3",
      "display_name": "Python 3"
    },
    "accelerator": "GPU",
    "widgets": {
      "application/vnd.jupyter.widget-state+json": {
        "bd5c4d6f6c8e4351904c86749e0f16c6": {
          "model_module": "@jupyter-widgets/controls",
          "model_name": "HBoxModel",
          "state": {
            "_view_name": "HBoxView",
            "_dom_classes": [],
            "_model_name": "HBoxModel",
            "_view_module": "@jupyter-widgets/controls",
            "_model_module_version": "1.5.0",
            "_view_count": null,
            "_view_module_version": "1.5.0",
            "box_style": "",
            "layout": "IPY_MODEL_c2c237d326c04dc8945f669c5bd3443f",
            "_model_module": "@jupyter-widgets/controls",
            "children": [
              "IPY_MODEL_174b29641af44c5c9f136a4108a1911c",
              "IPY_MODEL_26d0c8b7d5904877a01ab1e51165ab65"
            ]
          }
        },
        "c2c237d326c04dc8945f669c5bd3443f": {
          "model_module": "@jupyter-widgets/base",
          "model_name": "LayoutModel",
          "state": {
            "_view_name": "LayoutView",
            "grid_template_rows": null,
            "right": null,
            "justify_content": null,
            "_view_module": "@jupyter-widgets/base",
            "overflow": null,
            "_model_module_version": "1.2.0",
            "_view_count": null,
            "flex_flow": null,
            "width": null,
            "min_width": null,
            "border": null,
            "align_items": null,
            "bottom": null,
            "_model_module": "@jupyter-widgets/base",
            "top": null,
            "grid_column": null,
            "overflow_y": null,
            "overflow_x": null,
            "grid_auto_flow": null,
            "grid_area": null,
            "grid_template_columns": null,
            "flex": null,
            "_model_name": "LayoutModel",
            "justify_items": null,
            "grid_row": null,
            "max_height": null,
            "align_content": null,
            "visibility": null,
            "align_self": null,
            "height": null,
            "min_height": null,
            "padding": null,
            "grid_auto_rows": null,
            "grid_gap": null,
            "max_width": null,
            "order": null,
            "_view_module_version": "1.2.0",
            "grid_template_areas": null,
            "object_position": null,
            "object_fit": null,
            "grid_auto_columns": null,
            "margin": null,
            "display": null,
            "left": null
          }
        },
        "174b29641af44c5c9f136a4108a1911c": {
          "model_module": "@jupyter-widgets/controls",
          "model_name": "FloatProgressModel",
          "state": {
            "_view_name": "ProgressView",
            "style": "IPY_MODEL_ab11beca90ce453abc3a779f9f901eaa",
            "_dom_classes": [],
            "description": "Downloading: 100%",
            "_model_name": "FloatProgressModel",
            "bar_style": "success",
            "max": 629,
            "_view_module": "@jupyter-widgets/controls",
            "_model_module_version": "1.5.0",
            "value": 629,
            "_view_count": null,
            "_view_module_version": "1.5.0",
            "orientation": "horizontal",
            "min": 0,
            "description_tooltip": null,
            "_model_module": "@jupyter-widgets/controls",
            "layout": "IPY_MODEL_6026c57494a64e15b6b25133b1d28ebf"
          }
        },
        "26d0c8b7d5904877a01ab1e51165ab65": {
          "model_module": "@jupyter-widgets/controls",
          "model_name": "HTMLModel",
          "state": {
            "_view_name": "HTMLView",
            "style": "IPY_MODEL_8b1300ff0cfe47dfadda69605f6a32f3",
            "_dom_classes": [],
            "description": "",
            "_model_name": "HTMLModel",
            "placeholder": "​",
            "_view_module": "@jupyter-widgets/controls",
            "_model_module_version": "1.5.0",
            "value": " 629/629 [00:09&lt;00:00, 68.5B/s]",
            "_view_count": null,
            "_view_module_version": "1.5.0",
            "description_tooltip": null,
            "_model_module": "@jupyter-widgets/controls",
            "layout": "IPY_MODEL_0ca9b19e7bf04f38aeee35e1e956260c"
          }
        },
        "ab11beca90ce453abc3a779f9f901eaa": {
          "model_module": "@jupyter-widgets/controls",
          "model_name": "ProgressStyleModel",
          "state": {
            "_view_name": "StyleView",
            "_model_name": "ProgressStyleModel",
            "description_width": "initial",
            "_view_module": "@jupyter-widgets/base",
            "_model_module_version": "1.5.0",
            "_view_count": null,
            "_view_module_version": "1.2.0",
            "bar_color": null,
            "_model_module": "@jupyter-widgets/controls"
          }
        },
        "6026c57494a64e15b6b25133b1d28ebf": {
          "model_module": "@jupyter-widgets/base",
          "model_name": "LayoutModel",
          "state": {
            "_view_name": "LayoutView",
            "grid_template_rows": null,
            "right": null,
            "justify_content": null,
            "_view_module": "@jupyter-widgets/base",
            "overflow": null,
            "_model_module_version": "1.2.0",
            "_view_count": null,
            "flex_flow": null,
            "width": null,
            "min_width": null,
            "border": null,
            "align_items": null,
            "bottom": null,
            "_model_module": "@jupyter-widgets/base",
            "top": null,
            "grid_column": null,
            "overflow_y": null,
            "overflow_x": null,
            "grid_auto_flow": null,
            "grid_area": null,
            "grid_template_columns": null,
            "flex": null,
            "_model_name": "LayoutModel",
            "justify_items": null,
            "grid_row": null,
            "max_height": null,
            "align_content": null,
            "visibility": null,
            "align_self": null,
            "height": null,
            "min_height": null,
            "padding": null,
            "grid_auto_rows": null,
            "grid_gap": null,
            "max_width": null,
            "order": null,
            "_view_module_version": "1.2.0",
            "grid_template_areas": null,
            "object_position": null,
            "object_fit": null,
            "grid_auto_columns": null,
            "margin": null,
            "display": null,
            "left": null
          }
        },
        "8b1300ff0cfe47dfadda69605f6a32f3": {
          "model_module": "@jupyter-widgets/controls",
          "model_name": "DescriptionStyleModel",
          "state": {
            "_view_name": "StyleView",
            "_model_name": "DescriptionStyleModel",
            "description_width": "",
            "_view_module": "@jupyter-widgets/base",
            "_model_module_version": "1.5.0",
            "_view_count": null,
            "_view_module_version": "1.2.0",
            "_model_module": "@jupyter-widgets/controls"
          }
        },
        "0ca9b19e7bf04f38aeee35e1e956260c": {
          "model_module": "@jupyter-widgets/base",
          "model_name": "LayoutModel",
          "state": {
            "_view_name": "LayoutView",
            "grid_template_rows": null,
            "right": null,
            "justify_content": null,
            "_view_module": "@jupyter-widgets/base",
            "overflow": null,
            "_model_module_version": "1.2.0",
            "_view_count": null,
            "flex_flow": null,
            "width": null,
            "min_width": null,
            "border": null,
            "align_items": null,
            "bottom": null,
            "_model_module": "@jupyter-widgets/base",
            "top": null,
            "grid_column": null,
            "overflow_y": null,
            "overflow_x": null,
            "grid_auto_flow": null,
            "grid_area": null,
            "grid_template_columns": null,
            "flex": null,
            "_model_name": "LayoutModel",
            "justify_items": null,
            "grid_row": null,
            "max_height": null,
            "align_content": null,
            "visibility": null,
            "align_self": null,
            "height": null,
            "min_height": null,
            "padding": null,
            "grid_auto_rows": null,
            "grid_gap": null,
            "max_width": null,
            "order": null,
            "_view_module_version": "1.2.0",
            "grid_template_areas": null,
            "object_position": null,
            "object_fit": null,
            "grid_auto_columns": null,
            "margin": null,
            "display": null,
            "left": null
          }
        },
        "9aefe879916d4944bd6bff2480918233": {
          "model_module": "@jupyter-widgets/controls",
          "model_name": "HBoxModel",
          "state": {
            "_view_name": "HBoxView",
            "_dom_classes": [],
            "_model_name": "HBoxModel",
            "_view_module": "@jupyter-widgets/controls",
            "_model_module_version": "1.5.0",
            "_view_count": null,
            "_view_module_version": "1.5.0",
            "box_style": "",
            "layout": "IPY_MODEL_a0b422c0e3bd430e925e4c617cf55b95",
            "_model_module": "@jupyter-widgets/controls",
            "children": [
              "IPY_MODEL_e660148a4e154ad1890bcb605280fb57",
              "IPY_MODEL_7bd89984c5b34b10ba52124a250edfa1"
            ]
          }
        },
        "a0b422c0e3bd430e925e4c617cf55b95": {
          "model_module": "@jupyter-widgets/base",
          "model_name": "LayoutModel",
          "state": {
            "_view_name": "LayoutView",
            "grid_template_rows": null,
            "right": null,
            "justify_content": null,
            "_view_module": "@jupyter-widgets/base",
            "overflow": null,
            "_model_module_version": "1.2.0",
            "_view_count": null,
            "flex_flow": null,
            "width": null,
            "min_width": null,
            "border": null,
            "align_items": null,
            "bottom": null,
            "_model_module": "@jupyter-widgets/base",
            "top": null,
            "grid_column": null,
            "overflow_y": null,
            "overflow_x": null,
            "grid_auto_flow": null,
            "grid_area": null,
            "grid_template_columns": null,
            "flex": null,
            "_model_name": "LayoutModel",
            "justify_items": null,
            "grid_row": null,
            "max_height": null,
            "align_content": null,
            "visibility": null,
            "align_self": null,
            "height": null,
            "min_height": null,
            "padding": null,
            "grid_auto_rows": null,
            "grid_gap": null,
            "max_width": null,
            "order": null,
            "_view_module_version": "1.2.0",
            "grid_template_areas": null,
            "object_position": null,
            "object_fit": null,
            "grid_auto_columns": null,
            "margin": null,
            "display": null,
            "left": null
          }
        },
        "e660148a4e154ad1890bcb605280fb57": {
          "model_module": "@jupyter-widgets/controls",
          "model_name": "FloatProgressModel",
          "state": {
            "_view_name": "ProgressView",
            "style": "IPY_MODEL_f573d35a111d4e618410492c00492d0d",
            "_dom_classes": [],
            "description": "Downloading: 100%",
            "_model_name": "FloatProgressModel",
            "bar_style": "success",
            "max": 267844284,
            "_view_module": "@jupyter-widgets/controls",
            "_model_module_version": "1.5.0",
            "value": 267844284,
            "_view_count": null,
            "_view_module_version": "1.5.0",
            "orientation": "horizontal",
            "min": 0,
            "description_tooltip": null,
            "_model_module": "@jupyter-widgets/controls",
            "layout": "IPY_MODEL_d37d5aeb893542fb8b0c78e2dfb0cb17"
          }
        },
        "7bd89984c5b34b10ba52124a250edfa1": {
          "model_module": "@jupyter-widgets/controls",
          "model_name": "HTMLModel",
          "state": {
            "_view_name": "HTMLView",
            "style": "IPY_MODEL_afb3afae920b4975be3d89fc2fad5419",
            "_dom_classes": [],
            "description": "",
            "_model_name": "HTMLModel",
            "placeholder": "​",
            "_view_module": "@jupyter-widgets/controls",
            "_model_module_version": "1.5.0",
            "value": " 268M/268M [00:05&lt;00:00, 49.0MB/s]",
            "_view_count": null,
            "_view_module_version": "1.5.0",
            "description_tooltip": null,
            "_model_module": "@jupyter-widgets/controls",
            "layout": "IPY_MODEL_41b37d278ca64eccbccb69c8f248a319"
          }
        },
        "f573d35a111d4e618410492c00492d0d": {
          "model_module": "@jupyter-widgets/controls",
          "model_name": "ProgressStyleModel",
          "state": {
            "_view_name": "StyleView",
            "_model_name": "ProgressStyleModel",
            "description_width": "initial",
            "_view_module": "@jupyter-widgets/base",
            "_model_module_version": "1.5.0",
            "_view_count": null,
            "_view_module_version": "1.2.0",
            "bar_color": null,
            "_model_module": "@jupyter-widgets/controls"
          }
        },
        "d37d5aeb893542fb8b0c78e2dfb0cb17": {
          "model_module": "@jupyter-widgets/base",
          "model_name": "LayoutModel",
          "state": {
            "_view_name": "LayoutView",
            "grid_template_rows": null,
            "right": null,
            "justify_content": null,
            "_view_module": "@jupyter-widgets/base",
            "overflow": null,
            "_model_module_version": "1.2.0",
            "_view_count": null,
            "flex_flow": null,
            "width": null,
            "min_width": null,
            "border": null,
            "align_items": null,
            "bottom": null,
            "_model_module": "@jupyter-widgets/base",
            "top": null,
            "grid_column": null,
            "overflow_y": null,
            "overflow_x": null,
            "grid_auto_flow": null,
            "grid_area": null,
            "grid_template_columns": null,
            "flex": null,
            "_model_name": "LayoutModel",
            "justify_items": null,
            "grid_row": null,
            "max_height": null,
            "align_content": null,
            "visibility": null,
            "align_self": null,
            "height": null,
            "min_height": null,
            "padding": null,
            "grid_auto_rows": null,
            "grid_gap": null,
            "max_width": null,
            "order": null,
            "_view_module_version": "1.2.0",
            "grid_template_areas": null,
            "object_position": null,
            "object_fit": null,
            "grid_auto_columns": null,
            "margin": null,
            "display": null,
            "left": null
          }
        },
        "afb3afae920b4975be3d89fc2fad5419": {
          "model_module": "@jupyter-widgets/controls",
          "model_name": "DescriptionStyleModel",
          "state": {
            "_view_name": "StyleView",
            "_model_name": "DescriptionStyleModel",
            "description_width": "",
            "_view_module": "@jupyter-widgets/base",
            "_model_module_version": "1.5.0",
            "_view_count": null,
            "_view_module_version": "1.2.0",
            "_model_module": "@jupyter-widgets/controls"
          }
        },
        "41b37d278ca64eccbccb69c8f248a319": {
          "model_module": "@jupyter-widgets/base",
          "model_name": "LayoutModel",
          "state": {
            "_view_name": "LayoutView",
            "grid_template_rows": null,
            "right": null,
            "justify_content": null,
            "_view_module": "@jupyter-widgets/base",
            "overflow": null,
            "_model_module_version": "1.2.0",
            "_view_count": null,
            "flex_flow": null,
            "width": null,
            "min_width": null,
            "border": null,
            "align_items": null,
            "bottom": null,
            "_model_module": "@jupyter-widgets/base",
            "top": null,
            "grid_column": null,
            "overflow_y": null,
            "overflow_x": null,
            "grid_auto_flow": null,
            "grid_area": null,
            "grid_template_columns": null,
            "flex": null,
            "_model_name": "LayoutModel",
            "justify_items": null,
            "grid_row": null,
            "max_height": null,
            "align_content": null,
            "visibility": null,
            "align_self": null,
            "height": null,
            "min_height": null,
            "padding": null,
            "grid_auto_rows": null,
            "grid_gap": null,
            "max_width": null,
            "order": null,
            "_view_module_version": "1.2.0",
            "grid_template_areas": null,
            "object_position": null,
            "object_fit": null,
            "grid_auto_columns": null,
            "margin": null,
            "display": null,
            "left": null
          }
        },
        "e8a399f7fea64751ab2fa52ca86daf38": {
          "model_module": "@jupyter-widgets/controls",
          "model_name": "HBoxModel",
          "state": {
            "_view_name": "HBoxView",
            "_dom_classes": [],
            "_model_name": "HBoxModel",
            "_view_module": "@jupyter-widgets/controls",
            "_model_module_version": "1.5.0",
            "_view_count": null,
            "_view_module_version": "1.5.0",
            "box_style": "",
            "layout": "IPY_MODEL_ad10829c045f4751b197c46abd04896d",
            "_model_module": "@jupyter-widgets/controls",
            "children": [
              "IPY_MODEL_5c379cabeef447a289b8da492b906758",
              "IPY_MODEL_e16932e7f93c46f199c5227d2c86a381"
            ]
          }
        },
        "ad10829c045f4751b197c46abd04896d": {
          "model_module": "@jupyter-widgets/base",
          "model_name": "LayoutModel",
          "state": {
            "_view_name": "LayoutView",
            "grid_template_rows": null,
            "right": null,
            "justify_content": null,
            "_view_module": "@jupyter-widgets/base",
            "overflow": null,
            "_model_module_version": "1.2.0",
            "_view_count": null,
            "flex_flow": null,
            "width": null,
            "min_width": null,
            "border": null,
            "align_items": null,
            "bottom": null,
            "_model_module": "@jupyter-widgets/base",
            "top": null,
            "grid_column": null,
            "overflow_y": null,
            "overflow_x": null,
            "grid_auto_flow": null,
            "grid_area": null,
            "grid_template_columns": null,
            "flex": null,
            "_model_name": "LayoutModel",
            "justify_items": null,
            "grid_row": null,
            "max_height": null,
            "align_content": null,
            "visibility": null,
            "align_self": null,
            "height": null,
            "min_height": null,
            "padding": null,
            "grid_auto_rows": null,
            "grid_gap": null,
            "max_width": null,
            "order": null,
            "_view_module_version": "1.2.0",
            "grid_template_areas": null,
            "object_position": null,
            "object_fit": null,
            "grid_auto_columns": null,
            "margin": null,
            "display": null,
            "left": null
          }
        },
        "5c379cabeef447a289b8da492b906758": {
          "model_module": "@jupyter-widgets/controls",
          "model_name": "FloatProgressModel",
          "state": {
            "_view_name": "ProgressView",
            "style": "IPY_MODEL_653f13cc02444828b85e40f584699cd3",
            "_dom_classes": [],
            "description": "Downloading: 100%",
            "_model_name": "FloatProgressModel",
            "bar_style": "success",
            "max": 231508,
            "_view_module": "@jupyter-widgets/controls",
            "_model_module_version": "1.5.0",
            "value": 231508,
            "_view_count": null,
            "_view_module_version": "1.5.0",
            "orientation": "horizontal",
            "min": 0,
            "description_tooltip": null,
            "_model_module": "@jupyter-widgets/controls",
            "layout": "IPY_MODEL_534088ae14924961ab3d21a0e9c393c8"
          }
        },
        "e16932e7f93c46f199c5227d2c86a381": {
          "model_module": "@jupyter-widgets/controls",
          "model_name": "HTMLModel",
          "state": {
            "_view_name": "HTMLView",
            "style": "IPY_MODEL_f53d0470f71b4e39bc71541de4a8e74e",
            "_dom_classes": [],
            "description": "",
            "_model_name": "HTMLModel",
            "placeholder": "​",
            "_view_module": "@jupyter-widgets/controls",
            "_model_module_version": "1.5.0",
            "value": " 232k/232k [00:01&lt;00:00, 166kB/s]",
            "_view_count": null,
            "_view_module_version": "1.5.0",
            "description_tooltip": null,
            "_model_module": "@jupyter-widgets/controls",
            "layout": "IPY_MODEL_a2c0120537d84b51bf64cedb33e6a71a"
          }
        },
        "653f13cc02444828b85e40f584699cd3": {
          "model_module": "@jupyter-widgets/controls",
          "model_name": "ProgressStyleModel",
          "state": {
            "_view_name": "StyleView",
            "_model_name": "ProgressStyleModel",
            "description_width": "initial",
            "_view_module": "@jupyter-widgets/base",
            "_model_module_version": "1.5.0",
            "_view_count": null,
            "_view_module_version": "1.2.0",
            "bar_color": null,
            "_model_module": "@jupyter-widgets/controls"
          }
        },
        "534088ae14924961ab3d21a0e9c393c8": {
          "model_module": "@jupyter-widgets/base",
          "model_name": "LayoutModel",
          "state": {
            "_view_name": "LayoutView",
            "grid_template_rows": null,
            "right": null,
            "justify_content": null,
            "_view_module": "@jupyter-widgets/base",
            "overflow": null,
            "_model_module_version": "1.2.0",
            "_view_count": null,
            "flex_flow": null,
            "width": null,
            "min_width": null,
            "border": null,
            "align_items": null,
            "bottom": null,
            "_model_module": "@jupyter-widgets/base",
            "top": null,
            "grid_column": null,
            "overflow_y": null,
            "overflow_x": null,
            "grid_auto_flow": null,
            "grid_area": null,
            "grid_template_columns": null,
            "flex": null,
            "_model_name": "LayoutModel",
            "justify_items": null,
            "grid_row": null,
            "max_height": null,
            "align_content": null,
            "visibility": null,
            "align_self": null,
            "height": null,
            "min_height": null,
            "padding": null,
            "grid_auto_rows": null,
            "grid_gap": null,
            "max_width": null,
            "order": null,
            "_view_module_version": "1.2.0",
            "grid_template_areas": null,
            "object_position": null,
            "object_fit": null,
            "grid_auto_columns": null,
            "margin": null,
            "display": null,
            "left": null
          }
        },
        "f53d0470f71b4e39bc71541de4a8e74e": {
          "model_module": "@jupyter-widgets/controls",
          "model_name": "DescriptionStyleModel",
          "state": {
            "_view_name": "StyleView",
            "_model_name": "DescriptionStyleModel",
            "description_width": "",
            "_view_module": "@jupyter-widgets/base",
            "_model_module_version": "1.5.0",
            "_view_count": null,
            "_view_module_version": "1.2.0",
            "_model_module": "@jupyter-widgets/controls"
          }
        },
        "a2c0120537d84b51bf64cedb33e6a71a": {
          "model_module": "@jupyter-widgets/base",
          "model_name": "LayoutModel",
          "state": {
            "_view_name": "LayoutView",
            "grid_template_rows": null,
            "right": null,
            "justify_content": null,
            "_view_module": "@jupyter-widgets/base",
            "overflow": null,
            "_model_module_version": "1.2.0",
            "_view_count": null,
            "flex_flow": null,
            "width": null,
            "min_width": null,
            "border": null,
            "align_items": null,
            "bottom": null,
            "_model_module": "@jupyter-widgets/base",
            "top": null,
            "grid_column": null,
            "overflow_y": null,
            "overflow_x": null,
            "grid_auto_flow": null,
            "grid_area": null,
            "grid_template_columns": null,
            "flex": null,
            "_model_name": "LayoutModel",
            "justify_items": null,
            "grid_row": null,
            "max_height": null,
            "align_content": null,
            "visibility": null,
            "align_self": null,
            "height": null,
            "min_height": null,
            "padding": null,
            "grid_auto_rows": null,
            "grid_gap": null,
            "max_width": null,
            "order": null,
            "_view_module_version": "1.2.0",
            "grid_template_areas": null,
            "object_position": null,
            "object_fit": null,
            "grid_auto_columns": null,
            "margin": null,
            "display": null,
            "left": null
          }
        },
        "4cf80a0190724374bc9df13f0eae1a15": {
          "model_module": "@jupyter-widgets/controls",
          "model_name": "HBoxModel",
          "state": {
            "_view_name": "HBoxView",
            "_dom_classes": [],
            "_model_name": "HBoxModel",
            "_view_module": "@jupyter-widgets/controls",
            "_model_module_version": "1.5.0",
            "_view_count": null,
            "_view_module_version": "1.5.0",
            "box_style": "",
            "layout": "IPY_MODEL_f2ad1462e93d4935a3fd8da4c418307d",
            "_model_module": "@jupyter-widgets/controls",
            "children": [
              "IPY_MODEL_83e5363be7014e4d8b511e8e32ff4396",
              "IPY_MODEL_12f10d20c5094242add680ae22b48934"
            ]
          }
        },
        "f2ad1462e93d4935a3fd8da4c418307d": {
          "model_module": "@jupyter-widgets/base",
          "model_name": "LayoutModel",
          "state": {
            "_view_name": "LayoutView",
            "grid_template_rows": null,
            "right": null,
            "justify_content": null,
            "_view_module": "@jupyter-widgets/base",
            "overflow": null,
            "_model_module_version": "1.2.0",
            "_view_count": null,
            "flex_flow": null,
            "width": null,
            "min_width": null,
            "border": null,
            "align_items": null,
            "bottom": null,
            "_model_module": "@jupyter-widgets/base",
            "top": null,
            "grid_column": null,
            "overflow_y": null,
            "overflow_x": null,
            "grid_auto_flow": null,
            "grid_area": null,
            "grid_template_columns": null,
            "flex": null,
            "_model_name": "LayoutModel",
            "justify_items": null,
            "grid_row": null,
            "max_height": null,
            "align_content": null,
            "visibility": null,
            "align_self": null,
            "height": null,
            "min_height": null,
            "padding": null,
            "grid_auto_rows": null,
            "grid_gap": null,
            "max_width": null,
            "order": null,
            "_view_module_version": "1.2.0",
            "grid_template_areas": null,
            "object_position": null,
            "object_fit": null,
            "grid_auto_columns": null,
            "margin": null,
            "display": null,
            "left": null
          }
        },
        "83e5363be7014e4d8b511e8e32ff4396": {
          "model_module": "@jupyter-widgets/controls",
          "model_name": "FloatProgressModel",
          "state": {
            "_view_name": "ProgressView",
            "style": "IPY_MODEL_3fd31552b03a41ceb4f6c041b50b839b",
            "_dom_classes": [],
            "description": "  0%",
            "_model_name": "FloatProgressModel",
            "bar_style": "",
            "max": 3524386,
            "_view_module": "@jupyter-widgets/controls",
            "_model_module_version": "1.5.0",
            "value": 2959,
            "_view_count": null,
            "_view_module_version": "1.5.0",
            "orientation": "horizontal",
            "min": 0,
            "description_tooltip": null,
            "_model_module": "@jupyter-widgets/controls",
            "layout": "IPY_MODEL_5da048df7493423f8c530c2d6a8ca92b"
          }
        },
        "12f10d20c5094242add680ae22b48934": {
          "model_module": "@jupyter-widgets/controls",
          "model_name": "HTMLModel",
          "state": {
            "_view_name": "HTMLView",
            "style": "IPY_MODEL_c7b9acf85297487786f07e25dfd2e745",
            "_dom_classes": [],
            "description": "",
            "_model_name": "HTMLModel",
            "placeholder": "​",
            "_view_module": "@jupyter-widgets/controls",
            "_model_module_version": "1.5.0",
            "value": " 2959/3524386 [00:29&lt;9:40:53, 101.04it/s]",
            "_view_count": null,
            "_view_module_version": "1.5.0",
            "description_tooltip": null,
            "_model_module": "@jupyter-widgets/controls",
            "layout": "IPY_MODEL_e580c8f02eb3485a8447a71529685fe0"
          }
        },
        "3fd31552b03a41ceb4f6c041b50b839b": {
          "model_module": "@jupyter-widgets/controls",
          "model_name": "ProgressStyleModel",
          "state": {
            "_view_name": "StyleView",
            "_model_name": "ProgressStyleModel",
            "description_width": "initial",
            "_view_module": "@jupyter-widgets/base",
            "_model_module_version": "1.5.0",
            "_view_count": null,
            "_view_module_version": "1.2.0",
            "bar_color": null,
            "_model_module": "@jupyter-widgets/controls"
          }
        },
        "5da048df7493423f8c530c2d6a8ca92b": {
          "model_module": "@jupyter-widgets/base",
          "model_name": "LayoutModel",
          "state": {
            "_view_name": "LayoutView",
            "grid_template_rows": null,
            "right": null,
            "justify_content": null,
            "_view_module": "@jupyter-widgets/base",
            "overflow": null,
            "_model_module_version": "1.2.0",
            "_view_count": null,
            "flex_flow": null,
            "width": null,
            "min_width": null,
            "border": null,
            "align_items": null,
            "bottom": null,
            "_model_module": "@jupyter-widgets/base",
            "top": null,
            "grid_column": null,
            "overflow_y": null,
            "overflow_x": null,
            "grid_auto_flow": null,
            "grid_area": null,
            "grid_template_columns": null,
            "flex": null,
            "_model_name": "LayoutModel",
            "justify_items": null,
            "grid_row": null,
            "max_height": null,
            "align_content": null,
            "visibility": null,
            "align_self": null,
            "height": null,
            "min_height": null,
            "padding": null,
            "grid_auto_rows": null,
            "grid_gap": null,
            "max_width": null,
            "order": null,
            "_view_module_version": "1.2.0",
            "grid_template_areas": null,
            "object_position": null,
            "object_fit": null,
            "grid_auto_columns": null,
            "margin": null,
            "display": null,
            "left": null
          }
        },
        "c7b9acf85297487786f07e25dfd2e745": {
          "model_module": "@jupyter-widgets/controls",
          "model_name": "DescriptionStyleModel",
          "state": {
            "_view_name": "StyleView",
            "_model_name": "DescriptionStyleModel",
            "description_width": "",
            "_view_module": "@jupyter-widgets/base",
            "_model_module_version": "1.5.0",
            "_view_count": null,
            "_view_module_version": "1.2.0",
            "_model_module": "@jupyter-widgets/controls"
          }
        },
        "e580c8f02eb3485a8447a71529685fe0": {
          "model_module": "@jupyter-widgets/base",
          "model_name": "LayoutModel",
          "state": {
            "_view_name": "LayoutView",
            "grid_template_rows": null,
            "right": null,
            "justify_content": null,
            "_view_module": "@jupyter-widgets/base",
            "overflow": null,
            "_model_module_version": "1.2.0",
            "_view_count": null,
            "flex_flow": null,
            "width": null,
            "min_width": null,
            "border": null,
            "align_items": null,
            "bottom": null,
            "_model_module": "@jupyter-widgets/base",
            "top": null,
            "grid_column": null,
            "overflow_y": null,
            "overflow_x": null,
            "grid_auto_flow": null,
            "grid_area": null,
            "grid_template_columns": null,
            "flex": null,
            "_model_name": "LayoutModel",
            "justify_items": null,
            "grid_row": null,
            "max_height": null,
            "align_content": null,
            "visibility": null,
            "align_self": null,
            "height": null,
            "min_height": null,
            "padding": null,
            "grid_auto_rows": null,
            "grid_gap": null,
            "max_width": null,
            "order": null,
            "_view_module_version": "1.2.0",
            "grid_template_areas": null,
            "object_position": null,
            "object_fit": null,
            "grid_auto_columns": null,
            "margin": null,
            "display": null,
            "left": null
          }
        }
      }
    }
  },
  "cells": [
    {
      "cell_type": "code",
      "metadata": {
        "colab": {
          "base_uri": "https://localhost:8080/"
        },
        "id": "JDnpV4sjTI7A",
        "outputId": "668fcfc0-2715-4d1d-a206-4614ca4727b2"
      },
      "source": [
        "!pip3 install transformers"
      ],
      "execution_count": null,
      "outputs": [
        {
          "output_type": "stream",
          "text": [
            "Collecting transformers\n",
            "\u001b[?25l  Downloading https://files.pythonhosted.org/packages/ed/db/98c3ea1a78190dac41c0127a063abf92bd01b4b0b6970a6db1c2f5b66fa0/transformers-4.0.1-py3-none-any.whl (1.4MB)\n",
            "\u001b[K     |████████████████████████████████| 1.4MB 9.1MB/s \n",
            "\u001b[?25hRequirement already satisfied: numpy in /usr/local/lib/python3.6/dist-packages (from transformers) (1.18.5)\n",
            "Requirement already satisfied: regex!=2019.12.17 in /usr/local/lib/python3.6/dist-packages (from transformers) (2019.12.20)\n",
            "Requirement already satisfied: packaging in /usr/local/lib/python3.6/dist-packages (from transformers) (20.7)\n",
            "Requirement already satisfied: requests in /usr/local/lib/python3.6/dist-packages (from transformers) (2.23.0)\n",
            "Requirement already satisfied: dataclasses; python_version < \"3.7\" in /usr/local/lib/python3.6/dist-packages (from transformers) (0.8)\n",
            "Requirement already satisfied: tqdm>=4.27 in /usr/local/lib/python3.6/dist-packages (from transformers) (4.41.1)\n",
            "Collecting tokenizers==0.9.4\n",
            "\u001b[?25l  Downloading https://files.pythonhosted.org/packages/0f/1c/e789a8b12e28be5bc1ce2156cf87cb522b379be9cadc7ad8091a4cc107c4/tokenizers-0.9.4-cp36-cp36m-manylinux2010_x86_64.whl (2.9MB)\n",
            "\u001b[K     |████████████████████████████████| 2.9MB 30.1MB/s \n",
            "\u001b[?25hRequirement already satisfied: filelock in /usr/local/lib/python3.6/dist-packages (from transformers) (3.0.12)\n",
            "Collecting sacremoses\n",
            "\u001b[?25l  Downloading https://files.pythonhosted.org/packages/7d/34/09d19aff26edcc8eb2a01bed8e98f13a1537005d31e95233fd48216eed10/sacremoses-0.0.43.tar.gz (883kB)\n",
            "\u001b[K     |████████████████████████████████| 890kB 60.7MB/s \n",
            "\u001b[?25hRequirement already satisfied: pyparsing>=2.0.2 in /usr/local/lib/python3.6/dist-packages (from packaging->transformers) (2.4.7)\n",
            "Requirement already satisfied: idna<3,>=2.5 in /usr/local/lib/python3.6/dist-packages (from requests->transformers) (2.10)\n",
            "Requirement already satisfied: certifi>=2017.4.17 in /usr/local/lib/python3.6/dist-packages (from requests->transformers) (2020.12.5)\n",
            "Requirement already satisfied: urllib3!=1.25.0,!=1.25.1,<1.26,>=1.21.1 in /usr/local/lib/python3.6/dist-packages (from requests->transformers) (1.24.3)\n",
            "Requirement already satisfied: chardet<4,>=3.0.2 in /usr/local/lib/python3.6/dist-packages (from requests->transformers) (3.0.4)\n",
            "Requirement already satisfied: six in /usr/local/lib/python3.6/dist-packages (from sacremoses->transformers) (1.15.0)\n",
            "Requirement already satisfied: click in /usr/local/lib/python3.6/dist-packages (from sacremoses->transformers) (7.1.2)\n",
            "Requirement already satisfied: joblib in /usr/local/lib/python3.6/dist-packages (from sacremoses->transformers) (0.17.0)\n",
            "Building wheels for collected packages: sacremoses\n",
            "  Building wheel for sacremoses (setup.py) ... \u001b[?25l\u001b[?25hdone\n",
            "  Created wheel for sacremoses: filename=sacremoses-0.0.43-cp36-none-any.whl size=893261 sha256=5c066b4c9a5ee4ffc3e8e4306ee43df340ff67a9300e60265acfd853bdcfda90\n",
            "  Stored in directory: /root/.cache/pip/wheels/29/3c/fd/7ce5c3f0666dab31a50123635e6fb5e19ceb42ce38d4e58f45\n",
            "Successfully built sacremoses\n",
            "Installing collected packages: tokenizers, sacremoses, transformers\n",
            "Successfully installed sacremoses-0.0.43 tokenizers-0.9.4 transformers-4.0.1\n"
          ],
          "name": "stdout"
        }
      ]
    },
    {
      "cell_type": "markdown",
      "metadata": {
        "id": "X5ugfeqjy_gW"
      },
      "source": [
        "# Calculating sentiment mesasures for different models"
      ]
    },
    {
      "cell_type": "code",
      "metadata": {
        "id": "-22uH5LgTJrP"
      },
      "source": [
        "import pandas as pd\n",
        "import numpy as np\n",
        "from datetime import timedelta\n",
        "import pickle\n",
        "\n",
        "from transformers import pipeline\n",
        "\n",
        "from tqdm.notebook import tqdm\n",
        "import matplotlib.pyplot as plt\n"
      ],
      "execution_count": null,
      "outputs": []
    },
    {
      "cell_type": "code",
      "metadata": {
        "colab": {
          "base_uri": "https://localhost:8080/"
        },
        "id": "LiVihQ56TS1G",
        "outputId": "1d88c48e-e334-423c-a0e4-649d998c32ef"
      },
      "source": [
        "from google.colab import drive\n",
        "\n",
        "drive.mount('/content/drive', force_remount=False)"
      ],
      "execution_count": null,
      "outputs": [
        {
          "output_type": "stream",
          "text": [
            "Drive already mounted at /content/drive; to attempt to forcibly remount, call drive.mount(\"/content/drive\", force_remount=True).\n"
          ],
          "name": "stdout"
        }
      ]
    },
    {
      "cell_type": "markdown",
      "metadata": {
        "id": "zUv7SU19zEGc"
      },
      "source": [
        "## Use Huggingface pipeline to estimate sentiment"
      ]
    },
    {
      "cell_type": "code",
      "metadata": {
        "colab": {
          "base_uri": "https://localhost:8080/",
          "height": 164,
          "referenced_widgets": [
            "bd5c4d6f6c8e4351904c86749e0f16c6",
            "c2c237d326c04dc8945f669c5bd3443f",
            "174b29641af44c5c9f136a4108a1911c",
            "26d0c8b7d5904877a01ab1e51165ab65",
            "ab11beca90ce453abc3a779f9f901eaa",
            "6026c57494a64e15b6b25133b1d28ebf",
            "8b1300ff0cfe47dfadda69605f6a32f3",
            "0ca9b19e7bf04f38aeee35e1e956260c",
            "9aefe879916d4944bd6bff2480918233",
            "a0b422c0e3bd430e925e4c617cf55b95",
            "e660148a4e154ad1890bcb605280fb57",
            "7bd89984c5b34b10ba52124a250edfa1",
            "f573d35a111d4e618410492c00492d0d",
            "d37d5aeb893542fb8b0c78e2dfb0cb17",
            "afb3afae920b4975be3d89fc2fad5419",
            "41b37d278ca64eccbccb69c8f248a319",
            "e8a399f7fea64751ab2fa52ca86daf38",
            "ad10829c045f4751b197c46abd04896d",
            "5c379cabeef447a289b8da492b906758",
            "e16932e7f93c46f199c5227d2c86a381",
            "653f13cc02444828b85e40f584699cd3",
            "534088ae14924961ab3d21a0e9c393c8",
            "f53d0470f71b4e39bc71541de4a8e74e",
            "a2c0120537d84b51bf64cedb33e6a71a"
          ]
        },
        "id": "nfunv9AsULzw",
        "outputId": "cb4f29e8-1146-491d-ca71-15abb68b053b"
      },
      "source": [
        "nlp = pipeline('sentiment-analysis', device=0)"
      ],
      "execution_count": null,
      "outputs": [
        {
          "output_type": "display_data",
          "data": {
            "application/vnd.jupyter.widget-view+json": {
              "model_id": "bd5c4d6f6c8e4351904c86749e0f16c6",
              "version_minor": 0,
              "version_major": 2
            },
            "text/plain": [
              "HBox(children=(FloatProgress(value=0.0, description='Downloading', max=629.0, style=ProgressStyle(description_…"
            ]
          },
          "metadata": {
            "tags": []
          }
        },
        {
          "output_type": "stream",
          "text": [
            "\n"
          ],
          "name": "stdout"
        },
        {
          "output_type": "display_data",
          "data": {
            "application/vnd.jupyter.widget-view+json": {
              "model_id": "9aefe879916d4944bd6bff2480918233",
              "version_minor": 0,
              "version_major": 2
            },
            "text/plain": [
              "HBox(children=(FloatProgress(value=0.0, description='Downloading', max=267844284.0, style=ProgressStyle(descri…"
            ]
          },
          "metadata": {
            "tags": []
          }
        },
        {
          "output_type": "stream",
          "text": [
            "\n"
          ],
          "name": "stdout"
        },
        {
          "output_type": "display_data",
          "data": {
            "application/vnd.jupyter.widget-view+json": {
              "model_id": "e8a399f7fea64751ab2fa52ca86daf38",
              "version_minor": 0,
              "version_major": 2
            },
            "text/plain": [
              "HBox(children=(FloatProgress(value=0.0, description='Downloading', max=231508.0, style=ProgressStyle(descripti…"
            ]
          },
          "metadata": {
            "tags": []
          }
        },
        {
          "output_type": "stream",
          "text": [
            "\n"
          ],
          "name": "stdout"
        }
      ]
    },
    {
      "cell_type": "code",
      "metadata": {
        "id": "J4DQkM01TJtV"
      },
      "source": [
        "news = pickle.load(open('/content/drive/MyDrive/abnormal-distribution-project-data/lean/master.p','rb'))\n"
      ],
      "execution_count": null,
      "outputs": []
    },
    {
      "cell_type": "code",
      "metadata": {
        "id": "3NYYUe_gTJvo",
        "colab": {
          "base_uri": "https://localhost:8080/",
          "height": 49,
          "referenced_widgets": [
            "4cf80a0190724374bc9df13f0eae1a15",
            "f2ad1462e93d4935a3fd8da4c418307d",
            "83e5363be7014e4d8b511e8e32ff4396",
            "12f10d20c5094242add680ae22b48934",
            "3fd31552b03a41ceb4f6c041b50b839b",
            "5da048df7493423f8c530c2d6a8ca92b",
            "c7b9acf85297487786f07e25dfd2e745",
            "e580c8f02eb3485a8447a71529685fe0"
          ]
        },
        "outputId": "1934f7c4-c999-4c5e-bf18-222b9d9cdc1f"
      },
      "source": [
        "sentiment_list = []\n",
        "\n",
        "for t in tqdm(news.text.to_list()):\n",
        "    \n",
        "    if len(nlp.tokenizer(t)['input_ids']) < 512:\n",
        "            \n",
        "        sentiment_list.append(nlp(t))\n",
        "        \n",
        "    else:\n",
        "        \n",
        "        sentiment_list.append('error')\n"
      ],
      "execution_count": null,
      "outputs": [
        {
          "output_type": "display_data",
          "data": {
            "application/vnd.jupyter.widget-view+json": {
              "model_id": "4cf80a0190724374bc9df13f0eae1a15",
              "version_minor": 0,
              "version_major": 2
            },
            "text/plain": [
              "HBox(children=(FloatProgress(value=0.0, max=3524386.0), HTML(value='')))"
            ]
          },
          "metadata": {
            "tags": []
          }
        }
      ]
    },
    {
      "cell_type": "code",
      "metadata": {
        "colab": {
          "base_uri": "https://localhost:8080/"
        },
        "id": "0Q7_kK87Zeb4",
        "outputId": "b4ee7218-4d9f-422f-d7f6-22dea137896c"
      },
      "source": [
        "sentiment_list[0:10]"
      ],
      "execution_count": null,
      "outputs": [
        {
          "output_type": "execute_result",
          "data": {
            "text/plain": [
              "[[{'label': 'NEGATIVE', 'score': 0.9952332973480225}],\n",
              " [{'label': 'POSITIVE', 'score': 0.9998228549957275}],\n",
              " [{'label': 'NEGATIVE', 'score': 0.8570035099983215}],\n",
              " [{'label': 'POSITIVE', 'score': 0.9972251653671265}],\n",
              " [{'label': 'NEGATIVE', 'score': 0.848721981048584}],\n",
              " [{'label': 'NEGATIVE', 'score': 0.9951369762420654}],\n",
              " [{'label': 'POSITIVE', 'score': 0.9970508813858032}],\n",
              " [{'label': 'NEGATIVE', 'score': 0.9991442561149597}],\n",
              " [{'label': 'NEGATIVE', 'score': 0.9685935974121094}],\n",
              " [{'label': 'NEGATIVE', 'score': 0.9952538013458252}]]"
            ]
          },
          "metadata": {
            "tags": []
          },
          "execution_count": 24
        }
      ]
    },
    {
      "cell_type": "code",
      "metadata": {
        "id": "gFzIL0paYFCK"
      },
      "source": [
        "vec = []\n",
        "for s in sentiment_list:\n",
        "  if s == 'error':\n",
        "    vec.append(np.nan)\n",
        "  elif s[0]['label'] == 'NEGATIVE':\n",
        "    vec.append(0)\n",
        "  else:\n",
        "    vec.append(1)\n",
        "\n",
        "nn = news[news.source=='finnhub'][['id','ticker']]\n",
        "nn = nn.reset_index(drop=True)\n",
        "nn['score'] = vec\n",
        "nn.to_csv(SENT_BERT_FINNHUB,index=False)"
      ],
      "execution_count": null,
      "outputs": []
    },
    {
      "cell_type": "markdown",
      "metadata": {
        "id": "EAV8riHZzL0Q"
      },
      "source": [
        "## Aggregate sentiment into pandas tagged with id, date, ticker"
      ]
    },
    {
      "cell_type": "code",
      "metadata": {
        "id": "Hma-jZYEh3kp"
      },
      "source": [
        "SENT_FINBERT_TIINGO = '/content/drive/MyDrive/abnormal-distribution-project-data/news_reduced/finbert_tiingo_with_sentiment.csv'\n",
        "SENT_BERT_TIINGO = '/content/drive/MyDrive/abnormal-distribution-project-data/news_reduced/tiingo_with_sentiment.csv'\n",
        "SENT_FINBERT_FINNHUB = '/content/drive/MyDrive/abnormal-distribution-project-data/news_reduced/finbert_finnhub_with_sentiment.csv'\n",
        "SENT_BERT_FINNHUB = '/content/drive/MyDrive/abnormal-distribution-project-data/news_reduced/finnhub_with_sentiment.csv'"
      ],
      "execution_count": null,
      "outputs": []
    },
    {
      "cell_type": "code",
      "metadata": {
        "id": "MN0X92Dwh4QB"
      },
      "source": [
        "tiingo_finbert_df = pd.read_csv(SENT_FINBERT_TIINGO)\n",
        "tiingo_bert_df = pd.read_csv(SENT_BERT_TIINGO)\n",
        "finnhub_finbert_df = pd.read_csv(SENT_FINBERT_FINNHUB)\n",
        "finnhub_bert_df = pd.read_csv(SENT_BERT_FINNHUB)"
      ],
      "execution_count": null,
      "outputs": []
    },
    {
      "cell_type": "code",
      "metadata": {
        "colab": {
          "base_uri": "https://localhost:8080/",
          "height": 204
        },
        "id": "Lc_r9c7-B-TW",
        "outputId": "beaabf97-dbd0-483a-d00e-f2e4ae3c999c"
      },
      "source": [
        "tiingo_finbert_df.head()"
      ],
      "execution_count": null,
      "outputs": [
        {
          "output_type": "execute_result",
          "data": {
            "text/html": [
              "<div>\n",
              "<style scoped>\n",
              "    .dataframe tbody tr th:only-of-type {\n",
              "        vertical-align: middle;\n",
              "    }\n",
              "\n",
              "    .dataframe tbody tr th {\n",
              "        vertical-align: top;\n",
              "    }\n",
              "\n",
              "    .dataframe thead th {\n",
              "        text-align: right;\n",
              "    }\n",
              "</style>\n",
              "<table border=\"1\" class=\"dataframe\">\n",
              "  <thead>\n",
              "    <tr style=\"text-align: right;\">\n",
              "      <th></th>\n",
              "      <th>id</th>\n",
              "      <th>date</th>\n",
              "      <th>ticker</th>\n",
              "      <th>label</th>\n",
              "      <th>score</th>\n",
              "    </tr>\n",
              "  </thead>\n",
              "  <tbody>\n",
              "    <tr>\n",
              "      <th>0</th>\n",
              "      <td>26108102</td>\n",
              "      <td>1996-12-31T05:00:00+00:00</td>\n",
              "      <td>msft</td>\n",
              "      <td>LABEL_1</td>\n",
              "      <td>0.999990</td>\n",
              "    </tr>\n",
              "    <tr>\n",
              "      <th>1</th>\n",
              "      <td>26108212</td>\n",
              "      <td>1996-12-31T05:00:00+00:00</td>\n",
              "      <td>amzn</td>\n",
              "      <td>LABEL_1</td>\n",
              "      <td>0.999987</td>\n",
              "    </tr>\n",
              "    <tr>\n",
              "      <th>2</th>\n",
              "      <td>26108278</td>\n",
              "      <td>1996-12-31T05:00:00+00:00</td>\n",
              "      <td>man</td>\n",
              "      <td>LABEL_1</td>\n",
              "      <td>0.999988</td>\n",
              "    </tr>\n",
              "    <tr>\n",
              "      <th>3</th>\n",
              "      <td>26108333</td>\n",
              "      <td>1996-12-31T05:00:00+00:00</td>\n",
              "      <td>msi</td>\n",
              "      <td>LABEL_1</td>\n",
              "      <td>0.999991</td>\n",
              "    </tr>\n",
              "    <tr>\n",
              "      <th>4</th>\n",
              "      <td>26107784</td>\n",
              "      <td>1997-02-28T05:00:00+00:00</td>\n",
              "      <td>csco</td>\n",
              "      <td>LABEL_1</td>\n",
              "      <td>0.999991</td>\n",
              "    </tr>\n",
              "  </tbody>\n",
              "</table>\n",
              "</div>"
            ],
            "text/plain": [
              "         id                       date ticker    label     score\n",
              "0  26108102  1996-12-31T05:00:00+00:00   msft  LABEL_1  0.999990\n",
              "1  26108212  1996-12-31T05:00:00+00:00   amzn  LABEL_1  0.999987\n",
              "2  26108278  1996-12-31T05:00:00+00:00    man  LABEL_1  0.999988\n",
              "3  26108333  1996-12-31T05:00:00+00:00    msi  LABEL_1  0.999991\n",
              "4  26107784  1997-02-28T05:00:00+00:00   csco  LABEL_1  0.999991"
            ]
          },
          "metadata": {
            "tags": []
          },
          "execution_count": 6
        }
      ]
    },
    {
      "cell_type": "code",
      "metadata": {
        "id": "is2cgm0SkkiQ"
      },
      "source": [
        "tiingo_finbert_df.loc[tiingo_finbert_df.label=='LABEL_0', 'score'] = - tiingo_finbert_df.loc[tiingo_finbert_df.label=='LABEL_0', 'score']\r\n",
        "tiingo_finbert_df.loc[tiingo_finbert_df.label=='LABEL_1', 'score'] = 0\r\n",
        "#tiingo_finbert_df.loc[tiingo_finbert_df.label=='LABEL_2', 'score'] = 1\r\n",
        "tiingo_finbert_df = tiingo_finbert_df[['id', 'ticker', 'score']]\r\n",
        "tiingo_finbert_df['source'] = 'tiingo'"
      ],
      "execution_count": null,
      "outputs": []
    },
    {
      "cell_type": "code",
      "metadata": {
        "colab": {
          "base_uri": "https://localhost:8080/",
          "height": 204
        },
        "id": "PMN_wMp7bDJc",
        "outputId": "3ddab170-e4c5-4d45-845f-165a7e53f6be"
      },
      "source": [
        "tiingo_finbert_df.head()"
      ],
      "execution_count": null,
      "outputs": [
        {
          "output_type": "execute_result",
          "data": {
            "text/html": [
              "<div>\n",
              "<style scoped>\n",
              "    .dataframe tbody tr th:only-of-type {\n",
              "        vertical-align: middle;\n",
              "    }\n",
              "\n",
              "    .dataframe tbody tr th {\n",
              "        vertical-align: top;\n",
              "    }\n",
              "\n",
              "    .dataframe thead th {\n",
              "        text-align: right;\n",
              "    }\n",
              "</style>\n",
              "<table border=\"1\" class=\"dataframe\">\n",
              "  <thead>\n",
              "    <tr style=\"text-align: right;\">\n",
              "      <th></th>\n",
              "      <th>id</th>\n",
              "      <th>ticker</th>\n",
              "      <th>score</th>\n",
              "      <th>source</th>\n",
              "    </tr>\n",
              "  </thead>\n",
              "  <tbody>\n",
              "    <tr>\n",
              "      <th>0</th>\n",
              "      <td>26108102</td>\n",
              "      <td>msft</td>\n",
              "      <td>0.0</td>\n",
              "      <td>tiingo</td>\n",
              "    </tr>\n",
              "    <tr>\n",
              "      <th>1</th>\n",
              "      <td>26108212</td>\n",
              "      <td>amzn</td>\n",
              "      <td>0.0</td>\n",
              "      <td>tiingo</td>\n",
              "    </tr>\n",
              "    <tr>\n",
              "      <th>2</th>\n",
              "      <td>26108278</td>\n",
              "      <td>man</td>\n",
              "      <td>0.0</td>\n",
              "      <td>tiingo</td>\n",
              "    </tr>\n",
              "    <tr>\n",
              "      <th>3</th>\n",
              "      <td>26108333</td>\n",
              "      <td>msi</td>\n",
              "      <td>0.0</td>\n",
              "      <td>tiingo</td>\n",
              "    </tr>\n",
              "    <tr>\n",
              "      <th>4</th>\n",
              "      <td>26107784</td>\n",
              "      <td>csco</td>\n",
              "      <td>0.0</td>\n",
              "      <td>tiingo</td>\n",
              "    </tr>\n",
              "  </tbody>\n",
              "</table>\n",
              "</div>"
            ],
            "text/plain": [
              "         id ticker  score  source\n",
              "0  26108102   msft    0.0  tiingo\n",
              "1  26108212   amzn    0.0  tiingo\n",
              "2  26108278    man    0.0  tiingo\n",
              "3  26108333    msi    0.0  tiingo\n",
              "4  26107784   csco    0.0  tiingo"
            ]
          },
          "metadata": {
            "tags": []
          },
          "execution_count": 93
        }
      ]
    },
    {
      "cell_type": "code",
      "metadata": {
        "id": "ZOs7bNoIqlGQ"
      },
      "source": [
        "news = pickle.load(open('/content/drive/MyDrive/abnormal-distribution-project-data/news_reduced/finnhub_sp1500.p','rb'))\r\n",
        "finnhub_finbert_df['id'] = news.reset_index().id\r\n",
        "finnhub_finbert_df.loc[finnhub_finbert_df.label=='LABEL_0', 'score'] = - finnhub_finbert_df.loc[finnhub_finbert_df.label=='LABEL_0', 'score']\r\n",
        "finnhub_finbert_df.loc[finnhub_finbert_df.label=='LABEL_1', 'score'] = 0\r\n",
        "#finnhub_finbert_df.loc[finnhub_finbert_df.label=='LABEL_2', 'score'] = 1\r\n",
        "finnhub_finbert_df = finnhub_finbert_df[['id', 'ticker', 'score']]\r\n",
        "finnhub_finbert_df.ticker = finnhub_finbert_df.ticker.str.lower()\r\n",
        "finnhub_finbert_df['source'] = 'finnhub'"
      ],
      "execution_count": null,
      "outputs": []
    },
    {
      "cell_type": "code",
      "metadata": {
        "colab": {
          "base_uri": "https://localhost:8080/",
          "height": 204
        },
        "id": "PIO3TE8gg9Ro",
        "outputId": "ecbc2747-db9a-4869-c65a-f348ffc8192f"
      },
      "source": [
        "finnhub_finbert_df.head()"
      ],
      "execution_count": null,
      "outputs": [
        {
          "output_type": "execute_result",
          "data": {
            "text/html": [
              "<div>\n",
              "<style scoped>\n",
              "    .dataframe tbody tr th:only-of-type {\n",
              "        vertical-align: middle;\n",
              "    }\n",
              "\n",
              "    .dataframe tbody tr th {\n",
              "        vertical-align: top;\n",
              "    }\n",
              "\n",
              "    .dataframe thead th {\n",
              "        text-align: right;\n",
              "    }\n",
              "</style>\n",
              "<table border=\"1\" class=\"dataframe\">\n",
              "  <thead>\n",
              "    <tr style=\"text-align: right;\">\n",
              "      <th></th>\n",
              "      <th>id</th>\n",
              "      <th>ticker</th>\n",
              "      <th>score</th>\n",
              "      <th>source</th>\n",
              "    </tr>\n",
              "  </thead>\n",
              "  <tbody>\n",
              "    <tr>\n",
              "      <th>0</th>\n",
              "      <td>31438683</td>\n",
              "      <td>a</td>\n",
              "      <td>0.0</td>\n",
              "      <td>finnhub</td>\n",
              "    </tr>\n",
              "    <tr>\n",
              "      <th>1</th>\n",
              "      <td>31438682</td>\n",
              "      <td>a</td>\n",
              "      <td>0.0</td>\n",
              "      <td>finnhub</td>\n",
              "    </tr>\n",
              "    <tr>\n",
              "      <th>2</th>\n",
              "      <td>31438680</td>\n",
              "      <td>a</td>\n",
              "      <td>0.0</td>\n",
              "      <td>finnhub</td>\n",
              "    </tr>\n",
              "    <tr>\n",
              "      <th>3</th>\n",
              "      <td>31438681</td>\n",
              "      <td>a</td>\n",
              "      <td>0.0</td>\n",
              "      <td>finnhub</td>\n",
              "    </tr>\n",
              "    <tr>\n",
              "      <th>4</th>\n",
              "      <td>31438679</td>\n",
              "      <td>a</td>\n",
              "      <td>0.0</td>\n",
              "      <td>finnhub</td>\n",
              "    </tr>\n",
              "  </tbody>\n",
              "</table>\n",
              "</div>"
            ],
            "text/plain": [
              "         id ticker  score   source\n",
              "0  31438683      a    0.0  finnhub\n",
              "1  31438682      a    0.0  finnhub\n",
              "2  31438680      a    0.0  finnhub\n",
              "3  31438681      a    0.0  finnhub\n",
              "4  31438679      a    0.0  finnhub"
            ]
          },
          "metadata": {
            "tags": []
          },
          "execution_count": 95
        }
      ]
    },
    {
      "cell_type": "code",
      "metadata": {
        "id": "ftfE9VxPhFlu"
      },
      "source": [
        "tiingo_bert_df.loc[tiingo_bert_df.label == 'NEGATIVE','score'] = - tiingo_bert_df.loc[tiingo_bert_df.label == 'NEGATIVE','score']\r\n",
        "#tiingo_bert_df.loc[tiingo_bert_df.label == 'POSITIVE','score'] = 1\r\n",
        "tiingo_bert_df = tiingo_bert_df.rename(columns={'tickers':'ticker'})\r\n",
        "tiingo_bert_df = tiingo_bert_df[['id', 'ticker', 'score']]\r\n",
        "tiingo_bert_df['source'] = 'tiingo'"
      ],
      "execution_count": null,
      "outputs": []
    },
    {
      "cell_type": "code",
      "metadata": {
        "colab": {
          "base_uri": "https://localhost:8080/",
          "height": 204
        },
        "id": "YoThZRT0tY5q",
        "outputId": "556d5e8a-559e-46d8-b587-d0bdf0af1a76"
      },
      "source": [
        "tiingo_bert_df.head()"
      ],
      "execution_count": null,
      "outputs": [
        {
          "output_type": "execute_result",
          "data": {
            "text/html": [
              "<div>\n",
              "<style scoped>\n",
              "    .dataframe tbody tr th:only-of-type {\n",
              "        vertical-align: middle;\n",
              "    }\n",
              "\n",
              "    .dataframe tbody tr th {\n",
              "        vertical-align: top;\n",
              "    }\n",
              "\n",
              "    .dataframe thead th {\n",
              "        text-align: right;\n",
              "    }\n",
              "</style>\n",
              "<table border=\"1\" class=\"dataframe\">\n",
              "  <thead>\n",
              "    <tr style=\"text-align: right;\">\n",
              "      <th></th>\n",
              "      <th>id</th>\n",
              "      <th>ticker</th>\n",
              "      <th>score</th>\n",
              "      <th>source</th>\n",
              "    </tr>\n",
              "  </thead>\n",
              "  <tbody>\n",
              "    <tr>\n",
              "      <th>0</th>\n",
              "      <td>26108102</td>\n",
              "      <td>msft</td>\n",
              "      <td>0.0</td>\n",
              "      <td>tiingo</td>\n",
              "    </tr>\n",
              "    <tr>\n",
              "      <th>1</th>\n",
              "      <td>26108212</td>\n",
              "      <td>amzn</td>\n",
              "      <td>1.0</td>\n",
              "      <td>tiingo</td>\n",
              "    </tr>\n",
              "    <tr>\n",
              "      <th>2</th>\n",
              "      <td>26108333</td>\n",
              "      <td>msi</td>\n",
              "      <td>0.0</td>\n",
              "      <td>tiingo</td>\n",
              "    </tr>\n",
              "    <tr>\n",
              "      <th>3</th>\n",
              "      <td>26107784</td>\n",
              "      <td>csco</td>\n",
              "      <td>1.0</td>\n",
              "      <td>tiingo</td>\n",
              "    </tr>\n",
              "    <tr>\n",
              "      <th>4</th>\n",
              "      <td>26107785</td>\n",
              "      <td>intu</td>\n",
              "      <td>0.0</td>\n",
              "      <td>tiingo</td>\n",
              "    </tr>\n",
              "  </tbody>\n",
              "</table>\n",
              "</div>"
            ],
            "text/plain": [
              "         id ticker  score  source\n",
              "0  26108102   msft    0.0  tiingo\n",
              "1  26108212   amzn    1.0  tiingo\n",
              "2  26108333    msi    0.0  tiingo\n",
              "3  26107784   csco    1.0  tiingo\n",
              "4  26107785   intu    0.0  tiingo"
            ]
          },
          "metadata": {
            "tags": []
          },
          "execution_count": 97
        }
      ]
    },
    {
      "cell_type": "code",
      "metadata": {
        "colab": {
          "base_uri": "https://localhost:8080/",
          "height": 204
        },
        "id": "USGplkwGuCq7",
        "outputId": "f6be678e-d7e9-46ea-be50-2c14e1a314e6"
      },
      "source": [
        "finnhub_bert_df['source'] = 'finnhub'\n",
        "finnhub_bert_df.head()"
      ],
      "execution_count": null,
      "outputs": [
        {
          "output_type": "execute_result",
          "data": {
            "text/html": [
              "<div>\n",
              "<style scoped>\n",
              "    .dataframe tbody tr th:only-of-type {\n",
              "        vertical-align: middle;\n",
              "    }\n",
              "\n",
              "    .dataframe tbody tr th {\n",
              "        vertical-align: top;\n",
              "    }\n",
              "\n",
              "    .dataframe thead th {\n",
              "        text-align: right;\n",
              "    }\n",
              "</style>\n",
              "<table border=\"1\" class=\"dataframe\">\n",
              "  <thead>\n",
              "    <tr style=\"text-align: right;\">\n",
              "      <th></th>\n",
              "      <th>id</th>\n",
              "      <th>ticker</th>\n",
              "      <th>score</th>\n",
              "      <th>source</th>\n",
              "    </tr>\n",
              "  </thead>\n",
              "  <tbody>\n",
              "    <tr>\n",
              "      <th>0</th>\n",
              "      <td>8039795</td>\n",
              "      <td>nyt</td>\n",
              "      <td>0.0</td>\n",
              "      <td>finnhub</td>\n",
              "    </tr>\n",
              "    <tr>\n",
              "      <th>1</th>\n",
              "      <td>8039707</td>\n",
              "      <td>hei</td>\n",
              "      <td>1.0</td>\n",
              "      <td>finnhub</td>\n",
              "    </tr>\n",
              "    <tr>\n",
              "      <th>2</th>\n",
              "      <td>9093075</td>\n",
              "      <td>msft</td>\n",
              "      <td>0.0</td>\n",
              "      <td>finnhub</td>\n",
              "    </tr>\n",
              "    <tr>\n",
              "      <th>3</th>\n",
              "      <td>61246959</td>\n",
              "      <td>bma</td>\n",
              "      <td>1.0</td>\n",
              "      <td>finnhub</td>\n",
              "    </tr>\n",
              "    <tr>\n",
              "      <th>4</th>\n",
              "      <td>15811106</td>\n",
              "      <td>f</td>\n",
              "      <td>0.0</td>\n",
              "      <td>finnhub</td>\n",
              "    </tr>\n",
              "  </tbody>\n",
              "</table>\n",
              "</div>"
            ],
            "text/plain": [
              "         id ticker  score   source\n",
              "0   8039795    nyt    0.0  finnhub\n",
              "1   8039707    hei    1.0  finnhub\n",
              "2   9093075   msft    0.0  finnhub\n",
              "3  61246959    bma    1.0  finnhub\n",
              "4  15811106      f    0.0  finnhub"
            ]
          },
          "metadata": {
            "tags": []
          },
          "execution_count": 98
        }
      ]
    },
    {
      "cell_type": "code",
      "metadata": {
        "id": "NTy8-Z-CxWti"
      },
      "source": [
        "MASTER_PATH = '/content/drive/MyDrive/abnormal-distribution-project-data/lean/master.p'\r\n",
        "with open(MASTER_PATH,'rb') as pkl_file:\r\n",
        "  news_df = pickle.load(pkl_file)"
      ],
      "execution_count": null,
      "outputs": []
    },
    {
      "cell_type": "code",
      "metadata": {
        "id": "llYo3Rp-xYLg",
        "colab": {
          "base_uri": "https://localhost:8080/",
          "height": 666
        },
        "outputId": "5e851233-0c78-4c70-c1e0-308c8fbf44cd"
      },
      "source": [
        "news_df.head()"
      ],
      "execution_count": null,
      "outputs": [
        {
          "output_type": "execute_result",
          "data": {
            "text/html": [
              "<div>\n",
              "<style scoped>\n",
              "    .dataframe tbody tr th:only-of-type {\n",
              "        vertical-align: middle;\n",
              "    }\n",
              "\n",
              "    .dataframe tbody tr th {\n",
              "        vertical-align: top;\n",
              "    }\n",
              "\n",
              "    .dataframe thead th {\n",
              "        text-align: right;\n",
              "    }\n",
              "</style>\n",
              "<table border=\"1\" class=\"dataframe\">\n",
              "  <thead>\n",
              "    <tr style=\"text-align: right;\">\n",
              "      <th></th>\n",
              "      <th>id</th>\n",
              "      <th>text</th>\n",
              "      <th>date</th>\n",
              "      <th>ticker</th>\n",
              "      <th>source</th>\n",
              "      <th>dict_score</th>\n",
              "      <th>_id</th>\n",
              "      <th>open_date</th>\n",
              "      <th>close_date</th>\n",
              "      <th>ret_close_2</th>\n",
              "      <th>ret_close_3</th>\n",
              "      <th>res_close_2</th>\n",
              "      <th>res_close_3</th>\n",
              "      <th>ret_open_2</th>\n",
              "      <th>ret_open_3</th>\n",
              "      <th>dict_ret_close</th>\n",
              "      <th>dict_ret_open</th>\n",
              "      <th>dict_res_close</th>\n",
              "    </tr>\n",
              "  </thead>\n",
              "  <tbody>\n",
              "    <tr>\n",
              "      <th>0</th>\n",
              "      <td>403021</td>\n",
              "      <td>Skyworks Solutions and SanDisk are also seen a...</td>\n",
              "      <td>2010-12-30 00:01:00-05:00</td>\n",
              "      <td>swks</td>\n",
              "      <td>tiingo</td>\n",
              "      <td>1.0</td>\n",
              "      <td>403021</td>\n",
              "      <td>2010-12-30</td>\n",
              "      <td>2010-12-30</td>\n",
              "      <td>1</td>\n",
              "      <td>2</td>\n",
              "      <td>0</td>\n",
              "      <td>0</td>\n",
              "      <td>0</td>\n",
              "      <td>1</td>\n",
              "      <td>2</td>\n",
              "      <td>0</td>\n",
              "      <td>0</td>\n",
              "    </tr>\n",
              "    <tr>\n",
              "      <th>1</th>\n",
              "      <td>403083</td>\n",
              "      <td>The insurer's results have been decent but the...</td>\n",
              "      <td>2010-12-30 00:01:00-05:00</td>\n",
              "      <td>all</td>\n",
              "      <td>tiingo</td>\n",
              "      <td>1.0</td>\n",
              "      <td>403083</td>\n",
              "      <td>2010-12-30</td>\n",
              "      <td>2010-12-30</td>\n",
              "      <td>0</td>\n",
              "      <td>0</td>\n",
              "      <td>1</td>\n",
              "      <td>1</td>\n",
              "      <td>0</td>\n",
              "      <td>1</td>\n",
              "      <td>0</td>\n",
              "      <td>0</td>\n",
              "      <td>2</td>\n",
              "    </tr>\n",
              "    <tr>\n",
              "      <th>2</th>\n",
              "      <td>403018</td>\n",
              "      <td>The chip maker is expanding into a variety of ...</td>\n",
              "      <td>2010-12-30 00:01:00-05:00</td>\n",
              "      <td>jbl</td>\n",
              "      <td>tiingo</td>\n",
              "      <td>0.0</td>\n",
              "      <td>403018</td>\n",
              "      <td>2010-12-30</td>\n",
              "      <td>2010-12-30</td>\n",
              "      <td>0</td>\n",
              "      <td>0</td>\n",
              "      <td>1</td>\n",
              "      <td>1</td>\n",
              "      <td>0</td>\n",
              "      <td>0</td>\n",
              "      <td>1</td>\n",
              "      <td>1</td>\n",
              "      <td>1</td>\n",
              "    </tr>\n",
              "    <tr>\n",
              "      <th>3</th>\n",
              "      <td>403017</td>\n",
              "      <td>The maker of radiation-based products will fet...</td>\n",
              "      <td>2010-12-30 00:01:00-05:00</td>\n",
              "      <td>var</td>\n",
              "      <td>tiingo</td>\n",
              "      <td>0.0</td>\n",
              "      <td>403017</td>\n",
              "      <td>2010-12-30</td>\n",
              "      <td>2010-12-30</td>\n",
              "      <td>0</td>\n",
              "      <td>0</td>\n",
              "      <td>0</td>\n",
              "      <td>1</td>\n",
              "      <td>0</td>\n",
              "      <td>1</td>\n",
              "      <td>1</td>\n",
              "      <td>1</td>\n",
              "      <td>1</td>\n",
              "    </tr>\n",
              "    <tr>\n",
              "      <th>4</th>\n",
              "      <td>20396901</td>\n",
              "      <td>Video chat on the iPhone 4 just got a lot more...</td>\n",
              "      <td>2010-12-30 02:39:28-05:00</td>\n",
              "      <td>t</td>\n",
              "      <td>tiingo</td>\n",
              "      <td>0.0</td>\n",
              "      <td>20396901</td>\n",
              "      <td>2010-12-30</td>\n",
              "      <td>2010-12-30</td>\n",
              "      <td>1</td>\n",
              "      <td>1</td>\n",
              "      <td>0</td>\n",
              "      <td>1</td>\n",
              "      <td>0</td>\n",
              "      <td>1</td>\n",
              "      <td>1</td>\n",
              "      <td>1</td>\n",
              "      <td>1</td>\n",
              "    </tr>\n",
              "  </tbody>\n",
              "</table>\n",
              "</div>"
            ],
            "text/plain": [
              "         id  ... dict_res_close\n",
              "0    403021  ...              0\n",
              "1    403083  ...              2\n",
              "2    403018  ...              1\n",
              "3    403017  ...              1\n",
              "4  20396901  ...              1\n",
              "\n",
              "[5 rows x 18 columns]"
            ]
          },
          "metadata": {
            "tags": []
          },
          "execution_count": 106
        }
      ]
    },
    {
      "cell_type": "code",
      "metadata": {
        "id": "hRftiBUNbjaU"
      },
      "source": [
        "scores = news_df[['_id','id','date','ticker','source','open_date','close_date','dict_score']]"
      ],
      "execution_count": null,
      "outputs": []
    },
    {
      "cell_type": "code",
      "metadata": {
        "colab": {
          "base_uri": "https://localhost:8080/"
        },
        "id": "qfANN1hBcs0J",
        "outputId": "1449cd23-12e1-462a-859e-c0ce80451007"
      },
      "source": [
        "scores['bert_baseline'] = np.nan\n",
        "scores['finbert_baseline'] = np.nan\n"
      ],
      "execution_count": null,
      "outputs": [
        {
          "output_type": "stream",
          "text": [
            "/usr/local/lib/python3.6/dist-packages/ipykernel_launcher.py:1: SettingWithCopyWarning: \n",
            "A value is trying to be set on a copy of a slice from a DataFrame.\n",
            "Try using .loc[row_indexer,col_indexer] = value instead\n",
            "\n",
            "See the caveats in the documentation: https://pandas.pydata.org/pandas-docs/stable/user_guide/indexing.html#returning-a-view-versus-a-copy\n",
            "  \"\"\"Entry point for launching an IPython kernel.\n",
            "/usr/local/lib/python3.6/dist-packages/ipykernel_launcher.py:2: SettingWithCopyWarning: \n",
            "A value is trying to be set on a copy of a slice from a DataFrame.\n",
            "Try using .loc[row_indexer,col_indexer] = value instead\n",
            "\n",
            "See the caveats in the documentation: https://pandas.pydata.org/pandas-docs/stable/user_guide/indexing.html#returning-a-view-versus-a-copy\n",
            "  \n"
          ],
          "name": "stderr"
        }
      ]
    },
    {
      "cell_type": "code",
      "metadata": {
        "colab": {
          "base_uri": "https://localhost:8080/"
        },
        "id": "XBZUZ8MFc2Nh",
        "outputId": "ac122119-1ae6-4b82-98e8-8ef186f1908c"
      },
      "source": [
        "mer = scores.reset_index().merge(finnhub_bert_df, on=['id','source'])[['index','score']].set_index('index')\n",
        "scores.loc[mer.index,'bert_baseline'] = mer.score\n",
        "\n",
        "mer = scores.reset_index().merge(tiingo_bert_df, on=['id','source'])[['index','score']].set_index('index')\n",
        "scores.loc[mer.index,'bert_baseline'] = mer.score\n",
        "\n",
        "mer = scores.reset_index().merge(finnhub_finbert_df, on=['id','source'])[['index','score']].set_index('index')\n",
        "scores.loc[mer.index,'finbert_baseline'] = mer.score\n",
        "\n",
        "mer = scores.reset_index().merge(tiingo_finbert_df, on=['id','source'])[['index','score']].set_index('index')\n",
        "scores.loc[mer.index,'finbert_baseline'] = mer.score"
      ],
      "execution_count": null,
      "outputs": [
        {
          "output_type": "stream",
          "text": [
            "/usr/local/lib/python3.6/dist-packages/pandas/core/indexing.py:1743: SettingWithCopyWarning: \n",
            "A value is trying to be set on a copy of a slice from a DataFrame.\n",
            "Try using .loc[row_indexer,col_indexer] = value instead\n",
            "\n",
            "See the caveats in the documentation: https://pandas.pydata.org/pandas-docs/stable/user_guide/indexing.html#returning-a-view-versus-a-copy\n",
            "  isetter(ilocs[0], value)\n"
          ],
          "name": "stderr"
        }
      ]
    },
    {
      "cell_type": "code",
      "metadata": {
        "id": "Wrm9Mj0cgSuQ"
      },
      "source": [
        "scores.to_csv('/content/drive/MyDrive/abnormal-distribution-project-data/lean/scores_master.csv', index=False)"
      ],
      "execution_count": null,
      "outputs": []
    }
  ]
}