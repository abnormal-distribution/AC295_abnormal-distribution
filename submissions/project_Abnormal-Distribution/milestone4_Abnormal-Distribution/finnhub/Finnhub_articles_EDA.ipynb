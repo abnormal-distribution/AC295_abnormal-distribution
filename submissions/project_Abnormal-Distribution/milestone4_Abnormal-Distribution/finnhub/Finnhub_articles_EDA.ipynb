{
 "cells": [
  {
   "cell_type": "markdown",
   "metadata": {
    "id": "G7-aTzi2toS0"
   },
   "source": [
    "# Exploratory Data Analysis of News Articles from Finnhub"
   ]
  },
  {
   "cell_type": "markdown",
   "metadata": {
    "id": "tMd-8LEQtpPs"
   },
   "source": [
    "Finnhub offers 1 year of news article summaries for each company.  We have extracted that for every company in the S&P 500 index, using Finnhub's web API.   You can cover longer periods with a paid subsciption.  Several other providers have similar offerings - so far we have not ascertained much difference in terms of the content between one of these services and another."
   ]
  },
  {
   "cell_type": "markdown",
   "metadata": {
    "id": "71QKUvuxvIJm"
   },
   "source": [
    "### Some challenges associated with this data\n",
    "\n",
    "These are summaries of the news articles.  Sometimes they just repeat the headline, sometimes they are blank.  Only a small portion are of substantial length.\n",
    "\n",
    "Some articles are repeated (perhaps the same article was sent in from multiple news feeds).\n",
    "\n",
    "Many articles mention multiple companies and the company we're covering would be just one of these.  They appear to be getting tagged to the company by the provider based on just the appearance of the company name in the article text.\n",
    "\n",
    "Many of the articles' content would not really contain relevant sentiment information that should be expected to be predictive about the company - e.g. just mundane accounting details.\n",
    "\n"
   ]
  },
  {
   "cell_type": "code",
   "execution_count": 171,
   "metadata": {
    "id": "j_q4RbOEtrTE"
   },
   "outputs": [],
   "source": [
    "import pandas as pd\n",
    "import numpy as np\n",
    "from datetime import datetime\n",
    "from pytz import timezone\n",
    "import pytz"
   ]
  },
  {
   "cell_type": "code",
   "execution_count": 172,
   "metadata": {
    "colab": {
     "base_uri": "https://localhost:8080/"
    },
    "id": "ifPmFE_Wj0Jb",
    "outputId": "4a8bfe57-ee4b-43d3-f952-2b97cf5c8fe7"
   },
   "outputs": [
    {
     "name": "stdout",
     "output_type": "stream",
     "text": [
      "Drive already mounted at /content/drive; to attempt to forcibly remount, call drive.mount(\"/content/drive\", force_remount=True).\n"
     ]
    }
   ],
   "source": [
    "from google.colab import drive\n",
    "\n",
    "drive.mount('/content/drive', force_remount=False)"
   ]
  },
  {
   "cell_type": "code",
   "execution_count": 173,
   "metadata": {
    "id": "zeWJorqvkJPS"
   },
   "outputs": [],
   "source": [
    "sp500 = pd.read_csv(\n",
    "    '/content/drive/MyDrive/abnormal-distribution-project-data/cik_data/sp-components.csv', \n",
    "    dtype = 'str', \n",
    "    index_col='ticker', \n",
    "    usecols=['ticker', 'cik']\n",
    ")"
   ]
  },
  {
   "cell_type": "code",
   "execution_count": 174,
   "metadata": {
    "id": "8wdpM6qzDLyr"
   },
   "outputs": [],
   "source": [
    "company_frame = pd.read_pickle(\n",
    "        '/content/drive/MyDrive/abnormal-distribution-project-data/news/' +\n",
    "        'articles_' + \n",
    "        sp500.index[0] + \n",
    "        '.pkl')"
   ]
  },
  {
   "cell_type": "markdown",
   "metadata": {
    "id": "MLU5zpTdDU6a"
   },
   "source": [
    "The provided columns are category, datetime, headline, id, image, related, source, summary, url.  We have added summary_length (the number of characters in the summary) as part of our download program."
   ]
  },
  {
   "cell_type": "code",
   "execution_count": 175,
   "metadata": {
    "colab": {
     "base_uri": "https://localhost:8080/",
     "height": 289
    },
    "id": "xbFdoGZsDSDi",
    "outputId": "d4e76ddf-a08f-4297-b86e-2eab28bcc5cc"
   },
   "outputs": [
    {
     "data": {
      "text/html": [
       "<div>\n",
       "<style scoped>\n",
       "    .dataframe tbody tr th:only-of-type {\n",
       "        vertical-align: middle;\n",
       "    }\n",
       "\n",
       "    .dataframe tbody tr th {\n",
       "        vertical-align: top;\n",
       "    }\n",
       "\n",
       "    .dataframe thead th {\n",
       "        text-align: right;\n",
       "    }\n",
       "</style>\n",
       "<table border=\"1\" class=\"dataframe\">\n",
       "  <thead>\n",
       "    <tr style=\"text-align: right;\">\n",
       "      <th></th>\n",
       "      <th>category</th>\n",
       "      <th>datetime</th>\n",
       "      <th>headline</th>\n",
       "      <th>id</th>\n",
       "      <th>image</th>\n",
       "      <th>related</th>\n",
       "      <th>source</th>\n",
       "      <th>summary</th>\n",
       "      <th>url</th>\n",
       "      <th>summary_length</th>\n",
       "    </tr>\n",
       "  </thead>\n",
       "  <tbody>\n",
       "    <tr>\n",
       "      <th>0</th>\n",
       "      <td></td>\n",
       "      <td>1575331200</td>\n",
       "      <td>Why's It Called That? The Story Behind LUV, FU...</td>\n",
       "      <td>31893065</td>\n",
       "      <td></td>\n",
       "      <td>MMM</td>\n",
       "      <td>Tyree Gorges</td>\n",
       "      <td></td>\n",
       "      <td>https://www.benzinga.com/general/education/19/...</td>\n",
       "      <td>0</td>\n",
       "    </tr>\n",
       "    <tr>\n",
       "      <th>1</th>\n",
       "      <td></td>\n",
       "      <td>1575417600</td>\n",
       "      <td>Deutsche Bank Maintains Hold on 3M, Raises Pri...</td>\n",
       "      <td>32425784</td>\n",
       "      <td></td>\n",
       "      <td>MMM</td>\n",
       "      <td>Vick Meyer</td>\n",
       "      <td></td>\n",
       "      <td>https://www.benzinga.com/news/19/12/14929087/d...</td>\n",
       "      <td>0</td>\n",
       "    </tr>\n",
       "    <tr>\n",
       "      <th>2</th>\n",
       "      <td></td>\n",
       "      <td>1575331200</td>\n",
       "      <td>Why's It Called That? The Story Behind LUV, FU...</td>\n",
       "      <td>31893065</td>\n",
       "      <td></td>\n",
       "      <td>MMM</td>\n",
       "      <td>Tyree Gorges</td>\n",
       "      <td></td>\n",
       "      <td>https://www.benzinga.com/general/education/19/...</td>\n",
       "      <td>0</td>\n",
       "    </tr>\n",
       "    <tr>\n",
       "      <th>3</th>\n",
       "      <td></td>\n",
       "      <td>1575504000</td>\n",
       "      <td>3M Chair, CEO, Currently Speaking At Credit Su...</td>\n",
       "      <td>32425782</td>\n",
       "      <td></td>\n",
       "      <td>MMM</td>\n",
       "      <td>Benzinga Newsdesk</td>\n",
       "      <td></td>\n",
       "      <td>https://www.benzinga.com/news/19/12/14938429/3...</td>\n",
       "      <td>0</td>\n",
       "    </tr>\n",
       "    <tr>\n",
       "      <th>4</th>\n",
       "      <td></td>\n",
       "      <td>1575417600</td>\n",
       "      <td>Deutsche Bank Maintains Hold on 3M, Raises Pri...</td>\n",
       "      <td>32425784</td>\n",
       "      <td></td>\n",
       "      <td>MMM</td>\n",
       "      <td>Vick Meyer</td>\n",
       "      <td></td>\n",
       "      <td>https://www.benzinga.com/news/19/12/14929087/d...</td>\n",
       "      <td>0</td>\n",
       "    </tr>\n",
       "  </tbody>\n",
       "</table>\n",
       "</div>"
      ],
      "text/plain": [
       "  category  ... summary_length\n",
       "0           ...              0\n",
       "1           ...              0\n",
       "2           ...              0\n",
       "3           ...              0\n",
       "4           ...              0\n",
       "\n",
       "[5 rows x 10 columns]"
      ]
     },
     "execution_count": 175,
     "metadata": {
      "tags": []
     },
     "output_type": "execute_result"
    }
   ],
   "source": [
    "company_frame.head()"
   ]
  },
  {
   "cell_type": "markdown",
   "metadata": {
    "id": "Kmvq__i8NAP1"
   },
   "source": [
    "Per the Finnhub documentation, the datetime field is a Unix timestamp, which represents time in Greenwich Mean Time.  We can convert these to New York time for linking to the stock price information.  Some of the these turn out to not have values populated for hours, minutes and seconds, so we skip timezone conversions for those cases."
   ]
  },
  {
   "cell_type": "code",
   "execution_count": 176,
   "metadata": {
    "colab": {
     "base_uri": "https://localhost:8080/",
     "height": 669
    },
    "id": "-Rws3MbbTqPm",
    "outputId": "5d4df6ef-d088-4b36-f825-d3f606ca8a04"
   },
   "outputs": [
    {
     "data": {
      "text/html": [
       "<div>\n",
       "<style scoped>\n",
       "    .dataframe tbody tr th:only-of-type {\n",
       "        vertical-align: middle;\n",
       "    }\n",
       "\n",
       "    .dataframe tbody tr th {\n",
       "        vertical-align: top;\n",
       "    }\n",
       "\n",
       "    .dataframe thead th {\n",
       "        text-align: right;\n",
       "    }\n",
       "</style>\n",
       "<table border=\"1\" class=\"dataframe\">\n",
       "  <thead>\n",
       "    <tr style=\"text-align: right;\">\n",
       "      <th></th>\n",
       "      <th>datetime</th>\n",
       "      <th>converted_time</th>\n",
       "    </tr>\n",
       "  </thead>\n",
       "  <tbody>\n",
       "    <tr>\n",
       "      <th>0</th>\n",
       "      <td>1575331200</td>\n",
       "      <td>2019-12-03 00:00:00+00:00</td>\n",
       "    </tr>\n",
       "    <tr>\n",
       "      <th>1</th>\n",
       "      <td>1575417600</td>\n",
       "      <td>2019-12-04 00:00:00+00:00</td>\n",
       "    </tr>\n",
       "    <tr>\n",
       "      <th>2</th>\n",
       "      <td>1575331200</td>\n",
       "      <td>2019-12-03 00:00:00+00:00</td>\n",
       "    </tr>\n",
       "    <tr>\n",
       "      <th>3</th>\n",
       "      <td>1575504000</td>\n",
       "      <td>2019-12-05 00:00:00+00:00</td>\n",
       "    </tr>\n",
       "    <tr>\n",
       "      <th>4</th>\n",
       "      <td>1575417600</td>\n",
       "      <td>2019-12-04 00:00:00+00:00</td>\n",
       "    </tr>\n",
       "    <tr>\n",
       "      <th>5</th>\n",
       "      <td>1575590400</td>\n",
       "      <td>2019-12-06 00:00:00+00:00</td>\n",
       "    </tr>\n",
       "    <tr>\n",
       "      <th>6</th>\n",
       "      <td>1575590400</td>\n",
       "      <td>2019-12-06 00:00:00+00:00</td>\n",
       "    </tr>\n",
       "    <tr>\n",
       "      <th>7</th>\n",
       "      <td>1575504000</td>\n",
       "      <td>2019-12-05 00:00:00+00:00</td>\n",
       "    </tr>\n",
       "    <tr>\n",
       "      <th>8</th>\n",
       "      <td>1575590400</td>\n",
       "      <td>2019-12-06 00:00:00+00:00</td>\n",
       "    </tr>\n",
       "    <tr>\n",
       "      <th>9</th>\n",
       "      <td>1575590400</td>\n",
       "      <td>2019-12-06 00:00:00+00:00</td>\n",
       "    </tr>\n",
       "    <tr>\n",
       "      <th>10</th>\n",
       "      <td>1575849600</td>\n",
       "      <td>2019-12-09 00:00:00+00:00</td>\n",
       "    </tr>\n",
       "    <tr>\n",
       "      <th>11</th>\n",
       "      <td>1575849600</td>\n",
       "      <td>2019-12-09 00:00:00+00:00</td>\n",
       "    </tr>\n",
       "    <tr>\n",
       "      <th>12</th>\n",
       "      <td>1575936000</td>\n",
       "      <td>2019-12-10 00:00:00+00:00</td>\n",
       "    </tr>\n",
       "    <tr>\n",
       "      <th>13</th>\n",
       "      <td>1575910144</td>\n",
       "      <td>2019-12-09 11:49:04-05:00</td>\n",
       "    </tr>\n",
       "    <tr>\n",
       "      <th>14</th>\n",
       "      <td>1575902520</td>\n",
       "      <td>2019-12-09 09:42:00-05:00</td>\n",
       "    </tr>\n",
       "    <tr>\n",
       "      <th>15</th>\n",
       "      <td>1575849600</td>\n",
       "      <td>2019-12-09 00:00:00+00:00</td>\n",
       "    </tr>\n",
       "    <tr>\n",
       "      <th>16</th>\n",
       "      <td>1575849600</td>\n",
       "      <td>2019-12-09 00:00:00+00:00</td>\n",
       "    </tr>\n",
       "    <tr>\n",
       "      <th>17</th>\n",
       "      <td>1575936000</td>\n",
       "      <td>2019-12-10 00:00:00+00:00</td>\n",
       "    </tr>\n",
       "    <tr>\n",
       "      <th>18</th>\n",
       "      <td>1576108800</td>\n",
       "      <td>2019-12-12 00:00:00+00:00</td>\n",
       "    </tr>\n",
       "    <tr>\n",
       "      <th>19</th>\n",
       "      <td>1576026054</td>\n",
       "      <td>2019-12-10 20:00:54-05:00</td>\n",
       "    </tr>\n",
       "  </tbody>\n",
       "</table>\n",
       "</div>"
      ],
      "text/plain": [
       "      datetime             converted_time\n",
       "0   1575331200  2019-12-03 00:00:00+00:00\n",
       "1   1575417600  2019-12-04 00:00:00+00:00\n",
       "2   1575331200  2019-12-03 00:00:00+00:00\n",
       "3   1575504000  2019-12-05 00:00:00+00:00\n",
       "4   1575417600  2019-12-04 00:00:00+00:00\n",
       "5   1575590400  2019-12-06 00:00:00+00:00\n",
       "6   1575590400  2019-12-06 00:00:00+00:00\n",
       "7   1575504000  2019-12-05 00:00:00+00:00\n",
       "8   1575590400  2019-12-06 00:00:00+00:00\n",
       "9   1575590400  2019-12-06 00:00:00+00:00\n",
       "10  1575849600  2019-12-09 00:00:00+00:00\n",
       "11  1575849600  2019-12-09 00:00:00+00:00\n",
       "12  1575936000  2019-12-10 00:00:00+00:00\n",
       "13  1575910144  2019-12-09 11:49:04-05:00\n",
       "14  1575902520  2019-12-09 09:42:00-05:00\n",
       "15  1575849600  2019-12-09 00:00:00+00:00\n",
       "16  1575849600  2019-12-09 00:00:00+00:00\n",
       "17  1575936000  2019-12-10 00:00:00+00:00\n",
       "18  1576108800  2019-12-12 00:00:00+00:00\n",
       "19  1576026054  2019-12-10 20:00:54-05:00"
      ]
     },
     "execution_count": 176,
     "metadata": {
      "tags": []
     },
     "output_type": "execute_result"
    }
   ],
   "source": [
    "def convert_time(unix_time):\n",
    "    time1 = pytz.timezone('Etc/UTC').localize(pd.to_datetime(unix_time,unit='s'))\n",
    "    if max(time1.time().hour, time1.time().minute, time1.time().second) == 0: return time1\n",
    "    time2 = time1.astimezone(pytz.timezone('America/New_York'))\n",
    "    return time2\n",
    "\n",
    "company_frame['converted_time'] = company_frame['datetime'].apply(convert_time)\n",
    "\n",
    "company_frame[['datetime','converted_time']].head(20)"
   ]
  },
  {
   "cell_type": "markdown",
   "metadata": {
    "id": "GPXLF08kkijy"
   },
   "source": [
    "### Get number of articles for each company"
   ]
  },
  {
   "cell_type": "code",
   "execution_count": 177,
   "metadata": {
    "id": "U8PBQQ0qkQSR"
   },
   "outputs": [],
   "source": [
    "num_articles = np.zeros(len(sp500))\n",
    "\n",
    "for i in range(len(sp500)):\n",
    "    idx = sp500.index[i]\n",
    "    company_frame = pd.read_pickle(\n",
    "        '/content/drive/MyDrive/abnormal-distribution-project-data/news/' +\n",
    "        'articles_' + \n",
    "        idx + \n",
    "        '.pkl')\n",
    "    num_articles[i] = len(company_frame)\n",
    "\n",
    "sp500['num_articles'] = num_articles\n"
   ]
  },
  {
   "cell_type": "code",
   "execution_count": 178,
   "metadata": {
    "id": "Ur7GbjIWnD0K"
   },
   "outputs": [],
   "source": [
    "sp500 = sp500.sort_values(by=['num_articles'])"
   ]
  },
  {
   "cell_type": "markdown",
   "metadata": {
    "id": "S9Z5rOxGqtjD"
   },
   "source": [
    "### Companies with the fewest articles"
   ]
  },
  {
   "cell_type": "code",
   "execution_count": 179,
   "metadata": {
    "colab": {
     "base_uri": "https://localhost:8080/",
     "height": 700
    },
    "id": "KqGgNnAxqaPE",
    "outputId": "e980d00d-4b4a-4bf2-f20a-f1fee7d421d4"
   },
   "outputs": [
    {
     "data": {
      "text/html": [
       "<div>\n",
       "<style scoped>\n",
       "    .dataframe tbody tr th:only-of-type {\n",
       "        vertical-align: middle;\n",
       "    }\n",
       "\n",
       "    .dataframe tbody tr th {\n",
       "        vertical-align: top;\n",
       "    }\n",
       "\n",
       "    .dataframe thead th {\n",
       "        text-align: right;\n",
       "    }\n",
       "</style>\n",
       "<table border=\"1\" class=\"dataframe\">\n",
       "  <thead>\n",
       "    <tr style=\"text-align: right;\">\n",
       "      <th></th>\n",
       "      <th>cik</th>\n",
       "      <th>num_articles</th>\n",
       "    </tr>\n",
       "    <tr>\n",
       "      <th>ticker</th>\n",
       "      <th></th>\n",
       "      <th></th>\n",
       "    </tr>\n",
       "  </thead>\n",
       "  <tbody>\n",
       "    <tr>\n",
       "      <th>VTRS</th>\n",
       "      <td>1792044</td>\n",
       "      <td>5.0</td>\n",
       "    </tr>\n",
       "    <tr>\n",
       "      <th>VNT</th>\n",
       "      <td>1786842</td>\n",
       "      <td>12.0</td>\n",
       "    </tr>\n",
       "    <tr>\n",
       "      <th>LUMN</th>\n",
       "      <td>18926</td>\n",
       "      <td>33.0</td>\n",
       "    </tr>\n",
       "    <tr>\n",
       "      <th>OTIS</th>\n",
       "      <td>1781335</td>\n",
       "      <td>181.0</td>\n",
       "    </tr>\n",
       "    <tr>\n",
       "      <th>AMCR</th>\n",
       "      <td>1748790</td>\n",
       "      <td>195.0</td>\n",
       "    </tr>\n",
       "    <tr>\n",
       "      <th>PEAK</th>\n",
       "      <td>765880</td>\n",
       "      <td>197.0</td>\n",
       "    </tr>\n",
       "    <tr>\n",
       "      <th>HWM</th>\n",
       "      <td>4281</td>\n",
       "      <td>282.0</td>\n",
       "    </tr>\n",
       "    <tr>\n",
       "      <th>NWS</th>\n",
       "      <td>1564708</td>\n",
       "      <td>284.0</td>\n",
       "    </tr>\n",
       "    <tr>\n",
       "      <th>J</th>\n",
       "      <td>52988</td>\n",
       "      <td>288.0</td>\n",
       "    </tr>\n",
       "    <tr>\n",
       "      <th>CARR</th>\n",
       "      <td>1783180</td>\n",
       "      <td>305.0</td>\n",
       "    </tr>\n",
       "    <tr>\n",
       "      <th>GL</th>\n",
       "      <td>320335</td>\n",
       "      <td>315.0</td>\n",
       "    </tr>\n",
       "    <tr>\n",
       "      <th>TT</th>\n",
       "      <td>1466258</td>\n",
       "      <td>323.0</td>\n",
       "    </tr>\n",
       "    <tr>\n",
       "      <th>DISCK</th>\n",
       "      <td>1437107</td>\n",
       "      <td>358.0</td>\n",
       "    </tr>\n",
       "    <tr>\n",
       "      <th>RE</th>\n",
       "      <td>1095073</td>\n",
       "      <td>375.0</td>\n",
       "    </tr>\n",
       "    <tr>\n",
       "      <th>APTV</th>\n",
       "      <td>1521332</td>\n",
       "      <td>381.0</td>\n",
       "    </tr>\n",
       "    <tr>\n",
       "      <th>LKQ</th>\n",
       "      <td>1065696</td>\n",
       "      <td>383.0</td>\n",
       "    </tr>\n",
       "    <tr>\n",
       "      <th>CTVA</th>\n",
       "      <td>1755672</td>\n",
       "      <td>385.0</td>\n",
       "    </tr>\n",
       "    <tr>\n",
       "      <th>STE</th>\n",
       "      <td>1757898</td>\n",
       "      <td>401.0</td>\n",
       "    </tr>\n",
       "    <tr>\n",
       "      <th>PNW</th>\n",
       "      <td>764622</td>\n",
       "      <td>401.0</td>\n",
       "    </tr>\n",
       "    <tr>\n",
       "      <th>LHX</th>\n",
       "      <td>202058</td>\n",
       "      <td>402.0</td>\n",
       "    </tr>\n",
       "  </tbody>\n",
       "</table>\n",
       "</div>"
      ],
      "text/plain": [
       "            cik  num_articles\n",
       "ticker                       \n",
       "VTRS    1792044           5.0\n",
       "VNT     1786842          12.0\n",
       "LUMN      18926          33.0\n",
       "OTIS    1781335         181.0\n",
       "AMCR    1748790         195.0\n",
       "PEAK     765880         197.0\n",
       "HWM        4281         282.0\n",
       "NWS     1564708         284.0\n",
       "J         52988         288.0\n",
       "CARR    1783180         305.0\n",
       "GL       320335         315.0\n",
       "TT      1466258         323.0\n",
       "DISCK   1437107         358.0\n",
       "RE      1095073         375.0\n",
       "APTV    1521332         381.0\n",
       "LKQ     1065696         383.0\n",
       "CTVA    1755672         385.0\n",
       "STE     1757898         401.0\n",
       "PNW      764622         401.0\n",
       "LHX      202058         402.0"
      ]
     },
     "execution_count": 179,
     "metadata": {
      "tags": []
     },
     "output_type": "execute_result"
    }
   ],
   "source": [
    "sp500.head(20)"
   ]
  },
  {
   "cell_type": "markdown",
   "metadata": {
    "id": "CvnXzTIeq1Mb"
   },
   "source": [
    "### Companies with the most articles"
   ]
  },
  {
   "cell_type": "code",
   "execution_count": 180,
   "metadata": {
    "colab": {
     "base_uri": "https://localhost:8080/",
     "height": 700
    },
    "id": "06RvM29Kqyep",
    "outputId": "91633666-12cf-40b3-a6ea-1b591218e84d"
   },
   "outputs": [
    {
     "data": {
      "text/html": [
       "<div>\n",
       "<style scoped>\n",
       "    .dataframe tbody tr th:only-of-type {\n",
       "        vertical-align: middle;\n",
       "    }\n",
       "\n",
       "    .dataframe tbody tr th {\n",
       "        vertical-align: top;\n",
       "    }\n",
       "\n",
       "    .dataframe thead th {\n",
       "        text-align: right;\n",
       "    }\n",
       "</style>\n",
       "<table border=\"1\" class=\"dataframe\">\n",
       "  <thead>\n",
       "    <tr style=\"text-align: right;\">\n",
       "      <th></th>\n",
       "      <th>cik</th>\n",
       "      <th>num_articles</th>\n",
       "    </tr>\n",
       "    <tr>\n",
       "      <th>ticker</th>\n",
       "      <th></th>\n",
       "      <th></th>\n",
       "    </tr>\n",
       "  </thead>\n",
       "  <tbody>\n",
       "    <tr>\n",
       "      <th>F</th>\n",
       "      <td>37996</td>\n",
       "      <td>12838.0</td>\n",
       "    </tr>\n",
       "    <tr>\n",
       "      <th>INTC</th>\n",
       "      <td>50863</td>\n",
       "      <td>12975.0</td>\n",
       "    </tr>\n",
       "    <tr>\n",
       "      <th>WMT</th>\n",
       "      <td>104169</td>\n",
       "      <td>13219.0</td>\n",
       "    </tr>\n",
       "    <tr>\n",
       "      <th>STT</th>\n",
       "      <td>93751</td>\n",
       "      <td>16226.0</td>\n",
       "    </tr>\n",
       "    <tr>\n",
       "      <th>BA</th>\n",
       "      <td>12927</td>\n",
       "      <td>16574.0</td>\n",
       "    </tr>\n",
       "    <tr>\n",
       "      <th>BAC</th>\n",
       "      <td>70858</td>\n",
       "      <td>20043.0</td>\n",
       "    </tr>\n",
       "    <tr>\n",
       "      <th>JPM</th>\n",
       "      <td>19617</td>\n",
       "      <td>20121.0</td>\n",
       "    </tr>\n",
       "    <tr>\n",
       "      <th>WFC</th>\n",
       "      <td>72971</td>\n",
       "      <td>20164.0</td>\n",
       "    </tr>\n",
       "    <tr>\n",
       "      <th>DIS</th>\n",
       "      <td>1744489</td>\n",
       "      <td>21844.0</td>\n",
       "    </tr>\n",
       "    <tr>\n",
       "      <th>GS</th>\n",
       "      <td>886982</td>\n",
       "      <td>22231.0</td>\n",
       "    </tr>\n",
       "    <tr>\n",
       "      <th>C</th>\n",
       "      <td>831001</td>\n",
       "      <td>22672.0</td>\n",
       "    </tr>\n",
       "    <tr>\n",
       "      <th>MS</th>\n",
       "      <td>895421</td>\n",
       "      <td>22994.0</td>\n",
       "    </tr>\n",
       "    <tr>\n",
       "      <th>NFLX</th>\n",
       "      <td>1065280</td>\n",
       "      <td>28341.0</td>\n",
       "    </tr>\n",
       "    <tr>\n",
       "      <th>SPGI</th>\n",
       "      <td>64040</td>\n",
       "      <td>31828.0</td>\n",
       "    </tr>\n",
       "    <tr>\n",
       "      <th>MSFT</th>\n",
       "      <td>789019</td>\n",
       "      <td>33555.0</td>\n",
       "    </tr>\n",
       "    <tr>\n",
       "      <th>TWTR</th>\n",
       "      <td>1418091</td>\n",
       "      <td>36686.0</td>\n",
       "    </tr>\n",
       "    <tr>\n",
       "      <th>AAPL</th>\n",
       "      <td>320193</td>\n",
       "      <td>38361.0</td>\n",
       "    </tr>\n",
       "    <tr>\n",
       "      <th>AMZN</th>\n",
       "      <td>1018724</td>\n",
       "      <td>38548.0</td>\n",
       "    </tr>\n",
       "    <tr>\n",
       "      <th>GOOGL</th>\n",
       "      <td>1652044</td>\n",
       "      <td>42885.0</td>\n",
       "    </tr>\n",
       "    <tr>\n",
       "      <th>FB</th>\n",
       "      <td>1326801</td>\n",
       "      <td>49015.0</td>\n",
       "    </tr>\n",
       "  </tbody>\n",
       "</table>\n",
       "</div>"
      ],
      "text/plain": [
       "            cik  num_articles\n",
       "ticker                       \n",
       "F         37996       12838.0\n",
       "INTC      50863       12975.0\n",
       "WMT      104169       13219.0\n",
       "STT       93751       16226.0\n",
       "BA        12927       16574.0\n",
       "BAC       70858       20043.0\n",
       "JPM       19617       20121.0\n",
       "WFC       72971       20164.0\n",
       "DIS     1744489       21844.0\n",
       "GS       886982       22231.0\n",
       "C        831001       22672.0\n",
       "MS       895421       22994.0\n",
       "NFLX    1065280       28341.0\n",
       "SPGI      64040       31828.0\n",
       "MSFT     789019       33555.0\n",
       "TWTR    1418091       36686.0\n",
       "AAPL     320193       38361.0\n",
       "AMZN    1018724       38548.0\n",
       "GOOGL   1652044       42885.0\n",
       "FB      1326801       49015.0"
      ]
     },
     "execution_count": 180,
     "metadata": {
      "tags": []
     },
     "output_type": "execute_result"
    }
   ],
   "source": [
    "sp500.tail(20)"
   ]
  },
  {
   "cell_type": "markdown",
   "metadata": {
    "id": "l4k9zKqJqoMb"
   },
   "source": [
    "### For illustrative examples, we'll take the companies ranked, 50th, 150th, 250th, 350th and 450th for most articles"
   ]
  },
  {
   "cell_type": "code",
   "execution_count": 181,
   "metadata": {
    "colab": {
     "base_uri": "https://localhost:8080/"
    },
    "id": "_lnnBUj3qftj",
    "outputId": "e95231d6-615f-4a7f-9651-56ff26cbfc39"
   },
   "outputs": [
    {
     "name": "stdout",
     "output_type": "stream",
     "text": [
      "cik             1013871\n",
      "num_articles        517\n",
      "Name: NRG, dtype: object\n",
      "cik             822416\n",
      "num_articles       789\n",
      "Name: PHM, dtype: object\n",
      "cik             1136893\n",
      "num_articles       1137\n",
      "Name: FIS, dtype: object\n",
      "cik             36104\n",
      "num_articles     1724\n",
      "Name: USB, dtype: object\n",
      "cik             804328\n",
      "num_articles      4580\n",
      "Name: QCOM, dtype: object\n"
     ]
    }
   ],
   "source": [
    "print(sp500.iloc[50])\n",
    "print(sp500.iloc[150])\n",
    "print(sp500.iloc[250])\n",
    "print(sp500.iloc[350])\n",
    "print(sp500.iloc[450])"
   ]
  },
  {
   "cell_type": "markdown",
   "metadata": {
    "id": "al5XtyFnqnar"
   },
   "source": [
    "The companies are NRG, PHM, FIS, USB, QCOM"
   ]
  },
  {
   "cell_type": "markdown",
   "metadata": {
    "id": "kD-MFz8qrkt8"
   },
   "source": [
    "### NRG"
   ]
  },
  {
   "cell_type": "code",
   "execution_count": 182,
   "metadata": {
    "colab": {
     "base_uri": "https://localhost:8080/"
    },
    "id": "uYma5g4drjW1",
    "outputId": "8c4ab7b2-85ef-479c-c42b-ea1d30cb4e19"
   },
   "outputs": [
    {
     "name": "stdout",
     "output_type": "stream",
     "text": [
      "Number of articles including blanks: 517\n",
      "Number of articles excluding blanks: 423\n"
     ]
    }
   ],
   "source": [
    "company_frame = pd.read_pickle(\n",
    "        '/content/drive/MyDrive/abnormal-distribution-project-data/news/' +\n",
    "        'articles_' + \n",
    "        'NRG' + \n",
    "        '.pkl')\n",
    "\n",
    "# remove blank summaries\n",
    "print(\"Number of articles including blanks: \" + str(len(company_frame)))\n",
    "company_frame = company_frame[company_frame['summary_length'] > 0]\n",
    "print(\"Number of articles excluding blanks: \" + str(len(company_frame)))"
   ]
  },
  {
   "cell_type": "markdown",
   "metadata": {
    "id": "ijqheqzsudP0"
   },
   "source": [
    "Some example summaries"
   ]
  },
  {
   "cell_type": "code",
   "execution_count": 183,
   "metadata": {
    "colab": {
     "base_uri": "https://localhost:8080/"
    },
    "id": "6oRCrlGvrpvc",
    "outputId": "d6ef4204-89bd-4859-b504-00307e38b8b4"
   },
   "outputs": [
    {
     "name": "stdout",
     "output_type": "stream",
     "text": [
      "The three major U.S. stock market indexes dropped as China labelled President Donald Trump’s signing of bills supporting protesters in Hong Kong.\n",
      "Looking at the underlying holdings of the ETFs in our coverage universe at ETF Channel, we have compared the trading price of each holding against the average analyst 12-month forward target price, and computed the weighted average implied analyst target price for the ETF itsel\n",
      "Apple makes this list. So do Netflix and Take-Two Interactive Software.\n",
      "Let's see if NRG Energy (NRG) stock is a good choice for value-oriented investors right now from multiple angles.\n"
     ]
    }
   ],
   "source": [
    "print(company_frame['summary'].iloc[0])\n",
    "print(company_frame['summary'].iloc[1])\n",
    "print(company_frame['summary'].iloc[2])\n",
    "print(company_frame['summary'].iloc[3])"
   ]
  },
  {
   "cell_type": "markdown",
   "metadata": {
    "id": "F4ha7PrcuXzW"
   },
   "source": [
    "Most Common Sources"
   ]
  },
  {
   "cell_type": "code",
   "execution_count": 184,
   "metadata": {
    "colab": {
     "base_uri": "https://localhost:8080/"
    },
    "id": "DHewB3_1sYd9",
    "outputId": "e67db75a-18e2-41f5-fc0f-baafefed7975"
   },
   "outputs": [
    {
     "data": {
      "text/plain": [
       "Yahoo                                  104\n",
       "THELINCOLNIANONLINE                     50\n",
       "YAHOO                                   33\n",
       "Nasdaq                                  30\n",
       "https://www.houstonchronicle.com        18\n",
       "MarketWatch                             15\n",
       "businesswire                            14\n",
       "Benzinga                                13\n",
       "https://www.thelincolnianonline.com     12\n",
       "HOUSTONCHRONICLE                        11\n",
       "marketwatch                             11\n",
       "Investing News Network                   8\n",
       "SIMPLYWALL                               6\n",
       "BUSINESSWIRE                             6\n",
       "benzinga                                 6\n",
       "SEEKINGALPHA                             5\n",
       "THEFLY                                   5\n",
       "barrons                                  4\n",
       "seekingalpha.com                         4\n",
       "seekingalpha                             4\n",
       "Name: source, dtype: int64"
      ]
     },
     "execution_count": 184,
     "metadata": {
      "tags": []
     },
     "output_type": "execute_result"
    }
   ],
   "source": [
    "company_frame['source'].value_counts().head(20)"
   ]
  },
  {
   "cell_type": "markdown",
   "metadata": {
    "id": "eScJbVFGskMk"
   },
   "source": [
    "Looking at only the summaries of significant length (at least 100 characters)"
   ]
  },
  {
   "cell_type": "code",
   "execution_count": 185,
   "metadata": {
    "colab": {
     "base_uri": "https://localhost:8080/"
    },
    "id": "EgVv_pLWsjPc",
    "outputId": "bef55762-f9dd-438f-8921-7ba3ba2044bb"
   },
   "outputs": [
    {
     "name": "stdout",
     "output_type": "stream",
     "text": [
      "Number of long summaries: 15\n",
      "\n",
      "\n"
     ]
    },
    {
     "data": {
      "text/plain": [
       "Yahoo                               8\n",
       "HOUSTONCHRONICLE                    3\n",
       "https://www.houstonchronicle.com    2\n",
       "REUTERS                             1\n",
       "Green Technology                    1\n",
       "Name: source, dtype: int64"
      ]
     },
     "execution_count": 185,
     "metadata": {
      "tags": []
     },
     "output_type": "execute_result"
    }
   ],
   "source": [
    "company_frame_longonly = company_frame[company_frame['summary_length'] >= 1000]\n",
    "print(\"Number of long summaries: \" + str(len(company_frame_longonly)))\n",
    "print(\"\\n\")\n",
    "company_frame_longonly['source'].value_counts().head(20)"
   ]
  },
  {
   "cell_type": "markdown",
   "metadata": {
    "id": "LQeb9lIVtMj8"
   },
   "source": [
    "Some examples of long summaries"
   ]
  },
  {
   "cell_type": "code",
   "execution_count": 186,
   "metadata": {
    "colab": {
     "base_uri": "https://localhost:8080/",
     "height": 120
    },
    "id": "JJ-RT900tL-N",
    "outputId": "d4656405-0e45-4ffb-be8f-f3fb0752b91b"
   },
   "outputs": [
    {
     "data": {
      "application/vnd.google.colaboratory.intrinsic+json": {
       "type": "string"
      },
      "text/plain": [
       "'When investors think defense, they think utility stocks.The S&P; 500\\'s utility sector behaved anything but defensively in 2019, however. The Utilities Select Sector SPDR Fund (XLU) delivered a 25.9% total return last year - better than more than half the index\\'s sectors, including the revamped, \"growthier\" communications sector and consumer discretionary stocks.That\\'s surely a pleasant surprise for utility-stock investors. Many enter the sector looking not for growth, but stability in down markets and the dependable dividends these companies can afford thanks to the often regulated nature of the utility business.Like most of the market, utility stocks did get stretched as a result of their 2019 run. \"The utility sector currently trades at a P/E of 19.3x, versus a 15-year historical average of 15.01x, which represents a 29% premium to the S&P; 500,\" Michael Sheldon, executive director and CIO of financial planner RDM Financial Group, told Kiplinger in a December email.While Sheldon is concerned about the sector\\'s valuation, he\\'s also quick to point out that many utility stocks have low beta - a measure of volatility. Thus, they\\'re still providing more stability compared to the overall market.Here are 10 of the best utility stocks to buy for 2020. This isn\\'t your usual group of utilities, either. While some of these names should be expected to provide a traditional combination of dividend income and lower volatility, a few are set up for potential growth thanks to their connection to green-energy initiatives. SEE ALSO: The Pros\\' Picks: 20 Top Dividend Stocks for 2020'"
      ]
     },
     "execution_count": 186,
     "metadata": {
      "tags": []
     },
     "output_type": "execute_result"
    }
   ],
   "source": [
    "company_frame_longonly['summary'].iloc[0]"
   ]
  },
  {
   "cell_type": "code",
   "execution_count": 187,
   "metadata": {
    "colab": {
     "base_uri": "https://localhost:8080/",
     "height": 120
    },
    "id": "BzBjl_b7te0U",
    "outputId": "81968530-7451-4273-f995-7937375c8dbc"
   },
   "outputs": [
    {
     "data": {
      "application/vnd.google.colaboratory.intrinsic+json": {
       "type": "string"
      },
      "text/plain": [
       "'NEW YORK (AP) — Changes announced in corporate dividends Jan. 20-Jan. 24. INCREASED DIVIDENDS Air Products and Chemicals 1.34 from 1.16 Bank of the James .07 from .06 Cambridge Bancorp .53 from .51 Capital Product Partners .35 from .315 Comcast Corp Cl A .23 from .21 Cortland Bancorp .14 from .12 Dominion Energy .94 from .9175 Enterprise Bancorp .175 from .16 Enterprise Finl Svcs .18 from .17 First Bancshares (The) .10 from .08 First Community Corp .12 from .11 Graham Holdings 1.45 from 1.39 Heartland Financial USA .20 from .18 Heritage Commerce .13 from .12 Heritage Financial Corp .20 from .19 Intel Corp .33 from .31 JB Hunt Transport Svcs .27 from .26 Kimberly-Clark 1.07 from 1.03 MPLX LP .6875 from .6675 Mercantile Bank .28 from .27 MidWestOne Financial Grp .22 from .2025 NRG Energy Inc .30 from .03 OP Bancorp .07 from .05 Old National Bancorp .14 from .13 Old Valley Bancorp CA .14 from .135 One Gas Inc .54 from .50 Orrstown Financial .17 from .15 PCB Bancorp .10 from .08 Pacific Premier Bancorp .25 from .22 Phillips 66 Partners .875 from .865 Reliant Bancorp .10 from .09 Republic Bancorp .286 from .264 Salisbury Bancorp .29 from .28 Shell Midstream Part lp .45 from .445 Teradyne Inc .10 from .09 United Bancshares .14 from .13 Washington Federal .22 from .21 Wintrust Financial .28 from .25 SPECIAL DIVIDENDS Columbia Banking System .22 Cortland Bancorp .05 INITIAL DIVIDENDS IHS Markit Ltd .17 g- Canadian funds OTHER CORPORATE NEWS AND LISTINGS: STOCK SPLITS THIS WEEK Sierra Oncology Inc 1 for 40 reverse split . ..'"
      ]
     },
     "execution_count": 187,
     "metadata": {
      "tags": []
     },
     "output_type": "execute_result"
    }
   ],
   "source": [
    "company_frame_longonly['summary'].iloc[1]"
   ]
  },
  {
   "cell_type": "markdown",
   "metadata": {
    "id": "EcSrfGp4yvz3"
   },
   "source": [
    "### PHM"
   ]
  },
  {
   "cell_type": "code",
   "execution_count": 188,
   "metadata": {
    "colab": {
     "base_uri": "https://localhost:8080/"
    },
    "id": "Ea4sTWtuyxyG",
    "outputId": "72b9741a-6261-41d9-aa87-86a325a73eb3"
   },
   "outputs": [
    {
     "name": "stdout",
     "output_type": "stream",
     "text": [
      "Number of articles including blanks: 789\n",
      "Number of articles excluding blanks: 694\n"
     ]
    }
   ],
   "source": [
    "company_frame = pd.read_pickle(\n",
    "        '/content/drive/MyDrive/abnormal-distribution-project-data/news/' +\n",
    "        'articles_' + \n",
    "        'PHM' + \n",
    "        '.pkl')\n",
    "\n",
    "# remove blank summaries\n",
    "print(\"Number of articles including blanks: \" + str(len(company_frame)))\n",
    "company_frame = company_frame[company_frame['summary_length'] > 0]\n",
    "print(\"Number of articles excluding blanks: \" + str(len(company_frame)))"
   ]
  },
  {
   "cell_type": "code",
   "execution_count": 189,
   "metadata": {
    "colab": {
     "base_uri": "https://localhost:8080/"
    },
    "id": "ju7AMuO6yx5u",
    "outputId": "0a2bdf72-8a02-4806-9a99-ded095399805"
   },
   "outputs": [
    {
     "name": "stdout",
     "output_type": "stream",
     "text": [
      "Bull of the Day: PulteGroup (PHM)\n",
      "Looking at the universe of stocks we cover at Dividend Channel, on 12/17/19, PulteGroup Inc (Symbol: PHM), Banc Of California Inc (Symbol: BANC), and Huntington Bancshares Inc (Symbol: HBAN) will all trade ex-dividend for their respective upcoming dividends.  PulteGroup Inc wil\n",
      "Looking at the universe of stocks we cover at Dividend Channel, on 12/17/19, PulteGroup Inc (Symbol: PHM), Banc Of California Inc (Symbol: BANC), and Huntington Bancshares Inc (Symbol: HBAN) will all trade ex-dividend for their respective upcoming dividends.  PulteGroup Inc wil\n",
      "Cryptocurrency has long been something given away. In fact, the first Bitcoin (no, not a whole coin) this writer ever received was through a BTC faucet, which if you remember are these services that play ads and grant viewers a few satoshis here or there, often $0.25 or so. According to a top philanthropist, giving... The post What’s the Best Way to Drive Bitcoin Adoption? Billionaire Says Crypto Giveaways appeared first on NewsBTC.\n"
     ]
    }
   ],
   "source": [
    "print(company_frame['summary'].iloc[0])\n",
    "print(company_frame['summary'].iloc[1])\n",
    "print(company_frame['summary'].iloc[2])\n",
    "print(company_frame['summary'].iloc[3])"
   ]
  },
  {
   "cell_type": "code",
   "execution_count": 190,
   "metadata": {
    "colab": {
     "base_uri": "https://localhost:8080/"
    },
    "id": "Nl2fOhWlyyJt",
    "outputId": "9f52104a-fbdf-4f7b-f1e0-ce39822f274e"
   },
   "outputs": [
    {
     "data": {
      "text/plain": [
       "Yahoo                                  128\n",
       "Nasdaq                                  76\n",
       "YAHOO                                   68\n",
       "ZACKS                                   56\n",
       "THELINCOLNIANONLINE                     51\n",
       "businesswire                            34\n",
       "https://www.thelincolnianonline.com     27\n",
       "marketwatch                             27\n",
       "THEFLY                                  27\n",
       "SEEKINGALPHA                            20\n",
       "investing                               16\n",
       "seekingalpha.com                        15\n",
       "BENZINGA                                13\n",
       "MarketWatch                             13\n",
       "FOOL                                    11\n",
       "seekingalpha                            10\n",
       "Benzinga                                 9\n",
       "cnbc                                     9\n",
       "Zacks Investment Research                8\n",
       "SIMPLYWALL                               6\n",
       "Name: source, dtype: int64"
      ]
     },
     "execution_count": 190,
     "metadata": {
      "tags": []
     },
     "output_type": "execute_result"
    }
   ],
   "source": [
    "company_frame['source'].value_counts().head(20)"
   ]
  },
  {
   "cell_type": "code",
   "execution_count": 191,
   "metadata": {
    "colab": {
     "base_uri": "https://localhost:8080/"
    },
    "id": "ODEo-WKwyyMd",
    "outputId": "52bf2d7b-cf08-4465-e8ff-3ec66ef911be"
   },
   "outputs": [
    {
     "name": "stdout",
     "output_type": "stream",
     "text": [
      "Number of long summaries: 10\n",
      "\n",
      "\n"
     ]
    },
    {
     "data": {
      "text/plain": [
       "Yahoo                     6\n",
       "Benzinga Feeds            2\n",
       "Nasdaq                    1\n",
       "https://blockboard.net    1\n",
       "Name: source, dtype: int64"
      ]
     },
     "execution_count": 191,
     "metadata": {
      "tags": []
     },
     "output_type": "execute_result"
    }
   ],
   "source": [
    "company_frame_longonly = company_frame[company_frame['summary_length'] >= 1000]\n",
    "print(\"Number of long summaries: \" + str(len(company_frame_longonly)))\n",
    "print(\"\\n\")\n",
    "company_frame_longonly['source'].value_counts().head(20)"
   ]
  },
  {
   "cell_type": "code",
   "execution_count": 192,
   "metadata": {
    "colab": {
     "base_uri": "https://localhost:8080/",
     "height": 120
    },
    "id": "qTol2rlTyyPF",
    "outputId": "7c1083d0-155a-473f-97ea-e7d110250214"
   },
   "outputs": [
    {
     "data": {
      "application/vnd.google.colaboratory.intrinsic+json": {
       "type": "string"
      },
      "text/plain": [
       "'Companies Reporting Before The Bell United Technologies Corporation (NYSE: UTX ) is estimated to report quarterly earnings at $1.84 per share on revenue of $19.37 billion. 3M Company (NYSE: MMM ) is expected to report quarterly earnings at $2.10 per share on revenue of $8.12 billion. Harley-Davidson, Inc. (NYSE: HOG ) is projected to report quarterly earnings at $0.09 per share on revenue of $918.54 million. McCormick & Company, Incorporated (NYSE: MKC ) is expected to report quarterly earnings at $1.61 per share on revenue of $1.52 billion. Pfizer Inc. (NYSE: PFE ) is estimated to report quarterly earnings at $0.57 per share on revenue of $12.61 billion. Lockheed Martin Corporation (NYSE: LMT ) is expected to report quarterly earnings at $5.02 per share on revenue of $15.27 billion. HCA Healthcare, Inc. (NYSE: HCA ) is projected to report quarterly earnings at $3.09 per share on revenue of $13.37 billion. Xerox Holdings Corporation (NYSE: XRX ) is estimated to report quarterly earnings at $1.02 per share on revenue of $2.41 billion.'"
      ]
     },
     "execution_count": 192,
     "metadata": {
      "tags": []
     },
     "output_type": "execute_result"
    }
   ],
   "source": [
    "company_frame_longonly['summary'].iloc[0]"
   ]
  },
  {
   "cell_type": "code",
   "execution_count": 193,
   "metadata": {
    "colab": {
     "base_uri": "https://localhost:8080/",
     "height": 120
    },
    "id": "09Wu7asQyyRv",
    "outputId": "b5a6a187-de11-45c6-cca2-83c54ab6d2fa"
   },
   "outputs": [
    {
     "data": {
      "application/vnd.google.colaboratory.intrinsic+json": {
       "type": "string"
      },
      "text/plain": [
       "'Companies Reporting Before The Bell United Technologies Corporation (NYSE: UTX ) is estimated to report quarterly earnings at $1.84 per share on revenue of $19.37 billion. 3M Company (NYSE: MMM ) is expected to report quarterly earnings at $2.10 per share on revenue of $8.12 billion. Harley-Davidson, Inc. (NYSE: HOG ) is projected to report quarterly earnings at $0.09 per share on revenue of $918.54 million. McCormick & Company, Incorporated (NYSE: MKC ) is expected to report quarterly earnings at $1.61 per share on revenue of $1.52 billion. Pfizer Inc. (NYSE: PFE ) is estimated to report quarterly earnings at $0.57 per share on revenue of $12.61 billion. Lockheed Martin Corporation (NYSE: LMT ) is expected to report quarterly earnings at $5.02 per share on revenue of $15.27 billion. HCA Healthcare, Inc. (NYSE: HCA ) is projected to report quarterly earnings at $3.09 per share on revenue of $13.37 billion. Xerox Holdings Corporation (NYSE: XRX ) is estimated to report quarterly earnings at $1.02 per share on revenue of $2.41 billion.'"
      ]
     },
     "execution_count": 193,
     "metadata": {
      "tags": []
     },
     "output_type": "execute_result"
    }
   ],
   "source": [
    "company_frame_longonly['summary'].iloc[1]"
   ]
  },
  {
   "cell_type": "markdown",
   "metadata": {
    "id": "K-FCNj5szsef"
   },
   "source": [
    "### FIS"
   ]
  },
  {
   "cell_type": "code",
   "execution_count": 194,
   "metadata": {
    "colab": {
     "base_uri": "https://localhost:8080/"
    },
    "id": "vRJRf_-1yyUe",
    "outputId": "0c8dec12-c370-48b9-d9c2-15bf4900d104"
   },
   "outputs": [
    {
     "name": "stdout",
     "output_type": "stream",
     "text": [
      "Number of articles including blanks: 1137\n",
      "Number of articles excluding blanks: 702\n"
     ]
    }
   ],
   "source": [
    "company_frame = pd.read_pickle(\n",
    "        '/content/drive/MyDrive/abnormal-distribution-project-data/news/' +\n",
    "        'articles_' + \n",
    "        'FIS' + \n",
    "        '.pkl')\n",
    "\n",
    "# remove blank summaries\n",
    "print(\"Number of articles including blanks: \" + str(len(company_frame)))\n",
    "company_frame = company_frame[company_frame['summary_length'] > 0]\n",
    "print(\"Number of articles excluding blanks: \" + str(len(company_frame)))"
   ]
  },
  {
   "cell_type": "code",
   "execution_count": 195,
   "metadata": {
    "colab": {
     "base_uri": "https://localhost:8080/"
    },
    "id": "LbljoAI0yyXl",
    "outputId": "7f72afde-8826-4c39-f0dd-495888b62ddf"
   },
   "outputs": [
    {
     "name": "stdout",
     "output_type": "stream",
     "text": [
      "Core banking providers FIS and Fiserv face pressure from banks’ growing in-house tech investments as well as fintech competition, Morgan Stanley reported in a research note this week. The study argued that FIS and Fiserv continue to be good businesses, with FIS historically serving clients with more than $1 billion in assets and Fiserv catering […]\n",
      "JACKSONVILLE, Fla.--(BUSINESS WIRE)--In a major expansion of their work together, VyStar Credit Union—which is headquartered in Jacksonville, Florida and is one of the country’s largest credit unions—will be moving its credit card production and processing services to FIS™ (NYSE: FIS), the financial technology solutions leader announced today. In 2018, VyStar, which serves over 690,000 members, started planning their move to a new, modern front end for their core banking solution from FIS to su\n",
      "JACKSONVILLE, Fla.--(BUSINESS WIRE)--FIS™ (NYSE: FIS) today announced an agreement with JCB, the leading issuer and acquirer in Japan and a global payment network. Worldpay, FIS’ global eCommerce platform, will allow businesses operating in Japan to accept payments by JCB cards. With this agreement, Worldpay now provides a comprehensive eCommerce solution for enterprise merchants operating in Japan. Worldpay merchants selling online in Japan will now be able to streamline their payments technol\n",
      "FIS (NYSE: FIS) today announced an agreement with JCB, the leading issuer and acquirer in Japan and a global payment network.\n"
     ]
    }
   ],
   "source": [
    "print(company_frame['summary'].iloc[0])\n",
    "print(company_frame['summary'].iloc[1])\n",
    "print(company_frame['summary'].iloc[2])\n",
    "print(company_frame['summary'].iloc[3])"
   ]
  },
  {
   "cell_type": "code",
   "execution_count": 196,
   "metadata": {
    "colab": {
     "base_uri": "https://localhost:8080/"
    },
    "id": "-sI2sczPyyaN",
    "outputId": "6c345f58-7747-4e90-a3a8-310197f0419c"
   },
   "outputs": [
    {
     "data": {
      "text/plain": [
       "Yahoo                                  131\n",
       "businesswire                           102\n",
       "THELINCOLNIANONLINE                     74\n",
       "Nasdaq                                  70\n",
       "YAHOO                                   66\n",
       "marketwatch                             20\n",
       "SEEKINGALPHA                            16\n",
       "ZACKS                                   14\n",
       "BUSINESSWIRE                            10\n",
       "MarketWatch                             10\n",
       "barrons                                  9\n",
       "seekingalpha                             9\n",
       "https://www.thelincolnianonline.com      8\n",
       "SMARTERANALYST                           8\n",
       "Business Wire                            8\n",
       "REUTERS                                  7\n",
       "BENZINGA                                 7\n",
       "SIMPLYWALL                               6\n",
       "seekingalpha.com                         6\n",
       "Zacks Investment Research                6\n",
       "Name: source, dtype: int64"
      ]
     },
     "execution_count": 196,
     "metadata": {
      "tags": []
     },
     "output_type": "execute_result"
    }
   ],
   "source": [
    "company_frame['source'].value_counts().head(20)"
   ]
  },
  {
   "cell_type": "code",
   "execution_count": 197,
   "metadata": {
    "colab": {
     "base_uri": "https://localhost:8080/"
    },
    "id": "0t7PhbRHyymG",
    "outputId": "9ec6fb83-bd14-45e9-b760-5674bc4f8f02"
   },
   "outputs": [
    {
     "name": "stdout",
     "output_type": "stream",
     "text": [
      "Number of long summaries: 11\n",
      "\n",
      "\n"
     ]
    },
    {
     "data": {
      "text/plain": [
       "Yahoo               5\n",
       "Business Insider    3\n",
       "Benzinga Feeds      2\n",
       "reuters             1\n",
       "Name: source, dtype: int64"
      ]
     },
     "execution_count": 197,
     "metadata": {
      "tags": []
     },
     "output_type": "execute_result"
    }
   ],
   "source": [
    "company_frame_longonly = company_frame[company_frame['summary_length'] >= 1000]\n",
    "print(\"Number of long summaries: \" + str(len(company_frame_longonly)))\n",
    "print(\"\\n\")\n",
    "company_frame_longonly['source'].value_counts().head(20)"
   ]
  },
  {
   "cell_type": "code",
   "execution_count": 198,
   "metadata": {
    "colab": {
     "base_uri": "https://localhost:8080/",
     "height": 120
    },
    "id": "BPm5hoVS0r5Q",
    "outputId": "bf2dcfeb-fa4c-4f5e-92b7-3ce198d0569a"
   },
   "outputs": [
    {
     "data": {
      "application/vnd.google.colaboratory.intrinsic+json": {
       "type": "string"
      },
      "text/plain": [
       "\"This story was delivered to Business Insider Intelligence Fintech Pro subscribers earlier this morning. To get this story plus others to your inbox each day, hours before they're published on Business Insider, click here. US-based Brex, the $2.6 billion-valued corporate credit card startup, is planning to broaden its product suite beyond its core banking services, reports Bank Innovation. The startup's newly appointed COO Paul-Henri Ferrand told the outlet that the three-year-old company aims to bolster its existing service with the introduction of insurance, lending, and treasury products, though he didn't specify when. Brex, which launched publicly in June 2018, offers corporate credit cards to startups, a segment that's long been underserved by incumbent lenders. It expanded into banking in October 2019, with a limited rollout of a cash management account; Ferrand says Brex plans to roll out the product widely by the end of March 2020. Bolstering its product suite can help Brex deepen its relationship with its clients and reap more revenue from its user base.\""
      ]
     },
     "execution_count": 198,
     "metadata": {
      "tags": []
     },
     "output_type": "execute_result"
    }
   ],
   "source": [
    "company_frame_longonly['summary'].iloc[0]"
   ]
  },
  {
   "cell_type": "code",
   "execution_count": 199,
   "metadata": {
    "colab": {
     "base_uri": "https://localhost:8080/",
     "height": 120
    },
    "id": "WWQLplfn0sBG",
    "outputId": "90042374-b8ab-468c-e7f1-2b770e71f17f"
   },
   "outputs": [
    {
     "data": {
      "application/vnd.google.colaboratory.intrinsic+json": {
       "type": "string"
      },
      "text/plain": [
       "\"This story was delivered to Business Insider Intelligence Payments & Commerce subscribers earlier this morning. To get this story plus others to your inbox each day, hours before they're published on Business Insider, click here . Fiserv recorded almost $3.7 billion in internal revenue in Q4 2019, growing 5% year-over-year (YoY), per the company's earnings release . First Data, which Fiserv acquired for $22 billion in a deal that closed in July 2019, contributed 61% of the total company's internal revenue in the quarter — worth over $2.2 billion — and grew 6% YoY. With First Data driving both Fiserv's revenue and growth in Q4 2019, it's set up to be a core part of the business for years to come. Fiserv appears set to find new short- and long-term revenue opportunities thanks to the acquisition. The company believes it's on track to bring in at least $100 million in revenue synergies in 2020, Frank Bisignano, Fiserv COO and former First Data CEO, said on the company's earnings call . Being able to combine First Data's offerings, like Clover — which increased its annualized gross payment volume (GPV) by over 40% YoY, according to Fiserv CEO Jeff Yabuki — as well as both firms' processing capabilities and existing relationships should enable Fiserv to attract new clients and cross-sell to existing ones.\""
      ]
     },
     "execution_count": 199,
     "metadata": {
      "tags": []
     },
     "output_type": "execute_result"
    }
   ],
   "source": [
    "company_frame_longonly['summary'].iloc[1]"
   ]
  },
  {
   "cell_type": "markdown",
   "metadata": {
    "id": "2lp_yata0s73"
   },
   "source": [
    "### USB"
   ]
  },
  {
   "cell_type": "code",
   "execution_count": 200,
   "metadata": {
    "colab": {
     "base_uri": "https://localhost:8080/"
    },
    "id": "Y23spEQD1BmX",
    "outputId": "3595b85a-b279-49c8-b3e6-f9c3e3b4f8a5"
   },
   "outputs": [
    {
     "name": "stdout",
     "output_type": "stream",
     "text": [
      "Number of articles including blanks: 1724\n",
      "Number of articles excluding blanks: 1171\n"
     ]
    }
   ],
   "source": [
    "company_frame = pd.read_pickle(\n",
    "        '/content/drive/MyDrive/abnormal-distribution-project-data/news/' +\n",
    "        'articles_' + \n",
    "        'USB' + \n",
    "        '.pkl')\n",
    "\n",
    "# remove blank summaries\n",
    "print(\"Number of articles including blanks: \" + str(len(company_frame)))\n",
    "company_frame = company_frame[company_frame['summary_length'] > 0]\n",
    "print(\"Number of articles excluding blanks: \" + str(len(company_frame)))"
   ]
  },
  {
   "cell_type": "code",
   "execution_count": 201,
   "metadata": {
    "colab": {
     "base_uri": "https://localhost:8080/"
    },
    "id": "DfkUajSc1BpG",
    "outputId": "1d132576-e83d-44a3-e83d-e243db839c43"
   },
   "outputs": [
    {
     "name": "stdout",
     "output_type": "stream",
     "text": [
      "Regional banks are struggling to move away from the troubled London interbank offered rate, saying alternatives to the key benchmark for variable-rate debt could hurt their ability to make new loans. \n",
      "If your PS4 won't update, there are several things you can try to get things working again. Try to update your PS4 manually, instead of letting automatic updates take care of everything. If it works, this may solve the problem, and future updates will happen automatically. You can also try to delete notifications, or install the update in Safe Mode . Visit Business Insider's homepage for more stories . Updates are an important part of keeping your PS4 in working order. They include bug fixes, new features, security updates, and more. In short, you should make sure your console always installs the latest system updates. Usually, this happens automatically, but sometimes glitches can prevent that from happening. If your PS4 won't update, here's how to fix the issue. Check out the products mentioned in this article: PlayStation 4 (From $299.99 at Best Buy) How to make sure your PS4 updates Manually install the update If your PS4 won't install an update automatically, you may be able to force the update to install manually.\n",
      "Apple today released iOS 13.3, the third major update to the iOS and iPadOS 13 operating systems. The new software updates come two weeks after the release of iOS/iPadOS 13.2.3 and more than a month after the launch of iOS 13.2 , which brought new emoji. The iOS and ‌‌‌iPadOS‌‌‌ 13.3 updates are available on all eligible devices over-the-air in the Settings app. To access the updates, go to Settings > General > Software Update. iOS 13.3 continues to add features that were originally promised for iOS 13 but were ultimately eliminated during the beta testing process, with the update introducing Communication Limits for Screen Time. Communication Limits let parents control who their children are able to contact, with the feature covering FaceTime, Phone, Messages, and iCloud Contacts. Calls to emergency numbers are always allowed and when placed, will turn off communication limits for 24 hours to make sure children are safe and not restricted from communicating with people in the event of an emergency.\n",
      "The Coolest Cooler launched on Kickstarter in 2014 and raised over $13 million from backers. The idea was to sell a \"portable party disguised as a cooler,\" complete with Bluetooth speakers, a blender, and storage for dishes and utensils. The project struggled to actually launch for years, and now the company is officially going out of business before all backers even received the product. Visit Business Insider's homepage for more stories. The Coolest Cooler had a promising start on Kickstarter five years ago, but things have been rocky since. Though it was once the most-funded project on Kickstarter, it went on to become somewhat infamous for failure to deliver and constant updates from the creator about pushing back shipping dates. The Verge calls Coolest Cooler \"the biggest disaster on Kickstarter.\" To date, there have been 56 updates posted on the page. Here's how the project went from $13 million in funding to shutting down 5 years later, with one-third of customers never receiving the cooler they were promised.\n"
     ]
    }
   ],
   "source": [
    "print(company_frame['summary'].iloc[0])\n",
    "print(company_frame['summary'].iloc[1])\n",
    "print(company_frame['summary'].iloc[2])\n",
    "print(company_frame['summary'].iloc[3])"
   ]
  },
  {
   "cell_type": "code",
   "execution_count": 202,
   "metadata": {
    "colab": {
     "base_uri": "https://localhost:8080/"
    },
    "id": "0s9h2PUn1Br-",
    "outputId": "596bb262-e33b-4945-f6a4-0294751b762b"
   },
   "outputs": [
    {
     "data": {
      "text/plain": [
       "Yahoo                                  148\n",
       "businesswire                           124\n",
       "Nasdaq                                 117\n",
       "THELINCOLNIANONLINE                     98\n",
       "https://www.thelincolnianonline.com     71\n",
       "YAHOO                                   52\n",
       "BGR.com                                 46\n",
       "seekingalpha.com                        39\n",
       "Mac Rumors                              38\n",
       "https://www.americanbanker.com          31\n",
       "marketwatch                             22\n",
       "https://www.fool.com                    20\n",
       "BIZJOURNALS                             18\n",
       "THEFLY                                  18\n",
       "SEEKINGALPHA                            17\n",
       "Business Insider                        15\n",
       "seekingalpha                            14\n",
       "BENZINGA                                13\n",
       "barrons                                 12\n",
       "MarketWatch                             11\n",
       "Name: source, dtype: int64"
      ]
     },
     "execution_count": 202,
     "metadata": {
      "tags": []
     },
     "output_type": "execute_result"
    }
   ],
   "source": [
    "company_frame['source'].value_counts().head(20)"
   ]
  },
  {
   "cell_type": "code",
   "execution_count": 203,
   "metadata": {
    "colab": {
     "base_uri": "https://localhost:8080/"
    },
    "id": "4yvbcKDR1Bum",
    "outputId": "dbe1da26-caf3-4af3-9ad6-ba3e0dd0a18a"
   },
   "outputs": [
    {
     "name": "stdout",
     "output_type": "stream",
     "text": [
      "Number of long summaries: 119\n",
      "\n",
      "\n"
     ]
    },
    {
     "data": {
      "text/plain": [
       "BGR.com                        45\n",
       "Mac Rumors                     37\n",
       "Business Insider               15\n",
       "Yahoo                           7\n",
       "Nasdaq                          3\n",
       "Benzinga Feeds                  3\n",
       "https://www.newstimes.com       2\n",
       "https://www.sfchronicle.com     2\n",
       "https://www.ctpost.com          2\n",
       "Sify.com                        1\n",
       "Benzinga                        1\n",
       "REUTERS                         1\n",
       "Name: source, dtype: int64"
      ]
     },
     "execution_count": 203,
     "metadata": {
      "tags": []
     },
     "output_type": "execute_result"
    }
   ],
   "source": [
    "company_frame_longonly = company_frame[company_frame['summary_length'] >= 1000]\n",
    "print(\"Number of long summaries: \" + str(len(company_frame_longonly)))\n",
    "print(\"\\n\")\n",
    "company_frame_longonly['source'].value_counts().head(20)"
   ]
  },
  {
   "cell_type": "code",
   "execution_count": 204,
   "metadata": {
    "colab": {
     "base_uri": "https://localhost:8080/",
     "height": 120
    },
    "id": "OQf4TdLC1Bxm",
    "outputId": "f4dc05b8-2574-4db0-f3ba-46ce2fd347e4"
   },
   "outputs": [
    {
     "data": {
      "application/vnd.google.colaboratory.intrinsic+json": {
       "type": "string"
      },
      "text/plain": [
       "\"If your PS4 won't update, there are several things you can try to get things working again. Try to update your PS4 manually, instead of letting automatic updates take care of everything. If it works, this may solve the problem, and future updates will happen automatically. You can also try to delete notifications, or install the update in Safe Mode . Visit Business Insider's homepage for more stories . Updates are an important part of keeping your PS4 in working order. They include bug fixes, new features, security updates, and more. In short, you should make sure your console always installs the latest system updates. Usually, this happens automatically, but sometimes glitches can prevent that from happening. If your PS4 won't update, here's how to fix the issue. Check out the products mentioned in this article: PlayStation 4 (From $299.99 at Best Buy) How to make sure your PS4 updates Manually install the update If your PS4 won't install an update automatically, you may be able to force the update to install manually.\""
      ]
     },
     "execution_count": 204,
     "metadata": {
      "tags": []
     },
     "output_type": "execute_result"
    }
   ],
   "source": [
    "company_frame_longonly['summary'].iloc[0]"
   ]
  },
  {
   "cell_type": "code",
   "execution_count": 205,
   "metadata": {
    "colab": {
     "base_uri": "https://localhost:8080/",
     "height": 120
    },
    "id": "5VsqeUk41CCO",
    "outputId": "e9d15f24-8177-4129-dd09-27807c49099d"
   },
   "outputs": [
    {
     "data": {
      "application/vnd.google.colaboratory.intrinsic+json": {
       "type": "string"
      },
      "text/plain": [
       "'Apple today released iOS 13.3, the third major update to the iOS and iPadOS 13 operating systems. The new software updates come two weeks after the release of iOS/iPadOS 13.2.3 and more than a month after the launch of iOS 13.2 , which brought new emoji. The iOS and \\u200c\\u200c\\u200ciPadOS\\u200c\\u200c\\u200c 13.3 updates are available on all eligible devices over-the-air in the Settings app. To access the updates, go to Settings > General > Software Update. iOS 13.3 continues to add features that were originally promised for iOS 13 but were ultimately eliminated during the beta testing process, with the update introducing Communication Limits for Screen Time. Communication Limits let parents control who their children are able to contact, with the feature covering FaceTime, Phone, Messages, and iCloud Contacts. Calls to emergency numbers are always allowed and when placed, will turn off communication limits for 24 hours to make sure children are safe and not restricted from communicating with people in the event of an emergency.'"
      ]
     },
     "execution_count": 205,
     "metadata": {
      "tags": []
     },
     "output_type": "execute_result"
    }
   ],
   "source": [
    "company_frame_longonly['summary'].iloc[1]"
   ]
  },
  {
   "cell_type": "markdown",
   "metadata": {
    "id": "HneK53KV1iTZ"
   },
   "source": [
    "### QCOM"
   ]
  },
  {
   "cell_type": "code",
   "execution_count": 206,
   "metadata": {
    "colab": {
     "base_uri": "https://localhost:8080/"
    },
    "id": "iAo69_ND1i3P",
    "outputId": "7e169fea-f2bc-4d63-c590-4da6d486d66e"
   },
   "outputs": [
    {
     "name": "stdout",
     "output_type": "stream",
     "text": [
      "Number of articles including blanks: 4580\n",
      "Number of articles excluding blanks: 4093\n"
     ]
    }
   ],
   "source": [
    "company_frame = pd.read_pickle(\n",
    "        '/content/drive/MyDrive/abnormal-distribution-project-data/news/' +\n",
    "        'articles_' + \n",
    "        'QCOM' + \n",
    "        '.pkl')\n",
    "\n",
    "# remove blank summaries\n",
    "print(\"Number of articles including blanks: \" + str(len(company_frame)))\n",
    "company_frame = company_frame[company_frame['summary_length'] > 0]\n",
    "print(\"Number of articles excluding blanks: \" + str(len(company_frame)))"
   ]
  },
  {
   "cell_type": "code",
   "execution_count": 207,
   "metadata": {
    "colab": {
     "base_uri": "https://localhost:8080/"
    },
    "id": "2as83jzV1i52",
    "outputId": "d6ff5e69-ae5f-4fed-8406-59af611f6009"
   },
   "outputs": [
    {
     "name": "stdout",
     "output_type": "stream",
     "text": [
      "MediaTek has spilled all the details about its new 5G system-on-a-chip, claiming that at the time of manufacture it has six world firsts inside, and a mass of cutting edge technology, ready to connect phones and other devices to Sub-6 5G networks all over the world. It’s small, but it packs in a massive amount of cool tech.\n",
      "And there’s a new 5G smartphone chip too - the Dimensity 1000\n",
      "The Samsung Galaxy A50 has a beefy battery, a big screen, a slick software experience, and solid performance. At just $350, it’s an exceptional phone -- but it faces stiff competition from the likes of Google’s Pixel 3a. Here’s our Galaxy A50 review.\n",
      "The original Pixelbook was beautiful, but a bit too expensive. The new Pixelbook Go takes a different approach. It starts at a more affordable $649, without sacrificing build quality or performance. Is this the first Google Chromebook that's actually worth buying?\n"
     ]
    }
   ],
   "source": [
    "print(company_frame['summary'].iloc[0])\n",
    "print(company_frame['summary'].iloc[1])\n",
    "print(company_frame['summary'].iloc[2])\n",
    "print(company_frame['summary'].iloc[3])"
   ]
  },
  {
   "cell_type": "code",
   "execution_count": 208,
   "metadata": {
    "colab": {
     "base_uri": "https://localhost:8080/"
    },
    "id": "rYNLAdVR1i85",
    "outputId": "280ac43d-6d7b-42c7-d1ba-a47618d407cc"
   },
   "outputs": [
    {
     "data": {
      "text/plain": [
       "businesswire                      342\n",
       "Yahoo                             328\n",
       "Nasdaq                            250\n",
       "https://www.forbes.com            166\n",
       "https://www.androidcentral.com    138\n",
       "marketwatch                       118\n",
       "YAHOO                             113\n",
       "https://www.rcrwireless.com       107\n",
       "THEFLY                             86\n",
       "investing                          84\n",
       "https://www.digitaltrends.com      80\n",
       "cnbc                               72\n",
       "seekingalpha                       70\n",
       "THELINCOLNIANONLINE                69\n",
       "ZACKS                              58\n",
       "https://www.slashgear.com          51\n",
       "benzinga                           49\n",
       "https://www.techradar.com          49\n",
       "seekingalpha.com                   46\n",
       "SEEKINGALPHA                       46\n",
       "Name: source, dtype: int64"
      ]
     },
     "execution_count": 208,
     "metadata": {
      "tags": []
     },
     "output_type": "execute_result"
    }
   ],
   "source": [
    "company_frame['source'].value_counts().head(20)"
   ]
  },
  {
   "cell_type": "code",
   "execution_count": 209,
   "metadata": {
    "colab": {
     "base_uri": "https://localhost:8080/"
    },
    "id": "r7Q2Fo4-1i_g",
    "outputId": "78c479a0-5d6b-4f1a-fe81-563ee0780269"
   },
   "outputs": [
    {
     "name": "stdout",
     "output_type": "stream",
     "text": [
      "Number of long summaries: 137\n",
      "\n",
      "\n"
     ]
    },
    {
     "data": {
      "text/plain": [
       "Yahoo                                   81\n",
       "Business Insider                        11\n",
       "BGR.com                                 11\n",
       "Nasdaq                                   5\n",
       "HOUSTONCHRONICLE                         3\n",
       "Sify.com                                 3\n",
       "The Economic Times India                 3\n",
       "Zero Hedge                               3\n",
       "ABC                                      2\n",
       "https://www.sfchronicle.com              2\n",
       "Globo                                    2\n",
       "Benzinga Feeds                           2\n",
       "Mac Rumors                               2\n",
       "reuters                                  2\n",
       "https://economictimes.indiatimes.com     1\n",
       "https://www.houstonchronicle.com         1\n",
       "IHS Markit                               1\n",
       "Kurier.at                                1\n",
       "https://www.newstimes.com                1\n",
       "Name: source, dtype: int64"
      ]
     },
     "execution_count": 209,
     "metadata": {
      "tags": []
     },
     "output_type": "execute_result"
    }
   ],
   "source": [
    "company_frame_longonly = company_frame[company_frame['summary_length'] >= 1000]\n",
    "print(\"Number of long summaries: \" + str(len(company_frame_longonly)))\n",
    "print(\"\\n\")\n",
    "company_frame_longonly['source'].value_counts().head(20)"
   ]
  },
  {
   "cell_type": "code",
   "execution_count": 210,
   "metadata": {
    "colab": {
     "base_uri": "https://localhost:8080/",
     "height": 120
    },
    "id": "8TxjQaEg1jCX",
    "outputId": "e9f2edbb-361f-4d25-de96-869edfa2abf5"
   },
   "outputs": [
    {
     "data": {
      "application/vnd.google.colaboratory.intrinsic+json": {
       "type": "string"
      },
      "text/plain": [
       "'Qualcomm Inc, the world’s top mobile chip supplier, said India must not go slow on 5G as deployment of this next-gen wireless broadband technology will determine its economic fortunes, competitiveness and the fate of its local manufacturing ambitions. The company’s president Cristiano Amon told ET’s Kalyan Parbat that the US chipmaker’s 2020 plans include making its 5G chipsets available in the average $250-350 price band from current $1000-plus levels, to drive affordability. Edited excerpts.5G devices phones powered by Qualcomm’s latest 5G mobile chip, the Snapdragon 865, will be commercially available by early-2020. But India, a key market for Qualcomm, is yet to even go 5G. Does that bother you?No, it doesn’t, because unlike 3G and 4G, 5G wireless technology is not unique to public (telecom) networks alone, and India can take advantage of that. While it may take longer for telcos to build 5G (with spectrum auctions yet to happen), India could start with private 5G networks for university campuses, enterprises, industries, and in turn, leverage the transformative power of 5G.'"
      ]
     },
     "execution_count": 210,
     "metadata": {
      "tags": []
     },
     "output_type": "execute_result"
    }
   ],
   "source": [
    "company_frame_longonly['summary'].iloc[0]"
   ]
  },
  {
   "cell_type": "code",
   "execution_count": 211,
   "metadata": {
    "colab": {
     "base_uri": "https://localhost:8080/",
     "height": 120
    },
    "id": "kVektGI41jFY",
    "outputId": "fdb32818-cbb1-4ee2-ac78-b70d729fb964"
   },
   "outputs": [
    {
     "data": {
      "application/vnd.google.colaboratory.intrinsic+json": {
       "type": "string"
      },
      "text/plain": [
       "\"The world’s cheapest 5G phone costs just $285, but you might not be able to buy it After years of talking about 5G, carriers have finally rolled out 5G networks in 2019 and started selling several handsets ready to support the faster data transfers. However, most of these phones are more expensive than their 4G equivalents, and buying one makes little sense unless you happen to live or work in the vicinity of those few places where 5G actually works. Come 2020, however, 5G phones will become even more affordable, just as 5G coverage expands around the world. And it all starts with a 5G phone that costs only $285. Sadly, it might not be available in your market anytime soon. Not only is the Redmi K30 ready to support 5G out of the box, but the phone will also rock a 120Hz 6.67-inch screen, which is the kind of screen refresh rate that you’d see on a gaming Android handset or some of this year’s flagship handsets. The phone's design is similar to Samsung’s Galaxy S10+. We’re looking at a hole-punch all-screen display, although the edges aren’t curved.\""
      ]
     },
     "execution_count": 211,
     "metadata": {
      "tags": []
     },
     "output_type": "execute_result"
    }
   ],
   "source": [
    "company_frame_longonly['summary'].iloc[1]"
   ]
  }
 ],
 "metadata": {
  "colab": {
   "collapsed_sections": [],
   "name": "Untitled1.ipynb",
   "provenance": []
  },
  "kernelspec": {
   "display_name": "Python 3",
   "language": "python",
   "name": "python3"
  },
  "language_info": {
   "codemirror_mode": {
    "name": "ipython",
    "version": 3
   },
   "file_extension": ".py",
   "mimetype": "text/x-python",
   "name": "python",
   "nbconvert_exporter": "python",
   "pygments_lexer": "ipython3",
   "version": "3.8.3"
  }
 },
 "nbformat": 4,
 "nbformat_minor": 1
}
