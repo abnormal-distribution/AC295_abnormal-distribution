{
  "nbformat": 4,
  "nbformat_minor": 0,
  "metadata": {
    "kernelspec": {
      "display_name": "Python 3",
      "language": "python",
      "name": "python3"
    },
    "language_info": {
      "codemirror_mode": {
        "name": "ipython",
        "version": 3
      },
      "file_extension": ".py",
      "mimetype": "text/x-python",
      "name": "python",
      "nbconvert_exporter": "python",
      "pygments_lexer": "ipython3",
      "version": "3.8.3"
    },
    "colab": {
      "name": "CIQCompustat_keydev.ipynb",
      "provenance": [],
      "collapsed_sections": [],
      "toc_visible": true,
      "machine_shape": "hm"
    },
    "accelerator": "GPU",
    "widgets": {
      "application/vnd.jupyter.widget-state+json": {
        "d5e3c59e3b984ac19897ca9b31fcd63c": {
          "model_module": "@jupyter-widgets/controls",
          "model_name": "HBoxModel",
          "state": {
            "_view_name": "HBoxView",
            "_dom_classes": [],
            "_model_name": "HBoxModel",
            "_view_module": "@jupyter-widgets/controls",
            "_model_module_version": "1.5.0",
            "_view_count": null,
            "_view_module_version": "1.5.0",
            "box_style": "",
            "layout": "IPY_MODEL_e3475bc4359641178180ec98abb3ca7d",
            "_model_module": "@jupyter-widgets/controls",
            "children": [
              "IPY_MODEL_a5a8d1cff6754a988630627d7d7b0bc3",
              "IPY_MODEL_2a2dda2dc25e4cd6834c6533f51572a7"
            ]
          }
        },
        "e3475bc4359641178180ec98abb3ca7d": {
          "model_module": "@jupyter-widgets/base",
          "model_name": "LayoutModel",
          "state": {
            "_view_name": "LayoutView",
            "grid_template_rows": null,
            "right": null,
            "justify_content": null,
            "_view_module": "@jupyter-widgets/base",
            "overflow": null,
            "_model_module_version": "1.2.0",
            "_view_count": null,
            "flex_flow": null,
            "width": null,
            "min_width": null,
            "border": null,
            "align_items": null,
            "bottom": null,
            "_model_module": "@jupyter-widgets/base",
            "top": null,
            "grid_column": null,
            "overflow_y": null,
            "overflow_x": null,
            "grid_auto_flow": null,
            "grid_area": null,
            "grid_template_columns": null,
            "flex": null,
            "_model_name": "LayoutModel",
            "justify_items": null,
            "grid_row": null,
            "max_height": null,
            "align_content": null,
            "visibility": null,
            "align_self": null,
            "height": null,
            "min_height": null,
            "padding": null,
            "grid_auto_rows": null,
            "grid_gap": null,
            "max_width": null,
            "order": null,
            "_view_module_version": "1.2.0",
            "grid_template_areas": null,
            "object_position": null,
            "object_fit": null,
            "grid_auto_columns": null,
            "margin": null,
            "display": null,
            "left": null
          }
        },
        "a5a8d1cff6754a988630627d7d7b0bc3": {
          "model_module": "@jupyter-widgets/controls",
          "model_name": "FloatProgressModel",
          "state": {
            "_view_name": "ProgressView",
            "style": "IPY_MODEL_29b945e5174a416bb45423ac92261021",
            "_dom_classes": [],
            "description": "Downloading: 100%",
            "_model_name": "FloatProgressModel",
            "bar_style": "success",
            "max": 433,
            "_view_module": "@jupyter-widgets/controls",
            "_model_module_version": "1.5.0",
            "value": 433,
            "_view_count": null,
            "_view_module_version": "1.5.0",
            "orientation": "horizontal",
            "min": 0,
            "description_tooltip": null,
            "_model_module": "@jupyter-widgets/controls",
            "layout": "IPY_MODEL_390cef4a0b114a7291262a2faa4c881a"
          }
        },
        "2a2dda2dc25e4cd6834c6533f51572a7": {
          "model_module": "@jupyter-widgets/controls",
          "model_name": "HTMLModel",
          "state": {
            "_view_name": "HTMLView",
            "style": "IPY_MODEL_c4b7232db6c4442ab6b8c87532fc8f12",
            "_dom_classes": [],
            "description": "",
            "_model_name": "HTMLModel",
            "placeholder": "​",
            "_view_module": "@jupyter-widgets/controls",
            "_model_module_version": "1.5.0",
            "value": " 433/433 [00:07&lt;00:00, 58.9B/s]",
            "_view_count": null,
            "_view_module_version": "1.5.0",
            "description_tooltip": null,
            "_model_module": "@jupyter-widgets/controls",
            "layout": "IPY_MODEL_e19bdb98b7114241b2c6d740840fbda9"
          }
        },
        "29b945e5174a416bb45423ac92261021": {
          "model_module": "@jupyter-widgets/controls",
          "model_name": "ProgressStyleModel",
          "state": {
            "_view_name": "StyleView",
            "_model_name": "ProgressStyleModel",
            "description_width": "initial",
            "_view_module": "@jupyter-widgets/base",
            "_model_module_version": "1.5.0",
            "_view_count": null,
            "_view_module_version": "1.2.0",
            "bar_color": null,
            "_model_module": "@jupyter-widgets/controls"
          }
        },
        "390cef4a0b114a7291262a2faa4c881a": {
          "model_module": "@jupyter-widgets/base",
          "model_name": "LayoutModel",
          "state": {
            "_view_name": "LayoutView",
            "grid_template_rows": null,
            "right": null,
            "justify_content": null,
            "_view_module": "@jupyter-widgets/base",
            "overflow": null,
            "_model_module_version": "1.2.0",
            "_view_count": null,
            "flex_flow": null,
            "width": null,
            "min_width": null,
            "border": null,
            "align_items": null,
            "bottom": null,
            "_model_module": "@jupyter-widgets/base",
            "top": null,
            "grid_column": null,
            "overflow_y": null,
            "overflow_x": null,
            "grid_auto_flow": null,
            "grid_area": null,
            "grid_template_columns": null,
            "flex": null,
            "_model_name": "LayoutModel",
            "justify_items": null,
            "grid_row": null,
            "max_height": null,
            "align_content": null,
            "visibility": null,
            "align_self": null,
            "height": null,
            "min_height": null,
            "padding": null,
            "grid_auto_rows": null,
            "grid_gap": null,
            "max_width": null,
            "order": null,
            "_view_module_version": "1.2.0",
            "grid_template_areas": null,
            "object_position": null,
            "object_fit": null,
            "grid_auto_columns": null,
            "margin": null,
            "display": null,
            "left": null
          }
        },
        "c4b7232db6c4442ab6b8c87532fc8f12": {
          "model_module": "@jupyter-widgets/controls",
          "model_name": "DescriptionStyleModel",
          "state": {
            "_view_name": "StyleView",
            "_model_name": "DescriptionStyleModel",
            "description_width": "",
            "_view_module": "@jupyter-widgets/base",
            "_model_module_version": "1.5.0",
            "_view_count": null,
            "_view_module_version": "1.2.0",
            "_model_module": "@jupyter-widgets/controls"
          }
        },
        "e19bdb98b7114241b2c6d740840fbda9": {
          "model_module": "@jupyter-widgets/base",
          "model_name": "LayoutModel",
          "state": {
            "_view_name": "LayoutView",
            "grid_template_rows": null,
            "right": null,
            "justify_content": null,
            "_view_module": "@jupyter-widgets/base",
            "overflow": null,
            "_model_module_version": "1.2.0",
            "_view_count": null,
            "flex_flow": null,
            "width": null,
            "min_width": null,
            "border": null,
            "align_items": null,
            "bottom": null,
            "_model_module": "@jupyter-widgets/base",
            "top": null,
            "grid_column": null,
            "overflow_y": null,
            "overflow_x": null,
            "grid_auto_flow": null,
            "grid_area": null,
            "grid_template_columns": null,
            "flex": null,
            "_model_name": "LayoutModel",
            "justify_items": null,
            "grid_row": null,
            "max_height": null,
            "align_content": null,
            "visibility": null,
            "align_self": null,
            "height": null,
            "min_height": null,
            "padding": null,
            "grid_auto_rows": null,
            "grid_gap": null,
            "max_width": null,
            "order": null,
            "_view_module_version": "1.2.0",
            "grid_template_areas": null,
            "object_position": null,
            "object_fit": null,
            "grid_auto_columns": null,
            "margin": null,
            "display": null,
            "left": null
          }
        },
        "5603e4aceefb4946a82a1e0f50b29011": {
          "model_module": "@jupyter-widgets/controls",
          "model_name": "HBoxModel",
          "state": {
            "_view_name": "HBoxView",
            "_dom_classes": [],
            "_model_name": "HBoxModel",
            "_view_module": "@jupyter-widgets/controls",
            "_model_module_version": "1.5.0",
            "_view_count": null,
            "_view_module_version": "1.5.0",
            "box_style": "",
            "layout": "IPY_MODEL_a96f74bfe26a4d2186f851dc0195878d",
            "_model_module": "@jupyter-widgets/controls",
            "children": [
              "IPY_MODEL_a7277ca9614a49c4b6c559ccec93a586",
              "IPY_MODEL_6a01c17c6a15401783dfcc6a5145f40d"
            ]
          }
        },
        "a96f74bfe26a4d2186f851dc0195878d": {
          "model_module": "@jupyter-widgets/base",
          "model_name": "LayoutModel",
          "state": {
            "_view_name": "LayoutView",
            "grid_template_rows": null,
            "right": null,
            "justify_content": null,
            "_view_module": "@jupyter-widgets/base",
            "overflow": null,
            "_model_module_version": "1.2.0",
            "_view_count": null,
            "flex_flow": null,
            "width": null,
            "min_width": null,
            "border": null,
            "align_items": null,
            "bottom": null,
            "_model_module": "@jupyter-widgets/base",
            "top": null,
            "grid_column": null,
            "overflow_y": null,
            "overflow_x": null,
            "grid_auto_flow": null,
            "grid_area": null,
            "grid_template_columns": null,
            "flex": null,
            "_model_name": "LayoutModel",
            "justify_items": null,
            "grid_row": null,
            "max_height": null,
            "align_content": null,
            "visibility": null,
            "align_self": null,
            "height": null,
            "min_height": null,
            "padding": null,
            "grid_auto_rows": null,
            "grid_gap": null,
            "max_width": null,
            "order": null,
            "_view_module_version": "1.2.0",
            "grid_template_areas": null,
            "object_position": null,
            "object_fit": null,
            "grid_auto_columns": null,
            "margin": null,
            "display": null,
            "left": null
          }
        },
        "a7277ca9614a49c4b6c559ccec93a586": {
          "model_module": "@jupyter-widgets/controls",
          "model_name": "FloatProgressModel",
          "state": {
            "_view_name": "ProgressView",
            "style": "IPY_MODEL_4783366f627348b29cbbc279dd28c323",
            "_dom_classes": [],
            "description": "Downloading: 100%",
            "_model_name": "FloatProgressModel",
            "bar_style": "success",
            "max": 536063208,
            "_view_module": "@jupyter-widgets/controls",
            "_model_module_version": "1.5.0",
            "value": 536063208,
            "_view_count": null,
            "_view_module_version": "1.5.0",
            "orientation": "horizontal",
            "min": 0,
            "description_tooltip": null,
            "_model_module": "@jupyter-widgets/controls",
            "layout": "IPY_MODEL_9fb96b9a6e22418db1ed6a22882cf5e7"
          }
        },
        "6a01c17c6a15401783dfcc6a5145f40d": {
          "model_module": "@jupyter-widgets/controls",
          "model_name": "HTMLModel",
          "state": {
            "_view_name": "HTMLView",
            "style": "IPY_MODEL_a02f77b15c6f4e4dac1a39a0ef5ed142",
            "_dom_classes": [],
            "description": "",
            "_model_name": "HTMLModel",
            "placeholder": "​",
            "_view_module": "@jupyter-widgets/controls",
            "_model_module_version": "1.5.0",
            "value": " 536M/536M [00:06&lt;00:00, 86.0MB/s]",
            "_view_count": null,
            "_view_module_version": "1.5.0",
            "description_tooltip": null,
            "_model_module": "@jupyter-widgets/controls",
            "layout": "IPY_MODEL_bd6668e526e0456ab5e022d4930d2d16"
          }
        },
        "4783366f627348b29cbbc279dd28c323": {
          "model_module": "@jupyter-widgets/controls",
          "model_name": "ProgressStyleModel",
          "state": {
            "_view_name": "StyleView",
            "_model_name": "ProgressStyleModel",
            "description_width": "initial",
            "_view_module": "@jupyter-widgets/base",
            "_model_module_version": "1.5.0",
            "_view_count": null,
            "_view_module_version": "1.2.0",
            "bar_color": null,
            "_model_module": "@jupyter-widgets/controls"
          }
        },
        "9fb96b9a6e22418db1ed6a22882cf5e7": {
          "model_module": "@jupyter-widgets/base",
          "model_name": "LayoutModel",
          "state": {
            "_view_name": "LayoutView",
            "grid_template_rows": null,
            "right": null,
            "justify_content": null,
            "_view_module": "@jupyter-widgets/base",
            "overflow": null,
            "_model_module_version": "1.2.0",
            "_view_count": null,
            "flex_flow": null,
            "width": null,
            "min_width": null,
            "border": null,
            "align_items": null,
            "bottom": null,
            "_model_module": "@jupyter-widgets/base",
            "top": null,
            "grid_column": null,
            "overflow_y": null,
            "overflow_x": null,
            "grid_auto_flow": null,
            "grid_area": null,
            "grid_template_columns": null,
            "flex": null,
            "_model_name": "LayoutModel",
            "justify_items": null,
            "grid_row": null,
            "max_height": null,
            "align_content": null,
            "visibility": null,
            "align_self": null,
            "height": null,
            "min_height": null,
            "padding": null,
            "grid_auto_rows": null,
            "grid_gap": null,
            "max_width": null,
            "order": null,
            "_view_module_version": "1.2.0",
            "grid_template_areas": null,
            "object_position": null,
            "object_fit": null,
            "grid_auto_columns": null,
            "margin": null,
            "display": null,
            "left": null
          }
        },
        "a02f77b15c6f4e4dac1a39a0ef5ed142": {
          "model_module": "@jupyter-widgets/controls",
          "model_name": "DescriptionStyleModel",
          "state": {
            "_view_name": "StyleView",
            "_model_name": "DescriptionStyleModel",
            "description_width": "",
            "_view_module": "@jupyter-widgets/base",
            "_model_module_version": "1.5.0",
            "_view_count": null,
            "_view_module_version": "1.2.0",
            "_model_module": "@jupyter-widgets/controls"
          }
        },
        "bd6668e526e0456ab5e022d4930d2d16": {
          "model_module": "@jupyter-widgets/base",
          "model_name": "LayoutModel",
          "state": {
            "_view_name": "LayoutView",
            "grid_template_rows": null,
            "right": null,
            "justify_content": null,
            "_view_module": "@jupyter-widgets/base",
            "overflow": null,
            "_model_module_version": "1.2.0",
            "_view_count": null,
            "flex_flow": null,
            "width": null,
            "min_width": null,
            "border": null,
            "align_items": null,
            "bottom": null,
            "_model_module": "@jupyter-widgets/base",
            "top": null,
            "grid_column": null,
            "overflow_y": null,
            "overflow_x": null,
            "grid_auto_flow": null,
            "grid_area": null,
            "grid_template_columns": null,
            "flex": null,
            "_model_name": "LayoutModel",
            "justify_items": null,
            "grid_row": null,
            "max_height": null,
            "align_content": null,
            "visibility": null,
            "align_self": null,
            "height": null,
            "min_height": null,
            "padding": null,
            "grid_auto_rows": null,
            "grid_gap": null,
            "max_width": null,
            "order": null,
            "_view_module_version": "1.2.0",
            "grid_template_areas": null,
            "object_position": null,
            "object_fit": null,
            "grid_auto_columns": null,
            "margin": null,
            "display": null,
            "left": null
          }
        }
      }
    }
  },
  "cells": [
    {
      "cell_type": "code",
      "metadata": {
        "colab": {
          "base_uri": "https://localhost:8080/"
        },
        "id": "5AL5FOHkcOaD",
        "outputId": "e7be5330-6608-4f62-8e66-94a765941fb2"
      },
      "source": [
        "import sys\n",
        "!{sys.executable} -m pip install wrds"
      ],
      "execution_count": null,
      "outputs": [
        {
          "output_type": "stream",
          "text": [
            "Collecting wrds\n",
            "  Downloading https://files.pythonhosted.org/packages/1c/35/9d86097c36a8528a1f5bbc3815c161c2dfce7fffc28e10cfd7c9726c1ac0/wrds-3.0.8-py3-none-any.whl\n",
            "Requirement already satisfied: pandas in /usr/local/lib/python3.6/dist-packages (from wrds) (1.1.4)\n",
            "Collecting psycopg2-binary\n",
            "\u001b[?25l  Downloading https://files.pythonhosted.org/packages/f2/1b/720b36697158113ca1b2221a8e96a470088ccf3770d182214689d1a96a07/psycopg2_binary-2.8.6-cp36-cp36m-manylinux1_x86_64.whl (3.0MB)\n",
            "\u001b[K     |████████████████████████████████| 3.0MB 4.3MB/s \n",
            "\u001b[?25hRequirement already satisfied: sqlalchemy in /usr/local/lib/python3.6/dist-packages (from wrds) (1.3.20)\n",
            "Collecting mock\n",
            "  Downloading https://files.pythonhosted.org/packages/cd/74/d72daf8dff5b6566db857cfd088907bb0355f5dd2914c4b3ef065c790735/mock-4.0.2-py3-none-any.whl\n",
            "Requirement already satisfied: pytz>=2017.2 in /usr/local/lib/python3.6/dist-packages (from pandas->wrds) (2018.9)\n",
            "Requirement already satisfied: numpy>=1.15.4 in /usr/local/lib/python3.6/dist-packages (from pandas->wrds) (1.18.5)\n",
            "Requirement already satisfied: python-dateutil>=2.7.3 in /usr/local/lib/python3.6/dist-packages (from pandas->wrds) (2.8.1)\n",
            "Requirement already satisfied: six>=1.5 in /usr/local/lib/python3.6/dist-packages (from python-dateutil>=2.7.3->pandas->wrds) (1.15.0)\n",
            "Installing collected packages: psycopg2-binary, mock, wrds\n",
            "Successfully installed mock-4.0.2 psycopg2-binary-2.8.6 wrds-3.0.8\n"
          ],
          "name": "stdout"
        }
      ]
    },
    {
      "cell_type": "code",
      "metadata": {
        "colab": {
          "base_uri": "https://localhost:8080/"
        },
        "id": "S7dbbC5tcZ3R",
        "outputId": "69e8f999-ac30-43f6-cb7a-d3697c5f358b"
      },
      "source": [
        "from google.colab import drive\n",
        "drive.mount('/content/drive')"
      ],
      "execution_count": 1,
      "outputs": [
        {
          "output_type": "stream",
          "text": [
            "Mounted at /content/drive\n"
          ],
          "name": "stdout"
        }
      ]
    },
    {
      "cell_type": "markdown",
      "metadata": {
        "id": "tj0v-L_5cOaE"
      },
      "source": [
        "## Connecting to WRDS SQL engine"
      ]
    },
    {
      "cell_type": "code",
      "metadata": {
        "colab": {
          "base_uri": "https://localhost:8080/"
        },
        "id": "ZyII3ReEcOaE",
        "outputId": "ea0c8384-dc53-439d-cdb3-5e0676e671ac"
      },
      "source": [
        "import wrds\n",
        "import pandas as pd\n",
        "import numpy as np\n",
        "\n",
        "db = wrds.Connection(wrds_username='jessicawijaya')\n"
      ],
      "execution_count": null,
      "outputs": [
        {
          "output_type": "stream",
          "text": [
            "Enter your WRDS username [root]:jessicawijaya\n",
            "Enter your password:··········\n",
            "WRDS recommends setting up a .pgpass file.\n",
            "You can find more info here:\n",
            "https://www.postgresql.org/docs/9.5/static/libpq-pgpass.html.\n",
            "Loading library list...\n",
            "Done\n"
          ],
          "name": "stdout"
        }
      ]
    },
    {
      "cell_type": "markdown",
      "metadata": {
        "id": "qpb_hdPMcOaE"
      },
      "source": [
        "## Download sp500 Index Membership (since 2000)\n",
        "\n",
        "Instructions from \n",
        "https://wrds-www.wharton.upenn.edu/pages/support/applications/python-replications/historical-sp-500-index-constituents/\n"
      ]
    },
    {
      "cell_type": "code",
      "metadata": {
        "id": "ICo_Tm1EcOaE"
      },
      "source": [
        "### Step 2: Get SP500 Index Membership from CRSP\n",
        "### I opt for the monthly frequency of the data, \n",
        "### but one can choose to work with crsp.dsp500list \n",
        "### if more precise date range is needed.\n",
        "\n",
        "sp500 = db.raw_sql(\"\"\"\n",
        "                    select a.*, b.date, b.ret\n",
        "                    from crsp.msp500list as a,\n",
        "                    crsp.msf as b\n",
        "                    where a.permno=b.permno\n",
        "                    and b.date >= a.start and b.date<= a.ending\n",
        "                    and b.date>='01/01/2000'\n",
        "                    order by date;\n",
        "                    \"\"\", date_cols=['start', 'ending', 'date'])"
      ],
      "execution_count": null,
      "outputs": []
    },
    {
      "cell_type": "code",
      "metadata": {
        "id": "WuCOe9AecOaE"
      },
      "source": [
        "### Step 3: Add Other Company Identifiers from CRSP.MSENAMES\n",
        "### - You don't need this step if only PERMNO is required\n",
        "### - This step aims to add TICKER, SHRCD, EXCHCD and etc. \n",
        "\n",
        "mse =db.raw_sql(\"\"\"\n",
        "                select comnam, ncusip, namedt, nameendt, \n",
        "                permno, shrcd, exchcd, hsiccd, ticker\n",
        "                from crsp.msenames\n",
        "                \"\"\", date_cols=['namedt', 'nameendt'])\n",
        "\n",
        "# if nameendt is missing then set to today date\n",
        "mse['nameendt']=mse['nameendt'].fillna(pd.to_datetime('today'))\n",
        "\n",
        "# Merge with SP500 data\n",
        "sp500_full = pd.merge(sp500, mse, how = 'left', on = 'permno')\n",
        "\n",
        "# Impose the date range restrictions\n",
        "sp500_full = sp500_full.loc[(sp500_full.date>=sp500_full.namedt) & (sp500_full.date<=sp500_full.nameendt)]\n"
      ],
      "execution_count": null,
      "outputs": []
    },
    {
      "cell_type": "code",
      "metadata": {
        "id": "kNdd9smhcOaE"
      },
      "source": [
        "### Step 4: Add Compustat Identifiers\n",
        "### - Link with Compustat's GVKEY and IID if need to work with fundamental data\n",
        "### - Linkage is done through crsp.ccmxpf_linktable\n",
        "\n",
        "ccm = db.raw_sql(\"\"\"\n",
        "                  select gvkey, liid as iid, lpermno as permno,\n",
        "                  linktype, linkprim, linkdt, linkenddt\n",
        "                  from crsp.ccmxpf_linktable\n",
        "                  where substr(linktype,1,1)='L'\n",
        "                  and (linkprim ='C' or linkprim='P')\n",
        "                  \"\"\", date_cols=['linkdt', 'linkenddt'])\n",
        "\n",
        "# if linkenddt is missing then set to today date\n",
        "ccm['linkenddt']=ccm['linkenddt'].fillna(pd.to_datetime('today'))\n",
        "\n",
        "# Merge the CCM data with S&P500 data\n",
        "# First just link by matching PERMNO\n",
        "sp500ccm = pd.merge(sp500_full, ccm, how='left', on=['permno'])\n",
        "\n",
        "# Then set link date bounds\n",
        "sp500ccm = sp500ccm.loc[(sp500ccm['date']>=sp500ccm['linkdt'])\\\n",
        "                        &(sp500ccm['date']<=sp500ccm['linkenddt'])]\n",
        "\n",
        "# Rearrange columns for final output\n",
        "\n",
        "sp500ccm = sp500ccm.drop(columns=['namedt', 'nameendt', 'linktype', \\\n",
        "                                  'linkprim', 'linkdt', 'linkenddt'])\n",
        "sp500ccm = sp500ccm[['date', 'permno', 'comnam', 'ncusip',\\\n",
        "                     'shrcd', 'exchcd', 'hsiccd', 'ticker', \\\n",
        "                     'gvkey', 'iid', 'start', 'ending', 'ret']]"
      ],
      "execution_count": null,
      "outputs": []
    },
    {
      "cell_type": "code",
      "metadata": {
        "id": "DtOcNBHxcOaF"
      },
      "source": [
        "# saving list of companies to txt file -> fed to compustat page for web query\n",
        "np.savetxt('/content/drive/MyDrive/abnormal-distribution-project-data/compustat_keydev/sp500gvkey.txt', sp500ccm['gvkey'].unique(), fmt=\"%s\",delimiter=' ')\n",
        "sp500ccm.to_csv(\"/content/drive/MyDrive/abnormal-distribution-project-data/compustat_keydev/sp500ccm.csv\")"
      ],
      "execution_count": null,
      "outputs": []
    },
    {
      "cell_type": "markdown",
      "metadata": {
        "id": "ZR_oVJPjcOaF"
      },
      "source": [
        "## Preprocess Key Dev data\n",
        "\n",
        "- Read output from Compustat Web Query\n",
        "- clean data (drop rows with null headlines/key dev articles)\n",
        "- process the dates\n",
        "- merge with sp500 data above to get the company ticker"
      ]
    },
    {
      "cell_type": "code",
      "metadata": {
        "id": "sczA_JhrcOaF"
      },
      "source": [
        "import pandas as pd\n",
        "import numpy as np\n",
        "\n",
        "sp500ccm = pd.read_csv(\"/content/drive/MyDrive/abnormal-distribution-project-data/compustat_keydev/sp500ccm.csv\")\n",
        "gvkey_ticker_mapping = sp500ccm[['gvkey','ticker']].drop_duplicates('gvkey', keep='last')\n",
        "\n",
        "df_keydev = pd.read_csv(\"/content/drive/MyDrive/abnormal-distribution-project-data/compustat_keydev/raw_keydev_data.csv\")"
      ],
      "execution_count": null,
      "outputs": []
    },
    {
      "cell_type": "code",
      "metadata": {
        "colab": {
          "base_uri": "https://localhost:8080/",
          "height": 933
        },
        "id": "vIJU185QcOaF",
        "outputId": "b50e3e1c-d099-40b3-c8be-5489b955964f"
      },
      "source": [
        "print(df_keydev.shape)\n",
        "df_keydev.head()"
      ],
      "execution_count": null,
      "outputs": [
        {
          "output_type": "stream",
          "text": [
            "(1070993, 13)\n"
          ],
          "name": "stdout"
        },
        {
          "output_type": "execute_result",
          "data": {
            "text/html": [
              "<div>\n",
              "<style scoped>\n",
              "    .dataframe tbody tr th:only-of-type {\n",
              "        vertical-align: middle;\n",
              "    }\n",
              "\n",
              "    .dataframe tbody tr th {\n",
              "        vertical-align: top;\n",
              "    }\n",
              "\n",
              "    .dataframe thead th {\n",
              "        text-align: right;\n",
              "    }\n",
              "</style>\n",
              "<table border=\"1\" class=\"dataframe\">\n",
              "  <thead>\n",
              "    <tr style=\"text-align: right;\">\n",
              "      <th></th>\n",
              "      <th>keydevid</th>\n",
              "      <th>companyid</th>\n",
              "      <th>companyname</th>\n",
              "      <th>keydeveventtypeid</th>\n",
              "      <th>keydevstatusid</th>\n",
              "      <th>keydevtoobjectroletypeid</th>\n",
              "      <th>announcedate</th>\n",
              "      <th>announcetime</th>\n",
              "      <th>enterdate</th>\n",
              "      <th>entertime</th>\n",
              "      <th>gvkey</th>\n",
              "      <th>headline</th>\n",
              "      <th>situation</th>\n",
              "    </tr>\n",
              "  </thead>\n",
              "  <tbody>\n",
              "    <tr>\n",
              "      <th>0</th>\n",
              "      <td>2</td>\n",
              "      <td>18671</td>\n",
              "      <td>Albemarle Corporation</td>\n",
              "      <td>3.0</td>\n",
              "      <td>1.0</td>\n",
              "      <td>1.0</td>\n",
              "      <td>20030423.0</td>\n",
              "      <td>12:00:00 AM</td>\n",
              "      <td>20010101.0</td>\n",
              "      <td>12:00:00 AM</td>\n",
              "      <td>29751.0</td>\n",
              "      <td>Albemarle Corporation is considering acquisitions.</td>\n",
              "      <td>Albemarle Corporation announced that it is interested in making acquisitions in the fine chemica...</td>\n",
              "    </tr>\n",
              "    <tr>\n",
              "      <th>1</th>\n",
              "      <td>4</td>\n",
              "      <td>18921</td>\n",
              "      <td>AT&amp;T Corp.</td>\n",
              "      <td>3.0</td>\n",
              "      <td>1.0</td>\n",
              "      <td>1.0</td>\n",
              "      <td>20030131.0</td>\n",
              "      <td>12:00:00 AM</td>\n",
              "      <td>20010101.0</td>\n",
              "      <td>12:00:00 AM</td>\n",
              "      <td>1581.0</td>\n",
              "      <td>AT&amp;T Corp. is considering acquisitions.</td>\n",
              "      <td>AT&amp;T Corp. announced that it could use up to $5 billion to acquire assets, both domestically and...</td>\n",
              "    </tr>\n",
              "    <tr>\n",
              "      <th>2</th>\n",
              "      <td>6</td>\n",
              "      <td>19007</td>\n",
              "      <td>Baker Hughes, a GE company, LLC</td>\n",
              "      <td>3.0</td>\n",
              "      <td>1.0</td>\n",
              "      <td>1.0</td>\n",
              "      <td>20030213.0</td>\n",
              "      <td>12:00:00 AM</td>\n",
              "      <td>20010101.0</td>\n",
              "      <td>12:00:00 AM</td>\n",
              "      <td>1976.0</td>\n",
              "      <td>Baker Hughes Incorporated is considering acquisitions.</td>\n",
              "      <td>Baker Hughes Inc. is evaluating various strategic options including external investment opportun...</td>\n",
              "    </tr>\n",
              "    <tr>\n",
              "      <th>3</th>\n",
              "      <td>9</td>\n",
              "      <td>19049</td>\n",
              "      <td>Bank of America Corporation</td>\n",
              "      <td>3.0</td>\n",
              "      <td>1.0</td>\n",
              "      <td>1.0</td>\n",
              "      <td>20030518.0</td>\n",
              "      <td>12:00:00 AM</td>\n",
              "      <td>20010101.0</td>\n",
              "      <td>12:00:00 AM</td>\n",
              "      <td>7647.0</td>\n",
              "      <td>Bank of America Corporation is considering acquisitions.</td>\n",
              "      <td>Bank of America is looking for acquisitions in the UK and has held exploratory talks with severa...</td>\n",
              "    </tr>\n",
              "    <tr>\n",
              "      <th>4</th>\n",
              "      <td>13</td>\n",
              "      <td>19109</td>\n",
              "      <td>Truist Financial Corporation</td>\n",
              "      <td>3.0</td>\n",
              "      <td>1.0</td>\n",
              "      <td>1.0</td>\n",
              "      <td>20030424.0</td>\n",
              "      <td>12:00:00 AM</td>\n",
              "      <td>20010101.0</td>\n",
              "      <td>12:00:00 AM</td>\n",
              "      <td>11856.0</td>\n",
              "      <td>BB&amp;T Corporation is considering acquisitions.</td>\n",
              "      <td>BB&amp;T Corp. is looking for possible acquisitions in Ohio and neighboring states.</td>\n",
              "    </tr>\n",
              "  </tbody>\n",
              "</table>\n",
              "</div>"
            ],
            "text/plain": [
              "  keydevid  ...                                                                                            situation\n",
              "0        2  ...  Albemarle Corporation announced that it is interested in making acquisitions in the fine chemica...\n",
              "1        4  ...  AT&T Corp. announced that it could use up to $5 billion to acquire assets, both domestically and...\n",
              "2        6  ...  Baker Hughes Inc. is evaluating various strategic options including external investment opportun...\n",
              "3        9  ...  Bank of America is looking for acquisitions in the UK and has held exploratory talks with severa...\n",
              "4       13  ...                      BB&T Corp. is looking for possible acquisitions in Ohio and neighboring states.\n",
              "\n",
              "[5 rows x 13 columns]"
            ]
          },
          "metadata": {
            "tags": []
          },
          "execution_count": 47
        }
      ]
    },
    {
      "cell_type": "code",
      "metadata": {
        "colab": {
          "base_uri": "https://localhost:8080/"
        },
        "id": "D5KpbrEAcOaF",
        "outputId": "7e3e1eeb-6cb2-4936-c646-967fedd2ad20"
      },
      "source": [
        "df_keydev_cleaned = df_keydev.dropna()\n",
        "df_keydev_cleaned.shape"
      ],
      "execution_count": null,
      "outputs": [
        {
          "output_type": "execute_result",
          "data": {
            "text/plain": [
              "(989538, 13)"
            ]
          },
          "metadata": {
            "tags": []
          },
          "execution_count": 71
        }
      ]
    },
    {
      "cell_type": "code",
      "metadata": {
        "colab": {
          "base_uri": "https://localhost:8080/",
          "height": 1000
        },
        "id": "lXzH5h7wcOaF",
        "outputId": "310c8787-9e08-4557-ea28-36ec3b6e08de"
      },
      "source": [
        "df_keydev_cleaned.loc[:,'announcedate'] = pd.to_datetime(df_keydev_cleaned['announcedate'].astype(int).astype(str), format='%Y%m%d')\n",
        "df_keydev_cleaned.loc[:,'enterdate'] = pd.to_datetime(df_keydev_cleaned['enterdate'].astype(int).astype(str), format='%Y%m%d')\n",
        "print(df_keydev_cleaned.shape)\n",
        "df_keydev_cleaned.head()\n"
      ],
      "execution_count": null,
      "outputs": [
        {
          "output_type": "stream",
          "text": [
            "/usr/local/lib/python3.6/dist-packages/pandas/core/indexing.py:1743: SettingWithCopyWarning: \n",
            "A value is trying to be set on a copy of a slice from a DataFrame.\n",
            "Try using .loc[row_indexer,col_indexer] = value instead\n",
            "\n",
            "See the caveats in the documentation: https://pandas.pydata.org/pandas-docs/stable/user_guide/indexing.html#returning-a-view-versus-a-copy\n",
            "  isetter(ilocs[0], value)\n"
          ],
          "name": "stderr"
        },
        {
          "output_type": "stream",
          "text": [
            "(989538, 13)\n"
          ],
          "name": "stdout"
        },
        {
          "output_type": "execute_result",
          "data": {
            "text/html": [
              "<div>\n",
              "<style scoped>\n",
              "    .dataframe tbody tr th:only-of-type {\n",
              "        vertical-align: middle;\n",
              "    }\n",
              "\n",
              "    .dataframe tbody tr th {\n",
              "        vertical-align: top;\n",
              "    }\n",
              "\n",
              "    .dataframe thead th {\n",
              "        text-align: right;\n",
              "    }\n",
              "</style>\n",
              "<table border=\"1\" class=\"dataframe\">\n",
              "  <thead>\n",
              "    <tr style=\"text-align: right;\">\n",
              "      <th></th>\n",
              "      <th>keydevid</th>\n",
              "      <th>companyid</th>\n",
              "      <th>companyname</th>\n",
              "      <th>keydeveventtypeid</th>\n",
              "      <th>keydevstatusid</th>\n",
              "      <th>keydevtoobjectroletypeid</th>\n",
              "      <th>announcedate</th>\n",
              "      <th>announcetime</th>\n",
              "      <th>enterdate</th>\n",
              "      <th>entertime</th>\n",
              "      <th>gvkey</th>\n",
              "      <th>headline</th>\n",
              "      <th>situation</th>\n",
              "    </tr>\n",
              "  </thead>\n",
              "  <tbody>\n",
              "    <tr>\n",
              "      <th>0</th>\n",
              "      <td>2</td>\n",
              "      <td>18671</td>\n",
              "      <td>Albemarle Corporation</td>\n",
              "      <td>3.0</td>\n",
              "      <td>1.0</td>\n",
              "      <td>1.0</td>\n",
              "      <td>2003-04-23</td>\n",
              "      <td>12:00:00 AM</td>\n",
              "      <td>2001-01-01</td>\n",
              "      <td>12:00:00 AM</td>\n",
              "      <td>29751.0</td>\n",
              "      <td>Albemarle Corporation is considering acquisitions.</td>\n",
              "      <td>Albemarle Corporation announced that it is interested in making acquisitions in the fine chemica...</td>\n",
              "    </tr>\n",
              "    <tr>\n",
              "      <th>1</th>\n",
              "      <td>4</td>\n",
              "      <td>18921</td>\n",
              "      <td>AT&amp;T Corp.</td>\n",
              "      <td>3.0</td>\n",
              "      <td>1.0</td>\n",
              "      <td>1.0</td>\n",
              "      <td>2003-01-31</td>\n",
              "      <td>12:00:00 AM</td>\n",
              "      <td>2001-01-01</td>\n",
              "      <td>12:00:00 AM</td>\n",
              "      <td>1581.0</td>\n",
              "      <td>AT&amp;T Corp. is considering acquisitions.</td>\n",
              "      <td>AT&amp;T Corp. announced that it could use up to $5 billion to acquire assets, both domestically and...</td>\n",
              "    </tr>\n",
              "    <tr>\n",
              "      <th>2</th>\n",
              "      <td>6</td>\n",
              "      <td>19007</td>\n",
              "      <td>Baker Hughes, a GE company, LLC</td>\n",
              "      <td>3.0</td>\n",
              "      <td>1.0</td>\n",
              "      <td>1.0</td>\n",
              "      <td>2003-02-13</td>\n",
              "      <td>12:00:00 AM</td>\n",
              "      <td>2001-01-01</td>\n",
              "      <td>12:00:00 AM</td>\n",
              "      <td>1976.0</td>\n",
              "      <td>Baker Hughes Incorporated is considering acquisitions.</td>\n",
              "      <td>Baker Hughes Inc. is evaluating various strategic options including external investment opportun...</td>\n",
              "    </tr>\n",
              "    <tr>\n",
              "      <th>3</th>\n",
              "      <td>9</td>\n",
              "      <td>19049</td>\n",
              "      <td>Bank of America Corporation</td>\n",
              "      <td>3.0</td>\n",
              "      <td>1.0</td>\n",
              "      <td>1.0</td>\n",
              "      <td>2003-05-18</td>\n",
              "      <td>12:00:00 AM</td>\n",
              "      <td>2001-01-01</td>\n",
              "      <td>12:00:00 AM</td>\n",
              "      <td>7647.0</td>\n",
              "      <td>Bank of America Corporation is considering acquisitions.</td>\n",
              "      <td>Bank of America is looking for acquisitions in the UK and has held exploratory talks with severa...</td>\n",
              "    </tr>\n",
              "    <tr>\n",
              "      <th>4</th>\n",
              "      <td>13</td>\n",
              "      <td>19109</td>\n",
              "      <td>Truist Financial Corporation</td>\n",
              "      <td>3.0</td>\n",
              "      <td>1.0</td>\n",
              "      <td>1.0</td>\n",
              "      <td>2003-04-24</td>\n",
              "      <td>12:00:00 AM</td>\n",
              "      <td>2001-01-01</td>\n",
              "      <td>12:00:00 AM</td>\n",
              "      <td>11856.0</td>\n",
              "      <td>BB&amp;T Corporation is considering acquisitions.</td>\n",
              "      <td>BB&amp;T Corp. is looking for possible acquisitions in Ohio and neighboring states.</td>\n",
              "    </tr>\n",
              "  </tbody>\n",
              "</table>\n",
              "</div>"
            ],
            "text/plain": [
              "  keydevid  ...                                                                                            situation\n",
              "0        2  ...  Albemarle Corporation announced that it is interested in making acquisitions in the fine chemica...\n",
              "1        4  ...  AT&T Corp. announced that it could use up to $5 billion to acquire assets, both domestically and...\n",
              "2        6  ...  Baker Hughes Inc. is evaluating various strategic options including external investment opportun...\n",
              "3        9  ...  Bank of America is looking for acquisitions in the UK and has held exploratory talks with severa...\n",
              "4       13  ...                      BB&T Corp. is looking for possible acquisitions in Ohio and neighboring states.\n",
              "\n",
              "[5 rows x 13 columns]"
            ]
          },
          "metadata": {
            "tags": []
          },
          "execution_count": 72
        }
      ]
    },
    {
      "cell_type": "code",
      "metadata": {
        "colab": {
          "base_uri": "https://localhost:8080/",
          "height": 933
        },
        "id": "Obkl7kO6cOaF",
        "outputId": "d5dfd2ca-f9ed-41ea-dde6-409179366f19"
      },
      "source": [
        "df_keydev_cleaned = pd.merge(df_keydev_cleaned, gvkey_ticker_mapping, how='left', left_on=\"gvkey\", right_on=\"gvkey\")\n",
        "print(df_keydev_cleaned.shape)\n",
        "df_keydev_cleaned.head()"
      ],
      "execution_count": null,
      "outputs": [
        {
          "output_type": "stream",
          "text": [
            "(989538, 14)\n"
          ],
          "name": "stdout"
        },
        {
          "output_type": "execute_result",
          "data": {
            "text/html": [
              "<div>\n",
              "<style scoped>\n",
              "    .dataframe tbody tr th:only-of-type {\n",
              "        vertical-align: middle;\n",
              "    }\n",
              "\n",
              "    .dataframe tbody tr th {\n",
              "        vertical-align: top;\n",
              "    }\n",
              "\n",
              "    .dataframe thead th {\n",
              "        text-align: right;\n",
              "    }\n",
              "</style>\n",
              "<table border=\"1\" class=\"dataframe\">\n",
              "  <thead>\n",
              "    <tr style=\"text-align: right;\">\n",
              "      <th></th>\n",
              "      <th>keydevid</th>\n",
              "      <th>companyid</th>\n",
              "      <th>companyname</th>\n",
              "      <th>keydeveventtypeid</th>\n",
              "      <th>keydevstatusid</th>\n",
              "      <th>keydevtoobjectroletypeid</th>\n",
              "      <th>announcedate</th>\n",
              "      <th>announcetime</th>\n",
              "      <th>enterdate</th>\n",
              "      <th>entertime</th>\n",
              "      <th>gvkey</th>\n",
              "      <th>headline</th>\n",
              "      <th>situation</th>\n",
              "      <th>ticker</th>\n",
              "    </tr>\n",
              "  </thead>\n",
              "  <tbody>\n",
              "    <tr>\n",
              "      <th>0</th>\n",
              "      <td>2</td>\n",
              "      <td>18671</td>\n",
              "      <td>Albemarle Corporation</td>\n",
              "      <td>3.0</td>\n",
              "      <td>1.0</td>\n",
              "      <td>1.0</td>\n",
              "      <td>2003-04-23</td>\n",
              "      <td>12:00:00 AM</td>\n",
              "      <td>2001-01-01</td>\n",
              "      <td>12:00:00 AM</td>\n",
              "      <td>29751.0</td>\n",
              "      <td>Albemarle Corporation is considering acquisitions.</td>\n",
              "      <td>Albemarle Corporation announced that it is interested in making acquisitions in the fine chemica...</td>\n",
              "      <td>ALB</td>\n",
              "    </tr>\n",
              "    <tr>\n",
              "      <th>1</th>\n",
              "      <td>4</td>\n",
              "      <td>18921</td>\n",
              "      <td>AT&amp;T Corp.</td>\n",
              "      <td>3.0</td>\n",
              "      <td>1.0</td>\n",
              "      <td>1.0</td>\n",
              "      <td>2003-01-31</td>\n",
              "      <td>12:00:00 AM</td>\n",
              "      <td>2001-01-01</td>\n",
              "      <td>12:00:00 AM</td>\n",
              "      <td>1581.0</td>\n",
              "      <td>AT&amp;T Corp. is considering acquisitions.</td>\n",
              "      <td>AT&amp;T Corp. announced that it could use up to $5 billion to acquire assets, both domestically and...</td>\n",
              "      <td>T</td>\n",
              "    </tr>\n",
              "    <tr>\n",
              "      <th>2</th>\n",
              "      <td>6</td>\n",
              "      <td>19007</td>\n",
              "      <td>Baker Hughes, a GE company, LLC</td>\n",
              "      <td>3.0</td>\n",
              "      <td>1.0</td>\n",
              "      <td>1.0</td>\n",
              "      <td>2003-02-13</td>\n",
              "      <td>12:00:00 AM</td>\n",
              "      <td>2001-01-01</td>\n",
              "      <td>12:00:00 AM</td>\n",
              "      <td>1976.0</td>\n",
              "      <td>Baker Hughes Incorporated is considering acquisitions.</td>\n",
              "      <td>Baker Hughes Inc. is evaluating various strategic options including external investment opportun...</td>\n",
              "      <td>BHI</td>\n",
              "    </tr>\n",
              "    <tr>\n",
              "      <th>3</th>\n",
              "      <td>9</td>\n",
              "      <td>19049</td>\n",
              "      <td>Bank of America Corporation</td>\n",
              "      <td>3.0</td>\n",
              "      <td>1.0</td>\n",
              "      <td>1.0</td>\n",
              "      <td>2003-05-18</td>\n",
              "      <td>12:00:00 AM</td>\n",
              "      <td>2001-01-01</td>\n",
              "      <td>12:00:00 AM</td>\n",
              "      <td>7647.0</td>\n",
              "      <td>Bank of America Corporation is considering acquisitions.</td>\n",
              "      <td>Bank of America is looking for acquisitions in the UK and has held exploratory talks with severa...</td>\n",
              "      <td>BAC</td>\n",
              "    </tr>\n",
              "    <tr>\n",
              "      <th>4</th>\n",
              "      <td>13</td>\n",
              "      <td>19109</td>\n",
              "      <td>Truist Financial Corporation</td>\n",
              "      <td>3.0</td>\n",
              "      <td>1.0</td>\n",
              "      <td>1.0</td>\n",
              "      <td>2003-04-24</td>\n",
              "      <td>12:00:00 AM</td>\n",
              "      <td>2001-01-01</td>\n",
              "      <td>12:00:00 AM</td>\n",
              "      <td>11856.0</td>\n",
              "      <td>BB&amp;T Corporation is considering acquisitions.</td>\n",
              "      <td>BB&amp;T Corp. is looking for possible acquisitions in Ohio and neighboring states.</td>\n",
              "      <td>TFC</td>\n",
              "    </tr>\n",
              "  </tbody>\n",
              "</table>\n",
              "</div>"
            ],
            "text/plain": [
              "  keydevid  ... ticker\n",
              "0        2  ...    ALB\n",
              "1        4  ...      T\n",
              "2        6  ...    BHI\n",
              "3        9  ...    BAC\n",
              "4       13  ...    TFC\n",
              "\n",
              "[5 rows x 14 columns]"
            ]
          },
          "metadata": {
            "tags": []
          },
          "execution_count": 73
        }
      ]
    },
    {
      "cell_type": "code",
      "metadata": {
        "colab": {
          "base_uri": "https://localhost:8080/",
          "height": 110
        },
        "id": "uXFAOIYtg9u1",
        "outputId": "41e8b8f3-bc1b-46cc-e192-a7b2325986c0"
      },
      "source": [
        "df_keydev_cleaned[df_keydev_cleaned['ticker'].isna()][['gvkey','companyname']].drop_duplicates()"
      ],
      "execution_count": null,
      "outputs": [
        {
          "output_type": "execute_result",
          "data": {
            "text/html": [
              "<div>\n",
              "<style scoped>\n",
              "    .dataframe tbody tr th:only-of-type {\n",
              "        vertical-align: middle;\n",
              "    }\n",
              "\n",
              "    .dataframe tbody tr th {\n",
              "        vertical-align: top;\n",
              "    }\n",
              "\n",
              "    .dataframe thead th {\n",
              "        text-align: right;\n",
              "    }\n",
              "</style>\n",
              "<table border=\"1\" class=\"dataframe\">\n",
              "  <thead>\n",
              "    <tr style=\"text-align: right;\">\n",
              "      <th></th>\n",
              "      <th>gvkey</th>\n",
              "      <th>companyname</th>\n",
              "    </tr>\n",
              "  </thead>\n",
              "  <tbody>\n",
              "    <tr>\n",
              "      <th>2029</th>\n",
              "      <td>111970.0</td>\n",
              "      <td>Nielsen Media Research, Inc.</td>\n",
              "    </tr>\n",
              "    <tr>\n",
              "      <th>762503</th>\n",
              "      <td>163500.0</td>\n",
              "      <td>Paragon Offshore Drilling LLC</td>\n",
              "    </tr>\n",
              "  </tbody>\n",
              "</table>\n",
              "</div>"
            ],
            "text/plain": [
              "           gvkey                    companyname\n",
              "2029    111970.0   Nielsen Media Research, Inc.\n",
              "762503  163500.0  Paragon Offshore Drilling LLC"
            ]
          },
          "metadata": {
            "tags": []
          },
          "execution_count": 74
        }
      ]
    },
    {
      "cell_type": "code",
      "metadata": {
        "colab": {
          "base_uri": "https://localhost:8080/",
          "height": 69
        },
        "id": "D4oea9KHgzJJ",
        "outputId": "02248d9e-0b3a-41a1-de9d-9a00cf1f83b0"
      },
      "source": [
        "# manual input for these 2 companies:\n",
        "\n",
        "# Nielsen Media Research, Inc.\n",
        "df_keydev_cleaned.loc[df_keydev_cleaned['gvkey']==111970, 'ticker'] = 'NLSN'\n",
        "\n",
        "# Paragon Offshore Drilling LLC\n",
        "df_keydev_cleaned.loc[df_keydev_cleaned['gvkey']==163500, 'ticker'] = 'PGNPQ'\n",
        "\n",
        "df_keydev_cleaned[df_keydev_cleaned['ticker'].isna()]"
      ],
      "execution_count": null,
      "outputs": [
        {
          "output_type": "execute_result",
          "data": {
            "text/html": [
              "<div>\n",
              "<style scoped>\n",
              "    .dataframe tbody tr th:only-of-type {\n",
              "        vertical-align: middle;\n",
              "    }\n",
              "\n",
              "    .dataframe tbody tr th {\n",
              "        vertical-align: top;\n",
              "    }\n",
              "\n",
              "    .dataframe thead th {\n",
              "        text-align: right;\n",
              "    }\n",
              "</style>\n",
              "<table border=\"1\" class=\"dataframe\">\n",
              "  <thead>\n",
              "    <tr style=\"text-align: right;\">\n",
              "      <th></th>\n",
              "      <th>keydevid</th>\n",
              "      <th>companyid</th>\n",
              "      <th>companyname</th>\n",
              "      <th>keydeveventtypeid</th>\n",
              "      <th>keydevstatusid</th>\n",
              "      <th>keydevtoobjectroletypeid</th>\n",
              "      <th>announcedate</th>\n",
              "      <th>announcetime</th>\n",
              "      <th>enterdate</th>\n",
              "      <th>entertime</th>\n",
              "      <th>gvkey</th>\n",
              "      <th>headline</th>\n",
              "      <th>situation</th>\n",
              "      <th>ticker</th>\n",
              "    </tr>\n",
              "  </thead>\n",
              "  <tbody>\n",
              "  </tbody>\n",
              "</table>\n",
              "</div>"
            ],
            "text/plain": [
              "Empty DataFrame\n",
              "Columns: [keydevid, companyid, companyname, keydeveventtypeid, keydevstatusid, keydevtoobjectroletypeid, announcedate, announcetime, enterdate, entertime, gvkey, headline, situation, ticker]\n",
              "Index: []"
            ]
          },
          "metadata": {
            "tags": []
          },
          "execution_count": 75
        }
      ]
    },
    {
      "cell_type": "code",
      "metadata": {
        "colab": {
          "base_uri": "https://localhost:8080/"
        },
        "id": "M1KGIy4JcOaF",
        "outputId": "6d98dc47-8f5d-435e-f423-ec7e42006b50"
      },
      "source": [
        "df_keydev_cleaned['companyname'].value_counts(ascending=False).head(20)"
      ],
      "execution_count": null,
      "outputs": [
        {
          "output_type": "execute_result",
          "data": {
            "text/plain": [
              "JPMorgan Chase & Co.                           17407\n",
              "The Goldman Sachs Group, Inc.                  14159\n",
              "Citigroup Inc.                                 11503\n",
              "International Business Machines Corporation    11188\n",
              "Microsoft Corporation                          10320\n",
              "Bank of America Corporation                     8586\n",
              "AT&T Inc.                                       7548\n",
              "The Boeing Company                              6487\n",
              "Cisco Systems, Inc.                             6171\n",
              "HP Inc.                                         5895\n",
              "Wells Fargo & Company                           5832\n",
              "Oracle Corporation                              5623\n",
              "Lockheed Martin Corporation                     5595\n",
              "General Electric Company                        5116\n",
              "Pfizer Inc.                                     4829\n",
              "Ford Motor Company                              4707\n",
              "Alphabet Inc.                                   4572\n",
              "Intel Corporation                               4572\n",
              "Motorola Solutions, Inc.                        4248\n",
              "Merrill Lynch & Co., Inc.                       4095\n",
              "Name: companyname, dtype: int64"
            ]
          },
          "metadata": {
            "tags": []
          },
          "execution_count": 76
        }
      ]
    },
    {
      "cell_type": "code",
      "metadata": {
        "id": "tjbWs70acOaF"
      },
      "source": [
        "df_keydev_cleaned['WC_headline'] = df_keydev_cleaned['headline'].str.split().str.len()\n",
        "df_keydev_cleaned['WC_situation'] = df_keydev_cleaned['situation'].str.split().str.len()"
      ],
      "execution_count": null,
      "outputs": []
    },
    {
      "cell_type": "code",
      "metadata": {
        "id": "cTvlX3kHjahc"
      },
      "source": [
        "df_keydev_cleaned.to_csv(\"/content/drive/MyDrive/abnormal-distribution-project-data/compustat_keydev/preprocessed_keydev_data.csv\", index=False)"
      ],
      "execution_count": null,
      "outputs": []
    },
    {
      "cell_type": "markdown",
      "metadata": {
        "id": "fQCmP04BjSFT"
      },
      "source": [
        "### Exploring the key dev for qualcomm longest texts"
      ]
    },
    {
      "cell_type": "code",
      "metadata": {
        "id": "URW29BJLW6i0"
      },
      "source": [
        "import pandas as pd\n",
        "import numpy as np\n",
        "import matplotlib.pyplot as plt\n",
        "\n",
        "# df_keydev_cleaned = pd.read_csv(\"/content/drive/MyDrive/abnormal-distribution-project-data/compustat_keydev/preprocessed_keydev_data.csv\")\n",
        "# df_keydev_cleaned.head()"
      ],
      "execution_count": 11,
      "outputs": []
    },
    {
      "cell_type": "code",
      "metadata": {
        "colab": {
          "base_uri": "https://localhost:8080/",
          "height": 265
        },
        "id": "QD9b-DRCiwxk",
        "outputId": "660e92f1-4f66-4770-bd37-b3fb3bc24298"
      },
      "source": [
        "plt.hist(df_keydev_cleaned['WC_situation'], bins=100)\n",
        "plt.show()"
      ],
      "execution_count": null,
      "outputs": [
        {
          "output_type": "display_data",
          "data": {
            "image/png": "[encoded data removed]",
            "text/plain": [
              "<Figure size 432x288 with 1 Axes>"
            ]
          },
          "metadata": {
            "tags": [],
            "needs_background": "light"
          }
        }
      ]
    },
    {
      "cell_type": "code",
      "metadata": {
        "colab": {
          "base_uri": "https://localhost:8080/",
          "height": 933
        },
        "id": "aVK-fq42cOaF",
        "outputId": "bc6c9ec9-6971-4e6e-fc24-a566e84104cf"
      },
      "source": [
        "pd.set_option('display.max_colwidth', 100)\n",
        "\n",
        "QCOM_data = df_keydev_cleaned[df_keydev_cleaned['ticker']=='QCOM']\n",
        "QCOM_data.head()"
      ],
      "execution_count": null,
      "outputs": [
        {
          "output_type": "execute_result",
          "data": {
            "text/html": [
              "<div>\n",
              "<style scoped>\n",
              "    .dataframe tbody tr th:only-of-type {\n",
              "        vertical-align: middle;\n",
              "    }\n",
              "\n",
              "    .dataframe tbody tr th {\n",
              "        vertical-align: top;\n",
              "    }\n",
              "\n",
              "    .dataframe thead th {\n",
              "        text-align: right;\n",
              "    }\n",
              "</style>\n",
              "<table border=\"1\" class=\"dataframe\">\n",
              "  <thead>\n",
              "    <tr style=\"text-align: right;\">\n",
              "      <th></th>\n",
              "      <th>keydevid</th>\n",
              "      <th>companyid</th>\n",
              "      <th>companyname</th>\n",
              "      <th>keydeveventtypeid</th>\n",
              "      <th>keydevstatusid</th>\n",
              "      <th>keydevtoobjectroletypeid</th>\n",
              "      <th>announcedate</th>\n",
              "      <th>announcetime</th>\n",
              "      <th>enterdate</th>\n",
              "      <th>entertime</th>\n",
              "      <th>gvkey</th>\n",
              "      <th>headline</th>\n",
              "      <th>situation</th>\n",
              "      <th>ticker</th>\n",
              "      <th>WC_headline</th>\n",
              "      <th>WC_situation</th>\n",
              "    </tr>\n",
              "  </thead>\n",
              "  <tbody>\n",
              "    <tr>\n",
              "      <th>379</th>\n",
              "      <td>45874</td>\n",
              "      <td>33493</td>\n",
              "      <td>QUALCOMM Incorporated</td>\n",
              "      <td>41.0</td>\n",
              "      <td>1.0</td>\n",
              "      <td>1.0</td>\n",
              "      <td>2003-10-27</td>\n",
              "      <td>12:00:00 AM</td>\n",
              "      <td>2003-10-30</td>\n",
              "      <td>11:52:00 AM</td>\n",
              "      <td>24800.0</td>\n",
              "      <td>QUALCOMM Announces Enhanced FleetAdvisor Solution With Hours of Service</td>\n",
              "      <td>QUALCOMM Inc. announced the latest version of the FleetAdvisor(R) system, which includes support...</td>\n",
              "      <td>QCOM</td>\n",
              "      <td>9</td>\n",
              "      <td>79</td>\n",
              "    </tr>\n",
              "    <tr>\n",
              "      <th>381</th>\n",
              "      <td>45878</td>\n",
              "      <td>33493</td>\n",
              "      <td>QUALCOMM Incorporated</td>\n",
              "      <td>23.0</td>\n",
              "      <td>1.0</td>\n",
              "      <td>1.0</td>\n",
              "      <td>2003-10-27</td>\n",
              "      <td>12:00:00 AM</td>\n",
              "      <td>2003-10-30</td>\n",
              "      <td>11:54:00 AM</td>\n",
              "      <td>24800.0</td>\n",
              "      <td>QUALCOMM Selected by The H.T. Hackney Company for Fleet Management Solution to Manage Hours of S...</td>\n",
              "      <td>QUALCOMM Inc. announced that The H.T. Hackney Company, one of the largest wholesale distributors...</td>\n",
              "      <td>QCOM</td>\n",
              "      <td>17</td>\n",
              "      <td>80</td>\n",
              "    </tr>\n",
              "    <tr>\n",
              "      <th>1121</th>\n",
              "      <td>61143</td>\n",
              "      <td>33493</td>\n",
              "      <td>QUALCOMM Incorporated</td>\n",
              "      <td>41.0</td>\n",
              "      <td>1.0</td>\n",
              "      <td>1.0</td>\n",
              "      <td>2003-09-29</td>\n",
              "      <td>12:00:00 AM</td>\n",
              "      <td>2003-09-30</td>\n",
              "      <td>9:38:00 PM</td>\n",
              "      <td>24800.0</td>\n",
              "      <td>QUALCOMM Announces CSM6800 and MSM6800 End-to-End Solution For CDMA2000 1xEV-DO Revision A</td>\n",
              "      <td>QUALCOMM Incorporated, pioneer and world leader of Code Division Multiple Access (CDMA) digital ...</td>\n",
              "      <td>QCOM</td>\n",
              "      <td>12</td>\n",
              "      <td>72</td>\n",
              "    </tr>\n",
              "    <tr>\n",
              "      <th>1788</th>\n",
              "      <td>75616</td>\n",
              "      <td>33493</td>\n",
              "      <td>QUALCOMM Incorporated</td>\n",
              "      <td>23.0</td>\n",
              "      <td>1.0</td>\n",
              "      <td>1.0</td>\n",
              "      <td>2003-04-15</td>\n",
              "      <td>12:00:00 AM</td>\n",
              "      <td>2003-09-05</td>\n",
              "      <td>6:35:00 PM</td>\n",
              "      <td>24800.0</td>\n",
              "      <td>Qualcomm Telular enter unit license agreement</td>\n",
              "      <td>Qualcomm Incorporated announced a multi-million dollar CDMA unit license agreement with Telular ...</td>\n",
              "      <td>QCOM</td>\n",
              "      <td>6</td>\n",
              "      <td>50</td>\n",
              "    </tr>\n",
              "    <tr>\n",
              "      <th>1859</th>\n",
              "      <td>76179</td>\n",
              "      <td>33493</td>\n",
              "      <td>QUALCOMM Incorporated</td>\n",
              "      <td>41.0</td>\n",
              "      <td>1.0</td>\n",
              "      <td>1.0</td>\n",
              "      <td>2003-08-06</td>\n",
              "      <td>12:00:00 AM</td>\n",
              "      <td>2003-09-04</td>\n",
              "      <td>7:09:00 PM</td>\n",
              "      <td>24800.0</td>\n",
              "      <td>QUALCOMM Announces Sampling of the MSM6250 Solution for WCDMA (UMTS), GSM and GPRS</td>\n",
              "      <td>QUALCOMM Incorporated announced sampling to customers of the MSM6250(TM) chipset and system soft...</td>\n",
              "      <td>QCOM</td>\n",
              "      <td>13</td>\n",
              "      <td>110</td>\n",
              "    </tr>\n",
              "  </tbody>\n",
              "</table>\n",
              "</div>"
            ],
            "text/plain": [
              "     keydevid companyid  ... WC_headline  WC_situation\n",
              "379     45874     33493  ...           9            79\n",
              "381     45878     33493  ...          17            80\n",
              "1121    61143     33493  ...          12            72\n",
              "1788    75616     33493  ...           6            50\n",
              "1859    76179     33493  ...          13           110\n",
              "\n",
              "[5 rows x 16 columns]"
            ]
          },
          "metadata": {
            "tags": []
          },
          "execution_count": 80
        }
      ]
    },
    {
      "cell_type": "code",
      "metadata": {
        "colab": {
          "base_uri": "https://localhost:8080/",
          "height": 265
        },
        "id": "g8BBXNwIXykM",
        "outputId": "3a0243a5-3755-404c-a399-0749a5802d8d"
      },
      "source": [
        "plt.hist(QCOM_data['WC_situation'], bins=100)\n",
        "plt.show()"
      ],
      "execution_count": null,
      "outputs": [
        {
          "output_type": "display_data",
          "data": {
            "image/png": "[encoded data removed]",
            "text/plain": [
              "<Figure size 432x288 with 1 Axes>"
            ]
          },
          "metadata": {
            "tags": [],
            "needs_background": "light"
          }
        }
      ]
    },
    {
      "cell_type": "code",
      "metadata": {
        "colab": {
          "base_uri": "https://localhost:8080/",
          "height": 465
        },
        "id": "c5J6RJFLX328",
        "outputId": "193c2dca-1bae-4f27-c4a2-b99dde57c317"
      },
      "source": [
        "QCOM_data[QCOM_data['WC_situation']<5].sort_values('WC_situation').head(10)"
      ],
      "execution_count": null,
      "outputs": [
        {
          "output_type": "execute_result",
          "data": {
            "text/html": [
              "<div>\n",
              "<style scoped>\n",
              "    .dataframe tbody tr th:only-of-type {\n",
              "        vertical-align: middle;\n",
              "    }\n",
              "\n",
              "    .dataframe tbody tr th {\n",
              "        vertical-align: top;\n",
              "    }\n",
              "\n",
              "    .dataframe thead th {\n",
              "        text-align: right;\n",
              "    }\n",
              "</style>\n",
              "<table border=\"1\" class=\"dataframe\">\n",
              "  <thead>\n",
              "    <tr style=\"text-align: right;\">\n",
              "      <th></th>\n",
              "      <th>keydevid</th>\n",
              "      <th>companyid</th>\n",
              "      <th>companyname</th>\n",
              "      <th>keydeveventtypeid</th>\n",
              "      <th>keydevstatusid</th>\n",
              "      <th>keydevtoobjectroletypeid</th>\n",
              "      <th>announcedate</th>\n",
              "      <th>announcetime</th>\n",
              "      <th>enterdate</th>\n",
              "      <th>entertime</th>\n",
              "      <th>gvkey</th>\n",
              "      <th>headline</th>\n",
              "      <th>situation</th>\n",
              "      <th>ticker</th>\n",
              "      <th>WC_headline</th>\n",
              "      <th>WC_situation</th>\n",
              "    </tr>\n",
              "  </thead>\n",
              "  <tbody>\n",
              "    <tr>\n",
              "      <th>283647</th>\n",
              "      <td>6272307</td>\n",
              "      <td>33493</td>\n",
              "      <td>QUALCOMM Incorporated</td>\n",
              "      <td>50.0</td>\n",
              "      <td>1.0</td>\n",
              "      <td>1.0</td>\n",
              "      <td>2009-03-03</td>\n",
              "      <td>2:01:00 PM</td>\n",
              "      <td>2009-03-03</td>\n",
              "      <td>5:11:00 PM</td>\n",
              "      <td>24800.0</td>\n",
              "      <td>QUALCOMM Inc. - Shareholder/Analyst Call</td>\n",
              "      <td>Annual stockholders' meeting</td>\n",
              "      <td>QCOM</td>\n",
              "      <td>5</td>\n",
              "      <td>3</td>\n",
              "    </tr>\n",
              "    <tr>\n",
              "      <th>539093</th>\n",
              "      <td>214293217</td>\n",
              "      <td>33493</td>\n",
              "      <td>QUALCOMM Incorporated</td>\n",
              "      <td>50.0</td>\n",
              "      <td>1.0</td>\n",
              "      <td>1.0</td>\n",
              "      <td>2012-03-06</td>\n",
              "      <td>12:00:00 AM</td>\n",
              "      <td>2012-07-17</td>\n",
              "      <td>5:02:00 AM</td>\n",
              "      <td>24800.0</td>\n",
              "      <td>QUALCOMM Incorporated - Shareholder/Analyst Call</td>\n",
              "      <td>Annual meeting of stockholders</td>\n",
              "      <td>QCOM</td>\n",
              "      <td>5</td>\n",
              "      <td>4</td>\n",
              "    </tr>\n",
              "    <tr>\n",
              "      <th>641608</th>\n",
              "      <td>257552054</td>\n",
              "      <td>33493</td>\n",
              "      <td>QUALCOMM Incorporated</td>\n",
              "      <td>50.0</td>\n",
              "      <td>1.0</td>\n",
              "      <td>1.0</td>\n",
              "      <td>2014-02-27</td>\n",
              "      <td>7:39:00 AM</td>\n",
              "      <td>2014-02-27</td>\n",
              "      <td>2:48:00 AM</td>\n",
              "      <td>24800.0</td>\n",
              "      <td>QUALCOMM Incorporated - Shareholder/Analyst Call</td>\n",
              "      <td>Annual Meeting of Stockholders</td>\n",
              "      <td>QCOM</td>\n",
              "      <td>5</td>\n",
              "      <td>4</td>\n",
              "    </tr>\n",
              "    <tr>\n",
              "      <th>766320</th>\n",
              "      <td>327563465</td>\n",
              "      <td>33493</td>\n",
              "      <td>QUALCOMM Incorporated</td>\n",
              "      <td>50.0</td>\n",
              "      <td>1.0</td>\n",
              "      <td>1.0</td>\n",
              "      <td>2016-03-07</td>\n",
              "      <td>7:24:00 PM</td>\n",
              "      <td>2016-03-07</td>\n",
              "      <td>2:50:00 PM</td>\n",
              "      <td>24800.0</td>\n",
              "      <td>QUALCOMM Incorporated - Shareholder/Analyst Call</td>\n",
              "      <td>Annual Meeting of Stockholders</td>\n",
              "      <td>QCOM</td>\n",
              "      <td>5</td>\n",
              "      <td>4</td>\n",
              "    </tr>\n",
              "    <tr>\n",
              "      <th>819891</th>\n",
              "      <td>421903801</td>\n",
              "      <td>33493</td>\n",
              "      <td>QUALCOMM Incorporated</td>\n",
              "      <td>50.0</td>\n",
              "      <td>1.0</td>\n",
              "      <td>1.0</td>\n",
              "      <td>2017-03-01</td>\n",
              "      <td>12:03:00 AM</td>\n",
              "      <td>2017-02-28</td>\n",
              "      <td>2:34:00 PM</td>\n",
              "      <td>24800.0</td>\n",
              "      <td>QUALCOMM Incorporated - Shareholder/Analyst Call</td>\n",
              "      <td>Annual meeting of stockholders</td>\n",
              "      <td>QCOM</td>\n",
              "      <td>5</td>\n",
              "      <td>4</td>\n",
              "    </tr>\n",
              "  </tbody>\n",
              "</table>\n",
              "</div>"
            ],
            "text/plain": [
              "         keydevid companyid  ... WC_headline  WC_situation\n",
              "283647    6272307     33493  ...           5             3\n",
              "539093  214293217     33493  ...           5             4\n",
              "641608  257552054     33493  ...           5             4\n",
              "766320  327563465     33493  ...           5             4\n",
              "819891  421903801     33493  ...           5             4\n",
              "\n",
              "[5 rows x 16 columns]"
            ]
          },
          "metadata": {
            "tags": []
          },
          "execution_count": 82
        }
      ]
    },
    {
      "cell_type": "code",
      "metadata": {
        "colab": {
          "base_uri": "https://localhost:8080/"
        },
        "id": "9TvNVgKjXZCU",
        "outputId": "4b1d4f6f-8fbc-4c51-9438-449ff1c67753"
      },
      "source": [
        "for i in [100, 500, 1000, 1500, 2000]:\n",
        "  print(QCOM_data['situation'].iloc[i])"
      ],
      "execution_count": null,
      "outputs": [
        {
          "output_type": "stream",
          "text": [
            "QUALCOMM Inc. announced that its MSM6200(TM) WCDMA (UMTS) chipset solution has been tested against and was successfully validated by all 13 worldwide WCDMA (UMTS) infrastructure vendors. UALCOMM's chipset solution is the first to achieve voice, circuit and packet data interoperability with all WCDMA (UMTS) infrastructure vendors, enabling a wide range of handset manufacturers to offer wireless devices that will seamlessly operate on any WCDMA network in the world. QUALCOMM's field-tested solutions ensure reduced time-to-market for manufacturers, while providing wireless operators with reliable products to effectively support their consumer and enterprise service offerings.\n",
            "QUALCOMM Inc. announced a $200,000 partnership with the University of São Paulo's Polytechnic School. This is part of the company's global strategy of investing in education initiatives and support to technological knowledge. Qualcomm's initial investment will be allocated to the sponsorship of doctorate scholarships in Electrical Engineering.\n",
            "QUALCOMM Inc. has rescheduled its second quarter earnings call to April 27, 2009 at 5:00 a.m. PT instead April 22, 2009. The company is postponing its earnings release and call until April 27, 2009 due to advanced settlement discussions with Broadcom regarding a global settlement of all disputes between the parties which, if reached, would have an impact on the company's financial results for the fiscal second quarter. No assurance can be given that the company and Broadcom will be able to reach agreement on the terms of a global settlement.The company reaffirmed its earnings guidance for the second quarter of fiscal 2009. Revenue and operating income for the second quarter of fiscal 2009, excluding the potential impact of the Broadcom agreement, met or exceeded prior guidance.\n",
            "BofA Merrill Lynch, Bank of America Merrill Lynch 2011 US Technology Conference, Jun 01, 2011 through Jun 02, 2011. Venue: The Crown Plaza Hotel, 1605 Broadway, New York, New York, United States.\n",
            "Qualcomm is bringing 4G coverage to offices and homes with a low-cost chip that will power wireless routers with both Wi-Fi and LTE. The introduction of the FSM90xx SoC (system-on-a-chip) is a change of pace for Qualcomm. When the company entered the small cell sector it did so with high-performing products, but has now started to scale down the underlying technology. Small cells are mini base stations used to improve coverage and capacity. With the FSM90xx, Qualcomm is focusing on combining LTE and Wi-Fi for products that can handle between four and 16 users in homes and small and medium-size businesses. The SoC is based on 28-nanometer technology, allowing Qualcomm to improve power consumption and lower the cost. The new chip has inherited security features and a software programmable modem from the high-end FSM99xx, which is used by enterprise and metro small cells. When Qualcomm developed the SoC it took advantage of technologies from across the company, including smartphone technology to keep power consumption down. To offer higher LTE speeds, the chip will use carrier aggregation, a technology that allows networks to devote more resources to some users by treating two channels in the same or different frequency bands as if they were one. The result is twice the speed, on paper. The FSM90xx will start sampling during the second half of the year, which means Qualcomm will make small volumes of the SoC available to a select number of customers. The first products using the chip are expected to arrive during the second half of 2015.\n"
          ],
          "name": "stdout"
        }
      ]
    },
    {
      "cell_type": "markdown",
      "metadata": {
        "id": "hgrQCTUrfise"
      },
      "source": [
        "### Filtering news"
      ]
    },
    {
      "cell_type": "code",
      "metadata": {
        "colab": {
          "base_uri": "https://localhost:8080/",
          "height": 1000
        },
        "id": "ywdB63eRgkNQ",
        "outputId": "d686afb1-7ec6-4ca0-ae1a-a449a8f17865"
      },
      "source": [
        "# check if we should drop rows that contain less than 10 words for column \"situation\"\n",
        "# most probably we will not have any meaningful info for these short texts\n",
        "display(df_keydev_cleaned[df_keydev_cleaned['WC_situation']<=8].sort_values('WC_situation').tail(10))"
      ],
      "execution_count": null,
      "outputs": [
        {
          "output_type": "display_data",
          "data": {
            "text/html": [
              "<div>\n",
              "<style scoped>\n",
              "    .dataframe tbody tr th:only-of-type {\n",
              "        vertical-align: middle;\n",
              "    }\n",
              "\n",
              "    .dataframe tbody tr th {\n",
              "        vertical-align: top;\n",
              "    }\n",
              "\n",
              "    .dataframe thead th {\n",
              "        text-align: right;\n",
              "    }\n",
              "</style>\n",
              "<table border=\"1\" class=\"dataframe\">\n",
              "  <thead>\n",
              "    <tr style=\"text-align: right;\">\n",
              "      <th></th>\n",
              "      <th>keydevid</th>\n",
              "      <th>companyid</th>\n",
              "      <th>companyname</th>\n",
              "      <th>keydeveventtypeid</th>\n",
              "      <th>keydevstatusid</th>\n",
              "      <th>keydevtoobjectroletypeid</th>\n",
              "      <th>announcedate</th>\n",
              "      <th>announcetime</th>\n",
              "      <th>enterdate</th>\n",
              "      <th>entertime</th>\n",
              "      <th>gvkey</th>\n",
              "      <th>headline</th>\n",
              "      <th>situation</th>\n",
              "      <th>ticker</th>\n",
              "      <th>WC_headline</th>\n",
              "      <th>WC_situation</th>\n",
              "    </tr>\n",
              "  </thead>\n",
              "  <tbody>\n",
              "    <tr>\n",
              "      <th>705420</th>\n",
              "      <td>288132655</td>\n",
              "      <td>311679</td>\n",
              "      <td>Valero Energy Corporation</td>\n",
              "      <td>87.0</td>\n",
              "      <td>1.0</td>\n",
              "      <td>1.0</td>\n",
              "      <td>2015-03-10</td>\n",
              "      <td>12:00:00 AM</td>\n",
              "      <td>2015-03-11</td>\n",
              "      <td>3:20:00 AM</td>\n",
              "      <td>15247.0</td>\n",
              "      <td>Valero Energy Corporation has announced a Fixed-Income Offering.</td>\n",
              "      <td>Valero Energy Corporation has announced a Fixed-Income Offering.</td>\n",
              "      <td>VLO</td>\n",
              "      <td>8</td>\n",
              "      <td>8</td>\n",
              "    </tr>\n",
              "    <tr>\n",
              "      <th>705421</th>\n",
              "      <td>288132656</td>\n",
              "      <td>311679</td>\n",
              "      <td>Valero Energy Corporation</td>\n",
              "      <td>87.0</td>\n",
              "      <td>1.0</td>\n",
              "      <td>1.0</td>\n",
              "      <td>2015-03-10</td>\n",
              "      <td>12:00:00 AM</td>\n",
              "      <td>2015-03-11</td>\n",
              "      <td>3:20:00 AM</td>\n",
              "      <td>15247.0</td>\n",
              "      <td>Valero Energy Corporation has announced a Fixed-Income Offering.</td>\n",
              "      <td>Valero Energy Corporation has announced a Fixed-Income Offering.</td>\n",
              "      <td>VLO</td>\n",
              "      <td>8</td>\n",
              "      <td>8</td>\n",
              "    </tr>\n",
              "    <tr>\n",
              "      <th>420073</th>\n",
              "      <td>115794865</td>\n",
              "      <td>286163</td>\n",
              "      <td>The Manitowoc Company, Inc.</td>\n",
              "      <td>93.0</td>\n",
              "      <td>1.0</td>\n",
              "      <td>1.0</td>\n",
              "      <td>2010-11-11</td>\n",
              "      <td>12:00:00 AM</td>\n",
              "      <td>2010-11-15</td>\n",
              "      <td>8:01:00 AM</td>\n",
              "      <td>6994.0</td>\n",
              "      <td>Manitowoc Co. Inc. has filed a Shelf Registration.</td>\n",
              "      <td>Manitowoc Co. Inc. has filed a Shelf Registration.</td>\n",
              "      <td>MTW</td>\n",
              "      <td>8</td>\n",
              "      <td>8</td>\n",
              "    </tr>\n",
              "    <tr>\n",
              "      <th>705423</th>\n",
              "      <td>288141198</td>\n",
              "      <td>314842</td>\n",
              "      <td>Marathon Oil Corporation</td>\n",
              "      <td>87.0</td>\n",
              "      <td>1.0</td>\n",
              "      <td>1.0</td>\n",
              "      <td>2009-02-11</td>\n",
              "      <td>12:00:00 AM</td>\n",
              "      <td>2015-03-11</td>\n",
              "      <td>3:45:00 AM</td>\n",
              "      <td>7017.0</td>\n",
              "      <td>Marathon Oil Corporation has announced a Fixed-Income Offering.</td>\n",
              "      <td>Marathon Oil Corporation has announced a Fixed-Income Offering.</td>\n",
              "      <td>MRO</td>\n",
              "      <td>8</td>\n",
              "      <td>8</td>\n",
              "    </tr>\n",
              "    <tr>\n",
              "      <th>705424</th>\n",
              "      <td>288142279</td>\n",
              "      <td>314842</td>\n",
              "      <td>Marathon Oil Corporation</td>\n",
              "      <td>87.0</td>\n",
              "      <td>1.0</td>\n",
              "      <td>1.0</td>\n",
              "      <td>2007-07-26</td>\n",
              "      <td>12:00:00 AM</td>\n",
              "      <td>2015-03-11</td>\n",
              "      <td>3:48:00 AM</td>\n",
              "      <td>7017.0</td>\n",
              "      <td>Marathon Oil Corporation has announced a Fixed-Income Offering.</td>\n",
              "      <td>Marathon Oil Corporation has announced a Fixed-Income Offering.</td>\n",
              "      <td>MRO</td>\n",
              "      <td>8</td>\n",
              "      <td>8</td>\n",
              "    </tr>\n",
              "    <tr>\n",
              "      <th>705425</th>\n",
              "      <td>288143753</td>\n",
              "      <td>314842</td>\n",
              "      <td>Marathon Oil Corporation</td>\n",
              "      <td>87.0</td>\n",
              "      <td>1.0</td>\n",
              "      <td>1.0</td>\n",
              "      <td>2009-02-11</td>\n",
              "      <td>12:00:00 AM</td>\n",
              "      <td>2015-03-11</td>\n",
              "      <td>3:58:00 AM</td>\n",
              "      <td>7017.0</td>\n",
              "      <td>Marathon Oil Corporation has announced a Fixed-Income Offering.</td>\n",
              "      <td>Marathon Oil Corporation has announced a Fixed-Income Offering.</td>\n",
              "      <td>MRO</td>\n",
              "      <td>8</td>\n",
              "      <td>8</td>\n",
              "    </tr>\n",
              "    <tr>\n",
              "      <th>705426</th>\n",
              "      <td>288145280</td>\n",
              "      <td>93030</td>\n",
              "      <td>Range Resources Corporation</td>\n",
              "      <td>87.0</td>\n",
              "      <td>1.0</td>\n",
              "      <td>1.0</td>\n",
              "      <td>2009-05-11</td>\n",
              "      <td>12:00:00 AM</td>\n",
              "      <td>2015-03-11</td>\n",
              "      <td>4:04:00 AM</td>\n",
              "      <td>6788.0</td>\n",
              "      <td>Range Resources Corporation has announced a Fixed-Income Offering.</td>\n",
              "      <td>Range Resources Corporation has announced a Fixed-Income Offering.</td>\n",
              "      <td>RRC</td>\n",
              "      <td>8</td>\n",
              "      <td>8</td>\n",
              "    </tr>\n",
              "    <tr>\n",
              "      <th>189262</th>\n",
              "      <td>4552923</td>\n",
              "      <td>179862</td>\n",
              "      <td>Kinder Morgan Kansas, Inc.</td>\n",
              "      <td>95.0</td>\n",
              "      <td>1.0</td>\n",
              "      <td>1.0</td>\n",
              "      <td>2005-01-29</td>\n",
              "      <td>12:00:00 AM</td>\n",
              "      <td>2007-06-28</td>\n",
              "      <td>6:07:00 AM</td>\n",
              "      <td>6310.0</td>\n",
              "      <td>Kinder Morgan Inc. added to Russell 3000 Index</td>\n",
              "      <td>Kinder Morgan Inc. added to Russell 3000 Index</td>\n",
              "      <td>KMI</td>\n",
              "      <td>8</td>\n",
              "      <td>8</td>\n",
              "    </tr>\n",
              "    <tr>\n",
              "      <th>705417</th>\n",
              "      <td>288126489</td>\n",
              "      <td>93030</td>\n",
              "      <td>Range Resources Corporation</td>\n",
              "      <td>87.0</td>\n",
              "      <td>1.0</td>\n",
              "      <td>1.0</td>\n",
              "      <td>2008-04-28</td>\n",
              "      <td>12:00:00 AM</td>\n",
              "      <td>2015-03-11</td>\n",
              "      <td>2:55:00 AM</td>\n",
              "      <td>6788.0</td>\n",
              "      <td>Range Resources Corporation has announced a Fixed-Income Offering.</td>\n",
              "      <td>Range Resources Corporation has announced a Fixed-Income Offering.</td>\n",
              "      <td>RRC</td>\n",
              "      <td>8</td>\n",
              "      <td>8</td>\n",
              "    </tr>\n",
              "    <tr>\n",
              "      <th>767642</th>\n",
              "      <td>328335121</td>\n",
              "      <td>291703</td>\n",
              "      <td>Newell Brands Inc.</td>\n",
              "      <td>87.0</td>\n",
              "      <td>1.0</td>\n",
              "      <td>1.0</td>\n",
              "      <td>2016-03-15</td>\n",
              "      <td>12:00:00 AM</td>\n",
              "      <td>2016-03-15</td>\n",
              "      <td>7:35:00 PM</td>\n",
              "      <td>7875.0</td>\n",
              "      <td>Newell Rubbermaid Inc. has announced a Fixed-Income Offering.</td>\n",
              "      <td>Newell Rubbermaid Inc. has announced a Fixed-Income Offering.</td>\n",
              "      <td>NWL</td>\n",
              "      <td>8</td>\n",
              "      <td>8</td>\n",
              "    </tr>\n",
              "  </tbody>\n",
              "</table>\n",
              "</div>"
            ],
            "text/plain": [
              "         keydevid companyid  ... WC_headline  WC_situation\n",
              "705420  288132655    311679  ...           8             8\n",
              "705421  288132656    311679  ...           8             8\n",
              "420073  115794865    286163  ...           8             8\n",
              "705423  288141198    314842  ...           8             8\n",
              "705424  288142279    314842  ...           8             8\n",
              "705425  288143753    314842  ...           8             8\n",
              "705426  288145280     93030  ...           8             8\n",
              "189262    4552923    179862  ...           8             8\n",
              "705417  288126489     93030  ...           8             8\n",
              "767642  328335121    291703  ...           8             8\n",
              "\n",
              "[10 rows x 16 columns]"
            ]
          },
          "metadata": {
            "tags": []
          }
        }
      ]
    },
    {
      "cell_type": "code",
      "metadata": {
        "colab": {
          "base_uri": "https://localhost:8080/",
          "height": 202
        },
        "id": "uMkGneSOjIkg",
        "outputId": "dcb1c106-e230-41e6-a991-fbe81643e7b5"
      },
      "source": [
        "# select only relevant columns\n",
        "df_keydev_cleaned['datetime'] = df_keydev_cleaned['announcedate'].apply(str) + ' ' + df_keydev_cleaned['announcetime']\n",
        "\n",
        "df_final = df_keydev_cleaned[df_keydev_cleaned['WC_situation']>8] #drop rows that has less than 8 word counts\n",
        "df_final = df_final[['companyname', 'ticker', 'datetime', 'situation']] #extract the useful columns only\n",
        "df_final.head()"
      ],
      "execution_count": 16,
      "outputs": [
        {
          "output_type": "execute_result",
          "data": {
            "text/html": [
              "<div>\n",
              "<style scoped>\n",
              "    .dataframe tbody tr th:only-of-type {\n",
              "        vertical-align: middle;\n",
              "    }\n",
              "\n",
              "    .dataframe tbody tr th {\n",
              "        vertical-align: top;\n",
              "    }\n",
              "\n",
              "    .dataframe thead th {\n",
              "        text-align: right;\n",
              "    }\n",
              "</style>\n",
              "<table border=\"1\" class=\"dataframe\">\n",
              "  <thead>\n",
              "    <tr style=\"text-align: right;\">\n",
              "      <th></th>\n",
              "      <th>companyname</th>\n",
              "      <th>ticker</th>\n",
              "      <th>datetime</th>\n",
              "      <th>situation</th>\n",
              "    </tr>\n",
              "  </thead>\n",
              "  <tbody>\n",
              "    <tr>\n",
              "      <th>0</th>\n",
              "      <td>Albemarle Corporation</td>\n",
              "      <td>ALB</td>\n",
              "      <td>2003-04-23 12:00:00 AM</td>\n",
              "      <td>Albemarle Corporation announced that it is interested in making acquisitions in the fine chemica...</td>\n",
              "    </tr>\n",
              "    <tr>\n",
              "      <th>1</th>\n",
              "      <td>AT&amp;T Corp.</td>\n",
              "      <td>T</td>\n",
              "      <td>2003-01-31 12:00:00 AM</td>\n",
              "      <td>AT&amp;T Corp. announced that it could use up to $5 billion to acquire assets, both domestically and...</td>\n",
              "    </tr>\n",
              "    <tr>\n",
              "      <th>2</th>\n",
              "      <td>Baker Hughes, a GE company, LLC</td>\n",
              "      <td>BHI</td>\n",
              "      <td>2003-02-13 12:00:00 AM</td>\n",
              "      <td>Baker Hughes Inc. is evaluating various strategic options including external investment opportun...</td>\n",
              "    </tr>\n",
              "    <tr>\n",
              "      <th>3</th>\n",
              "      <td>Bank of America Corporation</td>\n",
              "      <td>BAC</td>\n",
              "      <td>2003-05-18 12:00:00 AM</td>\n",
              "      <td>Bank of America is looking for acquisitions in the UK and has held exploratory talks with severa...</td>\n",
              "    </tr>\n",
              "    <tr>\n",
              "      <th>4</th>\n",
              "      <td>Truist Financial Corporation</td>\n",
              "      <td>TFC</td>\n",
              "      <td>2003-04-24 12:00:00 AM</td>\n",
              "      <td>BB&amp;T Corp. is looking for possible acquisitions in Ohio and neighboring states.</td>\n",
              "    </tr>\n",
              "  </tbody>\n",
              "</table>\n",
              "</div>"
            ],
            "text/plain": [
              "                       companyname  ...                                                                                            situation\n",
              "0            Albemarle Corporation  ...  Albemarle Corporation announced that it is interested in making acquisitions in the fine chemica...\n",
              "1                       AT&T Corp.  ...  AT&T Corp. announced that it could use up to $5 billion to acquire assets, both domestically and...\n",
              "2  Baker Hughes, a GE company, LLC  ...  Baker Hughes Inc. is evaluating various strategic options including external investment opportun...\n",
              "3      Bank of America Corporation  ...  Bank of America is looking for acquisitions in the UK and has held exploratory talks with severa...\n",
              "4     Truist Financial Corporation  ...                      BB&T Corp. is looking for possible acquisitions in Ohio and neighboring states.\n",
              "\n",
              "[5 rows x 4 columns]"
            ]
          },
          "metadata": {
            "tags": []
          },
          "execution_count": 16
        }
      ]
    },
    {
      "cell_type": "code",
      "metadata": {
        "colab": {
          "base_uri": "https://localhost:8080/"
        },
        "id": "pxah5BTBh3lo",
        "outputId": "dd792b95-8748-44fa-84fc-c50a9c5c0f8c"
      },
      "source": [
        "# drop duplicated news\n",
        "df_final.drop_duplicates().shape"
      ],
      "execution_count": 17,
      "outputs": [
        {
          "output_type": "execute_result",
          "data": {
            "text/plain": [
              "(889689, 4)"
            ]
          },
          "metadata": {
            "tags": []
          },
          "execution_count": 17
        }
      ]
    },
    {
      "cell_type": "code",
      "metadata": {
        "id": "w4bNyxsviMzs"
      },
      "source": [
        "# df_final.to_csv(\"/content/drive/MyDrive/abnormal-distribution-project-data/compustat_keydev/final_keydev_data.csv\", index=False)"
      ],
      "execution_count": 18,
      "outputs": []
    },
    {
      "cell_type": "markdown",
      "metadata": {
        "id": "11AQQtG1Lbwe"
      },
      "source": [
        "## Write to TFRecords "
      ]
    },
    {
      "cell_type": "code",
      "metadata": {
        "colab": {
          "base_uri": "https://localhost:8080/"
        },
        "id": "rwFY7A8rMs7j",
        "outputId": "8493bee1-7577-4829-f7cd-658fe6194b22"
      },
      "source": [
        "!pip3 install transformers"
      ],
      "execution_count": 4,
      "outputs": [
        {
          "output_type": "stream",
          "text": [
            "Collecting transformers\n",
            "\u001b[?25l  Downloading https://files.pythonhosted.org/packages/3a/83/e74092e7f24a08d751aa59b37a9fc572b2e4af3918cb66f7766c3affb1b4/transformers-3.5.1-py3-none-any.whl (1.3MB)\n",
            "\u001b[K     |████████████████████████████████| 1.3MB 4.1MB/s \n",
            "\u001b[?25hRequirement already satisfied: tqdm>=4.27 in /usr/local/lib/python3.6/dist-packages (from transformers) (4.41.1)\n",
            "Collecting tokenizers==0.9.3\n",
            "\u001b[?25l  Downloading https://files.pythonhosted.org/packages/4c/34/b39eb9994bc3c999270b69c9eea40ecc6f0e97991dba28282b9fd32d44ee/tokenizers-0.9.3-cp36-cp36m-manylinux1_x86_64.whl (2.9MB)\n",
            "\u001b[K     |████████████████████████████████| 2.9MB 21.7MB/s \n",
            "\u001b[?25hRequirement already satisfied: dataclasses; python_version < \"3.7\" in /usr/local/lib/python3.6/dist-packages (from transformers) (0.8)\n",
            "Collecting sentencepiece==0.1.91\n",
            "\u001b[?25l  Downloading https://files.pythonhosted.org/packages/d4/a4/d0a884c4300004a78cca907a6ff9a5e9fe4f090f5d95ab341c53d28cbc58/sentencepiece-0.1.91-cp36-cp36m-manylinux1_x86_64.whl (1.1MB)\n",
            "\u001b[K     |████████████████████████████████| 1.1MB 53.3MB/s \n",
            "\u001b[?25hRequirement already satisfied: filelock in /usr/local/lib/python3.6/dist-packages (from transformers) (3.0.12)\n",
            "Requirement already satisfied: numpy in /usr/local/lib/python3.6/dist-packages (from transformers) (1.18.5)\n",
            "Requirement already satisfied: requests in /usr/local/lib/python3.6/dist-packages (from transformers) (2.23.0)\n",
            "Requirement already satisfied: packaging in /usr/local/lib/python3.6/dist-packages (from transformers) (20.4)\n",
            "Requirement already satisfied: regex!=2019.12.17 in /usr/local/lib/python3.6/dist-packages (from transformers) (2019.12.20)\n",
            "Collecting sacremoses\n",
            "\u001b[?25l  Downloading https://files.pythonhosted.org/packages/7d/34/09d19aff26edcc8eb2a01bed8e98f13a1537005d31e95233fd48216eed10/sacremoses-0.0.43.tar.gz (883kB)\n",
            "\u001b[K     |████████████████████████████████| 890kB 43.7MB/s \n",
            "\u001b[?25hRequirement already satisfied: protobuf in /usr/local/lib/python3.6/dist-packages (from transformers) (3.12.4)\n",
            "Requirement already satisfied: chardet<4,>=3.0.2 in /usr/local/lib/python3.6/dist-packages (from requests->transformers) (3.0.4)\n",
            "Requirement already satisfied: urllib3!=1.25.0,!=1.25.1,<1.26,>=1.21.1 in /usr/local/lib/python3.6/dist-packages (from requests->transformers) (1.24.3)\n",
            "Requirement already satisfied: certifi>=2017.4.17 in /usr/local/lib/python3.6/dist-packages (from requests->transformers) (2020.11.8)\n",
            "Requirement already satisfied: idna<3,>=2.5 in /usr/local/lib/python3.6/dist-packages (from requests->transformers) (2.10)\n",
            "Requirement already satisfied: pyparsing>=2.0.2 in /usr/local/lib/python3.6/dist-packages (from packaging->transformers) (2.4.7)\n",
            "Requirement already satisfied: six in /usr/local/lib/python3.6/dist-packages (from packaging->transformers) (1.15.0)\n",
            "Requirement already satisfied: click in /usr/local/lib/python3.6/dist-packages (from sacremoses->transformers) (7.1.2)\n",
            "Requirement already satisfied: joblib in /usr/local/lib/python3.6/dist-packages (from sacremoses->transformers) (0.17.0)\n",
            "Requirement already satisfied: setuptools in /usr/local/lib/python3.6/dist-packages (from protobuf->transformers) (50.3.2)\n",
            "Building wheels for collected packages: sacremoses\n",
            "  Building wheel for sacremoses (setup.py) ... \u001b[?25l\u001b[?25hdone\n",
            "  Created wheel for sacremoses: filename=sacremoses-0.0.43-cp36-none-any.whl size=893257 sha256=65ddb17cef1f579bb9078bea5c0b372fe91e527177587b455aec81bb049ae52c\n",
            "  Stored in directory: /root/.cache/pip/wheels/29/3c/fd/7ce5c3f0666dab31a50123635e6fb5e19ceb42ce38d4e58f45\n",
            "Successfully built sacremoses\n",
            "Installing collected packages: tokenizers, sentencepiece, sacremoses, transformers\n",
            "Successfully installed sacremoses-0.0.43 sentencepiece-0.1.91 tokenizers-0.9.3 transformers-3.5.1\n"
          ],
          "name": "stdout"
        }
      ]
    },
    {
      "cell_type": "code",
      "metadata": {
        "id": "NL4r0NZSk050"
      },
      "source": [
        "import pandas as pd\n",
        "from tqdm import tqdm\n",
        "\n",
        "from transformers import BertTokenizer, TFBertModel\n",
        "import tensorflow as tf\n",
        "\n",
        "# df_final = pd.read_csv(\"/content/drive/MyDrive/abnormal-distribution-project-data/compustat_keydev/final_keydev_data.csv\")"
      ],
      "execution_count": 24,
      "outputs": []
    },
    {
      "cell_type": "code",
      "metadata": {
        "colab": {
          "base_uri": "https://localhost:8080/",
          "height": 202
        },
        "id": "cruj7MInM6cO",
        "outputId": "f076858a-869a-43a1-dc16-653ebc8a0a92"
      },
      "source": [
        "df_final.tail()"
      ],
      "execution_count": 19,
      "outputs": [
        {
          "output_type": "execute_result",
          "data": {
            "text/html": [
              "<div>\n",
              "<style scoped>\n",
              "    .dataframe tbody tr th:only-of-type {\n",
              "        vertical-align: middle;\n",
              "    }\n",
              "\n",
              "    .dataframe tbody tr th {\n",
              "        vertical-align: top;\n",
              "    }\n",
              "\n",
              "    .dataframe thead th {\n",
              "        text-align: right;\n",
              "    }\n",
              "</style>\n",
              "<table border=\"1\" class=\"dataframe\">\n",
              "  <thead>\n",
              "    <tr style=\"text-align: right;\">\n",
              "      <th></th>\n",
              "      <th>companyname</th>\n",
              "      <th>ticker</th>\n",
              "      <th>datetime</th>\n",
              "      <th>situation</th>\n",
              "    </tr>\n",
              "  </thead>\n",
              "  <tbody>\n",
              "    <tr>\n",
              "      <th>989532</th>\n",
              "      <td>Bristol-Myers Squibb Company</td>\n",
              "      <td>BMY</td>\n",
              "      <td>2020-02-14 11:30:00 AM</td>\n",
              "      <td>Bristol-Myers Squibb Company announced the results of a robust multinational inflammatory bowel ...</td>\n",
              "    </tr>\n",
              "    <tr>\n",
              "      <th>989533</th>\n",
              "      <td>Teleflex Incorporated</td>\n",
              "      <td>TFX</td>\n",
              "      <td>2020-02-14 10:00:00 PM</td>\n",
              "      <td>Teleflex Incorporated has announced a worldwide voluntary recall of the COMFORT FLO Humidificati...</td>\n",
              "    </tr>\n",
              "    <tr>\n",
              "      <th>989534</th>\n",
              "      <td>McAfee LLC</td>\n",
              "      <td>MFE</td>\n",
              "      <td>2020-02-13 5:02:00 AM</td>\n",
              "      <td>McAfee announced its extension of the long-standing partnership with Samsung to protect consumer...</td>\n",
              "    </tr>\n",
              "    <tr>\n",
              "      <th>989535</th>\n",
              "      <td>Amazon.com, Inc.</td>\n",
              "      <td>AMZN</td>\n",
              "      <td>2020-02-12 2:00:00 PM</td>\n",
              "      <td>Franchise Holdings International Inc. ('Company') Worksport Ltd.’s parent company, expects to so...</td>\n",
              "    </tr>\n",
              "    <tr>\n",
              "      <th>989537</th>\n",
              "      <td>Equifax Inc.</td>\n",
              "      <td>EFX</td>\n",
              "      <td>2020-02-14 12:48:00 PM</td>\n",
              "      <td>Equifax Inc. and Inventory Command Center LLC (ICC) announced a new partnership to help automoti...</td>\n",
              "    </tr>\n",
              "  </tbody>\n",
              "</table>\n",
              "</div>"
            ],
            "text/plain": [
              "                         companyname  ...                                                                                            situation\n",
              "989532  Bristol-Myers Squibb Company  ...  Bristol-Myers Squibb Company announced the results of a robust multinational inflammatory bowel ...\n",
              "989533         Teleflex Incorporated  ...  Teleflex Incorporated has announced a worldwide voluntary recall of the COMFORT FLO Humidificati...\n",
              "989534                    McAfee LLC  ...  McAfee announced its extension of the long-standing partnership with Samsung to protect consumer...\n",
              "989535              Amazon.com, Inc.  ...  Franchise Holdings International Inc. ('Company') Worksport Ltd.’s parent company, expects to so...\n",
              "989537                  Equifax Inc.  ...  Equifax Inc. and Inventory Command Center LLC (ICC) announced a new partnership to help automoti...\n",
              "\n",
              "[5 rows x 4 columns]"
            ]
          },
          "metadata": {
            "tags": []
          },
          "execution_count": 19
        }
      ]
    },
    {
      "cell_type": "code",
      "metadata": {
        "id": "bJ9yuiwYLXpS"
      },
      "source": [
        "# The following functions can be used to convert a value to a type compatible\n",
        "# with tf.train.Example.\n",
        "# Credit: https://www.tensorflow.org/tutorials/load_data/tfrecord\n",
        "\n",
        "def _bytes_feature(value):\n",
        "  \"\"\"Returns a bytes_list from a string / byte.\"\"\"\n",
        "  if isinstance(value, type(tf.constant(0))):\n",
        "    value = value.numpy() # BytesList won't unpack a string from an EagerTensor.\n",
        "  return tf.train.Feature(bytes_list=tf.train.BytesList(value=[value]))\n",
        "\n",
        "def _float_feature(value):\n",
        "  \"\"\"Returns a float_list from a float / double.\"\"\"\n",
        "  return tf.train.Feature(float_list=tf.train.FloatList(value=[value]))\n",
        "\n",
        "def _int64_feature(value):\n",
        "  \"\"\"Returns an int64_list from a bool / enum / int / uint.\"\"\"\n",
        "  return tf.train.Feature(int64_list=tf.train.Int64List(value=[value]))"
      ],
      "execution_count": 6,
      "outputs": []
    },
    {
      "cell_type": "code",
      "metadata": {
        "id": "FU3p1ItqLhu_",
        "colab": {
          "base_uri": "https://localhost:8080/"
        },
        "outputId": "cef12858-890b-4b04-c582-2a9ef42b57fe"
      },
      "source": [
        "tokenizer = BertTokenizer.from_pretrained('bert-base-uncased',do_lower_case=True)\n",
        "\n",
        "tfrecords_filename = '/content/drive/MyDrive/abnormal-distribution-project-data/compustat_keydev/keydev.tfrecords'\n",
        "writer = tf.io.TFRecordWriter(tfrecords_filename)\n",
        "\n",
        "for idx in tqdm(range(len(df_final))):\n",
        "  keydev_token = tokenizer.encode_plus(df_final.iloc[idx]['situation'],\n",
        "                                       add_special_tokens = True, # add [CLS], [SEP]\n",
        "                                       max_length = 512, \n",
        "                                       padding='max_length',\n",
        "                                       return_attention_mask = True, # add attention mask to not focus on pad tokens\n",
        "                                       truncation='longest_first',\n",
        "                                       return_tensors=\"tf\")\n",
        "  \n",
        "  keydev_input = keydev_token['input_ids'].numpy().tostring()\n",
        "  keydev_token_type = keydev_token['token_type_ids'].numpy().tostring()\n",
        "  keydev_attention = keydev_token['attention_mask'].numpy().tostring()\n",
        "\n",
        "  ticker = df_final.iloc[idx]['ticker']\n",
        "  datetime = df_final.iloc[idx]['datetime']\n",
        "\n",
        "  # Create tf.train.Example\n",
        "  feature={\n",
        "      'ticker': _bytes_feature(ticker.encode('utf-8')), \n",
        "      'datetime' : _bytes_feature(datetime.encode('utf-8')),\n",
        "      'keydev_input_ids': _bytes_feature(keydev_input),\n",
        "      'keydev_token_type_ids': _bytes_feature(keydev_token_type),\n",
        "      'keydev_attention_mask': _bytes_feature(keydev_attention)\n",
        "  }\n",
        "\n",
        "  features=tf.train.Features(feature=feature)\n",
        "  example = tf.train.Example(features=features)\n",
        "\n",
        "  # Wrtie the TFRecord\n",
        "  writer.write(example.SerializeToString())\n",
        "\n",
        "# Close the TFRecord file\n",
        "writer.close()"
      ],
      "execution_count": 25,
      "outputs": [
        {
          "output_type": "stream",
          "text": [
            "100%|██████████| 954166/954166 [47:30<00:00, 334.77it/s]\n"
          ],
          "name": "stderr"
        }
      ]
    },
    {
      "cell_type": "markdown",
      "metadata": {
        "id": "VqU0JwbQa6Gp"
      },
      "source": [
        "## Build Pipeline"
      ]
    },
    {
      "cell_type": "code",
      "metadata": {
        "colab": {
          "base_uri": "https://localhost:8080/"
        },
        "id": "YcnsKGb9QaY1",
        "outputId": "5869a8ff-5676-4a68-bd08-755f6827ca44"
      },
      "source": [
        "filenames = ['/content/drive/MyDrive/abnormal-distribution-project-data/compustat_keydev/keydev.tfrecords']\n",
        "raw_dataset = tf.data.TFRecordDataset(filenames)\n",
        "\n",
        "for raw_record in raw_dataset.take(1):\n",
        "    example = tf.train.Example()\n",
        "    example.ParseFromString(raw_record.numpy())\n",
        "    # print(example)\n",
        "\n",
        "\n",
        "def _parse_feature_function(example_proto):\n",
        "  # Create a dictionary describing the features.\n",
        "  raw_features={\n",
        "      'ticker': tf.io.FixedLenFeature([], tf.string), \n",
        "      'datetime' : tf.io.FixedLenFeature([], tf.string),\n",
        "      'keydev_input_ids': tf.io.FixedLenFeature([], tf.string),\n",
        "      'keydev_token_type_ids': tf.io.FixedLenFeature([], tf.string),\n",
        "      'keydev_attention_mask': tf.io.FixedLenFeature([], tf.string)\n",
        "  }\n",
        "\n",
        "  # Parse the input tf.train.Example proto using the dictionary above.\n",
        "  return tf.io.parse_single_example(example_proto, raw_features)\n",
        "\n",
        "parsed_dataset = raw_dataset.map(_parse_feature_function)\n",
        "parsed_dataset"
      ],
      "execution_count": 26,
      "outputs": [
        {
          "output_type": "execute_result",
          "data": {
            "text/plain": [
              "<MapDataset shapes: {datetime: (), keydev_attention_mask: (), keydev_input_ids: (), keydev_token_type_ids: (), ticker: ()}, types: {datetime: tf.string, keydev_attention_mask: tf.string, keydev_input_ids: tf.string, keydev_token_type_ids: tf.string, ticker: tf.string}>"
            ]
          },
          "metadata": {
            "tags": []
          },
          "execution_count": 26
        }
      ]
    },
    {
      "cell_type": "code",
      "metadata": {
        "colab": {
          "base_uri": "https://localhost:8080/"
        },
        "id": "5LrOI1sEbcOb",
        "outputId": "dfb3cf18-f249-4c8c-b56c-978684dd6002"
      },
      "source": [
        "i = 0\n",
        "for feature in parsed_dataset:\n",
        "    i += 1\n",
        "    print(feature['ticker'])\n",
        "    print(feature['datetime'])\n",
        "    if i > 10:\n",
        "        break"
      ],
      "execution_count": 28,
      "outputs": [
        {
          "output_type": "stream",
          "text": [
            "tf.Tensor(b'ALB', shape=(), dtype=string)\n",
            "tf.Tensor(b'2003-04-23 12:00:00 AM', shape=(), dtype=string)\n",
            "tf.Tensor(b'T', shape=(), dtype=string)\n",
            "tf.Tensor(b'2003-01-31 12:00:00 AM', shape=(), dtype=string)\n",
            "tf.Tensor(b'BHI', shape=(), dtype=string)\n",
            "tf.Tensor(b'2003-02-13 12:00:00 AM', shape=(), dtype=string)\n",
            "tf.Tensor(b'BAC', shape=(), dtype=string)\n",
            "tf.Tensor(b'2003-05-18 12:00:00 AM', shape=(), dtype=string)\n",
            "tf.Tensor(b'TFC', shape=(), dtype=string)\n",
            "tf.Tensor(b'2003-04-24 12:00:00 AM', shape=(), dtype=string)\n",
            "tf.Tensor(b'TGNA', shape=(), dtype=string)\n",
            "tf.Tensor(b'2003-06-02 12:00:00 AM', shape=(), dtype=string)\n",
            "tf.Tensor(b'GDT', shape=(), dtype=string)\n",
            "tf.Tensor(b'2003-05-05 12:00:00 AM', shape=(), dtype=string)\n",
            "tf.Tensor(b'INTU', shape=(), dtype=string)\n",
            "tf.Tensor(b'2003-05-14 12:00:00 AM', shape=(), dtype=string)\n",
            "tf.Tensor(b'MSFT', shape=(), dtype=string)\n",
            "tf.Tensor(b'2003-03-02 12:00:00 AM', shape=(), dtype=string)\n",
            "tf.Tensor(b'ORCL', shape=(), dtype=string)\n",
            "tf.Tensor(b'2003-08-07 12:00:00 AM', shape=(), dtype=string)\n",
            "tf.Tensor(b'AMCC', shape=(), dtype=string)\n",
            "tf.Tensor(b'2003-08-28 12:00:00 AM', shape=(), dtype=string)\n"
          ],
          "name": "stdout"
        }
      ]
    },
    {
      "cell_type": "code",
      "metadata": {
        "id": "-gXn2N5Dbl08"
      },
      "source": [
        "AUTOTUNE = tf.data.experimental.AUTOTUNE\n",
        "batch_size=64\n",
        "\n",
        "# Structure the data for training\n",
        "def structure_data(data):  \n",
        "\n",
        "  # ticker = data['ticker'] \n",
        "  # dates = data['datetime'] \n",
        "\n",
        "  keydev_input = tf.io.decode_raw(data['keydev_input_ids'], tf.int32)\n",
        "  keydev_token = tf.io.decode_raw(data['keydev_token_type_ids'], tf.int32)\n",
        "  keydev_attention = tf.io.decode_raw(data['keydev_attention_mask'], tf.int32)\n",
        "\n",
        "  return (keydev_input, keydev_token, keydev_attention)\n",
        "  \n",
        "  # target_return = ... #TODO\n",
        "  # return ((keydev_input, keydev_token, keydev_attention), target_return )\n",
        "\n",
        "\n",
        "tfrecords_pattern_path = '/content/drive/MyDrive/abnormal-distribution-project-data/compustat_keydev/keydev.tfrecords'\n",
        "train_files = tf.io.matching_files(tfrecords_pattern_path)\n",
        "train_files = tf.random.shuffle(train_files)\n",
        "train_dataset = tf.data.Dataset.from_tensor_slices(train_files)\n",
        "\n",
        "train = train_dataset.interleave(tf.data.TFRecordDataset)\n",
        "train = train.map(_parse_feature_function, num_parallel_calls=AUTOTUNE)\n",
        "train = train.map(structure_data, num_parallel_calls=AUTOTUNE)\n",
        "train = train.batch(batch_size)"
      ],
      "execution_count": 29,
      "outputs": []
    },
    {
      "cell_type": "code",
      "metadata": {
        "colab": {
          "base_uri": "https://localhost:8080/"
        },
        "id": "Bo6MZ7Ibb808",
        "outputId": "38e92cc1-76d2-4c2d-f218-464e8e67c9f4"
      },
      "source": [
        "sample_data = []\n",
        "for data in train.take(1):\n",
        "  sample_data.append(data)\n",
        "\n",
        "sample_data[0]"
      ],
      "execution_count": 30,
      "outputs": [
        {
          "output_type": "execute_result",
          "data": {
            "text/plain": [
              "(<tf.Tensor: shape=(64, 512), dtype=int32, numpy=\n",
              " array([[ 101, 2632, 4783, ...,    0,    0,    0],\n",
              "        [ 101, 2012, 1004, ...,    0,    0,    0],\n",
              "        [ 101, 6243, 8099, ...,    0,    0,    0],\n",
              "        ...,\n",
              "        [ 101, 1058, 2546, ...,    0,    0,    0],\n",
              "        [ 101, 1058, 2546, ...,    0,    0,    0],\n",
              "        [ 101, 4054, 3361, ...,    0,    0,    0]], dtype=int32)>,\n",
              " <tf.Tensor: shape=(64, 512), dtype=int32, numpy=\n",
              " array([[0, 0, 0, ..., 0, 0, 0],\n",
              "        [0, 0, 0, ..., 0, 0, 0],\n",
              "        [0, 0, 0, ..., 0, 0, 0],\n",
              "        ...,\n",
              "        [0, 0, 0, ..., 0, 0, 0],\n",
              "        [0, 0, 0, ..., 0, 0, 0],\n",
              "        [0, 0, 0, ..., 0, 0, 0]], dtype=int32)>,\n",
              " <tf.Tensor: shape=(64, 512), dtype=int32, numpy=\n",
              " array([[1, 1, 1, ..., 0, 0, 0],\n",
              "        [1, 1, 1, ..., 0, 0, 0],\n",
              "        [1, 1, 1, ..., 0, 0, 0],\n",
              "        ...,\n",
              "        [1, 1, 1, ..., 0, 0, 0],\n",
              "        [1, 1, 1, ..., 0, 0, 0],\n",
              "        [1, 1, 1, ..., 0, 0, 0]], dtype=int32)>)"
            ]
          },
          "metadata": {
            "tags": []
          },
          "execution_count": 30
        }
      ]
    },
    {
      "cell_type": "code",
      "metadata": {
        "colab": {
          "base_uri": "https://localhost:8080/",
          "height": 1000,
          "referenced_widgets": [
            "d5e3c59e3b984ac19897ca9b31fcd63c",
            "e3475bc4359641178180ec98abb3ca7d",
            "a5a8d1cff6754a988630627d7d7b0bc3",
            "2a2dda2dc25e4cd6834c6533f51572a7",
            "29b945e5174a416bb45423ac92261021",
            "390cef4a0b114a7291262a2faa4c881a",
            "c4b7232db6c4442ab6b8c87532fc8f12",
            "e19bdb98b7114241b2c6d740840fbda9",
            "5603e4aceefb4946a82a1e0f50b29011",
            "a96f74bfe26a4d2186f851dc0195878d",
            "a7277ca9614a49c4b6c559ccec93a586",
            "6a01c17c6a15401783dfcc6a5145f40d",
            "4783366f627348b29cbbc279dd28c323",
            "9fb96b9a6e22418db1ed6a22882cf5e7",
            "a02f77b15c6f4e4dac1a39a0ef5ed142",
            "bd6668e526e0456ab5e022d4930d2d16"
          ]
        },
        "id": "YRe7TAGYb-5U",
        "outputId": "53489e93-cc5a-46ea-cb61-aa21d5266f78"
      },
      "source": [
        "bert = TFBertModel.from_pretrained('bert-base-uncased', return_dict=True)\n",
        "bert.trainable = False\n",
        "\n",
        "outputs = bert(sample_data[0][0], token_type_ids=sample_data[0][1], attention_mask=sample_data[0][2] )\n",
        "outputs"
      ],
      "execution_count": 31,
      "outputs": [
        {
          "output_type": "display_data",
          "data": {
            "application/vnd.jupyter.widget-view+json": {
              "model_id": "d5e3c59e3b984ac19897ca9b31fcd63c",
              "version_minor": 0,
              "version_major": 2
            },
            "text/plain": [
              "HBox(children=(FloatProgress(value=0.0, description='Downloading', max=433.0, style=ProgressStyle(description_…"
            ]
          },
          "metadata": {
            "tags": []
          }
        },
        {
          "output_type": "stream",
          "text": [
            "\n"
          ],
          "name": "stdout"
        },
        {
          "output_type": "display_data",
          "data": {
            "application/vnd.jupyter.widget-view+json": {
              "model_id": "5603e4aceefb4946a82a1e0f50b29011",
              "version_minor": 0,
              "version_major": 2
            },
            "text/plain": [
              "HBox(children=(FloatProgress(value=0.0, description='Downloading', max=536063208.0, style=ProgressStyle(descri…"
            ]
          },
          "metadata": {
            "tags": []
          }
        },
        {
          "output_type": "stream",
          "text": [
            "\n"
          ],
          "name": "stdout"
        },
        {
          "output_type": "stream",
          "text": [
            "Some layers from the model checkpoint at bert-base-uncased were not used when initializing TFBertModel: ['nsp___cls', 'mlm___cls']\n",
            "- This IS expected if you are initializing TFBertModel from the checkpoint of a model trained on another task or with another architecture (e.g. initializing a BertForSequenceClassification model from a BertForPreTraining model).\n",
            "- This IS NOT expected if you are initializing TFBertModel from the checkpoint of a model that you expect to be exactly identical (initializing a BertForSequenceClassification model from a BertForSequenceClassification model).\n",
            "All the layers of TFBertModel were initialized from the model checkpoint at bert-base-uncased.\n",
            "If your task is similar to the task the model of the checkpoint was trained on, you can already use TFBertModel for predictions without further training.\n"
          ],
          "name": "stderr"
        },
        {
          "output_type": "execute_result",
          "data": {
            "text/plain": [
              "TFBaseModelOutputWithPooling([('last_hidden_state',\n",
              "                               <tf.Tensor: shape=(64, 512, 768), dtype=float32, numpy=\n",
              "                               array([[[-6.50838196e-01, -4.02279258e-01, -2.66591251e-01, ...,\n",
              "                                         1.17674023e-02,  3.53079796e-01,  1.42342851e-01],\n",
              "                                       [ 6.67687505e-02, -8.47910583e-01,  6.81452900e-02, ...,\n",
              "                                         5.35668731e-01,  9.05085325e-01,  6.01927161e-01],\n",
              "                                       [-8.35709870e-01, -6.63076103e-01,  7.72161365e-01, ...,\n",
              "                                        -9.60879326e-02,  5.11749685e-01,  3.83423686e-01],\n",
              "                                       ...,\n",
              "                                       [-6.01221502e-01, -6.55887723e-01, -2.47013122e-01, ...,\n",
              "                                         4.90899622e-01,  3.91430378e-01, -6.15401328e-01],\n",
              "                                       [-2.63597012e-01, -1.59181669e-01, -9.04598832e-02, ...,\n",
              "                                         6.00484610e-01,  3.07104409e-01, -4.10008788e-01],\n",
              "                                       [-2.21569344e-01, -1.48135141e-01, -9.72424448e-02, ...,\n",
              "                                         7.08984017e-01,  4.06267673e-01, -3.17769706e-01]],\n",
              "                               \n",
              "                                      [[-4.40679193e-01, -4.38155234e-01, -1.17139101e-01, ...,\n",
              "                                        -6.27985299e-02,  2.99411029e-01,  2.48281315e-01],\n",
              "                                       [ 3.61321747e-01, -3.31670493e-02, -4.02950555e-01, ...,\n",
              "                                         4.12716120e-01,  6.98117495e-01,  4.88258779e-01],\n",
              "                                       [ 1.26327455e+00, -1.82546943e-01,  3.41007143e-01, ...,\n",
              "                                         8.55296195e-01,  1.06499219e+00, -1.48769850e-02],\n",
              "                                       ...,\n",
              "                                       [ 1.82744116e-01, -9.51283351e-02,  1.88809544e-01, ...,\n",
              "                                         2.22036898e-01,  2.24641860e-01,  2.52984930e-02],\n",
              "                                       [ 2.22658977e-01, -1.37854099e-01,  2.24385291e-01, ...,\n",
              "                                         3.15780789e-01,  2.73391426e-01, -2.09673159e-02],\n",
              "                                       [-3.53397101e-01, -4.76438135e-01, -1.37049779e-02, ...,\n",
              "                                         6.17963791e-01,  3.48642200e-01, -2.90848047e-01]],\n",
              "                               \n",
              "                                      [[-7.04679847e-01, -1.80026233e-01, -1.94310486e-01, ...,\n",
              "                                        -1.22097470e-01,  3.28943312e-01,  1.22280523e-01],\n",
              "                                       [ 5.70341758e-02,  2.63545156e-01, -6.90815985e-01, ...,\n",
              "                                        -9.96867269e-02,  7.16333270e-01,  1.27626769e-03],\n",
              "                                       [ 4.14618760e-01, -1.43885434e-01, -4.13176596e-01, ...,\n",
              "                                        -2.55542308e-01,  1.16508079e+00, -2.78062493e-01],\n",
              "                                       ...,\n",
              "                                       [-3.56383502e-01,  1.17794955e-02, -1.03820860e-03, ...,\n",
              "                                         4.80878651e-01,  3.62096667e-01, -5.55607021e-01],\n",
              "                                       [-4.45590556e-01, -1.03343621e-01, -1.99008226e-01, ...,\n",
              "                                         5.53667367e-01,  4.71889645e-01, -4.86054689e-01],\n",
              "                                       [-3.93315256e-01, -9.90452766e-02, -2.11519420e-01, ...,\n",
              "                                         4.81708169e-01,  5.47073901e-01, -4.53203231e-01]],\n",
              "                               \n",
              "                                      ...,\n",
              "                               \n",
              "                                      [[-2.43173912e-01, -1.21439174e-01, -1.82648197e-01, ...,\n",
              "                                        -6.96440116e-02,  3.79306793e-01, -1.16141364e-01],\n",
              "                                       [ 1.05061555e+00, -8.93212318e-01,  8.43248487e-01, ...,\n",
              "                                         7.30366647e-01,  1.20502710e+00,  4.89249498e-01],\n",
              "                                       [ 7.28097796e-01,  1.12980576e-02,  8.99739087e-01, ...,\n",
              "                                         1.31110802e-01,  2.08674878e-01, -2.64409751e-01],\n",
              "                                       ...,\n",
              "                                       [ 5.00840619e-02, -2.74531692e-01,  3.40498567e-01, ...,\n",
              "                                        -1.01999268e-01,  2.43815929e-01, -2.35806823e-01],\n",
              "                                       [-7.69361705e-02, -4.59747732e-01,  2.14587212e-01, ...,\n",
              "                                         3.85590881e-01,  1.98223084e-01, -5.47337472e-01],\n",
              "                                       [ 1.03681631e-01, -4.25692528e-01,  3.87499243e-01, ...,\n",
              "                                         4.26979244e-01,  3.02891821e-01, -5.39878190e-01]],\n",
              "                               \n",
              "                                      [[-6.52206838e-01, -3.86524945e-02, -4.46686894e-02, ...,\n",
              "                                         2.58293450e-02,  2.34148368e-01,  3.02399844e-02],\n",
              "                                       [ 7.73028791e-01, -7.62713313e-01,  3.81207407e-01, ...,\n",
              "                                         6.87030256e-01,  8.21997881e-01,  6.19254529e-01],\n",
              "                                       [ 1.51695043e-01, -6.04890883e-02,  4.79696423e-01, ...,\n",
              "                                         2.89139450e-01,  4.53089625e-01, -1.46351337e-01],\n",
              "                                       ...,\n",
              "                                       [-1.26328498e-01, -1.50252178e-01,  2.06315324e-01, ...,\n",
              "                                         5.74984789e-01,  2.82698810e-01, -2.85377741e-01],\n",
              "                                       [-1.43824384e-01, -3.54455382e-01,  1.41495302e-01, ...,\n",
              "                                         4.89276469e-01,  3.33412051e-01, -3.97426128e-01],\n",
              "                                       [ 2.38086693e-02, -2.55317509e-01,  3.40143889e-01, ...,\n",
              "                                         6.38341546e-01,  3.30378532e-01, -2.32604623e-01]],\n",
              "                               \n",
              "                                      [[-8.67745042e-01, -3.07244539e-01, -1.89410418e-01, ...,\n",
              "                                        -1.79038167e-01,  4.09952819e-01,  2.64312059e-01],\n",
              "                                       [-3.12676281e-01, -2.53520876e-01, -6.54087067e-02, ...,\n",
              "                                        -1.13300942e-01,  6.91770792e-01, -1.47815913e-01],\n",
              "                                       [-5.87703347e-01, -6.20992035e-02, -9.19382095e-01, ...,\n",
              "                                        -5.40136158e-01,  4.30249840e-01,  1.93081290e-01],\n",
              "                                       ...,\n",
              "                                       [-8.35049987e-01, -7.26737142e-01, -2.39570200e-01, ...,\n",
              "                                         5.24290204e-01,  4.78231609e-01, -6.11505449e-01],\n",
              "                                       [-7.53154695e-01, -6.59123302e-01, -1.62393242e-01, ...,\n",
              "                                         4.37286109e-01,  4.17426229e-01, -5.07389486e-01],\n",
              "                                       [-5.15038311e-01, -2.90628493e-01, -7.09864348e-02, ...,\n",
              "                                         3.30484927e-01,  2.82060564e-01, -4.13933635e-01]]],\n",
              "                                     dtype=float32)>),\n",
              "                              ('pooler_output',\n",
              "                               <tf.Tensor: shape=(64, 768), dtype=float32, numpy=\n",
              "                               array([[-0.87784773, -0.5359736 , -0.8674283 , ..., -0.5310161 ,\n",
              "                                       -0.6120211 ,  0.5852444 ],\n",
              "                                      [-0.8931057 , -0.47095042, -0.86573184, ..., -0.66519785,\n",
              "                                       -0.6445427 ,  0.72697043],\n",
              "                                      [-0.9273627 , -0.53929293, -0.9647456 , ..., -0.78622067,\n",
              "                                       -0.64884853,  0.78406596],\n",
              "                                      ...,\n",
              "                                      [-0.8535607 , -0.47524878, -0.9195279 , ..., -0.48913783,\n",
              "                                       -0.58292574,  0.72268   ],\n",
              "                                      [-0.8509703 , -0.40516338, -0.8675324 , ..., -0.5447209 ,\n",
              "                                       -0.5575396 ,  0.6730701 ],\n",
              "                                      [-0.8289722 , -0.50163406, -0.94280034, ..., -0.6901381 ,\n",
              "                                       -0.6156206 ,  0.62578666]], dtype=float32)>)])"
            ]
          },
          "metadata": {
            "tags": []
          },
          "execution_count": 31
        }
      ]
    },
    {
      "cell_type": "code",
      "metadata": {
        "colab": {
          "base_uri": "https://localhost:8080/"
        },
        "id": "tv2XikGycKHC",
        "outputId": "16070139-a079-4476-8cc3-f790b768c0a2"
      },
      "source": [
        "outputs[0]"
      ],
      "execution_count": 33,
      "outputs": [
        {
          "output_type": "execute_result",
          "data": {
            "text/plain": [
              "<tf.Tensor: shape=(64, 512, 768), dtype=float32, numpy=\n",
              "array([[[-6.50838196e-01, -4.02279258e-01, -2.66591251e-01, ...,\n",
              "          1.17674023e-02,  3.53079796e-01,  1.42342851e-01],\n",
              "        [ 6.67687505e-02, -8.47910583e-01,  6.81452900e-02, ...,\n",
              "          5.35668731e-01,  9.05085325e-01,  6.01927161e-01],\n",
              "        [-8.35709870e-01, -6.63076103e-01,  7.72161365e-01, ...,\n",
              "         -9.60879326e-02,  5.11749685e-01,  3.83423686e-01],\n",
              "        ...,\n",
              "        [-6.01221502e-01, -6.55887723e-01, -2.47013122e-01, ...,\n",
              "          4.90899622e-01,  3.91430378e-01, -6.15401328e-01],\n",
              "        [-2.63597012e-01, -1.59181669e-01, -9.04598832e-02, ...,\n",
              "          6.00484610e-01,  3.07104409e-01, -4.10008788e-01],\n",
              "        [-2.21569344e-01, -1.48135141e-01, -9.72424448e-02, ...,\n",
              "          7.08984017e-01,  4.06267673e-01, -3.17769706e-01]],\n",
              "\n",
              "       [[-4.40679193e-01, -4.38155234e-01, -1.17139101e-01, ...,\n",
              "         -6.27985299e-02,  2.99411029e-01,  2.48281315e-01],\n",
              "        [ 3.61321747e-01, -3.31670493e-02, -4.02950555e-01, ...,\n",
              "          4.12716120e-01,  6.98117495e-01,  4.88258779e-01],\n",
              "        [ 1.26327455e+00, -1.82546943e-01,  3.41007143e-01, ...,\n",
              "          8.55296195e-01,  1.06499219e+00, -1.48769850e-02],\n",
              "        ...,\n",
              "        [ 1.82744116e-01, -9.51283351e-02,  1.88809544e-01, ...,\n",
              "          2.22036898e-01,  2.24641860e-01,  2.52984930e-02],\n",
              "        [ 2.22658977e-01, -1.37854099e-01,  2.24385291e-01, ...,\n",
              "          3.15780789e-01,  2.73391426e-01, -2.09673159e-02],\n",
              "        [-3.53397101e-01, -4.76438135e-01, -1.37049779e-02, ...,\n",
              "          6.17963791e-01,  3.48642200e-01, -2.90848047e-01]],\n",
              "\n",
              "       [[-7.04679847e-01, -1.80026233e-01, -1.94310486e-01, ...,\n",
              "         -1.22097470e-01,  3.28943312e-01,  1.22280523e-01],\n",
              "        [ 5.70341758e-02,  2.63545156e-01, -6.90815985e-01, ...,\n",
              "         -9.96867269e-02,  7.16333270e-01,  1.27626769e-03],\n",
              "        [ 4.14618760e-01, -1.43885434e-01, -4.13176596e-01, ...,\n",
              "         -2.55542308e-01,  1.16508079e+00, -2.78062493e-01],\n",
              "        ...,\n",
              "        [-3.56383502e-01,  1.17794955e-02, -1.03820860e-03, ...,\n",
              "          4.80878651e-01,  3.62096667e-01, -5.55607021e-01],\n",
              "        [-4.45590556e-01, -1.03343621e-01, -1.99008226e-01, ...,\n",
              "          5.53667367e-01,  4.71889645e-01, -4.86054689e-01],\n",
              "        [-3.93315256e-01, -9.90452766e-02, -2.11519420e-01, ...,\n",
              "          4.81708169e-01,  5.47073901e-01, -4.53203231e-01]],\n",
              "\n",
              "       ...,\n",
              "\n",
              "       [[-2.43173912e-01, -1.21439174e-01, -1.82648197e-01, ...,\n",
              "         -6.96440116e-02,  3.79306793e-01, -1.16141364e-01],\n",
              "        [ 1.05061555e+00, -8.93212318e-01,  8.43248487e-01, ...,\n",
              "          7.30366647e-01,  1.20502710e+00,  4.89249498e-01],\n",
              "        [ 7.28097796e-01,  1.12980576e-02,  8.99739087e-01, ...,\n",
              "          1.31110802e-01,  2.08674878e-01, -2.64409751e-01],\n",
              "        ...,\n",
              "        [ 5.00840619e-02, -2.74531692e-01,  3.40498567e-01, ...,\n",
              "         -1.01999268e-01,  2.43815929e-01, -2.35806823e-01],\n",
              "        [-7.69361705e-02, -4.59747732e-01,  2.14587212e-01, ...,\n",
              "          3.85590881e-01,  1.98223084e-01, -5.47337472e-01],\n",
              "        [ 1.03681631e-01, -4.25692528e-01,  3.87499243e-01, ...,\n",
              "          4.26979244e-01,  3.02891821e-01, -5.39878190e-01]],\n",
              "\n",
              "       [[-6.52206838e-01, -3.86524945e-02, -4.46686894e-02, ...,\n",
              "          2.58293450e-02,  2.34148368e-01,  3.02399844e-02],\n",
              "        [ 7.73028791e-01, -7.62713313e-01,  3.81207407e-01, ...,\n",
              "          6.87030256e-01,  8.21997881e-01,  6.19254529e-01],\n",
              "        [ 1.51695043e-01, -6.04890883e-02,  4.79696423e-01, ...,\n",
              "          2.89139450e-01,  4.53089625e-01, -1.46351337e-01],\n",
              "        ...,\n",
              "        [-1.26328498e-01, -1.50252178e-01,  2.06315324e-01, ...,\n",
              "          5.74984789e-01,  2.82698810e-01, -2.85377741e-01],\n",
              "        [-1.43824384e-01, -3.54455382e-01,  1.41495302e-01, ...,\n",
              "          4.89276469e-01,  3.33412051e-01, -3.97426128e-01],\n",
              "        [ 2.38086693e-02, -2.55317509e-01,  3.40143889e-01, ...,\n",
              "          6.38341546e-01,  3.30378532e-01, -2.32604623e-01]],\n",
              "\n",
              "       [[-8.67745042e-01, -3.07244539e-01, -1.89410418e-01, ...,\n",
              "         -1.79038167e-01,  4.09952819e-01,  2.64312059e-01],\n",
              "        [-3.12676281e-01, -2.53520876e-01, -6.54087067e-02, ...,\n",
              "         -1.13300942e-01,  6.91770792e-01, -1.47815913e-01],\n",
              "        [-5.87703347e-01, -6.20992035e-02, -9.19382095e-01, ...,\n",
              "         -5.40136158e-01,  4.30249840e-01,  1.93081290e-01],\n",
              "        ...,\n",
              "        [-8.35049987e-01, -7.26737142e-01, -2.39570200e-01, ...,\n",
              "          5.24290204e-01,  4.78231609e-01, -6.11505449e-01],\n",
              "        [-7.53154695e-01, -6.59123302e-01, -1.62393242e-01, ...,\n",
              "          4.37286109e-01,  4.17426229e-01, -5.07389486e-01],\n",
              "        [-5.15038311e-01, -2.90628493e-01, -7.09864348e-02, ...,\n",
              "          3.30484927e-01,  2.82060564e-01, -4.13933635e-01]]],\n",
              "      dtype=float32)>"
            ]
          },
          "metadata": {
            "tags": []
          },
          "execution_count": 33
        }
      ]
    },
    {
      "cell_type": "code",
      "metadata": {
        "colab": {
          "base_uri": "https://localhost:8080/"
        },
        "id": "8SpZ1VtZdCBu",
        "outputId": "d6a7c053-27ea-4724-89c2-d599250b4e7c"
      },
      "source": [
        "outputs[1]"
      ],
      "execution_count": 36,
      "outputs": [
        {
          "output_type": "execute_result",
          "data": {
            "text/plain": [
              "<tf.Tensor: shape=(64, 768), dtype=float32, numpy=\n",
              "array([[-0.87784773, -0.5359736 , -0.8674283 , ..., -0.5310161 ,\n",
              "        -0.6120211 ,  0.5852444 ],\n",
              "       [-0.8931057 , -0.47095042, -0.86573184, ..., -0.66519785,\n",
              "        -0.6445427 ,  0.72697043],\n",
              "       [-0.9273627 , -0.53929293, -0.9647456 , ..., -0.78622067,\n",
              "        -0.64884853,  0.78406596],\n",
              "       ...,\n",
              "       [-0.8535607 , -0.47524878, -0.9195279 , ..., -0.48913783,\n",
              "        -0.58292574,  0.72268   ],\n",
              "       [-0.8509703 , -0.40516338, -0.8675324 , ..., -0.5447209 ,\n",
              "        -0.5575396 ,  0.6730701 ],\n",
              "       [-0.8289722 , -0.50163406, -0.94280034, ..., -0.6901381 ,\n",
              "        -0.6156206 ,  0.62578666]], dtype=float32)>"
            ]
          },
          "metadata": {
            "tags": []
          },
          "execution_count": 36
        }
      ]
    },
    {
      "cell_type": "code",
      "metadata": {
        "id": "raHzV_gtdH5w"
      },
      "source": [
        ""
      ],
      "execution_count": null,
      "outputs": []
    }
  ]
}