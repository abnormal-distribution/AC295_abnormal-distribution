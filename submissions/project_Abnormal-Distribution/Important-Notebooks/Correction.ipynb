{
  "nbformat": 4,
  "nbformat_minor": 0,
  "metadata": {
    "colab": {
      "name": "Correction.ipynb",
      "provenance": [],
      "collapsed_sections": []
    },
    "kernelspec": {
      "name": "python3",
      "display_name": "Python 3"
    },
    "widgets": {
      "application/vnd.jupyter.widget-state+json": {
        "ff39c0c90dd549ca86f5fbd3a734dc4e": {
          "model_module": "@jupyter-widgets/controls",
          "model_name": "HBoxModel",
          "state": {
            "_view_name": "HBoxView",
            "_dom_classes": [],
            "_model_name": "HBoxModel",
            "_view_module": "@jupyter-widgets/controls",
            "_model_module_version": "1.5.0",
            "_view_count": null,
            "_view_module_version": "1.5.0",
            "box_style": "",
            "layout": "IPY_MODEL_6479b38980b64ee7aa8bbc8357b9ec93",
            "_model_module": "@jupyter-widgets/controls",
            "children": [
              "IPY_MODEL_545b88fa9f6b491ea54f4e44ec123cc5",
              "IPY_MODEL_c5c2189870814f008f6c481d3bf42492"
            ]
          }
        },
        "6479b38980b64ee7aa8bbc8357b9ec93": {
          "model_module": "@jupyter-widgets/base",
          "model_name": "LayoutModel",
          "state": {
            "_view_name": "LayoutView",
            "grid_template_rows": null,
            "right": null,
            "justify_content": null,
            "_view_module": "@jupyter-widgets/base",
            "overflow": null,
            "_model_module_version": "1.2.0",
            "_view_count": null,
            "flex_flow": null,
            "width": null,
            "min_width": null,
            "border": null,
            "align_items": null,
            "bottom": null,
            "_model_module": "@jupyter-widgets/base",
            "top": null,
            "grid_column": null,
            "overflow_y": null,
            "overflow_x": null,
            "grid_auto_flow": null,
            "grid_area": null,
            "grid_template_columns": null,
            "flex": null,
            "_model_name": "LayoutModel",
            "justify_items": null,
            "grid_row": null,
            "max_height": null,
            "align_content": null,
            "visibility": null,
            "align_self": null,
            "height": null,
            "min_height": null,
            "padding": null,
            "grid_auto_rows": null,
            "grid_gap": null,
            "max_width": null,
            "order": null,
            "_view_module_version": "1.2.0",
            "grid_template_areas": null,
            "object_position": null,
            "object_fit": null,
            "grid_auto_columns": null,
            "margin": null,
            "display": null,
            "left": null
          }
        },
        "545b88fa9f6b491ea54f4e44ec123cc5": {
          "model_module": "@jupyter-widgets/controls",
          "model_name": "FloatProgressModel",
          "state": {
            "_view_name": "ProgressView",
            "style": "IPY_MODEL_ba722133f2bb4c20832e6417acd0f4c6",
            "_dom_classes": [],
            "description": "",
            "_model_name": "FloatProgressModel",
            "bar_style": "success",
            "max": 1,
            "_view_module": "@jupyter-widgets/controls",
            "_model_module_version": "1.5.0",
            "value": 1,
            "_view_count": null,
            "_view_module_version": "1.5.0",
            "orientation": "horizontal",
            "min": 0,
            "description_tooltip": null,
            "_model_module": "@jupyter-widgets/controls",
            "layout": "IPY_MODEL_4b3da7097d4c403aa1ed899f027c4b31"
          }
        },
        "c5c2189870814f008f6c481d3bf42492": {
          "model_module": "@jupyter-widgets/controls",
          "model_name": "HTMLModel",
          "state": {
            "_view_name": "HTMLView",
            "style": "IPY_MODEL_0932263cb30b494a950359d6f0444c04",
            "_dom_classes": [],
            "description": "",
            "_model_name": "HTMLModel",
            "placeholder": "​",
            "_view_module": "@jupyter-widgets/controls",
            "_model_module_version": "1.5.0",
            "value": " 10311/? [2:01:41&lt;00:00,  1.41it/s]",
            "_view_count": null,
            "_view_module_version": "1.5.0",
            "description_tooltip": null,
            "_model_module": "@jupyter-widgets/controls",
            "layout": "IPY_MODEL_29bf2c1feed340dda7f556f4022feb68"
          }
        },
        "ba722133f2bb4c20832e6417acd0f4c6": {
          "model_module": "@jupyter-widgets/controls",
          "model_name": "ProgressStyleModel",
          "state": {
            "_view_name": "StyleView",
            "_model_name": "ProgressStyleModel",
            "description_width": "initial",
            "_view_module": "@jupyter-widgets/base",
            "_model_module_version": "1.5.0",
            "_view_count": null,
            "_view_module_version": "1.2.0",
            "bar_color": null,
            "_model_module": "@jupyter-widgets/controls"
          }
        },
        "4b3da7097d4c403aa1ed899f027c4b31": {
          "model_module": "@jupyter-widgets/base",
          "model_name": "LayoutModel",
          "state": {
            "_view_name": "LayoutView",
            "grid_template_rows": null,
            "right": null,
            "justify_content": null,
            "_view_module": "@jupyter-widgets/base",
            "overflow": null,
            "_model_module_version": "1.2.0",
            "_view_count": null,
            "flex_flow": null,
            "width": null,
            "min_width": null,
            "border": null,
            "align_items": null,
            "bottom": null,
            "_model_module": "@jupyter-widgets/base",
            "top": null,
            "grid_column": null,
            "overflow_y": null,
            "overflow_x": null,
            "grid_auto_flow": null,
            "grid_area": null,
            "grid_template_columns": null,
            "flex": null,
            "_model_name": "LayoutModel",
            "justify_items": null,
            "grid_row": null,
            "max_height": null,
            "align_content": null,
            "visibility": null,
            "align_self": null,
            "height": null,
            "min_height": null,
            "padding": null,
            "grid_auto_rows": null,
            "grid_gap": null,
            "max_width": null,
            "order": null,
            "_view_module_version": "1.2.0",
            "grid_template_areas": null,
            "object_position": null,
            "object_fit": null,
            "grid_auto_columns": null,
            "margin": null,
            "display": null,
            "left": null
          }
        },
        "0932263cb30b494a950359d6f0444c04": {
          "model_module": "@jupyter-widgets/controls",
          "model_name": "DescriptionStyleModel",
          "state": {
            "_view_name": "StyleView",
            "_model_name": "DescriptionStyleModel",
            "description_width": "",
            "_view_module": "@jupyter-widgets/base",
            "_model_module_version": "1.5.0",
            "_view_count": null,
            "_view_module_version": "1.2.0",
            "_model_module": "@jupyter-widgets/controls"
          }
        },
        "29bf2c1feed340dda7f556f4022feb68": {
          "model_module": "@jupyter-widgets/base",
          "model_name": "LayoutModel",
          "state": {
            "_view_name": "LayoutView",
            "grid_template_rows": null,
            "right": null,
            "justify_content": null,
            "_view_module": "@jupyter-widgets/base",
            "overflow": null,
            "_model_module_version": "1.2.0",
            "_view_count": null,
            "flex_flow": null,
            "width": null,
            "min_width": null,
            "border": null,
            "align_items": null,
            "bottom": null,
            "_model_module": "@jupyter-widgets/base",
            "top": null,
            "grid_column": null,
            "overflow_y": null,
            "overflow_x": null,
            "grid_auto_flow": null,
            "grid_area": null,
            "grid_template_columns": null,
            "flex": null,
            "_model_name": "LayoutModel",
            "justify_items": null,
            "grid_row": null,
            "max_height": null,
            "align_content": null,
            "visibility": null,
            "align_self": null,
            "height": null,
            "min_height": null,
            "padding": null,
            "grid_auto_rows": null,
            "grid_gap": null,
            "max_width": null,
            "order": null,
            "_view_module_version": "1.2.0",
            "grid_template_areas": null,
            "object_position": null,
            "object_fit": null,
            "grid_auto_columns": null,
            "margin": null,
            "display": null,
            "left": null
          }
        }
      }
    }
  },
  "cells": [
    {
      "cell_type": "code",
      "metadata": {
        "colab": {
          "base_uri": "https://localhost:8080/"
        },
        "id": "hxfv9r-B92EY",
        "outputId": "2b3cc247-738f-4ca2-ead3-7fc5268f35d6"
      },
      "source": [
        "from google.colab import drive\n",
        "\n",
        "drive.mount('/content/drive', force_remount=False)"
      ],
      "execution_count": 1,
      "outputs": [
        {
          "output_type": "stream",
          "text": [
            "Mounted at /content/drive\n"
          ],
          "name": "stdout"
        }
      ]
    },
    {
      "cell_type": "code",
      "metadata": {
        "id": "D8p1y8MR9n4c"
      },
      "source": [
        "import glob\n",
        "import os\n",
        "\n",
        "import pandas as pd\n",
        "import numpy as np\n",
        "\n",
        "from tqdm.notebook import tqdm, trange"
      ],
      "execution_count": 2,
      "outputs": []
    },
    {
      "cell_type": "code",
      "metadata": {
        "id": "gOM-qu6l9tFF"
      },
      "source": [
        "TEST_PATH = '/content/drive/MyDrive/abnormal-distribution-project-data/fin-BERT_HS/test'\n",
        "TRAIN_PATH = '/content/drive/MyDrive/abnormal-distribution-project-data/fin-BERT_HS/train'\n",
        "VALID_PATH = '/content/drive/MyDrive/abnormal-distribution-project-data/fin-BERT_HS/valid'"
      ],
      "execution_count": 3,
      "outputs": []
    },
    {
      "cell_type": "code",
      "metadata": {
        "id": "CVhfOqgt9pN3"
      },
      "source": [
        "def read_csv(path):\n",
        "    df = pd.read_csv(path)\n",
        "    return df\n",
        "\n",
        "\n",
        "def correct_data(df):\n",
        "    col = df.columns\n",
        "    df[col[1]] = df[col[1]].str.strip(\"b\\'\\\"\")\n",
        "    df[col[2]] = df[col[2]].str.strip(\"b\\'\\\"\")\n",
        "    df2 = df[col[5]].str.strip(\"tf.Tensor(\\n[], shape=(768,), dtype=float32)\").str.split().apply(pd.Series).astype(np.float32).add_prefix(\"HS_\")\n",
        "    df.drop(col[5], axis=1, inplace=True)\n",
        "    df[col[6]] = df[col[6]].str.strip(\"tf.Tensor(\\n[], shape=(768,), dtype=float32)\").astype(np.float32)\n",
        "    df[col[7]] = df[col[7]].str.strip(\"tf.Tensor(\\n[], shape=(768,), dtype=float32)\").astype(np.float32)\n",
        "    df[col[8]] = df[col[8]].str.strip(\"tf.Tensor(\\n[], shape=(768,), dtype=float32)\").astype(np.float32)\n",
        "    df = pd.concat([df, df2], axis=1, sort=False)\n",
        "    return df\n",
        " \n",
        "   \n",
        "def get_files(path):\n",
        "    files = glob.glob(path+'/*.csv')\n",
        "    return files\n",
        "\n",
        "\n",
        "def get_concat_df(df_list):\n",
        "    df = pd.concat(df_list, axis=0)\n",
        "    return df\n",
        "\n",
        "\n",
        "def save_df (df, batch, path):\n",
        "    path = path + '/consolidated_{:05d}.csv'\n",
        "    path = path.format(batch)\n",
        "    df.to_csv(path, index=False)\n",
        "\n",
        "\n",
        "def delete_files(files):\n",
        "    for file in files:\n",
        "        os.remove(file)\n",
        "\n",
        "def run_correction(path):\n",
        "    files = get_files(path)\n",
        "    df_list = []\n",
        "    for i, file in tqdm(enumerate(files)):\n",
        "        i += 1\n",
        "        df = read_csv(file)\n",
        "        df_list.append(correct_data(df))\n",
        "        if i % 1000 == 0:\n",
        "            df = get_concat_df(df_list)\n",
        "            save_df(df, i//1000-1, path)\n",
        "            df_list = []\n",
        "    \n",
        "    if df_list != []:\n",
        "        df = get_concat_df(df_list)\n",
        "        save_df(df, i//1000, path)\n",
        "        df_list = []\n",
        "\n",
        "    return files"
      ],
      "execution_count": 4,
      "outputs": []
    },
    {
      "cell_type": "code",
      "metadata": {
        "id": "TMHlhdh8-vhK",
        "colab": {
          "base_uri": "https://localhost:8080/",
          "height": 66,
          "referenced_widgets": [
            "ff39c0c90dd549ca86f5fbd3a734dc4e",
            "6479b38980b64ee7aa8bbc8357b9ec93",
            "545b88fa9f6b491ea54f4e44ec123cc5",
            "c5c2189870814f008f6c481d3bf42492",
            "ba722133f2bb4c20832e6417acd0f4c6",
            "4b3da7097d4c403aa1ed899f027c4b31",
            "0932263cb30b494a950359d6f0444c04",
            "29bf2c1feed340dda7f556f4022feb68"
          ]
        },
        "outputId": "edea0007-320b-40e3-8d36-977c4b5ad001"
      },
      "source": [
        "files = run_correction(TRAIN_PATH)"
      ],
      "execution_count": 5,
      "outputs": [
        {
          "output_type": "display_data",
          "data": {
            "application/vnd.jupyter.widget-view+json": {
              "model_id": "ff39c0c90dd549ca86f5fbd3a734dc4e",
              "version_minor": 0,
              "version_major": 2
            },
            "text/plain": [
              "HBox(children=(FloatProgress(value=1.0, bar_style='info', max=1.0), HTML(value='')))"
            ]
          },
          "metadata": {
            "tags": []
          }
        },
        {
          "output_type": "stream",
          "text": [
            "\n"
          ],
          "name": "stdout"
        }
      ]
    },
    {
      "cell_type": "code",
      "metadata": {
        "id": "vEkaMB-o-3z2"
      },
      "source": [
        "delete_files(files)"
      ],
      "execution_count": 6,
      "outputs": []
    },
    {
      "cell_type": "code",
      "metadata": {
        "id": "_xrLyNS_W0kv"
      },
      "source": [
        ""
      ],
      "execution_count": null,
      "outputs": []
    }
  ]
}